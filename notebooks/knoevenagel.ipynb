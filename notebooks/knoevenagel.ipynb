{
 "cells": [
  {
   "cell_type": "markdown",
   "id": "c70bf775-82ac-4c3c-a1b5-23af5ec8fb3f",
   "metadata": {},
   "source": [
    "CPH 02/04/2022"
   ]
  },
  {
   "cell_type": "markdown",
   "id": "6a58324c-8e7a-44ca-9f39-dc6563ce81b0",
   "metadata": {
    "tags": []
   },
   "source": [
    "# MOCCA data analysis on Knoevenagel case study\n",
    "\n",
    "MOCCA is a tool for the analysis of *High-Performance Liquid Chromatography–Diode Array Detection* (HPLC–DAD) datasets which are recorded in the context of reaction (process) controls. It only uses HPLC–DAD raw data and some basic user input for the data analysis."
   ]
  },
  {
   "cell_type": "markdown",
   "id": "c9d2a04c-52f8-4e3f-bd9e-8a80fcee0302",
   "metadata": {},
   "source": [
    "## Reaction and case study background\n",
    "\n",
    "This case study was designed to verify that we get the same results when we are analyzing non-overlapping data manually compared to when we are using MOCCA. We perform four different Knoevenagel condensations in four HPLC vials directly in the autosampler of an Agilent LC system. For that, we use four different benzaldehydes (benzaldehyde, 4-chlorobenzaldehyde, 4-methoxybenzaldehyde, 4-dimethylaminobenzaldehyde) and malononitrile as substrates and piperidine as basic catalyst.\n",
    "\n",
    "To highlight MOCCA's decomposition capabilities of impure peaks, we compare the obtained results of the single reactions with results we recorded for a reaction mixture of all four single reactions (1:1:1:1)."
   ]
  },
  {
   "cell_type": "markdown",
   "id": "14bcad8c-907f-45e8-b0a6-8bb1b4f61865",
   "metadata": {},
   "source": [
    "## Imports"
   ]
  },
  {
   "cell_type": "code",
   "execution_count": 1,
   "id": "ff1b1321-02b7-4ffa-9bfd-76556f076ad0",
   "metadata": {},
   "outputs": [],
   "source": [
    "# folders handling\n",
    "import os\n",
    "from glob import glob\n",
    "\n",
    "# user interaction\n",
    "from mocca.user_interaction.campaign import HplcDadCampaign\n",
    "from mocca.user_interaction.user_objects import Gradient\n",
    "from mocca.user_interaction.user_objects import Compound\n",
    "from mocca.user_interaction.user_objects import InternalStandard\n",
    "from mocca.user_interaction.user_objects import HplcInput\n",
    "from mocca.user_interaction.settings import Settings\n",
    "\n",
    "# reporting\n",
    "from mocca.report.hplc_input import report_hplc_input\n",
    "from mocca.report.chroms import report_chroms\n",
    "from mocca.report.results import report_runs\n",
    "from mocca.report.parafac import report_parafac\n",
    "from mocca.report.peaks import report_peaks\n",
    "from mocca.report.quali_comps import report_quali_comps\n",
    "from mocca.report.quant_comps import report_quant_comps\n",
    "\n",
    "# customized data analysis\n",
    "import datetime\n",
    "import time\n",
    "\n",
    "%load_ext autoreload\n",
    "%autoreload 2"
   ]
  },
  {
   "cell_type": "markdown",
   "id": "66d85391-6b55-4309-9bfa-ccb97e84b8f9",
   "metadata": {},
   "source": [
    "## Knoevenagel data folder handling\n",
    "\n",
    "The data corresponding to this notebook can be found in mocca -> notebooks -> knoevenagel_data. The data was recorded on an Agilent system on two different days. Therefore, we have two different gradient runs."
   ]
  },
  {
   "cell_type": "code",
   "execution_count": 2,
   "id": "aa9e56ae-7937-44cb-939e-ebec3bf4ccc7",
   "metadata": {},
   "outputs": [],
   "source": [
    "# get path of this notebook\n",
    "ipynb_path = os.path.dirname(os.path.realpath(\"__file__\"))\n",
    "\n",
    "# add the path to the test data folder\n",
    "knoev_data_path = os.path.join(ipynb_path, \"knoevenagel_data\")\n",
    "\n",
    "# find all folders containing Agilent HPLC data (.D file extension)\n",
    "folders = glob(knoev_data_path + '/*' + '.D') \n",
    "folders = sorted(folders)"
   ]
  },
  {
   "cell_type": "code",
   "execution_count": 3,
   "id": "36a5d434-f4d2-46bb-acd1-4a7d484dbd8d",
   "metadata": {
    "tags": []
   },
   "outputs": [
    {
     "name": "stdout",
     "output_type": "stream",
     "text": [
      "2022-01-26_19-43-27_gradient.D\n",
      "2022-01-26_19-48-52_ba_1.D\n",
      "2022-01-26_19-54-51_ba_0.75.D\n",
      "2022-01-26_20-00-51_ba_0.5.D\n",
      "2022-01-26_20-06-51_ba_0,25.D\n",
      "2022-01-26_20-12-55_cl_1.D\n",
      "2022-01-26_20-18-55_cl_0.75.D\n",
      "2022-01-26_20-24-53_cl_0.5.D\n",
      "2022-01-26_20-30-51_cl_0,25.D\n",
      "2022-01-26_20-36-52_ome_1.D\n",
      "2022-01-26_20-43-08_ome_0.75.D\n",
      "2022-01-26_20-49-05_ome_0.5.D\n",
      "2022-01-26_20-55-06_ome_0,25.D\n",
      "2022-01-26_21-01-10_nme2_1.D\n",
      "2022-01-26_21-07-11_nme2_0.75.D\n",
      "2022-01-26_21-13-09_nme2_0.5.D\n",
      "2022-01-26_21-19-09_nme2_0,25.D\n",
      "2022-01-28_11-27-26_gradient.D\n",
      "2022-01-28_11-35-44_ba.D\n",
      "2022-01-28_11-41-59_cl.D\n",
      "2022-01-28_11-48-11_ome.D\n",
      "2022-01-28_11-54-24_nme2.D\n",
      "2022-01-28_12-00-35_mix.D\n",
      "2022-01-28_12-15-41_ba.D\n",
      "2022-01-28_12-21-55_cl.D\n",
      "2022-01-28_12-28-04_ome.D\n",
      "2022-01-28_12-34-15_nme2.D\n",
      "2022-01-28_12-40-25_mix.D\n",
      "2022-01-28_12-55-36_ba.D\n",
      "2022-01-28_13-01-48_cl.D\n",
      "2022-01-28_13-07-56_ome.D\n",
      "2022-01-28_13-14-06_nme2.D\n",
      "2022-01-28_13-20-16_mix.D\n",
      "2022-01-28_13-35-23_ba.D\n",
      "2022-01-28_13-41-37_cl.D\n",
      "2022-01-28_13-47-47_ome.D\n",
      "2022-01-28_13-54-02_nme2.D\n",
      "2022-01-28_14-00-11_mix.D\n",
      "2022-01-28_14-15-17_ba.D\n",
      "2022-01-28_14-21-32_cl.D\n",
      "2022-01-28_14-27-40_ome.D\n",
      "2022-01-28_14-33-50_nme2.D\n",
      "2022-01-28_14-39-58_mix.D\n",
      "2022-01-28_14-55-01_ba.D\n",
      "2022-01-28_15-01-15_cl.D\n",
      "2022-01-28_15-07-28_ome.D\n",
      "2022-01-28_15-13-40_nme2.D\n",
      "2022-01-28_15-19-49_mix.D\n"
     ]
    }
   ],
   "source": [
    "for folder in folders:\n",
    "    print(os.path.basename(folder))"
   ]
  },
  {
   "cell_type": "markdown",
   "id": "6565c466-5b8e-4184-859c-3584e6e02be7",
   "metadata": {},
   "source": [
    "## Campaign initialization"
   ]
  },
  {
   "cell_type": "code",
   "execution_count": 4,
   "id": "7a483960-60d8-434a-bb79-13e74b5117c2",
   "metadata": {},
   "outputs": [],
   "source": [
    "knoev_campaign = HplcDadCampaign()"
   ]
  },
  {
   "cell_type": "markdown",
   "id": "50e7d544-b812-48a5-8773-93d13c40aa02",
   "metadata": {
    "tags": []
   },
   "source": [
    "### User input for calibration runs"
   ]
  },
  {
   "cell_type": "markdown",
   "id": "0fd31d60-028d-49d9-bd2f-1f7df4134333",
   "metadata": {},
   "source": [
    "We transfer the concentration values of the calibration standards."
   ]
  },
  {
   "cell_type": "code",
   "execution_count": 5,
   "id": "4510a788-cdff-4ca1-900e-b1f9acfae57d",
   "metadata": {},
   "outputs": [],
   "source": [
    "ba_concs = [0.965, 0.761, 0.482, 0.231]\n",
    "cl_concs = [1.01, 0.744, 0.478, 0.234]\n",
    "ome_concs = [0.990, 0.723, 0.455, 0.231]\n",
    "nme2_concs = [0.982, 0.719, 0.468, 0.229]"
   ]
  },
  {
   "cell_type": "markdown",
   "id": "f1945f4b-d9b9-42c0-9288-ee4c23181124",
   "metadata": {},
   "source": [
    "We create the first Gradient object for all calibration runs."
   ]
  },
  {
   "cell_type": "code",
   "execution_count": 6,
   "id": "2527d2cb-25da-43d7-9f24-7a03dc5ec365",
   "metadata": {},
   "outputs": [],
   "source": [
    "gradient_calib = Gradient(folders[0])"
   ]
  },
  {
   "cell_type": "markdown",
   "id": "b8d9fa45-de83-4100-bc56-08c11b53b9f0",
   "metadata": {},
   "source": [
    "We create HplcInput objects for each calibration run and add it to the campaign"
   ]
  },
  {
   "cell_type": "code",
   "execution_count": 7,
   "id": "46cdc570-7118-4a4b-ab15-c29b2cdf6871",
   "metadata": {},
   "outputs": [],
   "source": [
    "for i, folder in enumerate(folders[1:5]):\n",
    "    compound = Compound('benzaldehyde', ba_concs[i])\n",
    "    exp = HplcInput(folder, gradient_calib, compound=compound)\n",
    "    knoev_campaign.add_hplc_input(exp)\n",
    "\n",
    "for i, folder in enumerate(folders[5:9]):\n",
    "    compound = Compound('4-chlorobenzaldehyde', cl_concs[i])\n",
    "    exp = HplcInput(folder, gradient_calib, compound=compound)\n",
    "    knoev_campaign.add_hplc_input(exp)\n",
    "\n",
    "for i, folder in enumerate(folders[9:13]):\n",
    "    compound = Compound('4-methoxybenzaldehyde', ome_concs[i])\n",
    "    exp = HplcInput(folder, gradient_calib, compound=compound)\n",
    "    knoev_campaign.add_hplc_input(exp)\n",
    "\n",
    "for i, folder in enumerate(folders[13:17]):\n",
    "    compound = Compound('4-dimethylaminobenzaldehyde', nme2_concs[i])\n",
    "    exp = HplcInput(folder, gradient_calib, compound=compound)\n",
    "    knoev_campaign.add_hplc_input(exp)"
   ]
  },
  {
   "cell_type": "markdown",
   "id": "68b9b038-7401-4e8d-8e46-252d1586c6a8",
   "metadata": {},
   "source": [
    "### User input for reaction runs\n",
    "\n",
    "First, we generate the Gradient object of the second day."
   ]
  },
  {
   "cell_type": "code",
   "execution_count": 8,
   "id": "ac01c134-579e-4bde-b79a-624d31bfd929",
   "metadata": {},
   "outputs": [],
   "source": [
    "gradient_react = Gradient(folders[17])"
   ]
  },
  {
   "cell_type": "markdown",
   "id": "37693b6f-b74c-42a1-bd80-094c41f06c72",
   "metadata": {},
   "source": [
    "Then, we generate HplcInput objects for all reaction runs and add them to the campaign."
   ]
  },
  {
   "cell_type": "code",
   "execution_count": 9,
   "id": "b9116a48-8575-435f-8d1c-6db568c059c0",
   "metadata": {},
   "outputs": [],
   "source": [
    "for folder in folders[18:]:\n",
    "    exp = HplcInput(folder, gradient_react)\n",
    "    knoev_campaign.add_hplc_input(exp)"
   ]
  },
  {
   "cell_type": "markdown",
   "id": "87a70e0f-4b65-4f64-a2b2-051f1ae58247",
   "metadata": {},
   "source": [
    "### Settings for data processing"
   ]
  },
  {
   "cell_type": "code",
   "execution_count": 10,
   "id": "d3e8aea8-f5c8-45e4-bb75-e3d19d50befc",
   "metadata": {},
   "outputs": [],
   "source": [
    "settings = Settings('chemstation',\n",
    "                    absorbance_threshold = 300, wl_high_pass = 215, \n",
    "                    peaks_high_pass = 1, peaks_low_pass = 3.2,\n",
    "                    spectrum_correl_thresh=0.99, relative_distance_thresh=0.01)"
   ]
  },
  {
   "cell_type": "markdown",
   "id": "926a0b31-e525-4574-8cea-38e39ca6b203",
   "metadata": {},
   "source": [
    "### Data processing"
   ]
  },
  {
   "cell_type": "code",
   "execution_count": 11,
   "id": "a7e53c99-166e-4fa6-a5ff-700216a1729c",
   "metadata": {
    "collapsed": true,
    "jupyter": {
     "outputs_hidden": true
    },
    "tags": []
   },
   "outputs": [
    {
     "name": "stdout",
     "output_type": "stream",
     "text": [
      "0.9994126922588047\n",
      "0.9994126922588047\n",
      "0.9994126922588047\n",
      "0.9995920530215695\n",
      "0.9995920530215695\n",
      "0.9995920530215695\n",
      "0.6844631771373247\n",
      "0.9025990466737809\n",
      "0.9999492666961827\n",
      "0.684463177137324\n",
      "0.90259904667378\n",
      "0.9999492666961816\n",
      "0.6844631771373241\n",
      "0.90259904667378\n",
      "0.9999492666961816\n",
      "0.6844631771373241\n",
      "0.90259904667378\n",
      "0.9999492666961816\n",
      "0.6844631771373244\n",
      "0.9025990466737805\n",
      "0.9999492666961821\n",
      "0.6844631771373241\n",
      "0.90259904667378\n",
      "0.9999492666961816\n",
      "0.6844631771373236\n",
      "0.9025990466737798\n",
      "0.9999492666961814\n",
      "0.6844631771373241\n",
      "0.9025990466737802\n",
      "0.9999492666961819\n",
      "0.9996833955367187\n",
      "0.9996833955367187\n",
      "0.9996833955367187\n",
      "0.9939076375325376\n",
      "0.9999033377303408\n",
      "0.9939076375325376\n",
      "0.9999033377303408\n",
      "0.9939076375325376\n",
      "0.9999033377303408\n",
      "0.9939076375325376\n",
      "0.9999033377303408\n",
      "0.9939076375325376\n",
      "0.9999033377303408\n",
      "0.9939076375325376\n",
      "0.9999033377303408\n",
      "0.9978913979167573\n",
      "0.9998541745821748\n",
      "0.9978913979167573\n",
      "0.9998541745821748\n",
      "0.9978913979167573\n",
      "0.9998541745821748\n",
      "0.6849775274877418\n",
      "0.9028662493369838\n",
      "0.9999558140372437\n",
      "0.6849775274877419\n",
      "0.9028662493369839\n",
      "0.9999558140372438\n",
      "0.6849775274877418\n",
      "0.9028662493369836\n",
      "0.9999558140372434\n",
      "0.6849775274877419\n",
      "0.9028662493369837\n",
      "0.9999558140372435\n",
      "0.6849775274877414\n",
      "0.9028662493369832\n",
      "0.9999558140372431\n",
      "0.6849775274877419\n",
      "0.9028662493369837\n",
      "0.9999558140372435\n",
      "0.6849775274877418\n",
      "0.9028662493369836\n",
      "0.9999558140372434\n",
      "0.684977527487741\n",
      "0.9028662493369828\n",
      "0.9999558140372427\n",
      "0.9985156040353582\n",
      "0.9996078207682739\n",
      "0.9985156040353578\n",
      "0.9996078207682735\n",
      "0.9985156040353582\n",
      "0.9996078207682739\n",
      "0.9985156040353577\n",
      "0.9996078207682734\n",
      "0.9985156040353582\n",
      "0.9996078207682739\n",
      "0.9985156040353577\n",
      "0.9996078207682734\n",
      "0.9985156040353574\n",
      "0.9996078207682731\n",
      "0.994992204033083\n",
      "0.9998442662477409\n",
      "0.994992204033083\n",
      "0.9998442662477409\n",
      "0.994992204033083\n",
      "0.9998442662477409\n",
      "0.994992204033083\n",
      "0.9998442662477409\n",
      "0.685340514132215\n",
      "0.9031697945014123\n",
      "0.9999556965228291\n",
      "0.685340514132215\n",
      "0.9031697945014123\n",
      "0.999955696522829\n",
      "0.6853405141322143\n",
      "0.9031697945014121\n",
      "0.9999556965228289\n",
      "0.685340514132215\n",
      "0.9031697945014122\n",
      "0.999955696522829\n",
      "0.6853405141322146\n",
      "0.9031697945014121\n",
      "0.9999556965228289\n",
      "0.6853405141322154\n",
      "0.903169794501413\n",
      "0.9999556965228298\n",
      "0.6853405141322144\n",
      "0.9031697945014121\n",
      "0.9999556965228289\n",
      "0.6853405141322149\n",
      "0.9031697945014123\n",
      "0.9999556965228292\n",
      "0.9970838758213514\n",
      "0.999374600631554\n",
      "0.9970838758213508\n",
      "0.9993746006315535\n",
      "0.9970838758213508\n",
      "0.9993746006315535\n",
      "0.9970838758213508\n",
      "0.9993746006315535\n",
      "0.9970838758213509\n",
      "0.9993746006315536\n",
      "0.9970838758213509\n",
      "0.9993746006315536\n",
      "0.9970838758213509\n",
      "0.9993746006315536\n",
      "0.9970838758213508\n",
      "0.9993746006315535\n",
      "0.6856665678690623\n",
      "0.9033471062658401\n",
      "0.999951106707188\n",
      "0.6856665678690618\n",
      "0.9033471062658394\n",
      "0.9999511067071873\n",
      "0.6856665678690621\n",
      "0.9033471062658398\n",
      "0.9999511067071878\n",
      "0.6856665678690618\n",
      "0.9033471062658398\n",
      "0.9999511067071877\n",
      "0.685666567869062\n",
      "0.9033471062658396\n",
      "0.9999511067071876\n",
      "0.6856665678690611\n",
      "0.9033471062658387\n",
      "0.9999511067071867\n",
      "0.6856665678690619\n",
      "0.9033471062658397\n",
      "0.9999511067071877\n",
      "0.6856665678690618\n",
      "0.9033471062658396\n",
      "0.9999511067071876\n",
      "0.99553070892122\n",
      "0.9991109445279788\n",
      "0.9955307089212194\n",
      "0.9991109445279782\n",
      "0.9955307089212195\n",
      "0.9991109445279783\n",
      "0.9955307089212195\n",
      "0.9991109445279783\n",
      "0.9955307089212194\n",
      "0.9991109445279782\n",
      "0.9955307089212195\n",
      "0.9991109445279783\n",
      "0.6859531139224441\n",
      "0.9034840583138145\n",
      "0.9999535690008621\n",
      "0.685953113922444\n",
      "0.9034840583138146\n",
      "0.9999535690008623\n",
      "0.6859531139224445\n",
      "0.9034840583138151\n",
      "0.9999535690008627\n",
      "0.6859531139224448\n",
      "0.9034840583138155\n",
      "0.9999535690008631\n",
      "0.6859531139224443\n",
      "0.9034840583138146\n",
      "0.9999535690008622\n",
      "0.6859531139224451\n",
      "0.9034840583138157\n",
      "0.9999535690008633\n",
      "0.6859531139224444\n",
      "0.9034840583138151\n",
      "0.9999535690008625\n",
      "0.6859531139224441\n",
      "0.9034840583138147\n",
      "0.9999535690008623\n",
      "0.9940431463299738\n",
      "0.9988533816430654\n",
      "0.9997675875958046\n",
      "0.9940431463299741\n",
      "0.9988533816430657\n",
      "0.999767587595805\n",
      "0.9940431463299738\n",
      "0.9988533816430654\n",
      "0.9997675875958046\n",
      "0.994043146329974\n",
      "0.9988533816430656\n",
      "0.9997675875958049\n",
      "0.9940431463299736\n",
      "0.9988533816430651\n",
      "0.9997675875958044\n",
      "0.9940431463299736\n",
      "0.9988533816430651\n",
      "0.9997675875958044\n",
      "0.994043146329974\n",
      "0.9988533816430656\n",
      "0.9997675875958049\n",
      "0.994043146329974\n",
      "0.9988533816430656\n",
      "0.9997675875958049\n",
      "0.6861712655150267\n",
      "0.9035915640484641\n",
      "0.9999530279338494\n",
      "0.6861712655150262\n",
      "0.9035915640484635\n",
      "0.9999530279338489\n",
      "0.6861712655150263\n",
      "0.9035915640484634\n",
      "0.9999530279338487\n",
      "0.6861712655150266\n",
      "0.9035915640484637\n",
      "0.999953027933849\n",
      "0.6861712655150266\n",
      "0.9035915640484639\n",
      "0.9999530279338492\n",
      "0.6861712655150268\n",
      "0.903591564048464\n",
      "0.9999530279338493\n",
      "0.6861712655150262\n",
      "0.9035915640484636\n",
      "0.999953027933849\n",
      "0.6861712655150266\n",
      "0.903591564048464\n",
      "0.9999530279338493\n",
      "0.9925082955415326\n",
      "0.9985484808145113\n",
      "0.9997527729450477\n",
      "0.9925082955415326\n",
      "0.9985484808145113\n",
      "0.9997527729450477\n",
      "0.9925082955415326\n",
      "0.9985484808145114\n",
      "0.9997527729450478\n",
      "0.9925082955415324\n",
      "0.9985484808145112\n",
      "0.9997527729450476\n",
      "0.9925082955415324\n",
      "0.9985484808145112\n",
      "0.9997527729450476\n",
      "0.9925082955415324\n",
      "0.9985484808145111\n",
      "0.9997527729450475\n",
      "0.9925082955415324\n",
      "0.9985484808145111\n",
      "0.9997527729450475\n",
      "0.9925082955415324\n",
      "0.9985484808145112\n",
      "0.9997527729450476\n"
     ]
    }
   ],
   "source": [
    "knoev_campaign.process_all_hplc_input(settings)"
   ]
  },
  {
   "cell_type": "markdown",
   "id": "876d7ceb-7e66-4050-9569-ff4c97f25e40",
   "metadata": {},
   "source": [
    "## Reporting"
   ]
  },
  {
   "cell_type": "code",
   "execution_count": 12,
   "id": "edb947f0-278c-40ee-8347-b1efd5d9c35a",
   "metadata": {},
   "outputs": [],
   "source": [
    "knoev_report_path = os.path.join(ipynb_path, \"knoevenagel_reports\")"
   ]
  },
  {
   "cell_type": "code",
   "execution_count": 13,
   "id": "6fe1501d-f580-4ce6-bb64-3596de1374a1",
   "metadata": {},
   "outputs": [
    {
     "data": {
      "text/markdown": [
       "Report saved to .//Users/haascp/Documents/GitHub/mocca/notebooks/knoevenagel_reports/report_hplc_input.html. To upload and share your report, create a free Datapane account by running `!datapane signup`."
      ],
      "text/plain": [
       "<IPython.core.display.Markdown object>"
      ]
     },
     "metadata": {},
     "output_type": "display_data"
    },
    {
     "data": {
      "text/markdown": [
       "Report saved to .//Users/haascp/Documents/GitHub/mocca/notebooks/knoevenagel_reports/report_chroms.html. To upload and share your report, create a free Datapane account by running `!datapane signup`."
      ],
      "text/plain": [
       "<IPython.core.display.Markdown object>"
      ]
     },
     "metadata": {},
     "output_type": "display_data"
    },
    {
     "data": {
      "text/markdown": [
       "Report saved to .//Users/haascp/Documents/GitHub/mocca/notebooks/knoevenagel_reports/report_runs.html. To upload and share your report, create a free Datapane account by running `!datapane signup`."
      ],
      "text/plain": [
       "<IPython.core.display.Markdown object>"
      ]
     },
     "metadata": {},
     "output_type": "display_data"
    },
    {
     "data": {
      "text/markdown": [
       "Report saved to .//Users/haascp/Documents/GitHub/mocca/notebooks/knoevenagel_reports/report_parafac.html. To upload and share your report, create a free Datapane account by running `!datapane signup`."
      ],
      "text/plain": [
       "<IPython.core.display.Markdown object>"
      ]
     },
     "metadata": {},
     "output_type": "display_data"
    },
    {
     "data": {
      "text/markdown": [
       "Report saved to .//Users/haascp/Documents/GitHub/mocca/notebooks/knoevenagel_reports/report_peak_db.html. To upload and share your report, create a free Datapane account by running `!datapane signup`."
      ],
      "text/plain": [
       "<IPython.core.display.Markdown object>"
      ]
     },
     "metadata": {},
     "output_type": "display_data"
    },
    {
     "data": {
      "text/markdown": [
       "Report saved to .//Users/haascp/Documents/GitHub/mocca/notebooks/knoevenagel_reports/report_quali_comp_db.html. To upload and share your report, create a free Datapane account by running `!datapane signup`."
      ],
      "text/plain": [
       "<IPython.core.display.Markdown object>"
      ]
     },
     "metadata": {},
     "output_type": "display_data"
    },
    {
     "data": {
      "text/markdown": [
       "Report saved to .//Users/haascp/Documents/GitHub/mocca/notebooks/knoevenagel_reports/report_quant_comp_db.html. To upload and share your report, create a free Datapane account by running `!datapane signup`."
      ],
      "text/plain": [
       "<IPython.core.display.Markdown object>"
      ]
     },
     "metadata": {},
     "output_type": "display_data"
    }
   ],
   "source": [
    "report_hplc_input(knoev_campaign.hplc_runs, knoev_report_path)\n",
    "report_chroms(knoev_campaign.chroms, knoev_campaign.settings, knoev_report_path)\n",
    "report_runs(knoev_campaign.chroms, knoev_campaign.quali_comp_db, knoev_campaign.quant_comp_db, knoev_report_path)\n",
    "report_parafac(knoev_campaign.chroms, knoev_report_path)\n",
    "report_peaks(knoev_campaign.peak_db, knoev_report_path)\n",
    "report_quali_comps(knoev_campaign.quali_comp_db, knoev_report_path)\n",
    "report_quant_comps(knoev_campaign.quant_comp_db, knoev_report_path)"
   ]
  },
  {
   "cell_type": "markdown",
   "id": "736881b0-4eb3-498b-963f-5ad938408879",
   "metadata": {},
   "source": [
    "## Customized data analysis by the user\n",
    "\n",
    "This data analysis tool cannot include all possible data analysis needs of potential users. Therefore, we expect the user to do customized data analysis independently from the tool.\n",
    "\n",
    "We give an example here, how a reaction kinetics data analysis could look like. First, we have to determine reaction times. For that, we noted the times, when we added all components together in the HPLC vial and use the time stamps in the folder names to calculate the reaction times."
   ]
  },
  {
   "cell_type": "code",
   "execution_count": 14,
   "id": "9ffa3eb3-dc76-4d88-9e11-c1018343c3b1",
   "metadata": {},
   "outputs": [],
   "source": [
    "def timestamp(path):\n",
    "    x = os.path.basename(path)\n",
    "    date, times = x[:x.rfind('_')].split('_')\n",
    "    date = list(map(int, date.split('-')))\n",
    "    times = list(map(int, times.split('-')))\n",
    "    return time.mktime(datetime.datetime(date[0], date[1], date[2], times[0], times[1], times[2]).timetuple())"
   ]
  },
  {
   "cell_type": "code",
   "execution_count": 15,
   "id": "63985dfd-3879-4ddb-bccf-f56148655c68",
   "metadata": {},
   "outputs": [],
   "source": [
    "# start times\n",
    "ba_time = time.mktime(datetime.datetime(2022, 1, 28, 11, 24, 30).timetuple())\n",
    "cl_time = time.mktime(datetime.datetime(2022, 1, 28, 11, 26, 30).timetuple())\n",
    "ome_time = time.mktime(datetime.datetime(2022, 1, 28, 11, 27, 30).timetuple())\n",
    "nme2_time = time.mktime(datetime.datetime(2022, 1, 28, 11, 29, 30).timetuple())\n",
    "mix_time = time.mktime(datetime.datetime(2022, 1, 28, 11, 33, 30).timetuple())"
   ]
  },
  {
   "cell_type": "code",
   "execution_count": 20,
   "id": "f77fd0dd-53f9-45b7-a0bb-acc53edafbca",
   "metadata": {},
   "outputs": [],
   "source": [
    "ba_reaction = []  # list of time, conc tuples\n",
    "cl_reaction = []  # list of time, conc tuples\n",
    "ome_reaction = []  # list of time, conc tuples\n",
    "nme2_reaction = []  # list of time, conc tuples\n",
    "ba_mix = []  # list of time, conc tuples\n",
    "cl_mix = []  # list of time, conc tuples\n",
    "ome_mix = []  # list of time, conc tuples\n",
    "nme2_mix = []  # list of time, conc tuples\n",
    "\n",
    "react_chroms = [chrom for chrom in knoev_campaign.chroms if not chrom.experiment.compound]\n",
    "for chrom in react_chroms:\n",
    "    if \"_ba\" in chrom.experiment.path:\n",
    "        t = timestamp(chrom.experiment.path) - ba_time\n",
    "        if \"benzaldehyde\" in chrom:\n",
    "            ba_reaction.append((t, chrom[\"benzaldehyde\"].concentration))\n",
    "        else:\n",
    "            ba_reaction.append((t, 0))\n",
    "    if \"_cl\" in chrom.experiment.path:\n",
    "        t = timestamp(chrom.experiment.path) - cl_time\n",
    "        if \"4-chlorobenzaldehyde\" in chrom:\n",
    "            cl_reaction.append((t, chrom[\"4-chlorobenzaldehyde\"].concentration))\n",
    "        else:\n",
    "            cl_reaction.append((t, 0))\n",
    "    if \"_ome\" in chrom.experiment.path:\n",
    "        t = timestamp(chrom.experiment.path) - ome_time\n",
    "        if \"4-methoxybenzaldehyde\" in chrom:\n",
    "            ome_reaction.append((t, chrom[\"4-methoxybenzaldehyde\"].concentration))\n",
    "        else:\n",
    "            ome_reaction.append((t, 0))\n",
    "    if \"_nme2\" in chrom.experiment.path:\n",
    "        t = timestamp(chrom.experiment.path) - nme2_time\n",
    "        if \"4-dimethylaminobenzaldehyde\" in chrom:\n",
    "            nme2_reaction.append((t, chrom[\"4-dimethylaminobenzaldehyde\"].concentration))\n",
    "        else:\n",
    "            nme2_reaction.append((t, 0))\n",
    "    if \"_mix\" in chrom.experiment.path:\n",
    "        t = timestamp(chrom.experiment.path) - mix_time\n",
    "        if \"benzaldehyde\" in chrom:\n",
    "            ba_mix.append((t, chrom[\"benzaldehyde\"].concentration))\n",
    "        else:\n",
    "            ba_mix.append((t, 0))\n",
    "        if \"4-chlorobenzaldehyde\" in chrom:\n",
    "            cl_mix.append((t, chrom[\"4-chlorobenzaldehyde\"].concentration))\n",
    "        else:\n",
    "            cl_mix.append((t, 0))\n",
    "        if \"4-methoxybenzaldehyde\" in chrom:\n",
    "            ome_mix.append((t, chrom[\"4-methoxybenzaldehyde\"].concentration))\n",
    "        else:\n",
    "            ome_mix.append((t, 0))\n",
    "        if \"4-dimethylaminobenzaldehyde\" in chrom:\n",
    "            nme2_mix.append((t, chrom[\"4-dimethylaminobenzaldehyde\"].concentration))\n",
    "        else:\n",
    "            nme2_mix.append((t, 0))\n",
    "    "
   ]
  },
  {
   "cell_type": "code",
   "execution_count": 23,
   "id": "348ad0c9-3b9d-4d63-9bec-92e4fd563ac1",
   "metadata": {},
   "outputs": [],
   "source": [
    "import matplotlib.pyplot as plt"
   ]
  },
  {
   "cell_type": "code",
   "execution_count": 31,
   "id": "5269074f-9ad3-4672-a7ad-3253703c5077",
   "metadata": {},
   "outputs": [
    {
     "data": {
      "text/plain": [
       "<function matplotlib.pyplot.show(close=None, block=None)>"
      ]
     },
     "execution_count": 31,
     "metadata": {},
     "output_type": "execute_result"
    },
    {
     "data": {
      "image/png": "[encoded data removed]",
      "text/plain": [
       "<Figure size 432x288 with 1 Axes>"
      ]
     },
     "metadata": {
      "needs_background": "light"
     },
     "output_type": "display_data"
    }
   ],
   "source": [
    "plt.plot(list(zip(*ba_reaction))[0], [1 / i for i in list(zip(*ba_reaction))[1]])\n",
    "plt.plot(list(zip(*cl_reaction))[0], [1 / i for i in list(zip(*cl_reaction))[1]])\n",
    "plt.plot(list(zip(*ome_reaction))[0], [1 / i for i in list(zip(*ome_reaction))[1]])\n",
    "plt.plot(list(zip(*nme2_reaction))[0], [1 / i for i in list(zip(*nme2_reaction))[1]])\n",
    "plt.show"
   ]
  },
  {
   "cell_type": "code",
   "execution_count": 39,
   "id": "a0fe392f-7a20-4a9f-8cdd-45729e67d7c0",
   "metadata": {},
   "outputs": [
    {
     "data": {
      "text/plain": [
       "[(1625.0, 0.06269813197392608),\n",
       " (4015.0, 0.07550681403225172),\n",
       " (6406.0, 0.10541152109644086),\n",
       " (8801.0, 0.00853870325090322),\n",
       " (11188.0, -0.00024429672435938445),\n",
       " (13579.0, 0.008621680071169877)]"
      ]
     },
     "execution_count": 39,
     "metadata": {},
     "output_type": "execute_result"
    }
   ],
   "source": [
    "ba_mix"
   ]
  },
  {
   "cell_type": "code",
   "execution_count": 33,
   "id": "4e2ff7a2-5675-4f2c-881d-65abec97e068",
   "metadata": {},
   "outputs": [
    {
     "data": {
      "text/plain": [
       "<function matplotlib.pyplot.show(close=None, block=None)>"
      ]
     },
     "execution_count": 33,
     "metadata": {},
     "output_type": "execute_result"
    },
    {
     "data": {
      "image/png": "[encoded data removed]",
      "text/plain": [
       "<Figure size 432x288 with 1 Axes>"
      ]
     },
     "metadata": {
      "needs_background": "light"
     },
     "output_type": "display_data"
    }
   ],
   "source": [
    "plt.plot(list(zip(*ba_mix))[0], list(zip(*ba_mix))[1])\n",
    "plt.plot(list(zip(*cl_mix))[0], list(zip(*cl_mix))[1])\n",
    "plt.plot(list(zip(*ome_mix))[0], list(zip(*ome_mix))[1])\n",
    "plt.plot(list(zip(*nme2_mix))[0], list(zip(*nme2_mix))[1])\n",
    "plt.show"
   ]
  },
  {
   "cell_type": "code",
   "execution_count": null,
   "id": "f6374075-cd86-4289-9397-8b0e860f01ed",
   "metadata": {},
   "outputs": [],
   "source": []
  }
 ],
 "metadata": {
  "kernelspec": {
   "display_name": "mocca-dev",
   "language": "python",
   "name": "mocca-dev"
  },
  "language_info": {
   "codemirror_mode": {
    "name": "ipython",
    "version": 3
   },
   "file_extension": ".py",
   "mimetype": "text/x-python",
   "name": "python",
   "nbconvert_exporter": "python",
   "pygments_lexer": "ipython3",
   "version": "3.9.7"
  }
 },
 "nbformat": 4,
 "nbformat_minor": 5
}
