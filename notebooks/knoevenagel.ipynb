{
 "cells": [
  {
   "cell_type": "markdown",
   "id": "c70bf775-82ac-4c3c-a1b5-23af5ec8fb3f",
   "metadata": {},
   "source": [
    "CPH 02/04/2022"
   ]
  },
  {
   "cell_type": "markdown",
   "id": "6a58324c-8e7a-44ca-9f39-dc6563ce81b0",
   "metadata": {
    "tags": []
   },
   "source": [
    "# MOCCA data analysis on Knoevenagel case study\n",
    "\n",
    "MOCCA is a tool for the analysis of *High-Performance Liquid Chromatography–Diode Array Detection* (HPLC–DAD) datasets which are recorded in the context of reaction (process) controls. It only uses HPLC–DAD raw data and some basic user input for the data analysis."
   ]
  },
  {
   "cell_type": "markdown",
   "id": "c9d2a04c-52f8-4e3f-bd9e-8a80fcee0302",
   "metadata": {},
   "source": [
    "## Reaction and case study background\n",
    "\n",
    "This case study was designed to verify that we get the same results when we are analyzing non-overlapping data manually compared to when we are using MOCCA. We perform four different Knoevenagel condensations in four HPLC vials directly in the autosampler of an Agilent LC system. For that, we use four different benzaldehydes (benzaldehyde, 4-chlorobenzaldehyde, 4-methoxybenzaldehyde, 4-dimethylaminobenzaldehyde) and malononitrile as substrates and piperidine as basic catalyst.\n",
    "\n",
    "To highlight MOCCA's decomposition capabilities of impure peaks, we compare the obtained results of the single reactions with results we recorded for a reaction mixture of all four single reactions (1:1:1:1)."
   ]
  },
  {
   "cell_type": "markdown",
   "id": "14bcad8c-907f-45e8-b0a6-8bb1b4f61865",
   "metadata": {},
   "source": [
    "## Imports"
   ]
  },
  {
   "cell_type": "code",
   "execution_count": 1,
   "id": "ff1b1321-02b7-4ffa-9bfd-76556f076ad0",
   "metadata": {},
   "outputs": [],
   "source": [
    "# folders handling\n",
    "import os\n",
    "from glob import glob\n",
    "\n",
    "# user interaction\n",
    "from mocca.user_interaction.campaign import HplcDadCampaign\n",
    "from mocca.user_interaction.user_objects import Gradient\n",
    "from mocca.user_interaction.user_objects import Compound\n",
    "from mocca.user_interaction.user_objects import InternalStandard\n",
    "from mocca.user_interaction.user_objects import HplcInput\n",
    "from mocca.user_interaction.settings import Settings\n",
    "\n",
    "# reporting\n",
    "from mocca.report.hplc_input import report_hplc_input\n",
    "from mocca.report.chroms import report_chroms\n",
    "from mocca.report.results import report_runs\n",
    "from mocca.report.parafac import report_parafac\n",
    "from mocca.report.peaks import report_peaks\n",
    "from mocca.report.quali_comps import report_quali_comps\n",
    "from mocca.report.quant_comps import report_quant_comps\n",
    "\n",
    "# customized data analysis\n",
    "import datetime\n",
    "import time\n",
    "\n",
    "%load_ext autoreload\n",
    "%autoreload 2"
   ]
  },
  {
   "cell_type": "markdown",
   "id": "66d85391-6b55-4309-9bfa-ccb97e84b8f9",
   "metadata": {},
   "source": [
    "## Knoevenagel data folder handling\n",
    "\n",
    "The data corresponding to this notebook can be found in mocca -> notebooks -> knoevenagel_data. The data was recorded on an Agilent system on two different days. Therefore, we have two different gradient runs."
   ]
  },
  {
   "cell_type": "code",
   "execution_count": 17,
   "id": "aa9e56ae-7937-44cb-939e-ebec3bf4ccc7",
   "metadata": {},
   "outputs": [],
   "source": [
    "# get path of this notebook\n",
    "ipynb_path = os.path.dirname(os.path.realpath(\"__file__\"))\n",
    "\n",
    "# add the path to the test data folder\n",
    "knoev_data_path = os.path.join(ipynb_path, \"knoevenagel_data\")\n",
    "\n",
    "# find all folders containing Agilent HPLC data (.D file extension)\n",
    "folders = glob(knoev_data_path + '/*' + '.D') \n",
    "folders = sorted(folders)"
   ]
  },
  {
   "cell_type": "code",
   "execution_count": 18,
   "id": "36a5d434-f4d2-46bb-acd1-4a7d484dbd8d",
   "metadata": {
    "tags": []
   },
   "outputs": [
    {
     "name": "stdout",
     "output_type": "stream",
     "text": [
      "2022-01-26_19-43-27_gradient.D\n",
      "2022-01-26_19-48-52_ba_1.D\n",
      "2022-01-26_19-54-51_ba_0.75.D\n",
      "2022-01-26_20-00-51_ba_0.5.D\n",
      "2022-01-26_20-06-51_ba_0,25.D\n",
      "2022-01-26_20-12-55_cl_1.D\n",
      "2022-01-26_20-18-55_cl_0.75.D\n",
      "2022-01-26_20-24-53_cl_0.5.D\n",
      "2022-01-26_20-30-51_cl_0,25.D\n",
      "2022-01-26_20-36-52_ome_1.D\n",
      "2022-01-26_20-43-08_ome_0.75.D\n",
      "2022-01-26_20-49-05_ome_0.5.D\n",
      "2022-01-26_20-55-06_ome_0,25.D\n",
      "2022-01-26_21-01-10_nme2_1.D\n",
      "2022-01-26_21-07-11_nme2_0.75.D\n",
      "2022-01-26_21-13-09_nme2_0.5.D\n",
      "2022-01-26_21-19-09_nme2_0,25.D\n",
      "2022-01-28_11-35-44_ba.D\n",
      "2022-01-28_11-41-59_cl.D\n",
      "2022-01-28_11-48-11_ome.D\n",
      "2022-01-28_11-54-24_nme2.D\n",
      "2022-01-28_12-15-41_ba.D\n",
      "2022-01-28_12-21-55_cl.D\n",
      "2022-01-28_12-28-04_ome.D\n",
      "2022-01-28_12-34-15_nme2.D\n",
      "2022-01-28_12-55-36_ba.D\n",
      "2022-01-28_13-01-48_cl.D\n",
      "2022-01-28_13-07-56_ome.D\n",
      "2022-01-28_13-14-06_nme2.D\n",
      "2022-01-28_13-35-23_ba.D\n",
      "2022-01-28_13-41-37_cl.D\n",
      "2022-01-28_13-47-47_ome.D\n",
      "2022-01-28_13-54-02_nme2.D\n",
      "2022-01-28_14-15-17_ba.D\n",
      "2022-01-28_14-21-32_cl.D\n",
      "2022-01-28_14-27-40_ome.D\n",
      "2022-01-28_14-33-50_nme2.D\n",
      "2022-01-28_14-55-01_ba.D\n",
      "2022-01-28_15-01-15_cl.D\n",
      "2022-01-28_15-07-28_ome.D\n",
      "2022-01-28_15-13-40_nme2.D\n",
      "2022-01-28_16-54-36_gradient.D\n"
     ]
    }
   ],
   "source": [
    "for folder in folders:\n",
    "    print(os.path.basename(folder))"
   ]
  },
  {
   "cell_type": "markdown",
   "id": "6565c466-5b8e-4184-859c-3584e6e02be7",
   "metadata": {},
   "source": [
    "## Campaign initialization"
   ]
  },
  {
   "cell_type": "code",
   "execution_count": 19,
   "id": "7a483960-60d8-434a-bb79-13e74b5117c2",
   "metadata": {},
   "outputs": [],
   "source": [
    "knoev_campaign = HplcDadCampaign()"
   ]
  },
  {
   "cell_type": "markdown",
   "id": "50e7d544-b812-48a5-8773-93d13c40aa02",
   "metadata": {
    "tags": []
   },
   "source": [
    "### User input for calibration runs"
   ]
  },
  {
   "cell_type": "markdown",
   "id": "0fd31d60-028d-49d9-bd2f-1f7df4134333",
   "metadata": {},
   "source": [
    "We transfer the concentration values of the calibration standards."
   ]
  },
  {
   "cell_type": "code",
   "execution_count": 20,
   "id": "4510a788-cdff-4ca1-900e-b1f9acfae57d",
   "metadata": {},
   "outputs": [],
   "source": [
    "ba_concs = [0.965, 0.761, 0.482, 0.231]\n",
    "cl_concs = [1.01, 0.744, 0.478, 0.234]\n",
    "ome_concs = [0.990, 0.723, 0.455, 0.231]\n",
    "nme2_concs = [0.982, 0.719, 0.468, 0.229]"
   ]
  },
  {
   "cell_type": "markdown",
   "id": "f1945f4b-d9b9-42c0-9288-ee4c23181124",
   "metadata": {},
   "source": [
    "We create the first Gradient object for all calibration runs."
   ]
  },
  {
   "cell_type": "code",
   "execution_count": 21,
   "id": "2527d2cb-25da-43d7-9f24-7a03dc5ec365",
   "metadata": {},
   "outputs": [],
   "source": [
    "gradient_calib = Gradient(folders[0])"
   ]
  },
  {
   "cell_type": "markdown",
   "id": "b8d9fa45-de83-4100-bc56-08c11b53b9f0",
   "metadata": {},
   "source": [
    "We create HplcInput objects for each calibration run and add it to the campaign"
   ]
  },
  {
   "cell_type": "code",
   "execution_count": 22,
   "id": "46cdc570-7118-4a4b-ab15-c29b2cdf6871",
   "metadata": {},
   "outputs": [],
   "source": [
    "for i, folder in enumerate(folders[1:5]):\n",
    "    compound = Compound('benzaldehyde', ba_concs[i])\n",
    "    exp = HplcInput(folder, gradient_calib, compound=compound)\n",
    "    knoev_campaign.add_hplc_input(exp)\n",
    "\n",
    "for i, folder in enumerate(folders[5:9]):\n",
    "    compound = Compound('4-chlorobenzaldehyde', cl_concs[i])\n",
    "    exp = HplcInput(folder, gradient_calib, compound=compound)\n",
    "    knoev_campaign.add_hplc_input(exp)\n",
    "\n",
    "for i, folder in enumerate(folders[9:13]):\n",
    "    compound = Compound('4-methoxybenzaldehyde', ome_concs[i])\n",
    "    exp = HplcInput(folder, gradient_calib, compound=compound)\n",
    "    knoev_campaign.add_hplc_input(exp)\n",
    "\n",
    "for i, folder in enumerate(folders[13:17]):\n",
    "    compound = Compound('4-dimethylaminobenzaldehyde', nme2_concs[i])\n",
    "    exp = HplcInput(folder, gradient_calib, compound=compound)\n",
    "    knoev_campaign.add_hplc_input(exp)"
   ]
  },
  {
   "cell_type": "markdown",
   "id": "68b9b038-7401-4e8d-8e46-252d1586c6a8",
   "metadata": {},
   "source": [
    "### User input for reaction runs\n",
    "\n",
    "First, we generate the Gradient object of the second day."
   ]
  },
  {
   "cell_type": "code",
   "execution_count": 23,
   "id": "ac01c134-579e-4bde-b79a-624d31bfd929",
   "metadata": {},
   "outputs": [],
   "source": [
    "gradient_react = Gradient(folders[-1])"
   ]
  },
  {
   "cell_type": "markdown",
   "id": "37693b6f-b74c-42a1-bd80-094c41f06c72",
   "metadata": {},
   "source": [
    "Then, we generate HplcInput objects for all reaction runs and add them to the campaign."
   ]
  },
  {
   "cell_type": "code",
   "execution_count": 24,
   "id": "b9116a48-8575-435f-8d1c-6db568c059c0",
   "metadata": {},
   "outputs": [],
   "source": [
    "for folder in folders[17:-1]:\n",
    "    exp = HplcInput(folder, gradient_react)\n",
    "    knoev_campaign.add_hplc_input(exp)"
   ]
  },
  {
   "cell_type": "markdown",
   "id": "87a70e0f-4b65-4f64-a2b2-051f1ae58247",
   "metadata": {},
   "source": [
    "### Settings for data processing"
   ]
  },
  {
   "cell_type": "code",
   "execution_count": 25,
   "id": "d3e8aea8-f5c8-45e4-bb75-e3d19d50befc",
   "metadata": {},
   "outputs": [],
   "source": [
    "settings = Settings('chemstation',\n",
    "                    absorbance_threshold = 300, wl_high_pass = 215, \n",
    "                    peaks_high_pass = 1, peaks_low_pass = 3.2,\n",
    "                    spectrum_correl_thresh=0.99, relative_distance_thresh=0.01)"
   ]
  },
  {
   "cell_type": "markdown",
   "id": "926a0b31-e525-4574-8cea-38e39ca6b203",
   "metadata": {},
   "source": [
    "### Data processing"
   ]
  },
  {
   "cell_type": "code",
   "execution_count": 26,
   "id": "a7e53c99-166e-4fa6-a5ff-700216a1729c",
   "metadata": {
    "tags": []
   },
   "outputs": [],
   "source": [
    "knoev_campaign.process_all_hplc_input(settings)"
   ]
  },
  {
   "cell_type": "markdown",
   "id": "876d7ceb-7e66-4050-9569-ff4c97f25e40",
   "metadata": {},
   "source": [
    "## Reporting"
   ]
  },
  {
   "cell_type": "code",
   "execution_count": 27,
   "id": "edb947f0-278c-40ee-8347-b1efd5d9c35a",
   "metadata": {},
   "outputs": [],
   "source": [
    "knoev_report_path = os.path.join(ipynb_path, \"knoevenagel_reports\")"
   ]
  },
  {
   "cell_type": "code",
   "execution_count": 30,
   "id": "6fe1501d-f580-4ce6-bb64-3596de1374a1",
   "metadata": {},
   "outputs": [
    {
     "data": {
      "text/markdown": [
       "Report saved to .//Users/haascp/Documents/GitHub/mocca/notebooks/knoevenagel_reports/report_hplc_input.html. To upload and share your report, create a free Datapane account by running `!datapane signup`."
      ],
      "text/plain": [
       "<IPython.core.display.Markdown object>"
      ]
     },
     "metadata": {},
     "output_type": "display_data"
    },
    {
     "data": {
      "text/markdown": [
       "Report saved to .//Users/haascp/Documents/GitHub/mocca/notebooks/knoevenagel_reports/report_chroms.html. To upload and share your report, create a free Datapane account by running `!datapane signup`."
      ],
      "text/plain": [
       "<IPython.core.display.Markdown object>"
      ]
     },
     "metadata": {},
     "output_type": "display_data"
    },
    {
     "data": {
      "text/markdown": [
       "How is your experience of Datapane? Please take two minutes to answer our anonymous product survey <a href='https://bit.ly/3lWjRlr' target='_blank'>here</a>"
      ],
      "text/plain": [
       "<IPython.core.display.Markdown object>"
      ]
     },
     "metadata": {},
     "output_type": "display_data"
    },
    {
     "data": {
      "text/markdown": [
       "Report saved to .//Users/haascp/Documents/GitHub/mocca/notebooks/knoevenagel_reports/report_runs.html. To upload and share your report, create a free Datapane account by running `!datapane signup`."
      ],
      "text/plain": [
       "<IPython.core.display.Markdown object>"
      ]
     },
     "metadata": {},
     "output_type": "display_data"
    },
    {
     "data": {
      "text/markdown": [
       "Report saved to .//Users/haascp/Documents/GitHub/mocca/notebooks/knoevenagel_reports/report_peak_db.html. To upload and share your report, create a free Datapane account by running `!datapane signup`."
      ],
      "text/plain": [
       "<IPython.core.display.Markdown object>"
      ]
     },
     "metadata": {},
     "output_type": "display_data"
    },
    {
     "data": {
      "text/markdown": [
       "Report saved to .//Users/haascp/Documents/GitHub/mocca/notebooks/knoevenagel_reports/report_quali_comp_db.html. To upload and share your report, create a free Datapane account by running `!datapane signup`."
      ],
      "text/plain": [
       "<IPython.core.display.Markdown object>"
      ]
     },
     "metadata": {},
     "output_type": "display_data"
    },
    {
     "data": {
      "text/markdown": [
       "Report saved to .//Users/haascp/Documents/GitHub/mocca/notebooks/knoevenagel_reports/report_quant_comp_db.html. To upload and share your report, create a free Datapane account by running `!datapane signup`."
      ],
      "text/plain": [
       "<IPython.core.display.Markdown object>"
      ]
     },
     "metadata": {},
     "output_type": "display_data"
    }
   ],
   "source": [
    "report_hplc_input(knoev_campaign.hplc_runs, knoev_report_path)\n",
    "report_chroms(knoev_campaign.chroms, knoev_campaign.settings, knoev_report_path)\n",
    "report_runs(knoev_campaign.chroms, knoev_campaign.quali_comp_db, knoev_campaign.quant_comp_db, knoev_report_path)\n",
    "report_parafac(knoev_campaign.chroms, knoev_report_path)\n",
    "report_peaks(knoev_campaign.peak_db, knoev_report_path)\n",
    "report_quali_comps(knoev_campaign.quali_comp_db, knoev_report_path)\n",
    "report_quant_comps(knoev_campaign.quant_comp_db, knoev_report_path)"
   ]
  },
  {
   "cell_type": "markdown",
   "id": "736881b0-4eb3-498b-963f-5ad938408879",
   "metadata": {
    "tags": []
   },
   "source": [
    "## Customized data analysis by the user\n",
    "\n",
    "This data analysis tool cannot include all possible data analysis needs of potential users. Therefore, we expect the user to do customized data analysis independently from the tool.\n",
    "\n",
    "We give an example here, how a reaction kinetics data analysis could look like. First, we have to determine reaction times. For that, we noted the times, when we added all components together in the HPLC vial and use the time stamps in the folder names to calculate the reaction times."
   ]
  },
  {
   "cell_type": "code",
   "execution_count": 31,
   "id": "9ffa3eb3-dc76-4d88-9e11-c1018343c3b1",
   "metadata": {},
   "outputs": [],
   "source": [
    "def timestamp(path):\n",
    "    x = os.path.basename(path)\n",
    "    date, times = x[:x.rfind('_')].split('_')\n",
    "    date = list(map(int, date.split('-')))\n",
    "    times = list(map(int, times.split('-')))\n",
    "    return time.mktime(datetime.datetime(date[0], date[1], date[2], times[0], times[1], times[2]).timetuple())"
   ]
  },
  {
   "cell_type": "code",
   "execution_count": 32,
   "id": "63985dfd-3879-4ddb-bccf-f56148655c68",
   "metadata": {},
   "outputs": [],
   "source": [
    "# start times\n",
    "ba_time = time.mktime(datetime.datetime(2022, 1, 28, 11, 24, 30).timetuple())\n",
    "cl_time = time.mktime(datetime.datetime(2022, 1, 28, 11, 26, 30).timetuple())\n",
    "ome_time = time.mktime(datetime.datetime(2022, 1, 28, 11, 27, 30).timetuple())\n",
    "nme2_time = time.mktime(datetime.datetime(2022, 1, 28, 11, 29, 30).timetuple())\n",
    "mix_time = time.mktime(datetime.datetime(2022, 1, 28, 11, 33, 30).timetuple())"
   ]
  },
  {
   "cell_type": "code",
   "execution_count": 33,
   "id": "f77fd0dd-53f9-45b7-a0bb-acc53edafbca",
   "metadata": {},
   "outputs": [],
   "source": [
    "ba_reaction = []  # list of time, conc tuples\n",
    "cl_reaction = []  # list of time, conc tuples\n",
    "ome_reaction = []  # list of time, conc tuples\n",
    "nme2_reaction = []  # list of time, conc tuples\n",
    "ba_mix = []  # list of time, conc tuples\n",
    "cl_mix = []  # list of time, conc tuples\n",
    "ome_mix = []  # list of time, conc tuples\n",
    "nme2_mix = []  # list of time, conc tuples\n",
    "\n",
    "react_chroms = [chrom for chrom in knoev_campaign.chroms if not chrom.experiment.compound]\n",
    "for chrom in react_chroms:\n",
    "    if \"_ba\" in chrom.experiment.path:\n",
    "        t = timestamp(chrom.experiment.path) - ba_time\n",
    "        if \"benzaldehyde\" in chrom:\n",
    "            ba_reaction.append((t, chrom[\"benzaldehyde\"].concentration))\n",
    "        else:\n",
    "            ba_reaction.append((t, 0))\n",
    "    if \"_cl\" in chrom.experiment.path:\n",
    "        t = timestamp(chrom.experiment.path) - cl_time\n",
    "        if \"4-chlorobenzaldehyde\" in chrom:\n",
    "            cl_reaction.append((t, chrom[\"4-chlorobenzaldehyde\"].concentration))\n",
    "        else:\n",
    "            cl_reaction.append((t, 0))\n",
    "    if \"_ome\" in chrom.experiment.path:\n",
    "        t = timestamp(chrom.experiment.path) - ome_time\n",
    "        if \"4-methoxybenzaldehyde\" in chrom:\n",
    "            ome_reaction.append((t, chrom[\"4-methoxybenzaldehyde\"].concentration))\n",
    "        else:\n",
    "            ome_reaction.append((t, 0))\n",
    "    if \"_nme2\" in chrom.experiment.path:\n",
    "        t = timestamp(chrom.experiment.path) - nme2_time\n",
    "        if \"4-dimethylaminobenzaldehyde\" in chrom:\n",
    "            nme2_reaction.append((t, chrom[\"4-dimethylaminobenzaldehyde\"].concentration))\n",
    "        else:\n",
    "            nme2_reaction.append((t, 0))\n",
    "    if \"_mix\" in chrom.experiment.path:\n",
    "        t = timestamp(chrom.experiment.path) - mix_time\n",
    "        if \"benzaldehyde\" in chrom:\n",
    "            ba_mix.append((t, chrom[\"benzaldehyde\"].concentration))\n",
    "        else:\n",
    "            ba_mix.append((t, 0))\n",
    "        if \"4-chlorobenzaldehyde\" in chrom:\n",
    "            cl_mix.append((t, chrom[\"4-chlorobenzaldehyde\"].concentration))\n",
    "        else:\n",
    "            cl_mix.append((t, 0))\n",
    "        if \"4-methoxybenzaldehyde\" in chrom:\n",
    "            ome_mix.append((t, chrom[\"4-methoxybenzaldehyde\"].concentration))\n",
    "        else:\n",
    "            ome_mix.append((t, 0))\n",
    "        if \"4-dimethylaminobenzaldehyde\" in chrom:\n",
    "            nme2_mix.append((t, chrom[\"4-dimethylaminobenzaldehyde\"].concentration))\n",
    "        else:\n",
    "            nme2_mix.append((t, 0))\n",
    "    "
   ]
  },
  {
   "cell_type": "code",
   "execution_count": 34,
   "id": "6d21b79e-76ad-4897-a12e-e7ec8f816491",
   "metadata": {},
   "outputs": [],
   "source": [
    "import altair as alt\n",
    "import numpy as np\n",
    "import pandas as pd\n",
    "from mocca.visualization.utils import round_to_n\n",
    "from sklearn.linear_model import LinearRegression"
   ]
  },
  {
   "cell_type": "code",
   "execution_count": 35,
   "id": "61ab5b08-f0d9-4fd4-bdd3-8ec5fe3b99fc",
   "metadata": {},
   "outputs": [],
   "source": [
    "def plot_reaction_data(reaction_data, title=\"\"):\n",
    "    x, y = zip(*reaction_data)\n",
    "    x = list(x)\n",
    "    y = [1 / val for val in y]\n",
    "\n",
    "    linear_model = LinearRegression()\n",
    "    x_fit = np.array(x).reshape((-1,1))\n",
    "    linear_model.fit(x_fit, y)\n",
    "    score = linear_model.score(x_fit, y)\n",
    "\n",
    "    slope = linear_model.coef_[0]\n",
    "    y_intercept = linear_model.intercept_\n",
    "\n",
    "    # visualization\n",
    "    curve_annotation_formula = f\"y = {round_to_n(slope, 6)} x + {round_to_n(y_intercept, 3)}\"\n",
    "    curve_annotation_accuracy = f\"R\\u00B2 = {round(score, 4)}\"\n",
    "\n",
    "    xlabel='Reaction time (min)'\n",
    "    ylabel='Inverse Concentration (1/mM)'\n",
    "\n",
    "    df_scatter = pd.DataFrame({\n",
    "        'x': x,\n",
    "        'y': y\n",
    "    })\n",
    "\n",
    "    df_line = pd.DataFrame({\n",
    "        'x': x,\n",
    "        'y': [item * slope + y_intercept for item in x]\n",
    "    })\n",
    "\n",
    "    scatter = alt.Chart(df_scatter, title=title).mark_circle(size=80, opacity=1).encode(\n",
    "        x=alt.X(df_scatter.columns[0], axis=alt.Axis(title=xlabel)),\n",
    "        y=alt.Y(df_scatter.columns[1], axis=alt.Axis(title=ylabel)),\n",
    "        tooltip=[alt.Tooltip(df_scatter.columns[0], title=xlabel), \n",
    "                 alt.Tooltip(df_scatter.columns[1], title=ylabel)]\n",
    "    ).interactive()\n",
    "\n",
    "    chart = alt.Chart(df_line).mark_line(color='black').encode(\n",
    "            x=alt.X(df_line.columns[0], scale = alt.Scale(domain = (0.9 * np.min(x), np.max(x) * 1.1))),\n",
    "            y=alt.Y(df_line.columns[1], scale = alt.Scale(domain = (y[0] - 0.01 * x[0] * slope, \n",
    "                                                                    y[-1] + 0.01 * x[-1] * slope)))\n",
    "        )\n",
    "\n",
    "    if len(df_scatter[df_scatter.columns[0]]) > 1:\n",
    "        annotation_x_loc = (min(df_scatter[df_scatter.columns[0]]) +\n",
    "                            (max(df_scatter[df_scatter.columns[0]] -\n",
    "                                 min(df_scatter[df_scatter.columns[0]]))\n",
    "                             * 0.1))\n",
    "        annotation_y_loc_1 = (min(df_scatter[df_scatter.columns[1]]) +\n",
    "                              (max(df_scatter[df_scatter.columns[1]] -\n",
    "                                   min(df_scatter[df_scatter.columns[1]]))\n",
    "                               * 0.95))\n",
    "        annotation_y_loc_2 = (min(df_scatter[df_scatter.columns[1]]) +\n",
    "                              (max(df_scatter[df_scatter.columns[1]] -\n",
    "                                   min(df_scatter[df_scatter.columns[1]]))\n",
    "                               * 0.75))\n",
    "    else:\n",
    "        annotation_x_loc = df_scatter[df_scatter.columns[0]][0] * 0.98\n",
    "        annotation_y_loc_1 = df_scatter[df_scatter.columns[1]][0] * 0.95\n",
    "        annotation_y_loc_2 = df_scatter[df_scatter.columns[1]][0] * 0.9\n",
    "\n",
    "    annotation_formula = alt.Chart({'values':[{'x': annotation_x_loc,\n",
    "                                               'y': annotation_y_loc_1}]}).mark_text(\n",
    "        text=curve_annotation_formula, align='left'\n",
    "    ).encode(\n",
    "        x='x:Q', y='y:Q'\n",
    "    )\n",
    "\n",
    "    annotation_accuracy = alt.Chart({'values':[{'x': annotation_x_loc,\n",
    "                                               'y': annotation_y_loc_2}]}).mark_text(\n",
    "        text=curve_annotation_accuracy, align='left'\n",
    "    ).encode(\n",
    "        x='x:Q', y='y:Q'\n",
    "    )\n",
    "\n",
    "    fig = chart + scatter + annotation_formula + annotation_accuracy\n",
    "    fig = fig.configure_axis(\n",
    "            grid=False,\n",
    "            titleFontSize = 16,\n",
    "            titleFontWeight='normal'\n",
    "        ).configure_view(\n",
    "            strokeWidth=0\n",
    "        )\n",
    "    return fig"
   ]
  },
  {
   "cell_type": "code",
   "execution_count": 36,
   "id": "18cba59a-60ef-478f-8213-d94c8b7be14f",
   "metadata": {},
   "outputs": [
    {
     "data": {
      "text/html": [
       "\n",
       "<div id=\"altair-viz-4178124a6a3c42669792a4c2cdc7232d\"></div>\n",
       "<script type=\"text/javascript\">\n",
       "  (function(spec, embedOpt){\n",
       "    let outputDiv = document.currentScript.previousElementSibling;\n",
       "    if (outputDiv.id !== \"altair-viz-4178124a6a3c42669792a4c2cdc7232d\") {\n",
       "      outputDiv = document.getElementById(\"altair-viz-4178124a6a3c42669792a4c2cdc7232d\");\n",
       "    }\n",
       "    const paths = {\n",
       "      \"vega\": \"https://cdn.jsdelivr.net/npm//vega@5?noext\",\n",
       "      \"vega-lib\": \"https://cdn.jsdelivr.net/npm//vega-lib?noext\",\n",
       "      \"vega-lite\": \"https://cdn.jsdelivr.net/npm//vega-lite@4.8.1?noext\",\n",
       "      \"vega-embed\": \"https://cdn.jsdelivr.net/npm//vega-embed@6?noext\",\n",
       "    };\n",
       "\n",
       "    function loadScript(lib) {\n",
       "      return new Promise(function(resolve, reject) {\n",
       "        var s = document.createElement('script');\n",
       "        s.src = paths[lib];\n",
       "        s.async = true;\n",
       "        s.onload = () => resolve(paths[lib]);\n",
       "        s.onerror = () => reject(`Error loading script: ${paths[lib]}`);\n",
       "        document.getElementsByTagName(\"head\")[0].appendChild(s);\n",
       "      });\n",
       "    }\n",
       "\n",
       "    function showError(err) {\n",
       "      outputDiv.innerHTML = `<div class=\"error\" style=\"color:red;\">${err}</div>`;\n",
       "      throw err;\n",
       "    }\n",
       "\n",
       "    function displayChart(vegaEmbed) {\n",
       "      vegaEmbed(outputDiv, spec, embedOpt)\n",
       "        .catch(err => showError(`Javascript Error: ${err.message}<br>This usually means there's a typo in your chart specification. See the javascript console for the full traceback.`));\n",
       "    }\n",
       "\n",
       "    if(typeof define === \"function\" && define.amd) {\n",
       "      requirejs.config({paths});\n",
       "      require([\"vega-embed\"], displayChart, err => showError(`Error loading script: ${err.message}`));\n",
       "    } else if (typeof vegaEmbed === \"function\") {\n",
       "      displayChart(vegaEmbed);\n",
       "    } else {\n",
       "      loadScript(\"vega\")\n",
       "        .then(() => loadScript(\"vega-lite\"))\n",
       "        .then(() => loadScript(\"vega-embed\"))\n",
       "        .catch(showError)\n",
       "        .then(() => displayChart(vegaEmbed));\n",
       "    }\n",
       "  })({\"config\": {\"view\": {\"continuousWidth\": 400, \"continuousHeight\": 300, \"strokeWidth\": 0}, \"axis\": {\"grid\": false, \"titleFontSize\": 16, \"titleFontWeight\": \"normal\"}}, \"layer\": [{\"data\": {\"name\": \"data-af5767ad45b00a0874d5b8f71b83db50\"}, \"mark\": {\"type\": \"line\", \"color\": \"black\"}, \"encoding\": {\"x\": {\"type\": \"quantitative\", \"field\": \"x\", \"scale\": {\"domain\": [606.6, 13894.1]}}, \"y\": {\"type\": \"quantitative\", \"field\": \"y\", \"scale\": {\"domain\": [1.0301533111474288, 1.3566170711480732]}}}}, {\"data\": {\"name\": \"data-954a74e84a98b839d9b9c75757ccaebc\"}, \"mark\": {\"type\": \"circle\", \"opacity\": 1, \"size\": 80}, \"encoding\": {\"tooltip\": [{\"type\": \"quantitative\", \"field\": \"x\", \"title\": \"Reaction time (min)\"}, {\"type\": \"quantitative\", \"field\": \"y\", \"title\": \"Inverse Concentration (1/mM)\"}], \"x\": {\"type\": \"quantitative\", \"axis\": {\"title\": \"Reaction time (min)\"}, \"field\": \"x\"}, \"y\": {\"type\": \"quantitative\", \"axis\": {\"title\": \"Inverse Concentration (1/mM)\"}, \"field\": \"y\"}}, \"selection\": {\"selector611\": {\"type\": \"interval\", \"bind\": \"scales\", \"encodings\": [\"x\", \"y\"]}}, \"title\": \"Kinetics benzaldehyde\"}, {\"data\": {\"name\": \"data-42a3c810399faa6d8c6a73164f17ffcc\"}, \"mark\": {\"type\": \"text\", \"align\": \"left\", \"text\": \"y = 2.818673e-05 x + 1.007\"}, \"encoding\": {\"x\": {\"type\": \"quantitative\", \"field\": \"x\"}, \"y\": {\"type\": \"quantitative\", \"field\": \"y\"}}}, {\"data\": {\"name\": \"data-24682180ab74e88d0c17e0d777ba07d4\"}, \"mark\": {\"type\": \"text\", \"align\": \"left\", \"text\": \"R\\u00b2 = 0.9838\"}, \"encoding\": {\"x\": {\"type\": \"quantitative\", \"field\": \"x\"}, \"y\": {\"type\": \"quantitative\", \"field\": \"y\"}}}], \"$schema\": \"https://vega.github.io/schema/vega-lite/v4.8.1.json\", \"datasets\": {\"data-af5767ad45b00a0874d5b8f71b83db50\": [{\"x\": 674.0, \"y\": 1.0260113259897339}, {\"x\": 3071.0, \"y\": 1.0935749290070098}, {\"x\": 5466.0, \"y\": 1.161082158554935}, {\"x\": 7853.0, \"y\": 1.2283638942254553}, {\"x\": 10247.0, \"y\": 1.2958429370387048}, {\"x\": 12631.0, \"y\": 1.3630401125051987}], \"data-954a74e84a98b839d9b9c75757ccaebc\": [{\"x\": 674.0, \"y\": 1.030343289739142}, {\"x\": 3071.0, \"y\": 1.0682731863884813}, {\"x\": 5466.0, \"y\": 1.1766140992440857}, {\"x\": 7853.0, \"y\": 1.2459232099289155}, {\"x\": 10247.0, \"y\": 1.2937047673292073}, {\"x\": 12631.0, \"y\": 1.3530568046912053}], \"data-42a3c810399faa6d8c6a73164f17ffcc\": [{\"x\": 1869.7, \"y\": 1.336921128943602}], \"data-24682180ab74e88d0c17e0d777ba07d4\": [{\"x\": 1869.7, \"y\": 1.2723784259531894}]}}, {\"mode\": \"vega-lite\"});\n",
       "</script>"
      ],
      "text/plain": [
       "alt.LayerChart(...)"
      ]
     },
     "execution_count": 36,
     "metadata": {},
     "output_type": "execute_result"
    }
   ],
   "source": [
    "plot_reaction_data(ba_reaction, \"Kinetics benzaldehyde\")"
   ]
  },
  {
   "cell_type": "code",
   "execution_count": 37,
   "id": "61685c22-04ab-4fc3-8886-9d915158d6b2",
   "metadata": {},
   "outputs": [
    {
     "data": {
      "text/html": [
       "\n",
       "<div id=\"altair-viz-f6ea6ad55d6c4cd486a0e9d81b29e8ca\"></div>\n",
       "<script type=\"text/javascript\">\n",
       "  (function(spec, embedOpt){\n",
       "    let outputDiv = document.currentScript.previousElementSibling;\n",
       "    if (outputDiv.id !== \"altair-viz-f6ea6ad55d6c4cd486a0e9d81b29e8ca\") {\n",
       "      outputDiv = document.getElementById(\"altair-viz-f6ea6ad55d6c4cd486a0e9d81b29e8ca\");\n",
       "    }\n",
       "    const paths = {\n",
       "      \"vega\": \"https://cdn.jsdelivr.net/npm//vega@5?noext\",\n",
       "      \"vega-lib\": \"https://cdn.jsdelivr.net/npm//vega-lib?noext\",\n",
       "      \"vega-lite\": \"https://cdn.jsdelivr.net/npm//vega-lite@4.8.1?noext\",\n",
       "      \"vega-embed\": \"https://cdn.jsdelivr.net/npm//vega-embed@6?noext\",\n",
       "    };\n",
       "\n",
       "    function loadScript(lib) {\n",
       "      return new Promise(function(resolve, reject) {\n",
       "        var s = document.createElement('script');\n",
       "        s.src = paths[lib];\n",
       "        s.async = true;\n",
       "        s.onload = () => resolve(paths[lib]);\n",
       "        s.onerror = () => reject(`Error loading script: ${paths[lib]}`);\n",
       "        document.getElementsByTagName(\"head\")[0].appendChild(s);\n",
       "      });\n",
       "    }\n",
       "\n",
       "    function showError(err) {\n",
       "      outputDiv.innerHTML = `<div class=\"error\" style=\"color:red;\">${err}</div>`;\n",
       "      throw err;\n",
       "    }\n",
       "\n",
       "    function displayChart(vegaEmbed) {\n",
       "      vegaEmbed(outputDiv, spec, embedOpt)\n",
       "        .catch(err => showError(`Javascript Error: ${err.message}<br>This usually means there's a typo in your chart specification. See the javascript console for the full traceback.`));\n",
       "    }\n",
       "\n",
       "    if(typeof define === \"function\" && define.amd) {\n",
       "      requirejs.config({paths});\n",
       "      require([\"vega-embed\"], displayChart, err => showError(`Error loading script: ${err.message}`));\n",
       "    } else if (typeof vegaEmbed === \"function\") {\n",
       "      displayChart(vegaEmbed);\n",
       "    } else {\n",
       "      loadScript(\"vega\")\n",
       "        .then(() => loadScript(\"vega-lite\"))\n",
       "        .then(() => loadScript(\"vega-embed\"))\n",
       "        .catch(showError)\n",
       "        .then(() => displayChart(vegaEmbed));\n",
       "    }\n",
       "  })({\"config\": {\"view\": {\"continuousWidth\": 400, \"continuousHeight\": 300, \"strokeWidth\": 0}, \"axis\": {\"grid\": false, \"titleFontSize\": 16, \"titleFontWeight\": \"normal\"}}, \"layer\": [{\"data\": {\"name\": \"data-8861ddafe1e78692929cf75fa632b35d\"}, \"mark\": {\"type\": \"line\", \"color\": \"black\"}, \"encoding\": {\"x\": {\"type\": \"quantitative\", \"field\": \"x\", \"scale\": {\"domain\": [836.1, 14173.500000000002]}}, \"y\": {\"type\": \"quantitative\", \"field\": \"y\", \"scale\": {\"domain\": [0.9902970048758926, 1.4903870408857223]}}}}, {\"data\": {\"name\": \"data-6877efd0bbffd121b98ba24c07e99498\"}, \"mark\": {\"type\": \"circle\", \"opacity\": 1, \"size\": 80}, \"encoding\": {\"tooltip\": [{\"type\": \"quantitative\", \"field\": \"x\", \"title\": \"Reaction time (min)\"}, {\"type\": \"quantitative\", \"field\": \"y\", \"title\": \"Inverse Concentration (1/mM)\"}], \"x\": {\"type\": \"quantitative\", \"axis\": {\"title\": \"Reaction time (min)\"}, \"field\": \"x\"}, \"y\": {\"type\": \"quantitative\", \"axis\": {\"title\": \"Inverse Concentration (1/mM)\"}, \"field\": \"y\"}}, \"selection\": {\"selector612\": {\"type\": \"interval\", \"bind\": \"scales\", \"encodings\": [\"x\", \"y\"]}}, \"title\": \"Kinetics 4-chlorobenzaldehyde\"}, {\"data\": {\"name\": \"data-950a6cf4e332416dd20a61bfbe270082\"}, \"mark\": {\"type\": \"text\", \"align\": \"left\", \"text\": \"y = 3.761311e-05 x + 1.039\"}, \"encoding\": {\"x\": {\"type\": \"quantitative\", \"field\": \"x\"}, \"y\": {\"type\": \"quantitative\", \"field\": \"y\"}}}, {\"data\": {\"name\": \"data-a25619aa38ab196c41e3ff1fac240498\"}, \"mark\": {\"type\": \"text\", \"align\": \"left\", \"text\": \"R\\u00b2 = 0.8763\"}, \"encoding\": {\"x\": {\"type\": \"quantitative\", \"field\": \"x\"}, \"y\": {\"type\": \"quantitative\", \"field\": \"y\"}}}], \"$schema\": \"https://vega.github.io/schema/vega-lite/v4.8.1.json\", \"datasets\": {\"data-8861ddafe1e78692929cf75fa632b35d\": [{\"x\": 929.0, \"y\": 1.0738986122869725}, {\"x\": 3325.0, \"y\": 1.1640196194468553}, {\"x\": 5718.0, \"y\": 1.2540277872822474}, {\"x\": 8107.0, \"y\": 1.3438855026849854}, {\"x\": 10502.0, \"y\": 1.4339688967367046}, {\"x\": 12885.0, \"y\": 1.5236009334904612}], \"data-6877efd0bbffd121b98ba24c07e99498\": [{\"x\": 929.0, \"y\": 0.990646430650732}, {\"x\": 3325.0, \"y\": 1.2648753354489912}, {\"x\": 5718.0, \"y\": 1.2593145461230761}, {\"x\": 8107.0, \"y\": 1.3259907272148643}, {\"x\": 10502.0, \"y\": 1.467033720591714}, {\"x\": 12885.0, \"y\": 1.485540591898848}], \"data-950a6cf4e332416dd20a61bfbe270082\": [{\"x\": 2124.6000000000004, \"y\": 1.4607958838364423}], \"data-a25619aa38ab196c41e3ff1fac240498\": [{\"x\": 2124.6000000000004, \"y\": 1.361817051586819}]}}, {\"mode\": \"vega-lite\"});\n",
       "</script>"
      ],
      "text/plain": [
       "alt.LayerChart(...)"
      ]
     },
     "execution_count": 37,
     "metadata": {},
     "output_type": "execute_result"
    }
   ],
   "source": [
    "plot_reaction_data(cl_reaction, \"Kinetics 4-chlorobenzaldehyde\")"
   ]
  },
  {
   "cell_type": "code",
   "execution_count": 38,
   "id": "d62d9e82-086f-4ed5-a9a2-23b6d0a1c233",
   "metadata": {},
   "outputs": [
    {
     "data": {
      "text/html": [
       "\n",
       "<div id=\"altair-viz-fb1f1e1e35954303b1cf702145354565\"></div>\n",
       "<script type=\"text/javascript\">\n",
       "  (function(spec, embedOpt){\n",
       "    let outputDiv = document.currentScript.previousElementSibling;\n",
       "    if (outputDiv.id !== \"altair-viz-fb1f1e1e35954303b1cf702145354565\") {\n",
       "      outputDiv = document.getElementById(\"altair-viz-fb1f1e1e35954303b1cf702145354565\");\n",
       "    }\n",
       "    const paths = {\n",
       "      \"vega\": \"https://cdn.jsdelivr.net/npm//vega@5?noext\",\n",
       "      \"vega-lib\": \"https://cdn.jsdelivr.net/npm//vega-lib?noext\",\n",
       "      \"vega-lite\": \"https://cdn.jsdelivr.net/npm//vega-lite@4.8.1?noext\",\n",
       "      \"vega-embed\": \"https://cdn.jsdelivr.net/npm//vega-embed@6?noext\",\n",
       "    };\n",
       "\n",
       "    function loadScript(lib) {\n",
       "      return new Promise(function(resolve, reject) {\n",
       "        var s = document.createElement('script');\n",
       "        s.src = paths[lib];\n",
       "        s.async = true;\n",
       "        s.onload = () => resolve(paths[lib]);\n",
       "        s.onerror = () => reject(`Error loading script: ${paths[lib]}`);\n",
       "        document.getElementsByTagName(\"head\")[0].appendChild(s);\n",
       "      });\n",
       "    }\n",
       "\n",
       "    function showError(err) {\n",
       "      outputDiv.innerHTML = `<div class=\"error\" style=\"color:red;\">${err}</div>`;\n",
       "      throw err;\n",
       "    }\n",
       "\n",
       "    function displayChart(vegaEmbed) {\n",
       "      vegaEmbed(outputDiv, spec, embedOpt)\n",
       "        .catch(err => showError(`Javascript Error: ${err.message}<br>This usually means there's a typo in your chart specification. See the javascript console for the full traceback.`));\n",
       "    }\n",
       "\n",
       "    if(typeof define === \"function\" && define.amd) {\n",
       "      requirejs.config({paths});\n",
       "      require([\"vega-embed\"], displayChart, err => showError(`Error loading script: ${err.message}`));\n",
       "    } else if (typeof vegaEmbed === \"function\") {\n",
       "      displayChart(vegaEmbed);\n",
       "    } else {\n",
       "      loadScript(\"vega\")\n",
       "        .then(() => loadScript(\"vega-lite\"))\n",
       "        .then(() => loadScript(\"vega-embed\"))\n",
       "        .catch(showError)\n",
       "        .then(() => displayChart(vegaEmbed));\n",
       "    }\n",
       "  })({\"config\": {\"view\": {\"continuousWidth\": 400, \"continuousHeight\": 300, \"strokeWidth\": 0}, \"axis\": {\"grid\": false, \"titleFontSize\": 16, \"titleFontWeight\": \"normal\"}}, \"layer\": [{\"data\": {\"name\": \"data-d4bc2f554a7f3a64fb916c358fde029e\"}, \"mark\": {\"type\": \"line\", \"color\": \"black\"}, \"encoding\": {\"x\": {\"type\": \"quantitative\", \"field\": \"x\", \"scale\": {\"domain\": [1116.9, 14517.800000000001]}}, \"y\": {\"type\": \"quantitative\", \"field\": \"y\", \"scale\": {\"domain\": [0.9954017126192805, 1.0986625648338215]}}}}, {\"data\": {\"name\": \"data-4c573ed2fe80dd34f98b42fc98fbf9d7\"}, \"mark\": {\"type\": \"circle\", \"opacity\": 1, \"size\": 80}, \"encoding\": {\"tooltip\": [{\"type\": \"quantitative\", \"field\": \"x\", \"title\": \"Reaction time (min)\"}, {\"type\": \"quantitative\", \"field\": \"y\", \"title\": \"Inverse Concentration (1/mM)\"}], \"x\": {\"type\": \"quantitative\", \"axis\": {\"title\": \"Reaction time (min)\"}, \"field\": \"x\"}, \"y\": {\"type\": \"quantitative\", \"axis\": {\"title\": \"Inverse Concentration (1/mM)\"}, \"field\": \"y\"}}, \"selection\": {\"selector613\": {\"type\": \"interval\", \"bind\": \"scales\", \"encodings\": [\"x\", \"y\"]}}, \"title\": \"Kinetics 4-Methoxybenzaldehyde\"}, {\"data\": {\"name\": \"data-eb92b8e0b8929651fc8236935902e26f\"}, \"mark\": {\"type\": \"text\", \"align\": \"left\", \"text\": \"y = 8.292545e-06 x + 0.986\"}, \"encoding\": {\"x\": {\"type\": \"quantitative\", \"field\": \"x\"}, \"y\": {\"type\": \"quantitative\", \"field\": \"y\"}}}, {\"data\": {\"name\": \"data-f451832ba1b19aae6d96ac7dbeec876c\"}, \"mark\": {\"type\": \"text\", \"align\": \"left\", \"text\": \"R\\u00b2 = 0.9909\"}, \"encoding\": {\"x\": {\"type\": \"quantitative\", \"field\": \"x\"}, \"y\": {\"type\": \"quantitative\", \"field\": \"y\"}}}], \"$schema\": \"https://vega.github.io/schema/vega-lite/v4.8.1.json\", \"datasets\": {\"data-d4bc2f554a7f3a64fb916c358fde029e\": [{\"x\": 1241.0, \"y\": 0.99673272987917}, {\"x\": 3634.0, \"y\": 1.0165767905798533}, {\"x\": 6026.0, \"y\": 1.036412558735321}, {\"x\": 8417.0, \"y\": 1.0562400343455731}, {\"x\": 10810.0, \"y\": 1.0760840950462565}, {\"x\": 13198.0, \"y\": 1.0958866930208622}], \"data-4c573ed2fe80dd34f98b42fc98fbf9d7\": [{\"x\": 1241.0, \"y\": 0.9955046231054048}, {\"x\": 3634.0, \"y\": 1.0164404192003922}, {\"x\": 6026.0, \"y\": 1.0422725551572143}, {\"x\": 8417.0, \"y\": 1.0515226782500844}, {\"x\": 10810.0, \"y\": 1.0746245111776604}, {\"x\": 13198.0, \"y\": 1.0975681147162804}], \"data-eb92b8e0b8929651fc8236935902e26f\": [{\"x\": 2436.7, \"y\": 1.0924649401357365}], \"data-f451832ba1b19aae6d96ac7dbeec876c\": [{\"x\": 2436.7, \"y\": 1.0720522418135614}]}}, {\"mode\": \"vega-lite\"});\n",
       "</script>"
      ],
      "text/plain": [
       "alt.LayerChart(...)"
      ]
     },
     "execution_count": 38,
     "metadata": {},
     "output_type": "execute_result"
    }
   ],
   "source": [
    "plot_reaction_data(ome_reaction, \"Kinetics 4-Methoxybenzaldehyde\")"
   ]
  },
  {
   "cell_type": "code",
   "execution_count": 39,
   "id": "112c9429-9f0c-458d-821c-75fd91be0ca3",
   "metadata": {},
   "outputs": [
    {
     "data": {
      "text/html": [
       "\n",
       "<div id=\"altair-viz-7df3ab2a54d8496bb8fbd4959a9014ba\"></div>\n",
       "<script type=\"text/javascript\">\n",
       "  (function(spec, embedOpt){\n",
       "    let outputDiv = document.currentScript.previousElementSibling;\n",
       "    if (outputDiv.id !== \"altair-viz-7df3ab2a54d8496bb8fbd4959a9014ba\") {\n",
       "      outputDiv = document.getElementById(\"altair-viz-7df3ab2a54d8496bb8fbd4959a9014ba\");\n",
       "    }\n",
       "    const paths = {\n",
       "      \"vega\": \"https://cdn.jsdelivr.net/npm//vega@5?noext\",\n",
       "      \"vega-lib\": \"https://cdn.jsdelivr.net/npm//vega-lib?noext\",\n",
       "      \"vega-lite\": \"https://cdn.jsdelivr.net/npm//vega-lite@4.8.1?noext\",\n",
       "      \"vega-embed\": \"https://cdn.jsdelivr.net/npm//vega-embed@6?noext\",\n",
       "    };\n",
       "\n",
       "    function loadScript(lib) {\n",
       "      return new Promise(function(resolve, reject) {\n",
       "        var s = document.createElement('script');\n",
       "        s.src = paths[lib];\n",
       "        s.async = true;\n",
       "        s.onload = () => resolve(paths[lib]);\n",
       "        s.onerror = () => reject(`Error loading script: ${paths[lib]}`);\n",
       "        document.getElementsByTagName(\"head\")[0].appendChild(s);\n",
       "      });\n",
       "    }\n",
       "\n",
       "    function showError(err) {\n",
       "      outputDiv.innerHTML = `<div class=\"error\" style=\"color:red;\">${err}</div>`;\n",
       "      throw err;\n",
       "    }\n",
       "\n",
       "    function displayChart(vegaEmbed) {\n",
       "      vegaEmbed(outputDiv, spec, embedOpt)\n",
       "        .catch(err => showError(`Javascript Error: ${err.message}<br>This usually means there's a typo in your chart specification. See the javascript console for the full traceback.`));\n",
       "    }\n",
       "\n",
       "    if(typeof define === \"function\" && define.amd) {\n",
       "      requirejs.config({paths});\n",
       "      require([\"vega-embed\"], displayChart, err => showError(`Error loading script: ${err.message}`));\n",
       "    } else if (typeof vegaEmbed === \"function\") {\n",
       "      displayChart(vegaEmbed);\n",
       "    } else {\n",
       "      loadScript(\"vega\")\n",
       "        .then(() => loadScript(\"vega-lite\"))\n",
       "        .then(() => loadScript(\"vega-embed\"))\n",
       "        .catch(showError)\n",
       "        .then(() => displayChart(vegaEmbed));\n",
       "    }\n",
       "  })({\"config\": {\"view\": {\"continuousWidth\": 400, \"continuousHeight\": 300, \"strokeWidth\": 0}, \"axis\": {\"grid\": false, \"titleFontSize\": 16, \"titleFontWeight\": \"normal\"}}, \"layer\": [{\"data\": {\"name\": \"data-c876232ccf4ac66c78a0864f5cc1b1b5\"}, \"mark\": {\"type\": \"line\", \"color\": \"black\"}, \"encoding\": {\"x\": {\"type\": \"quantitative\", \"field\": \"x\", \"scale\": {\"domain\": [1344.6000000000001, 14795.000000000002]}}, \"y\": {\"type\": \"quantitative\", \"field\": \"y\", \"scale\": {\"domain\": [0.9725917615865347, 1.0272701564215665]}}}}, {\"data\": {\"name\": \"data-01920c36ddb3ede595cbebef090a53ba\"}, \"mark\": {\"type\": \"circle\", \"opacity\": 1, \"size\": 80}, \"encoding\": {\"tooltip\": [{\"type\": \"quantitative\", \"field\": \"x\", \"title\": \"Reaction time (min)\"}, {\"type\": \"quantitative\", \"field\": \"y\", \"title\": \"Inverse Concentration (1/mM)\"}], \"x\": {\"type\": \"quantitative\", \"axis\": {\"title\": \"Reaction time (min)\"}, \"field\": \"x\"}, \"y\": {\"type\": \"quantitative\", \"axis\": {\"title\": \"Inverse Concentration (1/mM)\"}, \"field\": \"y\"}}, \"selection\": {\"selector614\": {\"type\": \"interval\", \"bind\": \"scales\", \"encodings\": [\"x\", \"y\"]}}, \"title\": \"Kinetics 4-dimethylaminobenzaldehyde\"}, {\"data\": {\"name\": \"data-fd5ca9126185cab804a4e751d57f0466\"}, \"mark\": {\"type\": \"text\", \"align\": \"left\", \"text\": \"y = 3.744426e-06 x + 0.982\"}, \"encoding\": {\"x\": {\"type\": \"quantitative\", \"field\": \"x\"}, \"y\": {\"type\": \"quantitative\", \"field\": \"y\"}}}, {\"data\": {\"name\": \"data-95d40f1ba674b30b2862cde449fc1e3f\"}, \"mark\": {\"type\": \"text\", \"align\": \"left\", \"text\": \"R\\u00b2 = 0.7428\"}, \"encoding\": {\"x\": {\"type\": \"quantitative\", \"field\": \"x\"}, \"y\": {\"type\": \"quantitative\", \"field\": \"y\"}}}], \"$schema\": \"https://vega.github.io/schema/vega-lite/v4.8.1.json\", \"datasets\": {\"data-c876232ccf4ac66c78a0864f5cc1b1b5\": [{\"x\": 1494.0, \"y\": 0.9878384849865491}, {\"x\": 3885.0, \"y\": 0.9967914070228981}, {\"x\": 6276.0, \"y\": 1.0057443290592472}, {\"x\": 8672.0, \"y\": 1.0147159732244886}, {\"x\": 11060.0, \"y\": 1.0236576619835023}, {\"x\": 13450.0, \"y\": 1.0326068395940728}], \"data-01920c36ddb3ede595cbebef090a53ba\": [{\"x\": 1494.0, \"y\": 0.9726477033076653}, {\"x\": 3885.0, \"y\": 1.009607883101455}, {\"x\": 6276.0, \"y\": 1.012659093960813}, {\"x\": 8672.0, \"y\": 1.017361797854536}, {\"x\": 11060.0, \"y\": 1.0223116864919277}, {\"x\": 13450.0, \"y\": 1.0267665311543608}], \"data-fd5ca9126185cab804a4e751d57f0466\": [{\"x\": 2689.6000000000004, \"y\": 1.024060589762026}], \"data-95d40f1ba674b30b2862cde449fc1e3f\": [{\"x\": 2689.6000000000004, \"y\": 1.013236824192687}]}}, {\"mode\": \"vega-lite\"});\n",
       "</script>"
      ],
      "text/plain": [
       "alt.LayerChart(...)"
      ]
     },
     "execution_count": 39,
     "metadata": {},
     "output_type": "execute_result"
    }
   ],
   "source": [
    "plot_reaction_data(nme2_reaction, \"Kinetics 4-dimethylaminobenzaldehyde\")"
   ]
  },
  {
   "cell_type": "code",
   "execution_count": null,
   "id": "981a634d-be8e-40b5-be29-22d727605f8a",
   "metadata": {},
   "outputs": [],
   "source": []
  }
 ],
 "metadata": {
  "kernelspec": {
   "display_name": "mocca-dev",
   "language": "python",
   "name": "mocca-dev"
  },
  "language_info": {
   "codemirror_mode": {
    "name": "ipython",
    "version": 3
   },
   "file_extension": ".py",
   "mimetype": "text/x-python",
   "name": "python",
   "nbconvert_exporter": "python",
   "pygments_lexer": "ipython3",
   "version": "3.9.7"
  }
 },
 "nbformat": 4,
 "nbformat_minor": 5
}
