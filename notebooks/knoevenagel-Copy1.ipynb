{
 "cells": [
  {
   "cell_type": "markdown",
   "id": "c70bf775-82ac-4c3c-a1b5-23af5ec8fb3f",
   "metadata": {},
   "source": [
    "CPH 02/04/2022"
   ]
  },
  {
   "cell_type": "markdown",
   "id": "6a58324c-8e7a-44ca-9f39-dc6563ce81b0",
   "metadata": {
    "tags": []
   },
   "source": [
    "# MOCCA data analysis on Knoevenagel case study\n",
    "\n",
    "MOCCA is a tool for the analysis of *High-Performance Liquid Chromatography–Diode Array Detection* (HPLC–DAD) datasets which are recorded in the context of reaction (process) controls. It only uses HPLC–DAD raw data and some basic user input for the data analysis."
   ]
  },
  {
   "cell_type": "markdown",
   "id": "c9d2a04c-52f8-4e3f-bd9e-8a80fcee0302",
   "metadata": {},
   "source": [
    "## Reaction and case study background\n",
    "\n",
    "This case study was designed to verify that we get the same results when we are analyzing non-overlapping data manually compared to when we are using MOCCA. We perform four different Knoevenagel condensations in four HPLC vials directly in the autosampler of an Agilent LC system. For that, we use four different benzaldehydes (benzaldehyde, 4-chlorobenzaldehyde, 4-methoxybenzaldehyde, 4-dimethylaminobenzaldehyde) and malononitrile as substrates and piperidine as basic catalyst.\n",
    "\n",
    "To highlight MOCCA's decomposition capabilities of impure peaks, we compare the obtained results of the single reactions with results we recorded for a reaction mixture of all four single reactions (1:1:1:1)."
   ]
  },
  {
   "cell_type": "markdown",
   "id": "14bcad8c-907f-45e8-b0a6-8bb1b4f61865",
   "metadata": {},
   "source": [
    "## Imports"
   ]
  },
  {
   "cell_type": "code",
   "execution_count": 1,
   "id": "ff1b1321-02b7-4ffa-9bfd-76556f076ad0",
   "metadata": {},
   "outputs": [],
   "source": [
    "# folders handling\n",
    "import os\n",
    "from glob import glob\n",
    "\n",
    "# user interaction\n",
    "from mocca.user_interaction.campaign import HplcDadCampaign\n",
    "from mocca.user_interaction.user_objects import Gradient\n",
    "from mocca.user_interaction.user_objects import Compound\n",
    "from mocca.user_interaction.user_objects import InternalStandard\n",
    "from mocca.user_interaction.user_objects import HplcInput\n",
    "from mocca.user_interaction.settings import Settings\n",
    "\n",
    "# reporting\n",
    "from mocca.report.hplc_input import report_hplc_input\n",
    "from mocca.report.chroms import report_chroms\n",
    "from mocca.report.results import report_runs\n",
    "from mocca.report.parafac import report_parafac\n",
    "from mocca.report.peaks import report_peaks\n",
    "from mocca.report.quali_comps import report_quali_comps\n",
    "from mocca.report.quant_comps import report_quant_comps\n",
    "\n",
    "# customized data analysis\n",
    "import datetime\n",
    "import time\n",
    "\n",
    "%load_ext autoreload\n",
    "%autoreload 2"
   ]
  },
  {
   "cell_type": "markdown",
   "id": "66d85391-6b55-4309-9bfa-ccb97e84b8f9",
   "metadata": {},
   "source": [
    "## Knoevenagel data folder handling\n",
    "\n",
    "The data corresponding to this notebook can be found in mocca -> notebooks -> knoevenagel_data. The data was recorded on an Agilent system on two different days. Therefore, we have two different gradient runs."
   ]
  },
  {
   "cell_type": "code",
   "execution_count": 2,
   "id": "aa9e56ae-7937-44cb-939e-ebec3bf4ccc7",
   "metadata": {},
   "outputs": [],
   "source": [
    "# get path of this notebook\n",
    "ipynb_path = os.path.dirname(os.path.realpath(\"__file__\"))\n",
    "\n",
    "# add the path to the test data folder\n",
    "knoev_data_path = os.path.join(ipynb_path, \"knoevenagel_data\")\n",
    "\n",
    "# find all folders containing Agilent HPLC data (.D file extension)\n",
    "folders = glob(knoev_data_path + '/*' + '.D') \n",
    "folders = sorted(folders)"
   ]
  },
  {
   "cell_type": "code",
   "execution_count": 3,
   "id": "36a5d434-f4d2-46bb-acd1-4a7d484dbd8d",
   "metadata": {
    "tags": []
   },
   "outputs": [
    {
     "name": "stdout",
     "output_type": "stream",
     "text": [
      "2022-01-26_19-43-27_gradient.D\n",
      "2022-01-26_19-48-52_ba_1.D\n",
      "2022-01-26_19-54-51_ba_0.75.D\n",
      "2022-01-26_20-00-51_ba_0.5.D\n",
      "2022-01-26_20-06-51_ba_0,25.D\n",
      "2022-01-26_20-12-55_cl_1.D\n",
      "2022-01-26_20-18-55_cl_0.75.D\n",
      "2022-01-26_20-24-53_cl_0.5.D\n",
      "2022-01-26_20-30-51_cl_0,25.D\n",
      "2022-01-26_20-36-52_ome_1.D\n",
      "2022-01-26_20-43-08_ome_0.75.D\n",
      "2022-01-26_20-49-05_ome_0.5.D\n",
      "2022-01-26_20-55-06_ome_0,25.D\n",
      "2022-01-26_21-01-10_nme2_1.D\n",
      "2022-01-26_21-07-11_nme2_0.75.D\n",
      "2022-01-26_21-13-09_nme2_0.5.D\n",
      "2022-01-26_21-19-09_nme2_0,25.D\n",
      "2022-01-28_11-27-26_gradient.D\n",
      "2022-01-28_11-35-44_ba.D\n",
      "2022-01-28_11-41-59_cl.D\n",
      "2022-01-28_11-48-11_ome.D\n",
      "2022-01-28_11-54-24_nme2.D\n",
      "2022-01-28_12-00-35_mix.D\n",
      "2022-01-28_12-15-41_ba.D\n",
      "2022-01-28_12-21-55_cl.D\n",
      "2022-01-28_12-28-04_ome.D\n",
      "2022-01-28_12-34-15_nme2.D\n",
      "2022-01-28_12-40-25_mix.D\n",
      "2022-01-28_12-55-36_ba.D\n",
      "2022-01-28_13-01-48_cl.D\n",
      "2022-01-28_13-07-56_ome.D\n",
      "2022-01-28_13-14-06_nme2.D\n",
      "2022-01-28_13-20-16_mix.D\n",
      "2022-01-28_13-35-23_ba.D\n",
      "2022-01-28_13-41-37_cl.D\n",
      "2022-01-28_13-47-47_ome.D\n",
      "2022-01-28_13-54-02_nme2.D\n",
      "2022-01-28_14-00-11_mix.D\n",
      "2022-01-28_14-15-17_ba.D\n",
      "2022-01-28_14-21-32_cl.D\n",
      "2022-01-28_14-27-40_ome.D\n",
      "2022-01-28_14-33-50_nme2.D\n",
      "2022-01-28_14-39-58_mix.D\n",
      "2022-01-28_14-55-01_ba.D\n",
      "2022-01-28_15-01-15_cl.D\n",
      "2022-01-28_15-07-28_ome.D\n",
      "2022-01-28_15-13-40_nme2.D\n",
      "2022-01-28_15-19-49_mix.D\n"
     ]
    }
   ],
   "source": [
    "for folder in folders:\n",
    "    print(os.path.basename(folder))"
   ]
  },
  {
   "cell_type": "markdown",
   "id": "6565c466-5b8e-4184-859c-3584e6e02be7",
   "metadata": {},
   "source": [
    "## Campaign initialization"
   ]
  },
  {
   "cell_type": "code",
   "execution_count": 4,
   "id": "7a483960-60d8-434a-bb79-13e74b5117c2",
   "metadata": {},
   "outputs": [],
   "source": [
    "knoev_campaign = HplcDadCampaign()"
   ]
  },
  {
   "cell_type": "markdown",
   "id": "50e7d544-b812-48a5-8773-93d13c40aa02",
   "metadata": {
    "tags": []
   },
   "source": [
    "### User input for calibration runs"
   ]
  },
  {
   "cell_type": "markdown",
   "id": "0fd31d60-028d-49d9-bd2f-1f7df4134333",
   "metadata": {},
   "source": [
    "We transfer the concentration values of the calibration standards."
   ]
  },
  {
   "cell_type": "code",
   "execution_count": 5,
   "id": "4510a788-cdff-4ca1-900e-b1f9acfae57d",
   "metadata": {},
   "outputs": [],
   "source": [
    "ba_concs = [0.965, 0.761, 0.482, 0.231]\n",
    "cl_concs = [1.01, 0.744, 0.478, 0.234]\n",
    "ome_concs = [0.990, 0.723, 0.455, 0.231]\n",
    "nme2_concs = [0.982, 0.719, 0.468, 0.229]"
   ]
  },
  {
   "cell_type": "markdown",
   "id": "f1945f4b-d9b9-42c0-9288-ee4c23181124",
   "metadata": {},
   "source": [
    "We create the first Gradient object for all calibration runs."
   ]
  },
  {
   "cell_type": "code",
   "execution_count": 6,
   "id": "2527d2cb-25da-43d7-9f24-7a03dc5ec365",
   "metadata": {},
   "outputs": [],
   "source": [
    "gradient_calib = Gradient(folders[0])"
   ]
  },
  {
   "cell_type": "markdown",
   "id": "b8d9fa45-de83-4100-bc56-08c11b53b9f0",
   "metadata": {},
   "source": [
    "We create HplcInput objects for each calibration run and add it to the campaign"
   ]
  },
  {
   "cell_type": "code",
   "execution_count": 7,
   "id": "46cdc570-7118-4a4b-ab15-c29b2cdf6871",
   "metadata": {},
   "outputs": [],
   "source": [
    "for i, folder in enumerate(folders[1:5]):\n",
    "    compound = Compound('benzaldehyde', ba_concs[i])\n",
    "    exp = HplcInput(folder, gradient_calib, compound=compound)\n",
    "    knoev_campaign.add_hplc_input(exp)\n",
    "\n",
    "for i, folder in enumerate(folders[5:9]):\n",
    "    compound = Compound('4-chlorobenzaldehyde', cl_concs[i])\n",
    "    exp = HplcInput(folder, gradient_calib, compound=compound)\n",
    "    knoev_campaign.add_hplc_input(exp)\n",
    "\n",
    "for i, folder in enumerate(folders[9:13]):\n",
    "    compound = Compound('4-methoxybenzaldehyde', ome_concs[i])\n",
    "    exp = HplcInput(folder, gradient_calib, compound=compound)\n",
    "    knoev_campaign.add_hplc_input(exp)\n",
    "\n",
    "for i, folder in enumerate(folders[13:17]):\n",
    "    compound = Compound('4-dimethylaminobenzaldehyde', nme2_concs[i])\n",
    "    exp = HplcInput(folder, gradient_calib, compound=compound)\n",
    "    knoev_campaign.add_hplc_input(exp)"
   ]
  },
  {
   "cell_type": "markdown",
   "id": "68b9b038-7401-4e8d-8e46-252d1586c6a8",
   "metadata": {},
   "source": [
    "### User input for reaction runs\n",
    "\n",
    "First, we generate the Gradient object of the second day."
   ]
  },
  {
   "cell_type": "code",
   "execution_count": 8,
   "id": "ac01c134-579e-4bde-b79a-624d31bfd929",
   "metadata": {},
   "outputs": [],
   "source": [
    "gradient_react = Gradient(folders[17])"
   ]
  },
  {
   "cell_type": "markdown",
   "id": "37693b6f-b74c-42a1-bd80-094c41f06c72",
   "metadata": {},
   "source": [
    "Then, we generate HplcInput objects for all reaction runs and add them to the campaign."
   ]
  },
  {
   "cell_type": "code",
   "execution_count": 9,
   "id": "b9116a48-8575-435f-8d1c-6db568c059c0",
   "metadata": {},
   "outputs": [],
   "source": [
    "for folder in [f for f in folders[18:] if \"mix\" not in f]:\n",
    "    exp = HplcInput(folder, gradient_react)\n",
    "    knoev_campaign.add_hplc_input(exp)"
   ]
  },
  {
   "cell_type": "markdown",
   "id": "87a70e0f-4b65-4f64-a2b2-051f1ae58247",
   "metadata": {},
   "source": [
    "### Settings for data processing"
   ]
  },
  {
   "cell_type": "code",
   "execution_count": 10,
   "id": "d3e8aea8-f5c8-45e4-bb75-e3d19d50befc",
   "metadata": {},
   "outputs": [],
   "source": [
    "settings = Settings('chemstation',\n",
    "                    absorbance_threshold = 500, wl_high_pass = 230,\n",
    "                    wl_low_pass = 270,\n",
    "                    peaks_high_pass = 1, peaks_low_pass = 3.2,\n",
    "                    spectrum_correl_thresh=0.99, relative_distance_thresh=0.01)"
   ]
  },
  {
   "cell_type": "markdown",
   "id": "926a0b31-e525-4574-8cea-38e39ca6b203",
   "metadata": {},
   "source": [
    "### Data processing"
   ]
  },
  {
   "cell_type": "code",
   "execution_count": 30,
   "id": "a7e53c99-166e-4fa6-a5ff-700216a1729c",
   "metadata": {
    "tags": []
   },
   "outputs": [],
   "source": [
    "knoev_campaign.process_all_hplc_input(settings)"
   ]
  },
  {
   "cell_type": "markdown",
   "id": "876d7ceb-7e66-4050-9569-ff4c97f25e40",
   "metadata": {},
   "source": [
    "## Reporting"
   ]
  },
  {
   "cell_type": "code",
   "execution_count": 31,
   "id": "edb947f0-278c-40ee-8347-b1efd5d9c35a",
   "metadata": {},
   "outputs": [],
   "source": [
    "knoev_report_path = os.path.join(ipynb_path, \"knoevenagel_reports\")"
   ]
  },
  {
   "cell_type": "code",
   "execution_count": 32,
   "id": "70f2787e-df08-41e3-9642-e06046bff285",
   "metadata": {},
   "outputs": [
    {
     "data": {
      "text/plain": [
       "False"
      ]
     },
     "execution_count": 32,
     "metadata": {},
     "output_type": "execute_result"
    }
   ],
   "source": [
    "knoev_campaign.chroms[8].dataset is None"
   ]
  },
  {
   "cell_type": "code",
   "execution_count": 33,
   "id": "6fe1501d-f580-4ce6-bb64-3596de1374a1",
   "metadata": {},
   "outputs": [
    {
     "data": {
      "text/markdown": [
       "Report saved to .//Users/haascp/Documents/GitHub/mocca/notebooks/knoevenagel_reports/report_hplc_input.html. To upload and share your report, create a free Datapane account by running `!datapane signup`."
      ],
      "text/plain": [
       "<IPython.core.display.Markdown object>"
      ]
     },
     "metadata": {},
     "output_type": "display_data"
    },
    {
     "data": {
      "text/markdown": [
       "How is your experience of Datapane? Please take two minutes to answer our anonymous product survey <a href='https://bit.ly/3lWjRlr' target='_blank'>here</a>"
      ],
      "text/plain": [
       "<IPython.core.display.Markdown object>"
      ]
     },
     "metadata": {},
     "output_type": "display_data"
    },
    {
     "data": {
      "text/markdown": [
       "Report saved to .//Users/haascp/Documents/GitHub/mocca/notebooks/knoevenagel_reports/report_chroms.html. To upload and share your report, create a free Datapane account by running `!datapane signup`."
      ],
      "text/plain": [
       "<IPython.core.display.Markdown object>"
      ]
     },
     "metadata": {},
     "output_type": "display_data"
    },
    {
     "data": {
      "text/markdown": [
       "Report saved to .//Users/haascp/Documents/GitHub/mocca/notebooks/knoevenagel_reports/report_runs.html. To upload and share your report, create a free Datapane account by running `!datapane signup`."
      ],
      "text/plain": [
       "<IPython.core.display.Markdown object>"
      ]
     },
     "metadata": {},
     "output_type": "display_data"
    },
    {
     "data": {
      "text/markdown": [
       "Report saved to .//Users/haascp/Documents/GitHub/mocca/notebooks/knoevenagel_reports/report_peak_db.html. To upload and share your report, create a free Datapane account by running `!datapane signup`."
      ],
      "text/plain": [
       "<IPython.core.display.Markdown object>"
      ]
     },
     "metadata": {},
     "output_type": "display_data"
    },
    {
     "data": {
      "text/markdown": [
       "Report saved to .//Users/haascp/Documents/GitHub/mocca/notebooks/knoevenagel_reports/report_quali_comp_db.html. To upload and share your report, create a free Datapane account by running `!datapane signup`."
      ],
      "text/plain": [
       "<IPython.core.display.Markdown object>"
      ]
     },
     "metadata": {},
     "output_type": "display_data"
    },
    {
     "data": {
      "text/markdown": [
       "Report saved to .//Users/haascp/Documents/GitHub/mocca/notebooks/knoevenagel_reports/report_quant_comp_db.html. To upload and share your report, create a free Datapane account by running `!datapane signup`."
      ],
      "text/plain": [
       "<IPython.core.display.Markdown object>"
      ]
     },
     "metadata": {},
     "output_type": "display_data"
    }
   ],
   "source": [
    "report_hplc_input(knoev_campaign.hplc_runs, knoev_report_path)\n",
    "report_chroms(knoev_campaign.chroms, knoev_campaign.settings, knoev_report_path)\n",
    "report_runs(knoev_campaign.chroms, knoev_campaign.quali_comp_db, knoev_campaign.quant_comp_db, knoev_report_path)\n",
    "#report_parafac(knoev_campaign.chroms, knoev_report_path)\n",
    "report_peaks(knoev_campaign.peak_db, knoev_report_path)\n",
    "report_quali_comps(knoev_campaign.quali_comp_db, knoev_report_path)\n",
    "report_quant_comps(knoev_campaign.quant_comp_db, knoev_report_path)"
   ]
  },
  {
   "cell_type": "markdown",
   "id": "736881b0-4eb3-498b-963f-5ad938408879",
   "metadata": {},
   "source": [
    "## Customized data analysis by the user\n",
    "\n",
    "This data analysis tool cannot include all possible data analysis needs of potential users. Therefore, we expect the user to do customized data analysis independently from the tool.\n",
    "\n",
    "We give an example here, how a reaction kinetics data analysis could look like. First, we have to determine reaction times. For that, we noted the times, when we added all components together in the HPLC vial and use the time stamps in the folder names to calculate the reaction times."
   ]
  },
  {
   "cell_type": "code",
   "execution_count": 15,
   "id": "9ffa3eb3-dc76-4d88-9e11-c1018343c3b1",
   "metadata": {},
   "outputs": [],
   "source": [
    "def timestamp(path):\n",
    "    x = os.path.basename(path)\n",
    "    date, times = x[:x.rfind('_')].split('_')\n",
    "    date = list(map(int, date.split('-')))\n",
    "    times = list(map(int, times.split('-')))\n",
    "    return time.mktime(datetime.datetime(date[0], date[1], date[2], times[0], times[1], times[2]).timetuple())"
   ]
  },
  {
   "cell_type": "code",
   "execution_count": 16,
   "id": "63985dfd-3879-4ddb-bccf-f56148655c68",
   "metadata": {},
   "outputs": [],
   "source": [
    "# start times\n",
    "ba_time = time.mktime(datetime.datetime(2022, 1, 28, 11, 24, 30).timetuple())\n",
    "cl_time = time.mktime(datetime.datetime(2022, 1, 28, 11, 26, 30).timetuple())\n",
    "ome_time = time.mktime(datetime.datetime(2022, 1, 28, 11, 27, 30).timetuple())\n",
    "nme2_time = time.mktime(datetime.datetime(2022, 1, 28, 11, 29, 30).timetuple())\n",
    "mix_time = time.mktime(datetime.datetime(2022, 1, 28, 11, 33, 30).timetuple())"
   ]
  },
  {
   "cell_type": "code",
   "execution_count": 17,
   "id": "f77fd0dd-53f9-45b7-a0bb-acc53edafbca",
   "metadata": {},
   "outputs": [],
   "source": [
    "ba_reaction = []  # list of time, conc tuples\n",
    "cl_reaction = []  # list of time, conc tuples\n",
    "ome_reaction = []  # list of time, conc tuples\n",
    "nme2_reaction = []  # list of time, conc tuples\n",
    "ba_mix = []  # list of time, conc tuples\n",
    "cl_mix = []  # list of time, conc tuples\n",
    "ome_mix = []  # list of time, conc tuples\n",
    "nme2_mix = []  # list of time, conc tuples\n",
    "\n",
    "react_chroms = [chrom for chrom in knoev_campaign.chroms if not chrom.experiment.compound]\n",
    "for chrom in react_chroms:\n",
    "    if \"_ba\" in chrom.experiment.path:\n",
    "        t = (timestamp(chrom.experiment.path) - ba_time) / 60\n",
    "        if \"benzaldehyde\" in chrom:\n",
    "            ba_reaction.append((t, chrom[\"benzaldehyde\"].concentration))\n",
    "        else:\n",
    "            ba_reaction.append((t, 0))\n",
    "    if \"_cl\" in chrom.experiment.path:\n",
    "        t = (timestamp(chrom.experiment.path) - cl_time) / 60\n",
    "        if \"4-chlorobenzaldehyde\" in chrom:\n",
    "            cl_reaction.append((t, chrom[\"4-chlorobenzaldehyde\"].concentration))\n",
    "        else:\n",
    "            cl_reaction.append((t, 0))\n",
    "    if \"_ome\" in chrom.experiment.path:\n",
    "        t = (timestamp(chrom.experiment.path) - ome_time) / 60\n",
    "        if \"4-methoxybenzaldehyde\" in chrom:\n",
    "            ome_reaction.append((t, chrom[\"4-methoxybenzaldehyde\"].concentration))\n",
    "        else:\n",
    "            ome_reaction.append((t, 0))\n",
    "    if \"_nme2\" in chrom.experiment.path:\n",
    "        t = (timestamp(chrom.experiment.path) - nme2_time) / 60\n",
    "        if \"4-dimethylaminobenzaldehyde\" in chrom:\n",
    "            nme2_reaction.append((t, chrom[\"4-dimethylaminobenzaldehyde\"].concentration))\n",
    "        else:\n",
    "            nme2_reaction.append((t, 0))\n",
    "    if \"_mix\" in chrom.experiment.path:\n",
    "        t = (timestamp(chrom.experiment.path) - mix_time) / 60\n",
    "        if \"benzaldehyde\" in chrom:\n",
    "            ba_mix.append((t, chrom[\"benzaldehyde\"].concentration))\n",
    "        else:\n",
    "            ba_mix.append((t, 0))\n",
    "        if \"4-chlorobenzaldehyde\" in chrom:\n",
    "            cl_mix.append((t, chrom[\"4-chlorobenzaldehyde\"].concentration))\n",
    "        else:\n",
    "            cl_mix.append((t, 0))\n",
    "        if \"4-methoxybenzaldehyde\" in chrom:\n",
    "            ome_mix.append((t, chrom[\"4-methoxybenzaldehyde\"].concentration))\n",
    "        else:\n",
    "            ome_mix.append((t, 0))\n",
    "        if \"4-dimethylaminobenzaldehyde\" in chrom:\n",
    "            nme2_mix.append((t, chrom[\"4-dimethylaminobenzaldehyde\"].concentration))\n",
    "        else:\n",
    "            nme2_mix.append((t, 0))\n",
    "    "
   ]
  },
  {
   "cell_type": "code",
   "execution_count": 18,
   "id": "348ad0c9-3b9d-4d63-9bec-92e4fd563ac1",
   "metadata": {},
   "outputs": [],
   "source": [
    "import matplotlib.pyplot as plt"
   ]
  },
  {
   "cell_type": "code",
   "execution_count": 19,
   "id": "5269074f-9ad3-4672-a7ad-3253703c5077",
   "metadata": {},
   "outputs": [
    {
     "data": {
      "text/plain": [
       "<function matplotlib.pyplot.show(close=None, block=None)>"
      ]
     },
     "execution_count": 19,
     "metadata": {},
     "output_type": "execute_result"
    },
    {
     "data": {
      "image/png": "[encoded data removed]",
      "text/plain": [
       "<Figure size 432x288 with 1 Axes>"
      ]
     },
     "metadata": {
      "needs_background": "light"
     },
     "output_type": "display_data"
    }
   ],
   "source": [
    "plt.plot(list(zip(*ba_reaction))[0], [1 / i for i in list(zip(*ba_reaction))[1]])\n",
    "plt.plot(list(zip(*cl_reaction))[0], [1 / i for i in list(zip(*cl_reaction))[1]])\n",
    "plt.plot(list(zip(*ome_reaction))[0], [1 / i for i in list(zip(*ome_reaction))[1]])\n",
    "plt.plot(list(zip(*nme2_reaction))[0], [1 / i for i in list(zip(*nme2_reaction))[1]])\n",
    "plt.show"
   ]
  },
  {
   "cell_type": "code",
   "execution_count": 20,
   "id": "da187288-4968-472d-9010-0d92359a1adf",
   "metadata": {},
   "outputs": [],
   "source": [
    "import altair as alt\n",
    "import numpy as np\n",
    "import pandas as pd\n",
    "from mocca.visualization.utils import round_to_n\n",
    "from sklearn.linear_model import LinearRegression"
   ]
  },
  {
   "cell_type": "code",
   "execution_count": 21,
   "id": "d970ceda-9a5a-4338-9746-f715cd70f942",
   "metadata": {},
   "outputs": [],
   "source": [
    "def plot_reaction_data(reaction_data, title=\"\"):\n",
    "    x, y = zip(*reaction_data)\n",
    "    x = list(x)\n",
    "    y = [1 / val for val in y]\n",
    "\n",
    "    linear_model = LinearRegression()\n",
    "    x_fit = np.array(x).reshape((-1,1))\n",
    "    linear_model.fit(x_fit, y)\n",
    "    score = linear_model.score(x_fit, y)\n",
    "\n",
    "    slope = linear_model.coef_[0]\n",
    "    y_intercept = linear_model.intercept_\n",
    "\n",
    "    # visualization\n",
    "    curve_annotation_formula = f\"y = {round_to_n(slope, 6)} x + {round_to_n(y_intercept, 3)}\"\n",
    "    curve_annotation_accuracy = f\"R\\u00B2 = {round(score, 4)}\"\n",
    "\n",
    "    xlabel='Reaction time (min)'\n",
    "    ylabel='Inverse Concentration (1/mM)'\n",
    "\n",
    "    df_scatter = pd.DataFrame({\n",
    "        'x': x,\n",
    "        'y': y\n",
    "    })\n",
    "\n",
    "    df_line = pd.DataFrame({\n",
    "        'x': x,\n",
    "        'y': [item * slope + y_intercept for item in x]\n",
    "    })\n",
    "\n",
    "    scatter = alt.Chart(df_scatter, title=title).mark_circle(size=80, opacity=1).encode(\n",
    "        x=alt.X(df_scatter.columns[0], axis=alt.Axis(title=xlabel)),\n",
    "        y=alt.Y(df_scatter.columns[1], axis=alt.Axis(title=ylabel)),\n",
    "        tooltip=[alt.Tooltip(df_scatter.columns[0], title=xlabel), \n",
    "                 alt.Tooltip(df_scatter.columns[1], title=ylabel)]\n",
    "    ).interactive()\n",
    "\n",
    "    chart = alt.Chart(df_line).mark_line(color='black').encode(\n",
    "            x=alt.X(df_line.columns[0], scale = alt.Scale(domain = (0.9 * np.min(x), np.max(x) * 1.1))),\n",
    "            y=alt.Y(df_line.columns[1], scale = alt.Scale(domain = (0.9 * min(np.min(y), np.min([item * slope + y_intercept for item in x])), \n",
    "                                                                    1.1 * max(np.max(y), np.max([item * slope + y_intercept for item in x])))))\n",
    "        )\n",
    "\n",
    "    if len(df_scatter[df_scatter.columns[0]]) > 1:\n",
    "        annotation_x_loc = (min(df_scatter[df_scatter.columns[0]]) +\n",
    "                            (max(df_scatter[df_scatter.columns[0]] -\n",
    "                                 min(df_scatter[df_scatter.columns[0]]))\n",
    "                             * 0.1))\n",
    "        annotation_y_loc_1 = (min(df_scatter[df_scatter.columns[1]]) +\n",
    "                              (max(df_scatter[df_scatter.columns[1]] -\n",
    "                                   min(df_scatter[df_scatter.columns[1]]))\n",
    "                               * 0.95))\n",
    "        annotation_y_loc_2 = (min(df_scatter[df_scatter.columns[1]]) +\n",
    "                              (max(df_scatter[df_scatter.columns[1]] -\n",
    "                                   min(df_scatter[df_scatter.columns[1]]))\n",
    "                               * 0.75))\n",
    "    else:\n",
    "        annotation_x_loc = df_scatter[df_scatter.columns[0]][0] * 0.98\n",
    "        annotation_y_loc_1 = df_scatter[df_scatter.columns[1]][0] * 0.95\n",
    "        annotation_y_loc_2 = df_scatter[df_scatter.columns[1]][0] * 0.9\n",
    "\n",
    "    annotation_formula = alt.Chart({'values':[{'x': annotation_x_loc,\n",
    "                                               'y': annotation_y_loc_1}]}).mark_text(\n",
    "        text=curve_annotation_formula, align='left'\n",
    "    ).encode(\n",
    "        x='x:Q', y='y:Q'\n",
    "    )\n",
    "\n",
    "    annotation_accuracy = alt.Chart({'values':[{'x': annotation_x_loc,\n",
    "                                               'y': annotation_y_loc_2}]}).mark_text(\n",
    "        text=curve_annotation_accuracy, align='left'\n",
    "    ).encode(\n",
    "        x='x:Q', y='y:Q'\n",
    "    )\n",
    "\n",
    "    fig = chart + scatter + annotation_formula + annotation_accuracy\n",
    "    fig = fig.configure_axis(\n",
    "            grid=False,\n",
    "            titleFontSize = 16,\n",
    "            titleFontWeight='normal'\n",
    "        ).configure_view(\n",
    "            strokeWidth=0\n",
    "        )\n",
    "    return fig"
   ]
  },
  {
   "cell_type": "code",
   "execution_count": 22,
   "id": "589379bd-30a7-4818-b7a5-e5a19236dc73",
   "metadata": {},
   "outputs": [
    {
     "data": {
      "text/html": [
       "\n",
       "<div id=\"altair-viz-cfceb5766d284512b8c6ae8d5deea3f3\"></div>\n",
       "<script type=\"text/javascript\">\n",
       "  (function(spec, embedOpt){\n",
       "    let outputDiv = document.currentScript.previousElementSibling;\n",
       "    if (outputDiv.id !== \"altair-viz-cfceb5766d284512b8c6ae8d5deea3f3\") {\n",
       "      outputDiv = document.getElementById(\"altair-viz-cfceb5766d284512b8c6ae8d5deea3f3\");\n",
       "    }\n",
       "    const paths = {\n",
       "      \"vega\": \"https://cdn.jsdelivr.net/npm//vega@5?noext\",\n",
       "      \"vega-lib\": \"https://cdn.jsdelivr.net/npm//vega-lib?noext\",\n",
       "      \"vega-lite\": \"https://cdn.jsdelivr.net/npm//vega-lite@4.8.1?noext\",\n",
       "      \"vega-embed\": \"https://cdn.jsdelivr.net/npm//vega-embed@6?noext\",\n",
       "    };\n",
       "\n",
       "    function loadScript(lib) {\n",
       "      return new Promise(function(resolve, reject) {\n",
       "        var s = document.createElement('script');\n",
       "        s.src = paths[lib];\n",
       "        s.async = true;\n",
       "        s.onload = () => resolve(paths[lib]);\n",
       "        s.onerror = () => reject(`Error loading script: ${paths[lib]}`);\n",
       "        document.getElementsByTagName(\"head\")[0].appendChild(s);\n",
       "      });\n",
       "    }\n",
       "\n",
       "    function showError(err) {\n",
       "      outputDiv.innerHTML = `<div class=\"error\" style=\"color:red;\">${err}</div>`;\n",
       "      throw err;\n",
       "    }\n",
       "\n",
       "    function displayChart(vegaEmbed) {\n",
       "      vegaEmbed(outputDiv, spec, embedOpt)\n",
       "        .catch(err => showError(`Javascript Error: ${err.message}<br>This usually means there's a typo in your chart specification. See the javascript console for the full traceback.`));\n",
       "    }\n",
       "\n",
       "    if(typeof define === \"function\" && define.amd) {\n",
       "      requirejs.config({paths});\n",
       "      require([\"vega-embed\"], displayChart, err => showError(`Error loading script: ${err.message}`));\n",
       "    } else if (typeof vegaEmbed === \"function\") {\n",
       "      displayChart(vegaEmbed);\n",
       "    } else {\n",
       "      loadScript(\"vega\")\n",
       "        .then(() => loadScript(\"vega-lite\"))\n",
       "        .then(() => loadScript(\"vega-embed\"))\n",
       "        .catch(showError)\n",
       "        .then(() => displayChart(vegaEmbed));\n",
       "    }\n",
       "  })({\"config\": {\"view\": {\"continuousWidth\": 400, \"continuousHeight\": 300, \"strokeWidth\": 0}, \"axis\": {\"grid\": false, \"titleFontSize\": 16, \"titleFontWeight\": \"normal\"}}, \"layer\": [{\"data\": {\"name\": \"data-90cdca98b572e1bcc2f6988d93b587fa\"}, \"mark\": {\"type\": \"line\", \"color\": \"black\"}, \"encoding\": {\"x\": {\"type\": \"quantitative\", \"field\": \"x\", \"scale\": {\"domain\": [10.11, 231.56833333333336]}}, \"y\": {\"type\": \"quantitative\", \"field\": \"y\", \"scale\": {\"domain\": [0.8350014111680293, 1.4154428644419197]}}}}, {\"data\": {\"name\": \"data-9db2e988b706a5a398925af6662a22d4\"}, \"mark\": {\"type\": \"circle\", \"opacity\": 1, \"size\": 80}, \"encoding\": {\"tooltip\": [{\"type\": \"quantitative\", \"field\": \"x\", \"title\": \"Reaction time (min)\"}, {\"type\": \"quantitative\", \"field\": \"y\", \"title\": \"Inverse Concentration (1/mM)\"}], \"x\": {\"type\": \"quantitative\", \"axis\": {\"title\": \"Reaction time (min)\"}, \"field\": \"x\"}, \"y\": {\"type\": \"quantitative\", \"axis\": {\"title\": \"Inverse Concentration (1/mM)\"}, \"field\": \"y\"}}, \"selection\": {\"selector125\": {\"type\": \"interval\", \"bind\": \"scales\", \"encodings\": [\"x\", \"y\"]}}, \"title\": \"Kinetics benzaldehyde\"}, {\"data\": {\"name\": \"data-5891002cf070639f7b3c5df09d18afa5\"}, \"mark\": {\"type\": \"text\", \"align\": \"left\", \"text\": \"y = 0.001776 x + 0.908\"}, \"encoding\": {\"x\": {\"type\": \"quantitative\", \"field\": \"x\"}, \"y\": {\"type\": \"quantitative\", \"field\": \"y\"}}}, {\"data\": {\"name\": \"data-b1a9c446f2c29bf4ff4de96a140f5f84\"}, \"mark\": {\"type\": \"text\", \"align\": \"left\", \"text\": \"R\\u00b2 = 0.9829\"}, \"encoding\": {\"x\": {\"type\": \"quantitative\", \"field\": \"x\"}, \"y\": {\"type\": \"quantitative\", \"field\": \"y\"}}}], \"$schema\": \"https://vega.github.io/schema/vega-lite/v4.8.1.json\", \"datasets\": {\"data-90cdca98b572e1bcc2f6988d93b587fa\": [{\"x\": 11.233333333333333, \"y\": 0.9277793457422547}, {\"x\": 51.18333333333333, \"y\": 0.9987389291769599}, {\"x\": 91.1, \"y\": 1.069639305616726}, {\"x\": 130.88333333333333, \"y\": 1.1403028540767348}, {\"x\": 170.78333333333333, \"y\": 1.2111736270190314}, {\"x\": 210.51666666666668, \"y\": 1.2817483649866315}], \"data-9db2e988b706a5a398925af6662a22d4\": [{\"x\": 11.233333333333333, \"y\": 0.9324492477432084}, {\"x\": 51.18333333333333, \"y\": 0.9770850023670002}, {\"x\": 91.1, \"y\": 1.0876065934543393}, {\"x\": 130.88333333333333, \"y\": 1.1556514834715328}, {\"x\": 170.78333333333333, \"y\": 1.1898238591805135}, {\"x\": 210.51666666666668, \"y\": 1.286766240401745}], \"data-5891002cf070639f7b3c5df09d18afa5\": [{\"x\": 31.16166666666667, \"y\": 1.2690503907688182}], \"data-b1a9c446f2c29bf4ff4de96a140f5f84\": [{\"x\": 31.16166666666667, \"y\": 1.198186992237111}]}}, {\"mode\": \"vega-lite\"});\n",
       "</script>"
      ],
      "text/plain": [
       "alt.LayerChart(...)"
      ]
     },
     "execution_count": 22,
     "metadata": {},
     "output_type": "execute_result"
    }
   ],
   "source": [
    "plot_reaction_data(ba_reaction, \"Kinetics benzaldehyde\")"
   ]
  },
  {
   "cell_type": "code",
   "execution_count": 23,
   "id": "3a9be9b6-2e86-4dd1-9a12-f98ec0abf767",
   "metadata": {},
   "outputs": [
    {
     "data": {
      "text/html": [
       "\n",
       "<div id=\"altair-viz-09e19fff68e048c5978087de5fb47753\"></div>\n",
       "<script type=\"text/javascript\">\n",
       "  (function(spec, embedOpt){\n",
       "    let outputDiv = document.currentScript.previousElementSibling;\n",
       "    if (outputDiv.id !== \"altair-viz-09e19fff68e048c5978087de5fb47753\") {\n",
       "      outputDiv = document.getElementById(\"altair-viz-09e19fff68e048c5978087de5fb47753\");\n",
       "    }\n",
       "    const paths = {\n",
       "      \"vega\": \"https://cdn.jsdelivr.net/npm//vega@5?noext\",\n",
       "      \"vega-lib\": \"https://cdn.jsdelivr.net/npm//vega-lib?noext\",\n",
       "      \"vega-lite\": \"https://cdn.jsdelivr.net/npm//vega-lite@4.8.1?noext\",\n",
       "      \"vega-embed\": \"https://cdn.jsdelivr.net/npm//vega-embed@6?noext\",\n",
       "    };\n",
       "\n",
       "    function loadScript(lib) {\n",
       "      return new Promise(function(resolve, reject) {\n",
       "        var s = document.createElement('script');\n",
       "        s.src = paths[lib];\n",
       "        s.async = true;\n",
       "        s.onload = () => resolve(paths[lib]);\n",
       "        s.onerror = () => reject(`Error loading script: ${paths[lib]}`);\n",
       "        document.getElementsByTagName(\"head\")[0].appendChild(s);\n",
       "      });\n",
       "    }\n",
       "\n",
       "    function showError(err) {\n",
       "      outputDiv.innerHTML = `<div class=\"error\" style=\"color:red;\">${err}</div>`;\n",
       "      throw err;\n",
       "    }\n",
       "\n",
       "    function displayChart(vegaEmbed) {\n",
       "      vegaEmbed(outputDiv, spec, embedOpt)\n",
       "        .catch(err => showError(`Javascript Error: ${err.message}<br>This usually means there's a typo in your chart specification. See the javascript console for the full traceback.`));\n",
       "    }\n",
       "\n",
       "    if(typeof define === \"function\" && define.amd) {\n",
       "      requirejs.config({paths});\n",
       "      require([\"vega-embed\"], displayChart, err => showError(`Error loading script: ${err.message}`));\n",
       "    } else if (typeof vegaEmbed === \"function\") {\n",
       "      displayChart(vegaEmbed);\n",
       "    } else {\n",
       "      loadScript(\"vega\")\n",
       "        .then(() => loadScript(\"vega-lite\"))\n",
       "        .then(() => loadScript(\"vega-embed\"))\n",
       "        .catch(showError)\n",
       "        .then(() => displayChart(vegaEmbed));\n",
       "    }\n",
       "  })({\"config\": {\"view\": {\"continuousWidth\": 400, \"continuousHeight\": 300, \"strokeWidth\": 0}, \"axis\": {\"grid\": false, \"titleFontSize\": 16, \"titleFontWeight\": \"normal\"}}, \"layer\": [{\"data\": {\"name\": \"data-7ec4c0c2b58b46465ab6a9e6ae9c035f\"}, \"mark\": {\"type\": \"line\", \"color\": \"black\"}, \"encoding\": {\"x\": {\"type\": \"quantitative\", \"field\": \"x\", \"scale\": {\"domain\": [13.934999999999999, 236.22500000000002]}}, \"y\": {\"type\": \"quantitative\", \"field\": \"y\", \"scale\": {\"domain\": [0.8365620573862157, 1.6167774608568144]}}}}, {\"data\": {\"name\": \"data-f6683ec15cdd73e7b131c4c390e6a7e3\"}, \"mark\": {\"type\": \"circle\", \"opacity\": 1, \"size\": 80}, \"encoding\": {\"tooltip\": [{\"type\": \"quantitative\", \"field\": \"x\", \"title\": \"Reaction time (min)\"}, {\"type\": \"quantitative\", \"field\": \"y\", \"title\": \"Inverse Concentration (1/mM)\"}], \"x\": {\"type\": \"quantitative\", \"axis\": {\"title\": \"Reaction time (min)\"}, \"field\": \"x\"}, \"y\": {\"type\": \"quantitative\", \"axis\": {\"title\": \"Inverse Concentration (1/mM)\"}, \"field\": \"y\"}}, \"selection\": {\"selector126\": {\"type\": \"interval\", \"bind\": \"scales\", \"encodings\": [\"x\", \"y\"]}}, \"title\": \"Kinetics 4-chlorobenzaldehyde\"}, {\"data\": {\"name\": \"data-e567472f07c23f20687b30ba5397ee0b\"}, \"mark\": {\"type\": \"text\", \"align\": \"left\", \"text\": \"y = 0.002312 x + 0.973\"}, \"encoding\": {\"x\": {\"type\": \"quantitative\", \"field\": \"x\"}, \"y\": {\"type\": \"quantitative\", \"field\": \"y\"}}}, {\"data\": {\"name\": \"data-f3d93edfb3ee7c903963dfe3f87a7930\"}, \"mark\": {\"type\": \"text\", \"align\": \"left\", \"text\": \"R\\u00b2 = 0.8959\"}, \"encoding\": {\"x\": {\"type\": \"quantitative\", \"field\": \"x\"}, \"y\": {\"type\": \"quantitative\", \"field\": \"y\"}}}], \"$schema\": \"https://vega.github.io/schema/vega-lite/v4.8.1.json\", \"datasets\": {\"data-7ec4c0c2b58b46465ab6a9e6ae9c035f\": [{\"x\": 15.483333333333333, \"y\": 1.0089936315919916}, {\"x\": 55.416666666666664, \"y\": 1.1013394435684107}, {\"x\": 95.3, \"y\": 1.1935696305715706}, {\"x\": 135.11666666666667, \"y\": 1.285645650943718}, {\"x\": 175.03333333333333, \"y\": 1.377952921262384}, {\"x\": 214.75, \"y\": 1.4697976916880129}], \"data-f6683ec15cdd73e7b131c4c390e6a7e3\": [{\"x\": 15.483333333333333, \"y\": 0.9295133970957952}, {\"x\": 55.416666666666664, \"y\": 1.1941210767043593}, {\"x\": 95.3, \"y\": 1.2050552577418552}, {\"x\": 135.11666666666667, \"y\": 1.2681717756011999}, {\"x\": 175.03333333333333, \"y\": 1.4049969654562489}, {\"x\": 214.75, \"y\": 1.4354404970266297}], \"data-e567472f07c23f20687b30ba5397ee0b\": [{\"x\": 35.410000000000004, \"y\": 1.410144142030088}], \"data-f3d93edfb3ee7c903963dfe3f87a7930\": [{\"x\": 35.410000000000004, \"y\": 1.3089587220439212}]}}, {\"mode\": \"vega-lite\"});\n",
       "</script>"
      ],
      "text/plain": [
       "alt.LayerChart(...)"
      ]
     },
     "execution_count": 23,
     "metadata": {},
     "output_type": "execute_result"
    }
   ],
   "source": [
    "plot_reaction_data(cl_reaction, \"Kinetics 4-chlorobenzaldehyde\")"
   ]
  },
  {
   "cell_type": "code",
   "execution_count": 24,
   "id": "3d0cf440-b39e-4d47-adaa-e5ed8a86e5c5",
   "metadata": {},
   "outputs": [
    {
     "data": {
      "text/html": [
       "\n",
       "<div id=\"altair-viz-fba5433320a74f7aa18c0b5a4ed6af20\"></div>\n",
       "<script type=\"text/javascript\">\n",
       "  (function(spec, embedOpt){\n",
       "    let outputDiv = document.currentScript.previousElementSibling;\n",
       "    if (outputDiv.id !== \"altair-viz-fba5433320a74f7aa18c0b5a4ed6af20\") {\n",
       "      outputDiv = document.getElementById(\"altair-viz-fba5433320a74f7aa18c0b5a4ed6af20\");\n",
       "    }\n",
       "    const paths = {\n",
       "      \"vega\": \"https://cdn.jsdelivr.net/npm//vega@5?noext\",\n",
       "      \"vega-lib\": \"https://cdn.jsdelivr.net/npm//vega-lib?noext\",\n",
       "      \"vega-lite\": \"https://cdn.jsdelivr.net/npm//vega-lite@4.8.1?noext\",\n",
       "      \"vega-embed\": \"https://cdn.jsdelivr.net/npm//vega-embed@6?noext\",\n",
       "    };\n",
       "\n",
       "    function loadScript(lib) {\n",
       "      return new Promise(function(resolve, reject) {\n",
       "        var s = document.createElement('script');\n",
       "        s.src = paths[lib];\n",
       "        s.async = true;\n",
       "        s.onload = () => resolve(paths[lib]);\n",
       "        s.onerror = () => reject(`Error loading script: ${paths[lib]}`);\n",
       "        document.getElementsByTagName(\"head\")[0].appendChild(s);\n",
       "      });\n",
       "    }\n",
       "\n",
       "    function showError(err) {\n",
       "      outputDiv.innerHTML = `<div class=\"error\" style=\"color:red;\">${err}</div>`;\n",
       "      throw err;\n",
       "    }\n",
       "\n",
       "    function displayChart(vegaEmbed) {\n",
       "      vegaEmbed(outputDiv, spec, embedOpt)\n",
       "        .catch(err => showError(`Javascript Error: ${err.message}<br>This usually means there's a typo in your chart specification. See the javascript console for the full traceback.`));\n",
       "    }\n",
       "\n",
       "    if(typeof define === \"function\" && define.amd) {\n",
       "      requirejs.config({paths});\n",
       "      require([\"vega-embed\"], displayChart, err => showError(`Error loading script: ${err.message}`));\n",
       "    } else if (typeof vegaEmbed === \"function\") {\n",
       "      displayChart(vegaEmbed);\n",
       "    } else {\n",
       "      loadScript(\"vega\")\n",
       "        .then(() => loadScript(\"vega-lite\"))\n",
       "        .then(() => loadScript(\"vega-embed\"))\n",
       "        .catch(showError)\n",
       "        .then(() => displayChart(vegaEmbed));\n",
       "    }\n",
       "  })({\"config\": {\"view\": {\"continuousWidth\": 400, \"continuousHeight\": 300, \"strokeWidth\": 0}, \"axis\": {\"grid\": false, \"titleFontSize\": 16, \"titleFontWeight\": \"normal\"}}, \"layer\": [{\"data\": {\"name\": \"data-d8b7ffe410c9afb2dfa60ba64498bd1b\"}, \"mark\": {\"type\": \"line\", \"color\": \"black\"}, \"encoding\": {\"x\": {\"type\": \"quantitative\", \"field\": \"x\", \"scale\": {\"domain\": [18.615000000000002, 241.96333333333337]}}, \"y\": {\"type\": \"quantitative\", \"field\": \"y\", \"scale\": {\"domain\": [0.8308775813297337, 1.1227177197316396]}}}}, {\"data\": {\"name\": \"data-d05bf5388be11f4ce86e22088162e08a\"}, \"mark\": {\"type\": \"circle\", \"opacity\": 1, \"size\": 80}, \"encoding\": {\"tooltip\": [{\"type\": \"quantitative\", \"field\": \"x\", \"title\": \"Reaction time (min)\"}, {\"type\": \"quantitative\", \"field\": \"y\", \"title\": \"Inverse Concentration (1/mM)\"}], \"x\": {\"type\": \"quantitative\", \"axis\": {\"title\": \"Reaction time (min)\"}, \"field\": \"x\"}, \"y\": {\"type\": \"quantitative\", \"axis\": {\"title\": \"Inverse Concentration (1/mM)\"}, \"field\": \"y\"}}, \"selection\": {\"selector127\": {\"type\": \"interval\", \"bind\": \"scales\", \"encodings\": [\"x\", \"y\"]}}, \"title\": \"Kinetics 4-Methoxybenzaldehyde\"}, {\"data\": {\"name\": \"data-4defadf56809069c011db6152e2ff6b5\"}, \"mark\": {\"type\": \"text\", \"align\": \"left\", \"text\": \"y = 4.528424e-04 x + 0.914\"}, \"encoding\": {\"x\": {\"type\": \"quantitative\", \"field\": \"x\"}, \"y\": {\"type\": \"quantitative\", \"field\": \"y\"}}}, {\"data\": {\"name\": \"data-ddaf0d4ec68b646fda18451fd92e8bbf\"}, \"mark\": {\"type\": \"text\", \"align\": \"left\", \"text\": \"R\\u00b2 = 0.9624\"}, \"encoding\": {\"x\": {\"type\": \"quantitative\", \"field\": \"x\"}, \"y\": {\"type\": \"quantitative\", \"field\": \"y\"}}}], \"$schema\": \"https://vega.github.io/schema/vega-lite/v4.8.1.json\", \"datasets\": {\"data-d8b7ffe410c9afb2dfa60ba64498bd1b\": [{\"x\": 20.683333333333334, \"y\": 0.9231973125885929}, {\"x\": 60.56666666666667, \"y\": 0.941258175966809}, {\"x\": 100.43333333333334, \"y\": 0.9593114919721133}, {\"x\": 140.28333333333333, \"y\": 0.9773572606045057}, {\"x\": 180.16666666666666, \"y\": 0.9954181239827218}, {\"x\": 219.96666666666667, \"y\": 1.0134412504963783}], \"data-d05bf5388be11f4ce86e22088162e08a\": [{\"x\": 20.683333333333334, \"y\": 0.9232938527568387}, {\"x\": 60.56666666666667, \"y\": 0.9463328971091054}, {\"x\": 100.43333333333334, \"y\": 0.96095785778428}, {\"x\": 140.28333333333333, \"y\": 0.9656582185118683}, {\"x\": 180.16666666666666, \"y\": 0.9930883169657193}, {\"x\": 219.96666666666667, \"y\": 1.0206524724833086}], \"data-4defadf56809069c011db6152e2ff6b5\": [{\"x\": 40.611666666666665, \"y\": 1.015784541496985}], \"data-ddaf0d4ec68b646fda18451fd92e8bbf\": [{\"x\": 40.611666666666665, \"y\": 0.9963128175516911}]}}, {\"mode\": \"vega-lite\"});\n",
       "</script>"
      ],
      "text/plain": [
       "alt.LayerChart(...)"
      ]
     },
     "execution_count": 24,
     "metadata": {},
     "output_type": "execute_result"
    }
   ],
   "source": [
    "plot_reaction_data(ome_reaction, \"Kinetics 4-Methoxybenzaldehyde\")"
   ]
  },
  {
   "cell_type": "code",
   "execution_count": 25,
   "id": "e5932cca-2ee4-4cb4-8834-91adf9bd645a",
   "metadata": {},
   "outputs": [
    {
     "data": {
      "text/html": [
       "\n",
       "<div id=\"altair-viz-bef3a10b56084acda1f849528ca76f16\"></div>\n",
       "<script type=\"text/javascript\">\n",
       "  (function(spec, embedOpt){\n",
       "    let outputDiv = document.currentScript.previousElementSibling;\n",
       "    if (outputDiv.id !== \"altair-viz-bef3a10b56084acda1f849528ca76f16\") {\n",
       "      outputDiv = document.getElementById(\"altair-viz-bef3a10b56084acda1f849528ca76f16\");\n",
       "    }\n",
       "    const paths = {\n",
       "      \"vega\": \"https://cdn.jsdelivr.net/npm//vega@5?noext\",\n",
       "      \"vega-lib\": \"https://cdn.jsdelivr.net/npm//vega-lib?noext\",\n",
       "      \"vega-lite\": \"https://cdn.jsdelivr.net/npm//vega-lite@4.8.1?noext\",\n",
       "      \"vega-embed\": \"https://cdn.jsdelivr.net/npm//vega-embed@6?noext\",\n",
       "    };\n",
       "\n",
       "    function loadScript(lib) {\n",
       "      return new Promise(function(resolve, reject) {\n",
       "        var s = document.createElement('script');\n",
       "        s.src = paths[lib];\n",
       "        s.async = true;\n",
       "        s.onload = () => resolve(paths[lib]);\n",
       "        s.onerror = () => reject(`Error loading script: ${paths[lib]}`);\n",
       "        document.getElementsByTagName(\"head\")[0].appendChild(s);\n",
       "      });\n",
       "    }\n",
       "\n",
       "    function showError(err) {\n",
       "      outputDiv.innerHTML = `<div class=\"error\" style=\"color:red;\">${err}</div>`;\n",
       "      throw err;\n",
       "    }\n",
       "\n",
       "    function displayChart(vegaEmbed) {\n",
       "      vegaEmbed(outputDiv, spec, embedOpt)\n",
       "        .catch(err => showError(`Javascript Error: ${err.message}<br>This usually means there's a typo in your chart specification. See the javascript console for the full traceback.`));\n",
       "    }\n",
       "\n",
       "    if(typeof define === \"function\" && define.amd) {\n",
       "      requirejs.config({paths});\n",
       "      require([\"vega-embed\"], displayChart, err => showError(`Error loading script: ${err.message}`));\n",
       "    } else if (typeof vegaEmbed === \"function\") {\n",
       "      displayChart(vegaEmbed);\n",
       "    } else {\n",
       "      loadScript(\"vega\")\n",
       "        .then(() => loadScript(\"vega-lite\"))\n",
       "        .then(() => loadScript(\"vega-embed\"))\n",
       "        .catch(showError)\n",
       "        .then(() => displayChart(vegaEmbed));\n",
       "    }\n",
       "  })({\"config\": {\"view\": {\"continuousWidth\": 400, \"continuousHeight\": 300, \"strokeWidth\": 0}, \"axis\": {\"grid\": false, \"titleFontSize\": 16, \"titleFontWeight\": \"normal\"}}, \"layer\": [{\"data\": {\"name\": \"data-4798288416efe93ccbe2cb16eaced020\"}, \"mark\": {\"type\": \"line\", \"color\": \"black\"}, \"encoding\": {\"x\": {\"type\": \"quantitative\", \"field\": \"x\", \"scale\": {\"domain\": [22.41, 246.58333333333334]}}, \"y\": {\"type\": \"quantitative\", \"field\": \"y\", \"scale\": {\"domain\": [0.7842011572633704, 1.0109731334209628]}}}}, {\"data\": {\"name\": \"data-447af64a740e5ee23de9b4be6f6dd683\"}, \"mark\": {\"type\": \"circle\", \"opacity\": 1, \"size\": 80}, \"encoding\": {\"tooltip\": [{\"type\": \"quantitative\", \"field\": \"x\", \"title\": \"Reaction time (min)\"}, {\"type\": \"quantitative\", \"field\": \"y\", \"title\": \"Inverse Concentration (1/mM)\"}], \"x\": {\"type\": \"quantitative\", \"axis\": {\"title\": \"Reaction time (min)\"}, \"field\": \"x\"}, \"y\": {\"type\": \"quantitative\", \"axis\": {\"title\": \"Inverse Concentration (1/mM)\"}, \"field\": \"y\"}}, \"selection\": {\"selector128\": {\"type\": \"interval\", \"bind\": \"scales\", \"encodings\": [\"x\", \"y\"]}}, \"title\": \"Kinetics 4-dimethylaminobenzaldehyde\"}, {\"data\": {\"name\": \"data-72f16fe72e670925e276c96d3cbe7527\"}, \"mark\": {\"type\": \"text\", \"align\": \"left\", \"text\": \"y = 1.717612e-04 x + 0.88\"}, \"encoding\": {\"x\": {\"type\": \"quantitative\", \"field\": \"x\"}, \"y\": {\"type\": \"quantitative\", \"field\": \"y\"}}}, {\"data\": {\"name\": \"data-c1f3362bf91fc772660b1d7270f96f63\"}, \"mark\": {\"type\": \"text\", \"align\": \"left\", \"text\": \"R\\u00b2 = 0.6616\"}, \"encoding\": {\"x\": {\"type\": \"quantitative\", \"field\": \"x\"}, \"y\": {\"type\": \"quantitative\", \"field\": \"y\"}}}], \"$schema\": \"https://vega.github.io/schema/vega-lite/v4.8.1.json\", \"datasets\": {\"data-4798288416efe93ccbe2cb16eaced020\": [{\"x\": 24.9, \"y\": 0.8838709233210795}, {\"x\": 64.75, \"y\": 0.8907156080043792}, {\"x\": 104.6, \"y\": 0.8975602926876788}, {\"x\": 144.53333333333333, \"y\": 0.9044192908061172}, {\"x\": 184.33333333333334, \"y\": 0.9112553874283337}, {\"x\": 224.16666666666666, \"y\": 0.9180972094246056}], \"data-447af64a740e5ee23de9b4be6f6dd683\": [{\"x\": 24.9, \"y\": 0.8713346191815226}, {\"x\": 64.75, \"y\": 0.9037568217668511}, {\"x\": 104.6, \"y\": 0.9037568281504645}, {\"x\": 144.53333333333333, \"y\": 0.9040105468583632}, {\"x\": 184.33333333333334, \"y\": 0.903993410786844}, {\"x\": 224.16666666666666, \"y\": 0.919066484928148}], \"data-72f16fe72e670925e276c96d3cbe7527\": [{\"x\": 44.82666666666667, \"y\": 0.9166798916408168}], \"data-c1f3362bf91fc772660b1d7270f96f63\": [{\"x\": 44.82666666666667, \"y\": 0.9071335184914917}]}}, {\"mode\": \"vega-lite\"});\n",
       "</script>"
      ],
      "text/plain": [
       "alt.LayerChart(...)"
      ]
     },
     "execution_count": 25,
     "metadata": {},
     "output_type": "execute_result"
    }
   ],
   "source": [
    "plot_reaction_data(nme2_reaction, \"Kinetics 4-dimethylaminobenzaldehyde\")"
   ]
  },
  {
   "cell_type": "code",
   "execution_count": 39,
   "id": "a0fe392f-7a20-4a9f-8cdd-45729e67d7c0",
   "metadata": {},
   "outputs": [
    {
     "data": {
      "text/plain": [
       "[(1625.0, 0.06269813197392608),\n",
       " (4015.0, 0.07550681403225172),\n",
       " (6406.0, 0.10541152109644086),\n",
       " (8801.0, 0.00853870325090322),\n",
       " (11188.0, -0.00024429672435938445),\n",
       " (13579.0, 0.008621680071169877)]"
      ]
     },
     "execution_count": 39,
     "metadata": {},
     "output_type": "execute_result"
    }
   ],
   "source": [
    "ba_mix"
   ]
  },
  {
   "cell_type": "code",
   "execution_count": 33,
   "id": "4e2ff7a2-5675-4f2c-881d-65abec97e068",
   "metadata": {},
   "outputs": [
    {
     "data": {
      "text/plain": [
       "<function matplotlib.pyplot.show(close=None, block=None)>"
      ]
     },
     "execution_count": 33,
     "metadata": {},
     "output_type": "execute_result"
    },
    {
     "data": {
      "image/png": "[encoded data removed]",
      "text/plain": [
       "<Figure size 432x288 with 1 Axes>"
      ]
     },
     "metadata": {
      "needs_background": "light"
     },
     "output_type": "display_data"
    }
   ],
   "source": [
    "plt.plot(list(zip(*ba_mix))[0], list(zip(*ba_mix))[1])\n",
    "plt.plot(list(zip(*cl_mix))[0], list(zip(*cl_mix))[1])\n",
    "plt.plot(list(zip(*ome_mix))[0], list(zip(*ome_mix))[1])\n",
    "plt.plot(list(zip(*nme2_mix))[0], list(zip(*nme2_mix))[1])\n",
    "plt.show"
   ]
  },
  {
   "cell_type": "code",
   "execution_count": null,
   "id": "f6374075-cd86-4289-9397-8b0e860f01ed",
   "metadata": {},
   "outputs": [],
   "source": []
  }
 ],
 "metadata": {
  "kernelspec": {
   "display_name": "mocca-dev",
   "language": "python",
   "name": "mocca-dev"
  },
  "language_info": {
   "codemirror_mode": {
    "name": "ipython",
    "version": 3
   },
   "file_extension": ".py",
   "mimetype": "text/x-python",
   "name": "python",
   "nbconvert_exporter": "python",
   "pygments_lexer": "ipython3",
   "version": "3.9.7"
  }
 },
 "nbformat": 4,
 "nbformat_minor": 5
}
