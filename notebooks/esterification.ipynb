{
 "cells": [
  {
   "cell_type": "markdown",
   "id": "c70bf775-82ac-4c3c-a1b5-23af5ec8fb3f",
   "metadata": {},
   "source": [
    "CPH and ML 08/2022"
   ]
  },
  {
   "cell_type": "markdown",
   "id": "6a58324c-8e7a-44ca-9f39-dc6563ce81b0",
   "metadata": {
    "tags": []
   },
   "source": [
    "# MOCCA data analysis of esterification reaction\n",
    "\n",
    "MOCCA is a tool for the analysis of *High-Performance Liquid Chromatography–Diode Array Detection* (HPLC–DAD) datasets which are recorded in the context of reaction (process) controls. It only requires HPLC–DAD raw data and some basic user input for the data analysis. Within this specific script, we demonstrate how MOCCA can be used for the analysis of HPLC-DAD raw data stored in allotrope data format."
   ]
  },
  {
   "cell_type": "markdown",
   "id": "c9d2a04c-52f8-4e3f-bd9e-8a80fcee0302",
   "metadata": {},
   "source": [
    "## Comment on esterification reaction\n",
    "We performed a simple esterification reaction of benzoic acid with isopropanol under Steglich conditions and tracked the progress of the reaction via HPLC-DAD. The raw data were automatically exported as allotrope files (.ADF) and subsequently analyzed using MOCCA.\n"
   ]
  },
  {
   "cell_type": "markdown",
   "id": "14bcad8c-907f-45e8-b0a6-8bb1b4f61865",
   "metadata": {},
   "source": [
    "## Imports"
   ]
  },
  {
   "cell_type": "code",
   "execution_count": 1,
   "id": "ff1b1321-02b7-4ffa-9bfd-76556f076ad0",
   "metadata": {},
   "outputs": [],
   "source": [
    "# folders handling\n",
    "import os\n",
    "from glob import glob\n",
    "from natsort import natsorted\n",
    "\n",
    "\n",
    "# user interaction\n",
    "from mocca.user_interaction.campaign import HplcDadCampaign\n",
    "from mocca.user_interaction.user_objects import Gradient\n",
    "from mocca.user_interaction.user_objects import Compound\n",
    "from mocca.user_interaction.user_objects import InternalStandard\n",
    "from mocca.user_interaction.user_objects import HplcInput\n",
    "from mocca.user_interaction.settings import Settings\n",
    "\n",
    "# reporting\n",
    "from mocca.report.main import report\n",
    "\n",
    "\"\"\"\n",
    "#creation of separate reports\n",
    "from mocca.report.hplc_input import report_hplc_input\n",
    "from mocca.report.gradient import report_gradients\n",
    "from mocca.report.chromatograms import report_chroms\n",
    "from mocca.report.bad_chromatograms import report_bad_chroms\n",
    "from mocca.report.compound_tracking import report_comp_tracking\n",
    "from mocca.report.peak_library import report_peak_library\n",
    "from mocca.report.compound_library import report_comp_library\n",
    "from mocca.report.calibration_library import report_calib_library\n",
    "from mocca.report.deconvolution import report_deconvolution\n",
    "\"\"\"\n",
    "\n",
    "%load_ext autoreload\n",
    "%autoreload 2"
   ]
  },
  {
   "cell_type": "markdown",
   "id": "66d85391-6b55-4309-9bfa-ccb97e84b8f9",
   "metadata": {},
   "source": [
    "### Folder handling\n",
    "\n",
    "The data corresponding to this notebook can be found in mocca -> notebooks -> esterification_data. The data was recorded on an Agilent system with an automatic export of the raw data as .ADF file."
   ]
  },
  {
   "cell_type": "code",
   "execution_count": 2,
   "id": "aff1a097-0ad6-421f-9168-87a91252a362",
   "metadata": {
    "tags": []
   },
   "outputs": [],
   "source": [
    "# get path of this notebook\n",
    "ipynb_path = os.path.dirname(os.path.realpath(\"__file__\"))\n",
    "\n",
    "# add the path to the test data folder\n",
    "data_path = os.path.join(ipynb_path, \"esterification_data\")\n",
    "\n",
    "# find .ADF files\n",
    "folders = natsorted(glob(data_path + '/*' + '.ADF'))\n"
   ]
  },
  {
   "cell_type": "code",
   "execution_count": 3,
   "id": "36a5d434-f4d2-46bb-acd1-4a7d484dbd8d",
   "metadata": {
    "tags": []
   },
   "outputs": [
    {
     "name": "stdout",
     "output_type": "stream",
     "text": [
      "SiSa_20220512blank2.ADF\n",
      "SiSa_$Sample_1_2022-05-12 20-07-27+02-00 [5]_12_05_2022 19_42_30.ADF\n",
      "SiSa_$Sample_2_2022-05-12 20-41-29+02-00 [5]_12_05_2022 19_42_30.ADF\n",
      "SiSa_$Sample_3_2022-05-12 21-50-31+02-00 [5]_12_05_2022 19_42_30.ADF\n",
      "SiSa_$Sample_4_2022-05-12 23-59-36+02-00 [5]_12_05_2022 19_42_30.ADF\n",
      "SiSa_$Sample_5_2022-05-13 01-38-40+02-00 [5]_12_05_2022 19_42_30.ADF\n",
      "SiSa_$Sample_6_2022-05-13 03-17-43+02-00 [5]_12_05_2022 19_42_30.ADF\n",
      "SiSa_$Sample_7_2022-05-13 04-56-47+02-00 [5]_12_05_2022 19_42_30.ADF\n",
      "SiSa_$Sample_8_2022-05-13 07-05-52+02-00 [5]_12_05_2022 19_42_31.ADF\n",
      "SiSa_$Sample_9_2022-05-13 09-14-57+02-00 [5]_12_05_2022 19_42_31.ADF\n",
      "SiSa_$Sample_10_2022-05-13 11-24-01+02-00 [5]_12_05_2022 19_42_31.ADF\n",
      "SiSa_$Sample_11_2022-05-13 15-25-52+02-00 [5]_12_05_2022 19_42_31.ADF\n",
      "SiSa_blank1_2022-05-23 10-39-12+02-00-02.ADF\n",
      "SiSa_istd_ditertbutylbiphenyl-20220518 092221.ADF\n",
      "SiSa_product_bzoipr_diluted.ADF\n"
     ]
    }
   ],
   "source": [
    "for folder in folders:\n",
    "    print(os.path.basename(folder))"
   ]
  },
  {
   "cell_type": "markdown",
   "id": "6565c466-5b8e-4184-859c-3584e6e02be7",
   "metadata": {},
   "source": [
    "### Campaign initialization and user input"
   ]
  },
  {
   "cell_type": "code",
   "execution_count": 4,
   "id": "7a483960-60d8-434a-bb79-13e74b5117c2",
   "metadata": {},
   "outputs": [],
   "source": [
    "esterification_campaign = HplcDadCampaign()"
   ]
  },
  {
   "cell_type": "markdown",
   "id": "e5297ebc-aaa7-4ed8-ac2c-37728cc14328",
   "metadata": {},
   "source": [
    "The first gradient run was recorded for the baseline correction of the two compound inputs, the second gradient run for the baseline correction of the reaction runs."
   ]
  },
  {
   "cell_type": "code",
   "execution_count": 5,
   "id": "2527d2cb-25da-43d7-9f24-7a03dc5ec365",
   "metadata": {},
   "outputs": [],
   "source": [
    "gradient_ref = Gradient(next(folder for folder in folders if \"blank1\" in folder))\n",
    "gradient_rxn = Gradient(next(folder for folder in folders if \"blank2\" in folder))"
   ]
  },
  {
   "cell_type": "markdown",
   "id": "863c5053-0f4a-4e40-a4d1-624de6349f06",
   "metadata": {},
   "source": [
    "We create Hplc input objects for the internal standard, 4,4'-di-tert-butylbiphenyl, and the product (BzOiPr) and add them to the campaign. Note that we add the internal standard as a regular compound (not as an internal standard) here. We will calculate the relative signal intensities by ourselves later."
   ]
  },
  {
   "cell_type": "code",
   "execution_count": 6,
   "id": "b7a2c913-f68a-4d9d-807e-2e284f98a56b",
   "metadata": {},
   "outputs": [],
   "source": [
    "istd_folder = next(folder for folder in folders if \"istd\" in folder)\n",
    "product_folder = next(folder for folder in folders if \"product\" in folder)\n",
    "\n",
    "init_istd = HplcInput(istd_folder, gradient_ref, Compound('istd'))\n",
    "init_product = HplcInput(product_folder, gradient_ref, Compound('BzOiPr'))\n",
    "\n",
    "esterification_campaign.add_hplc_input(init_istd)\n",
    "esterification_campaign.add_hplc_input(init_product)"
   ]
  },
  {
   "cell_type": "markdown",
   "id": "68b9b038-7401-4e8d-8e46-252d1586c6a8",
   "metadata": {},
   "source": [
    "### User input for reaction runs\n",
    "We create HplcInput objects for each reaction run and add them to the campaign."
   ]
  },
  {
   "cell_type": "code",
   "execution_count": 7,
   "id": "b9116a48-8575-435f-8d1c-6db568c059c0",
   "metadata": {
    "tags": []
   },
   "outputs": [],
   "source": [
    "for folder in [folder for folder in folders if \"Sample\" in folder]:\n",
    "    exp = HplcInput(folder, gradient_rxn)\n",
    "    esterification_campaign.add_hplc_input(exp)"
   ]
  },
  {
   "cell_type": "markdown",
   "id": "87a70e0f-4b65-4f64-a2b2-051f1ae58247",
   "metadata": {},
   "source": [
    "### Settings for data processing"
   ]
  },
  {
   "cell_type": "code",
   "execution_count": 8,
   "id": "d3e8aea8-f5c8-45e4-bb75-e3d19d50befc",
   "metadata": {},
   "outputs": [],
   "source": [
    "settings = Settings('allotrope',\n",
    "                    absorbance_threshold = 500, wl_high_pass = 210, wl_low_pass = 300,\n",
    "                    peaks_high_pass = 3, peaks_low_pass = 13,\n",
    "                    spectrum_correl_thresh=0.99, relative_distance_thresh=0.01)"
   ]
  },
  {
   "cell_type": "markdown",
   "id": "926a0b31-e525-4574-8cea-38e39ca6b203",
   "metadata": {},
   "source": [
    "### Data processing\n",
    "Note that the product peak overlaps with the peak of an intermediate and the deconvolution algorithm is triggered for every reaction run leading to comparably long processing times."
   ]
  },
  {
   "cell_type": "code",
   "execution_count": 9,
   "id": "a7e53c99-166e-4fa6-a5ff-700216a1729c",
   "metadata": {
    "tags": []
   },
   "outputs": [
    {
     "name": "stdout",
     "output_type": "stream",
     "text": [
      "CPU times: total: 1h 16min 21s\n",
      "Wall time: 20min 9s\n"
     ]
    }
   ],
   "source": [
    "%%time\n",
    "esterification_campaign.process_all_hplc_input(settings)"
   ]
  },
  {
   "cell_type": "markdown",
   "id": "7f375f0e-039e-41e2-892e-a8d5795fcf42",
   "metadata": {},
   "source": [
    "Save campaign as .pkl-file"
   ]
  },
  {
   "cell_type": "code",
   "execution_count": 10,
   "id": "8737f2c6-ff9b-4531-a009-681ec32a5293",
   "metadata": {},
   "outputs": [],
   "source": [
    "#the campaign is saved within the notebook folder or alternatively to a given path\n",
    "esterification_campaign.save_campaign('esterification_campaign.pkl', remove_raw_data=False)"
   ]
  },
  {
   "cell_type": "markdown",
   "id": "dcabb20c-8b90-4bd9-bb04-6e809b9b7047",
   "metadata": {},
   "source": [
    "Load campaign from .pkl-file"
   ]
  },
  {
   "cell_type": "code",
   "execution_count": 14,
   "id": "036c7304-4108-40b7-bacc-bb5e381340fe",
   "metadata": {},
   "outputs": [],
   "source": [
    "esterification_campaign.load_campaign('esterification_campaign.pkl')"
   ]
  },
  {
   "cell_type": "markdown",
   "id": "876d7ceb-7e66-4050-9569-ff4c97f25e40",
   "metadata": {
    "tags": []
   },
   "source": [
    "### Reporting"
   ]
  },
  {
   "cell_type": "code",
   "execution_count": 11,
   "id": "edb947f0-278c-40ee-8347-b1efd5d9c35a",
   "metadata": {},
   "outputs": [],
   "source": [
    "#directory at which reports are saved\n",
    "report_path = os.path.join(ipynb_path, \"esterification reports\")"
   ]
  },
  {
   "cell_type": "code",
   "execution_count": 12,
   "id": "fa083a7f-efa0-4fcb-b896-b44b669e5c1c",
   "metadata": {
    "collapsed": true,
    "jupyter": {
     "outputs_hidden": true
    },
    "tags": []
   },
   "outputs": [
    {
     "data": {
      "text/markdown": [
       "Report saved to ./C:\\Users\\GMJAZ\\OneDrive - Bayer\\Personal Data\\GitHub\\mocca\\notebooks\\esterification reports\\hplc_input.html. To upload and share your report, create a free Datapane account by running `!datapane signup`."
      ],
      "text/plain": [
       "<IPython.core.display.Markdown object>"
      ]
     },
     "metadata": {},
     "output_type": "display_data"
    },
    {
     "data": {
      "text/markdown": [
       "Report saved to ./C:\\Users\\GMJAZ\\OneDrive - Bayer\\Personal Data\\GitHub\\mocca\\notebooks\\esterification reports\\gradient.html. To upload and share your report, create a free Datapane account by running `!datapane signup`."
      ],
      "text/plain": [
       "<IPython.core.display.Markdown object>"
      ]
     },
     "metadata": {},
     "output_type": "display_data"
    },
    {
     "data": {
      "text/markdown": [
       "How is your experience of Datapane? Please take two minutes to answer our anonymous product survey <a href='https://bit.ly/3lWjRlr' target='_blank'>here</a>"
      ],
      "text/plain": [
       "<IPython.core.display.Markdown object>"
      ]
     },
     "metadata": {},
     "output_type": "display_data"
    },
    {
     "data": {
      "text/markdown": [
       "Report saved to ./C:\\Users\\GMJAZ\\OneDrive - Bayer\\Personal Data\\GitHub\\mocca\\notebooks\\esterification reports\\peak_library.html. To upload and share your report, create a free Datapane account by running `!datapane signup`."
      ],
      "text/plain": [
       "<IPython.core.display.Markdown object>"
      ]
     },
     "metadata": {},
     "output_type": "display_data"
    },
    {
     "name": "stderr",
     "output_type": "stream",
     "text": [
      "error uploading: HTTPSConnectionPool(host='events.datapane.com', port=443): Max retries exceeded with url: /batch/ (Caused by SSLError(SSLCertVerificationError(1, '[SSL: CERTIFICATE_VERIFY_FAILED] certificate verify failed: unable to get local issuer certificate (_ssl.c:997)')))\n",
      "error uploading: HTTPSConnectionPool(host='events.datapane.com', port=443): Max retries exceeded with url: /batch/ (Caused by SSLError(SSLCertVerificationError(1, '[SSL: CERTIFICATE_VERIFY_FAILED] certificate verify failed: unable to get local issuer certificate (_ssl.c:997)')))\n"
     ]
    },
    {
     "data": {
      "text/markdown": [
       "Report saved to ./C:\\Users\\GMJAZ\\OneDrive - Bayer\\Personal Data\\GitHub\\mocca\\notebooks\\esterification reports\\chromatograms.html. To upload and share your report, create a free Datapane account by running `!datapane signup`."
      ],
      "text/plain": [
       "<IPython.core.display.Markdown object>"
      ]
     },
     "metadata": {},
     "output_type": "display_data"
    },
    {
     "data": {
      "text/markdown": [
       "How is your experience of Datapane? Please take two minutes to answer our anonymous product survey <a href='https://bit.ly/3lWjRlr' target='_blank'>here</a>"
      ],
      "text/plain": [
       "<IPython.core.display.Markdown object>"
      ]
     },
     "metadata": {},
     "output_type": "display_data"
    },
    {
     "name": "stdout",
     "output_type": "stream",
     "text": [
      "No chromatograms given or all chromatograms are good data!\n"
     ]
    },
    {
     "data": {
      "text/markdown": [
       "Report saved to ./C:\\Users\\GMJAZ\\OneDrive - Bayer\\Personal Data\\GitHub\\mocca\\notebooks\\esterification reports\\compound_tracking.html. To upload and share your report, create a free Datapane account by running `!datapane signup`."
      ],
      "text/plain": [
       "<IPython.core.display.Markdown object>"
      ]
     },
     "metadata": {},
     "output_type": "display_data"
    },
    {
     "name": "stderr",
     "output_type": "stream",
     "text": [
      "error uploading: HTTPSConnectionPool(host='events.datapane.com', port=443): Max retries exceeded with url: /batch/ (Caused by SSLError(SSLCertVerificationError(1, '[SSL: CERTIFICATE_VERIFY_FAILED] certificate verify failed: unable to get local issuer certificate (_ssl.c:997)')))\n",
      "error uploading: HTTPSConnectionPool(host='events.datapane.com', port=443): Max retries exceeded with url: /batch/ (Caused by SSLError(SSLCertVerificationError(1, '[SSL: CERTIFICATE_VERIFY_FAILED] certificate verify failed: unable to get local issuer certificate (_ssl.c:997)')))\n"
     ]
    },
    {
     "data": {
      "text/markdown": [
       "Report saved to ./C:\\Users\\GMJAZ\\OneDrive - Bayer\\Personal Data\\GitHub\\mocca\\notebooks\\esterification reports\\deconvolution.html. To upload and share your report, create a free Datapane account by running `!datapane signup`."
      ],
      "text/plain": [
       "<IPython.core.display.Markdown object>"
      ]
     },
     "metadata": {},
     "output_type": "display_data"
    },
    {
     "data": {
      "text/markdown": [
       "How is your experience of Datapane? Please take two minutes to answer our anonymous product survey <a href='https://bit.ly/3lWjRlr' target='_blank'>here</a>"
      ],
      "text/plain": [
       "<IPython.core.display.Markdown object>"
      ]
     },
     "metadata": {},
     "output_type": "display_data"
    },
    {
     "data": {
      "text/markdown": [
       "Report saved to ./C:\\Users\\GMJAZ\\OneDrive - Bayer\\Personal Data\\GitHub\\mocca\\notebooks\\esterification reports\\compound_library.html. To upload and share your report, create a free Datapane account by running `!datapane signup`."
      ],
      "text/plain": [
       "<IPython.core.display.Markdown object>"
      ]
     },
     "metadata": {},
     "output_type": "display_data"
    },
    {
     "name": "stdout",
     "output_type": "stream",
     "text": [
      "No components in the quantitative component database!\n"
     ]
    }
   ],
   "source": [
    "report(esterification_campaign, report_path)"
   ]
  },
  {
   "cell_type": "markdown",
   "id": "736881b0-4eb3-498b-963f-5ad938408879",
   "metadata": {},
   "source": [
    "### Customized data analysis\n",
    "\n",
    "This data analysis tool cannot include all possible data analysis needs of potential users. Therefore, we expect the user to do customized data analysis independently of the tool's reporting function.\n",
    "\n",
    "As an example, we show how the integrals of compounds of interest can be extracted from the MOCCA campaign and plotted."
   ]
  },
  {
   "cell_type": "code",
   "execution_count": 13,
   "id": "c03317a8-b6c8-4c1b-8da7-ad7bad406a9e",
   "metadata": {},
   "outputs": [],
   "source": [
    "import pandas as pd\n",
    "import datetime\n",
    "import time\n",
    "import matplotlib.pyplot as plt\n"
   ]
  },
  {
   "cell_type": "markdown",
   "id": "df464ed7-1915-4052-9f64-02fe4ed42e91",
   "metadata": {},
   "source": [
    "We extract the results out of the campaign object and create a dataframe that contains all relevant information."
   ]
  },
  {
   "cell_type": "code",
   "execution_count": 14,
   "id": "f6374075-cd86-4289-9397-8b0e860f01ed",
   "metadata": {},
   "outputs": [],
   "source": [
    "#create dictionary with relevant results by extracting data from campaign objects\n",
    "results = {\n",
    "    'BzOiPr': [],\n",
    "    'unknown_1': [],\n",
    "    'unknown_2': [],\n",
    "    'unknown_3': [],\n",
    "    'unknown_4': [],\n",
    "    'istd': [],\n",
    "    'rel_product_area': [],\n",
    "    'path': []\n",
    "    }\n",
    "\n",
    "for i, chrom in enumerate(esterification_campaign.chroms):\n",
    "    if not chrom.experiment.compound:\n",
    "        results['BzOiPr'].append(0)\n",
    "        results['unknown_1'].append(0)\n",
    "        results['unknown_2'].append(0)\n",
    "        results['unknown_3'].append(0)\n",
    "        results['unknown_4'].append(0)\n",
    "        results['istd'].append(0)\n",
    "        results['rel_product_area'].append(0)\n",
    "        results['path'].append(chrom.experiment.path)\n",
    "        for peak in chrom.peaks:\n",
    "            if peak.compound_id == 'BzOiPr':\n",
    "                results['BzOiPr'][-1] = peak.integral\n",
    "            if peak.compound_id == 'unknown_1':\n",
    "                results['unknown_1'][-1] = peak.integral\n",
    "            if peak.compound_id == 'unknown_2':\n",
    "                results['unknown_2'][-1] = peak.integral\n",
    "            if peak.compound_id == 'unknown_3':\n",
    "                results['unknown_3'][-1] = peak.integral\n",
    "            if peak.compound_id == 'unknown_4':\n",
    "                results['unknown_4'][-1] = peak.integral    \n",
    "            if peak.compound_id == 'istd':\n",
    "                results['istd'][-1] = peak.integral\n",
    "                results['rel_product_area'][-1] = results['BzOiPr'][-1] / peak.integral"
   ]
  },
  {
   "cell_type": "code",
   "execution_count": 15,
   "id": "9128ce76-f861-4541-b891-3ce2abe0c793",
   "metadata": {},
   "outputs": [],
   "source": [
    "results_df = pd.DataFrame(results)"
   ]
  },
  {
   "cell_type": "markdown",
   "id": "a528b367-1a59-4ab0-befd-072b93110eee",
   "metadata": {},
   "source": [
    "The HPLC samples were prepared and directly injected automatically. Therefore, we can extract our time point values from the data files' time stamps."
   ]
  },
  {
   "cell_type": "code",
   "execution_count": 16,
   "id": "8b0433f8-f165-47a0-8cb6-6688c1ea45f2",
   "metadata": {},
   "outputs": [
    {
     "name": "stderr",
     "output_type": "stream",
     "text": [
      "error uploading: HTTPSConnectionPool(host='events.datapane.com', port=443): Max retries exceeded with url: /batch/ (Caused by SSLError(SSLCertVerificationError(1, '[SSL: CERTIFICATE_VERIFY_FAILED] certificate verify failed: unable to get local issuer certificate (_ssl.c:997)')))\n"
     ]
    },
    {
     "data": {
      "text/html": [
       "<div>\n",
       "<style scoped>\n",
       "    .dataframe tbody tr th:only-of-type {\n",
       "        vertical-align: middle;\n",
       "    }\n",
       "\n",
       "    .dataframe tbody tr th {\n",
       "        vertical-align: top;\n",
       "    }\n",
       "\n",
       "    .dataframe thead th {\n",
       "        text-align: right;\n",
       "    }\n",
       "</style>\n",
       "<table border=\"1\" class=\"dataframe\">\n",
       "  <thead>\n",
       "    <tr style=\"text-align: right;\">\n",
       "      <th></th>\n",
       "      <th>BzOiPr</th>\n",
       "      <th>unknown_1</th>\n",
       "      <th>unknown_2</th>\n",
       "      <th>unknown_3</th>\n",
       "      <th>unknown_4</th>\n",
       "      <th>istd</th>\n",
       "      <th>rel_product_area</th>\n",
       "      <th>path</th>\n",
       "      <th>rxn_times</th>\n",
       "    </tr>\n",
       "  </thead>\n",
       "  <tbody>\n",
       "    <tr>\n",
       "      <th>0</th>\n",
       "      <td>0.000000</td>\n",
       "      <td>145605.111421</td>\n",
       "      <td>12318.065491</td>\n",
       "      <td>470626.198356</td>\n",
       "      <td>46552.822253</td>\n",
       "      <td>253730.488165</td>\n",
       "      <td>0.000000</td>\n",
       "      <td>C:\\Users\\GMJAZ\\OneDrive - Bayer\\Personal Data\\...</td>\n",
       "      <td>0.000000</td>\n",
       "    </tr>\n",
       "    <tr>\n",
       "      <th>1</th>\n",
       "      <td>61421.971623</td>\n",
       "      <td>118654.755289</td>\n",
       "      <td>12149.296185</td>\n",
       "      <td>476072.773468</td>\n",
       "      <td>55095.569486</td>\n",
       "      <td>216348.176594</td>\n",
       "      <td>0.283903</td>\n",
       "      <td>C:\\Users\\GMJAZ\\OneDrive - Bayer\\Personal Data\\...</td>\n",
       "      <td>0.567222</td>\n",
       "    </tr>\n",
       "    <tr>\n",
       "      <th>2</th>\n",
       "      <td>155210.270490</td>\n",
       "      <td>110041.876103</td>\n",
       "      <td>13506.317329</td>\n",
       "      <td>349319.956282</td>\n",
       "      <td>71703.745405</td>\n",
       "      <td>211720.258945</td>\n",
       "      <td>0.733091</td>\n",
       "      <td>C:\\Users\\GMJAZ\\OneDrive - Bayer\\Personal Data\\...</td>\n",
       "      <td>1.717778</td>\n",
       "    </tr>\n",
       "    <tr>\n",
       "      <th>3</th>\n",
       "      <td>259586.565674</td>\n",
       "      <td>100893.037397</td>\n",
       "      <td>12847.311951</td>\n",
       "      <td>203251.735180</td>\n",
       "      <td>88746.370789</td>\n",
       "      <td>216426.532925</td>\n",
       "      <td>1.199421</td>\n",
       "      <td>C:\\Users\\GMJAZ\\OneDrive - Bayer\\Personal Data\\...</td>\n",
       "      <td>3.869167</td>\n",
       "    </tr>\n",
       "    <tr>\n",
       "      <th>4</th>\n",
       "      <td>308498.026960</td>\n",
       "      <td>96968.952491</td>\n",
       "      <td>13368.102938</td>\n",
       "      <td>145142.593180</td>\n",
       "      <td>101085.199243</td>\n",
       "      <td>219213.039018</td>\n",
       "      <td>1.407298</td>\n",
       "      <td>C:\\Users\\GMJAZ\\OneDrive - Bayer\\Personal Data\\...</td>\n",
       "      <td>5.520278</td>\n",
       "    </tr>\n",
       "    <tr>\n",
       "      <th>5</th>\n",
       "      <td>343297.699964</td>\n",
       "      <td>91093.744402</td>\n",
       "      <td>13018.116301</td>\n",
       "      <td>101767.394469</td>\n",
       "      <td>108428.777191</td>\n",
       "      <td>220673.498693</td>\n",
       "      <td>1.555682</td>\n",
       "      <td>C:\\Users\\GMJAZ\\OneDrive - Bayer\\Personal Data\\...</td>\n",
       "      <td>7.171111</td>\n",
       "    </tr>\n",
       "    <tr>\n",
       "      <th>6</th>\n",
       "      <td>371831.938209</td>\n",
       "      <td>85601.205926</td>\n",
       "      <td>12497.008355</td>\n",
       "      <td>68798.563568</td>\n",
       "      <td>115172.938385</td>\n",
       "      <td>220114.605448</td>\n",
       "      <td>1.689265</td>\n",
       "      <td>C:\\Users\\GMJAZ\\OneDrive - Bayer\\Personal Data\\...</td>\n",
       "      <td>8.822222</td>\n",
       "    </tr>\n",
       "    <tr>\n",
       "      <th>7</th>\n",
       "      <td>393830.575894</td>\n",
       "      <td>83517.672478</td>\n",
       "      <td>12695.658544</td>\n",
       "      <td>42545.861861</td>\n",
       "      <td>122696.560218</td>\n",
       "      <td>222005.119793</td>\n",
       "      <td>1.773971</td>\n",
       "      <td>C:\\Users\\GMJAZ\\OneDrive - Bayer\\Personal Data\\...</td>\n",
       "      <td>10.973611</td>\n",
       "    </tr>\n",
       "    <tr>\n",
       "      <th>8</th>\n",
       "      <td>415971.597578</td>\n",
       "      <td>79852.100295</td>\n",
       "      <td>12380.231166</td>\n",
       "      <td>0.000000</td>\n",
       "      <td>128404.436250</td>\n",
       "      <td>227916.662542</td>\n",
       "      <td>1.825104</td>\n",
       "      <td>C:\\Users\\GMJAZ\\OneDrive - Bayer\\Personal Data\\...</td>\n",
       "      <td>13.125000</td>\n",
       "    </tr>\n",
       "    <tr>\n",
       "      <th>9</th>\n",
       "      <td>438296.837102</td>\n",
       "      <td>74071.254813</td>\n",
       "      <td>12739.831581</td>\n",
       "      <td>0.000000</td>\n",
       "      <td>133345.335937</td>\n",
       "      <td>227671.423342</td>\n",
       "      <td>1.925129</td>\n",
       "      <td>C:\\Users\\GMJAZ\\OneDrive - Bayer\\Personal Data\\...</td>\n",
       "      <td>15.276111</td>\n",
       "    </tr>\n",
       "    <tr>\n",
       "      <th>10</th>\n",
       "      <td>451481.913682</td>\n",
       "      <td>58267.761082</td>\n",
       "      <td>13637.757690</td>\n",
       "      <td>0.000000</td>\n",
       "      <td>139740.386119</td>\n",
       "      <td>228635.288500</td>\n",
       "      <td>1.974682</td>\n",
       "      <td>C:\\Users\\GMJAZ\\OneDrive - Bayer\\Personal Data\\...</td>\n",
       "      <td>19.306944</td>\n",
       "    </tr>\n",
       "  </tbody>\n",
       "</table>\n",
       "</div>"
      ],
      "text/plain": [
       "           BzOiPr      unknown_1     unknown_2      unknown_3      unknown_4  \\\n",
       "0        0.000000  145605.111421  12318.065491  470626.198356   46552.822253   \n",
       "1    61421.971623  118654.755289  12149.296185  476072.773468   55095.569486   \n",
       "2   155210.270490  110041.876103  13506.317329  349319.956282   71703.745405   \n",
       "3   259586.565674  100893.037397  12847.311951  203251.735180   88746.370789   \n",
       "4   308498.026960   96968.952491  13368.102938  145142.593180  101085.199243   \n",
       "5   343297.699964   91093.744402  13018.116301  101767.394469  108428.777191   \n",
       "6   371831.938209   85601.205926  12497.008355   68798.563568  115172.938385   \n",
       "7   393830.575894   83517.672478  12695.658544   42545.861861  122696.560218   \n",
       "8   415971.597578   79852.100295  12380.231166       0.000000  128404.436250   \n",
       "9   438296.837102   74071.254813  12739.831581       0.000000  133345.335937   \n",
       "10  451481.913682   58267.761082  13637.757690       0.000000  139740.386119   \n",
       "\n",
       "             istd  rel_product_area  \\\n",
       "0   253730.488165          0.000000   \n",
       "1   216348.176594          0.283903   \n",
       "2   211720.258945          0.733091   \n",
       "3   216426.532925          1.199421   \n",
       "4   219213.039018          1.407298   \n",
       "5   220673.498693          1.555682   \n",
       "6   220114.605448          1.689265   \n",
       "7   222005.119793          1.773971   \n",
       "8   227916.662542          1.825104   \n",
       "9   227671.423342          1.925129   \n",
       "10  228635.288500          1.974682   \n",
       "\n",
       "                                                 path  rxn_times  \n",
       "0   C:\\Users\\GMJAZ\\OneDrive - Bayer\\Personal Data\\...   0.000000  \n",
       "1   C:\\Users\\GMJAZ\\OneDrive - Bayer\\Personal Data\\...   0.567222  \n",
       "2   C:\\Users\\GMJAZ\\OneDrive - Bayer\\Personal Data\\...   1.717778  \n",
       "3   C:\\Users\\GMJAZ\\OneDrive - Bayer\\Personal Data\\...   3.869167  \n",
       "4   C:\\Users\\GMJAZ\\OneDrive - Bayer\\Personal Data\\...   5.520278  \n",
       "5   C:\\Users\\GMJAZ\\OneDrive - Bayer\\Personal Data\\...   7.171111  \n",
       "6   C:\\Users\\GMJAZ\\OneDrive - Bayer\\Personal Data\\...   8.822222  \n",
       "7   C:\\Users\\GMJAZ\\OneDrive - Bayer\\Personal Data\\...  10.973611  \n",
       "8   C:\\Users\\GMJAZ\\OneDrive - Bayer\\Personal Data\\...  13.125000  \n",
       "9   C:\\Users\\GMJAZ\\OneDrive - Bayer\\Personal Data\\...  15.276111  \n",
       "10  C:\\Users\\GMJAZ\\OneDrive - Bayer\\Personal Data\\...  19.306944  "
      ]
     },
     "execution_count": 16,
     "metadata": {},
     "output_type": "execute_result"
    }
   ],
   "source": [
    "#The time stamp is extracted from the file name and converted into datetime format. The reaction time are then calculated as the time difference between the respective sample and the first sample.\n",
    "time_list = []\n",
    "rxntime_list = []\n",
    "for element in folders[1:12]:\n",
    "    date = element.split(\"_\")[4][0:19]\n",
    "    time_format = datetime.datetime.strptime(date, '%Y-%m-%d %H-%M-%S')\n",
    "    time_list.append(time_format)\n",
    "    time_diff = time_format - time_list[0]\n",
    "    time_hrs = time_diff.total_seconds() /3600\n",
    "    rxntime_list.append(time_hrs)\n",
    "results_df['rxn_times'] = rxntime_list\n",
    "results_df\n"
   ]
  },
  {
   "cell_type": "markdown",
   "id": "70727558-32db-43d8-a6b4-f85f4c5fc08b",
   "metadata": {},
   "source": [
    "We can now plot the absolute and relative integral of our desired product versus time."
   ]
  },
  {
   "cell_type": "code",
   "execution_count": 17,
   "id": "84b19c9d-4648-4481-801d-c4c8f9ae2bcd",
   "metadata": {},
   "outputs": [
    {
     "data": {
      "image/png": "[encoded data removed]",
      "text/plain": [
       "<Figure size 432x288 with 1 Axes>"
      ]
     },
     "metadata": {
      "needs_background": "light"
     },
     "output_type": "display_data"
    }
   ],
   "source": [
    "plt.clf()\n",
    "plt.style.use('default')\n",
    "ax = plt.scatter(x=results_df['rxn_times'], y = results_df['BzOiPr'])\n",
    "plt.xlabel('time /hrs')\n",
    "plt.ylabel('summed area (mAU·s)')\n",
    "plt.show()\n",
    "#plt.savefig(r'abs_prod_area_vs_time.png',bbox_inches='tight')"
   ]
  },
  {
   "cell_type": "code",
   "execution_count": 18,
   "id": "a205a21f-5f6d-4c19-a80f-d2d4d3be11e9",
   "metadata": {},
   "outputs": [
    {
     "data": {
      "image/png": "[encoded data removed]",
      "text/plain": [
       "<Figure size 640x480 with 1 Axes>"
      ]
     },
     "metadata": {},
     "output_type": "display_data"
    }
   ],
   "source": [
    "plt.clf()\n",
    "plt.style.use('default')\n",
    "ax = plt.scatter(x=results_df['rxn_times'], y = results_df['rel_product_area'])\n",
    "plt.xlabel('time /hrs')\n",
    "plt.ylabel('relative area')\n",
    "plt.show()\n",
    "#plt.savefig(r'rel_prod_area_vs_time.png',bbox_inches='tight')"
   ]
  },
  {
   "cell_type": "markdown",
   "id": "253938ef-62e1-436e-b996-dda2122a12ec",
   "metadata": {},
   "source": [
    "An initially unknown intermediate was rapidly formed and was then consumed comparably slowly. MOCCA tracks previously unknown compounds over the reaction runs so that we can plot its intensity over time."
   ]
  },
  {
   "cell_type": "code",
   "execution_count": 21,
   "id": "df11b7d6-b04b-4ba6-a941-758ecc69e832",
   "metadata": {},
   "outputs": [
    {
     "data": {
      "image/png": "[encoded data removed]",
      "text/plain": [
       "<Figure size 640x480 with 1 Axes>"
      ]
     },
     "metadata": {},
     "output_type": "display_data"
    }
   ],
   "source": [
    "plt.clf()\n",
    "plt.style.use('default')\n",
    "ax = plt.scatter(x=results_df['rxn_times'], y = results_df['unknown_3'])\n",
    "plt.xlabel('time /hrs')\n",
    "plt.ylabel('summed area (mAU·s)')\n",
    "plt.show()\n",
    "#plt.savefig(r'esterification_unknown_3_intermediate.png',bbox_inches='tight')"
   ]
  },
  {
   "cell_type": "code",
   "execution_count": null,
   "id": "98bb86e9-6965-433f-9c82-226de8fd77e3",
   "metadata": {},
   "outputs": [],
   "source": []
  }
 ],
 "metadata": {
  "kernelspec": {
   "display_name": "mocca_env",
   "language": "python",
   "name": "mocca_env"
  },
  "language_info": {
   "codemirror_mode": {
    "name": "ipython",
    "version": 3
   },
   "file_extension": ".py",
   "mimetype": "text/x-python",
   "name": "python",
   "nbconvert_exporter": "python",
   "pygments_lexer": "ipython3",
   "version": "3.10.2"
  }
 },
 "nbformat": 4,
 "nbformat_minor": 5
}
