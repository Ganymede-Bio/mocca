{
 "cells": [
  {
   "cell_type": "markdown",
   "id": "c70bf775-82ac-4c3c-a1b5-23af5ec8fb3f",
   "metadata": {},
   "source": [
    "CPH 02/04/2022"
   ]
  },
  {
   "cell_type": "markdown",
   "id": "6a58324c-8e7a-44ca-9f39-dc6563ce81b0",
   "metadata": {
    "tags": []
   },
   "source": [
    "# MOCCA data analysis on cyanation wellplate screening\n",
    "\n",
    "MOCCA is a tool for the analysis of *High-Performance Liquid Chromatography–Diode Array Detection* (HPLC–DAD) datasets which are recorded in the context of reaction (process) controls. It only uses HPLC–DAD raw data and some basic user input for the data analysis."
   ]
  },
  {
   "cell_type": "markdown",
   "id": "c9d2a04c-52f8-4e3f-bd9e-8a80fcee0302",
   "metadata": {},
   "source": [
    "## Reaction and case study background\n",
    "\n",
    "This case study investigates a screening of discrete reaction parameters on a well plate. The chosen reaction is a palladium-catalyzed cyanation of 2-chlorotoluene yielding o-tolunitrile. We investigate the reaction with seven different cyanide precursors (protected cyanohydrines), four different bases and three different ligands."
   ]
  },
  {
   "cell_type": "markdown",
   "id": "14bcad8c-907f-45e8-b0a6-8bb1b4f61865",
   "metadata": {},
   "source": [
    "## Imports"
   ]
  },
  {
   "cell_type": "code",
   "execution_count": 21,
   "id": "ff1b1321-02b7-4ffa-9bfd-76556f076ad0",
   "metadata": {},
   "outputs": [
    {
     "name": "stdout",
     "output_type": "stream",
     "text": [
      "The autoreload extension is already loaded. To reload it, use:\n",
      "  %reload_ext autoreload\n"
     ]
    }
   ],
   "source": [
    "# folders handling\n",
    "import os\n",
    "from glob import glob\n",
    "\n",
    "# user interaction\n",
    "from mocca.user_interaction.campaign import HplcDadCampaign\n",
    "from mocca.user_interaction.user_objects import Gradient\n",
    "from mocca.user_interaction.user_objects import Compound\n",
    "from mocca.user_interaction.user_objects import InternalStandard\n",
    "from mocca.user_interaction.user_objects import HplcInput\n",
    "from mocca.user_interaction.settings import Settings\n",
    "\n",
    "# reporting\n",
    "from mocca.report.hplc_input import report_hplc_input\n",
    "from mocca.report.chroms import report_chroms\n",
    "from mocca.report.results import report_runs\n",
    "from mocca.report.parafac import report_parafac\n",
    "from mocca.report.peaks import report_peaks\n",
    "from mocca.report.quali_comps import report_quali_comps\n",
    "from mocca.report.quant_comps import report_quant_comps\n",
    "\n",
    "# customized data analysis\n",
    "import datetime\n",
    "import time\n",
    "\n",
    "%load_ext autoreload\n",
    "%autoreload 2"
   ]
  },
  {
   "cell_type": "markdown",
   "id": "66d85391-6b55-4309-9bfa-ccb97e84b8f9",
   "metadata": {},
   "source": [
    "## Cyanation data folder handling\n",
    "\n",
    "The data corresponding to this notebook can be found in mocca -> notebooks -> cyanation_data. The data was recorded on an Shimadzu system with an automatic export of the raw data to a .txt file."
   ]
  },
  {
   "cell_type": "code",
   "execution_count": 3,
   "id": "aa9e56ae-7937-44cb-939e-ebec3bf4ccc7",
   "metadata": {},
   "outputs": [],
   "source": [
    "# get path of this notebook\n",
    "ipynb_path = os.path.dirname(os.path.realpath(\"__file__\"))\n",
    "\n",
    "# add the path to the test data folder\n",
    "cyan_data_path = os.path.join(ipynb_path, \"cyanation_data\")\n",
    "\n",
    "# find all folders containing Agilent HPLC data (.D file extension)\n",
    "folders = glob(cyan_data_path + '/*' + '.txt') \n",
    "folders = sorted(folders, key=lambda x: int(x.split('_')[-1][:-4]))"
   ]
  },
  {
   "cell_type": "code",
   "execution_count": 4,
   "id": "36a5d434-f4d2-46bb-acd1-4a7d484dbd8d",
   "metadata": {
    "tags": []
   },
   "outputs": [
    {
     "name": "stdout",
     "output_type": "stream",
     "text": [
      "09072021_sample_4.txt\n",
      "09072021_sample_5.txt\n",
      "09072021_sample_6.txt\n",
      "09072021_sample_7.txt\n",
      "09072021_sample_8.txt\n",
      "09072021_sample_9.txt\n",
      "09072021_sample_10.txt\n",
      "09072021_sample_11.txt\n",
      "09072021_sample_12.txt\n",
      "09072021_sample_13.txt\n",
      "09072021_sample_14.txt\n",
      "09072021_sample_15.txt\n",
      "09072021_sample_16.txt\n",
      "09072021_sample_17.txt\n",
      "09072021_sample_18.txt\n",
      "09072021_sample_19.txt\n",
      "09072021_sample_20.txt\n",
      "09072021_sample_21.txt\n",
      "09072021_sample_22.txt\n",
      "09072021_sample_23.txt\n",
      "09072021_sample_24.txt\n",
      "09072021_sample_25.txt\n",
      "09072021_sample_26.txt\n",
      "09072021_sample_27.txt\n",
      "09072021_sample_28.txt\n",
      "09072021_sample_29.txt\n",
      "09072021_sample_30.txt\n",
      "09072021_sample_31.txt\n",
      "09072021_sample_32.txt\n",
      "09072021_sample_33.txt\n",
      "09072021_sample_34.txt\n",
      "09072021_sample_35.txt\n",
      "09072021_sample_36.txt\n",
      "09072021_sample_37.txt\n",
      "09072021_sample_38.txt\n",
      "09072021_sample_39.txt\n",
      "09072021_sample_40.txt\n",
      "09072021_sample_41.txt\n",
      "09072021_sample_42.txt\n",
      "09072021_sample_43.txt\n",
      "09072021_sample_44.txt\n",
      "09072021_sample_45.txt\n",
      "09072021_sample_46.txt\n",
      "09072021_sample_47.txt\n",
      "09072021_sample_48.txt\n",
      "09072021_sample_49.txt\n",
      "09072021_sample_50.txt\n",
      "09072021_sample_51.txt\n",
      "09072021_sample_52.txt\n",
      "09072021_sample_53.txt\n",
      "09072021_sample_54.txt\n",
      "09072021_sample_55.txt\n",
      "09072021_sample_56.txt\n",
      "09072021_sample_57.txt\n",
      "09072021_sample_58.txt\n",
      "09072021_sample_59.txt\n",
      "09072021_sample_60.txt\n",
      "09072021_sample_61.txt\n",
      "09072021_sample_62.txt\n",
      "09072021_sample_63.txt\n",
      "09072021_sample_64.txt\n",
      "09072021_sample_65.txt\n",
      "09072021_sample_66.txt\n",
      "09072021_sample_67.txt\n",
      "09072021_sample_68.txt\n",
      "09072021_sample_69.txt\n",
      "09072021_sample_70.txt\n",
      "09072021_sample_71.txt\n",
      "09072021_sample_72.txt\n",
      "09072021_sample_73.txt\n",
      "09072021_sample_74.txt\n",
      "09072021_sample_75.txt\n",
      "09072021_sample_76.txt\n",
      "09072021_sample_77.txt\n",
      "09072021_sample_78.txt\n",
      "09072021_sample_79.txt\n",
      "09072021_sample_80.txt\n",
      "09072021_sample_81.txt\n",
      "09072021_sample_82.txt\n",
      "09072021_sample_83.txt\n",
      "09072021_sample_84.txt\n",
      "09072021_sample_85.txt\n",
      "09072021_sample_86.txt\n",
      "09072021_sample_87.txt\n",
      "09072021_educt_88.txt\n",
      "09072021_educt_89.txt\n",
      "09072021_product_92.txt\n",
      "09072021_product_93.txt\n",
      "09072021_istd_96.txt\n",
      "09072021_gradient_97.txt\n",
      "09072021_cnsource_a_98.txt\n",
      "09072021_cnsource_d_99.txt\n"
     ]
    }
   ],
   "source": [
    "for folder in folders:\n",
    "    print(os.path.basename(folder))"
   ]
  },
  {
   "cell_type": "markdown",
   "id": "6565c466-5b8e-4184-859c-3584e6e02be7",
   "metadata": {},
   "source": [
    "## Campaign initialization"
   ]
  },
  {
   "cell_type": "code",
   "execution_count": 5,
   "id": "7a483960-60d8-434a-bb79-13e74b5117c2",
   "metadata": {},
   "outputs": [],
   "source": [
    "cyan_campaign = HplcDadCampaign()"
   ]
  },
  {
   "cell_type": "markdown",
   "id": "e5297ebc-aaa7-4ed8-ac2c-37728cc14328",
   "metadata": {},
   "source": [
    "We create the first Gradient object for all runs."
   ]
  },
  {
   "cell_type": "code",
   "execution_count": 6,
   "id": "2527d2cb-25da-43d7-9f24-7a03dc5ec365",
   "metadata": {},
   "outputs": [],
   "source": [
    "gradient = Gradient(next(folder for folder in folders if \"gradient\" in folder))"
   ]
  },
  {
   "cell_type": "markdown",
   "id": "c8d66b7e-0da4-47d7-a1bf-67576d0bc31b",
   "metadata": {},
   "source": [
    "This campaign works in all runs (except the tetralin compound run) with an InternalStandard object of tetralin."
   ]
  },
  {
   "cell_type": "code",
   "execution_count": 7,
   "id": "ac449a8a-236b-4f53-8e2e-106f5bbe786f",
   "metadata": {},
   "outputs": [],
   "source": [
    "internal_standard = InternalStandard('tetralin', 0.06094)"
   ]
  },
  {
   "cell_type": "markdown",
   "id": "50e7d544-b812-48a5-8773-93d13c40aa02",
   "metadata": {
    "tags": []
   },
   "source": [
    "### User input for calibration runs"
   ]
  },
  {
   "cell_type": "markdown",
   "id": "0fd31d60-028d-49d9-bd2f-1f7df4134333",
   "metadata": {},
   "source": [
    "We transfer the concentration values of the calibration standards."
   ]
  },
  {
   "cell_type": "code",
   "execution_count": 8,
   "id": "4510a788-cdff-4ca1-900e-b1f9acfae57d",
   "metadata": {},
   "outputs": [],
   "source": [
    "ArCl_concs = [0.0603, 0.04422]\n",
    "ArCN_concs = [0.05955, 0.04367]"
   ]
  },
  {
   "cell_type": "markdown",
   "id": "f804c50d-c3d5-4a02-a661-56444dea86e5",
   "metadata": {},
   "source": [
    "First, we create a HplcInput object for the internal standard run and add it to the campaign."
   ]
  },
  {
   "cell_type": "code",
   "execution_count": 9,
   "id": "35b0dc6b-2db0-4415-bf18-d0f00325a310",
   "metadata": {},
   "outputs": [],
   "source": [
    "istd_run = HplcInput(next(folder for folder in folders if \"istd\" in folder),\n",
    "                     gradient, compound=Compound('tetralin', is_istd=True))\n",
    "cyan_campaign.add_hplc_input(istd_run)"
   ]
  },
  {
   "cell_type": "markdown",
   "id": "b8d9fa45-de83-4100-bc56-08c11b53b9f0",
   "metadata": {},
   "source": [
    "We create HplcInput objects for each calibration run and add it to the campaign"
   ]
  },
  {
   "cell_type": "code",
   "execution_count": 10,
   "id": "46cdc570-7118-4a4b-ab15-c29b2cdf6871",
   "metadata": {},
   "outputs": [],
   "source": [
    "ArCl_folders = [folder for folder in folders if \"educt\" in folder]\n",
    "for i, folder in enumerate(ArCl_folders):\n",
    "    compound = Compound('2-chlorotoluene', ArCl_concs[i])\n",
    "    exp = HplcInput(folder, gradient, compound=compound, istd=internal_standard)\n",
    "    cyan_campaign.add_hplc_input(exp)\n",
    "\n",
    "ArCN_folders = [folder for folder in folders if \"product\" in folder]\n",
    "for i, folder in enumerate(ArCN_folders):\n",
    "    compound = Compound('o-tolunitrile', ArCN_concs[i])\n",
    "    exp = HplcInput(folder, gradient, compound=compound, istd=internal_standard)\n",
    "    cyan_campaign.add_hplc_input(exp)\n",
    "\n",
    "cn_source_a_folder = next(folder for folder in folders if \"cnsource_a\" in folder)\n",
    "compound = Compound('cn_source_a')\n",
    "exp = HplcInput(cn_source_a_folder, gradient, compound=compound, istd=internal_standard)\n",
    "cyan_campaign.add_hplc_input(exp)\n",
    "\n",
    "cn_source_d_folder = next(folder for folder in folders if \"cnsource_d\" in folder)\n",
    "compound = Compound('cn_source_d')\n",
    "exp = HplcInput(cn_source_d_folder, gradient, compound=compound, istd=internal_standard)\n",
    "cyan_campaign.add_hplc_input(exp)"
   ]
  },
  {
   "cell_type": "markdown",
   "id": "68b9b038-7401-4e8d-8e46-252d1586c6a8",
   "metadata": {},
   "source": [
    "### User input for reaction runs"
   ]
  },
  {
   "cell_type": "code",
   "execution_count": 11,
   "id": "b9116a48-8575-435f-8d1c-6db568c059c0",
   "metadata": {},
   "outputs": [],
   "source": [
    "for folder in [folder for folder in folders if \"sample\" in folder]:\n",
    "    exp = HplcInput(folder, gradient, istd=internal_standard)\n",
    "    cyan_campaign.add_hplc_input(exp)"
   ]
  },
  {
   "cell_type": "markdown",
   "id": "87a70e0f-4b65-4f64-a2b2-051f1ae58247",
   "metadata": {},
   "source": [
    "### Settings for data processing"
   ]
  },
  {
   "cell_type": "code",
   "execution_count": 12,
   "id": "d3e8aea8-f5c8-45e4-bb75-e3d19d50befc",
   "metadata": {},
   "outputs": [],
   "source": [
    "settings = Settings('labsolutions',\n",
    "                    absorbance_threshold = 500, wl_high_pass = 215, \n",
    "                    peaks_high_pass = 1, peaks_low_pass = 5,\n",
    "                    spectrum_correl_thresh=0.99, relative_distance_thresh=0.005)"
   ]
  },
  {
   "cell_type": "markdown",
   "id": "926a0b31-e525-4574-8cea-38e39ca6b203",
   "metadata": {},
   "source": [
    "### Data processing"
   ]
  },
  {
   "cell_type": "code",
   "execution_count": 13,
   "id": "a7e53c99-166e-4fa6-a5ff-700216a1729c",
   "metadata": {
    "tags": []
   },
   "outputs": [
    {
     "name": "stdout",
     "output_type": "stream",
     "text": [
      "CPU times: user 4h 49min 23s, sys: 7min 43s, total: 4h 57min 6s\n",
      "Wall time: 36min 21s\n"
     ]
    }
   ],
   "source": [
    "%%time\n",
    "cyan_campaign.process_all_hplc_input(settings)"
   ]
  },
  {
   "cell_type": "markdown",
   "id": "876d7ceb-7e66-4050-9569-ff4c97f25e40",
   "metadata": {},
   "source": [
    "## Reporting"
   ]
  },
  {
   "cell_type": "code",
   "execution_count": 14,
   "id": "edb947f0-278c-40ee-8347-b1efd5d9c35a",
   "metadata": {},
   "outputs": [],
   "source": [
    "cyan_report_path = os.path.join(ipynb_path, \"cyanation_reports\")"
   ]
  },
  {
   "cell_type": "code",
   "execution_count": 31,
   "id": "6fe1501d-f580-4ce6-bb64-3596de1374a1",
   "metadata": {},
   "outputs": [
    {
     "data": {
      "text/markdown": [
       "Report saved to .//Users/haascp/Documents/GitHub/mocca/notebooks/cyanation_reports/report_parafac.html. To upload and share your report, create a free Datapane account by running `!datapane signup`."
      ],
      "text/plain": [
       "<IPython.core.display.Markdown object>"
      ]
     },
     "metadata": {},
     "output_type": "display_data"
    }
   ],
   "source": [
    "#report_hplc_input(cyan_campaign.hplc_runs, cyan_report_path)\n",
    "#report_chroms(cyan_campaign.chroms, cyan_campaign.settings, cyan_report_path)\n",
    "#report_runs(cyan_campaign.chroms, cyan_campaign.quali_comp_db, cyan_campaign.quant_comp_db, cyan_report_path)\n",
    "report_parafac(cyan_campaign.chroms, cyan_report_path)\n",
    "#report_peaks(cyan_campaign.peak_db, cyan_report_path)\n",
    "#report_quali_comps(cyan_campaign.quali_comp_db, cyan_report_path)\n",
    "#report_quant_comps(cyan_campaign.quant_comp_db, cyan_report_path)"
   ]
  },
  {
   "cell_type": "markdown",
   "id": "736881b0-4eb3-498b-963f-5ad938408879",
   "metadata": {},
   "source": [
    "## Customized data analysis by the user\n",
    "\n",
    "This data analysis tool cannot include all possible data analysis needs of potential users. Therefore, we expect the user to do customized data analysis independently from the tool.\n",
    "\n",
    "We give an example here, how the yield over a 96-wellplate can be visualized."
   ]
  },
  {
   "cell_type": "code",
   "execution_count": null,
   "id": "c03317a8-b6c8-4c1b-8da7-ad7bad406a9e",
   "metadata": {},
   "outputs": [],
   "source": [
    "import pandas as pd\n",
    "import altair as alt"
   ]
  },
  {
   "cell_type": "markdown",
   "id": "df464ed7-1915-4052-9f64-02fe4ed42e91",
   "metadata": {},
   "source": [
    "Extract results out of the campaign object"
   ]
  },
  {
   "cell_type": "code",
   "execution_count": null,
   "id": "f6374075-cd86-4289-9397-8b0e860f01ed",
   "metadata": {},
   "outputs": [],
   "source": [
    "c0 = 0.06 #c0 refers to the molar amount of substrate that was used\n",
    "results = {\n",
    "    '2-chlorotoluene': [],\n",
    "    'o-tolunitrile': [],\n",
    "    'tetralin': [],\n",
    "    'column': [],\n",
    "    'row': [],\n",
    "    'path': [],\n",
    "    'conversion': [],\n",
    "    'yield': []\n",
    "}\n",
    "for i, chrom in enumerate(cyan_campaign.chroms):\n",
    "    if not chrom.experiment.compound:\n",
    "        results['2-chlorotoluene'].append(0)\n",
    "        results['o-tolunitrile'].append(0)\n",
    "        results['tetralin'].append(0)\n",
    "        results['conversion'].append(1)\n",
    "        results['yield'].append(0)\n",
    "        results['path'].append(chrom.experiment.path)\n",
    "        for peak in chrom.peaks:\n",
    "            if peak.compound_id == '2-chlorotoluene':\n",
    "                results['2-chlorotoluene'][-1] = peak.concentration\n",
    "                results['conversion'][-1] = (c0 - peak.concentration) / c0\n",
    "            if peak.compound_id == 'o-tolunitrile':\n",
    "                results['o-tolunitrile'][-1] = peak.concentration\n",
    "                results['yield'][-1] = peak.concentration / c0\n",
    "            if peak.compound_id == 'tetralin':\n",
    "                results['tetralin'][-1] = peak.integral"
   ]
  },
  {
   "cell_type": "code",
   "execution_count": null,
   "id": "52219090-5122-42e2-82a8-748a9b10452a",
   "metadata": {},
   "outputs": [],
   "source": [
    "for path in results['path']:\n",
    "    num = int(path.split('_')[-1][:-4]) - 4\n",
    "    results['column'].append(str(num // 12 + 1))\n",
    "    results['row'].append(str(num - (num // 12 * 12) + 1))"
   ]
  },
  {
   "cell_type": "code",
   "execution_count": null,
   "id": "0507acec-7017-4e92-8c0e-e97bf8cbaa77",
   "metadata": {},
   "outputs": [],
   "source": [
    "results_df = pd.DataFrame(results)\n",
    "row_order = [str(val) for val in list(range(1, 13))]\n",
    "results_df"
   ]
  },
  {
   "cell_type": "code",
   "execution_count": null,
   "id": "944771b5-708c-48c5-9f70-9ff43b417cc3",
   "metadata": {},
   "outputs": [],
   "source": [
    "results_rounded = results_df\n",
    "results_rounded['yield'] = results_rounded['yield'] * 100\n",
    "results_rounded = results_rounded.round({'yield': 0})\n",
    "#display(results_rounded['yield'])\n",
    "\n",
    "heatmap = alt.Chart(results_rounded, title = 'Yield').mark_rect().encode(\n",
    "            x=alt.X('row', sort=row_order),\n",
    "            y=alt.Y('column'),\n",
    "            color=alt.Color('yield', title=\"Yield\")\n",
    "            )\n",
    "text = alt.Chart(results_rounded, title = 'Yield').mark_text().encode(\n",
    "            x=alt.X('row', sort=row_order),\n",
    "            y=alt.Y('column'),\n",
    "            text='yield'\n",
    "            )\n",
    "\n",
    "display(heatmap + text)"
   ]
  },
  {
   "cell_type": "code",
   "execution_count": null,
   "id": "337a5023-f756-4047-8bc7-63489f69792c",
   "metadata": {},
   "outputs": [],
   "source": []
  },
  {
   "cell_type": "code",
   "execution_count": null,
   "id": "38e99da1-f7d0-4891-bce4-26b455a14e30",
   "metadata": {},
   "outputs": [],
   "source": []
  }
 ],
 "metadata": {
  "kernelspec": {
   "display_name": "mocca-dev",
   "language": "python",
   "name": "mocca-dev"
  },
  "language_info": {
   "codemirror_mode": {
    "name": "ipython",
    "version": 3
   },
   "file_extension": ".py",
   "mimetype": "text/x-python",
   "name": "python",
   "nbconvert_exporter": "python",
   "pygments_lexer": "ipython3",
   "version": "3.9.7"
  }
 },
 "nbformat": 4,
 "nbformat_minor": 5
}
