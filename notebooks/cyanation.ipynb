{
 "cells": [
  {
   "cell_type": "markdown",
   "id": "c70bf775-82ac-4c3c-a1b5-23af5ec8fb3f",
   "metadata": {},
   "source": [
    "CPH 02/04/2022"
   ]
  },
  {
   "cell_type": "markdown",
   "id": "6a58324c-8e7a-44ca-9f39-dc6563ce81b0",
   "metadata": {
    "tags": []
   },
   "source": [
    "# MOCCA data analysis on cyanation wellplate screening\n",
    "\n",
    "MOCCA is a tool for the analysis of *High-Performance Liquid Chromatography–Diode Array Detection* (HPLC–DAD) datasets which are recorded in the context of reaction (process) controls. It only uses HPLC–DAD raw data and some basic user input for the data analysis."
   ]
  },
  {
   "cell_type": "markdown",
   "id": "c9d2a04c-52f8-4e3f-bd9e-8a80fcee0302",
   "metadata": {},
   "source": [
    "## Reaction and case study background\n",
    "\n",
    "This case study investigates a screening of discrete reaction parameters on a well plate. The chosen reaction is a palladium-catalyzed cyanation of 2-chlorotoluene yielding o-tolunitrile. We investigate the reaction with seven different cyanide precursors (protected cyanohydrines), four different bases and three different ligands."
   ]
  },
  {
   "cell_type": "markdown",
   "id": "14bcad8c-907f-45e8-b0a6-8bb1b4f61865",
   "metadata": {},
   "source": [
    "## Imports"
   ]
  },
  {
   "cell_type": "code",
   "execution_count": 22,
   "id": "ff1b1321-02b7-4ffa-9bfd-76556f076ad0",
   "metadata": {},
   "outputs": [
    {
     "name": "stdout",
     "output_type": "stream",
     "text": [
      "The autoreload extension is already loaded. To reload it, use:\n",
      "  %reload_ext autoreload\n"
     ]
    }
   ],
   "source": [
    "# folders handling\n",
    "import os\n",
    "from glob import glob\n",
    "\n",
    "# user interaction\n",
    "from mocca.user_interaction.campaign import HplcDadCampaign\n",
    "from mocca.user_interaction.user_objects import Gradient\n",
    "from mocca.user_interaction.user_objects import Compound\n",
    "from mocca.user_interaction.user_objects import InternalStandard\n",
    "from mocca.user_interaction.user_objects import HplcInput\n",
    "from mocca.user_interaction.settings import Settings\n",
    "\n",
    "# reporting\n",
    "from mocca.report.hplc_input import report_hplc_input\n",
    "from mocca.report.gradient import report_gradients\n",
    "from mocca.report.chroms import report_chroms\n",
    "from mocca.report.results import report_runs\n",
    "from mocca.report.parafac import report_parafac\n",
    "from mocca.report.peaks import report_peaks\n",
    "from mocca.report.quali_comps import report_quali_comps\n",
    "from mocca.report.quant_comps import report_quant_comps\n",
    "\n",
    "# customized data analysis\n",
    "import datetime\n",
    "import time\n",
    "\n",
    "%load_ext autoreload\n",
    "%autoreload 2"
   ]
  },
  {
   "cell_type": "markdown",
   "id": "66d85391-6b55-4309-9bfa-ccb97e84b8f9",
   "metadata": {},
   "source": [
    "## Cyanation data folder handling\n",
    "\n",
    "The data corresponding to this notebook can be found in mocca -> notebooks -> cyanation_data. The data was recorded on an Shimadzu system with an automatic export of the raw data to a .txt file."
   ]
  },
  {
   "cell_type": "code",
   "execution_count": 2,
   "id": "aa9e56ae-7937-44cb-939e-ebec3bf4ccc7",
   "metadata": {},
   "outputs": [],
   "source": [
    "# get path of this notebook\n",
    "ipynb_path = os.path.dirname(os.path.realpath(\"__file__\"))\n",
    "\n",
    "# add the path to the test data folder\n",
    "cyan_data_path = os.path.join(ipynb_path, \"cyanation_data\")\n",
    "\n",
    "# find all folders containing Agilent HPLC data (.D file extension)\n",
    "folders = glob(cyan_data_path + '/*' + '.txt') \n",
    "folders = sorted(folders, key=lambda x: int(x.split('_')[-1][:-4]))"
   ]
  },
  {
   "cell_type": "code",
   "execution_count": 3,
   "id": "36a5d434-f4d2-46bb-acd1-4a7d484dbd8d",
   "metadata": {
    "collapsed": true,
    "jupyter": {
     "outputs_hidden": true
    },
    "tags": []
   },
   "outputs": [
    {
     "name": "stdout",
     "output_type": "stream",
     "text": [
      "09072021_sample_4.txt\n",
      "09072021_sample_5.txt\n",
      "09072021_sample_6.txt\n",
      "09072021_sample_7.txt\n",
      "09072021_sample_8.txt\n",
      "09072021_sample_9.txt\n",
      "09072021_sample_10.txt\n",
      "09072021_sample_11.txt\n",
      "09072021_sample_12.txt\n",
      "09072021_sample_13.txt\n",
      "09072021_sample_14.txt\n",
      "09072021_sample_15.txt\n",
      "09072021_sample_16.txt\n",
      "09072021_sample_17.txt\n",
      "09072021_sample_18.txt\n",
      "09072021_sample_19.txt\n",
      "09072021_sample_20.txt\n",
      "09072021_sample_21.txt\n",
      "09072021_sample_22.txt\n",
      "09072021_sample_23.txt\n",
      "09072021_sample_24.txt\n",
      "09072021_sample_25.txt\n",
      "09072021_sample_26.txt\n",
      "09072021_sample_27.txt\n",
      "09072021_sample_28.txt\n",
      "09072021_sample_29.txt\n",
      "09072021_sample_30.txt\n",
      "09072021_sample_31.txt\n",
      "09072021_sample_32.txt\n",
      "09072021_sample_33.txt\n",
      "09072021_sample_34.txt\n",
      "09072021_sample_35.txt\n",
      "09072021_sample_36.txt\n",
      "09072021_sample_37.txt\n",
      "09072021_sample_38.txt\n",
      "09072021_sample_39.txt\n",
      "09072021_sample_40.txt\n",
      "09072021_sample_41.txt\n",
      "09072021_sample_42.txt\n",
      "09072021_sample_43.txt\n",
      "09072021_sample_44.txt\n",
      "09072021_sample_45.txt\n",
      "09072021_sample_46.txt\n",
      "09072021_sample_47.txt\n",
      "09072021_sample_48.txt\n",
      "09072021_sample_49.txt\n",
      "09072021_sample_50.txt\n",
      "09072021_sample_51.txt\n",
      "09072021_sample_52.txt\n",
      "09072021_sample_53.txt\n",
      "09072021_sample_54.txt\n",
      "09072021_sample_55.txt\n",
      "09072021_sample_56.txt\n",
      "09072021_sample_57.txt\n",
      "09072021_sample_58.txt\n",
      "09072021_sample_59.txt\n",
      "09072021_sample_60.txt\n",
      "09072021_sample_61.txt\n",
      "09072021_sample_62.txt\n",
      "09072021_sample_63.txt\n",
      "09072021_sample_64.txt\n",
      "09072021_sample_65.txt\n",
      "09072021_sample_66.txt\n",
      "09072021_sample_67.txt\n",
      "09072021_sample_68.txt\n",
      "09072021_sample_69.txt\n",
      "09072021_sample_70.txt\n",
      "09072021_sample_71.txt\n",
      "09072021_sample_72.txt\n",
      "09072021_sample_73.txt\n",
      "09072021_sample_74.txt\n",
      "09072021_sample_75.txt\n",
      "09072021_sample_76.txt\n",
      "09072021_sample_77.txt\n",
      "09072021_sample_78.txt\n",
      "09072021_sample_79.txt\n",
      "09072021_sample_80.txt\n",
      "09072021_sample_81.txt\n",
      "09072021_sample_82.txt\n",
      "09072021_sample_83.txt\n",
      "09072021_sample_84.txt\n",
      "09072021_sample_85.txt\n",
      "09072021_sample_86.txt\n",
      "09072021_sample_87.txt\n",
      "09072021_educt_88.txt\n",
      "09072021_educt_89.txt\n",
      "09072021_product_92.txt\n",
      "09072021_product_93.txt\n",
      "09072021_istd_96.txt\n",
      "09072021_gradient_97.txt\n",
      "09072021_cnsource_a_98.txt\n",
      "09072021_cnsource_d_99.txt\n"
     ]
    }
   ],
   "source": [
    "for folder in folders:\n",
    "    print(os.path.basename(folder))"
   ]
  },
  {
   "cell_type": "markdown",
   "id": "6565c466-5b8e-4184-859c-3584e6e02be7",
   "metadata": {},
   "source": [
    "## Campaign initialization"
   ]
  },
  {
   "cell_type": "code",
   "execution_count": 4,
   "id": "7a483960-60d8-434a-bb79-13e74b5117c2",
   "metadata": {},
   "outputs": [],
   "source": [
    "cyan_campaign = HplcDadCampaign()"
   ]
  },
  {
   "cell_type": "markdown",
   "id": "e5297ebc-aaa7-4ed8-ac2c-37728cc14328",
   "metadata": {},
   "source": [
    "We create the first Gradient object for all runs."
   ]
  },
  {
   "cell_type": "code",
   "execution_count": 5,
   "id": "2527d2cb-25da-43d7-9f24-7a03dc5ec365",
   "metadata": {},
   "outputs": [],
   "source": [
    "gradient = Gradient(next(folder for folder in folders if \"gradient\" in folder))"
   ]
  },
  {
   "cell_type": "markdown",
   "id": "c8d66b7e-0da4-47d7-a1bf-67576d0bc31b",
   "metadata": {},
   "source": [
    "This campaign works in all runs (except the tetralin compound run) with an InternalStandard object of tetralin."
   ]
  },
  {
   "cell_type": "code",
   "execution_count": 6,
   "id": "ac449a8a-236b-4f53-8e2e-106f5bbe786f",
   "metadata": {},
   "outputs": [],
   "source": [
    "internal_standard = InternalStandard('tetralin', 0.06094)"
   ]
  },
  {
   "cell_type": "markdown",
   "id": "50e7d544-b812-48a5-8773-93d13c40aa02",
   "metadata": {
    "tags": []
   },
   "source": [
    "### User input for calibration runs"
   ]
  },
  {
   "cell_type": "markdown",
   "id": "0fd31d60-028d-49d9-bd2f-1f7df4134333",
   "metadata": {},
   "source": [
    "We transfer the concentration values of the calibration standards."
   ]
  },
  {
   "cell_type": "code",
   "execution_count": 7,
   "id": "4510a788-cdff-4ca1-900e-b1f9acfae57d",
   "metadata": {},
   "outputs": [],
   "source": [
    "ArCl_concs = [0.0603, 0.04422]\n",
    "ArCN_concs = [0.05955, 0.04367]"
   ]
  },
  {
   "cell_type": "markdown",
   "id": "f804c50d-c3d5-4a02-a661-56444dea86e5",
   "metadata": {},
   "source": [
    "First, we create a HplcInput object for the internal standard run and add it to the campaign."
   ]
  },
  {
   "cell_type": "code",
   "execution_count": 8,
   "id": "35b0dc6b-2db0-4415-bf18-d0f00325a310",
   "metadata": {},
   "outputs": [],
   "source": [
    "istd_run = HplcInput(next(folder for folder in folders if \"istd\" in folder),\n",
    "                     gradient, compound=Compound('tetralin', is_istd=True))\n",
    "cyan_campaign.add_hplc_input(istd_run)"
   ]
  },
  {
   "cell_type": "markdown",
   "id": "b8d9fa45-de83-4100-bc56-08c11b53b9f0",
   "metadata": {},
   "source": [
    "We create HplcInput objects for each calibration run and add it to the campaign"
   ]
  },
  {
   "cell_type": "code",
   "execution_count": 9,
   "id": "46cdc570-7118-4a4b-ab15-c29b2cdf6871",
   "metadata": {},
   "outputs": [],
   "source": [
    "ArCl_folders = [folder for folder in folders if \"educt\" in folder]\n",
    "for i, folder in enumerate(ArCl_folders):\n",
    "    compound = Compound('2-chlorotoluene', ArCl_concs[i])\n",
    "    exp = HplcInput(folder, gradient, compound=compound, istd=internal_standard)\n",
    "    cyan_campaign.add_hplc_input(exp)\n",
    "\n",
    "ArCN_folders = [folder for folder in folders if \"product\" in folder]\n",
    "for i, folder in enumerate(ArCN_folders):\n",
    "    compound = Compound('o-tolunitrile', ArCN_concs[i])\n",
    "    exp = HplcInput(folder, gradient, compound=compound, istd=internal_standard)\n",
    "    cyan_campaign.add_hplc_input(exp)\n",
    "\n",
    "cn_source_a_folder = next(folder for folder in folders if \"cnsource_a\" in folder)\n",
    "compound = Compound('cn_source_a')\n",
    "exp = HplcInput(cn_source_a_folder, gradient, compound=compound, istd=internal_standard)\n",
    "cyan_campaign.add_hplc_input(exp)\n",
    "\n",
    "cn_source_d_folder = next(folder for folder in folders if \"cnsource_d\" in folder)\n",
    "compound = Compound('cn_source_d')\n",
    "exp = HplcInput(cn_source_d_folder, gradient, compound=compound, istd=internal_standard)\n",
    "cyan_campaign.add_hplc_input(exp)"
   ]
  },
  {
   "cell_type": "markdown",
   "id": "68b9b038-7401-4e8d-8e46-252d1586c6a8",
   "metadata": {},
   "source": [
    "### User input for reaction runs"
   ]
  },
  {
   "cell_type": "code",
   "execution_count": 10,
   "id": "b9116a48-8575-435f-8d1c-6db568c059c0",
   "metadata": {},
   "outputs": [],
   "source": [
    "for folder in [folder for folder in folders if \"sample\" in folder]:\n",
    "    exp = HplcInput(folder, gradient, istd=internal_standard)\n",
    "    cyan_campaign.add_hplc_input(exp)"
   ]
  },
  {
   "cell_type": "markdown",
   "id": "87a70e0f-4b65-4f64-a2b2-051f1ae58247",
   "metadata": {},
   "source": [
    "### Settings for data processing"
   ]
  },
  {
   "cell_type": "code",
   "execution_count": 11,
   "id": "d3e8aea8-f5c8-45e4-bb75-e3d19d50befc",
   "metadata": {},
   "outputs": [],
   "source": [
    "settings = Settings('labsolutions',\n",
    "                    absorbance_threshold = 500, wl_high_pass = 215, \n",
    "                    peaks_high_pass = 1, peaks_low_pass = 5,\n",
    "                    spectrum_correl_thresh=0.99, relative_distance_thresh=0.0025)"
   ]
  },
  {
   "cell_type": "markdown",
   "id": "926a0b31-e525-4574-8cea-38e39ca6b203",
   "metadata": {},
   "source": [
    "### Data processing"
   ]
  },
  {
   "cell_type": "code",
   "execution_count": 12,
   "id": "a7e53c99-166e-4fa6-a5ff-700216a1729c",
   "metadata": {
    "tags": []
   },
   "outputs": [
    {
     "name": "stdout",
     "output_type": "stream",
     "text": [
      "CPU times: user 3h 8min 38s, sys: 4min 16s, total: 3h 12min 54s\n",
      "Wall time: 23min 45s\n"
     ]
    }
   ],
   "source": [
    "%%time\n",
    "cyan_campaign.process_all_hplc_input(settings)"
   ]
  },
  {
   "cell_type": "markdown",
   "id": "876d7ceb-7e66-4050-9569-ff4c97f25e40",
   "metadata": {
    "tags": []
   },
   "source": [
    "## Reporting"
   ]
  },
  {
   "cell_type": "code",
   "execution_count": 13,
   "id": "edb947f0-278c-40ee-8347-b1efd5d9c35a",
   "metadata": {},
   "outputs": [],
   "source": [
    "cyan_report_path = os.path.join(ipynb_path, \"cyanation_reports\")"
   ]
  },
  {
   "cell_type": "code",
   "execution_count": 30,
   "id": "6fe1501d-f580-4ce6-bb64-3596de1374a1",
   "metadata": {},
   "outputs": [
    {
     "data": {
      "text/markdown": [
       "Report saved to .//Users/haascp/Documents/GitHub/mocca/notebooks/cyanation_reports/report_hplc_input.html. To upload and share your report, create a free Datapane account by running `!datapane signup`."
      ],
      "text/plain": [
       "<IPython.core.display.Markdown object>"
      ]
     },
     "metadata": {},
     "output_type": "display_data"
    },
    {
     "data": {
      "text/markdown": [
       "Report saved to .//Users/haascp/Documents/GitHub/mocca/notebooks/cyanation_reports/report_gradient.html. To upload and share your report, create a free Datapane account by running `!datapane signup`."
      ],
      "text/plain": [
       "<IPython.core.display.Markdown object>"
      ]
     },
     "metadata": {},
     "output_type": "display_data"
    },
    {
     "data": {
      "text/markdown": [
       "Report saved to .//Users/haascp/Documents/GitHub/mocca/notebooks/cyanation_reports/report_chroms.html. To upload and share your report, create a free Datapane account by running `!datapane signup`."
      ],
      "text/plain": [
       "<IPython.core.display.Markdown object>"
      ]
     },
     "metadata": {},
     "output_type": "display_data"
    },
    {
     "data": {
      "text/markdown": [
       "Report saved to .//Users/haascp/Documents/GitHub/mocca/notebooks/cyanation_reports/report_runs.html. To upload and share your report, create a free Datapane account by running `!datapane signup`."
      ],
      "text/plain": [
       "<IPython.core.display.Markdown object>"
      ]
     },
     "metadata": {},
     "output_type": "display_data"
    },
    {
     "data": {
      "text/markdown": [
       "Report saved to .//Users/haascp/Documents/GitHub/mocca/notebooks/cyanation_reports/report_parafac.html. To upload and share your report, create a free Datapane account by running `!datapane signup`."
      ],
      "text/plain": [
       "<IPython.core.display.Markdown object>"
      ]
     },
     "metadata": {},
     "output_type": "display_data"
    },
    {
     "data": {
      "text/markdown": [
       "Report saved to .//Users/haascp/Documents/GitHub/mocca/notebooks/cyanation_reports/report_peak_db.html. To upload and share your report, create a free Datapane account by running `!datapane signup`."
      ],
      "text/plain": [
       "<IPython.core.display.Markdown object>"
      ]
     },
     "metadata": {},
     "output_type": "display_data"
    },
    {
     "data": {
      "text/markdown": [
       "Report saved to .//Users/haascp/Documents/GitHub/mocca/notebooks/cyanation_reports/report_quali_comp_db.html. To upload and share your report, create a free Datapane account by running `!datapane signup`."
      ],
      "text/plain": [
       "<IPython.core.display.Markdown object>"
      ]
     },
     "metadata": {},
     "output_type": "display_data"
    },
    {
     "data": {
      "text/markdown": [
       "Report saved to .//Users/haascp/Documents/GitHub/mocca/notebooks/cyanation_reports/report_quant_comp_db.html. To upload and share your report, create a free Datapane account by running `!datapane signup`."
      ],
      "text/plain": [
       "<IPython.core.display.Markdown object>"
      ]
     },
     "metadata": {},
     "output_type": "display_data"
    }
   ],
   "source": [
    "report_hplc_input(cyan_campaign.hplc_runs, cyan_report_path)\n",
    "report_gradients(cyan_campaign.hplc_runs, cyan_report_path)\n",
    "report_chroms(cyan_campaign.chroms, cyan_campaign.settings, cyan_report_path)\n",
    "report_runs(cyan_campaign.chroms, cyan_campaign.quali_comp_db, cyan_campaign.quant_comp_db, cyan_report_path)\n",
    "report_parafac(cyan_campaign.chroms, cyan_report_path)\n",
    "report_peaks(cyan_campaign.peak_db, cyan_report_path)\n",
    "report_quali_comps(cyan_campaign.quali_comp_db, cyan_report_path)\n",
    "report_quant_comps(cyan_campaign.quant_comp_db, cyan_report_path)"
   ]
  },
  {
   "cell_type": "markdown",
   "id": "736881b0-4eb3-498b-963f-5ad938408879",
   "metadata": {},
   "source": [
    "## Customized data analysis by the user\n",
    "\n",
    "This data analysis tool cannot include all possible data analysis needs of potential users. Therefore, we expect the user to do customized data analysis independently from the tool.\n",
    "\n",
    "We give an example here, how the yield over a 96-wellplate can be visualized."
   ]
  },
  {
   "cell_type": "code",
   "execution_count": 15,
   "id": "c03317a8-b6c8-4c1b-8da7-ad7bad406a9e",
   "metadata": {},
   "outputs": [],
   "source": [
    "import pandas as pd\n",
    "import altair as alt"
   ]
  },
  {
   "cell_type": "markdown",
   "id": "df464ed7-1915-4052-9f64-02fe4ed42e91",
   "metadata": {},
   "source": [
    "Extract results out of the campaign object"
   ]
  },
  {
   "cell_type": "code",
   "execution_count": 16,
   "id": "f6374075-cd86-4289-9397-8b0e860f01ed",
   "metadata": {},
   "outputs": [],
   "source": [
    "c0 = 0.06 #c0 refers to the molar amount of substrate that was used\n",
    "results = {\n",
    "    '2-chlorotoluene': [],\n",
    "    'o-tolunitrile': [],\n",
    "    'tetralin': [],\n",
    "    'column': [],\n",
    "    'row': [],\n",
    "    'path': [],\n",
    "    'conversion': [],\n",
    "    'yield': []\n",
    "}\n",
    "for i, chrom in enumerate(cyan_campaign.chroms):\n",
    "    if not chrom.experiment.compound:\n",
    "        results['2-chlorotoluene'].append(0)\n",
    "        results['o-tolunitrile'].append(0)\n",
    "        results['tetralin'].append(0)\n",
    "        results['conversion'].append(1)\n",
    "        results['yield'].append(0)\n",
    "        results['path'].append(chrom.experiment.path)\n",
    "        for peak in chrom.peaks:\n",
    "            if peak.compound_id == '2-chlorotoluene':\n",
    "                results['2-chlorotoluene'][-1] = peak.concentration\n",
    "                results['conversion'][-1] = (c0 - peak.concentration) / c0\n",
    "            if peak.compound_id == 'o-tolunitrile':\n",
    "                results['o-tolunitrile'][-1] = peak.concentration\n",
    "                results['yield'][-1] = peak.concentration / c0\n",
    "            if peak.compound_id == 'tetralin':\n",
    "                results['tetralin'][-1] = peak.integral"
   ]
  },
  {
   "cell_type": "code",
   "execution_count": 17,
   "id": "52219090-5122-42e2-82a8-748a9b10452a",
   "metadata": {},
   "outputs": [],
   "source": [
    "for path in results['path']:\n",
    "    num = int(path.split('_')[-1][:-4]) - 4\n",
    "    results['column'].append(str(num // 12 + 1))\n",
    "    results['row'].append(str(num - (num // 12 * 12) + 1))"
   ]
  },
  {
   "cell_type": "code",
   "execution_count": 18,
   "id": "0507acec-7017-4e92-8c0e-e97bf8cbaa77",
   "metadata": {},
   "outputs": [
    {
     "data": {
      "text/html": [
       "<div>\n",
       "<style scoped>\n",
       "    .dataframe tbody tr th:only-of-type {\n",
       "        vertical-align: middle;\n",
       "    }\n",
       "\n",
       "    .dataframe tbody tr th {\n",
       "        vertical-align: top;\n",
       "    }\n",
       "\n",
       "    .dataframe thead th {\n",
       "        text-align: right;\n",
       "    }\n",
       "</style>\n",
       "<table border=\"1\" class=\"dataframe\">\n",
       "  <thead>\n",
       "    <tr style=\"text-align: right;\">\n",
       "      <th></th>\n",
       "      <th>2-chlorotoluene</th>\n",
       "      <th>o-tolunitrile</th>\n",
       "      <th>tetralin</th>\n",
       "      <th>column</th>\n",
       "      <th>row</th>\n",
       "      <th>path</th>\n",
       "      <th>conversion</th>\n",
       "      <th>yield</th>\n",
       "    </tr>\n",
       "  </thead>\n",
       "  <tbody>\n",
       "    <tr>\n",
       "      <th>0</th>\n",
       "      <td>0.038031</td>\n",
       "      <td>0.020844</td>\n",
       "      <td>73164.378197</td>\n",
       "      <td>1</td>\n",
       "      <td>1</td>\n",
       "      <td>/Users/haascp/Documents/GitHub/mocca/notebooks...</td>\n",
       "      <td>0.366152</td>\n",
       "      <td>0.347407</td>\n",
       "    </tr>\n",
       "    <tr>\n",
       "      <th>1</th>\n",
       "      <td>0.056691</td>\n",
       "      <td>0.002688</td>\n",
       "      <td>69378.779089</td>\n",
       "      <td>1</td>\n",
       "      <td>2</td>\n",
       "      <td>/Users/haascp/Documents/GitHub/mocca/notebooks...</td>\n",
       "      <td>0.055154</td>\n",
       "      <td>0.044802</td>\n",
       "    </tr>\n",
       "    <tr>\n",
       "      <th>2</th>\n",
       "      <td>0.059144</td>\n",
       "      <td>0.000000</td>\n",
       "      <td>66978.078563</td>\n",
       "      <td>1</td>\n",
       "      <td>3</td>\n",
       "      <td>/Users/haascp/Documents/GitHub/mocca/notebooks...</td>\n",
       "      <td>0.014262</td>\n",
       "      <td>0.000000</td>\n",
       "    </tr>\n",
       "    <tr>\n",
       "      <th>3</th>\n",
       "      <td>0.000000</td>\n",
       "      <td>0.037363</td>\n",
       "      <td>73010.115973</td>\n",
       "      <td>1</td>\n",
       "      <td>4</td>\n",
       "      <td>/Users/haascp/Documents/GitHub/mocca/notebooks...</td>\n",
       "      <td>1.000000</td>\n",
       "      <td>0.622716</td>\n",
       "    </tr>\n",
       "    <tr>\n",
       "      <th>4</th>\n",
       "      <td>0.000000</td>\n",
       "      <td>0.026796</td>\n",
       "      <td>67002.078051</td>\n",
       "      <td>1</td>\n",
       "      <td>5</td>\n",
       "      <td>/Users/haascp/Documents/GitHub/mocca/notebooks...</td>\n",
       "      <td>1.000000</td>\n",
       "      <td>0.446604</td>\n",
       "    </tr>\n",
       "    <tr>\n",
       "      <th>...</th>\n",
       "      <td>...</td>\n",
       "      <td>...</td>\n",
       "      <td>...</td>\n",
       "      <td>...</td>\n",
       "      <td>...</td>\n",
       "      <td>...</td>\n",
       "      <td>...</td>\n",
       "      <td>...</td>\n",
       "    </tr>\n",
       "    <tr>\n",
       "      <th>79</th>\n",
       "      <td>0.058033</td>\n",
       "      <td>0.000000</td>\n",
       "      <td>68613.008256</td>\n",
       "      <td>7</td>\n",
       "      <td>8</td>\n",
       "      <td>/Users/haascp/Documents/GitHub/mocca/notebooks...</td>\n",
       "      <td>0.032790</td>\n",
       "      <td>0.000000</td>\n",
       "    </tr>\n",
       "    <tr>\n",
       "      <th>80</th>\n",
       "      <td>0.063312</td>\n",
       "      <td>0.000000</td>\n",
       "      <td>77838.630410</td>\n",
       "      <td>7</td>\n",
       "      <td>9</td>\n",
       "      <td>/Users/haascp/Documents/GitHub/mocca/notebooks...</td>\n",
       "      <td>-0.055207</td>\n",
       "      <td>0.000000</td>\n",
       "    </tr>\n",
       "    <tr>\n",
       "      <th>81</th>\n",
       "      <td>0.047862</td>\n",
       "      <td>0.000000</td>\n",
       "      <td>163366.194557</td>\n",
       "      <td>7</td>\n",
       "      <td>10</td>\n",
       "      <td>/Users/haascp/Documents/GitHub/mocca/notebooks...</td>\n",
       "      <td>0.202304</td>\n",
       "      <td>0.000000</td>\n",
       "    </tr>\n",
       "    <tr>\n",
       "      <th>82</th>\n",
       "      <td>0.056952</td>\n",
       "      <td>0.000000</td>\n",
       "      <td>64645.129133</td>\n",
       "      <td>7</td>\n",
       "      <td>11</td>\n",
       "      <td>/Users/haascp/Documents/GitHub/mocca/notebooks...</td>\n",
       "      <td>0.050797</td>\n",
       "      <td>0.000000</td>\n",
       "    </tr>\n",
       "    <tr>\n",
       "      <th>83</th>\n",
       "      <td>0.053636</td>\n",
       "      <td>0.000000</td>\n",
       "      <td>75789.892494</td>\n",
       "      <td>7</td>\n",
       "      <td>12</td>\n",
       "      <td>/Users/haascp/Documents/GitHub/mocca/notebooks...</td>\n",
       "      <td>0.106064</td>\n",
       "      <td>0.000000</td>\n",
       "    </tr>\n",
       "  </tbody>\n",
       "</table>\n",
       "<p>84 rows × 8 columns</p>\n",
       "</div>"
      ],
      "text/plain": [
       "    2-chlorotoluene  o-tolunitrile       tetralin column row  \\\n",
       "0          0.038031       0.020844   73164.378197      1   1   \n",
       "1          0.056691       0.002688   69378.779089      1   2   \n",
       "2          0.059144       0.000000   66978.078563      1   3   \n",
       "3          0.000000       0.037363   73010.115973      1   4   \n",
       "4          0.000000       0.026796   67002.078051      1   5   \n",
       "..              ...            ...            ...    ...  ..   \n",
       "79         0.058033       0.000000   68613.008256      7   8   \n",
       "80         0.063312       0.000000   77838.630410      7   9   \n",
       "81         0.047862       0.000000  163366.194557      7  10   \n",
       "82         0.056952       0.000000   64645.129133      7  11   \n",
       "83         0.053636       0.000000   75789.892494      7  12   \n",
       "\n",
       "                                                 path  conversion     yield  \n",
       "0   /Users/haascp/Documents/GitHub/mocca/notebooks...    0.366152  0.347407  \n",
       "1   /Users/haascp/Documents/GitHub/mocca/notebooks...    0.055154  0.044802  \n",
       "2   /Users/haascp/Documents/GitHub/mocca/notebooks...    0.014262  0.000000  \n",
       "3   /Users/haascp/Documents/GitHub/mocca/notebooks...    1.000000  0.622716  \n",
       "4   /Users/haascp/Documents/GitHub/mocca/notebooks...    1.000000  0.446604  \n",
       "..                                                ...         ...       ...  \n",
       "79  /Users/haascp/Documents/GitHub/mocca/notebooks...    0.032790  0.000000  \n",
       "80  /Users/haascp/Documents/GitHub/mocca/notebooks...   -0.055207  0.000000  \n",
       "81  /Users/haascp/Documents/GitHub/mocca/notebooks...    0.202304  0.000000  \n",
       "82  /Users/haascp/Documents/GitHub/mocca/notebooks...    0.050797  0.000000  \n",
       "83  /Users/haascp/Documents/GitHub/mocca/notebooks...    0.106064  0.000000  \n",
       "\n",
       "[84 rows x 8 columns]"
      ]
     },
     "execution_count": 18,
     "metadata": {},
     "output_type": "execute_result"
    }
   ],
   "source": [
    "results_df = pd.DataFrame(results)\n",
    "row_order = [str(val) for val in list(range(1, 13))]\n",
    "results_df"
   ]
  },
  {
   "cell_type": "code",
   "execution_count": 19,
   "id": "944771b5-708c-48c5-9f70-9ff43b417cc3",
   "metadata": {},
   "outputs": [
    {
     "data": {
      "text/html": [
       "\n",
       "<div id=\"altair-viz-162e231f243e4642b1ece816eef8b952\"></div>\n",
       "<script type=\"text/javascript\">\n",
       "  (function(spec, embedOpt){\n",
       "    let outputDiv = document.currentScript.previousElementSibling;\n",
       "    if (outputDiv.id !== \"altair-viz-162e231f243e4642b1ece816eef8b952\") {\n",
       "      outputDiv = document.getElementById(\"altair-viz-162e231f243e4642b1ece816eef8b952\");\n",
       "    }\n",
       "    const paths = {\n",
       "      \"vega\": \"https://cdn.jsdelivr.net/npm//vega@5?noext\",\n",
       "      \"vega-lib\": \"https://cdn.jsdelivr.net/npm//vega-lib?noext\",\n",
       "      \"vega-lite\": \"https://cdn.jsdelivr.net/npm//vega-lite@4.8.1?noext\",\n",
       "      \"vega-embed\": \"https://cdn.jsdelivr.net/npm//vega-embed@6?noext\",\n",
       "    };\n",
       "\n",
       "    function loadScript(lib) {\n",
       "      return new Promise(function(resolve, reject) {\n",
       "        var s = document.createElement('script');\n",
       "        s.src = paths[lib];\n",
       "        s.async = true;\n",
       "        s.onload = () => resolve(paths[lib]);\n",
       "        s.onerror = () => reject(`Error loading script: ${paths[lib]}`);\n",
       "        document.getElementsByTagName(\"head\")[0].appendChild(s);\n",
       "      });\n",
       "    }\n",
       "\n",
       "    function showError(err) {\n",
       "      outputDiv.innerHTML = `<div class=\"error\" style=\"color:red;\">${err}</div>`;\n",
       "      throw err;\n",
       "    }\n",
       "\n",
       "    function displayChart(vegaEmbed) {\n",
       "      vegaEmbed(outputDiv, spec, embedOpt)\n",
       "        .catch(err => showError(`Javascript Error: ${err.message}<br>This usually means there's a typo in your chart specification. See the javascript console for the full traceback.`));\n",
       "    }\n",
       "\n",
       "    if(typeof define === \"function\" && define.amd) {\n",
       "      requirejs.config({paths});\n",
       "      require([\"vega-embed\"], displayChart, err => showError(`Error loading script: ${err.message}`));\n",
       "    } else if (typeof vegaEmbed === \"function\") {\n",
       "      displayChart(vegaEmbed);\n",
       "    } else {\n",
       "      loadScript(\"vega\")\n",
       "        .then(() => loadScript(\"vega-lite\"))\n",
       "        .then(() => loadScript(\"vega-embed\"))\n",
       "        .catch(showError)\n",
       "        .then(() => displayChart(vegaEmbed));\n",
       "    }\n",
       "  })({\"config\": {\"view\": {\"continuousWidth\": 400, \"continuousHeight\": 300}}, \"layer\": [{\"mark\": \"rect\", \"encoding\": {\"color\": {\"type\": \"quantitative\", \"field\": \"yield\", \"title\": \"Yield\"}, \"x\": {\"type\": \"nominal\", \"field\": \"row\", \"sort\": [\"1\", \"2\", \"3\", \"4\", \"5\", \"6\", \"7\", \"8\", \"9\", \"10\", \"11\", \"12\"]}, \"y\": {\"type\": \"nominal\", \"field\": \"column\"}}, \"title\": \"Yield\"}, {\"mark\": \"text\", \"encoding\": {\"text\": {\"type\": \"quantitative\", \"field\": \"yield\"}, \"x\": {\"type\": \"nominal\", \"field\": \"row\", \"sort\": [\"1\", \"2\", \"3\", \"4\", \"5\", \"6\", \"7\", \"8\", \"9\", \"10\", \"11\", \"12\"]}, \"y\": {\"type\": \"nominal\", \"field\": \"column\"}}, \"title\": \"Yield\"}], \"data\": {\"name\": \"data-488214e5cd062935d1f8268c64c32d5f\"}, \"$schema\": \"https://vega.github.io/schema/vega-lite/v4.8.1.json\", \"datasets\": {\"data-488214e5cd062935d1f8268c64c32d5f\": [{\"2-chlorotoluene\": 0.03803088069520528, \"o-tolunitrile\": 0.020844425507708292, \"tetralin\": 73164.37819712967, \"column\": \"1\", \"row\": \"1\", \"path\": \"/Users/haascp/Documents/GitHub/mocca/notebooks/cyanation_data/09072021_sample_4.txt\", \"conversion\": 0.3661519884132453, \"yield\": 35.0}, {\"2-chlorotoluene\": 0.05669075623393583, \"o-tolunitrile\": 0.0026880918612692773, \"tetralin\": 69378.77908938222, \"column\": \"1\", \"row\": \"2\", \"path\": \"/Users/haascp/Documents/GitHub/mocca/notebooks/cyanation_data/09072021_sample_5.txt\", \"conversion\": 0.055154062767736114, \"yield\": 4.0}, {\"2-chlorotoluene\": 0.05914428279669784, \"o-tolunitrile\": 0.0, \"tetralin\": 66978.07856264607, \"column\": \"1\", \"row\": \"3\", \"path\": \"/Users/haascp/Documents/GitHub/mocca/notebooks/cyanation_data/09072021_sample_6.txt\", \"conversion\": 0.014261953388369313, \"yield\": 0.0}, {\"2-chlorotoluene\": 0.0, \"o-tolunitrile\": 0.03736298983592772, \"tetralin\": 73010.1159725872, \"column\": \"1\", \"row\": \"4\", \"path\": \"/Users/haascp/Documents/GitHub/mocca/notebooks/cyanation_data/09072021_sample_7.txt\", \"conversion\": 1.0, \"yield\": 62.0}, {\"2-chlorotoluene\": 0.0, \"o-tolunitrile\": 0.02679624174876638, \"tetralin\": 67002.07805142495, \"column\": \"1\", \"row\": \"5\", \"path\": \"/Users/haascp/Documents/GitHub/mocca/notebooks/cyanation_data/09072021_sample_8.txt\", \"conversion\": 1.0, \"yield\": 45.0}, {\"2-chlorotoluene\": 0.0, \"o-tolunitrile\": 0.0466604122070166, \"tetralin\": 75697.29693913182, \"column\": \"1\", \"row\": \"6\", \"path\": \"/Users/haascp/Documents/GitHub/mocca/notebooks/cyanation_data/09072021_sample_9.txt\", \"conversion\": 1.0, \"yield\": 78.0}, {\"2-chlorotoluene\": 0.0446490706806193, \"o-tolunitrile\": 0.01023172827397967, \"tetralin\": 93840.13069732246, \"column\": \"1\", \"row\": \"7\", \"path\": \"/Users/haascp/Documents/GitHub/mocca/notebooks/cyanation_data/09072021_sample_10.txt\", \"conversion\": 0.25584882198967823, \"yield\": 17.0}, {\"2-chlorotoluene\": 0.051755553715296526, \"o-tolunitrile\": 0.004892286270379184, \"tetralin\": 59452.44558723102, \"column\": \"1\", \"row\": \"8\", \"path\": \"/Users/haascp/Documents/GitHub/mocca/notebooks/cyanation_data/09072021_sample_11.txt\", \"conversion\": 0.1374074380783912, \"yield\": 8.0}, {\"2-chlorotoluene\": 0.04804270330125606, \"o-tolunitrile\": 0.008989094103319537, \"tetralin\": 65894.03509343207, \"column\": \"1\", \"row\": \"9\", \"path\": \"/Users/haascp/Documents/GitHub/mocca/notebooks/cyanation_data/09072021_sample_12.txt\", \"conversion\": 0.19928827831239895, \"yield\": 15.0}, {\"2-chlorotoluene\": 0.051323361829033694, \"o-tolunitrile\": 0.0, \"tetralin\": 64582.420209487485, \"column\": \"1\", \"row\": \"10\", \"path\": \"/Users/haascp/Documents/GitHub/mocca/notebooks/cyanation_data/09072021_sample_13.txt\", \"conversion\": 0.14461063618277173, \"yield\": 0.0}, {\"2-chlorotoluene\": 0.04922728136300856, \"o-tolunitrile\": 0.0, \"tetralin\": 62808.26003432067, \"column\": \"1\", \"row\": \"11\", \"path\": \"/Users/haascp/Documents/GitHub/mocca/notebooks/cyanation_data/09072021_sample_14.txt\", \"conversion\": 0.17954531061652398, \"yield\": 0.0}, {\"2-chlorotoluene\": 0.05229971487229433, \"o-tolunitrile\": 0.0, \"tetralin\": 60758.5092111762, \"column\": \"1\", \"row\": \"12\", \"path\": \"/Users/haascp/Documents/GitHub/mocca/notebooks/cyanation_data/09072021_sample_15.txt\", \"conversion\": 0.12833808546176112, \"yield\": 0.0}, {\"2-chlorotoluene\": 0.05955560488956301, \"o-tolunitrile\": 0.0, \"tetralin\": 69455.1644744802, \"column\": \"2\", \"row\": \"1\", \"path\": \"/Users/haascp/Documents/GitHub/mocca/notebooks/cyanation_data/09072021_sample_16.txt\", \"conversion\": 0.00740658517394977, \"yield\": 0.0}, {\"2-chlorotoluene\": 0.05839107722682113, \"o-tolunitrile\": 0.0016721913669898883, \"tetralin\": 63151.384629195294, \"column\": \"2\", \"row\": \"2\", \"path\": \"/Users/haascp/Documents/GitHub/mocca/notebooks/cyanation_data/09072021_sample_17.txt\", \"conversion\": 0.026815379552981116, \"yield\": 3.0}, {\"2-chlorotoluene\": 0.06033185244366621, \"o-tolunitrile\": 0.0, \"tetralin\": 67894.29486322058, \"column\": \"2\", \"row\": \"3\", \"path\": \"/Users/haascp/Documents/GitHub/mocca/notebooks/cyanation_data/09072021_sample_18.txt\", \"conversion\": -0.005530874061103591, \"yield\": 0.0}, {\"2-chlorotoluene\": 0.05671297130037821, \"o-tolunitrile\": 0.0016684698802529182, \"tetralin\": 68149.20279811238, \"column\": \"2\", \"row\": \"4\", \"path\": \"/Users/haascp/Documents/GitHub/mocca/notebooks/cyanation_data/09072021_sample_19.txt\", \"conversion\": 0.05478381166036314, \"yield\": 3.0}, {\"2-chlorotoluene\": 0.059891753789442316, \"o-tolunitrile\": 0.0034374818497937107, \"tetralin\": 60928.56635597297, \"column\": \"2\", \"row\": \"5\", \"path\": \"/Users/haascp/Documents/GitHub/mocca/notebooks/cyanation_data/09072021_sample_20.txt\", \"conversion\": 0.0018041035092946959, \"yield\": 6.0}, {\"2-chlorotoluene\": 0.06290115925578701, \"o-tolunitrile\": 0.0, \"tetralin\": 62538.21048606175, \"column\": \"2\", \"row\": \"6\", \"path\": \"/Users/haascp/Documents/GitHub/mocca/notebooks/cyanation_data/09072021_sample_21.txt\", \"conversion\": -0.048352654263116954, \"yield\": 0.0}, {\"2-chlorotoluene\": 0.052558924529066346, \"o-tolunitrile\": 0.01443963184635278, \"tetralin\": 64012.428229195306, \"column\": \"2\", \"row\": \"7\", \"path\": \"/Users/haascp/Documents/GitHub/mocca/notebooks/cyanation_data/09072021_sample_22.txt\", \"conversion\": 0.12401792451556086, \"yield\": 24.0}, {\"2-chlorotoluene\": 0.052465276296848606, \"o-tolunitrile\": 0.00711949404744804, \"tetralin\": 59665.6174291953, \"column\": \"2\", \"row\": \"8\", \"path\": \"/Users/haascp/Documents/GitHub/mocca/notebooks/cyanation_data/09072021_sample_23.txt\", \"conversion\": 0.12557872838585654, \"yield\": 12.0}, {\"2-chlorotoluene\": 0.047996046224182, \"o-tolunitrile\": 0.013540731112378569, \"tetralin\": 60842.76007955512, \"column\": \"2\", \"row\": \"9\", \"path\": \"/Users/haascp/Documents/GitHub/mocca/notebooks/cyanation_data/09072021_sample_24.txt\", \"conversion\": 0.2000658962636333, \"yield\": 23.0}, {\"2-chlorotoluene\": 0.04805790379029604, \"o-tolunitrile\": 0.003948507213991055, \"tetralin\": 64421.42579811241, \"column\": \"2\", \"row\": \"10\", \"path\": \"/Users/haascp/Documents/GitHub/mocca/notebooks/cyanation_data/09072021_sample_25.txt\", \"conversion\": 0.19903493682839926, \"yield\": 7.0}, {\"2-chlorotoluene\": 0.04294063068738387, \"o-tolunitrile\": 0.0, \"tetralin\": 58074.95026017454, \"column\": \"2\", \"row\": \"11\", \"path\": \"/Users/haascp/Documents/GitHub/mocca/notebooks/cyanation_data/09072021_sample_26.txt\", \"conversion\": 0.2843228218769354, \"yield\": 0.0}, {\"2-chlorotoluene\": 0.050610847475489454, \"o-tolunitrile\": 0.0038301298659623047, \"tetralin\": 94276.94589689914, \"column\": \"2\", \"row\": \"12\", \"path\": \"/Users/haascp/Documents/GitHub/mocca/notebooks/cyanation_data/09072021_sample_27.txt\", \"conversion\": 0.15648587540850908, \"yield\": 6.0}, {\"2-chlorotoluene\": 0.05802353158605711, \"o-tolunitrile\": 0.0, \"tetralin\": 67628.45917816297, \"column\": \"3\", \"row\": \"1\", \"path\": \"/Users/haascp/Documents/GitHub/mocca/notebooks/cyanation_data/09072021_sample_28.txt\", \"conversion\": 0.03294114023238148, \"yield\": 0.0}, {\"2-chlorotoluene\": 0.06036307492393092, \"o-tolunitrile\": 0.0, \"tetralin\": 62079.003913829496, \"column\": \"3\", \"row\": \"2\", \"path\": \"/Users/haascp/Documents/GitHub/mocca/notebooks/cyanation_data/09072021_sample_29.txt\", \"conversion\": -0.006051248732182046, \"yield\": 0.0}, {\"2-chlorotoluene\": 0.06324972144692625, \"o-tolunitrile\": 0.0, \"tetralin\": 63684.20051365836, \"column\": \"3\", \"row\": \"3\", \"path\": \"/Users/haascp/Documents/GitHub/mocca/notebooks/cyanation_data/09072021_sample_30.txt\", \"conversion\": -0.05416202411543762, \"yield\": 0.0}, {\"2-chlorotoluene\": 0.0, \"o-tolunitrile\": 0.053658007614015686, \"tetralin\": 65307.64776579214, \"column\": \"3\", \"row\": \"4\", \"path\": \"/Users/haascp/Documents/GitHub/mocca/notebooks/cyanation_data/09072021_sample_31.txt\", \"conversion\": 1.0, \"yield\": 89.0}, {\"2-chlorotoluene\": 0.0, \"o-tolunitrile\": 0.046080322693424824, \"tetralin\": 60392.12947433718, \"column\": \"3\", \"row\": \"5\", \"path\": \"/Users/haascp/Documents/GitHub/mocca/notebooks/cyanation_data/09072021_sample_32.txt\", \"conversion\": 1.0, \"yield\": 77.0}, {\"2-chlorotoluene\": 0.06529440767274747, \"o-tolunitrile\": 0.0, \"tetralin\": 60387.440348435994, \"column\": \"3\", \"row\": \"6\", \"path\": \"/Users/haascp/Documents/GitHub/mocca/notebooks/cyanation_data/09072021_sample_33.txt\", \"conversion\": -0.0882401278791245, \"yield\": 0.0}, {\"2-chlorotoluene\": 0.03775763259319658, \"o-tolunitrile\": 0.027702127727174276, \"tetralin\": 62612.598456453146, \"column\": \"3\", \"row\": \"7\", \"path\": \"/Users/haascp/Documents/GitHub/mocca/notebooks/cyanation_data/09072021_sample_34.txt\", \"conversion\": 0.3707061234467236, \"yield\": 46.0}, {\"2-chlorotoluene\": 0.04099617979146169, \"o-tolunitrile\": 0.0148147187912392, \"tetralin\": 58545.606657017626, \"column\": \"3\", \"row\": \"8\", \"path\": \"/Users/haascp/Documents/GitHub/mocca/notebooks/cyanation_data/09072021_sample_35.txt\", \"conversion\": 0.31673033680897184, \"yield\": 25.0}, {\"2-chlorotoluene\": 0.04686595585404937, \"o-tolunitrile\": 0.01581247387620492, \"tetralin\": 70326.53740544787, \"column\": \"3\", \"row\": \"9\", \"path\": \"/Users/haascp/Documents/GitHub/mocca/notebooks/cyanation_data/09072021_sample_36.txt\", \"conversion\": 0.21890073576584385, \"yield\": 26.0}, {\"2-chlorotoluene\": 0.046473949497216754, \"o-tolunitrile\": 0.0026239729325597313, \"tetralin\": 61775.228034896856, \"column\": \"3\", \"row\": \"10\", \"path\": \"/Users/haascp/Documents/GitHub/mocca/notebooks/cyanation_data/09072021_sample_37.txt\", \"conversion\": 0.2254341750463874, \"yield\": 4.0}, {\"2-chlorotoluene\": 0.04342933475388209, \"o-tolunitrile\": 0.0, \"tetralin\": 66729.85018268415, \"column\": \"3\", \"row\": \"11\", \"path\": \"/Users/haascp/Documents/GitHub/mocca/notebooks/cyanation_data/09072021_sample_38.txt\", \"conversion\": 0.27617775410196516, \"yield\": 0.0}, {\"2-chlorotoluene\": 0.04680543620497836, \"o-tolunitrile\": 0.0025138037106047753, \"tetralin\": 129642.90202487682, \"column\": \"3\", \"row\": \"12\", \"path\": \"/Users/haascp/Documents/GitHub/mocca/notebooks/cyanation_data/09072021_sample_39.txt\", \"conversion\": 0.219909396583694, \"yield\": 4.0}, {\"2-chlorotoluene\": 0.054781289096944095, \"o-tolunitrile\": 0.0, \"tetralin\": 71475.73417590554, \"column\": \"4\", \"row\": \"1\", \"path\": \"/Users/haascp/Documents/GitHub/mocca/notebooks/cyanation_data/09072021_sample_40.txt\", \"conversion\": 0.08697851505093171, \"yield\": 0.0}, {\"2-chlorotoluene\": 0.052587402486340314, \"o-tolunitrile\": 0.0, \"tetralin\": 70562.03474842153, \"column\": \"4\", \"row\": \"2\", \"path\": \"/Users/haascp/Documents/GitHub/mocca/notebooks/cyanation_data/09072021_sample_41.txt\", \"conversion\": 0.12354329189432807, \"yield\": 0.0}, {\"2-chlorotoluene\": 0.05792015490057031, \"o-tolunitrile\": 0.0, \"tetralin\": 72540.98325372458, \"column\": \"4\", \"row\": \"3\", \"path\": \"/Users/haascp/Documents/GitHub/mocca/notebooks/cyanation_data/09072021_sample_42.txt\", \"conversion\": 0.034664084990494844, \"yield\": 0.0}, {\"2-chlorotoluene\": 0.05175851010290974, \"o-tolunitrile\": 0.0016731892554490975, \"tetralin\": 76305.79361788675, \"column\": \"4\", \"row\": \"4\", \"path\": \"/Users/haascp/Documents/GitHub/mocca/notebooks/cyanation_data/09072021_sample_43.txt\", \"conversion\": 0.13735816495150435, \"yield\": 3.0}, {\"2-chlorotoluene\": 0.030975693197547137, \"o-tolunitrile\": 0.02379766895894708, \"tetralin\": 66605.30384147399, \"column\": \"4\", \"row\": \"5\", \"path\": \"/Users/haascp/Documents/GitHub/mocca/notebooks/cyanation_data/09072021_sample_44.txt\", \"conversion\": 0.4837384467075477, \"yield\": 40.0}, {\"2-chlorotoluene\": 0.058197723059722956, \"o-tolunitrile\": 0.0, \"tetralin\": 68231.3269511724, \"column\": \"4\", \"row\": \"6\", \"path\": \"/Users/haascp/Documents/GitHub/mocca/notebooks/cyanation_data/09072021_sample_45.txt\", \"conversion\": 0.03003794900461737, \"yield\": 0.0}, {\"2-chlorotoluene\": 0.012201590594727625, \"o-tolunitrile\": 0.0453737013389777, \"tetralin\": 69246.98745608596, \"column\": \"4\", \"row\": \"7\", \"path\": \"/Users/haascp/Documents/GitHub/mocca/notebooks/cyanation_data/09072021_sample_46.txt\", \"conversion\": 0.7966401567545396, \"yield\": 76.0}, {\"2-chlorotoluene\": 0.03201992113364114, \"o-tolunitrile\": 0.021161053574560478, \"tetralin\": 64851.2145439764, \"column\": \"4\", \"row\": \"8\", \"path\": \"/Users/haascp/Documents/GitHub/mocca/notebooks/cyanation_data/09072021_sample_47.txt\", \"conversion\": 0.46633464777264766, \"yield\": 35.0}, {\"2-chlorotoluene\": 0.043727625289306536, \"o-tolunitrile\": 0.010629897002797557, \"tetralin\": 100384.37722371942, \"column\": \"4\", \"row\": \"9\", \"path\": \"/Users/haascp/Documents/GitHub/mocca/notebooks/cyanation_data/09072021_sample_48.txt\", \"conversion\": 0.2712062451782244, \"yield\": 18.0}, {\"2-chlorotoluene\": 0.05061150678433037, \"o-tolunitrile\": 0.0034948606005578142, \"tetralin\": 62816.892627921996, \"column\": \"4\", \"row\": \"10\", \"path\": \"/Users/haascp/Documents/GitHub/mocca/notebooks/cyanation_data/09072021_sample_49.txt\", \"conversion\": 0.1564748869278271, \"yield\": 6.0}, {\"2-chlorotoluene\": 0.047697406078566984, \"o-tolunitrile\": 0.0016497536789549328, \"tetralin\": 84581.32931791639, \"column\": \"4\", \"row\": \"11\", \"path\": \"/Users/haascp/Documents/GitHub/mocca/notebooks/cyanation_data/09072021_sample_50.txt\", \"conversion\": 0.20504323202388358, \"yield\": 3.0}, {\"2-chlorotoluene\": 0.04200819319208139, \"o-tolunitrile\": 0.00600969674210151, \"tetralin\": 185409.9582672657, \"column\": \"4\", \"row\": \"12\", \"path\": \"/Users/haascp/Documents/GitHub/mocca/notebooks/cyanation_data/09072021_sample_51.txt\", \"conversion\": 0.29986344679864346, \"yield\": 10.0}, {\"2-chlorotoluene\": 0.060196999981488634, \"o-tolunitrile\": 0.0, \"tetralin\": 63343.47301534962, \"column\": \"5\", \"row\": \"1\", \"path\": \"/Users/haascp/Documents/GitHub/mocca/notebooks/cyanation_data/09072021_sample_52.txt\", \"conversion\": -0.0032833330248106113, \"yield\": 0.0}, {\"2-chlorotoluene\": 0.06073375825988724, \"o-tolunitrile\": 0.0, \"tetralin\": 60782.44345336337, \"column\": \"5\", \"row\": \"2\", \"path\": \"/Users/haascp/Documents/GitHub/mocca/notebooks/cyanation_data/09072021_sample_53.txt\", \"conversion\": -0.01222930433145408, \"yield\": 0.0}, {\"2-chlorotoluene\": 0.06499096387321399, \"o-tolunitrile\": 0.0, \"tetralin\": 59212.457671062766, \"column\": \"5\", \"row\": \"3\", \"path\": \"/Users/haascp/Documents/GitHub/mocca/notebooks/cyanation_data/09072021_sample_54.txt\", \"conversion\": -0.08318273122023315, \"yield\": 0.0}, {\"2-chlorotoluene\": 0.06100146585073962, \"o-tolunitrile\": 0.0, \"tetralin\": 66761.66438608986, \"column\": \"5\", \"row\": \"4\", \"path\": \"/Users/haascp/Documents/GitHub/mocca/notebooks/cyanation_data/09072021_sample_55.txt\", \"conversion\": -0.01669109751232708, \"yield\": 0.0}, {\"2-chlorotoluene\": 0.05943158518845844, \"o-tolunitrile\": 0.0, \"tetralin\": 61943.7154068411, \"column\": \"5\", \"row\": \"5\", \"path\": \"/Users/haascp/Documents/GitHub/mocca/notebooks/cyanation_data/09072021_sample_56.txt\", \"conversion\": 0.009473580192359323, \"yield\": 0.0}, {\"2-chlorotoluene\": 0.06418775606782258, \"o-tolunitrile\": 0.0, \"tetralin\": 63105.18494546953, \"column\": \"5\", \"row\": \"6\", \"path\": \"/Users/haascp/Documents/GitHub/mocca/notebooks/cyanation_data/09072021_sample_57.txt\", \"conversion\": -0.0697959344637097, \"yield\": 0.0}, {\"2-chlorotoluene\": 0.0, \"o-tolunitrile\": 0.056349058259802326, \"tetralin\": 67099.7222467391, \"column\": \"5\", \"row\": \"7\", \"path\": \"/Users/haascp/Documents/GitHub/mocca/notebooks/cyanation_data/09072021_sample_58.txt\", \"conversion\": 1.0, \"yield\": 94.0}, {\"2-chlorotoluene\": 0.03335388051802106, \"o-tolunitrile\": 0.027433483712733377, \"tetralin\": 57234.308840932106, \"column\": \"5\", \"row\": \"8\", \"path\": \"/Users/haascp/Documents/GitHub/mocca/notebooks/cyanation_data/09072021_sample_59.txt\", \"conversion\": 0.4441019913663157, \"yield\": 46.0}, {\"2-chlorotoluene\": 0.06765222146725691, \"o-tolunitrile\": 0.002664950240396324, \"tetralin\": 67580.47976447293, \"column\": \"5\", \"row\": \"9\", \"path\": \"/Users/haascp/Documents/GitHub/mocca/notebooks/cyanation_data/09072021_sample_60.txt\", \"conversion\": -0.12753702445428192, \"yield\": 4.0}, {\"2-chlorotoluene\": 0.04428693733019087, \"o-tolunitrile\": 0.010446160973895436, \"tetralin\": 62707.31319551117, \"column\": \"5\", \"row\": \"10\", \"path\": \"/Users/haascp/Documents/GitHub/mocca/notebooks/cyanation_data/09072021_sample_61.txt\", \"conversion\": 0.2618843778301521, \"yield\": 17.0}, {\"2-chlorotoluene\": 0.04185909403688472, \"o-tolunitrile\": 0.0037795611640681665, \"tetralin\": 142853.79427131652, \"column\": \"5\", \"row\": \"11\", \"path\": \"/Users/haascp/Documents/GitHub/mocca/notebooks/cyanation_data/09072021_sample_62.txt\", \"conversion\": 0.302348432718588, \"yield\": 6.0}, {\"2-chlorotoluene\": 0.05059263262551148, \"o-tolunitrile\": 0.01408819853502245, \"tetralin\": 94594.92344055118, \"column\": \"5\", \"row\": \"12\", \"path\": \"/Users/haascp/Documents/GitHub/mocca/notebooks/cyanation_data/09072021_sample_63.txt\", \"conversion\": 0.15678945624147528, \"yield\": 23.0}, {\"2-chlorotoluene\": 0.05086547297815, \"o-tolunitrile\": 0.011422493378266082, \"tetralin\": 60176.668618165946, \"column\": \"6\", \"row\": \"1\", \"path\": \"/Users/haascp/Documents/GitHub/mocca/notebooks/cyanation_data/09072021_sample_64.txt\", \"conversion\": 0.1522421170308333, \"yield\": 19.0}, {\"2-chlorotoluene\": 0.05516795976197377, \"o-tolunitrile\": 0.004630423727572152, \"tetralin\": 58997.25802929908, \"column\": \"6\", \"row\": \"2\", \"path\": \"/Users/haascp/Documents/GitHub/mocca/notebooks/cyanation_data/09072021_sample_65.txt\", \"conversion\": 0.08053400396710378, \"yield\": 8.0}, {\"2-chlorotoluene\": 0.060775747202542384, \"o-tolunitrile\": 0.0, \"tetralin\": 74554.42201785232, \"column\": \"6\", \"row\": \"3\", \"path\": \"/Users/haascp/Documents/GitHub/mocca/notebooks/cyanation_data/09072021_sample_66.txt\", \"conversion\": -0.012929120042373099, \"yield\": 0.0}, {\"2-chlorotoluene\": 0.031583083068327286, \"o-tolunitrile\": 0.02892924310245215, \"tetralin\": 61316.77812301616, \"column\": \"6\", \"row\": \"4\", \"path\": \"/Users/haascp/Documents/GitHub/mocca/notebooks/cyanation_data/09072021_sample_67.txt\", \"conversion\": 0.4736152821945452, \"yield\": 48.0}, {\"2-chlorotoluene\": 0.040202773403252935, \"o-tolunitrile\": 0.01716761334396726, \"tetralin\": 58411.77051330176, \"column\": \"6\", \"row\": \"5\", \"path\": \"/Users/haascp/Documents/GitHub/mocca/notebooks/cyanation_data/09072021_sample_68.txt\", \"conversion\": 0.32995377661245107, \"yield\": 29.0}, {\"2-chlorotoluene\": 0.0, \"o-tolunitrile\": 0.05272631098430034, \"tetralin\": 59541.512889205405, \"column\": \"6\", \"row\": \"6\", \"path\": \"/Users/haascp/Documents/GitHub/mocca/notebooks/cyanation_data/09072021_sample_69.txt\", \"conversion\": 1.0, \"yield\": 88.0}, {\"2-chlorotoluene\": 0.007936989256450068, \"o-tolunitrile\": 0.05564031441172181, \"tetralin\": 76335.63789846393, \"column\": \"6\", \"row\": \"7\", \"path\": \"/Users/haascp/Documents/GitHub/mocca/notebooks/cyanation_data/09072021_sample_70.txt\", \"conversion\": 0.8677168457258322, \"yield\": 93.0}, {\"2-chlorotoluene\": 0.018734199719047162, \"o-tolunitrile\": 0.040833316014614734, \"tetralin\": 110305.39789785151, \"column\": \"6\", \"row\": \"8\", \"path\": \"/Users/haascp/Documents/GitHub/mocca/notebooks/cyanation_data/09072021_sample_71.txt\", \"conversion\": 0.6877633380158806, \"yield\": 68.0}, {\"2-chlorotoluene\": 0.05615712022513238, \"o-tolunitrile\": 0.004179311290043822, \"tetralin\": 72157.26210307937, \"column\": \"6\", \"row\": \"9\", \"path\": \"/Users/haascp/Documents/GitHub/mocca/notebooks/cyanation_data/09072021_sample_72.txt\", \"conversion\": 0.06404799624779359, \"yield\": 7.0}, {\"2-chlorotoluene\": 0.0454818163925553, \"o-tolunitrile\": 0.0053347185271828135, \"tetralin\": 95186.7682615171, \"column\": \"6\", \"row\": \"10\", \"path\": \"/Users/haascp/Documents/GitHub/mocca/notebooks/cyanation_data/09072021_sample_73.txt\", \"conversion\": 0.24196972679074494, \"yield\": 9.0}, {\"2-chlorotoluene\": 0.0323735295044108, \"o-tolunitrile\": 0.006106682172274058, \"tetralin\": 212293.45802220257, \"column\": \"6\", \"row\": \"11\", \"path\": \"/Users/haascp/Documents/GitHub/mocca/notebooks/cyanation_data/09072021_sample_74.txt\", \"conversion\": 0.4604411749264866, \"yield\": 10.0}, {\"2-chlorotoluene\": 0.04418688597997477, \"o-tolunitrile\": 0.006851028157521119, \"tetralin\": 61229.1121734989, \"column\": \"6\", \"row\": \"12\", \"path\": \"/Users/haascp/Documents/GitHub/mocca/notebooks/cyanation_data/09072021_sample_75.txt\", \"conversion\": 0.2635519003337538, \"yield\": 11.0}, {\"2-chlorotoluene\": 0.061069360507437234, \"o-tolunitrile\": 0.0, \"tetralin\": 62589.61391499315, \"column\": \"7\", \"row\": \"1\", \"path\": \"/Users/haascp/Documents/GitHub/mocca/notebooks/cyanation_data/09072021_sample_76.txt\", \"conversion\": -0.01782267512395394, \"yield\": 0.0}, {\"2-chlorotoluene\": 0.0588605237728465, \"o-tolunitrile\": 0.0, \"tetralin\": 86603.68355429293, \"column\": \"7\", \"row\": \"2\", \"path\": \"/Users/haascp/Documents/GitHub/mocca/notebooks/cyanation_data/09072021_sample_77.txt\", \"conversion\": 0.018991270452558297, \"yield\": 0.0}, {\"2-chlorotoluene\": 0.06133574441641268, \"o-tolunitrile\": 0.0, \"tetralin\": 75569.32144422039, \"column\": \"7\", \"row\": \"3\", \"path\": \"/Users/haascp/Documents/GitHub/mocca/notebooks/cyanation_data/09072021_sample_78.txt\", \"conversion\": -0.022262406940211366, \"yield\": 0.0}, {\"2-chlorotoluene\": 0.06091466535858795, \"o-tolunitrile\": 0.0, \"tetralin\": 61031.03718386364, \"column\": \"7\", \"row\": \"4\", \"path\": \"/Users/haascp/Documents/GitHub/mocca/notebooks/cyanation_data/09072021_sample_79.txt\", \"conversion\": -0.015244422643132551, \"yield\": 0.0}, {\"2-chlorotoluene\": 0.06311328113783643, \"o-tolunitrile\": 0.0, \"tetralin\": 56484.72632444509, \"column\": \"7\", \"row\": \"5\", \"path\": \"/Users/haascp/Documents/GitHub/mocca/notebooks/cyanation_data/09072021_sample_80.txt\", \"conversion\": -0.05188801896394054, \"yield\": 0.0}, {\"2-chlorotoluene\": 0.06509867974386382, \"o-tolunitrile\": 0.0, \"tetralin\": 63446.304958680244, \"column\": \"7\", \"row\": \"6\", \"path\": \"/Users/haascp/Documents/GitHub/mocca/notebooks/cyanation_data/09072021_sample_81.txt\", \"conversion\": -0.08497799573106378, \"yield\": 0.0}, {\"2-chlorotoluene\": 0.053668048324419924, \"o-tolunitrile\": 0.0, \"tetralin\": 138617.31812416352, \"column\": \"7\", \"row\": \"7\", \"path\": \"/Users/haascp/Documents/GitHub/mocca/notebooks/cyanation_data/09072021_sample_82.txt\", \"conversion\": 0.10553252792633457, \"yield\": 0.0}, {\"2-chlorotoluene\": 0.05803259766959962, \"o-tolunitrile\": 0.0, \"tetralin\": 68613.00825575044, \"column\": \"7\", \"row\": \"8\", \"path\": \"/Users/haascp/Documents/GitHub/mocca/notebooks/cyanation_data/09072021_sample_83.txt\", \"conversion\": 0.03279003884000635, \"yield\": 0.0}, {\"2-chlorotoluene\": 0.06331243435184186, \"o-tolunitrile\": 0.0, \"tetralin\": 77838.63041022552, \"column\": \"7\", \"row\": \"9\", \"path\": \"/Users/haascp/Documents/GitHub/mocca/notebooks/cyanation_data/09072021_sample_84.txt\", \"conversion\": -0.05520723919736441, \"yield\": 0.0}, {\"2-chlorotoluene\": 0.0478617607091978, \"o-tolunitrile\": 0.0, \"tetralin\": 163366.19455749638, \"column\": \"7\", \"row\": \"10\", \"path\": \"/Users/haascp/Documents/GitHub/mocca/notebooks/cyanation_data/09072021_sample_85.txt\", \"conversion\": 0.20230398818003661, \"yield\": 0.0}, {\"2-chlorotoluene\": 0.056952208562920395, \"o-tolunitrile\": 0.0, \"tetralin\": 64645.12913275067, \"column\": \"7\", \"row\": \"11\", \"path\": \"/Users/haascp/Documents/GitHub/mocca/notebooks/cyanation_data/09072021_sample_86.txt\", \"conversion\": 0.050796523951326715, \"yield\": 0.0}, {\"2-chlorotoluene\": 0.05363617893781849, \"o-tolunitrile\": 0.0, \"tetralin\": 75789.89249434305, \"column\": \"7\", \"row\": \"12\", \"path\": \"/Users/haascp/Documents/GitHub/mocca/notebooks/cyanation_data/09072021_sample_87.txt\", \"conversion\": 0.10606368436969181, \"yield\": 0.0}]}}, {\"mode\": \"vega-lite\"});\n",
       "</script>"
      ],
      "text/plain": [
       "alt.LayerChart(...)"
      ]
     },
     "metadata": {},
     "output_type": "display_data"
    }
   ],
   "source": [
    "results_rounded = results_df\n",
    "results_rounded['yield'] = results_rounded['yield'] * 100\n",
    "results_rounded = results_rounded.round({'yield': 0})\n",
    "#display(results_rounded['yield'])\n",
    "\n",
    "heatmap = alt.Chart(results_rounded, title = 'Yield').mark_rect().encode(\n",
    "            x=alt.X('row', sort=row_order),\n",
    "            y=alt.Y('column'),\n",
    "            color=alt.Color('yield', title=\"Yield\")\n",
    "            )\n",
    "text = alt.Chart(results_rounded, title = 'Yield').mark_text().encode(\n",
    "            x=alt.X('row', sort=row_order),\n",
    "            y=alt.Y('column'),\n",
    "            text='yield'\n",
    "            )\n",
    "\n",
    "display(heatmap + text)"
   ]
  },
  {
   "cell_type": "code",
   "execution_count": null,
   "id": "337a5023-f756-4047-8bc7-63489f69792c",
   "metadata": {},
   "outputs": [],
   "source": []
  },
  {
   "cell_type": "code",
   "execution_count": null,
   "id": "38e99da1-f7d0-4891-bce4-26b455a14e30",
   "metadata": {},
   "outputs": [],
   "source": []
  }
 ],
 "metadata": {
  "kernelspec": {
   "display_name": "mocca-dev",
   "language": "python",
   "name": "mocca-dev"
  },
  "language_info": {
   "codemirror_mode": {
    "name": "ipython",
    "version": 3
   },
   "file_extension": ".py",
   "mimetype": "text/x-python",
   "name": "python",
   "nbconvert_exporter": "python",
   "pygments_lexer": "ipython3",
   "version": "3.9.7"
  }
 },
 "nbformat": 4,
 "nbformat_minor": 5
}
