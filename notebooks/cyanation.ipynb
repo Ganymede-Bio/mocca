{
 "cells": [
  {
   "cell_type": "markdown",
   "id": "c70bf775-82ac-4c3c-a1b5-23af5ec8fb3f",
   "metadata": {},
   "source": [
    "CPH and ML 08/2022"
   ]
  },
  {
   "cell_type": "markdown",
   "id": "6a58324c-8e7a-44ca-9f39-dc6563ce81b0",
   "metadata": {
    "tags": []
   },
   "source": [
    "# MOCCA data analysis of cyanation well plate screening\n",
    "\n",
    "MOCCA is a tool for the analysis of *High-Performance Liquid Chromatography–Diode Array Detection* (HPLC–DAD) datasets which are recorded in the context of reaction (process) controls. It only requires HPLC–DAD raw data and some basic user input for the data analysis."
   ]
  },
  {
   "cell_type": "markdown",
   "id": "c9d2a04c-52f8-4e3f-bd9e-8a80fcee0302",
   "metadata": {},
   "source": [
    "## Reaction and case study background\n",
    "\n",
    "This case study deals with a screening of discrete reaction parameters on a well plate and its data analysis using MOCCA. The chosen reaction is a palladium-catalyzed cyanation of 2-chlorotoluene yielding o-tolunitrile. We screened all possible combinations of seven different O-protected cyanohydrins, four different bases, and three different ligands. Experimental details and a discussion of the results are provided within the manuscript."
   ]
  },
  {
   "cell_type": "markdown",
   "id": "14bcad8c-907f-45e8-b0a6-8bb1b4f61865",
   "metadata": {},
   "source": [
    "## Imports"
   ]
  },
  {
   "cell_type": "code",
   "execution_count": 1,
   "id": "ff1b1321-02b7-4ffa-9bfd-76556f076ad0",
   "metadata": {},
   "outputs": [],
   "source": [
    "# folders handling\n",
    "import os\n",
    "from glob import glob\n",
    "\n",
    "# user interaction\n",
    "from mocca.user_interaction.campaign import HplcDadCampaign\n",
    "from mocca.user_interaction.user_objects import Gradient\n",
    "from mocca.user_interaction.user_objects import Compound\n",
    "from mocca.user_interaction.user_objects import InternalStandard\n",
    "from mocca.user_interaction.user_objects import HplcInput\n",
    "from mocca.user_interaction.settings import Settings\n",
    "\n",
    "# reporting\n",
    "from mocca.report.main import report\n",
    "\n",
    "\"\"\"\n",
    "#creation of separate reports\n",
    "from mocca.report.hplc_input import report_hplc_input\n",
    "from mocca.report.gradient import report_gradients\n",
    "from mocca.report.chromatograms import report_chroms\n",
    "from mocca.report.bad_chromatograms import report_bad_chroms\n",
    "from mocca.report.compound_tracking import report_comp_tracking\n",
    "from mocca.report.peak_library import report_peak_library\n",
    "from mocca.report.compound_library import report_comp_library\n",
    "from mocca.report.calibration_library import report_calib_library\n",
    "from mocca.report.deconvolution import report_deconvolution\n",
    "\"\"\"\n",
    "\n",
    "%load_ext autoreload\n",
    "%autoreload 2"
   ]
  },
  {
   "cell_type": "markdown",
   "id": "66d85391-6b55-4309-9bfa-ccb97e84b8f9",
   "metadata": {},
   "source": [
    "### Cyanation data folder handling\n",
    "\n",
    "The data corresponding to this notebook can be found in mocca -> notebooks -> cyanation_data. The data was recorded on an Shimadzu system with an automatic export of the raw data to a .txt file."
   ]
  },
  {
   "cell_type": "code",
   "execution_count": 6,
   "id": "aff1a097-0ad6-421f-9168-87a91252a362",
   "metadata": {},
   "outputs": [],
   "source": [
    "# get path of this notebook\n",
    "ipynb_path = os.path.dirname(os.path.realpath(\"__file__\"))\n",
    "\n",
    "# add the path to the test data folder\n",
    "cyan_data_path = os.path.join(ipynb_path, \"cyanation_data\")\n",
    "\n",
    "# find all folders containing Shimadzu/Labsolutions HPLC data (.txt file extension)\n",
    "folders = glob(cyan_data_path + '/*' + '.txt') \n",
    "folders = sorted(folders, key=lambda x: int(x.split('_')[-1][:-4]))"
   ]
  },
  {
   "cell_type": "code",
   "execution_count": 7,
   "id": "36a5d434-f4d2-46bb-acd1-4a7d484dbd8d",
   "metadata": {
    "tags": []
   },
   "outputs": [
    {
     "name": "stdout",
     "output_type": "stream",
     "text": [
      "09072021_sample_4.txt\n",
      "09072021_sample_5.txt\n",
      "09072021_sample_6.txt\n",
      "09072021_sample_7.txt\n",
      "09072021_sample_8.txt\n",
      "09072021_sample_9.txt\n",
      "09072021_sample_10.txt\n",
      "09072021_sample_11.txt\n",
      "09072021_sample_12.txt\n",
      "09072021_sample_13.txt\n",
      "09072021_sample_14.txt\n",
      "09072021_sample_15.txt\n",
      "09072021_sample_16.txt\n",
      "09072021_sample_17.txt\n",
      "09072021_sample_18.txt\n",
      "09072021_sample_19.txt\n",
      "09072021_sample_20.txt\n",
      "09072021_sample_21.txt\n",
      "09072021_sample_22.txt\n",
      "09072021_sample_23.txt\n",
      "09072021_sample_24.txt\n",
      "09072021_sample_25.txt\n",
      "09072021_sample_26.txt\n",
      "09072021_sample_27.txt\n",
      "09072021_sample_28.txt\n",
      "09072021_sample_29.txt\n",
      "09072021_sample_30.txt\n",
      "09072021_sample_31.txt\n",
      "09072021_sample_32.txt\n",
      "09072021_sample_33.txt\n",
      "09072021_sample_34.txt\n",
      "09072021_sample_35.txt\n",
      "09072021_sample_36.txt\n",
      "09072021_sample_37.txt\n",
      "09072021_sample_38.txt\n",
      "09072021_sample_39.txt\n",
      "09072021_sample_40.txt\n",
      "09072021_sample_41.txt\n",
      "09072021_sample_42.txt\n",
      "09072021_sample_43.txt\n",
      "09072021_sample_44.txt\n",
      "09072021_sample_45.txt\n",
      "09072021_sample_46.txt\n",
      "09072021_sample_47.txt\n",
      "09072021_sample_48.txt\n",
      "09072021_sample_49.txt\n",
      "09072021_sample_50.txt\n",
      "09072021_sample_51.txt\n",
      "09072021_sample_52.txt\n",
      "09072021_sample_53.txt\n",
      "09072021_sample_54.txt\n",
      "09072021_sample_55.txt\n",
      "09072021_sample_56.txt\n",
      "09072021_sample_57.txt\n",
      "09072021_sample_58.txt\n",
      "09072021_sample_59.txt\n",
      "09072021_sample_60.txt\n",
      "09072021_sample_61.txt\n",
      "09072021_sample_62.txt\n",
      "09072021_sample_63.txt\n",
      "09072021_sample_64.txt\n",
      "09072021_sample_65.txt\n",
      "09072021_sample_66.txt\n",
      "09072021_sample_67.txt\n",
      "09072021_sample_68.txt\n",
      "09072021_sample_69.txt\n",
      "09072021_sample_70.txt\n",
      "09072021_sample_71.txt\n",
      "09072021_sample_72.txt\n",
      "09072021_sample_73.txt\n",
      "09072021_sample_74.txt\n",
      "09072021_sample_75.txt\n",
      "09072021_sample_76.txt\n",
      "09072021_sample_77.txt\n",
      "09072021_sample_78.txt\n",
      "09072021_sample_79.txt\n",
      "09072021_sample_80.txt\n",
      "09072021_sample_81.txt\n",
      "09072021_sample_82.txt\n",
      "09072021_sample_83.txt\n",
      "09072021_sample_84.txt\n",
      "09072021_sample_85.txt\n",
      "09072021_sample_86.txt\n",
      "09072021_sample_87.txt\n",
      "09072021_educt_88.txt\n",
      "09072021_educt_89.txt\n",
      "09072021_product_92.txt\n",
      "09072021_product_93.txt\n",
      "09072021_istd_96.txt\n",
      "09072021_gradient_97.txt\n",
      "09072021_cnsource_a_98.txt\n",
      "09072021_cnsource_d_99.txt\n"
     ]
    }
   ],
   "source": [
    "for folder in folders:\n",
    "    print(os.path.basename(folder))"
   ]
  },
  {
   "cell_type": "markdown",
   "id": "6565c466-5b8e-4184-859c-3584e6e02be7",
   "metadata": {},
   "source": [
    "### Campaign initialization"
   ]
  },
  {
   "cell_type": "code",
   "execution_count": 8,
   "id": "7a483960-60d8-434a-bb79-13e74b5117c2",
   "metadata": {},
   "outputs": [],
   "source": [
    "cyan_campaign = HplcDadCampaign()"
   ]
  },
  {
   "cell_type": "markdown",
   "id": "e5297ebc-aaa7-4ed8-ac2c-37728cc14328",
   "metadata": {},
   "source": [
    "We create a Gradient object as well as an InternalStandard object. The same gradient run was used for the baseline correction of all recorded chromatograms within this screening. The same amount of internal standard was added to all reaction runs as well as the calibration standards of the substrate and product."
   ]
  },
  {
   "cell_type": "code",
   "execution_count": 9,
   "id": "2527d2cb-25da-43d7-9f24-7a03dc5ec365",
   "metadata": {},
   "outputs": [],
   "source": [
    "gradient = Gradient(next(folder for folder in folders if \"gradient\" in folder))"
   ]
  },
  {
   "cell_type": "code",
   "execution_count": 10,
   "id": "ac449a8a-236b-4f53-8e2e-106f5bbe786f",
   "metadata": {},
   "outputs": [],
   "source": [
    "internal_standard = InternalStandard('tetralin', 0.06094)"
   ]
  },
  {
   "cell_type": "markdown",
   "id": "50e7d544-b812-48a5-8773-93d13c40aa02",
   "metadata": {
    "tags": []
   },
   "source": [
    "### User input for calibration runs"
   ]
  },
  {
   "cell_type": "markdown",
   "id": "0fd31d60-028d-49d9-bd2f-1f7df4134333",
   "metadata": {},
   "source": [
    "We manually enter the concentration values/molar amounts of the calibration standards."
   ]
  },
  {
   "cell_type": "code",
   "execution_count": 11,
   "id": "4510a788-cdff-4ca1-900e-b1f9acfae57d",
   "metadata": {},
   "outputs": [],
   "source": [
    "ArCl_concs = [0.0603, 0.04422]\n",
    "ArCN_concs = [0.05955, 0.04367]"
   ]
  },
  {
   "cell_type": "markdown",
   "id": "f804c50d-c3d5-4a02-a661-56444dea86e5",
   "metadata": {},
   "source": [
    "We create an HplcInput object for the internal standard run and add it to the campaign."
   ]
  },
  {
   "cell_type": "code",
   "execution_count": 12,
   "id": "35b0dc6b-2db0-4415-bf18-d0f00325a310",
   "metadata": {},
   "outputs": [],
   "source": [
    "istd_run = HplcInput(next(folder for folder in folders if \"istd\" in folder),\n",
    "                     gradient, compound=Compound('tetralin', is_istd=True))\n",
    "cyan_campaign.add_hplc_input(istd_run)"
   ]
  },
  {
   "cell_type": "markdown",
   "id": "b8d9fa45-de83-4100-bc56-08c11b53b9f0",
   "metadata": {},
   "source": [
    "We create HplcInput objects for each calibration run and add them to the campaign."
   ]
  },
  {
   "cell_type": "code",
   "execution_count": 13,
   "id": "46cdc570-7118-4a4b-ab15-c29b2cdf6871",
   "metadata": {},
   "outputs": [],
   "source": [
    "ArCl_folders = [folder for folder in folders if \"educt\" in folder]\n",
    "for i, folder in enumerate(ArCl_folders):\n",
    "    compound = Compound('2-chlorotoluene', ArCl_concs[i])\n",
    "    exp = HplcInput(folder, gradient, compound=compound, istd=internal_standard)\n",
    "    cyan_campaign.add_hplc_input(exp)\n",
    "\n",
    "ArCN_folders = [folder for folder in folders if \"product\" in folder]\n",
    "for i, folder in enumerate(ArCN_folders):\n",
    "    compound = Compound('o-tolunitrile', ArCN_concs[i])\n",
    "    exp = HplcInput(folder, gradient, compound=compound, istd=internal_standard)\n",
    "    cyan_campaign.add_hplc_input(exp)\n",
    "\n",
    "cn_source_a_folder = next(folder for folder in folders if \"cnsource_a\" in folder)\n",
    "compound = Compound('protected_cyanohydrin_9a')\n",
    "exp = HplcInput(cn_source_a_folder, gradient, compound=compound, istd=internal_standard)\n",
    "cyan_campaign.add_hplc_input(exp)\n",
    "\n",
    "cn_source_d_folder = next(folder for folder in folders if \"cnsource_d\" in folder)\n",
    "compound = Compound('protected_cyanohydrin_9d')\n",
    "exp = HplcInput(cn_source_d_folder, gradient, compound=compound, istd=internal_standard)\n",
    "cyan_campaign.add_hplc_input(exp)"
   ]
  },
  {
   "cell_type": "markdown",
   "id": "68b9b038-7401-4e8d-8e46-252d1586c6a8",
   "metadata": {},
   "source": [
    "### User input for reaction runs\n",
    "We create HplcInput objects for each reaction run and add them to the campaign."
   ]
  },
  {
   "cell_type": "code",
   "execution_count": 14,
   "id": "b9116a48-8575-435f-8d1c-6db568c059c0",
   "metadata": {},
   "outputs": [],
   "source": [
    "for folder in [folder for folder in folders if \"sample\" in folder]:\n",
    "    exp = HplcInput(folder, gradient, istd=internal_standard)\n",
    "    cyan_campaign.add_hplc_input(exp)"
   ]
  },
  {
   "cell_type": "markdown",
   "id": "87a70e0f-4b65-4f64-a2b2-051f1ae58247",
   "metadata": {},
   "source": [
    "### Settings for data processing"
   ]
  },
  {
   "cell_type": "code",
   "execution_count": 15,
   "id": "d3e8aea8-f5c8-45e4-bb75-e3d19d50befc",
   "metadata": {},
   "outputs": [],
   "source": [
    "settings = Settings('labsolutions',\n",
    "                    absorbance_threshold = 500, wl_high_pass = 215, \n",
    "                    peaks_high_pass = 1, peaks_low_pass = 5,\n",
    "                    spectrum_correl_thresh=0.99, relative_distance_thresh=0.0025)"
   ]
  },
  {
   "cell_type": "markdown",
   "id": "926a0b31-e525-4574-8cea-38e39ca6b203",
   "metadata": {},
   "source": [
    "### Data processing"
   ]
  },
  {
   "cell_type": "code",
   "execution_count": 16,
   "id": "a7e53c99-166e-4fa6-a5ff-700216a1729c",
   "metadata": {
    "tags": []
   },
   "outputs": [
    {
     "name": "stdout",
     "output_type": "stream",
     "text": [
      "CPU times: total: 1h 9min\n",
      "Wall time: 19min 48s\n"
     ]
    }
   ],
   "source": [
    "%%time\n",
    "cyan_campaign.process_all_hplc_input(settings)"
   ]
  },
  {
   "cell_type": "markdown",
   "id": "7f375f0e-039e-41e2-892e-a8d5795fcf42",
   "metadata": {},
   "source": [
    "Save campaign as .pkl-file"
   ]
  },
  {
   "cell_type": "code",
   "execution_count": 17,
   "id": "8737f2c6-ff9b-4531-a009-681ec32a5293",
   "metadata": {},
   "outputs": [],
   "source": [
    "#the campaign is saved within the notebook folder or alternatively to a given path\n",
    "cyan_campaign.save_campaign('cyan_campaign.pkl', remove_raw_data=False)"
   ]
  },
  {
   "cell_type": "markdown",
   "id": "dcabb20c-8b90-4bd9-bb04-6e809b9b7047",
   "metadata": {},
   "source": [
    "Load campaign from .pkl-file"
   ]
  },
  {
   "cell_type": "code",
   "execution_count": 14,
   "id": "036c7304-4108-40b7-bacc-bb5e381340fe",
   "metadata": {},
   "outputs": [],
   "source": [
    "cyan_campaign.load_campaign('cyan_campaign.pkl')"
   ]
  },
  {
   "cell_type": "markdown",
   "id": "876d7ceb-7e66-4050-9569-ff4c97f25e40",
   "metadata": {
    "tags": []
   },
   "source": [
    "### Reporting"
   ]
  },
  {
   "cell_type": "code",
   "execution_count": 18,
   "id": "edb947f0-278c-40ee-8347-b1efd5d9c35a",
   "metadata": {},
   "outputs": [],
   "source": [
    "#directory at which reports are saved\n",
    "cyan_report_path = os.path.join(ipynb_path, \"cyanation reports\")"
   ]
  },
  {
   "cell_type": "code",
   "execution_count": 20,
   "id": "fa083a7f-efa0-4fcb-b896-b44b669e5c1c",
   "metadata": {
    "collapsed": true,
    "jupyter": {
     "outputs_hidden": true
    },
    "tags": []
   },
   "outputs": [
    {
     "data": {
      "text/markdown": [
       "Report saved to ./C:\\Users\\GMJAZ\\OneDrive - Bayer\\Personal Data\\GitHub\\mocca\\notebooks\\cyanation reports\\hplc_input.html. To upload and share your report, create a free Datapane account by running `!datapane signup`."
      ],
      "text/plain": [
       "<IPython.core.display.Markdown object>"
      ]
     },
     "metadata": {},
     "output_type": "display_data"
    },
    {
     "data": {
      "text/markdown": [
       "Report saved to ./C:\\Users\\GMJAZ\\OneDrive - Bayer\\Personal Data\\GitHub\\mocca\\notebooks\\cyanation reports\\gradient.html. To upload and share your report, create a free Datapane account by running `!datapane signup`."
      ],
      "text/plain": [
       "<IPython.core.display.Markdown object>"
      ]
     },
     "metadata": {},
     "output_type": "display_data"
    },
    {
     "data": {
      "text/markdown": [
       "Report saved to ./C:\\Users\\GMJAZ\\OneDrive - Bayer\\Personal Data\\GitHub\\mocca\\notebooks\\cyanation reports\\peak_library.html. To upload and share your report, create a free Datapane account by running `!datapane signup`."
      ],
      "text/plain": [
       "<IPython.core.display.Markdown object>"
      ]
     },
     "metadata": {},
     "output_type": "display_data"
    },
    {
     "name": "stderr",
     "output_type": "stream",
     "text": [
      "error uploading: HTTPSConnectionPool(host='events.datapane.com', port=443): Max retries exceeded with url: /batch/ (Caused by NewConnectionError('<urllib3.connection.HTTPSConnection object at 0x000001CF04F16650>: Failed to establish a new connection: [Errno 11001] getaddrinfo failed'))\n",
      "error uploading: HTTPSConnectionPool(host='events.datapane.com', port=443): Max retries exceeded with url: /batch/ (Caused by NewConnectionError('<urllib3.connection.HTTPSConnection object at 0x000001CF05200C40>: Failed to establish a new connection: [Errno 11001] getaddrinfo failed'))\n"
     ]
    },
    {
     "data": {
      "text/markdown": [
       "Report saved to ./C:\\Users\\GMJAZ\\OneDrive - Bayer\\Personal Data\\GitHub\\mocca\\notebooks\\cyanation reports\\chromatograms.html. To upload and share your report, create a free Datapane account by running `!datapane signup`."
      ],
      "text/plain": [
       "<IPython.core.display.Markdown object>"
      ]
     },
     "metadata": {},
     "output_type": "display_data"
    },
    {
     "name": "stdout",
     "output_type": "stream",
     "text": [
      "No chromatograms given or all chromatograms are good data!\n"
     ]
    },
    {
     "name": "stderr",
     "output_type": "stream",
     "text": [
      "error uploading: HTTPSConnectionPool(host='events.datapane.com', port=443): Max retries exceeded with url: /batch/ (Caused by NewConnectionError('<urllib3.connection.HTTPSConnection object at 0x000001CF044D65F0>: Failed to establish a new connection: [Errno 11001] getaddrinfo failed'))\n"
     ]
    },
    {
     "data": {
      "text/markdown": [
       "Report saved to ./C:\\Users\\GMJAZ\\OneDrive - Bayer\\Personal Data\\GitHub\\mocca\\notebooks\\cyanation reports\\compound_tracking.html. To upload and share your report, create a free Datapane account by running `!datapane signup`."
      ],
      "text/plain": [
       "<IPython.core.display.Markdown object>"
      ]
     },
     "metadata": {},
     "output_type": "display_data"
    },
    {
     "name": "stderr",
     "output_type": "stream",
     "text": [
      "error uploading: HTTPSConnectionPool(host='events.datapane.com', port=443): Max retries exceeded with url: /batch/ (Caused by NewConnectionError('<urllib3.connection.HTTPSConnection object at 0x000001CF06758EE0>: Failed to establish a new connection: [Errno 11001] getaddrinfo failed'))\n"
     ]
    },
    {
     "data": {
      "text/markdown": [
       "Report saved to ./C:\\Users\\GMJAZ\\OneDrive - Bayer\\Personal Data\\GitHub\\mocca\\notebooks\\cyanation reports\\deconvolution.html. To upload and share your report, create a free Datapane account by running `!datapane signup`."
      ],
      "text/plain": [
       "<IPython.core.display.Markdown object>"
      ]
     },
     "metadata": {},
     "output_type": "display_data"
    },
    {
     "name": "stderr",
     "output_type": "stream",
     "text": [
      "error uploading: HTTPSConnectionPool(host='events.datapane.com', port=443): Max retries exceeded with url: /batch/ (Caused by NewConnectionError('<urllib3.connection.HTTPSConnection object at 0x000001CF071B4FD0>: Failed to establish a new connection: [Errno 11001] getaddrinfo failed'))\n"
     ]
    },
    {
     "data": {
      "text/markdown": [
       "Report saved to ./C:\\Users\\GMJAZ\\OneDrive - Bayer\\Personal Data\\GitHub\\mocca\\notebooks\\cyanation reports\\compound_library.html. To upload and share your report, create a free Datapane account by running `!datapane signup`."
      ],
      "text/plain": [
       "<IPython.core.display.Markdown object>"
      ]
     },
     "metadata": {},
     "output_type": "display_data"
    },
    {
     "data": {
      "text/markdown": [
       "Report saved to ./C:\\Users\\GMJAZ\\OneDrive - Bayer\\Personal Data\\GitHub\\mocca\\notebooks\\cyanation reports\\calibration_library.html. To upload and share your report, create a free Datapane account by running `!datapane signup`."
      ],
      "text/plain": [
       "<IPython.core.display.Markdown object>"
      ]
     },
     "metadata": {},
     "output_type": "display_data"
    },
    {
     "name": "stderr",
     "output_type": "stream",
     "text": [
      "error uploading: HTTPSConnectionPool(host='events.datapane.com', port=443): Max retries exceeded with url: /batch/ (Caused by NewConnectionError('<urllib3.connection.HTTPSConnection object at 0x000001CF0458E6E0>: Failed to establish a new connection: [Errno 11001] getaddrinfo failed'))\n",
      "error uploading: HTTPSConnectionPool(host='events.datapane.com', port=443): Max retries exceeded with url: /batch/ (Caused by NewConnectionError('<urllib3.connection.HTTPSConnection object at 0x000001CF04588070>: Failed to establish a new connection: [Errno 11001] getaddrinfo failed'))\n"
     ]
    }
   ],
   "source": [
    "report(cyan_campaign, cyan_report_path)"
   ]
  },
  {
   "cell_type": "markdown",
   "id": "736881b0-4eb3-498b-963f-5ad938408879",
   "metadata": {},
   "source": [
    "### Customized data analysis\n",
    "\n",
    "This data analysis tool cannot include all possible data analysis needs of potential users. Therefore, we expect the user to do customized data analysis independently of the tool's reporting function.\n",
    "\n",
    "As an example, we show how the yields and conversions obtained by screening in a 96-well plate can be extracted from the MOCCA campaign and visualized. Additionally, the relative intensity of a side product, labelled as unknown_3, is calculated and visualized. Note that only 84 wells were used for reaction runs and the others for calibration purposes."
   ]
  },
  {
   "cell_type": "code",
   "execution_count": 21,
   "id": "c03317a8-b6c8-4c1b-8da7-ad7bad406a9e",
   "metadata": {},
   "outputs": [],
   "source": [
    "import pandas as pd\n",
    "import altair as alt"
   ]
  },
  {
   "cell_type": "markdown",
   "id": "df464ed7-1915-4052-9f64-02fe4ed42e91",
   "metadata": {},
   "source": [
    "We extract the results out of the campaign object and create a dataframe that contains all relevant information."
   ]
  },
  {
   "cell_type": "code",
   "execution_count": 22,
   "id": "f6374075-cd86-4289-9397-8b0e860f01ed",
   "metadata": {},
   "outputs": [],
   "source": [
    "c0 = 0.06 #c0 refers to the molar amount of substrate that was used\n",
    "results = {\n",
    "    '2-chlorotoluene': [],\n",
    "    'o-tolunitrile': [],\n",
    "    'tetralin': [],\n",
    "    'column': [],\n",
    "    'row': [],\n",
    "    'path': [],\n",
    "    'conversion': [],\n",
    "    'yield': [],\n",
    "    'unknown_3': [],\n",
    "    'unknown_3_rel_area': []\n",
    "}\n",
    "for i, chrom in enumerate(cyan_campaign.chroms):\n",
    "    if not chrom.experiment.compound:\n",
    "        results['2-chlorotoluene'].append(0)\n",
    "        results['o-tolunitrile'].append(0)\n",
    "        results['tetralin'].append(0)\n",
    "        results['conversion'].append(1)\n",
    "        results['yield'].append(0)\n",
    "        results['unknown_3'].append(0)\n",
    "        results['unknown_3_rel_area'].append(0)\n",
    "        results['path'].append(chrom.experiment.path)\n",
    "        for peak in chrom.peaks:\n",
    "            if peak.compound_id == '2-chlorotoluene':\n",
    "                results['2-chlorotoluene'][-1] = peak.concentration\n",
    "                results['conversion'][-1] = (c0 - peak.concentration) / c0\n",
    "            if peak.compound_id == 'o-tolunitrile':\n",
    "                results['o-tolunitrile'][-1] = peak.concentration\n",
    "                results['yield'][-1] = peak.concentration / c0\n",
    "            if peak.compound_id == 'tetralin':\n",
    "                results['tetralin'][-1] = peak.integral\n",
    "            if peak.compound_id == 'unknown_3':\n",
    "                results['unknown_3'][-1] = peak.integral"
   ]
  },
  {
   "cell_type": "code",
   "execution_count": 23,
   "id": "52219090-5122-42e2-82a8-748a9b10452a",
   "metadata": {},
   "outputs": [],
   "source": [
    "#add row and column indices\n",
    "for path in results['path']:\n",
    "    num = int(path.split('_')[-1][:-4]) - 4\n",
    "    results['row'].append(str(num // 12 + 1))\n",
    "    results['column'].append(str(num - (num // 12 * 12) + 1))"
   ]
  },
  {
   "cell_type": "code",
   "execution_count": 24,
   "id": "0507acec-7017-4e92-8c0e-e97bf8cbaa77",
   "metadata": {},
   "outputs": [
    {
     "data": {
      "text/html": [
       "<div>\n",
       "<style scoped>\n",
       "    .dataframe tbody tr th:only-of-type {\n",
       "        vertical-align: middle;\n",
       "    }\n",
       "\n",
       "    .dataframe tbody tr th {\n",
       "        vertical-align: top;\n",
       "    }\n",
       "\n",
       "    .dataframe thead th {\n",
       "        text-align: right;\n",
       "    }\n",
       "</style>\n",
       "<table border=\"1\" class=\"dataframe\">\n",
       "  <thead>\n",
       "    <tr style=\"text-align: right;\">\n",
       "      <th></th>\n",
       "      <th>2-chlorotoluene</th>\n",
       "      <th>o-tolunitrile</th>\n",
       "      <th>tetralin</th>\n",
       "      <th>column</th>\n",
       "      <th>row</th>\n",
       "      <th>path</th>\n",
       "      <th>conversion</th>\n",
       "      <th>yield</th>\n",
       "      <th>unknown_3</th>\n",
       "      <th>unknown_3_rel_area</th>\n",
       "    </tr>\n",
       "  </thead>\n",
       "  <tbody>\n",
       "    <tr>\n",
       "      <th>0</th>\n",
       "      <td>0.031222</td>\n",
       "      <td>0.026152</td>\n",
       "      <td>72908.483002</td>\n",
       "      <td>1</td>\n",
       "      <td>1</td>\n",
       "      <td>C:\\Users\\GMJAZ\\OneDrive - Bayer\\Personal Data\\...</td>\n",
       "      <td>0.479633</td>\n",
       "      <td>0.435863</td>\n",
       "      <td>339527.424758</td>\n",
       "      <td>4.656899</td>\n",
       "    </tr>\n",
       "    <tr>\n",
       "      <th>1</th>\n",
       "      <td>0.053005</td>\n",
       "      <td>0.003441</td>\n",
       "      <td>69100.487023</td>\n",
       "      <td>2</td>\n",
       "      <td>1</td>\n",
       "      <td>C:\\Users\\GMJAZ\\OneDrive - Bayer\\Personal Data\\...</td>\n",
       "      <td>0.116577</td>\n",
       "      <td>0.057352</td>\n",
       "      <td>301732.937144</td>\n",
       "      <td>4.366582</td>\n",
       "    </tr>\n",
       "    <tr>\n",
       "      <th>2</th>\n",
       "      <td>0.056189</td>\n",
       "      <td>0.000000</td>\n",
       "      <td>66686.723268</td>\n",
       "      <td>3</td>\n",
       "      <td>1</td>\n",
       "      <td>C:\\Users\\GMJAZ\\OneDrive - Bayer\\Personal Data\\...</td>\n",
       "      <td>0.063519</td>\n",
       "      <td>0.000000</td>\n",
       "      <td>288470.985884</td>\n",
       "      <td>4.325763</td>\n",
       "    </tr>\n",
       "    <tr>\n",
       "      <th>3</th>\n",
       "      <td>0.000000</td>\n",
       "      <td>0.040743</td>\n",
       "      <td>72699.519576</td>\n",
       "      <td>4</td>\n",
       "      <td>1</td>\n",
       "      <td>C:\\Users\\GMJAZ\\OneDrive - Bayer\\Personal Data\\...</td>\n",
       "      <td>1.000000</td>\n",
       "      <td>0.679048</td>\n",
       "      <td>279534.968465</td>\n",
       "      <td>3.845073</td>\n",
       "    </tr>\n",
       "    <tr>\n",
       "      <th>4</th>\n",
       "      <td>0.000000</td>\n",
       "      <td>0.029075</td>\n",
       "      <td>66779.207989</td>\n",
       "      <td>5</td>\n",
       "      <td>1</td>\n",
       "      <td>C:\\Users\\GMJAZ\\OneDrive - Bayer\\Personal Data\\...</td>\n",
       "      <td>1.000000</td>\n",
       "      <td>0.484581</td>\n",
       "      <td>246759.246137</td>\n",
       "      <td>3.695151</td>\n",
       "    </tr>\n",
       "    <tr>\n",
       "      <th>...</th>\n",
       "      <td>...</td>\n",
       "      <td>...</td>\n",
       "      <td>...</td>\n",
       "      <td>...</td>\n",
       "      <td>...</td>\n",
       "      <td>...</td>\n",
       "      <td>...</td>\n",
       "      <td>...</td>\n",
       "      <td>...</td>\n",
       "      <td>...</td>\n",
       "    </tr>\n",
       "    <tr>\n",
       "      <th>79</th>\n",
       "      <td>0.059307</td>\n",
       "      <td>0.000000</td>\n",
       "      <td>68115.138326</td>\n",
       "      <td>8</td>\n",
       "      <td>7</td>\n",
       "      <td>C:\\Users\\GMJAZ\\OneDrive - Bayer\\Personal Data\\...</td>\n",
       "      <td>0.011549</td>\n",
       "      <td>0.000000</td>\n",
       "      <td>0.000000</td>\n",
       "      <td>0.000000</td>\n",
       "    </tr>\n",
       "    <tr>\n",
       "      <th>80</th>\n",
       "      <td>0.059044</td>\n",
       "      <td>0.000000</td>\n",
       "      <td>77373.684722</td>\n",
       "      <td>9</td>\n",
       "      <td>7</td>\n",
       "      <td>C:\\Users\\GMJAZ\\OneDrive - Bayer\\Personal Data\\...</td>\n",
       "      <td>0.015931</td>\n",
       "      <td>0.000000</td>\n",
       "      <td>0.000000</td>\n",
       "      <td>0.000000</td>\n",
       "    </tr>\n",
       "    <tr>\n",
       "      <th>81</th>\n",
       "      <td>0.044453</td>\n",
       "      <td>0.000000</td>\n",
       "      <td>162296.594456</td>\n",
       "      <td>10</td>\n",
       "      <td>7</td>\n",
       "      <td>C:\\Users\\GMJAZ\\OneDrive - Bayer\\Personal Data\\...</td>\n",
       "      <td>0.259115</td>\n",
       "      <td>0.000000</td>\n",
       "      <td>0.000000</td>\n",
       "      <td>0.000000</td>\n",
       "    </tr>\n",
       "    <tr>\n",
       "      <th>82</th>\n",
       "      <td>0.052634</td>\n",
       "      <td>0.000000</td>\n",
       "      <td>64807.098116</td>\n",
       "      <td>11</td>\n",
       "      <td>7</td>\n",
       "      <td>C:\\Users\\GMJAZ\\OneDrive - Bayer\\Personal Data\\...</td>\n",
       "      <td>0.122758</td>\n",
       "      <td>0.000000</td>\n",
       "      <td>0.000000</td>\n",
       "      <td>0.000000</td>\n",
       "    </tr>\n",
       "    <tr>\n",
       "      <th>83</th>\n",
       "      <td>0.058386</td>\n",
       "      <td>0.000000</td>\n",
       "      <td>75707.960403</td>\n",
       "      <td>12</td>\n",
       "      <td>7</td>\n",
       "      <td>C:\\Users\\GMJAZ\\OneDrive - Bayer\\Personal Data\\...</td>\n",
       "      <td>0.026896</td>\n",
       "      <td>0.000000</td>\n",
       "      <td>0.000000</td>\n",
       "      <td>0.000000</td>\n",
       "    </tr>\n",
       "  </tbody>\n",
       "</table>\n",
       "<p>84 rows × 10 columns</p>\n",
       "</div>"
      ],
      "text/plain": [
       "    2-chlorotoluene  o-tolunitrile       tetralin column row  \\\n",
       "0          0.031222       0.026152   72908.483002      1   1   \n",
       "1          0.053005       0.003441   69100.487023      2   1   \n",
       "2          0.056189       0.000000   66686.723268      3   1   \n",
       "3          0.000000       0.040743   72699.519576      4   1   \n",
       "4          0.000000       0.029075   66779.207989      5   1   \n",
       "..              ...            ...            ...    ...  ..   \n",
       "79         0.059307       0.000000   68115.138326      8   7   \n",
       "80         0.059044       0.000000   77373.684722      9   7   \n",
       "81         0.044453       0.000000  162296.594456     10   7   \n",
       "82         0.052634       0.000000   64807.098116     11   7   \n",
       "83         0.058386       0.000000   75707.960403     12   7   \n",
       "\n",
       "                                                 path  conversion     yield  \\\n",
       "0   C:\\Users\\GMJAZ\\OneDrive - Bayer\\Personal Data\\...    0.479633  0.435863   \n",
       "1   C:\\Users\\GMJAZ\\OneDrive - Bayer\\Personal Data\\...    0.116577  0.057352   \n",
       "2   C:\\Users\\GMJAZ\\OneDrive - Bayer\\Personal Data\\...    0.063519  0.000000   \n",
       "3   C:\\Users\\GMJAZ\\OneDrive - Bayer\\Personal Data\\...    1.000000  0.679048   \n",
       "4   C:\\Users\\GMJAZ\\OneDrive - Bayer\\Personal Data\\...    1.000000  0.484581   \n",
       "..                                                ...         ...       ...   \n",
       "79  C:\\Users\\GMJAZ\\OneDrive - Bayer\\Personal Data\\...    0.011549  0.000000   \n",
       "80  C:\\Users\\GMJAZ\\OneDrive - Bayer\\Personal Data\\...    0.015931  0.000000   \n",
       "81  C:\\Users\\GMJAZ\\OneDrive - Bayer\\Personal Data\\...    0.259115  0.000000   \n",
       "82  C:\\Users\\GMJAZ\\OneDrive - Bayer\\Personal Data\\...    0.122758  0.000000   \n",
       "83  C:\\Users\\GMJAZ\\OneDrive - Bayer\\Personal Data\\...    0.026896  0.000000   \n",
       "\n",
       "        unknown_3  unknown_3_rel_area  \n",
       "0   339527.424758            4.656899  \n",
       "1   301732.937144            4.366582  \n",
       "2   288470.985884            4.325763  \n",
       "3   279534.968465            3.845073  \n",
       "4   246759.246137            3.695151  \n",
       "..            ...                 ...  \n",
       "79       0.000000            0.000000  \n",
       "80       0.000000            0.000000  \n",
       "81       0.000000            0.000000  \n",
       "82       0.000000            0.000000  \n",
       "83       0.000000            0.000000  \n",
       "\n",
       "[84 rows x 10 columns]"
      ]
     },
     "execution_count": 24,
     "metadata": {},
     "output_type": "execute_result"
    }
   ],
   "source": [
    "#convert dictionary into pandas dataframe\n",
    "results_df = pd.DataFrame(results)\n",
    "row_order = [str(val) for val in list(range(1, 13))]\n",
    "results_df['unknown_3_rel_area'] = results_df['unknown_3'] / results_df['tetralin']\n",
    "results_df\n",
    "\n"
   ]
  },
  {
   "cell_type": "markdown",
   "id": "226988f4-f5f3-42de-be5f-13b2206110d5",
   "metadata": {},
   "source": [
    "We add the type of protected cyanohydrin and choice of base and ligand to the result table."
   ]
  },
  {
   "cell_type": "code",
   "execution_count": 25,
   "id": "b0deb8bd-2f1e-4e87-acb6-f2a26185427f",
   "metadata": {},
   "outputs": [],
   "source": [
    "protected_cyanohydrins = ['9a', '9b', '9c', '9d', '9e', '9f', '9g']\n",
    "base_ligand_combinations = ['DBU/XPhos', 'DBU/'+ 'tBuXPhos', 'DBU/CM-Phos', 'TMG/XPhos', 'TMG/tBuXPhos', 'TMG/CM-Phos', 'DMAP/XPhos', 'DMAP/tBuXPhos', 'DMAP/CM-Phos', 'DIPEA/XPhos', 'DIPEA/tBuXPhos', 'DIPEA/CM-Phos']\n",
    "\n"
   ]
  },
  {
   "cell_type": "code",
   "execution_count": 27,
   "id": "18f10f89-7f32-465d-96b9-22cc4d43d839",
   "metadata": {},
   "outputs": [
    {
     "data": {
      "text/html": [
       "<div>\n",
       "<style scoped>\n",
       "    .dataframe tbody tr th:only-of-type {\n",
       "        vertical-align: middle;\n",
       "    }\n",
       "\n",
       "    .dataframe tbody tr th {\n",
       "        vertical-align: top;\n",
       "    }\n",
       "\n",
       "    .dataframe thead th {\n",
       "        text-align: right;\n",
       "    }\n",
       "</style>\n",
       "<table border=\"1\" class=\"dataframe\">\n",
       "  <thead>\n",
       "    <tr style=\"text-align: right;\">\n",
       "      <th></th>\n",
       "      <th>2-chlorotoluene</th>\n",
       "      <th>o-tolunitrile</th>\n",
       "      <th>tetralin</th>\n",
       "      <th>column</th>\n",
       "      <th>row</th>\n",
       "      <th>path</th>\n",
       "      <th>conversion</th>\n",
       "      <th>yield</th>\n",
       "      <th>unknown_3</th>\n",
       "      <th>unknown_3_rel_area</th>\n",
       "      <th>protected_cyanohydrin</th>\n",
       "      <th>B/L</th>\n",
       "    </tr>\n",
       "  </thead>\n",
       "  <tbody>\n",
       "    <tr>\n",
       "      <th>0</th>\n",
       "      <td>0.031222</td>\n",
       "      <td>0.026152</td>\n",
       "      <td>72908.483002</td>\n",
       "      <td>1</td>\n",
       "      <td>1</td>\n",
       "      <td>C:\\Users\\GMJAZ\\OneDrive - Bayer\\Personal Data\\...</td>\n",
       "      <td>0.479633</td>\n",
       "      <td>0.435863</td>\n",
       "      <td>339527.424758</td>\n",
       "      <td>4.656899</td>\n",
       "      <td>9a</td>\n",
       "      <td>DBU/XPhos</td>\n",
       "    </tr>\n",
       "    <tr>\n",
       "      <th>1</th>\n",
       "      <td>0.053005</td>\n",
       "      <td>0.003441</td>\n",
       "      <td>69100.487023</td>\n",
       "      <td>2</td>\n",
       "      <td>1</td>\n",
       "      <td>C:\\Users\\GMJAZ\\OneDrive - Bayer\\Personal Data\\...</td>\n",
       "      <td>0.116577</td>\n",
       "      <td>0.057352</td>\n",
       "      <td>301732.937144</td>\n",
       "      <td>4.366582</td>\n",
       "      <td>9a</td>\n",
       "      <td>DBU/tBuXPhos</td>\n",
       "    </tr>\n",
       "    <tr>\n",
       "      <th>2</th>\n",
       "      <td>0.056189</td>\n",
       "      <td>0.000000</td>\n",
       "      <td>66686.723268</td>\n",
       "      <td>3</td>\n",
       "      <td>1</td>\n",
       "      <td>C:\\Users\\GMJAZ\\OneDrive - Bayer\\Personal Data\\...</td>\n",
       "      <td>0.063519</td>\n",
       "      <td>0.000000</td>\n",
       "      <td>288470.985884</td>\n",
       "      <td>4.325763</td>\n",
       "      <td>9a</td>\n",
       "      <td>DBU/CM-Phos</td>\n",
       "    </tr>\n",
       "    <tr>\n",
       "      <th>3</th>\n",
       "      <td>0.000000</td>\n",
       "      <td>0.040743</td>\n",
       "      <td>72699.519576</td>\n",
       "      <td>4</td>\n",
       "      <td>1</td>\n",
       "      <td>C:\\Users\\GMJAZ\\OneDrive - Bayer\\Personal Data\\...</td>\n",
       "      <td>1.000000</td>\n",
       "      <td>0.679048</td>\n",
       "      <td>279534.968465</td>\n",
       "      <td>3.845073</td>\n",
       "      <td>9a</td>\n",
       "      <td>TMG/XPhos</td>\n",
       "    </tr>\n",
       "    <tr>\n",
       "      <th>4</th>\n",
       "      <td>0.000000</td>\n",
       "      <td>0.029075</td>\n",
       "      <td>66779.207989</td>\n",
       "      <td>5</td>\n",
       "      <td>1</td>\n",
       "      <td>C:\\Users\\GMJAZ\\OneDrive - Bayer\\Personal Data\\...</td>\n",
       "      <td>1.000000</td>\n",
       "      <td>0.484581</td>\n",
       "      <td>246759.246137</td>\n",
       "      <td>3.695151</td>\n",
       "      <td>9a</td>\n",
       "      <td>TMG/tBuXPhos</td>\n",
       "    </tr>\n",
       "    <tr>\n",
       "      <th>...</th>\n",
       "      <td>...</td>\n",
       "      <td>...</td>\n",
       "      <td>...</td>\n",
       "      <td>...</td>\n",
       "      <td>...</td>\n",
       "      <td>...</td>\n",
       "      <td>...</td>\n",
       "      <td>...</td>\n",
       "      <td>...</td>\n",
       "      <td>...</td>\n",
       "      <td>...</td>\n",
       "      <td>...</td>\n",
       "    </tr>\n",
       "    <tr>\n",
       "      <th>79</th>\n",
       "      <td>0.059307</td>\n",
       "      <td>0.000000</td>\n",
       "      <td>68115.138326</td>\n",
       "      <td>8</td>\n",
       "      <td>7</td>\n",
       "      <td>C:\\Users\\GMJAZ\\OneDrive - Bayer\\Personal Data\\...</td>\n",
       "      <td>0.011549</td>\n",
       "      <td>0.000000</td>\n",
       "      <td>0.000000</td>\n",
       "      <td>0.000000</td>\n",
       "      <td>9g</td>\n",
       "      <td>DMAP/tBuXPhos</td>\n",
       "    </tr>\n",
       "    <tr>\n",
       "      <th>80</th>\n",
       "      <td>0.059044</td>\n",
       "      <td>0.000000</td>\n",
       "      <td>77373.684722</td>\n",
       "      <td>9</td>\n",
       "      <td>7</td>\n",
       "      <td>C:\\Users\\GMJAZ\\OneDrive - Bayer\\Personal Data\\...</td>\n",
       "      <td>0.015931</td>\n",
       "      <td>0.000000</td>\n",
       "      <td>0.000000</td>\n",
       "      <td>0.000000</td>\n",
       "      <td>9g</td>\n",
       "      <td>DMAP/CM-Phos</td>\n",
       "    </tr>\n",
       "    <tr>\n",
       "      <th>81</th>\n",
       "      <td>0.044453</td>\n",
       "      <td>0.000000</td>\n",
       "      <td>162296.594456</td>\n",
       "      <td>10</td>\n",
       "      <td>7</td>\n",
       "      <td>C:\\Users\\GMJAZ\\OneDrive - Bayer\\Personal Data\\...</td>\n",
       "      <td>0.259115</td>\n",
       "      <td>0.000000</td>\n",
       "      <td>0.000000</td>\n",
       "      <td>0.000000</td>\n",
       "      <td>9g</td>\n",
       "      <td>DIPEA/XPhos</td>\n",
       "    </tr>\n",
       "    <tr>\n",
       "      <th>82</th>\n",
       "      <td>0.052634</td>\n",
       "      <td>0.000000</td>\n",
       "      <td>64807.098116</td>\n",
       "      <td>11</td>\n",
       "      <td>7</td>\n",
       "      <td>C:\\Users\\GMJAZ\\OneDrive - Bayer\\Personal Data\\...</td>\n",
       "      <td>0.122758</td>\n",
       "      <td>0.000000</td>\n",
       "      <td>0.000000</td>\n",
       "      <td>0.000000</td>\n",
       "      <td>9g</td>\n",
       "      <td>DIPEA/tBuXPhos</td>\n",
       "    </tr>\n",
       "    <tr>\n",
       "      <th>83</th>\n",
       "      <td>0.058386</td>\n",
       "      <td>0.000000</td>\n",
       "      <td>75707.960403</td>\n",
       "      <td>12</td>\n",
       "      <td>7</td>\n",
       "      <td>C:\\Users\\GMJAZ\\OneDrive - Bayer\\Personal Data\\...</td>\n",
       "      <td>0.026896</td>\n",
       "      <td>0.000000</td>\n",
       "      <td>0.000000</td>\n",
       "      <td>0.000000</td>\n",
       "      <td>9g</td>\n",
       "      <td>DIPEA/CM-Phos</td>\n",
       "    </tr>\n",
       "  </tbody>\n",
       "</table>\n",
       "<p>84 rows × 12 columns</p>\n",
       "</div>"
      ],
      "text/plain": [
       "    2-chlorotoluene  o-tolunitrile       tetralin column row  \\\n",
       "0          0.031222       0.026152   72908.483002      1   1   \n",
       "1          0.053005       0.003441   69100.487023      2   1   \n",
       "2          0.056189       0.000000   66686.723268      3   1   \n",
       "3          0.000000       0.040743   72699.519576      4   1   \n",
       "4          0.000000       0.029075   66779.207989      5   1   \n",
       "..              ...            ...            ...    ...  ..   \n",
       "79         0.059307       0.000000   68115.138326      8   7   \n",
       "80         0.059044       0.000000   77373.684722      9   7   \n",
       "81         0.044453       0.000000  162296.594456     10   7   \n",
       "82         0.052634       0.000000   64807.098116     11   7   \n",
       "83         0.058386       0.000000   75707.960403     12   7   \n",
       "\n",
       "                                                 path  conversion     yield  \\\n",
       "0   C:\\Users\\GMJAZ\\OneDrive - Bayer\\Personal Data\\...    0.479633  0.435863   \n",
       "1   C:\\Users\\GMJAZ\\OneDrive - Bayer\\Personal Data\\...    0.116577  0.057352   \n",
       "2   C:\\Users\\GMJAZ\\OneDrive - Bayer\\Personal Data\\...    0.063519  0.000000   \n",
       "3   C:\\Users\\GMJAZ\\OneDrive - Bayer\\Personal Data\\...    1.000000  0.679048   \n",
       "4   C:\\Users\\GMJAZ\\OneDrive - Bayer\\Personal Data\\...    1.000000  0.484581   \n",
       "..                                                ...         ...       ...   \n",
       "79  C:\\Users\\GMJAZ\\OneDrive - Bayer\\Personal Data\\...    0.011549  0.000000   \n",
       "80  C:\\Users\\GMJAZ\\OneDrive - Bayer\\Personal Data\\...    0.015931  0.000000   \n",
       "81  C:\\Users\\GMJAZ\\OneDrive - Bayer\\Personal Data\\...    0.259115  0.000000   \n",
       "82  C:\\Users\\GMJAZ\\OneDrive - Bayer\\Personal Data\\...    0.122758  0.000000   \n",
       "83  C:\\Users\\GMJAZ\\OneDrive - Bayer\\Personal Data\\...    0.026896  0.000000   \n",
       "\n",
       "        unknown_3  unknown_3_rel_area protected_cyanohydrin             B/L  \n",
       "0   339527.424758            4.656899                    9a       DBU/XPhos  \n",
       "1   301732.937144            4.366582                    9a    DBU/tBuXPhos  \n",
       "2   288470.985884            4.325763                    9a     DBU/CM-Phos  \n",
       "3   279534.968465            3.845073                    9a       TMG/XPhos  \n",
       "4   246759.246137            3.695151                    9a    TMG/tBuXPhos  \n",
       "..            ...                 ...                   ...             ...  \n",
       "79       0.000000            0.000000                    9g   DMAP/tBuXPhos  \n",
       "80       0.000000            0.000000                    9g    DMAP/CM-Phos  \n",
       "81       0.000000            0.000000                    9g     DIPEA/XPhos  \n",
       "82       0.000000            0.000000                    9g  DIPEA/tBuXPhos  \n",
       "83       0.000000            0.000000                    9g   DIPEA/CM-Phos  \n",
       "\n",
       "[84 rows x 12 columns]"
      ]
     },
     "execution_count": 27,
     "metadata": {},
     "output_type": "execute_result"
    }
   ],
   "source": [
    "for index, row in results_df.iterrows():\n",
    "    results_df.at[index,'protected_cyanohydrin'] = protected_cyanohydrins[int(row['row'])-1]\n",
    "    results_df.at[index,'B/L'] = base_ligand_combinations[int(row['column'])-1]\n",
    "results_df"
   ]
  },
  {
   "cell_type": "markdown",
   "id": "51947246-f72a-4782-b4a8-9758f36cd653",
   "metadata": {},
   "source": [
    "We round the extracted yield and conversion values for visualization."
   ]
  },
  {
   "cell_type": "code",
   "execution_count": 28,
   "id": "c772dc5a-d022-4f10-ba1f-38e6f2c7b364",
   "metadata": {},
   "outputs": [],
   "source": [
    "#round results and convert to %-values\n",
    "results_rounded = pd.DataFrame()\n",
    "results_rounded = results_df\n",
    "results_rounded['yield'] = results_rounded['yield'] * 100\n",
    "results_rounded = results_rounded.round({'yield': 0})\n",
    "results_rounded['conversion'] = results_rounded['conversion'] * 100\n",
    "results_rounded = results_rounded.round({'conversion': 0})\n",
    "#print(results_rounded['yield'])"
   ]
  },
  {
   "cell_type": "markdown",
   "id": "307dcc22-5de5-4e6d-9f4b-8530d8ac8803",
   "metadata": {},
   "source": [
    "The yield and conversion values are plotted as a heatmap."
   ]
  },
  {
   "cell_type": "code",
   "execution_count": 29,
   "id": "944771b5-708c-48c5-9f70-9ff43b417cc3",
   "metadata": {
    "tags": []
   },
   "outputs": [
    {
     "data": {
      "text/html": [
       "\n",
       "<div id=\"altair-viz-5c558ac2115345a9b686ad3eb7e04619\"></div>\n",
       "<script type=\"text/javascript\">\n",
       "  var VEGA_DEBUG = (typeof VEGA_DEBUG == \"undefined\") ? {} : VEGA_DEBUG;\n",
       "  (function(spec, embedOpt){\n",
       "    let outputDiv = document.currentScript.previousElementSibling;\n",
       "    if (outputDiv.id !== \"altair-viz-5c558ac2115345a9b686ad3eb7e04619\") {\n",
       "      outputDiv = document.getElementById(\"altair-viz-5c558ac2115345a9b686ad3eb7e04619\");\n",
       "    }\n",
       "    const paths = {\n",
       "      \"vega\": \"https://cdn.jsdelivr.net/npm//vega@5?noext\",\n",
       "      \"vega-lib\": \"https://cdn.jsdelivr.net/npm//vega-lib?noext\",\n",
       "      \"vega-lite\": \"https://cdn.jsdelivr.net/npm//vega-lite@4.17.0?noext\",\n",
       "      \"vega-embed\": \"https://cdn.jsdelivr.net/npm//vega-embed@6?noext\",\n",
       "    };\n",
       "\n",
       "    function maybeLoadScript(lib, version) {\n",
       "      var key = `${lib.replace(\"-\", \"\")}_version`;\n",
       "      return (VEGA_DEBUG[key] == version) ?\n",
       "        Promise.resolve(paths[lib]) :\n",
       "        new Promise(function(resolve, reject) {\n",
       "          var s = document.createElement('script');\n",
       "          document.getElementsByTagName(\"head\")[0].appendChild(s);\n",
       "          s.async = true;\n",
       "          s.onload = () => {\n",
       "            VEGA_DEBUG[key] = version;\n",
       "            return resolve(paths[lib]);\n",
       "          };\n",
       "          s.onerror = () => reject(`Error loading script: ${paths[lib]}`);\n",
       "          s.src = paths[lib];\n",
       "        });\n",
       "    }\n",
       "\n",
       "    function showError(err) {\n",
       "      outputDiv.innerHTML = `<div class=\"error\" style=\"color:red;\">${err}</div>`;\n",
       "      throw err;\n",
       "    }\n",
       "\n",
       "    function displayChart(vegaEmbed) {\n",
       "      vegaEmbed(outputDiv, spec, embedOpt)\n",
       "        .catch(err => showError(`Javascript Error: ${err.message}<br>This usually means there's a typo in your chart specification. See the javascript console for the full traceback.`));\n",
       "    }\n",
       "\n",
       "    if(typeof define === \"function\" && define.amd) {\n",
       "      requirejs.config({paths});\n",
       "      require([\"vega-embed\"], displayChart, err => showError(`Error loading script: ${err.message}`));\n",
       "    } else {\n",
       "      maybeLoadScript(\"vega\", \"5\")\n",
       "        .then(() => maybeLoadScript(\"vega-lite\", \"4.17.0\"))\n",
       "        .then(() => maybeLoadScript(\"vega-embed\", \"6\"))\n",
       "        .catch(showError)\n",
       "        .then(() => displayChart(vegaEmbed));\n",
       "    }\n",
       "  })({\"config\": {\"view\": {\"continuousWidth\": 400, \"continuousHeight\": 300}}, \"layer\": [{\"mark\": \"rect\", \"encoding\": {\"color\": {\"field\": \"yield\", \"scale\": {\"domain\": [\"0\", \"100\"], \"reverse\": true, \"scheme\": \"viridis\"}, \"title\": \"Yield (%)\", \"type\": \"quantitative\"}, \"x\": {\"axis\": {\"title\": null}, \"field\": \"B/L\", \"sort\": [\"1\", \"2\", \"3\", \"4\", \"5\", \"6\", \"7\", \"8\", \"9\", \"10\", \"11\", \"12\"], \"type\": \"nominal\"}, \"y\": {\"axis\": {\"title\": null}, \"field\": \"protected_cyanohydrin\", \"type\": \"nominal\"}}, \"title\": \"Yield (%)\"}, {\"mark\": \"text\", \"encoding\": {\"text\": {\"field\": \"yield\", \"type\": \"quantitative\"}, \"x\": {\"field\": \"B/L\", \"sort\": [\"1\", \"2\", \"3\", \"4\", \"5\", \"6\", \"7\", \"8\", \"9\", \"10\", \"11\", \"12\"], \"type\": \"nominal\"}, \"y\": {\"field\": \"protected_cyanohydrin\", \"type\": \"nominal\"}}, \"title\": \"Yield\"}], \"data\": {\"name\": \"data-e7378bb00550fa3028354aca50b49605\"}, \"$schema\": \"https://vega.github.io/schema/vega-lite/v4.17.0.json\", \"datasets\": {\"data-e7378bb00550fa3028354aca50b49605\": [{\"2-chlorotoluene\": 0.031222044401549357, \"o-tolunitrile\": 0.02615180674037904, \"tetralin\": 72908.48300245198, \"column\": \"1\", \"row\": \"1\", \"path\": \"C:\\\\Users\\\\GMJAZ\\\\OneDrive - Bayer\\\\Personal Data\\\\GitHub\\\\mocca\\\\notebooks\\\\cyanation_data\\\\09072021_sample_4.txt\", \"conversion\": 48.0, \"yield\": 44.0, \"unknown_3\": 339527.4247584856, \"unknown_3_rel_area\": 4.656898769201754, \"protected_cyanohydrin\": \"9a\", \"B/L\": \"DBU/XPhos\"}, {\"2-chlorotoluene\": 0.053005385570275954, \"o-tolunitrile\": 0.003441140762395776, \"tetralin\": 69100.48702280143, \"column\": \"2\", \"row\": \"1\", \"path\": \"C:\\\\Users\\\\GMJAZ\\\\OneDrive - Bayer\\\\Personal Data\\\\GitHub\\\\mocca\\\\notebooks\\\\cyanation_data\\\\09072021_sample_5.txt\", \"conversion\": 12.0, \"yield\": 6.0, \"unknown_3\": 301732.9371442825, \"unknown_3_rel_area\": 4.366581917790509, \"protected_cyanohydrin\": \"9a\", \"B/L\": \"DBU/tBuXPhos\"}, {\"2-chlorotoluene\": 0.05618883703160557, \"o-tolunitrile\": 0.0, \"tetralin\": 66686.72326784542, \"column\": \"3\", \"row\": \"1\", \"path\": \"C:\\\\Users\\\\GMJAZ\\\\OneDrive - Bayer\\\\Personal Data\\\\GitHub\\\\mocca\\\\notebooks\\\\cyanation_data\\\\09072021_sample_6.txt\", \"conversion\": 6.0, \"yield\": 0.0, \"unknown_3\": 288470.9858840946, \"unknown_3_rel_area\": 4.32576338659584, \"protected_cyanohydrin\": \"9a\", \"B/L\": \"DBU/CM-Phos\"}, {\"2-chlorotoluene\": 0.0, \"o-tolunitrile\": 0.04074287568051037, \"tetralin\": 72699.5195762603, \"column\": \"4\", \"row\": \"1\", \"path\": \"C:\\\\Users\\\\GMJAZ\\\\OneDrive - Bayer\\\\Personal Data\\\\GitHub\\\\mocca\\\\notebooks\\\\cyanation_data\\\\09072021_sample_7.txt\", \"conversion\": 100.0, \"yield\": 68.0, \"unknown_3\": 279534.9684648997, \"unknown_3_rel_area\": 3.84507311869748, \"protected_cyanohydrin\": \"9a\", \"B/L\": \"TMG/XPhos\"}, {\"2-chlorotoluene\": 0.0, \"o-tolunitrile\": 0.029074879703950018, \"tetralin\": 66779.20798870159, \"column\": \"5\", \"row\": \"1\", \"path\": \"C:\\\\Users\\\\GMJAZ\\\\OneDrive - Bayer\\\\Personal Data\\\\GitHub\\\\mocca\\\\notebooks\\\\cyanation_data\\\\09072021_sample_8.txt\", \"conversion\": 100.0, \"yield\": 48.0, \"unknown_3\": 246759.2461374154, \"unknown_3_rel_area\": 3.6951508346604642, \"protected_cyanohydrin\": \"9a\", \"B/L\": \"TMG/tBuXPhos\"}, {\"2-chlorotoluene\": 0.0, \"o-tolunitrile\": 0.049783821521182575, \"tetralin\": 75273.91454726167, \"column\": \"6\", \"row\": \"1\", \"path\": \"C:\\\\Users\\\\GMJAZ\\\\OneDrive - Bayer\\\\Personal Data\\\\GitHub\\\\mocca\\\\notebooks\\\\cyanation_data\\\\09072021_sample_9.txt\", \"conversion\": 100.0, \"yield\": 83.0, \"unknown_3\": 320432.74625378003, \"unknown_3_rel_area\": 4.256889630106753, \"protected_cyanohydrin\": \"9a\", \"B/L\": \"TMG/CM-Phos\"}, {\"2-chlorotoluene\": 0.04002737046128323, \"o-tolunitrile\": 0.00933507615929009, \"tetralin\": 93317.22402111009, \"column\": \"7\", \"row\": \"1\", \"path\": \"C:\\\\Users\\\\GMJAZ\\\\OneDrive - Bayer\\\\Personal Data\\\\GitHub\\\\mocca\\\\notebooks\\\\cyanation_data\\\\09072021_sample_10.txt\", \"conversion\": 33.0, \"yield\": 16.0, \"unknown_3\": 89183.69330779479, \"unknown_3_rel_area\": 0.9557045255398916, \"protected_cyanohydrin\": \"9a\", \"B/L\": \"DMAP/XPhos\"}, {\"2-chlorotoluene\": 0.049635690430681986, \"o-tolunitrile\": 0.004024977336245024, \"tetralin\": 59195.52127651789, \"column\": \"8\", \"row\": \"1\", \"path\": \"C:\\\\Users\\\\GMJAZ\\\\OneDrive - Bayer\\\\Personal Data\\\\GitHub\\\\mocca\\\\notebooks\\\\cyanation_data\\\\09072021_sample_11.txt\", \"conversion\": 17.0, \"yield\": 7.0, \"unknown_3\": 40679.939377938164, \"unknown_3_rel_area\": 0.6872131286404497, \"protected_cyanohydrin\": \"9a\", \"B/L\": \"DMAP/tBuXPhos\"}, {\"2-chlorotoluene\": 0.046798093102762686, \"o-tolunitrile\": 0.008247484016697193, \"tetralin\": 65566.6761291689, \"column\": \"9\", \"row\": \"1\", \"path\": \"C:\\\\Users\\\\GMJAZ\\\\OneDrive - Bayer\\\\Personal Data\\\\GitHub\\\\mocca\\\\notebooks\\\\cyanation_data\\\\09072021_sample_12.txt\", \"conversion\": 22.0, \"yield\": 14.0, \"unknown_3\": 60155.4481507961, \"unknown_3_rel_area\": 0.9174698444723282, \"protected_cyanohydrin\": \"9a\", \"B/L\": \"DMAP/CM-Phos\"}, {\"2-chlorotoluene\": 0.04789884661412886, \"o-tolunitrile\": 0.0, \"tetralin\": 64291.85538552576, \"column\": \"10\", \"row\": \"1\", \"path\": \"C:\\\\Users\\\\GMJAZ\\\\OneDrive - Bayer\\\\Personal Data\\\\GitHub\\\\mocca\\\\notebooks\\\\cyanation_data\\\\09072021_sample_13.txt\", \"conversion\": 20.0, \"yield\": 0.0, \"unknown_3\": 0.0, \"unknown_3_rel_area\": 0.0, \"protected_cyanohydrin\": \"9a\", \"B/L\": \"DIPEA/XPhos\"}, {\"2-chlorotoluene\": 0.046282643842023005, \"o-tolunitrile\": 0.0, \"tetralin\": 62540.358042031534, \"column\": \"11\", \"row\": \"1\", \"path\": \"C:\\\\Users\\\\GMJAZ\\\\OneDrive - Bayer\\\\Personal Data\\\\GitHub\\\\mocca\\\\notebooks\\\\cyanation_data\\\\09072021_sample_14.txt\", \"conversion\": 23.0, \"yield\": 0.0, \"unknown_3\": 0.0, \"unknown_3_rel_area\": 0.0, \"protected_cyanohydrin\": \"9a\", \"B/L\": \"DIPEA/tBuXPhos\"}, {\"2-chlorotoluene\": 0.04832480295751396, \"o-tolunitrile\": 0.0, \"tetralin\": 60386.57165296772, \"column\": \"12\", \"row\": \"1\", \"path\": \"C:\\\\Users\\\\GMJAZ\\\\OneDrive - Bayer\\\\Personal Data\\\\GitHub\\\\mocca\\\\notebooks\\\\cyanation_data\\\\09072021_sample_15.txt\", \"conversion\": 19.0, \"yield\": 0.0, \"unknown_3\": 0.0, \"unknown_3_rel_area\": 0.0, \"protected_cyanohydrin\": \"9a\", \"B/L\": \"DIPEA/CM-Phos\"}, {\"2-chlorotoluene\": 0.05889509398245472, \"o-tolunitrile\": 0.0, \"tetralin\": 69097.69897928412, \"column\": \"1\", \"row\": \"2\", \"path\": \"C:\\\\Users\\\\GMJAZ\\\\OneDrive - Bayer\\\\Personal Data\\\\GitHub\\\\mocca\\\\notebooks\\\\cyanation_data\\\\09072021_sample_16.txt\", \"conversion\": 2.0, \"yield\": 0.0, \"unknown_3\": 0.0, \"unknown_3_rel_area\": 0.0, \"protected_cyanohydrin\": \"9b\", \"B/L\": \"DBU/XPhos\"}, {\"2-chlorotoluene\": 0.05758844976780815, \"o-tolunitrile\": 0.0013894698047328324, \"tetralin\": 62911.60609981449, \"column\": \"2\", \"row\": \"2\", \"path\": \"C:\\\\Users\\\\GMJAZ\\\\OneDrive - Bayer\\\\Personal Data\\\\GitHub\\\\mocca\\\\notebooks\\\\cyanation_data\\\\09072021_sample_17.txt\", \"conversion\": 4.0, \"yield\": 2.0, \"unknown_3\": 0.0, \"unknown_3_rel_area\": 0.0, \"protected_cyanohydrin\": \"9b\", \"B/L\": \"DBU/tBuXPhos\"}, {\"2-chlorotoluene\": 0.057195283306061495, \"o-tolunitrile\": 0.0, \"tetralin\": 67542.44626026195, \"column\": \"3\", \"row\": \"2\", \"path\": \"C:\\\\Users\\\\GMJAZ\\\\OneDrive - Bayer\\\\Personal Data\\\\GitHub\\\\mocca\\\\notebooks\\\\cyanation_data\\\\09072021_sample_18.txt\", \"conversion\": 5.0, \"yield\": 0.0, \"unknown_3\": 0.0, \"unknown_3_rel_area\": 0.0, \"protected_cyanohydrin\": \"9b\", \"B/L\": \"DBU/CM-Phos\"}, {\"2-chlorotoluene\": 0.05577325989907692, \"o-tolunitrile\": 0.0012982587629004878, \"tetralin\": 67719.2415441231, \"column\": \"4\", \"row\": \"2\", \"path\": \"C:\\\\Users\\\\GMJAZ\\\\OneDrive - Bayer\\\\Personal Data\\\\GitHub\\\\mocca\\\\notebooks\\\\cyanation_data\\\\09072021_sample_19.txt\", \"conversion\": 7.0, \"yield\": 2.0, \"unknown_3\": 0.0, \"unknown_3_rel_area\": 0.0, \"protected_cyanohydrin\": \"9b\", \"B/L\": \"TMG/XPhos\"}, {\"2-chlorotoluene\": 0.056961519628552344, \"o-tolunitrile\": 0.0029155914874094044, \"tetralin\": 60568.34020039442, \"column\": \"5\", \"row\": \"2\", \"path\": \"C:\\\\Users\\\\GMJAZ\\\\OneDrive - Bayer\\\\Personal Data\\\\GitHub\\\\mocca\\\\notebooks\\\\cyanation_data\\\\09072021_sample_20.txt\", \"conversion\": 5.0, \"yield\": 5.0, \"unknown_3\": 0.0, \"unknown_3_rel_area\": 0.0, \"protected_cyanohydrin\": \"9b\", \"B/L\": \"TMG/tBuXPhos\"}, {\"2-chlorotoluene\": 0.06019710424290342, \"o-tolunitrile\": 0.0, \"tetralin\": 62220.01911171426, \"column\": \"6\", \"row\": \"2\", \"path\": \"C:\\\\Users\\\\GMJAZ\\\\OneDrive - Bayer\\\\Personal Data\\\\GitHub\\\\mocca\\\\notebooks\\\\cyanation_data\\\\09072021_sample_21.txt\", \"conversion\": -0.0, \"yield\": 0.0, \"unknown_3\": 0.0, \"unknown_3_rel_area\": 0.0, \"protected_cyanohydrin\": \"9b\", \"B/L\": \"TMG/CM-Phos\"}, {\"2-chlorotoluene\": 0.047912644710691524, \"o-tolunitrile\": 0.014378260362992702, \"tetralin\": 63779.636296845274, \"column\": \"7\", \"row\": \"2\", \"path\": \"C:\\\\Users\\\\GMJAZ\\\\OneDrive - Bayer\\\\Personal Data\\\\GitHub\\\\mocca\\\\notebooks\\\\cyanation_data\\\\09072021_sample_22.txt\", \"conversion\": 20.0, \"yield\": 24.0, \"unknown_3\": 0.0, \"unknown_3_rel_area\": 0.0, \"protected_cyanohydrin\": \"9b\", \"B/L\": \"DMAP/XPhos\"}, {\"2-chlorotoluene\": 0.049975216483868296, \"o-tolunitrile\": 0.006924979698530162, \"tetralin\": 59392.73443017864, \"column\": \"8\", \"row\": \"2\", \"path\": \"C:\\\\Users\\\\GMJAZ\\\\OneDrive - Bayer\\\\Personal Data\\\\GitHub\\\\mocca\\\\notebooks\\\\cyanation_data\\\\09072021_sample_23.txt\", \"conversion\": 17.0, \"yield\": 12.0, \"unknown_3\": 0.0, \"unknown_3_rel_area\": 0.0, \"protected_cyanohydrin\": \"9b\", \"B/L\": \"DMAP/tBuXPhos\"}, {\"2-chlorotoluene\": 0.04448981560697301, \"o-tolunitrile\": 0.012765034695486996, \"tetralin\": 60456.421830524814, \"column\": \"9\", \"row\": \"2\", \"path\": \"C:\\\\Users\\\\GMJAZ\\\\OneDrive - Bayer\\\\Personal Data\\\\GitHub\\\\mocca\\\\notebooks\\\\cyanation_data\\\\09072021_sample_24.txt\", \"conversion\": 26.0, \"yield\": 21.0, \"unknown_3\": 0.0, \"unknown_3_rel_area\": 0.0, \"protected_cyanohydrin\": \"9b\", \"B/L\": \"DMAP/CM-Phos\"}, {\"2-chlorotoluene\": 0.04360267008070112, \"o-tolunitrile\": 0.0033876317168035582, \"tetralin\": 64169.03175792633, \"column\": \"10\", \"row\": \"2\", \"path\": \"C:\\\\Users\\\\GMJAZ\\\\OneDrive - Bayer\\\\Personal Data\\\\GitHub\\\\mocca\\\\notebooks\\\\cyanation_data\\\\09072021_sample_25.txt\", \"conversion\": 27.0, \"yield\": 6.0, \"unknown_3\": 0.0, \"unknown_3_rel_area\": 0.0, \"protected_cyanohydrin\": \"9b\", \"B/L\": \"DIPEA/XPhos\"}, {\"2-chlorotoluene\": 0.038365099351470956, \"o-tolunitrile\": 0.0, \"tetralin\": 57692.560064140576, \"column\": \"11\", \"row\": \"2\", \"path\": \"C:\\\\Users\\\\GMJAZ\\\\OneDrive - Bayer\\\\Personal Data\\\\GitHub\\\\mocca\\\\notebooks\\\\cyanation_data\\\\09072021_sample_26.txt\", \"conversion\": 36.0, \"yield\": 0.0, \"unknown_3\": 0.0, \"unknown_3_rel_area\": 0.0, \"protected_cyanohydrin\": \"9b\", \"B/L\": \"DIPEA/tBuXPhos\"}, {\"2-chlorotoluene\": 0.04478004601050928, \"o-tolunitrile\": 0.0032517076394496794, \"tetralin\": 93689.07516231369, \"column\": \"12\", \"row\": \"2\", \"path\": \"C:\\\\Users\\\\GMJAZ\\\\OneDrive - Bayer\\\\Personal Data\\\\GitHub\\\\mocca\\\\notebooks\\\\cyanation_data\\\\09072021_sample_27.txt\", \"conversion\": 25.0, \"yield\": 5.0, \"unknown_3\": 0.0, \"unknown_3_rel_area\": 0.0, \"protected_cyanohydrin\": \"9b\", \"B/L\": \"DIPEA/CM-Phos\"}, {\"2-chlorotoluene\": 0.05682297181484578, \"o-tolunitrile\": 0.0, \"tetralin\": 67262.18522501495, \"column\": \"1\", \"row\": \"3\", \"path\": \"C:\\\\Users\\\\GMJAZ\\\\OneDrive - Bayer\\\\Personal Data\\\\GitHub\\\\mocca\\\\notebooks\\\\cyanation_data\\\\09072021_sample_28.txt\", \"conversion\": 5.0, \"yield\": 0.0, \"unknown_3\": 0.0, \"unknown_3_rel_area\": 0.0, \"protected_cyanohydrin\": \"9c\", \"B/L\": \"DBU/XPhos\"}, {\"2-chlorotoluene\": 0.05945752128162927, \"o-tolunitrile\": 0.0, \"tetralin\": 61798.34215238836, \"column\": \"2\", \"row\": \"3\", \"path\": \"C:\\\\Users\\\\GMJAZ\\\\OneDrive - Bayer\\\\Personal Data\\\\GitHub\\\\mocca\\\\notebooks\\\\cyanation_data\\\\09072021_sample_29.txt\", \"conversion\": 1.0, \"yield\": 0.0, \"unknown_3\": 0.0, \"unknown_3_rel_area\": 0.0, \"protected_cyanohydrin\": \"9c\", \"B/L\": \"DBU/tBuXPhos\"}, {\"2-chlorotoluene\": 0.06017340011664033, \"o-tolunitrile\": 0.0, \"tetralin\": 63307.90408809161, \"column\": \"3\", \"row\": \"3\", \"path\": \"C:\\\\Users\\\\GMJAZ\\\\OneDrive - Bayer\\\\Personal Data\\\\GitHub\\\\mocca\\\\notebooks\\\\cyanation_data\\\\09072021_sample_30.txt\", \"conversion\": -0.0, \"yield\": 0.0, \"unknown_3\": 0.0, \"unknown_3_rel_area\": 0.0, \"protected_cyanohydrin\": \"9c\", \"B/L\": \"DBU/CM-Phos\"}, {\"2-chlorotoluene\": 0.0, \"o-tolunitrile\": 0.055810630523077887, \"tetralin\": 64888.73803161184, \"column\": \"4\", \"row\": \"3\", \"path\": \"C:\\\\Users\\\\GMJAZ\\\\OneDrive - Bayer\\\\Personal Data\\\\GitHub\\\\mocca\\\\notebooks\\\\cyanation_data\\\\09072021_sample_31.txt\", \"conversion\": 100.0, \"yield\": 93.0, \"unknown_3\": 0.0, \"unknown_3_rel_area\": 0.0, \"protected_cyanohydrin\": \"9c\", \"B/L\": \"TMG/XPhos\"}, {\"2-chlorotoluene\": 0.0, \"o-tolunitrile\": 0.046933900116269675, \"tetralin\": 60002.25523414501, \"column\": \"5\", \"row\": \"3\", \"path\": \"C:\\\\Users\\\\GMJAZ\\\\OneDrive - Bayer\\\\Personal Data\\\\GitHub\\\\mocca\\\\notebooks\\\\cyanation_data\\\\09072021_sample_32.txt\", \"conversion\": 100.0, \"yield\": 78.0, \"unknown_3\": 0.0, \"unknown_3_rel_area\": 0.0, \"protected_cyanohydrin\": \"9c\", \"B/L\": \"TMG/tBuXPhos\"}, {\"2-chlorotoluene\": 0.0606092001040487, \"o-tolunitrile\": 0.0, \"tetralin\": 60043.34448076359, \"column\": \"6\", \"row\": \"3\", \"path\": \"C:\\\\Users\\\\GMJAZ\\\\OneDrive - Bayer\\\\Personal Data\\\\GitHub\\\\mocca\\\\notebooks\\\\cyanation_data\\\\09072021_sample_33.txt\", \"conversion\": -1.0, \"yield\": 0.0, \"unknown_3\": 0.0, \"unknown_3_rel_area\": 0.0, \"protected_cyanohydrin\": \"9c\", \"B/L\": \"TMG/CM-Phos\"}, {\"2-chlorotoluene\": 0.03306891085794966, \"o-tolunitrile\": 0.028314181471783946, \"tetralin\": 62280.9364059223, \"column\": \"7\", \"row\": \"3\", \"path\": \"C:\\\\Users\\\\GMJAZ\\\\OneDrive - Bayer\\\\Personal Data\\\\GitHub\\\\mocca\\\\notebooks\\\\cyanation_data\\\\09072021_sample_34.txt\", \"conversion\": 45.0, \"yield\": 47.0, \"unknown_3\": 0.0, \"unknown_3_rel_area\": 0.0, \"protected_cyanohydrin\": \"9c\", \"B/L\": \"DMAP/XPhos\"}, {\"2-chlorotoluene\": 0.03776867916275373, \"o-tolunitrile\": 0.014388983130855062, \"tetralin\": 58189.19345227587, \"column\": \"8\", \"row\": \"3\", \"path\": \"C:\\\\Users\\\\GMJAZ\\\\OneDrive - Bayer\\\\Personal Data\\\\GitHub\\\\mocca\\\\notebooks\\\\cyanation_data\\\\09072021_sample_35.txt\", \"conversion\": 37.0, \"yield\": 24.0, \"unknown_3\": 0.0, \"unknown_3_rel_area\": 0.0, \"protected_cyanohydrin\": \"9c\", \"B/L\": \"DMAP/tBuXPhos\"}, {\"2-chlorotoluene\": 0.04285331911679588, \"o-tolunitrile\": 0.014640658672349167, \"tetralin\": 69877.28848000878, \"column\": \"9\", \"row\": \"3\", \"path\": \"C:\\\\Users\\\\GMJAZ\\\\OneDrive - Bayer\\\\Personal Data\\\\GitHub\\\\mocca\\\\notebooks\\\\cyanation_data\\\\09072021_sample_36.txt\", \"conversion\": 29.0, \"yield\": 24.0, \"unknown_3\": 0.0, \"unknown_3_rel_area\": 0.0, \"protected_cyanohydrin\": \"9c\", \"B/L\": \"DMAP/CM-Phos\"}, {\"2-chlorotoluene\": 0.04226593245759353, \"o-tolunitrile\": 0.0021064065822943624, \"tetralin\": 61433.98384464611, \"column\": \"10\", \"row\": \"3\", \"path\": \"C:\\\\Users\\\\GMJAZ\\\\OneDrive - Bayer\\\\Personal Data\\\\GitHub\\\\mocca\\\\notebooks\\\\cyanation_data\\\\09072021_sample_37.txt\", \"conversion\": 30.0, \"yield\": 4.0, \"unknown_3\": 0.0, \"unknown_3_rel_area\": 0.0, \"protected_cyanohydrin\": \"9c\", \"B/L\": \"DIPEA/XPhos\"}, {\"2-chlorotoluene\": 0.039008607557259066, \"o-tolunitrile\": 0.0, \"tetralin\": 66402.03678164848, \"column\": \"11\", \"row\": \"3\", \"path\": \"C:\\\\Users\\\\GMJAZ\\\\OneDrive - Bayer\\\\Personal Data\\\\GitHub\\\\mocca\\\\notebooks\\\\cyanation_data\\\\09072021_sample_38.txt\", \"conversion\": 35.0, \"yield\": 0.0, \"unknown_3\": 0.0, \"unknown_3_rel_area\": 0.0, \"protected_cyanohydrin\": \"9c\", \"B/L\": \"DIPEA/tBuXPhos\"}, {\"2-chlorotoluene\": 0.04086788157479485, \"o-tolunitrile\": 0.0020415938310930333, \"tetralin\": 128808.09890878962, \"column\": \"12\", \"row\": \"3\", \"path\": \"C:\\\\Users\\\\GMJAZ\\\\OneDrive - Bayer\\\\Personal Data\\\\GitHub\\\\mocca\\\\notebooks\\\\cyanation_data\\\\09072021_sample_39.txt\", \"conversion\": 32.0, \"yield\": 3.0, \"unknown_3\": 0.0, \"unknown_3_rel_area\": 0.0, \"protected_cyanohydrin\": \"9c\", \"B/L\": \"DIPEA/CM-Phos\"}, {\"2-chlorotoluene\": 0.059697207944674244, \"o-tolunitrile\": 0.0, \"tetralin\": 71229.54729339894, \"column\": \"1\", \"row\": \"4\", \"path\": \"C:\\\\Users\\\\GMJAZ\\\\OneDrive - Bayer\\\\Personal Data\\\\GitHub\\\\mocca\\\\notebooks\\\\cyanation_data\\\\09072021_sample_40.txt\", \"conversion\": 1.0, \"yield\": 0.0, \"unknown_3\": 323077.1965181292, \"unknown_3_rel_area\": 4.535718796405572, \"protected_cyanohydrin\": \"9d\", \"B/L\": \"DBU/XPhos\"}, {\"2-chlorotoluene\": 0.05717728357229288, \"o-tolunitrile\": 0.0, \"tetralin\": 70524.7597833834, \"column\": \"2\", \"row\": \"4\", \"path\": \"C:\\\\Users\\\\GMJAZ\\\\OneDrive - Bayer\\\\Personal Data\\\\GitHub\\\\mocca\\\\notebooks\\\\cyanation_data\\\\09072021_sample_41.txt\", \"conversion\": 5.0, \"yield\": 0.0, \"unknown_3\": 322542.620949323, \"unknown_3_rel_area\": 4.573466424274422, \"protected_cyanohydrin\": \"9d\", \"B/L\": \"DBU/tBuXPhos\"}, {\"2-chlorotoluene\": 0.06050100912237736, \"o-tolunitrile\": 0.0, \"tetralin\": 72202.82983487671, \"column\": \"3\", \"row\": \"4\", \"path\": \"C:\\\\Users\\\\GMJAZ\\\\OneDrive - Bayer\\\\Personal Data\\\\GitHub\\\\mocca\\\\notebooks\\\\cyanation_data\\\\09072021_sample_42.txt\", \"conversion\": -1.0, \"yield\": 0.0, \"unknown_3\": 349446.4299473963, \"unknown_3_rel_area\": 4.839788561564111, \"protected_cyanohydrin\": \"9d\", \"B/L\": \"DBU/CM-Phos\"}, {\"2-chlorotoluene\": 0.05828839985546799, \"o-tolunitrile\": 0.001535142530517761, \"tetralin\": 75997.21022725591, \"column\": \"4\", \"row\": \"4\", \"path\": \"C:\\\\Users\\\\GMJAZ\\\\OneDrive - Bayer\\\\Personal Data\\\\GitHub\\\\mocca\\\\notebooks\\\\cyanation_data\\\\09072021_sample_43.txt\", \"conversion\": 3.0, \"yield\": 3.0, \"unknown_3\": 347660.9761847106, \"unknown_3_rel_area\": 4.5746544530397015, \"protected_cyanohydrin\": \"9d\", \"B/L\": \"TMG/XPhos\"}, {\"2-chlorotoluene\": 0.0334255390877376, \"o-tolunitrile\": 0.026562399809441455, \"tetralin\": 66336.32058956007, \"column\": \"5\", \"row\": \"4\", \"path\": \"C:\\\\Users\\\\GMJAZ\\\\OneDrive - Bayer\\\\Personal Data\\\\GitHub\\\\mocca\\\\notebooks\\\\cyanation_data\\\\09072021_sample_44.txt\", \"conversion\": 44.0, \"yield\": 44.0, \"unknown_3\": 305057.5015782716, \"unknown_3_rel_area\": 4.598649712059569, \"protected_cyanohydrin\": \"9d\", \"B/L\": \"TMG/tBuXPhos\"}, {\"2-chlorotoluene\": 0.06194303731050967, \"o-tolunitrile\": 0.0, \"tetralin\": 67915.15997529187, \"column\": \"6\", \"row\": \"4\", \"path\": \"C:\\\\Users\\\\GMJAZ\\\\OneDrive - Bayer\\\\Personal Data\\\\GitHub\\\\mocca\\\\notebooks\\\\cyanation_data\\\\09072021_sample_45.txt\", \"conversion\": -3.0, \"yield\": 0.0, \"unknown_3\": 323734.10287706234, \"unknown_3_rel_area\": 4.766742844967745, \"protected_cyanohydrin\": \"9d\", \"B/L\": \"TMG/CM-Phos\"}, {\"2-chlorotoluene\": 0.011620584294567634, \"o-tolunitrile\": 0.051477669557946096, \"tetralin\": 69006.80965428997, \"column\": \"7\", \"row\": \"4\", \"path\": \"C:\\\\Users\\\\GMJAZ\\\\OneDrive - Bayer\\\\Personal Data\\\\GitHub\\\\mocca\\\\notebooks\\\\cyanation_data\\\\09072021_sample_46.txt\", \"conversion\": 81.0, \"yield\": 86.0, \"unknown_3\": 258344.73459886143, \"unknown_3_rel_area\": 3.7437571145965998, \"protected_cyanohydrin\": \"9d\", \"B/L\": \"DMAP/XPhos\"}, {\"2-chlorotoluene\": 0.03390097561616126, \"o-tolunitrile\": 0.023266085379881, \"tetralin\": 64584.549152045365, \"column\": \"8\", \"row\": \"4\", \"path\": \"C:\\\\Users\\\\GMJAZ\\\\OneDrive - Bayer\\\\Personal Data\\\\GitHub\\\\mocca\\\\notebooks\\\\cyanation_data\\\\09072021_sample_47.txt\", \"conversion\": 43.0, \"yield\": 39.0, \"unknown_3\": 248158.4218874123, \"unknown_3_rel_area\": 3.8423806490186396, \"protected_cyanohydrin\": \"9d\", \"B/L\": \"DMAP/tBuXPhos\"}, {\"2-chlorotoluene\": 0.041068066229369676, \"o-tolunitrile\": 0.008536320236125893, \"tetralin\": 103578.21361723189, \"column\": \"9\", \"row\": \"4\", \"path\": \"C:\\\\Users\\\\GMJAZ\\\\OneDrive - Bayer\\\\Personal Data\\\\GitHub\\\\mocca\\\\notebooks\\\\cyanation_data\\\\09072021_sample_48.txt\", \"conversion\": 32.0, \"yield\": 14.0, \"unknown_3\": 567638.8352665902, \"unknown_3_rel_area\": 5.4802918050341285, \"protected_cyanohydrin\": \"9d\", \"B/L\": \"DMAP/CM-Phos\"}, {\"2-chlorotoluene\": 0.046282818904918574, \"o-tolunitrile\": 0.003171557710960857, \"tetralin\": 62523.76049509351, \"column\": \"10\", \"row\": \"4\", \"path\": \"C:\\\\Users\\\\GMJAZ\\\\OneDrive - Bayer\\\\Personal Data\\\\GitHub\\\\mocca\\\\notebooks\\\\cyanation_data\\\\09072021_sample_49.txt\", \"conversion\": 23.0, \"yield\": 5.0, \"unknown_3\": 14041.937290120455, \"unknown_3_rel_area\": 0.22458561639494448, \"protected_cyanohydrin\": \"9d\", \"B/L\": \"DIPEA/XPhos\"}, {\"2-chlorotoluene\": 0.04147626517418068, \"o-tolunitrile\": 0.0012997769718222463, \"tetralin\": 84069.46481338829, \"column\": \"11\", \"row\": \"4\", \"path\": \"C:\\\\Users\\\\GMJAZ\\\\OneDrive - Bayer\\\\Personal Data\\\\GitHub\\\\mocca\\\\notebooks\\\\cyanation_data\\\\09072021_sample_50.txt\", \"conversion\": 31.0, \"yield\": 2.0, \"unknown_3\": 18471.264743639313, \"unknown_3_rel_area\": 0.2197143134506753, \"protected_cyanohydrin\": \"9d\", \"B/L\": \"DIPEA/tBuXPhos\"}, {\"2-chlorotoluene\": 0.03295470213716266, \"o-tolunitrile\": 0.00448610640685689, \"tetralin\": 193672.01292475453, \"column\": \"12\", \"row\": \"4\", \"path\": \"C:\\\\Users\\\\GMJAZ\\\\OneDrive - Bayer\\\\Personal Data\\\\GitHub\\\\mocca\\\\notebooks\\\\cyanation_data\\\\09072021_sample_51.txt\", \"conversion\": 45.0, \"yield\": 7.0, \"unknown_3\": 0.0, \"unknown_3_rel_area\": 0.0, \"protected_cyanohydrin\": \"9d\", \"B/L\": \"DIPEA/CM-Phos\"}, {\"2-chlorotoluene\": 0.05771236826266763, \"o-tolunitrile\": 0.0, \"tetralin\": 63037.69797341379, \"column\": \"1\", \"row\": \"5\", \"path\": \"C:\\\\Users\\\\GMJAZ\\\\OneDrive - Bayer\\\\Personal Data\\\\GitHub\\\\mocca\\\\notebooks\\\\cyanation_data\\\\09072021_sample_52.txt\", \"conversion\": 4.0, \"yield\": 0.0, \"unknown_3\": 0.0, \"unknown_3_rel_area\": 0.0, \"protected_cyanohydrin\": \"9e\", \"B/L\": \"DBU/XPhos\"}, {\"2-chlorotoluene\": 0.059079672568717996, \"o-tolunitrile\": 0.0, \"tetralin\": 60392.55767601804, \"column\": \"2\", \"row\": \"5\", \"path\": \"C:\\\\Users\\\\GMJAZ\\\\OneDrive - Bayer\\\\Personal Data\\\\GitHub\\\\mocca\\\\notebooks\\\\cyanation_data\\\\09072021_sample_53.txt\", \"conversion\": 2.0, \"yield\": 0.0, \"unknown_3\": 0.0, \"unknown_3_rel_area\": 0.0, \"protected_cyanohydrin\": \"9e\", \"B/L\": \"DBU/tBuXPhos\"}, {\"2-chlorotoluene\": 0.061941971899223354, \"o-tolunitrile\": 0.0, \"tetralin\": 58868.04681451031, \"column\": \"3\", \"row\": \"5\", \"path\": \"C:\\\\Users\\\\GMJAZ\\\\OneDrive - Bayer\\\\Personal Data\\\\GitHub\\\\mocca\\\\notebooks\\\\cyanation_data\\\\09072021_sample_54.txt\", \"conversion\": -3.0, \"yield\": 0.0, \"unknown_3\": 0.0, \"unknown_3_rel_area\": 0.0, \"protected_cyanohydrin\": \"9e\", \"B/L\": \"DBU/CM-Phos\"}, {\"2-chlorotoluene\": 0.06001875612577537, \"o-tolunitrile\": 0.0, \"tetralin\": 66364.17471261743, \"column\": \"4\", \"row\": \"5\", \"path\": \"C:\\\\Users\\\\GMJAZ\\\\OneDrive - Bayer\\\\Personal Data\\\\GitHub\\\\mocca\\\\notebooks\\\\cyanation_data\\\\09072021_sample_55.txt\", \"conversion\": -0.0, \"yield\": 0.0, \"unknown_3\": 0.0, \"unknown_3_rel_area\": 0.0, \"protected_cyanohydrin\": \"9e\", \"B/L\": \"TMG/XPhos\"}, {\"2-chlorotoluene\": 0.05776003623437295, \"o-tolunitrile\": 0.0, \"tetralin\": 61673.56384576538, \"column\": \"5\", \"row\": \"5\", \"path\": \"C:\\\\Users\\\\GMJAZ\\\\OneDrive - Bayer\\\\Personal Data\\\\GitHub\\\\mocca\\\\notebooks\\\\cyanation_data\\\\09072021_sample_56.txt\", \"conversion\": 4.0, \"yield\": 0.0, \"unknown_3\": 0.0, \"unknown_3_rel_area\": 0.0, \"protected_cyanohydrin\": \"9e\", \"B/L\": \"TMG/tBuXPhos\"}, {\"2-chlorotoluene\": 0.061419202068993616, \"o-tolunitrile\": 0.0, \"tetralin\": 62692.865946221864, \"column\": \"6\", \"row\": \"5\", \"path\": \"C:\\\\Users\\\\GMJAZ\\\\OneDrive - Bayer\\\\Personal Data\\\\GitHub\\\\mocca\\\\notebooks\\\\cyanation_data\\\\09072021_sample_57.txt\", \"conversion\": -2.0, \"yield\": 0.0, \"unknown_3\": 0.0, \"unknown_3_rel_area\": 0.0, \"protected_cyanohydrin\": \"9e\", \"B/L\": \"TMG/CM-Phos\"}, {\"2-chlorotoluene\": 0.0, \"o-tolunitrile\": 0.05655369049237521, \"tetralin\": 66776.5092249577, \"column\": \"7\", \"row\": \"5\", \"path\": \"C:\\\\Users\\\\GMJAZ\\\\OneDrive - Bayer\\\\Personal Data\\\\GitHub\\\\mocca\\\\notebooks\\\\cyanation_data\\\\09072021_sample_58.txt\", \"conversion\": 100.0, \"yield\": 94.0, \"unknown_3\": 0.0, \"unknown_3_rel_area\": 0.0, \"protected_cyanohydrin\": \"9e\", \"B/L\": \"DMAP/XPhos\"}, {\"2-chlorotoluene\": 0.03160418442913549, \"o-tolunitrile\": 0.02676281131858151, \"tetralin\": 56944.05279422459, \"column\": \"8\", \"row\": \"5\", \"path\": \"C:\\\\Users\\\\GMJAZ\\\\OneDrive - Bayer\\\\Personal Data\\\\GitHub\\\\mocca\\\\notebooks\\\\cyanation_data\\\\09072021_sample_59.txt\", \"conversion\": 47.0, \"yield\": 45.0, \"unknown_3\": 0.0, \"unknown_3_rel_area\": 0.0, \"protected_cyanohydrin\": \"9e\", \"B/L\": \"DMAP/tBuXPhos\"}, {\"2-chlorotoluene\": 0.04980648082910547, \"o-tolunitrile\": 0.0018350250145804964, \"tetralin\": 78417.5429137388, \"column\": \"9\", \"row\": \"5\", \"path\": \"C:\\\\Users\\\\GMJAZ\\\\OneDrive - Bayer\\\\Personal Data\\\\GitHub\\\\mocca\\\\notebooks\\\\cyanation_data\\\\09072021_sample_60.txt\", \"conversion\": 17.0, \"yield\": 3.0, \"unknown_3\": 0.0, \"unknown_3_rel_area\": 0.0, \"protected_cyanohydrin\": \"9e\", \"B/L\": \"DMAP/CM-Phos\"}, {\"2-chlorotoluene\": 0.040870933740128325, \"o-tolunitrile\": 0.01010529055044618, \"tetralin\": 62425.89755425585, \"column\": \"10\", \"row\": \"5\", \"path\": \"C:\\\\Users\\\\GMJAZ\\\\OneDrive - Bayer\\\\Personal Data\\\\GitHub\\\\mocca\\\\notebooks\\\\cyanation_data\\\\09072021_sample_61.txt\", \"conversion\": 32.0, \"yield\": 17.0, \"unknown_3\": 0.0, \"unknown_3_rel_area\": 0.0, \"protected_cyanohydrin\": \"9e\", \"B/L\": \"DIPEA/XPhos\"}, {\"2-chlorotoluene\": 0.035576890299598825, \"o-tolunitrile\": 0.003315442345636769, \"tetralin\": 141836.50611895032, \"column\": \"11\", \"row\": \"5\", \"path\": \"C:\\\\Users\\\\GMJAZ\\\\OneDrive - Bayer\\\\Personal Data\\\\GitHub\\\\mocca\\\\notebooks\\\\cyanation_data\\\\09072021_sample_62.txt\", \"conversion\": 41.0, \"yield\": 6.0, \"unknown_3\": 0.0, \"unknown_3_rel_area\": 0.0, \"protected_cyanohydrin\": \"9e\", \"B/L\": \"DIPEA/tBuXPhos\"}, {\"2-chlorotoluene\": 0.03816477252804222, \"o-tolunitrile\": 0.01115724764095234, \"tetralin\": 93776.1625538738, \"column\": \"12\", \"row\": \"5\", \"path\": \"C:\\\\Users\\\\GMJAZ\\\\OneDrive - Bayer\\\\Personal Data\\\\GitHub\\\\mocca\\\\notebooks\\\\cyanation_data\\\\09072021_sample_63.txt\", \"conversion\": 36.0, \"yield\": 19.0, \"unknown_3\": 0.0, \"unknown_3_rel_area\": 0.0, \"protected_cyanohydrin\": \"9e\", \"B/L\": \"DIPEA/CM-Phos\"}, {\"2-chlorotoluene\": 0.04890588592815914, \"o-tolunitrile\": 0.010807273794382611, \"tetralin\": 59895.91016994033, \"column\": \"1\", \"row\": \"6\", \"path\": \"C:\\\\Users\\\\GMJAZ\\\\OneDrive - Bayer\\\\Personal Data\\\\GitHub\\\\mocca\\\\notebooks\\\\cyanation_data\\\\09072021_sample_64.txt\", \"conversion\": 18.0, \"yield\": 18.0, \"unknown_3\": 0.0, \"unknown_3_rel_area\": 0.0, \"protected_cyanohydrin\": \"9f\", \"B/L\": \"DBU/XPhos\"}, {\"2-chlorotoluene\": 0.05456034970688799, \"o-tolunitrile\": 0.0041059085679533815, \"tetralin\": 58754.1833968299, \"column\": \"2\", \"row\": \"6\", \"path\": \"C:\\\\Users\\\\GMJAZ\\\\OneDrive - Bayer\\\\Personal Data\\\\GitHub\\\\mocca\\\\notebooks\\\\cyanation_data\\\\09072021_sample_65.txt\", \"conversion\": 9.0, \"yield\": 7.0, \"unknown_3\": 0.0, \"unknown_3_rel_area\": 0.0, \"protected_cyanohydrin\": \"9f\", \"B/L\": \"DBU/tBuXPhos\"}, {\"2-chlorotoluene\": 0.05755377905120572, \"o-tolunitrile\": 0.0, \"tetralin\": 74145.82785408827, \"column\": \"3\", \"row\": \"6\", \"path\": \"C:\\\\Users\\\\GMJAZ\\\\OneDrive - Bayer\\\\Personal Data\\\\GitHub\\\\mocca\\\\notebooks\\\\cyanation_data\\\\09072021_sample_66.txt\", \"conversion\": 4.0, \"yield\": 0.0, \"unknown_3\": 0.0, \"unknown_3_rel_area\": 0.0, \"protected_cyanohydrin\": \"9f\", \"B/L\": \"DBU/CM-Phos\"}, {\"2-chlorotoluene\": 0.03009857905130956, \"o-tolunitrile\": 0.028175826706775577, \"tetralin\": 61031.06002432388, \"column\": \"4\", \"row\": \"6\", \"path\": \"C:\\\\Users\\\\GMJAZ\\\\OneDrive - Bayer\\\\Personal Data\\\\GitHub\\\\mocca\\\\notebooks\\\\cyanation_data\\\\09072021_sample_67.txt\", \"conversion\": 50.0, \"yield\": 47.0, \"unknown_3\": 0.0, \"unknown_3_rel_area\": 0.0, \"protected_cyanohydrin\": \"9f\", \"B/L\": \"TMG/XPhos\"}, {\"2-chlorotoluene\": 0.03938673124747946, \"o-tolunitrile\": 0.016172401741869683, \"tetralin\": 58166.014521212164, \"column\": \"5\", \"row\": \"6\", \"path\": \"C:\\\\Users\\\\GMJAZ\\\\OneDrive - Bayer\\\\Personal Data\\\\GitHub\\\\mocca\\\\notebooks\\\\cyanation_data\\\\09072021_sample_68.txt\", \"conversion\": 34.0, \"yield\": 27.0, \"unknown_3\": 0.0, \"unknown_3_rel_area\": 0.0, \"protected_cyanohydrin\": \"9f\", \"B/L\": \"TMG/tBuXPhos\"}, {\"2-chlorotoluene\": 0.0, \"o-tolunitrile\": 0.046536264005475496, \"tetralin\": 60860.49041997802, \"column\": \"6\", \"row\": \"6\", \"path\": \"C:\\\\Users\\\\GMJAZ\\\\OneDrive - Bayer\\\\Personal Data\\\\GitHub\\\\mocca\\\\notebooks\\\\cyanation_data\\\\09072021_sample_69.txt\", \"conversion\": 100.0, \"yield\": 78.0, \"unknown_3\": 0.0, \"unknown_3_rel_area\": 0.0, \"protected_cyanohydrin\": \"9f\", \"B/L\": \"TMG/CM-Phos\"}, {\"2-chlorotoluene\": 0.006587891256486512, \"o-tolunitrile\": 0.05461972380824671, \"tetralin\": 75875.03433263086, \"column\": \"7\", \"row\": \"6\", \"path\": \"C:\\\\Users\\\\GMJAZ\\\\OneDrive - Bayer\\\\Personal Data\\\\GitHub\\\\mocca\\\\notebooks\\\\cyanation_data\\\\09072021_sample_70.txt\", \"conversion\": 89.0, \"yield\": 91.0, \"unknown_3\": 0.0, \"unknown_3_rel_area\": 0.0, \"protected_cyanohydrin\": \"9f\", \"B/L\": \"DMAP/XPhos\"}, {\"2-chlorotoluene\": 0.01626971844925315, \"o-tolunitrile\": 0.03820683187303865, \"tetralin\": 109558.83501995128, \"column\": \"8\", \"row\": \"6\", \"path\": \"C:\\\\Users\\\\GMJAZ\\\\OneDrive - Bayer\\\\Personal Data\\\\GitHub\\\\mocca\\\\notebooks\\\\cyanation_data\\\\09072021_sample_71.txt\", \"conversion\": 73.0, \"yield\": 64.0, \"unknown_3\": 0.0, \"unknown_3_rel_area\": 0.0, \"protected_cyanohydrin\": \"9f\", \"B/L\": \"DMAP/tBuXPhos\"}, {\"2-chlorotoluene\": 0.05308612385377452, \"o-tolunitrile\": 0.002869994591536189, \"tetralin\": 71724.18914300625, \"column\": \"9\", \"row\": \"6\", \"path\": \"C:\\\\Users\\\\GMJAZ\\\\OneDrive - Bayer\\\\Personal Data\\\\GitHub\\\\mocca\\\\notebooks\\\\cyanation_data\\\\09072021_sample_72.txt\", \"conversion\": 12.0, \"yield\": 5.0, \"unknown_3\": 0.0, \"unknown_3_rel_area\": 0.0, \"protected_cyanohydrin\": \"9f\", \"B/L\": \"DMAP/CM-Phos\"}, {\"2-chlorotoluene\": 0.04155451553793272, \"o-tolunitrile\": 0.004775422082655075, \"tetralin\": 94513.55865654355, \"column\": \"10\", \"row\": \"6\", \"path\": \"C:\\\\Users\\\\GMJAZ\\\\OneDrive - Bayer\\\\Personal Data\\\\GitHub\\\\mocca\\\\notebooks\\\\cyanation_data\\\\09072021_sample_73.txt\", \"conversion\": 31.0, \"yield\": 8.0, \"unknown_3\": 0.0, \"unknown_3_rel_area\": 0.0, \"protected_cyanohydrin\": \"9f\", \"B/L\": \"DIPEA/XPhos\"}, {\"2-chlorotoluene\": 0.026893863064143386, \"o-tolunitrile\": 0.005280434895887375, \"tetralin\": 211134.34003621578, \"column\": \"11\", \"row\": \"6\", \"path\": \"C:\\\\Users\\\\GMJAZ\\\\OneDrive - Bayer\\\\Personal Data\\\\GitHub\\\\mocca\\\\notebooks\\\\cyanation_data\\\\09072021_sample_74.txt\", \"conversion\": 55.0, \"yield\": 9.0, \"unknown_3\": 0.0, \"unknown_3_rel_area\": 0.0, \"protected_cyanohydrin\": \"9f\", \"B/L\": \"DIPEA/tBuXPhos\"}, {\"2-chlorotoluene\": 0.041727952849607064, \"o-tolunitrile\": 0.006280350501006732, \"tetralin\": 61444.85201440612, \"column\": \"12\", \"row\": \"6\", \"path\": \"C:\\\\Users\\\\GMJAZ\\\\OneDrive - Bayer\\\\Personal Data\\\\GitHub\\\\mocca\\\\notebooks\\\\cyanation_data\\\\09072021_sample_75.txt\", \"conversion\": 30.0, \"yield\": 10.0, \"unknown_3\": 0.0, \"unknown_3_rel_area\": 0.0, \"protected_cyanohydrin\": \"9f\", \"B/L\": \"DIPEA/CM-Phos\"}, {\"2-chlorotoluene\": 0.057990406124966705, \"o-tolunitrile\": 0.0, \"tetralin\": 62260.56844421303, \"column\": \"1\", \"row\": \"7\", \"path\": \"C:\\\\Users\\\\GMJAZ\\\\OneDrive - Bayer\\\\Personal Data\\\\GitHub\\\\mocca\\\\notebooks\\\\cyanation_data\\\\09072021_sample_76.txt\", \"conversion\": 3.0, \"yield\": 0.0, \"unknown_3\": 0.0, \"unknown_3_rel_area\": 0.0, \"protected_cyanohydrin\": \"9g\", \"B/L\": \"DBU/XPhos\"}, {\"2-chlorotoluene\": 0.057247109082009855, \"o-tolunitrile\": 0.0, \"tetralin\": 86100.59284993478, \"column\": \"2\", \"row\": \"7\", \"path\": \"C:\\\\Users\\\\GMJAZ\\\\OneDrive - Bayer\\\\Personal Data\\\\GitHub\\\\mocca\\\\notebooks\\\\cyanation_data\\\\09072021_sample_77.txt\", \"conversion\": 5.0, \"yield\": 0.0, \"unknown_3\": 0.0, \"unknown_3_rel_area\": 0.0, \"protected_cyanohydrin\": \"9g\", \"B/L\": \"DBU/tBuXPhos\"}, {\"2-chlorotoluene\": 0.05609916849803624, \"o-tolunitrile\": 0.0, \"tetralin\": 75091.92182351317, \"column\": \"3\", \"row\": \"7\", \"path\": \"C:\\\\Users\\\\GMJAZ\\\\OneDrive - Bayer\\\\Personal Data\\\\GitHub\\\\mocca\\\\notebooks\\\\cyanation_data\\\\09072021_sample_78.txt\", \"conversion\": 7.0, \"yield\": 0.0, \"unknown_3\": 0.0, \"unknown_3_rel_area\": 0.0, \"protected_cyanohydrin\": \"9g\", \"B/L\": \"DBU/CM-Phos\"}, {\"2-chlorotoluene\": 0.05856968553156001, \"o-tolunitrile\": 0.0, \"tetralin\": 60722.43795806856, \"column\": \"4\", \"row\": \"7\", \"path\": \"C:\\\\Users\\\\GMJAZ\\\\OneDrive - Bayer\\\\Personal Data\\\\GitHub\\\\mocca\\\\notebooks\\\\cyanation_data\\\\09072021_sample_79.txt\", \"conversion\": 2.0, \"yield\": 0.0, \"unknown_3\": 0.0, \"unknown_3_rel_area\": 0.0, \"protected_cyanohydrin\": \"9g\", \"B/L\": \"TMG/XPhos\"}, {\"2-chlorotoluene\": 0.06207145659160528, \"o-tolunitrile\": 0.0, \"tetralin\": 56150.907451540814, \"column\": \"5\", \"row\": \"7\", \"path\": \"C:\\\\Users\\\\GMJAZ\\\\OneDrive - Bayer\\\\Personal Data\\\\GitHub\\\\mocca\\\\notebooks\\\\cyanation_data\\\\09072021_sample_80.txt\", \"conversion\": -3.0, \"yield\": 0.0, \"unknown_3\": 0.0, \"unknown_3_rel_area\": 0.0, \"protected_cyanohydrin\": \"9g\", \"B/L\": \"TMG/tBuXPhos\"}, {\"2-chlorotoluene\": 0.06184511479289285, \"o-tolunitrile\": 0.0, \"tetralin\": 63086.115812956734, \"column\": \"6\", \"row\": \"7\", \"path\": \"C:\\\\Users\\\\GMJAZ\\\\OneDrive - Bayer\\\\Personal Data\\\\GitHub\\\\mocca\\\\notebooks\\\\cyanation_data\\\\09072021_sample_81.txt\", \"conversion\": -3.0, \"yield\": 0.0, \"unknown_3\": 0.0, \"unknown_3_rel_area\": 0.0, \"protected_cyanohydrin\": \"9g\", \"B/L\": \"TMG/CM-Phos\"}, {\"2-chlorotoluene\": 0.051784463898701893, \"o-tolunitrile\": 0.0, \"tetralin\": 137799.63157887413, \"column\": \"7\", \"row\": \"7\", \"path\": \"C:\\\\Users\\\\GMJAZ\\\\OneDrive - Bayer\\\\Personal Data\\\\GitHub\\\\mocca\\\\notebooks\\\\cyanation_data\\\\09072021_sample_82.txt\", \"conversion\": 14.0, \"yield\": 0.0, \"unknown_3\": 0.0, \"unknown_3_rel_area\": 0.0, \"protected_cyanohydrin\": \"9g\", \"B/L\": \"DMAP/XPhos\"}, {\"2-chlorotoluene\": 0.059307068362115765, \"o-tolunitrile\": 0.0, \"tetralin\": 68115.13832626863, \"column\": \"8\", \"row\": \"7\", \"path\": \"C:\\\\Users\\\\GMJAZ\\\\OneDrive - Bayer\\\\Personal Data\\\\GitHub\\\\mocca\\\\notebooks\\\\cyanation_data\\\\09072021_sample_83.txt\", \"conversion\": 1.0, \"yield\": 0.0, \"unknown_3\": 0.0, \"unknown_3_rel_area\": 0.0, \"protected_cyanohydrin\": \"9g\", \"B/L\": \"DMAP/tBuXPhos\"}, {\"2-chlorotoluene\": 0.059044126094737394, \"o-tolunitrile\": 0.0, \"tetralin\": 77373.68472249235, \"column\": \"9\", \"row\": \"7\", \"path\": \"C:\\\\Users\\\\GMJAZ\\\\OneDrive - Bayer\\\\Personal Data\\\\GitHub\\\\mocca\\\\notebooks\\\\cyanation_data\\\\09072021_sample_84.txt\", \"conversion\": 2.0, \"yield\": 0.0, \"unknown_3\": 0.0, \"unknown_3_rel_area\": 0.0, \"protected_cyanohydrin\": \"9g\", \"B/L\": \"DMAP/CM-Phos\"}, {\"2-chlorotoluene\": 0.04445310093721335, \"o-tolunitrile\": 0.0, \"tetralin\": 162296.59445635474, \"column\": \"10\", \"row\": \"7\", \"path\": \"C:\\\\Users\\\\GMJAZ\\\\OneDrive - Bayer\\\\Personal Data\\\\GitHub\\\\mocca\\\\notebooks\\\\cyanation_data\\\\09072021_sample_85.txt\", \"conversion\": 26.0, \"yield\": 0.0, \"unknown_3\": 0.0, \"unknown_3_rel_area\": 0.0, \"protected_cyanohydrin\": \"9g\", \"B/L\": \"DIPEA/XPhos\"}, {\"2-chlorotoluene\": 0.05263449004550709, \"o-tolunitrile\": 0.0, \"tetralin\": 64807.09811592598, \"column\": \"11\", \"row\": \"7\", \"path\": \"C:\\\\Users\\\\GMJAZ\\\\OneDrive - Bayer\\\\Personal Data\\\\GitHub\\\\mocca\\\\notebooks\\\\cyanation_data\\\\09072021_sample_86.txt\", \"conversion\": 12.0, \"yield\": 0.0, \"unknown_3\": 0.0, \"unknown_3_rel_area\": 0.0, \"protected_cyanohydrin\": \"9g\", \"B/L\": \"DIPEA/tBuXPhos\"}, {\"2-chlorotoluene\": 0.05838624161391528, \"o-tolunitrile\": 0.0, \"tetralin\": 75707.96040323588, \"column\": \"12\", \"row\": \"7\", \"path\": \"C:\\\\Users\\\\GMJAZ\\\\OneDrive - Bayer\\\\Personal Data\\\\GitHub\\\\mocca\\\\notebooks\\\\cyanation_data\\\\09072021_sample_87.txt\", \"conversion\": 3.0, \"yield\": 0.0, \"unknown_3\": 0.0, \"unknown_3_rel_area\": 0.0, \"protected_cyanohydrin\": \"9g\", \"B/L\": \"DIPEA/CM-Phos\"}]}}, {\"mode\": \"vega-lite\"});\n",
       "</script>"
      ],
      "text/plain": [
       "alt.LayerChart(...)"
      ]
     },
     "metadata": {},
     "output_type": "display_data"
    }
   ],
   "source": [
    "heatmap = alt.Chart(results_rounded, title = 'Yield (%)').mark_rect().encode(\n",
    "            x=alt.X('B/L', sort=row_order, axis=alt.Axis(title=None)),\n",
    "            y=alt.Y('protected_cyanohydrin', axis=alt.Axis(title=None)),\n",
    "            color=alt.Color('yield', title=\"Yield (%)\", scale=alt.Scale(domain=['0','100'], scheme='viridis', reverse=True))\n",
    "            )\n",
    "text = alt.Chart(results_rounded, title = 'Yield').mark_text().encode(\n",
    "            x=alt.X('B/L', sort=row_order),\n",
    "            y=alt.Y('protected_cyanohydrin'),\n",
    "            text='yield'\n",
    "            )\n",
    "\n",
    "display(heatmap + text)\n",
    "#display(heatmap)"
   ]
  },
  {
   "cell_type": "code",
   "execution_count": 30,
   "id": "337a5023-f756-4047-8bc7-63489f69792c",
   "metadata": {},
   "outputs": [
    {
     "data": {
      "text/html": [
       "\n",
       "<div id=\"altair-viz-811a70e0ee1946199106659281dc65cf\"></div>\n",
       "<script type=\"text/javascript\">\n",
       "  var VEGA_DEBUG = (typeof VEGA_DEBUG == \"undefined\") ? {} : VEGA_DEBUG;\n",
       "  (function(spec, embedOpt){\n",
       "    let outputDiv = document.currentScript.previousElementSibling;\n",
       "    if (outputDiv.id !== \"altair-viz-811a70e0ee1946199106659281dc65cf\") {\n",
       "      outputDiv = document.getElementById(\"altair-viz-811a70e0ee1946199106659281dc65cf\");\n",
       "    }\n",
       "    const paths = {\n",
       "      \"vega\": \"https://cdn.jsdelivr.net/npm//vega@5?noext\",\n",
       "      \"vega-lib\": \"https://cdn.jsdelivr.net/npm//vega-lib?noext\",\n",
       "      \"vega-lite\": \"https://cdn.jsdelivr.net/npm//vega-lite@4.17.0?noext\",\n",
       "      \"vega-embed\": \"https://cdn.jsdelivr.net/npm//vega-embed@6?noext\",\n",
       "    };\n",
       "\n",
       "    function maybeLoadScript(lib, version) {\n",
       "      var key = `${lib.replace(\"-\", \"\")}_version`;\n",
       "      return (VEGA_DEBUG[key] == version) ?\n",
       "        Promise.resolve(paths[lib]) :\n",
       "        new Promise(function(resolve, reject) {\n",
       "          var s = document.createElement('script');\n",
       "          document.getElementsByTagName(\"head\")[0].appendChild(s);\n",
       "          s.async = true;\n",
       "          s.onload = () => {\n",
       "            VEGA_DEBUG[key] = version;\n",
       "            return resolve(paths[lib]);\n",
       "          };\n",
       "          s.onerror = () => reject(`Error loading script: ${paths[lib]}`);\n",
       "          s.src = paths[lib];\n",
       "        });\n",
       "    }\n",
       "\n",
       "    function showError(err) {\n",
       "      outputDiv.innerHTML = `<div class=\"error\" style=\"color:red;\">${err}</div>`;\n",
       "      throw err;\n",
       "    }\n",
       "\n",
       "    function displayChart(vegaEmbed) {\n",
       "      vegaEmbed(outputDiv, spec, embedOpt)\n",
       "        .catch(err => showError(`Javascript Error: ${err.message}<br>This usually means there's a typo in your chart specification. See the javascript console for the full traceback.`));\n",
       "    }\n",
       "\n",
       "    if(typeof define === \"function\" && define.amd) {\n",
       "      requirejs.config({paths});\n",
       "      require([\"vega-embed\"], displayChart, err => showError(`Error loading script: ${err.message}`));\n",
       "    } else {\n",
       "      maybeLoadScript(\"vega\", \"5\")\n",
       "        .then(() => maybeLoadScript(\"vega-lite\", \"4.17.0\"))\n",
       "        .then(() => maybeLoadScript(\"vega-embed\", \"6\"))\n",
       "        .catch(showError)\n",
       "        .then(() => displayChart(vegaEmbed));\n",
       "    }\n",
       "  })({\"config\": {\"view\": {\"continuousWidth\": 400, \"continuousHeight\": 300}}, \"data\": {\"name\": \"data-e7378bb00550fa3028354aca50b49605\"}, \"mark\": \"rect\", \"encoding\": {\"color\": {\"field\": \"conversion\", \"scale\": {\"domain\": [\"0\", \"100\"], \"reverse\": true, \"scheme\": \"viridis\"}, \"title\": \"Conversion (%)\", \"type\": \"quantitative\"}, \"x\": {\"axis\": {\"title\": null}, \"field\": \"B/L\", \"sort\": [\"1\", \"2\", \"3\", \"4\", \"5\", \"6\", \"7\", \"8\", \"9\", \"10\", \"11\", \"12\"], \"type\": \"nominal\"}, \"y\": {\"axis\": {\"title\": null}, \"field\": \"protected_cyanohydrin\", \"type\": \"nominal\"}}, \"title\": \"Conversion\", \"$schema\": \"https://vega.github.io/schema/vega-lite/v4.17.0.json\", \"datasets\": {\"data-e7378bb00550fa3028354aca50b49605\": [{\"2-chlorotoluene\": 0.031222044401549357, \"o-tolunitrile\": 0.02615180674037904, \"tetralin\": 72908.48300245198, \"column\": \"1\", \"row\": \"1\", \"path\": \"C:\\\\Users\\\\GMJAZ\\\\OneDrive - Bayer\\\\Personal Data\\\\GitHub\\\\mocca\\\\notebooks\\\\cyanation_data\\\\09072021_sample_4.txt\", \"conversion\": 48.0, \"yield\": 44.0, \"unknown_3\": 339527.4247584856, \"unknown_3_rel_area\": 4.656898769201754, \"protected_cyanohydrin\": \"9a\", \"B/L\": \"DBU/XPhos\"}, {\"2-chlorotoluene\": 0.053005385570275954, \"o-tolunitrile\": 0.003441140762395776, \"tetralin\": 69100.48702280143, \"column\": \"2\", \"row\": \"1\", \"path\": \"C:\\\\Users\\\\GMJAZ\\\\OneDrive - Bayer\\\\Personal Data\\\\GitHub\\\\mocca\\\\notebooks\\\\cyanation_data\\\\09072021_sample_5.txt\", \"conversion\": 12.0, \"yield\": 6.0, \"unknown_3\": 301732.9371442825, \"unknown_3_rel_area\": 4.366581917790509, \"protected_cyanohydrin\": \"9a\", \"B/L\": \"DBU/tBuXPhos\"}, {\"2-chlorotoluene\": 0.05618883703160557, \"o-tolunitrile\": 0.0, \"tetralin\": 66686.72326784542, \"column\": \"3\", \"row\": \"1\", \"path\": \"C:\\\\Users\\\\GMJAZ\\\\OneDrive - Bayer\\\\Personal Data\\\\GitHub\\\\mocca\\\\notebooks\\\\cyanation_data\\\\09072021_sample_6.txt\", \"conversion\": 6.0, \"yield\": 0.0, \"unknown_3\": 288470.9858840946, \"unknown_3_rel_area\": 4.32576338659584, \"protected_cyanohydrin\": \"9a\", \"B/L\": \"DBU/CM-Phos\"}, {\"2-chlorotoluene\": 0.0, \"o-tolunitrile\": 0.04074287568051037, \"tetralin\": 72699.5195762603, \"column\": \"4\", \"row\": \"1\", \"path\": \"C:\\\\Users\\\\GMJAZ\\\\OneDrive - Bayer\\\\Personal Data\\\\GitHub\\\\mocca\\\\notebooks\\\\cyanation_data\\\\09072021_sample_7.txt\", \"conversion\": 100.0, \"yield\": 68.0, \"unknown_3\": 279534.9684648997, \"unknown_3_rel_area\": 3.84507311869748, \"protected_cyanohydrin\": \"9a\", \"B/L\": \"TMG/XPhos\"}, {\"2-chlorotoluene\": 0.0, \"o-tolunitrile\": 0.029074879703950018, \"tetralin\": 66779.20798870159, \"column\": \"5\", \"row\": \"1\", \"path\": \"C:\\\\Users\\\\GMJAZ\\\\OneDrive - Bayer\\\\Personal Data\\\\GitHub\\\\mocca\\\\notebooks\\\\cyanation_data\\\\09072021_sample_8.txt\", \"conversion\": 100.0, \"yield\": 48.0, \"unknown_3\": 246759.2461374154, \"unknown_3_rel_area\": 3.6951508346604642, \"protected_cyanohydrin\": \"9a\", \"B/L\": \"TMG/tBuXPhos\"}, {\"2-chlorotoluene\": 0.0, \"o-tolunitrile\": 0.049783821521182575, \"tetralin\": 75273.91454726167, \"column\": \"6\", \"row\": \"1\", \"path\": \"C:\\\\Users\\\\GMJAZ\\\\OneDrive - Bayer\\\\Personal Data\\\\GitHub\\\\mocca\\\\notebooks\\\\cyanation_data\\\\09072021_sample_9.txt\", \"conversion\": 100.0, \"yield\": 83.0, \"unknown_3\": 320432.74625378003, \"unknown_3_rel_area\": 4.256889630106753, \"protected_cyanohydrin\": \"9a\", \"B/L\": \"TMG/CM-Phos\"}, {\"2-chlorotoluene\": 0.04002737046128323, \"o-tolunitrile\": 0.00933507615929009, \"tetralin\": 93317.22402111009, \"column\": \"7\", \"row\": \"1\", \"path\": \"C:\\\\Users\\\\GMJAZ\\\\OneDrive - Bayer\\\\Personal Data\\\\GitHub\\\\mocca\\\\notebooks\\\\cyanation_data\\\\09072021_sample_10.txt\", \"conversion\": 33.0, \"yield\": 16.0, \"unknown_3\": 89183.69330779479, \"unknown_3_rel_area\": 0.9557045255398916, \"protected_cyanohydrin\": \"9a\", \"B/L\": \"DMAP/XPhos\"}, {\"2-chlorotoluene\": 0.049635690430681986, \"o-tolunitrile\": 0.004024977336245024, \"tetralin\": 59195.52127651789, \"column\": \"8\", \"row\": \"1\", \"path\": \"C:\\\\Users\\\\GMJAZ\\\\OneDrive - Bayer\\\\Personal Data\\\\GitHub\\\\mocca\\\\notebooks\\\\cyanation_data\\\\09072021_sample_11.txt\", \"conversion\": 17.0, \"yield\": 7.0, \"unknown_3\": 40679.939377938164, \"unknown_3_rel_area\": 0.6872131286404497, \"protected_cyanohydrin\": \"9a\", \"B/L\": \"DMAP/tBuXPhos\"}, {\"2-chlorotoluene\": 0.046798093102762686, \"o-tolunitrile\": 0.008247484016697193, \"tetralin\": 65566.6761291689, \"column\": \"9\", \"row\": \"1\", \"path\": \"C:\\\\Users\\\\GMJAZ\\\\OneDrive - Bayer\\\\Personal Data\\\\GitHub\\\\mocca\\\\notebooks\\\\cyanation_data\\\\09072021_sample_12.txt\", \"conversion\": 22.0, \"yield\": 14.0, \"unknown_3\": 60155.4481507961, \"unknown_3_rel_area\": 0.9174698444723282, \"protected_cyanohydrin\": \"9a\", \"B/L\": \"DMAP/CM-Phos\"}, {\"2-chlorotoluene\": 0.04789884661412886, \"o-tolunitrile\": 0.0, \"tetralin\": 64291.85538552576, \"column\": \"10\", \"row\": \"1\", \"path\": \"C:\\\\Users\\\\GMJAZ\\\\OneDrive - Bayer\\\\Personal Data\\\\GitHub\\\\mocca\\\\notebooks\\\\cyanation_data\\\\09072021_sample_13.txt\", \"conversion\": 20.0, \"yield\": 0.0, \"unknown_3\": 0.0, \"unknown_3_rel_area\": 0.0, \"protected_cyanohydrin\": \"9a\", \"B/L\": \"DIPEA/XPhos\"}, {\"2-chlorotoluene\": 0.046282643842023005, \"o-tolunitrile\": 0.0, \"tetralin\": 62540.358042031534, \"column\": \"11\", \"row\": \"1\", \"path\": \"C:\\\\Users\\\\GMJAZ\\\\OneDrive - Bayer\\\\Personal Data\\\\GitHub\\\\mocca\\\\notebooks\\\\cyanation_data\\\\09072021_sample_14.txt\", \"conversion\": 23.0, \"yield\": 0.0, \"unknown_3\": 0.0, \"unknown_3_rel_area\": 0.0, \"protected_cyanohydrin\": \"9a\", \"B/L\": \"DIPEA/tBuXPhos\"}, {\"2-chlorotoluene\": 0.04832480295751396, \"o-tolunitrile\": 0.0, \"tetralin\": 60386.57165296772, \"column\": \"12\", \"row\": \"1\", \"path\": \"C:\\\\Users\\\\GMJAZ\\\\OneDrive - Bayer\\\\Personal Data\\\\GitHub\\\\mocca\\\\notebooks\\\\cyanation_data\\\\09072021_sample_15.txt\", \"conversion\": 19.0, \"yield\": 0.0, \"unknown_3\": 0.0, \"unknown_3_rel_area\": 0.0, \"protected_cyanohydrin\": \"9a\", \"B/L\": \"DIPEA/CM-Phos\"}, {\"2-chlorotoluene\": 0.05889509398245472, \"o-tolunitrile\": 0.0, \"tetralin\": 69097.69897928412, \"column\": \"1\", \"row\": \"2\", \"path\": \"C:\\\\Users\\\\GMJAZ\\\\OneDrive - Bayer\\\\Personal Data\\\\GitHub\\\\mocca\\\\notebooks\\\\cyanation_data\\\\09072021_sample_16.txt\", \"conversion\": 2.0, \"yield\": 0.0, \"unknown_3\": 0.0, \"unknown_3_rel_area\": 0.0, \"protected_cyanohydrin\": \"9b\", \"B/L\": \"DBU/XPhos\"}, {\"2-chlorotoluene\": 0.05758844976780815, \"o-tolunitrile\": 0.0013894698047328324, \"tetralin\": 62911.60609981449, \"column\": \"2\", \"row\": \"2\", \"path\": \"C:\\\\Users\\\\GMJAZ\\\\OneDrive - Bayer\\\\Personal Data\\\\GitHub\\\\mocca\\\\notebooks\\\\cyanation_data\\\\09072021_sample_17.txt\", \"conversion\": 4.0, \"yield\": 2.0, \"unknown_3\": 0.0, \"unknown_3_rel_area\": 0.0, \"protected_cyanohydrin\": \"9b\", \"B/L\": \"DBU/tBuXPhos\"}, {\"2-chlorotoluene\": 0.057195283306061495, \"o-tolunitrile\": 0.0, \"tetralin\": 67542.44626026195, \"column\": \"3\", \"row\": \"2\", \"path\": \"C:\\\\Users\\\\GMJAZ\\\\OneDrive - Bayer\\\\Personal Data\\\\GitHub\\\\mocca\\\\notebooks\\\\cyanation_data\\\\09072021_sample_18.txt\", \"conversion\": 5.0, \"yield\": 0.0, \"unknown_3\": 0.0, \"unknown_3_rel_area\": 0.0, \"protected_cyanohydrin\": \"9b\", \"B/L\": \"DBU/CM-Phos\"}, {\"2-chlorotoluene\": 0.05577325989907692, \"o-tolunitrile\": 0.0012982587629004878, \"tetralin\": 67719.2415441231, \"column\": \"4\", \"row\": \"2\", \"path\": \"C:\\\\Users\\\\GMJAZ\\\\OneDrive - Bayer\\\\Personal Data\\\\GitHub\\\\mocca\\\\notebooks\\\\cyanation_data\\\\09072021_sample_19.txt\", \"conversion\": 7.0, \"yield\": 2.0, \"unknown_3\": 0.0, \"unknown_3_rel_area\": 0.0, \"protected_cyanohydrin\": \"9b\", \"B/L\": \"TMG/XPhos\"}, {\"2-chlorotoluene\": 0.056961519628552344, \"o-tolunitrile\": 0.0029155914874094044, \"tetralin\": 60568.34020039442, \"column\": \"5\", \"row\": \"2\", \"path\": \"C:\\\\Users\\\\GMJAZ\\\\OneDrive - Bayer\\\\Personal Data\\\\GitHub\\\\mocca\\\\notebooks\\\\cyanation_data\\\\09072021_sample_20.txt\", \"conversion\": 5.0, \"yield\": 5.0, \"unknown_3\": 0.0, \"unknown_3_rel_area\": 0.0, \"protected_cyanohydrin\": \"9b\", \"B/L\": \"TMG/tBuXPhos\"}, {\"2-chlorotoluene\": 0.06019710424290342, \"o-tolunitrile\": 0.0, \"tetralin\": 62220.01911171426, \"column\": \"6\", \"row\": \"2\", \"path\": \"C:\\\\Users\\\\GMJAZ\\\\OneDrive - Bayer\\\\Personal Data\\\\GitHub\\\\mocca\\\\notebooks\\\\cyanation_data\\\\09072021_sample_21.txt\", \"conversion\": -0.0, \"yield\": 0.0, \"unknown_3\": 0.0, \"unknown_3_rel_area\": 0.0, \"protected_cyanohydrin\": \"9b\", \"B/L\": \"TMG/CM-Phos\"}, {\"2-chlorotoluene\": 0.047912644710691524, \"o-tolunitrile\": 0.014378260362992702, \"tetralin\": 63779.636296845274, \"column\": \"7\", \"row\": \"2\", \"path\": \"C:\\\\Users\\\\GMJAZ\\\\OneDrive - Bayer\\\\Personal Data\\\\GitHub\\\\mocca\\\\notebooks\\\\cyanation_data\\\\09072021_sample_22.txt\", \"conversion\": 20.0, \"yield\": 24.0, \"unknown_3\": 0.0, \"unknown_3_rel_area\": 0.0, \"protected_cyanohydrin\": \"9b\", \"B/L\": \"DMAP/XPhos\"}, {\"2-chlorotoluene\": 0.049975216483868296, \"o-tolunitrile\": 0.006924979698530162, \"tetralin\": 59392.73443017864, \"column\": \"8\", \"row\": \"2\", \"path\": \"C:\\\\Users\\\\GMJAZ\\\\OneDrive - Bayer\\\\Personal Data\\\\GitHub\\\\mocca\\\\notebooks\\\\cyanation_data\\\\09072021_sample_23.txt\", \"conversion\": 17.0, \"yield\": 12.0, \"unknown_3\": 0.0, \"unknown_3_rel_area\": 0.0, \"protected_cyanohydrin\": \"9b\", \"B/L\": \"DMAP/tBuXPhos\"}, {\"2-chlorotoluene\": 0.04448981560697301, \"o-tolunitrile\": 0.012765034695486996, \"tetralin\": 60456.421830524814, \"column\": \"9\", \"row\": \"2\", \"path\": \"C:\\\\Users\\\\GMJAZ\\\\OneDrive - Bayer\\\\Personal Data\\\\GitHub\\\\mocca\\\\notebooks\\\\cyanation_data\\\\09072021_sample_24.txt\", \"conversion\": 26.0, \"yield\": 21.0, \"unknown_3\": 0.0, \"unknown_3_rel_area\": 0.0, \"protected_cyanohydrin\": \"9b\", \"B/L\": \"DMAP/CM-Phos\"}, {\"2-chlorotoluene\": 0.04360267008070112, \"o-tolunitrile\": 0.0033876317168035582, \"tetralin\": 64169.03175792633, \"column\": \"10\", \"row\": \"2\", \"path\": \"C:\\\\Users\\\\GMJAZ\\\\OneDrive - Bayer\\\\Personal Data\\\\GitHub\\\\mocca\\\\notebooks\\\\cyanation_data\\\\09072021_sample_25.txt\", \"conversion\": 27.0, \"yield\": 6.0, \"unknown_3\": 0.0, \"unknown_3_rel_area\": 0.0, \"protected_cyanohydrin\": \"9b\", \"B/L\": \"DIPEA/XPhos\"}, {\"2-chlorotoluene\": 0.038365099351470956, \"o-tolunitrile\": 0.0, \"tetralin\": 57692.560064140576, \"column\": \"11\", \"row\": \"2\", \"path\": \"C:\\\\Users\\\\GMJAZ\\\\OneDrive - Bayer\\\\Personal Data\\\\GitHub\\\\mocca\\\\notebooks\\\\cyanation_data\\\\09072021_sample_26.txt\", \"conversion\": 36.0, \"yield\": 0.0, \"unknown_3\": 0.0, \"unknown_3_rel_area\": 0.0, \"protected_cyanohydrin\": \"9b\", \"B/L\": \"DIPEA/tBuXPhos\"}, {\"2-chlorotoluene\": 0.04478004601050928, \"o-tolunitrile\": 0.0032517076394496794, \"tetralin\": 93689.07516231369, \"column\": \"12\", \"row\": \"2\", \"path\": \"C:\\\\Users\\\\GMJAZ\\\\OneDrive - Bayer\\\\Personal Data\\\\GitHub\\\\mocca\\\\notebooks\\\\cyanation_data\\\\09072021_sample_27.txt\", \"conversion\": 25.0, \"yield\": 5.0, \"unknown_3\": 0.0, \"unknown_3_rel_area\": 0.0, \"protected_cyanohydrin\": \"9b\", \"B/L\": \"DIPEA/CM-Phos\"}, {\"2-chlorotoluene\": 0.05682297181484578, \"o-tolunitrile\": 0.0, \"tetralin\": 67262.18522501495, \"column\": \"1\", \"row\": \"3\", \"path\": \"C:\\\\Users\\\\GMJAZ\\\\OneDrive - Bayer\\\\Personal Data\\\\GitHub\\\\mocca\\\\notebooks\\\\cyanation_data\\\\09072021_sample_28.txt\", \"conversion\": 5.0, \"yield\": 0.0, \"unknown_3\": 0.0, \"unknown_3_rel_area\": 0.0, \"protected_cyanohydrin\": \"9c\", \"B/L\": \"DBU/XPhos\"}, {\"2-chlorotoluene\": 0.05945752128162927, \"o-tolunitrile\": 0.0, \"tetralin\": 61798.34215238836, \"column\": \"2\", \"row\": \"3\", \"path\": \"C:\\\\Users\\\\GMJAZ\\\\OneDrive - Bayer\\\\Personal Data\\\\GitHub\\\\mocca\\\\notebooks\\\\cyanation_data\\\\09072021_sample_29.txt\", \"conversion\": 1.0, \"yield\": 0.0, \"unknown_3\": 0.0, \"unknown_3_rel_area\": 0.0, \"protected_cyanohydrin\": \"9c\", \"B/L\": \"DBU/tBuXPhos\"}, {\"2-chlorotoluene\": 0.06017340011664033, \"o-tolunitrile\": 0.0, \"tetralin\": 63307.90408809161, \"column\": \"3\", \"row\": \"3\", \"path\": \"C:\\\\Users\\\\GMJAZ\\\\OneDrive - Bayer\\\\Personal Data\\\\GitHub\\\\mocca\\\\notebooks\\\\cyanation_data\\\\09072021_sample_30.txt\", \"conversion\": -0.0, \"yield\": 0.0, \"unknown_3\": 0.0, \"unknown_3_rel_area\": 0.0, \"protected_cyanohydrin\": \"9c\", \"B/L\": \"DBU/CM-Phos\"}, {\"2-chlorotoluene\": 0.0, \"o-tolunitrile\": 0.055810630523077887, \"tetralin\": 64888.73803161184, \"column\": \"4\", \"row\": \"3\", \"path\": \"C:\\\\Users\\\\GMJAZ\\\\OneDrive - Bayer\\\\Personal Data\\\\GitHub\\\\mocca\\\\notebooks\\\\cyanation_data\\\\09072021_sample_31.txt\", \"conversion\": 100.0, \"yield\": 93.0, \"unknown_3\": 0.0, \"unknown_3_rel_area\": 0.0, \"protected_cyanohydrin\": \"9c\", \"B/L\": \"TMG/XPhos\"}, {\"2-chlorotoluene\": 0.0, \"o-tolunitrile\": 0.046933900116269675, \"tetralin\": 60002.25523414501, \"column\": \"5\", \"row\": \"3\", \"path\": \"C:\\\\Users\\\\GMJAZ\\\\OneDrive - Bayer\\\\Personal Data\\\\GitHub\\\\mocca\\\\notebooks\\\\cyanation_data\\\\09072021_sample_32.txt\", \"conversion\": 100.0, \"yield\": 78.0, \"unknown_3\": 0.0, \"unknown_3_rel_area\": 0.0, \"protected_cyanohydrin\": \"9c\", \"B/L\": \"TMG/tBuXPhos\"}, {\"2-chlorotoluene\": 0.0606092001040487, \"o-tolunitrile\": 0.0, \"tetralin\": 60043.34448076359, \"column\": \"6\", \"row\": \"3\", \"path\": \"C:\\\\Users\\\\GMJAZ\\\\OneDrive - Bayer\\\\Personal Data\\\\GitHub\\\\mocca\\\\notebooks\\\\cyanation_data\\\\09072021_sample_33.txt\", \"conversion\": -1.0, \"yield\": 0.0, \"unknown_3\": 0.0, \"unknown_3_rel_area\": 0.0, \"protected_cyanohydrin\": \"9c\", \"B/L\": \"TMG/CM-Phos\"}, {\"2-chlorotoluene\": 0.03306891085794966, \"o-tolunitrile\": 0.028314181471783946, \"tetralin\": 62280.9364059223, \"column\": \"7\", \"row\": \"3\", \"path\": \"C:\\\\Users\\\\GMJAZ\\\\OneDrive - Bayer\\\\Personal Data\\\\GitHub\\\\mocca\\\\notebooks\\\\cyanation_data\\\\09072021_sample_34.txt\", \"conversion\": 45.0, \"yield\": 47.0, \"unknown_3\": 0.0, \"unknown_3_rel_area\": 0.0, \"protected_cyanohydrin\": \"9c\", \"B/L\": \"DMAP/XPhos\"}, {\"2-chlorotoluene\": 0.03776867916275373, \"o-tolunitrile\": 0.014388983130855062, \"tetralin\": 58189.19345227587, \"column\": \"8\", \"row\": \"3\", \"path\": \"C:\\\\Users\\\\GMJAZ\\\\OneDrive - Bayer\\\\Personal Data\\\\GitHub\\\\mocca\\\\notebooks\\\\cyanation_data\\\\09072021_sample_35.txt\", \"conversion\": 37.0, \"yield\": 24.0, \"unknown_3\": 0.0, \"unknown_3_rel_area\": 0.0, \"protected_cyanohydrin\": \"9c\", \"B/L\": \"DMAP/tBuXPhos\"}, {\"2-chlorotoluene\": 0.04285331911679588, \"o-tolunitrile\": 0.014640658672349167, \"tetralin\": 69877.28848000878, \"column\": \"9\", \"row\": \"3\", \"path\": \"C:\\\\Users\\\\GMJAZ\\\\OneDrive - Bayer\\\\Personal Data\\\\GitHub\\\\mocca\\\\notebooks\\\\cyanation_data\\\\09072021_sample_36.txt\", \"conversion\": 29.0, \"yield\": 24.0, \"unknown_3\": 0.0, \"unknown_3_rel_area\": 0.0, \"protected_cyanohydrin\": \"9c\", \"B/L\": \"DMAP/CM-Phos\"}, {\"2-chlorotoluene\": 0.04226593245759353, \"o-tolunitrile\": 0.0021064065822943624, \"tetralin\": 61433.98384464611, \"column\": \"10\", \"row\": \"3\", \"path\": \"C:\\\\Users\\\\GMJAZ\\\\OneDrive - Bayer\\\\Personal Data\\\\GitHub\\\\mocca\\\\notebooks\\\\cyanation_data\\\\09072021_sample_37.txt\", \"conversion\": 30.0, \"yield\": 4.0, \"unknown_3\": 0.0, \"unknown_3_rel_area\": 0.0, \"protected_cyanohydrin\": \"9c\", \"B/L\": \"DIPEA/XPhos\"}, {\"2-chlorotoluene\": 0.039008607557259066, \"o-tolunitrile\": 0.0, \"tetralin\": 66402.03678164848, \"column\": \"11\", \"row\": \"3\", \"path\": \"C:\\\\Users\\\\GMJAZ\\\\OneDrive - Bayer\\\\Personal Data\\\\GitHub\\\\mocca\\\\notebooks\\\\cyanation_data\\\\09072021_sample_38.txt\", \"conversion\": 35.0, \"yield\": 0.0, \"unknown_3\": 0.0, \"unknown_3_rel_area\": 0.0, \"protected_cyanohydrin\": \"9c\", \"B/L\": \"DIPEA/tBuXPhos\"}, {\"2-chlorotoluene\": 0.04086788157479485, \"o-tolunitrile\": 0.0020415938310930333, \"tetralin\": 128808.09890878962, \"column\": \"12\", \"row\": \"3\", \"path\": \"C:\\\\Users\\\\GMJAZ\\\\OneDrive - Bayer\\\\Personal Data\\\\GitHub\\\\mocca\\\\notebooks\\\\cyanation_data\\\\09072021_sample_39.txt\", \"conversion\": 32.0, \"yield\": 3.0, \"unknown_3\": 0.0, \"unknown_3_rel_area\": 0.0, \"protected_cyanohydrin\": \"9c\", \"B/L\": \"DIPEA/CM-Phos\"}, {\"2-chlorotoluene\": 0.059697207944674244, \"o-tolunitrile\": 0.0, \"tetralin\": 71229.54729339894, \"column\": \"1\", \"row\": \"4\", \"path\": \"C:\\\\Users\\\\GMJAZ\\\\OneDrive - Bayer\\\\Personal Data\\\\GitHub\\\\mocca\\\\notebooks\\\\cyanation_data\\\\09072021_sample_40.txt\", \"conversion\": 1.0, \"yield\": 0.0, \"unknown_3\": 323077.1965181292, \"unknown_3_rel_area\": 4.535718796405572, \"protected_cyanohydrin\": \"9d\", \"B/L\": \"DBU/XPhos\"}, {\"2-chlorotoluene\": 0.05717728357229288, \"o-tolunitrile\": 0.0, \"tetralin\": 70524.7597833834, \"column\": \"2\", \"row\": \"4\", \"path\": \"C:\\\\Users\\\\GMJAZ\\\\OneDrive - Bayer\\\\Personal Data\\\\GitHub\\\\mocca\\\\notebooks\\\\cyanation_data\\\\09072021_sample_41.txt\", \"conversion\": 5.0, \"yield\": 0.0, \"unknown_3\": 322542.620949323, \"unknown_3_rel_area\": 4.573466424274422, \"protected_cyanohydrin\": \"9d\", \"B/L\": \"DBU/tBuXPhos\"}, {\"2-chlorotoluene\": 0.06050100912237736, \"o-tolunitrile\": 0.0, \"tetralin\": 72202.82983487671, \"column\": \"3\", \"row\": \"4\", \"path\": \"C:\\\\Users\\\\GMJAZ\\\\OneDrive - Bayer\\\\Personal Data\\\\GitHub\\\\mocca\\\\notebooks\\\\cyanation_data\\\\09072021_sample_42.txt\", \"conversion\": -1.0, \"yield\": 0.0, \"unknown_3\": 349446.4299473963, \"unknown_3_rel_area\": 4.839788561564111, \"protected_cyanohydrin\": \"9d\", \"B/L\": \"DBU/CM-Phos\"}, {\"2-chlorotoluene\": 0.05828839985546799, \"o-tolunitrile\": 0.001535142530517761, \"tetralin\": 75997.21022725591, \"column\": \"4\", \"row\": \"4\", \"path\": \"C:\\\\Users\\\\GMJAZ\\\\OneDrive - Bayer\\\\Personal Data\\\\GitHub\\\\mocca\\\\notebooks\\\\cyanation_data\\\\09072021_sample_43.txt\", \"conversion\": 3.0, \"yield\": 3.0, \"unknown_3\": 347660.9761847106, \"unknown_3_rel_area\": 4.5746544530397015, \"protected_cyanohydrin\": \"9d\", \"B/L\": \"TMG/XPhos\"}, {\"2-chlorotoluene\": 0.0334255390877376, \"o-tolunitrile\": 0.026562399809441455, \"tetralin\": 66336.32058956007, \"column\": \"5\", \"row\": \"4\", \"path\": \"C:\\\\Users\\\\GMJAZ\\\\OneDrive - Bayer\\\\Personal Data\\\\GitHub\\\\mocca\\\\notebooks\\\\cyanation_data\\\\09072021_sample_44.txt\", \"conversion\": 44.0, \"yield\": 44.0, \"unknown_3\": 305057.5015782716, \"unknown_3_rel_area\": 4.598649712059569, \"protected_cyanohydrin\": \"9d\", \"B/L\": \"TMG/tBuXPhos\"}, {\"2-chlorotoluene\": 0.06194303731050967, \"o-tolunitrile\": 0.0, \"tetralin\": 67915.15997529187, \"column\": \"6\", \"row\": \"4\", \"path\": \"C:\\\\Users\\\\GMJAZ\\\\OneDrive - Bayer\\\\Personal Data\\\\GitHub\\\\mocca\\\\notebooks\\\\cyanation_data\\\\09072021_sample_45.txt\", \"conversion\": -3.0, \"yield\": 0.0, \"unknown_3\": 323734.10287706234, \"unknown_3_rel_area\": 4.766742844967745, \"protected_cyanohydrin\": \"9d\", \"B/L\": \"TMG/CM-Phos\"}, {\"2-chlorotoluene\": 0.011620584294567634, \"o-tolunitrile\": 0.051477669557946096, \"tetralin\": 69006.80965428997, \"column\": \"7\", \"row\": \"4\", \"path\": \"C:\\\\Users\\\\GMJAZ\\\\OneDrive - Bayer\\\\Personal Data\\\\GitHub\\\\mocca\\\\notebooks\\\\cyanation_data\\\\09072021_sample_46.txt\", \"conversion\": 81.0, \"yield\": 86.0, \"unknown_3\": 258344.73459886143, \"unknown_3_rel_area\": 3.7437571145965998, \"protected_cyanohydrin\": \"9d\", \"B/L\": \"DMAP/XPhos\"}, {\"2-chlorotoluene\": 0.03390097561616126, \"o-tolunitrile\": 0.023266085379881, \"tetralin\": 64584.549152045365, \"column\": \"8\", \"row\": \"4\", \"path\": \"C:\\\\Users\\\\GMJAZ\\\\OneDrive - Bayer\\\\Personal Data\\\\GitHub\\\\mocca\\\\notebooks\\\\cyanation_data\\\\09072021_sample_47.txt\", \"conversion\": 43.0, \"yield\": 39.0, \"unknown_3\": 248158.4218874123, \"unknown_3_rel_area\": 3.8423806490186396, \"protected_cyanohydrin\": \"9d\", \"B/L\": \"DMAP/tBuXPhos\"}, {\"2-chlorotoluene\": 0.041068066229369676, \"o-tolunitrile\": 0.008536320236125893, \"tetralin\": 103578.21361723189, \"column\": \"9\", \"row\": \"4\", \"path\": \"C:\\\\Users\\\\GMJAZ\\\\OneDrive - Bayer\\\\Personal Data\\\\GitHub\\\\mocca\\\\notebooks\\\\cyanation_data\\\\09072021_sample_48.txt\", \"conversion\": 32.0, \"yield\": 14.0, \"unknown_3\": 567638.8352665902, \"unknown_3_rel_area\": 5.4802918050341285, \"protected_cyanohydrin\": \"9d\", \"B/L\": \"DMAP/CM-Phos\"}, {\"2-chlorotoluene\": 0.046282818904918574, \"o-tolunitrile\": 0.003171557710960857, \"tetralin\": 62523.76049509351, \"column\": \"10\", \"row\": \"4\", \"path\": \"C:\\\\Users\\\\GMJAZ\\\\OneDrive - Bayer\\\\Personal Data\\\\GitHub\\\\mocca\\\\notebooks\\\\cyanation_data\\\\09072021_sample_49.txt\", \"conversion\": 23.0, \"yield\": 5.0, \"unknown_3\": 14041.937290120455, \"unknown_3_rel_area\": 0.22458561639494448, \"protected_cyanohydrin\": \"9d\", \"B/L\": \"DIPEA/XPhos\"}, {\"2-chlorotoluene\": 0.04147626517418068, \"o-tolunitrile\": 0.0012997769718222463, \"tetralin\": 84069.46481338829, \"column\": \"11\", \"row\": \"4\", \"path\": \"C:\\\\Users\\\\GMJAZ\\\\OneDrive - Bayer\\\\Personal Data\\\\GitHub\\\\mocca\\\\notebooks\\\\cyanation_data\\\\09072021_sample_50.txt\", \"conversion\": 31.0, \"yield\": 2.0, \"unknown_3\": 18471.264743639313, \"unknown_3_rel_area\": 0.2197143134506753, \"protected_cyanohydrin\": \"9d\", \"B/L\": \"DIPEA/tBuXPhos\"}, {\"2-chlorotoluene\": 0.03295470213716266, \"o-tolunitrile\": 0.00448610640685689, \"tetralin\": 193672.01292475453, \"column\": \"12\", \"row\": \"4\", \"path\": \"C:\\\\Users\\\\GMJAZ\\\\OneDrive - Bayer\\\\Personal Data\\\\GitHub\\\\mocca\\\\notebooks\\\\cyanation_data\\\\09072021_sample_51.txt\", \"conversion\": 45.0, \"yield\": 7.0, \"unknown_3\": 0.0, \"unknown_3_rel_area\": 0.0, \"protected_cyanohydrin\": \"9d\", \"B/L\": \"DIPEA/CM-Phos\"}, {\"2-chlorotoluene\": 0.05771236826266763, \"o-tolunitrile\": 0.0, \"tetralin\": 63037.69797341379, \"column\": \"1\", \"row\": \"5\", \"path\": \"C:\\\\Users\\\\GMJAZ\\\\OneDrive - Bayer\\\\Personal Data\\\\GitHub\\\\mocca\\\\notebooks\\\\cyanation_data\\\\09072021_sample_52.txt\", \"conversion\": 4.0, \"yield\": 0.0, \"unknown_3\": 0.0, \"unknown_3_rel_area\": 0.0, \"protected_cyanohydrin\": \"9e\", \"B/L\": \"DBU/XPhos\"}, {\"2-chlorotoluene\": 0.059079672568717996, \"o-tolunitrile\": 0.0, \"tetralin\": 60392.55767601804, \"column\": \"2\", \"row\": \"5\", \"path\": \"C:\\\\Users\\\\GMJAZ\\\\OneDrive - Bayer\\\\Personal Data\\\\GitHub\\\\mocca\\\\notebooks\\\\cyanation_data\\\\09072021_sample_53.txt\", \"conversion\": 2.0, \"yield\": 0.0, \"unknown_3\": 0.0, \"unknown_3_rel_area\": 0.0, \"protected_cyanohydrin\": \"9e\", \"B/L\": \"DBU/tBuXPhos\"}, {\"2-chlorotoluene\": 0.061941971899223354, \"o-tolunitrile\": 0.0, \"tetralin\": 58868.04681451031, \"column\": \"3\", \"row\": \"5\", \"path\": \"C:\\\\Users\\\\GMJAZ\\\\OneDrive - Bayer\\\\Personal Data\\\\GitHub\\\\mocca\\\\notebooks\\\\cyanation_data\\\\09072021_sample_54.txt\", \"conversion\": -3.0, \"yield\": 0.0, \"unknown_3\": 0.0, \"unknown_3_rel_area\": 0.0, \"protected_cyanohydrin\": \"9e\", \"B/L\": \"DBU/CM-Phos\"}, {\"2-chlorotoluene\": 0.06001875612577537, \"o-tolunitrile\": 0.0, \"tetralin\": 66364.17471261743, \"column\": \"4\", \"row\": \"5\", \"path\": \"C:\\\\Users\\\\GMJAZ\\\\OneDrive - Bayer\\\\Personal Data\\\\GitHub\\\\mocca\\\\notebooks\\\\cyanation_data\\\\09072021_sample_55.txt\", \"conversion\": -0.0, \"yield\": 0.0, \"unknown_3\": 0.0, \"unknown_3_rel_area\": 0.0, \"protected_cyanohydrin\": \"9e\", \"B/L\": \"TMG/XPhos\"}, {\"2-chlorotoluene\": 0.05776003623437295, \"o-tolunitrile\": 0.0, \"tetralin\": 61673.56384576538, \"column\": \"5\", \"row\": \"5\", \"path\": \"C:\\\\Users\\\\GMJAZ\\\\OneDrive - Bayer\\\\Personal Data\\\\GitHub\\\\mocca\\\\notebooks\\\\cyanation_data\\\\09072021_sample_56.txt\", \"conversion\": 4.0, \"yield\": 0.0, \"unknown_3\": 0.0, \"unknown_3_rel_area\": 0.0, \"protected_cyanohydrin\": \"9e\", \"B/L\": \"TMG/tBuXPhos\"}, {\"2-chlorotoluene\": 0.061419202068993616, \"o-tolunitrile\": 0.0, \"tetralin\": 62692.865946221864, \"column\": \"6\", \"row\": \"5\", \"path\": \"C:\\\\Users\\\\GMJAZ\\\\OneDrive - Bayer\\\\Personal Data\\\\GitHub\\\\mocca\\\\notebooks\\\\cyanation_data\\\\09072021_sample_57.txt\", \"conversion\": -2.0, \"yield\": 0.0, \"unknown_3\": 0.0, \"unknown_3_rel_area\": 0.0, \"protected_cyanohydrin\": \"9e\", \"B/L\": \"TMG/CM-Phos\"}, {\"2-chlorotoluene\": 0.0, \"o-tolunitrile\": 0.05655369049237521, \"tetralin\": 66776.5092249577, \"column\": \"7\", \"row\": \"5\", \"path\": \"C:\\\\Users\\\\GMJAZ\\\\OneDrive - Bayer\\\\Personal Data\\\\GitHub\\\\mocca\\\\notebooks\\\\cyanation_data\\\\09072021_sample_58.txt\", \"conversion\": 100.0, \"yield\": 94.0, \"unknown_3\": 0.0, \"unknown_3_rel_area\": 0.0, \"protected_cyanohydrin\": \"9e\", \"B/L\": \"DMAP/XPhos\"}, {\"2-chlorotoluene\": 0.03160418442913549, \"o-tolunitrile\": 0.02676281131858151, \"tetralin\": 56944.05279422459, \"column\": \"8\", \"row\": \"5\", \"path\": \"C:\\\\Users\\\\GMJAZ\\\\OneDrive - Bayer\\\\Personal Data\\\\GitHub\\\\mocca\\\\notebooks\\\\cyanation_data\\\\09072021_sample_59.txt\", \"conversion\": 47.0, \"yield\": 45.0, \"unknown_3\": 0.0, \"unknown_3_rel_area\": 0.0, \"protected_cyanohydrin\": \"9e\", \"B/L\": \"DMAP/tBuXPhos\"}, {\"2-chlorotoluene\": 0.04980648082910547, \"o-tolunitrile\": 0.0018350250145804964, \"tetralin\": 78417.5429137388, \"column\": \"9\", \"row\": \"5\", \"path\": \"C:\\\\Users\\\\GMJAZ\\\\OneDrive - Bayer\\\\Personal Data\\\\GitHub\\\\mocca\\\\notebooks\\\\cyanation_data\\\\09072021_sample_60.txt\", \"conversion\": 17.0, \"yield\": 3.0, \"unknown_3\": 0.0, \"unknown_3_rel_area\": 0.0, \"protected_cyanohydrin\": \"9e\", \"B/L\": \"DMAP/CM-Phos\"}, {\"2-chlorotoluene\": 0.040870933740128325, \"o-tolunitrile\": 0.01010529055044618, \"tetralin\": 62425.89755425585, \"column\": \"10\", \"row\": \"5\", \"path\": \"C:\\\\Users\\\\GMJAZ\\\\OneDrive - Bayer\\\\Personal Data\\\\GitHub\\\\mocca\\\\notebooks\\\\cyanation_data\\\\09072021_sample_61.txt\", \"conversion\": 32.0, \"yield\": 17.0, \"unknown_3\": 0.0, \"unknown_3_rel_area\": 0.0, \"protected_cyanohydrin\": \"9e\", \"B/L\": \"DIPEA/XPhos\"}, {\"2-chlorotoluene\": 0.035576890299598825, \"o-tolunitrile\": 0.003315442345636769, \"tetralin\": 141836.50611895032, \"column\": \"11\", \"row\": \"5\", \"path\": \"C:\\\\Users\\\\GMJAZ\\\\OneDrive - Bayer\\\\Personal Data\\\\GitHub\\\\mocca\\\\notebooks\\\\cyanation_data\\\\09072021_sample_62.txt\", \"conversion\": 41.0, \"yield\": 6.0, \"unknown_3\": 0.0, \"unknown_3_rel_area\": 0.0, \"protected_cyanohydrin\": \"9e\", \"B/L\": \"DIPEA/tBuXPhos\"}, {\"2-chlorotoluene\": 0.03816477252804222, \"o-tolunitrile\": 0.01115724764095234, \"tetralin\": 93776.1625538738, \"column\": \"12\", \"row\": \"5\", \"path\": \"C:\\\\Users\\\\GMJAZ\\\\OneDrive - Bayer\\\\Personal Data\\\\GitHub\\\\mocca\\\\notebooks\\\\cyanation_data\\\\09072021_sample_63.txt\", \"conversion\": 36.0, \"yield\": 19.0, \"unknown_3\": 0.0, \"unknown_3_rel_area\": 0.0, \"protected_cyanohydrin\": \"9e\", \"B/L\": \"DIPEA/CM-Phos\"}, {\"2-chlorotoluene\": 0.04890588592815914, \"o-tolunitrile\": 0.010807273794382611, \"tetralin\": 59895.91016994033, \"column\": \"1\", \"row\": \"6\", \"path\": \"C:\\\\Users\\\\GMJAZ\\\\OneDrive - Bayer\\\\Personal Data\\\\GitHub\\\\mocca\\\\notebooks\\\\cyanation_data\\\\09072021_sample_64.txt\", \"conversion\": 18.0, \"yield\": 18.0, \"unknown_3\": 0.0, \"unknown_3_rel_area\": 0.0, \"protected_cyanohydrin\": \"9f\", \"B/L\": \"DBU/XPhos\"}, {\"2-chlorotoluene\": 0.05456034970688799, \"o-tolunitrile\": 0.0041059085679533815, \"tetralin\": 58754.1833968299, \"column\": \"2\", \"row\": \"6\", \"path\": \"C:\\\\Users\\\\GMJAZ\\\\OneDrive - Bayer\\\\Personal Data\\\\GitHub\\\\mocca\\\\notebooks\\\\cyanation_data\\\\09072021_sample_65.txt\", \"conversion\": 9.0, \"yield\": 7.0, \"unknown_3\": 0.0, \"unknown_3_rel_area\": 0.0, \"protected_cyanohydrin\": \"9f\", \"B/L\": \"DBU/tBuXPhos\"}, {\"2-chlorotoluene\": 0.05755377905120572, \"o-tolunitrile\": 0.0, \"tetralin\": 74145.82785408827, \"column\": \"3\", \"row\": \"6\", \"path\": \"C:\\\\Users\\\\GMJAZ\\\\OneDrive - Bayer\\\\Personal Data\\\\GitHub\\\\mocca\\\\notebooks\\\\cyanation_data\\\\09072021_sample_66.txt\", \"conversion\": 4.0, \"yield\": 0.0, \"unknown_3\": 0.0, \"unknown_3_rel_area\": 0.0, \"protected_cyanohydrin\": \"9f\", \"B/L\": \"DBU/CM-Phos\"}, {\"2-chlorotoluene\": 0.03009857905130956, \"o-tolunitrile\": 0.028175826706775577, \"tetralin\": 61031.06002432388, \"column\": \"4\", \"row\": \"6\", \"path\": \"C:\\\\Users\\\\GMJAZ\\\\OneDrive - Bayer\\\\Personal Data\\\\GitHub\\\\mocca\\\\notebooks\\\\cyanation_data\\\\09072021_sample_67.txt\", \"conversion\": 50.0, \"yield\": 47.0, \"unknown_3\": 0.0, \"unknown_3_rel_area\": 0.0, \"protected_cyanohydrin\": \"9f\", \"B/L\": \"TMG/XPhos\"}, {\"2-chlorotoluene\": 0.03938673124747946, \"o-tolunitrile\": 0.016172401741869683, \"tetralin\": 58166.014521212164, \"column\": \"5\", \"row\": \"6\", \"path\": \"C:\\\\Users\\\\GMJAZ\\\\OneDrive - Bayer\\\\Personal Data\\\\GitHub\\\\mocca\\\\notebooks\\\\cyanation_data\\\\09072021_sample_68.txt\", \"conversion\": 34.0, \"yield\": 27.0, \"unknown_3\": 0.0, \"unknown_3_rel_area\": 0.0, \"protected_cyanohydrin\": \"9f\", \"B/L\": \"TMG/tBuXPhos\"}, {\"2-chlorotoluene\": 0.0, \"o-tolunitrile\": 0.046536264005475496, \"tetralin\": 60860.49041997802, \"column\": \"6\", \"row\": \"6\", \"path\": \"C:\\\\Users\\\\GMJAZ\\\\OneDrive - Bayer\\\\Personal Data\\\\GitHub\\\\mocca\\\\notebooks\\\\cyanation_data\\\\09072021_sample_69.txt\", \"conversion\": 100.0, \"yield\": 78.0, \"unknown_3\": 0.0, \"unknown_3_rel_area\": 0.0, \"protected_cyanohydrin\": \"9f\", \"B/L\": \"TMG/CM-Phos\"}, {\"2-chlorotoluene\": 0.006587891256486512, \"o-tolunitrile\": 0.05461972380824671, \"tetralin\": 75875.03433263086, \"column\": \"7\", \"row\": \"6\", \"path\": \"C:\\\\Users\\\\GMJAZ\\\\OneDrive - Bayer\\\\Personal Data\\\\GitHub\\\\mocca\\\\notebooks\\\\cyanation_data\\\\09072021_sample_70.txt\", \"conversion\": 89.0, \"yield\": 91.0, \"unknown_3\": 0.0, \"unknown_3_rel_area\": 0.0, \"protected_cyanohydrin\": \"9f\", \"B/L\": \"DMAP/XPhos\"}, {\"2-chlorotoluene\": 0.01626971844925315, \"o-tolunitrile\": 0.03820683187303865, \"tetralin\": 109558.83501995128, \"column\": \"8\", \"row\": \"6\", \"path\": \"C:\\\\Users\\\\GMJAZ\\\\OneDrive - Bayer\\\\Personal Data\\\\GitHub\\\\mocca\\\\notebooks\\\\cyanation_data\\\\09072021_sample_71.txt\", \"conversion\": 73.0, \"yield\": 64.0, \"unknown_3\": 0.0, \"unknown_3_rel_area\": 0.0, \"protected_cyanohydrin\": \"9f\", \"B/L\": \"DMAP/tBuXPhos\"}, {\"2-chlorotoluene\": 0.05308612385377452, \"o-tolunitrile\": 0.002869994591536189, \"tetralin\": 71724.18914300625, \"column\": \"9\", \"row\": \"6\", \"path\": \"C:\\\\Users\\\\GMJAZ\\\\OneDrive - Bayer\\\\Personal Data\\\\GitHub\\\\mocca\\\\notebooks\\\\cyanation_data\\\\09072021_sample_72.txt\", \"conversion\": 12.0, \"yield\": 5.0, \"unknown_3\": 0.0, \"unknown_3_rel_area\": 0.0, \"protected_cyanohydrin\": \"9f\", \"B/L\": \"DMAP/CM-Phos\"}, {\"2-chlorotoluene\": 0.04155451553793272, \"o-tolunitrile\": 0.004775422082655075, \"tetralin\": 94513.55865654355, \"column\": \"10\", \"row\": \"6\", \"path\": \"C:\\\\Users\\\\GMJAZ\\\\OneDrive - Bayer\\\\Personal Data\\\\GitHub\\\\mocca\\\\notebooks\\\\cyanation_data\\\\09072021_sample_73.txt\", \"conversion\": 31.0, \"yield\": 8.0, \"unknown_3\": 0.0, \"unknown_3_rel_area\": 0.0, \"protected_cyanohydrin\": \"9f\", \"B/L\": \"DIPEA/XPhos\"}, {\"2-chlorotoluene\": 0.026893863064143386, \"o-tolunitrile\": 0.005280434895887375, \"tetralin\": 211134.34003621578, \"column\": \"11\", \"row\": \"6\", \"path\": \"C:\\\\Users\\\\GMJAZ\\\\OneDrive - Bayer\\\\Personal Data\\\\GitHub\\\\mocca\\\\notebooks\\\\cyanation_data\\\\09072021_sample_74.txt\", \"conversion\": 55.0, \"yield\": 9.0, \"unknown_3\": 0.0, \"unknown_3_rel_area\": 0.0, \"protected_cyanohydrin\": \"9f\", \"B/L\": \"DIPEA/tBuXPhos\"}, {\"2-chlorotoluene\": 0.041727952849607064, \"o-tolunitrile\": 0.006280350501006732, \"tetralin\": 61444.85201440612, \"column\": \"12\", \"row\": \"6\", \"path\": \"C:\\\\Users\\\\GMJAZ\\\\OneDrive - Bayer\\\\Personal Data\\\\GitHub\\\\mocca\\\\notebooks\\\\cyanation_data\\\\09072021_sample_75.txt\", \"conversion\": 30.0, \"yield\": 10.0, \"unknown_3\": 0.0, \"unknown_3_rel_area\": 0.0, \"protected_cyanohydrin\": \"9f\", \"B/L\": \"DIPEA/CM-Phos\"}, {\"2-chlorotoluene\": 0.057990406124966705, \"o-tolunitrile\": 0.0, \"tetralin\": 62260.56844421303, \"column\": \"1\", \"row\": \"7\", \"path\": \"C:\\\\Users\\\\GMJAZ\\\\OneDrive - Bayer\\\\Personal Data\\\\GitHub\\\\mocca\\\\notebooks\\\\cyanation_data\\\\09072021_sample_76.txt\", \"conversion\": 3.0, \"yield\": 0.0, \"unknown_3\": 0.0, \"unknown_3_rel_area\": 0.0, \"protected_cyanohydrin\": \"9g\", \"B/L\": \"DBU/XPhos\"}, {\"2-chlorotoluene\": 0.057247109082009855, \"o-tolunitrile\": 0.0, \"tetralin\": 86100.59284993478, \"column\": \"2\", \"row\": \"7\", \"path\": \"C:\\\\Users\\\\GMJAZ\\\\OneDrive - Bayer\\\\Personal Data\\\\GitHub\\\\mocca\\\\notebooks\\\\cyanation_data\\\\09072021_sample_77.txt\", \"conversion\": 5.0, \"yield\": 0.0, \"unknown_3\": 0.0, \"unknown_3_rel_area\": 0.0, \"protected_cyanohydrin\": \"9g\", \"B/L\": \"DBU/tBuXPhos\"}, {\"2-chlorotoluene\": 0.05609916849803624, \"o-tolunitrile\": 0.0, \"tetralin\": 75091.92182351317, \"column\": \"3\", \"row\": \"7\", \"path\": \"C:\\\\Users\\\\GMJAZ\\\\OneDrive - Bayer\\\\Personal Data\\\\GitHub\\\\mocca\\\\notebooks\\\\cyanation_data\\\\09072021_sample_78.txt\", \"conversion\": 7.0, \"yield\": 0.0, \"unknown_3\": 0.0, \"unknown_3_rel_area\": 0.0, \"protected_cyanohydrin\": \"9g\", \"B/L\": \"DBU/CM-Phos\"}, {\"2-chlorotoluene\": 0.05856968553156001, \"o-tolunitrile\": 0.0, \"tetralin\": 60722.43795806856, \"column\": \"4\", \"row\": \"7\", \"path\": \"C:\\\\Users\\\\GMJAZ\\\\OneDrive - Bayer\\\\Personal Data\\\\GitHub\\\\mocca\\\\notebooks\\\\cyanation_data\\\\09072021_sample_79.txt\", \"conversion\": 2.0, \"yield\": 0.0, \"unknown_3\": 0.0, \"unknown_3_rel_area\": 0.0, \"protected_cyanohydrin\": \"9g\", \"B/L\": \"TMG/XPhos\"}, {\"2-chlorotoluene\": 0.06207145659160528, \"o-tolunitrile\": 0.0, \"tetralin\": 56150.907451540814, \"column\": \"5\", \"row\": \"7\", \"path\": \"C:\\\\Users\\\\GMJAZ\\\\OneDrive - Bayer\\\\Personal Data\\\\GitHub\\\\mocca\\\\notebooks\\\\cyanation_data\\\\09072021_sample_80.txt\", \"conversion\": -3.0, \"yield\": 0.0, \"unknown_3\": 0.0, \"unknown_3_rel_area\": 0.0, \"protected_cyanohydrin\": \"9g\", \"B/L\": \"TMG/tBuXPhos\"}, {\"2-chlorotoluene\": 0.06184511479289285, \"o-tolunitrile\": 0.0, \"tetralin\": 63086.115812956734, \"column\": \"6\", \"row\": \"7\", \"path\": \"C:\\\\Users\\\\GMJAZ\\\\OneDrive - Bayer\\\\Personal Data\\\\GitHub\\\\mocca\\\\notebooks\\\\cyanation_data\\\\09072021_sample_81.txt\", \"conversion\": -3.0, \"yield\": 0.0, \"unknown_3\": 0.0, \"unknown_3_rel_area\": 0.0, \"protected_cyanohydrin\": \"9g\", \"B/L\": \"TMG/CM-Phos\"}, {\"2-chlorotoluene\": 0.051784463898701893, \"o-tolunitrile\": 0.0, \"tetralin\": 137799.63157887413, \"column\": \"7\", \"row\": \"7\", \"path\": \"C:\\\\Users\\\\GMJAZ\\\\OneDrive - Bayer\\\\Personal Data\\\\GitHub\\\\mocca\\\\notebooks\\\\cyanation_data\\\\09072021_sample_82.txt\", \"conversion\": 14.0, \"yield\": 0.0, \"unknown_3\": 0.0, \"unknown_3_rel_area\": 0.0, \"protected_cyanohydrin\": \"9g\", \"B/L\": \"DMAP/XPhos\"}, {\"2-chlorotoluene\": 0.059307068362115765, \"o-tolunitrile\": 0.0, \"tetralin\": 68115.13832626863, \"column\": \"8\", \"row\": \"7\", \"path\": \"C:\\\\Users\\\\GMJAZ\\\\OneDrive - Bayer\\\\Personal Data\\\\GitHub\\\\mocca\\\\notebooks\\\\cyanation_data\\\\09072021_sample_83.txt\", \"conversion\": 1.0, \"yield\": 0.0, \"unknown_3\": 0.0, \"unknown_3_rel_area\": 0.0, \"protected_cyanohydrin\": \"9g\", \"B/L\": \"DMAP/tBuXPhos\"}, {\"2-chlorotoluene\": 0.059044126094737394, \"o-tolunitrile\": 0.0, \"tetralin\": 77373.68472249235, \"column\": \"9\", \"row\": \"7\", \"path\": \"C:\\\\Users\\\\GMJAZ\\\\OneDrive - Bayer\\\\Personal Data\\\\GitHub\\\\mocca\\\\notebooks\\\\cyanation_data\\\\09072021_sample_84.txt\", \"conversion\": 2.0, \"yield\": 0.0, \"unknown_3\": 0.0, \"unknown_3_rel_area\": 0.0, \"protected_cyanohydrin\": \"9g\", \"B/L\": \"DMAP/CM-Phos\"}, {\"2-chlorotoluene\": 0.04445310093721335, \"o-tolunitrile\": 0.0, \"tetralin\": 162296.59445635474, \"column\": \"10\", \"row\": \"7\", \"path\": \"C:\\\\Users\\\\GMJAZ\\\\OneDrive - Bayer\\\\Personal Data\\\\GitHub\\\\mocca\\\\notebooks\\\\cyanation_data\\\\09072021_sample_85.txt\", \"conversion\": 26.0, \"yield\": 0.0, \"unknown_3\": 0.0, \"unknown_3_rel_area\": 0.0, \"protected_cyanohydrin\": \"9g\", \"B/L\": \"DIPEA/XPhos\"}, {\"2-chlorotoluene\": 0.05263449004550709, \"o-tolunitrile\": 0.0, \"tetralin\": 64807.09811592598, \"column\": \"11\", \"row\": \"7\", \"path\": \"C:\\\\Users\\\\GMJAZ\\\\OneDrive - Bayer\\\\Personal Data\\\\GitHub\\\\mocca\\\\notebooks\\\\cyanation_data\\\\09072021_sample_86.txt\", \"conversion\": 12.0, \"yield\": 0.0, \"unknown_3\": 0.0, \"unknown_3_rel_area\": 0.0, \"protected_cyanohydrin\": \"9g\", \"B/L\": \"DIPEA/tBuXPhos\"}, {\"2-chlorotoluene\": 0.05838624161391528, \"o-tolunitrile\": 0.0, \"tetralin\": 75707.96040323588, \"column\": \"12\", \"row\": \"7\", \"path\": \"C:\\\\Users\\\\GMJAZ\\\\OneDrive - Bayer\\\\Personal Data\\\\GitHub\\\\mocca\\\\notebooks\\\\cyanation_data\\\\09072021_sample_87.txt\", \"conversion\": 3.0, \"yield\": 0.0, \"unknown_3\": 0.0, \"unknown_3_rel_area\": 0.0, \"protected_cyanohydrin\": \"9g\", \"B/L\": \"DIPEA/CM-Phos\"}]}}, {\"mode\": \"vega-lite\"});\n",
       "</script>"
      ],
      "text/plain": [
       "alt.Chart(...)"
      ]
     },
     "metadata": {},
     "output_type": "display_data"
    }
   ],
   "source": [
    "heatmap = alt.Chart(results_rounded, title = 'Conversion').mark_rect().encode(\n",
    "            x=alt.X('B/L', sort=row_order, axis=alt.Axis(title=None)),\n",
    "            y=alt.Y('protected_cyanohydrin', axis=alt.Axis(title=None)),\n",
    "            color=alt.Color('conversion', title=\"Conversion (%)\", scale=alt.Scale(domain=['0','100'], scheme='viridis', reverse=True))\n",
    "            )\n",
    "text = alt.Chart(results_rounded, title = 'Conversion').mark_text().encode(\n",
    "            x=alt.X('B/L', sort=row_order),\n",
    "            y=alt.Y('protected_cyanohydrin'),\n",
    "            text='conversion'\n",
    "            )\n",
    "\n",
    "display(heatmap)"
   ]
  },
  {
   "cell_type": "markdown",
   "id": "be9661c6-74af-4c00-a890-925c43acbb87",
   "metadata": {},
   "source": [
    "The relative intensity of compound 'unknown_3' is plotted as a heatmap."
   ]
  },
  {
   "cell_type": "code",
   "execution_count": 31,
   "id": "84b19c9d-4648-4481-801d-c4c8f9ae2bcd",
   "metadata": {},
   "outputs": [
    {
     "data": {
      "text/html": [
       "\n",
       "<div id=\"altair-viz-a9ea8c4fc5504c53bbffebce1415e83e\"></div>\n",
       "<script type=\"text/javascript\">\n",
       "  var VEGA_DEBUG = (typeof VEGA_DEBUG == \"undefined\") ? {} : VEGA_DEBUG;\n",
       "  (function(spec, embedOpt){\n",
       "    let outputDiv = document.currentScript.previousElementSibling;\n",
       "    if (outputDiv.id !== \"altair-viz-a9ea8c4fc5504c53bbffebce1415e83e\") {\n",
       "      outputDiv = document.getElementById(\"altair-viz-a9ea8c4fc5504c53bbffebce1415e83e\");\n",
       "    }\n",
       "    const paths = {\n",
       "      \"vega\": \"https://cdn.jsdelivr.net/npm//vega@5?noext\",\n",
       "      \"vega-lib\": \"https://cdn.jsdelivr.net/npm//vega-lib?noext\",\n",
       "      \"vega-lite\": \"https://cdn.jsdelivr.net/npm//vega-lite@4.17.0?noext\",\n",
       "      \"vega-embed\": \"https://cdn.jsdelivr.net/npm//vega-embed@6?noext\",\n",
       "    };\n",
       "\n",
       "    function maybeLoadScript(lib, version) {\n",
       "      var key = `${lib.replace(\"-\", \"\")}_version`;\n",
       "      return (VEGA_DEBUG[key] == version) ?\n",
       "        Promise.resolve(paths[lib]) :\n",
       "        new Promise(function(resolve, reject) {\n",
       "          var s = document.createElement('script');\n",
       "          document.getElementsByTagName(\"head\")[0].appendChild(s);\n",
       "          s.async = true;\n",
       "          s.onload = () => {\n",
       "            VEGA_DEBUG[key] = version;\n",
       "            return resolve(paths[lib]);\n",
       "          };\n",
       "          s.onerror = () => reject(`Error loading script: ${paths[lib]}`);\n",
       "          s.src = paths[lib];\n",
       "        });\n",
       "    }\n",
       "\n",
       "    function showError(err) {\n",
       "      outputDiv.innerHTML = `<div class=\"error\" style=\"color:red;\">${err}</div>`;\n",
       "      throw err;\n",
       "    }\n",
       "\n",
       "    function displayChart(vegaEmbed) {\n",
       "      vegaEmbed(outputDiv, spec, embedOpt)\n",
       "        .catch(err => showError(`Javascript Error: ${err.message}<br>This usually means there's a typo in your chart specification. See the javascript console for the full traceback.`));\n",
       "    }\n",
       "\n",
       "    if(typeof define === \"function\" && define.amd) {\n",
       "      requirejs.config({paths});\n",
       "      require([\"vega-embed\"], displayChart, err => showError(`Error loading script: ${err.message}`));\n",
       "    } else {\n",
       "      maybeLoadScript(\"vega\", \"5\")\n",
       "        .then(() => maybeLoadScript(\"vega-lite\", \"4.17.0\"))\n",
       "        .then(() => maybeLoadScript(\"vega-embed\", \"6\"))\n",
       "        .catch(showError)\n",
       "        .then(() => displayChart(vegaEmbed));\n",
       "    }\n",
       "  })({\"config\": {\"view\": {\"continuousWidth\": 400, \"continuousHeight\": 300}}, \"data\": {\"name\": \"data-e7378bb00550fa3028354aca50b49605\"}, \"mark\": \"rect\", \"encoding\": {\"color\": {\"field\": \"unknown_3_rel_area\", \"scale\": {\"reverse\": true, \"scheme\": \"viridis\"}, \"title\": \"rel. integral\", \"type\": \"quantitative\"}, \"x\": {\"axis\": {\"title\": null}, \"field\": \"B/L\", \"sort\": [\"1\", \"2\", \"3\", \"4\", \"5\", \"6\", \"7\", \"8\", \"9\", \"10\", \"11\", \"12\"], \"type\": \"nominal\"}, \"y\": {\"axis\": {\"title\": null}, \"field\": \"protected_cyanohydrin\", \"type\": \"nominal\"}}, \"title\": \"Unknown_3\", \"$schema\": \"https://vega.github.io/schema/vega-lite/v4.17.0.json\", \"datasets\": {\"data-e7378bb00550fa3028354aca50b49605\": [{\"2-chlorotoluene\": 0.031222044401549357, \"o-tolunitrile\": 0.02615180674037904, \"tetralin\": 72908.48300245198, \"column\": \"1\", \"row\": \"1\", \"path\": \"C:\\\\Users\\\\GMJAZ\\\\OneDrive - Bayer\\\\Personal Data\\\\GitHub\\\\mocca\\\\notebooks\\\\cyanation_data\\\\09072021_sample_4.txt\", \"conversion\": 48.0, \"yield\": 44.0, \"unknown_3\": 339527.4247584856, \"unknown_3_rel_area\": 4.656898769201754, \"protected_cyanohydrin\": \"9a\", \"B/L\": \"DBU/XPhos\"}, {\"2-chlorotoluene\": 0.053005385570275954, \"o-tolunitrile\": 0.003441140762395776, \"tetralin\": 69100.48702280143, \"column\": \"2\", \"row\": \"1\", \"path\": \"C:\\\\Users\\\\GMJAZ\\\\OneDrive - Bayer\\\\Personal Data\\\\GitHub\\\\mocca\\\\notebooks\\\\cyanation_data\\\\09072021_sample_5.txt\", \"conversion\": 12.0, \"yield\": 6.0, \"unknown_3\": 301732.9371442825, \"unknown_3_rel_area\": 4.366581917790509, \"protected_cyanohydrin\": \"9a\", \"B/L\": \"DBU/tBuXPhos\"}, {\"2-chlorotoluene\": 0.05618883703160557, \"o-tolunitrile\": 0.0, \"tetralin\": 66686.72326784542, \"column\": \"3\", \"row\": \"1\", \"path\": \"C:\\\\Users\\\\GMJAZ\\\\OneDrive - Bayer\\\\Personal Data\\\\GitHub\\\\mocca\\\\notebooks\\\\cyanation_data\\\\09072021_sample_6.txt\", \"conversion\": 6.0, \"yield\": 0.0, \"unknown_3\": 288470.9858840946, \"unknown_3_rel_area\": 4.32576338659584, \"protected_cyanohydrin\": \"9a\", \"B/L\": \"DBU/CM-Phos\"}, {\"2-chlorotoluene\": 0.0, \"o-tolunitrile\": 0.04074287568051037, \"tetralin\": 72699.5195762603, \"column\": \"4\", \"row\": \"1\", \"path\": \"C:\\\\Users\\\\GMJAZ\\\\OneDrive - Bayer\\\\Personal Data\\\\GitHub\\\\mocca\\\\notebooks\\\\cyanation_data\\\\09072021_sample_7.txt\", \"conversion\": 100.0, \"yield\": 68.0, \"unknown_3\": 279534.9684648997, \"unknown_3_rel_area\": 3.84507311869748, \"protected_cyanohydrin\": \"9a\", \"B/L\": \"TMG/XPhos\"}, {\"2-chlorotoluene\": 0.0, \"o-tolunitrile\": 0.029074879703950018, \"tetralin\": 66779.20798870159, \"column\": \"5\", \"row\": \"1\", \"path\": \"C:\\\\Users\\\\GMJAZ\\\\OneDrive - Bayer\\\\Personal Data\\\\GitHub\\\\mocca\\\\notebooks\\\\cyanation_data\\\\09072021_sample_8.txt\", \"conversion\": 100.0, \"yield\": 48.0, \"unknown_3\": 246759.2461374154, \"unknown_3_rel_area\": 3.6951508346604642, \"protected_cyanohydrin\": \"9a\", \"B/L\": \"TMG/tBuXPhos\"}, {\"2-chlorotoluene\": 0.0, \"o-tolunitrile\": 0.049783821521182575, \"tetralin\": 75273.91454726167, \"column\": \"6\", \"row\": \"1\", \"path\": \"C:\\\\Users\\\\GMJAZ\\\\OneDrive - Bayer\\\\Personal Data\\\\GitHub\\\\mocca\\\\notebooks\\\\cyanation_data\\\\09072021_sample_9.txt\", \"conversion\": 100.0, \"yield\": 83.0, \"unknown_3\": 320432.74625378003, \"unknown_3_rel_area\": 4.256889630106753, \"protected_cyanohydrin\": \"9a\", \"B/L\": \"TMG/CM-Phos\"}, {\"2-chlorotoluene\": 0.04002737046128323, \"o-tolunitrile\": 0.00933507615929009, \"tetralin\": 93317.22402111009, \"column\": \"7\", \"row\": \"1\", \"path\": \"C:\\\\Users\\\\GMJAZ\\\\OneDrive - Bayer\\\\Personal Data\\\\GitHub\\\\mocca\\\\notebooks\\\\cyanation_data\\\\09072021_sample_10.txt\", \"conversion\": 33.0, \"yield\": 16.0, \"unknown_3\": 89183.69330779479, \"unknown_3_rel_area\": 0.9557045255398916, \"protected_cyanohydrin\": \"9a\", \"B/L\": \"DMAP/XPhos\"}, {\"2-chlorotoluene\": 0.049635690430681986, \"o-tolunitrile\": 0.004024977336245024, \"tetralin\": 59195.52127651789, \"column\": \"8\", \"row\": \"1\", \"path\": \"C:\\\\Users\\\\GMJAZ\\\\OneDrive - Bayer\\\\Personal Data\\\\GitHub\\\\mocca\\\\notebooks\\\\cyanation_data\\\\09072021_sample_11.txt\", \"conversion\": 17.0, \"yield\": 7.0, \"unknown_3\": 40679.939377938164, \"unknown_3_rel_area\": 0.6872131286404497, \"protected_cyanohydrin\": \"9a\", \"B/L\": \"DMAP/tBuXPhos\"}, {\"2-chlorotoluene\": 0.046798093102762686, \"o-tolunitrile\": 0.008247484016697193, \"tetralin\": 65566.6761291689, \"column\": \"9\", \"row\": \"1\", \"path\": \"C:\\\\Users\\\\GMJAZ\\\\OneDrive - Bayer\\\\Personal Data\\\\GitHub\\\\mocca\\\\notebooks\\\\cyanation_data\\\\09072021_sample_12.txt\", \"conversion\": 22.0, \"yield\": 14.0, \"unknown_3\": 60155.4481507961, \"unknown_3_rel_area\": 0.9174698444723282, \"protected_cyanohydrin\": \"9a\", \"B/L\": \"DMAP/CM-Phos\"}, {\"2-chlorotoluene\": 0.04789884661412886, \"o-tolunitrile\": 0.0, \"tetralin\": 64291.85538552576, \"column\": \"10\", \"row\": \"1\", \"path\": \"C:\\\\Users\\\\GMJAZ\\\\OneDrive - Bayer\\\\Personal Data\\\\GitHub\\\\mocca\\\\notebooks\\\\cyanation_data\\\\09072021_sample_13.txt\", \"conversion\": 20.0, \"yield\": 0.0, \"unknown_3\": 0.0, \"unknown_3_rel_area\": 0.0, \"protected_cyanohydrin\": \"9a\", \"B/L\": \"DIPEA/XPhos\"}, {\"2-chlorotoluene\": 0.046282643842023005, \"o-tolunitrile\": 0.0, \"tetralin\": 62540.358042031534, \"column\": \"11\", \"row\": \"1\", \"path\": \"C:\\\\Users\\\\GMJAZ\\\\OneDrive - Bayer\\\\Personal Data\\\\GitHub\\\\mocca\\\\notebooks\\\\cyanation_data\\\\09072021_sample_14.txt\", \"conversion\": 23.0, \"yield\": 0.0, \"unknown_3\": 0.0, \"unknown_3_rel_area\": 0.0, \"protected_cyanohydrin\": \"9a\", \"B/L\": \"DIPEA/tBuXPhos\"}, {\"2-chlorotoluene\": 0.04832480295751396, \"o-tolunitrile\": 0.0, \"tetralin\": 60386.57165296772, \"column\": \"12\", \"row\": \"1\", \"path\": \"C:\\\\Users\\\\GMJAZ\\\\OneDrive - Bayer\\\\Personal Data\\\\GitHub\\\\mocca\\\\notebooks\\\\cyanation_data\\\\09072021_sample_15.txt\", \"conversion\": 19.0, \"yield\": 0.0, \"unknown_3\": 0.0, \"unknown_3_rel_area\": 0.0, \"protected_cyanohydrin\": \"9a\", \"B/L\": \"DIPEA/CM-Phos\"}, {\"2-chlorotoluene\": 0.05889509398245472, \"o-tolunitrile\": 0.0, \"tetralin\": 69097.69897928412, \"column\": \"1\", \"row\": \"2\", \"path\": \"C:\\\\Users\\\\GMJAZ\\\\OneDrive - Bayer\\\\Personal Data\\\\GitHub\\\\mocca\\\\notebooks\\\\cyanation_data\\\\09072021_sample_16.txt\", \"conversion\": 2.0, \"yield\": 0.0, \"unknown_3\": 0.0, \"unknown_3_rel_area\": 0.0, \"protected_cyanohydrin\": \"9b\", \"B/L\": \"DBU/XPhos\"}, {\"2-chlorotoluene\": 0.05758844976780815, \"o-tolunitrile\": 0.0013894698047328324, \"tetralin\": 62911.60609981449, \"column\": \"2\", \"row\": \"2\", \"path\": \"C:\\\\Users\\\\GMJAZ\\\\OneDrive - Bayer\\\\Personal Data\\\\GitHub\\\\mocca\\\\notebooks\\\\cyanation_data\\\\09072021_sample_17.txt\", \"conversion\": 4.0, \"yield\": 2.0, \"unknown_3\": 0.0, \"unknown_3_rel_area\": 0.0, \"protected_cyanohydrin\": \"9b\", \"B/L\": \"DBU/tBuXPhos\"}, {\"2-chlorotoluene\": 0.057195283306061495, \"o-tolunitrile\": 0.0, \"tetralin\": 67542.44626026195, \"column\": \"3\", \"row\": \"2\", \"path\": \"C:\\\\Users\\\\GMJAZ\\\\OneDrive - Bayer\\\\Personal Data\\\\GitHub\\\\mocca\\\\notebooks\\\\cyanation_data\\\\09072021_sample_18.txt\", \"conversion\": 5.0, \"yield\": 0.0, \"unknown_3\": 0.0, \"unknown_3_rel_area\": 0.0, \"protected_cyanohydrin\": \"9b\", \"B/L\": \"DBU/CM-Phos\"}, {\"2-chlorotoluene\": 0.05577325989907692, \"o-tolunitrile\": 0.0012982587629004878, \"tetralin\": 67719.2415441231, \"column\": \"4\", \"row\": \"2\", \"path\": \"C:\\\\Users\\\\GMJAZ\\\\OneDrive - Bayer\\\\Personal Data\\\\GitHub\\\\mocca\\\\notebooks\\\\cyanation_data\\\\09072021_sample_19.txt\", \"conversion\": 7.0, \"yield\": 2.0, \"unknown_3\": 0.0, \"unknown_3_rel_area\": 0.0, \"protected_cyanohydrin\": \"9b\", \"B/L\": \"TMG/XPhos\"}, {\"2-chlorotoluene\": 0.056961519628552344, \"o-tolunitrile\": 0.0029155914874094044, \"tetralin\": 60568.34020039442, \"column\": \"5\", \"row\": \"2\", \"path\": \"C:\\\\Users\\\\GMJAZ\\\\OneDrive - Bayer\\\\Personal Data\\\\GitHub\\\\mocca\\\\notebooks\\\\cyanation_data\\\\09072021_sample_20.txt\", \"conversion\": 5.0, \"yield\": 5.0, \"unknown_3\": 0.0, \"unknown_3_rel_area\": 0.0, \"protected_cyanohydrin\": \"9b\", \"B/L\": \"TMG/tBuXPhos\"}, {\"2-chlorotoluene\": 0.06019710424290342, \"o-tolunitrile\": 0.0, \"tetralin\": 62220.01911171426, \"column\": \"6\", \"row\": \"2\", \"path\": \"C:\\\\Users\\\\GMJAZ\\\\OneDrive - Bayer\\\\Personal Data\\\\GitHub\\\\mocca\\\\notebooks\\\\cyanation_data\\\\09072021_sample_21.txt\", \"conversion\": -0.0, \"yield\": 0.0, \"unknown_3\": 0.0, \"unknown_3_rel_area\": 0.0, \"protected_cyanohydrin\": \"9b\", \"B/L\": \"TMG/CM-Phos\"}, {\"2-chlorotoluene\": 0.047912644710691524, \"o-tolunitrile\": 0.014378260362992702, \"tetralin\": 63779.636296845274, \"column\": \"7\", \"row\": \"2\", \"path\": \"C:\\\\Users\\\\GMJAZ\\\\OneDrive - Bayer\\\\Personal Data\\\\GitHub\\\\mocca\\\\notebooks\\\\cyanation_data\\\\09072021_sample_22.txt\", \"conversion\": 20.0, \"yield\": 24.0, \"unknown_3\": 0.0, \"unknown_3_rel_area\": 0.0, \"protected_cyanohydrin\": \"9b\", \"B/L\": \"DMAP/XPhos\"}, {\"2-chlorotoluene\": 0.049975216483868296, \"o-tolunitrile\": 0.006924979698530162, \"tetralin\": 59392.73443017864, \"column\": \"8\", \"row\": \"2\", \"path\": \"C:\\\\Users\\\\GMJAZ\\\\OneDrive - Bayer\\\\Personal Data\\\\GitHub\\\\mocca\\\\notebooks\\\\cyanation_data\\\\09072021_sample_23.txt\", \"conversion\": 17.0, \"yield\": 12.0, \"unknown_3\": 0.0, \"unknown_3_rel_area\": 0.0, \"protected_cyanohydrin\": \"9b\", \"B/L\": \"DMAP/tBuXPhos\"}, {\"2-chlorotoluene\": 0.04448981560697301, \"o-tolunitrile\": 0.012765034695486996, \"tetralin\": 60456.421830524814, \"column\": \"9\", \"row\": \"2\", \"path\": \"C:\\\\Users\\\\GMJAZ\\\\OneDrive - Bayer\\\\Personal Data\\\\GitHub\\\\mocca\\\\notebooks\\\\cyanation_data\\\\09072021_sample_24.txt\", \"conversion\": 26.0, \"yield\": 21.0, \"unknown_3\": 0.0, \"unknown_3_rel_area\": 0.0, \"protected_cyanohydrin\": \"9b\", \"B/L\": \"DMAP/CM-Phos\"}, {\"2-chlorotoluene\": 0.04360267008070112, \"o-tolunitrile\": 0.0033876317168035582, \"tetralin\": 64169.03175792633, \"column\": \"10\", \"row\": \"2\", \"path\": \"C:\\\\Users\\\\GMJAZ\\\\OneDrive - Bayer\\\\Personal Data\\\\GitHub\\\\mocca\\\\notebooks\\\\cyanation_data\\\\09072021_sample_25.txt\", \"conversion\": 27.0, \"yield\": 6.0, \"unknown_3\": 0.0, \"unknown_3_rel_area\": 0.0, \"protected_cyanohydrin\": \"9b\", \"B/L\": \"DIPEA/XPhos\"}, {\"2-chlorotoluene\": 0.038365099351470956, \"o-tolunitrile\": 0.0, \"tetralin\": 57692.560064140576, \"column\": \"11\", \"row\": \"2\", \"path\": \"C:\\\\Users\\\\GMJAZ\\\\OneDrive - Bayer\\\\Personal Data\\\\GitHub\\\\mocca\\\\notebooks\\\\cyanation_data\\\\09072021_sample_26.txt\", \"conversion\": 36.0, \"yield\": 0.0, \"unknown_3\": 0.0, \"unknown_3_rel_area\": 0.0, \"protected_cyanohydrin\": \"9b\", \"B/L\": \"DIPEA/tBuXPhos\"}, {\"2-chlorotoluene\": 0.04478004601050928, \"o-tolunitrile\": 0.0032517076394496794, \"tetralin\": 93689.07516231369, \"column\": \"12\", \"row\": \"2\", \"path\": \"C:\\\\Users\\\\GMJAZ\\\\OneDrive - Bayer\\\\Personal Data\\\\GitHub\\\\mocca\\\\notebooks\\\\cyanation_data\\\\09072021_sample_27.txt\", \"conversion\": 25.0, \"yield\": 5.0, \"unknown_3\": 0.0, \"unknown_3_rel_area\": 0.0, \"protected_cyanohydrin\": \"9b\", \"B/L\": \"DIPEA/CM-Phos\"}, {\"2-chlorotoluene\": 0.05682297181484578, \"o-tolunitrile\": 0.0, \"tetralin\": 67262.18522501495, \"column\": \"1\", \"row\": \"3\", \"path\": \"C:\\\\Users\\\\GMJAZ\\\\OneDrive - Bayer\\\\Personal Data\\\\GitHub\\\\mocca\\\\notebooks\\\\cyanation_data\\\\09072021_sample_28.txt\", \"conversion\": 5.0, \"yield\": 0.0, \"unknown_3\": 0.0, \"unknown_3_rel_area\": 0.0, \"protected_cyanohydrin\": \"9c\", \"B/L\": \"DBU/XPhos\"}, {\"2-chlorotoluene\": 0.05945752128162927, \"o-tolunitrile\": 0.0, \"tetralin\": 61798.34215238836, \"column\": \"2\", \"row\": \"3\", \"path\": \"C:\\\\Users\\\\GMJAZ\\\\OneDrive - Bayer\\\\Personal Data\\\\GitHub\\\\mocca\\\\notebooks\\\\cyanation_data\\\\09072021_sample_29.txt\", \"conversion\": 1.0, \"yield\": 0.0, \"unknown_3\": 0.0, \"unknown_3_rel_area\": 0.0, \"protected_cyanohydrin\": \"9c\", \"B/L\": \"DBU/tBuXPhos\"}, {\"2-chlorotoluene\": 0.06017340011664033, \"o-tolunitrile\": 0.0, \"tetralin\": 63307.90408809161, \"column\": \"3\", \"row\": \"3\", \"path\": \"C:\\\\Users\\\\GMJAZ\\\\OneDrive - Bayer\\\\Personal Data\\\\GitHub\\\\mocca\\\\notebooks\\\\cyanation_data\\\\09072021_sample_30.txt\", \"conversion\": -0.0, \"yield\": 0.0, \"unknown_3\": 0.0, \"unknown_3_rel_area\": 0.0, \"protected_cyanohydrin\": \"9c\", \"B/L\": \"DBU/CM-Phos\"}, {\"2-chlorotoluene\": 0.0, \"o-tolunitrile\": 0.055810630523077887, \"tetralin\": 64888.73803161184, \"column\": \"4\", \"row\": \"3\", \"path\": \"C:\\\\Users\\\\GMJAZ\\\\OneDrive - Bayer\\\\Personal Data\\\\GitHub\\\\mocca\\\\notebooks\\\\cyanation_data\\\\09072021_sample_31.txt\", \"conversion\": 100.0, \"yield\": 93.0, \"unknown_3\": 0.0, \"unknown_3_rel_area\": 0.0, \"protected_cyanohydrin\": \"9c\", \"B/L\": \"TMG/XPhos\"}, {\"2-chlorotoluene\": 0.0, \"o-tolunitrile\": 0.046933900116269675, \"tetralin\": 60002.25523414501, \"column\": \"5\", \"row\": \"3\", \"path\": \"C:\\\\Users\\\\GMJAZ\\\\OneDrive - Bayer\\\\Personal Data\\\\GitHub\\\\mocca\\\\notebooks\\\\cyanation_data\\\\09072021_sample_32.txt\", \"conversion\": 100.0, \"yield\": 78.0, \"unknown_3\": 0.0, \"unknown_3_rel_area\": 0.0, \"protected_cyanohydrin\": \"9c\", \"B/L\": \"TMG/tBuXPhos\"}, {\"2-chlorotoluene\": 0.0606092001040487, \"o-tolunitrile\": 0.0, \"tetralin\": 60043.34448076359, \"column\": \"6\", \"row\": \"3\", \"path\": \"C:\\\\Users\\\\GMJAZ\\\\OneDrive - Bayer\\\\Personal Data\\\\GitHub\\\\mocca\\\\notebooks\\\\cyanation_data\\\\09072021_sample_33.txt\", \"conversion\": -1.0, \"yield\": 0.0, \"unknown_3\": 0.0, \"unknown_3_rel_area\": 0.0, \"protected_cyanohydrin\": \"9c\", \"B/L\": \"TMG/CM-Phos\"}, {\"2-chlorotoluene\": 0.03306891085794966, \"o-tolunitrile\": 0.028314181471783946, \"tetralin\": 62280.9364059223, \"column\": \"7\", \"row\": \"3\", \"path\": \"C:\\\\Users\\\\GMJAZ\\\\OneDrive - Bayer\\\\Personal Data\\\\GitHub\\\\mocca\\\\notebooks\\\\cyanation_data\\\\09072021_sample_34.txt\", \"conversion\": 45.0, \"yield\": 47.0, \"unknown_3\": 0.0, \"unknown_3_rel_area\": 0.0, \"protected_cyanohydrin\": \"9c\", \"B/L\": \"DMAP/XPhos\"}, {\"2-chlorotoluene\": 0.03776867916275373, \"o-tolunitrile\": 0.014388983130855062, \"tetralin\": 58189.19345227587, \"column\": \"8\", \"row\": \"3\", \"path\": \"C:\\\\Users\\\\GMJAZ\\\\OneDrive - Bayer\\\\Personal Data\\\\GitHub\\\\mocca\\\\notebooks\\\\cyanation_data\\\\09072021_sample_35.txt\", \"conversion\": 37.0, \"yield\": 24.0, \"unknown_3\": 0.0, \"unknown_3_rel_area\": 0.0, \"protected_cyanohydrin\": \"9c\", \"B/L\": \"DMAP/tBuXPhos\"}, {\"2-chlorotoluene\": 0.04285331911679588, \"o-tolunitrile\": 0.014640658672349167, \"tetralin\": 69877.28848000878, \"column\": \"9\", \"row\": \"3\", \"path\": \"C:\\\\Users\\\\GMJAZ\\\\OneDrive - Bayer\\\\Personal Data\\\\GitHub\\\\mocca\\\\notebooks\\\\cyanation_data\\\\09072021_sample_36.txt\", \"conversion\": 29.0, \"yield\": 24.0, \"unknown_3\": 0.0, \"unknown_3_rel_area\": 0.0, \"protected_cyanohydrin\": \"9c\", \"B/L\": \"DMAP/CM-Phos\"}, {\"2-chlorotoluene\": 0.04226593245759353, \"o-tolunitrile\": 0.0021064065822943624, \"tetralin\": 61433.98384464611, \"column\": \"10\", \"row\": \"3\", \"path\": \"C:\\\\Users\\\\GMJAZ\\\\OneDrive - Bayer\\\\Personal Data\\\\GitHub\\\\mocca\\\\notebooks\\\\cyanation_data\\\\09072021_sample_37.txt\", \"conversion\": 30.0, \"yield\": 4.0, \"unknown_3\": 0.0, \"unknown_3_rel_area\": 0.0, \"protected_cyanohydrin\": \"9c\", \"B/L\": \"DIPEA/XPhos\"}, {\"2-chlorotoluene\": 0.039008607557259066, \"o-tolunitrile\": 0.0, \"tetralin\": 66402.03678164848, \"column\": \"11\", \"row\": \"3\", \"path\": \"C:\\\\Users\\\\GMJAZ\\\\OneDrive - Bayer\\\\Personal Data\\\\GitHub\\\\mocca\\\\notebooks\\\\cyanation_data\\\\09072021_sample_38.txt\", \"conversion\": 35.0, \"yield\": 0.0, \"unknown_3\": 0.0, \"unknown_3_rel_area\": 0.0, \"protected_cyanohydrin\": \"9c\", \"B/L\": \"DIPEA/tBuXPhos\"}, {\"2-chlorotoluene\": 0.04086788157479485, \"o-tolunitrile\": 0.0020415938310930333, \"tetralin\": 128808.09890878962, \"column\": \"12\", \"row\": \"3\", \"path\": \"C:\\\\Users\\\\GMJAZ\\\\OneDrive - Bayer\\\\Personal Data\\\\GitHub\\\\mocca\\\\notebooks\\\\cyanation_data\\\\09072021_sample_39.txt\", \"conversion\": 32.0, \"yield\": 3.0, \"unknown_3\": 0.0, \"unknown_3_rel_area\": 0.0, \"protected_cyanohydrin\": \"9c\", \"B/L\": \"DIPEA/CM-Phos\"}, {\"2-chlorotoluene\": 0.059697207944674244, \"o-tolunitrile\": 0.0, \"tetralin\": 71229.54729339894, \"column\": \"1\", \"row\": \"4\", \"path\": \"C:\\\\Users\\\\GMJAZ\\\\OneDrive - Bayer\\\\Personal Data\\\\GitHub\\\\mocca\\\\notebooks\\\\cyanation_data\\\\09072021_sample_40.txt\", \"conversion\": 1.0, \"yield\": 0.0, \"unknown_3\": 323077.1965181292, \"unknown_3_rel_area\": 4.535718796405572, \"protected_cyanohydrin\": \"9d\", \"B/L\": \"DBU/XPhos\"}, {\"2-chlorotoluene\": 0.05717728357229288, \"o-tolunitrile\": 0.0, \"tetralin\": 70524.7597833834, \"column\": \"2\", \"row\": \"4\", \"path\": \"C:\\\\Users\\\\GMJAZ\\\\OneDrive - Bayer\\\\Personal Data\\\\GitHub\\\\mocca\\\\notebooks\\\\cyanation_data\\\\09072021_sample_41.txt\", \"conversion\": 5.0, \"yield\": 0.0, \"unknown_3\": 322542.620949323, \"unknown_3_rel_area\": 4.573466424274422, \"protected_cyanohydrin\": \"9d\", \"B/L\": \"DBU/tBuXPhos\"}, {\"2-chlorotoluene\": 0.06050100912237736, \"o-tolunitrile\": 0.0, \"tetralin\": 72202.82983487671, \"column\": \"3\", \"row\": \"4\", \"path\": \"C:\\\\Users\\\\GMJAZ\\\\OneDrive - Bayer\\\\Personal Data\\\\GitHub\\\\mocca\\\\notebooks\\\\cyanation_data\\\\09072021_sample_42.txt\", \"conversion\": -1.0, \"yield\": 0.0, \"unknown_3\": 349446.4299473963, \"unknown_3_rel_area\": 4.839788561564111, \"protected_cyanohydrin\": \"9d\", \"B/L\": \"DBU/CM-Phos\"}, {\"2-chlorotoluene\": 0.05828839985546799, \"o-tolunitrile\": 0.001535142530517761, \"tetralin\": 75997.21022725591, \"column\": \"4\", \"row\": \"4\", \"path\": \"C:\\\\Users\\\\GMJAZ\\\\OneDrive - Bayer\\\\Personal Data\\\\GitHub\\\\mocca\\\\notebooks\\\\cyanation_data\\\\09072021_sample_43.txt\", \"conversion\": 3.0, \"yield\": 3.0, \"unknown_3\": 347660.9761847106, \"unknown_3_rel_area\": 4.5746544530397015, \"protected_cyanohydrin\": \"9d\", \"B/L\": \"TMG/XPhos\"}, {\"2-chlorotoluene\": 0.0334255390877376, \"o-tolunitrile\": 0.026562399809441455, \"tetralin\": 66336.32058956007, \"column\": \"5\", \"row\": \"4\", \"path\": \"C:\\\\Users\\\\GMJAZ\\\\OneDrive - Bayer\\\\Personal Data\\\\GitHub\\\\mocca\\\\notebooks\\\\cyanation_data\\\\09072021_sample_44.txt\", \"conversion\": 44.0, \"yield\": 44.0, \"unknown_3\": 305057.5015782716, \"unknown_3_rel_area\": 4.598649712059569, \"protected_cyanohydrin\": \"9d\", \"B/L\": \"TMG/tBuXPhos\"}, {\"2-chlorotoluene\": 0.06194303731050967, \"o-tolunitrile\": 0.0, \"tetralin\": 67915.15997529187, \"column\": \"6\", \"row\": \"4\", \"path\": \"C:\\\\Users\\\\GMJAZ\\\\OneDrive - Bayer\\\\Personal Data\\\\GitHub\\\\mocca\\\\notebooks\\\\cyanation_data\\\\09072021_sample_45.txt\", \"conversion\": -3.0, \"yield\": 0.0, \"unknown_3\": 323734.10287706234, \"unknown_3_rel_area\": 4.766742844967745, \"protected_cyanohydrin\": \"9d\", \"B/L\": \"TMG/CM-Phos\"}, {\"2-chlorotoluene\": 0.011620584294567634, \"o-tolunitrile\": 0.051477669557946096, \"tetralin\": 69006.80965428997, \"column\": \"7\", \"row\": \"4\", \"path\": \"C:\\\\Users\\\\GMJAZ\\\\OneDrive - Bayer\\\\Personal Data\\\\GitHub\\\\mocca\\\\notebooks\\\\cyanation_data\\\\09072021_sample_46.txt\", \"conversion\": 81.0, \"yield\": 86.0, \"unknown_3\": 258344.73459886143, \"unknown_3_rel_area\": 3.7437571145965998, \"protected_cyanohydrin\": \"9d\", \"B/L\": \"DMAP/XPhos\"}, {\"2-chlorotoluene\": 0.03390097561616126, \"o-tolunitrile\": 0.023266085379881, \"tetralin\": 64584.549152045365, \"column\": \"8\", \"row\": \"4\", \"path\": \"C:\\\\Users\\\\GMJAZ\\\\OneDrive - Bayer\\\\Personal Data\\\\GitHub\\\\mocca\\\\notebooks\\\\cyanation_data\\\\09072021_sample_47.txt\", \"conversion\": 43.0, \"yield\": 39.0, \"unknown_3\": 248158.4218874123, \"unknown_3_rel_area\": 3.8423806490186396, \"protected_cyanohydrin\": \"9d\", \"B/L\": \"DMAP/tBuXPhos\"}, {\"2-chlorotoluene\": 0.041068066229369676, \"o-tolunitrile\": 0.008536320236125893, \"tetralin\": 103578.21361723189, \"column\": \"9\", \"row\": \"4\", \"path\": \"C:\\\\Users\\\\GMJAZ\\\\OneDrive - Bayer\\\\Personal Data\\\\GitHub\\\\mocca\\\\notebooks\\\\cyanation_data\\\\09072021_sample_48.txt\", \"conversion\": 32.0, \"yield\": 14.0, \"unknown_3\": 567638.8352665902, \"unknown_3_rel_area\": 5.4802918050341285, \"protected_cyanohydrin\": \"9d\", \"B/L\": \"DMAP/CM-Phos\"}, {\"2-chlorotoluene\": 0.046282818904918574, \"o-tolunitrile\": 0.003171557710960857, \"tetralin\": 62523.76049509351, \"column\": \"10\", \"row\": \"4\", \"path\": \"C:\\\\Users\\\\GMJAZ\\\\OneDrive - Bayer\\\\Personal Data\\\\GitHub\\\\mocca\\\\notebooks\\\\cyanation_data\\\\09072021_sample_49.txt\", \"conversion\": 23.0, \"yield\": 5.0, \"unknown_3\": 14041.937290120455, \"unknown_3_rel_area\": 0.22458561639494448, \"protected_cyanohydrin\": \"9d\", \"B/L\": \"DIPEA/XPhos\"}, {\"2-chlorotoluene\": 0.04147626517418068, \"o-tolunitrile\": 0.0012997769718222463, \"tetralin\": 84069.46481338829, \"column\": \"11\", \"row\": \"4\", \"path\": \"C:\\\\Users\\\\GMJAZ\\\\OneDrive - Bayer\\\\Personal Data\\\\GitHub\\\\mocca\\\\notebooks\\\\cyanation_data\\\\09072021_sample_50.txt\", \"conversion\": 31.0, \"yield\": 2.0, \"unknown_3\": 18471.264743639313, \"unknown_3_rel_area\": 0.2197143134506753, \"protected_cyanohydrin\": \"9d\", \"B/L\": \"DIPEA/tBuXPhos\"}, {\"2-chlorotoluene\": 0.03295470213716266, \"o-tolunitrile\": 0.00448610640685689, \"tetralin\": 193672.01292475453, \"column\": \"12\", \"row\": \"4\", \"path\": \"C:\\\\Users\\\\GMJAZ\\\\OneDrive - Bayer\\\\Personal Data\\\\GitHub\\\\mocca\\\\notebooks\\\\cyanation_data\\\\09072021_sample_51.txt\", \"conversion\": 45.0, \"yield\": 7.0, \"unknown_3\": 0.0, \"unknown_3_rel_area\": 0.0, \"protected_cyanohydrin\": \"9d\", \"B/L\": \"DIPEA/CM-Phos\"}, {\"2-chlorotoluene\": 0.05771236826266763, \"o-tolunitrile\": 0.0, \"tetralin\": 63037.69797341379, \"column\": \"1\", \"row\": \"5\", \"path\": \"C:\\\\Users\\\\GMJAZ\\\\OneDrive - Bayer\\\\Personal Data\\\\GitHub\\\\mocca\\\\notebooks\\\\cyanation_data\\\\09072021_sample_52.txt\", \"conversion\": 4.0, \"yield\": 0.0, \"unknown_3\": 0.0, \"unknown_3_rel_area\": 0.0, \"protected_cyanohydrin\": \"9e\", \"B/L\": \"DBU/XPhos\"}, {\"2-chlorotoluene\": 0.059079672568717996, \"o-tolunitrile\": 0.0, \"tetralin\": 60392.55767601804, \"column\": \"2\", \"row\": \"5\", \"path\": \"C:\\\\Users\\\\GMJAZ\\\\OneDrive - Bayer\\\\Personal Data\\\\GitHub\\\\mocca\\\\notebooks\\\\cyanation_data\\\\09072021_sample_53.txt\", \"conversion\": 2.0, \"yield\": 0.0, \"unknown_3\": 0.0, \"unknown_3_rel_area\": 0.0, \"protected_cyanohydrin\": \"9e\", \"B/L\": \"DBU/tBuXPhos\"}, {\"2-chlorotoluene\": 0.061941971899223354, \"o-tolunitrile\": 0.0, \"tetralin\": 58868.04681451031, \"column\": \"3\", \"row\": \"5\", \"path\": \"C:\\\\Users\\\\GMJAZ\\\\OneDrive - Bayer\\\\Personal Data\\\\GitHub\\\\mocca\\\\notebooks\\\\cyanation_data\\\\09072021_sample_54.txt\", \"conversion\": -3.0, \"yield\": 0.0, \"unknown_3\": 0.0, \"unknown_3_rel_area\": 0.0, \"protected_cyanohydrin\": \"9e\", \"B/L\": \"DBU/CM-Phos\"}, {\"2-chlorotoluene\": 0.06001875612577537, \"o-tolunitrile\": 0.0, \"tetralin\": 66364.17471261743, \"column\": \"4\", \"row\": \"5\", \"path\": \"C:\\\\Users\\\\GMJAZ\\\\OneDrive - Bayer\\\\Personal Data\\\\GitHub\\\\mocca\\\\notebooks\\\\cyanation_data\\\\09072021_sample_55.txt\", \"conversion\": -0.0, \"yield\": 0.0, \"unknown_3\": 0.0, \"unknown_3_rel_area\": 0.0, \"protected_cyanohydrin\": \"9e\", \"B/L\": \"TMG/XPhos\"}, {\"2-chlorotoluene\": 0.05776003623437295, \"o-tolunitrile\": 0.0, \"tetralin\": 61673.56384576538, \"column\": \"5\", \"row\": \"5\", \"path\": \"C:\\\\Users\\\\GMJAZ\\\\OneDrive - Bayer\\\\Personal Data\\\\GitHub\\\\mocca\\\\notebooks\\\\cyanation_data\\\\09072021_sample_56.txt\", \"conversion\": 4.0, \"yield\": 0.0, \"unknown_3\": 0.0, \"unknown_3_rel_area\": 0.0, \"protected_cyanohydrin\": \"9e\", \"B/L\": \"TMG/tBuXPhos\"}, {\"2-chlorotoluene\": 0.061419202068993616, \"o-tolunitrile\": 0.0, \"tetralin\": 62692.865946221864, \"column\": \"6\", \"row\": \"5\", \"path\": \"C:\\\\Users\\\\GMJAZ\\\\OneDrive - Bayer\\\\Personal Data\\\\GitHub\\\\mocca\\\\notebooks\\\\cyanation_data\\\\09072021_sample_57.txt\", \"conversion\": -2.0, \"yield\": 0.0, \"unknown_3\": 0.0, \"unknown_3_rel_area\": 0.0, \"protected_cyanohydrin\": \"9e\", \"B/L\": \"TMG/CM-Phos\"}, {\"2-chlorotoluene\": 0.0, \"o-tolunitrile\": 0.05655369049237521, \"tetralin\": 66776.5092249577, \"column\": \"7\", \"row\": \"5\", \"path\": \"C:\\\\Users\\\\GMJAZ\\\\OneDrive - Bayer\\\\Personal Data\\\\GitHub\\\\mocca\\\\notebooks\\\\cyanation_data\\\\09072021_sample_58.txt\", \"conversion\": 100.0, \"yield\": 94.0, \"unknown_3\": 0.0, \"unknown_3_rel_area\": 0.0, \"protected_cyanohydrin\": \"9e\", \"B/L\": \"DMAP/XPhos\"}, {\"2-chlorotoluene\": 0.03160418442913549, \"o-tolunitrile\": 0.02676281131858151, \"tetralin\": 56944.05279422459, \"column\": \"8\", \"row\": \"5\", \"path\": \"C:\\\\Users\\\\GMJAZ\\\\OneDrive - Bayer\\\\Personal Data\\\\GitHub\\\\mocca\\\\notebooks\\\\cyanation_data\\\\09072021_sample_59.txt\", \"conversion\": 47.0, \"yield\": 45.0, \"unknown_3\": 0.0, \"unknown_3_rel_area\": 0.0, \"protected_cyanohydrin\": \"9e\", \"B/L\": \"DMAP/tBuXPhos\"}, {\"2-chlorotoluene\": 0.04980648082910547, \"o-tolunitrile\": 0.0018350250145804964, \"tetralin\": 78417.5429137388, \"column\": \"9\", \"row\": \"5\", \"path\": \"C:\\\\Users\\\\GMJAZ\\\\OneDrive - Bayer\\\\Personal Data\\\\GitHub\\\\mocca\\\\notebooks\\\\cyanation_data\\\\09072021_sample_60.txt\", \"conversion\": 17.0, \"yield\": 3.0, \"unknown_3\": 0.0, \"unknown_3_rel_area\": 0.0, \"protected_cyanohydrin\": \"9e\", \"B/L\": \"DMAP/CM-Phos\"}, {\"2-chlorotoluene\": 0.040870933740128325, \"o-tolunitrile\": 0.01010529055044618, \"tetralin\": 62425.89755425585, \"column\": \"10\", \"row\": \"5\", \"path\": \"C:\\\\Users\\\\GMJAZ\\\\OneDrive - Bayer\\\\Personal Data\\\\GitHub\\\\mocca\\\\notebooks\\\\cyanation_data\\\\09072021_sample_61.txt\", \"conversion\": 32.0, \"yield\": 17.0, \"unknown_3\": 0.0, \"unknown_3_rel_area\": 0.0, \"protected_cyanohydrin\": \"9e\", \"B/L\": \"DIPEA/XPhos\"}, {\"2-chlorotoluene\": 0.035576890299598825, \"o-tolunitrile\": 0.003315442345636769, \"tetralin\": 141836.50611895032, \"column\": \"11\", \"row\": \"5\", \"path\": \"C:\\\\Users\\\\GMJAZ\\\\OneDrive - Bayer\\\\Personal Data\\\\GitHub\\\\mocca\\\\notebooks\\\\cyanation_data\\\\09072021_sample_62.txt\", \"conversion\": 41.0, \"yield\": 6.0, \"unknown_3\": 0.0, \"unknown_3_rel_area\": 0.0, \"protected_cyanohydrin\": \"9e\", \"B/L\": \"DIPEA/tBuXPhos\"}, {\"2-chlorotoluene\": 0.03816477252804222, \"o-tolunitrile\": 0.01115724764095234, \"tetralin\": 93776.1625538738, \"column\": \"12\", \"row\": \"5\", \"path\": \"C:\\\\Users\\\\GMJAZ\\\\OneDrive - Bayer\\\\Personal Data\\\\GitHub\\\\mocca\\\\notebooks\\\\cyanation_data\\\\09072021_sample_63.txt\", \"conversion\": 36.0, \"yield\": 19.0, \"unknown_3\": 0.0, \"unknown_3_rel_area\": 0.0, \"protected_cyanohydrin\": \"9e\", \"B/L\": \"DIPEA/CM-Phos\"}, {\"2-chlorotoluene\": 0.04890588592815914, \"o-tolunitrile\": 0.010807273794382611, \"tetralin\": 59895.91016994033, \"column\": \"1\", \"row\": \"6\", \"path\": \"C:\\\\Users\\\\GMJAZ\\\\OneDrive - Bayer\\\\Personal Data\\\\GitHub\\\\mocca\\\\notebooks\\\\cyanation_data\\\\09072021_sample_64.txt\", \"conversion\": 18.0, \"yield\": 18.0, \"unknown_3\": 0.0, \"unknown_3_rel_area\": 0.0, \"protected_cyanohydrin\": \"9f\", \"B/L\": \"DBU/XPhos\"}, {\"2-chlorotoluene\": 0.05456034970688799, \"o-tolunitrile\": 0.0041059085679533815, \"tetralin\": 58754.1833968299, \"column\": \"2\", \"row\": \"6\", \"path\": \"C:\\\\Users\\\\GMJAZ\\\\OneDrive - Bayer\\\\Personal Data\\\\GitHub\\\\mocca\\\\notebooks\\\\cyanation_data\\\\09072021_sample_65.txt\", \"conversion\": 9.0, \"yield\": 7.0, \"unknown_3\": 0.0, \"unknown_3_rel_area\": 0.0, \"protected_cyanohydrin\": \"9f\", \"B/L\": \"DBU/tBuXPhos\"}, {\"2-chlorotoluene\": 0.05755377905120572, \"o-tolunitrile\": 0.0, \"tetralin\": 74145.82785408827, \"column\": \"3\", \"row\": \"6\", \"path\": \"C:\\\\Users\\\\GMJAZ\\\\OneDrive - Bayer\\\\Personal Data\\\\GitHub\\\\mocca\\\\notebooks\\\\cyanation_data\\\\09072021_sample_66.txt\", \"conversion\": 4.0, \"yield\": 0.0, \"unknown_3\": 0.0, \"unknown_3_rel_area\": 0.0, \"protected_cyanohydrin\": \"9f\", \"B/L\": \"DBU/CM-Phos\"}, {\"2-chlorotoluene\": 0.03009857905130956, \"o-tolunitrile\": 0.028175826706775577, \"tetralin\": 61031.06002432388, \"column\": \"4\", \"row\": \"6\", \"path\": \"C:\\\\Users\\\\GMJAZ\\\\OneDrive - Bayer\\\\Personal Data\\\\GitHub\\\\mocca\\\\notebooks\\\\cyanation_data\\\\09072021_sample_67.txt\", \"conversion\": 50.0, \"yield\": 47.0, \"unknown_3\": 0.0, \"unknown_3_rel_area\": 0.0, \"protected_cyanohydrin\": \"9f\", \"B/L\": \"TMG/XPhos\"}, {\"2-chlorotoluene\": 0.03938673124747946, \"o-tolunitrile\": 0.016172401741869683, \"tetralin\": 58166.014521212164, \"column\": \"5\", \"row\": \"6\", \"path\": \"C:\\\\Users\\\\GMJAZ\\\\OneDrive - Bayer\\\\Personal Data\\\\GitHub\\\\mocca\\\\notebooks\\\\cyanation_data\\\\09072021_sample_68.txt\", \"conversion\": 34.0, \"yield\": 27.0, \"unknown_3\": 0.0, \"unknown_3_rel_area\": 0.0, \"protected_cyanohydrin\": \"9f\", \"B/L\": \"TMG/tBuXPhos\"}, {\"2-chlorotoluene\": 0.0, \"o-tolunitrile\": 0.046536264005475496, \"tetralin\": 60860.49041997802, \"column\": \"6\", \"row\": \"6\", \"path\": \"C:\\\\Users\\\\GMJAZ\\\\OneDrive - Bayer\\\\Personal Data\\\\GitHub\\\\mocca\\\\notebooks\\\\cyanation_data\\\\09072021_sample_69.txt\", \"conversion\": 100.0, \"yield\": 78.0, \"unknown_3\": 0.0, \"unknown_3_rel_area\": 0.0, \"protected_cyanohydrin\": \"9f\", \"B/L\": \"TMG/CM-Phos\"}, {\"2-chlorotoluene\": 0.006587891256486512, \"o-tolunitrile\": 0.05461972380824671, \"tetralin\": 75875.03433263086, \"column\": \"7\", \"row\": \"6\", \"path\": \"C:\\\\Users\\\\GMJAZ\\\\OneDrive - Bayer\\\\Personal Data\\\\GitHub\\\\mocca\\\\notebooks\\\\cyanation_data\\\\09072021_sample_70.txt\", \"conversion\": 89.0, \"yield\": 91.0, \"unknown_3\": 0.0, \"unknown_3_rel_area\": 0.0, \"protected_cyanohydrin\": \"9f\", \"B/L\": \"DMAP/XPhos\"}, {\"2-chlorotoluene\": 0.01626971844925315, \"o-tolunitrile\": 0.03820683187303865, \"tetralin\": 109558.83501995128, \"column\": \"8\", \"row\": \"6\", \"path\": \"C:\\\\Users\\\\GMJAZ\\\\OneDrive - Bayer\\\\Personal Data\\\\GitHub\\\\mocca\\\\notebooks\\\\cyanation_data\\\\09072021_sample_71.txt\", \"conversion\": 73.0, \"yield\": 64.0, \"unknown_3\": 0.0, \"unknown_3_rel_area\": 0.0, \"protected_cyanohydrin\": \"9f\", \"B/L\": \"DMAP/tBuXPhos\"}, {\"2-chlorotoluene\": 0.05308612385377452, \"o-tolunitrile\": 0.002869994591536189, \"tetralin\": 71724.18914300625, \"column\": \"9\", \"row\": \"6\", \"path\": \"C:\\\\Users\\\\GMJAZ\\\\OneDrive - Bayer\\\\Personal Data\\\\GitHub\\\\mocca\\\\notebooks\\\\cyanation_data\\\\09072021_sample_72.txt\", \"conversion\": 12.0, \"yield\": 5.0, \"unknown_3\": 0.0, \"unknown_3_rel_area\": 0.0, \"protected_cyanohydrin\": \"9f\", \"B/L\": \"DMAP/CM-Phos\"}, {\"2-chlorotoluene\": 0.04155451553793272, \"o-tolunitrile\": 0.004775422082655075, \"tetralin\": 94513.55865654355, \"column\": \"10\", \"row\": \"6\", \"path\": \"C:\\\\Users\\\\GMJAZ\\\\OneDrive - Bayer\\\\Personal Data\\\\GitHub\\\\mocca\\\\notebooks\\\\cyanation_data\\\\09072021_sample_73.txt\", \"conversion\": 31.0, \"yield\": 8.0, \"unknown_3\": 0.0, \"unknown_3_rel_area\": 0.0, \"protected_cyanohydrin\": \"9f\", \"B/L\": \"DIPEA/XPhos\"}, {\"2-chlorotoluene\": 0.026893863064143386, \"o-tolunitrile\": 0.005280434895887375, \"tetralin\": 211134.34003621578, \"column\": \"11\", \"row\": \"6\", \"path\": \"C:\\\\Users\\\\GMJAZ\\\\OneDrive - Bayer\\\\Personal Data\\\\GitHub\\\\mocca\\\\notebooks\\\\cyanation_data\\\\09072021_sample_74.txt\", \"conversion\": 55.0, \"yield\": 9.0, \"unknown_3\": 0.0, \"unknown_3_rel_area\": 0.0, \"protected_cyanohydrin\": \"9f\", \"B/L\": \"DIPEA/tBuXPhos\"}, {\"2-chlorotoluene\": 0.041727952849607064, \"o-tolunitrile\": 0.006280350501006732, \"tetralin\": 61444.85201440612, \"column\": \"12\", \"row\": \"6\", \"path\": \"C:\\\\Users\\\\GMJAZ\\\\OneDrive - Bayer\\\\Personal Data\\\\GitHub\\\\mocca\\\\notebooks\\\\cyanation_data\\\\09072021_sample_75.txt\", \"conversion\": 30.0, \"yield\": 10.0, \"unknown_3\": 0.0, \"unknown_3_rel_area\": 0.0, \"protected_cyanohydrin\": \"9f\", \"B/L\": \"DIPEA/CM-Phos\"}, {\"2-chlorotoluene\": 0.057990406124966705, \"o-tolunitrile\": 0.0, \"tetralin\": 62260.56844421303, \"column\": \"1\", \"row\": \"7\", \"path\": \"C:\\\\Users\\\\GMJAZ\\\\OneDrive - Bayer\\\\Personal Data\\\\GitHub\\\\mocca\\\\notebooks\\\\cyanation_data\\\\09072021_sample_76.txt\", \"conversion\": 3.0, \"yield\": 0.0, \"unknown_3\": 0.0, \"unknown_3_rel_area\": 0.0, \"protected_cyanohydrin\": \"9g\", \"B/L\": \"DBU/XPhos\"}, {\"2-chlorotoluene\": 0.057247109082009855, \"o-tolunitrile\": 0.0, \"tetralin\": 86100.59284993478, \"column\": \"2\", \"row\": \"7\", \"path\": \"C:\\\\Users\\\\GMJAZ\\\\OneDrive - Bayer\\\\Personal Data\\\\GitHub\\\\mocca\\\\notebooks\\\\cyanation_data\\\\09072021_sample_77.txt\", \"conversion\": 5.0, \"yield\": 0.0, \"unknown_3\": 0.0, \"unknown_3_rel_area\": 0.0, \"protected_cyanohydrin\": \"9g\", \"B/L\": \"DBU/tBuXPhos\"}, {\"2-chlorotoluene\": 0.05609916849803624, \"o-tolunitrile\": 0.0, \"tetralin\": 75091.92182351317, \"column\": \"3\", \"row\": \"7\", \"path\": \"C:\\\\Users\\\\GMJAZ\\\\OneDrive - Bayer\\\\Personal Data\\\\GitHub\\\\mocca\\\\notebooks\\\\cyanation_data\\\\09072021_sample_78.txt\", \"conversion\": 7.0, \"yield\": 0.0, \"unknown_3\": 0.0, \"unknown_3_rel_area\": 0.0, \"protected_cyanohydrin\": \"9g\", \"B/L\": \"DBU/CM-Phos\"}, {\"2-chlorotoluene\": 0.05856968553156001, \"o-tolunitrile\": 0.0, \"tetralin\": 60722.43795806856, \"column\": \"4\", \"row\": \"7\", \"path\": \"C:\\\\Users\\\\GMJAZ\\\\OneDrive - Bayer\\\\Personal Data\\\\GitHub\\\\mocca\\\\notebooks\\\\cyanation_data\\\\09072021_sample_79.txt\", \"conversion\": 2.0, \"yield\": 0.0, \"unknown_3\": 0.0, \"unknown_3_rel_area\": 0.0, \"protected_cyanohydrin\": \"9g\", \"B/L\": \"TMG/XPhos\"}, {\"2-chlorotoluene\": 0.06207145659160528, \"o-tolunitrile\": 0.0, \"tetralin\": 56150.907451540814, \"column\": \"5\", \"row\": \"7\", \"path\": \"C:\\\\Users\\\\GMJAZ\\\\OneDrive - Bayer\\\\Personal Data\\\\GitHub\\\\mocca\\\\notebooks\\\\cyanation_data\\\\09072021_sample_80.txt\", \"conversion\": -3.0, \"yield\": 0.0, \"unknown_3\": 0.0, \"unknown_3_rel_area\": 0.0, \"protected_cyanohydrin\": \"9g\", \"B/L\": \"TMG/tBuXPhos\"}, {\"2-chlorotoluene\": 0.06184511479289285, \"o-tolunitrile\": 0.0, \"tetralin\": 63086.115812956734, \"column\": \"6\", \"row\": \"7\", \"path\": \"C:\\\\Users\\\\GMJAZ\\\\OneDrive - Bayer\\\\Personal Data\\\\GitHub\\\\mocca\\\\notebooks\\\\cyanation_data\\\\09072021_sample_81.txt\", \"conversion\": -3.0, \"yield\": 0.0, \"unknown_3\": 0.0, \"unknown_3_rel_area\": 0.0, \"protected_cyanohydrin\": \"9g\", \"B/L\": \"TMG/CM-Phos\"}, {\"2-chlorotoluene\": 0.051784463898701893, \"o-tolunitrile\": 0.0, \"tetralin\": 137799.63157887413, \"column\": \"7\", \"row\": \"7\", \"path\": \"C:\\\\Users\\\\GMJAZ\\\\OneDrive - Bayer\\\\Personal Data\\\\GitHub\\\\mocca\\\\notebooks\\\\cyanation_data\\\\09072021_sample_82.txt\", \"conversion\": 14.0, \"yield\": 0.0, \"unknown_3\": 0.0, \"unknown_3_rel_area\": 0.0, \"protected_cyanohydrin\": \"9g\", \"B/L\": \"DMAP/XPhos\"}, {\"2-chlorotoluene\": 0.059307068362115765, \"o-tolunitrile\": 0.0, \"tetralin\": 68115.13832626863, \"column\": \"8\", \"row\": \"7\", \"path\": \"C:\\\\Users\\\\GMJAZ\\\\OneDrive - Bayer\\\\Personal Data\\\\GitHub\\\\mocca\\\\notebooks\\\\cyanation_data\\\\09072021_sample_83.txt\", \"conversion\": 1.0, \"yield\": 0.0, \"unknown_3\": 0.0, \"unknown_3_rel_area\": 0.0, \"protected_cyanohydrin\": \"9g\", \"B/L\": \"DMAP/tBuXPhos\"}, {\"2-chlorotoluene\": 0.059044126094737394, \"o-tolunitrile\": 0.0, \"tetralin\": 77373.68472249235, \"column\": \"9\", \"row\": \"7\", \"path\": \"C:\\\\Users\\\\GMJAZ\\\\OneDrive - Bayer\\\\Personal Data\\\\GitHub\\\\mocca\\\\notebooks\\\\cyanation_data\\\\09072021_sample_84.txt\", \"conversion\": 2.0, \"yield\": 0.0, \"unknown_3\": 0.0, \"unknown_3_rel_area\": 0.0, \"protected_cyanohydrin\": \"9g\", \"B/L\": \"DMAP/CM-Phos\"}, {\"2-chlorotoluene\": 0.04445310093721335, \"o-tolunitrile\": 0.0, \"tetralin\": 162296.59445635474, \"column\": \"10\", \"row\": \"7\", \"path\": \"C:\\\\Users\\\\GMJAZ\\\\OneDrive - Bayer\\\\Personal Data\\\\GitHub\\\\mocca\\\\notebooks\\\\cyanation_data\\\\09072021_sample_85.txt\", \"conversion\": 26.0, \"yield\": 0.0, \"unknown_3\": 0.0, \"unknown_3_rel_area\": 0.0, \"protected_cyanohydrin\": \"9g\", \"B/L\": \"DIPEA/XPhos\"}, {\"2-chlorotoluene\": 0.05263449004550709, \"o-tolunitrile\": 0.0, \"tetralin\": 64807.09811592598, \"column\": \"11\", \"row\": \"7\", \"path\": \"C:\\\\Users\\\\GMJAZ\\\\OneDrive - Bayer\\\\Personal Data\\\\GitHub\\\\mocca\\\\notebooks\\\\cyanation_data\\\\09072021_sample_86.txt\", \"conversion\": 12.0, \"yield\": 0.0, \"unknown_3\": 0.0, \"unknown_3_rel_area\": 0.0, \"protected_cyanohydrin\": \"9g\", \"B/L\": \"DIPEA/tBuXPhos\"}, {\"2-chlorotoluene\": 0.05838624161391528, \"o-tolunitrile\": 0.0, \"tetralin\": 75707.96040323588, \"column\": \"12\", \"row\": \"7\", \"path\": \"C:\\\\Users\\\\GMJAZ\\\\OneDrive - Bayer\\\\Personal Data\\\\GitHub\\\\mocca\\\\notebooks\\\\cyanation_data\\\\09072021_sample_87.txt\", \"conversion\": 3.0, \"yield\": 0.0, \"unknown_3\": 0.0, \"unknown_3_rel_area\": 0.0, \"protected_cyanohydrin\": \"9g\", \"B/L\": \"DIPEA/CM-Phos\"}]}}, {\"mode\": \"vega-lite\"});\n",
       "</script>"
      ],
      "text/plain": [
       "alt.Chart(...)"
      ]
     },
     "metadata": {},
     "output_type": "display_data"
    }
   ],
   "source": [
    "heatmap = alt.Chart(results_rounded, title = 'Unknown_3').mark_rect().encode(\n",
    "            x=alt.X('B/L', sort=row_order, axis=alt.Axis(title=None)),\n",
    "            y=alt.Y('protected_cyanohydrin', axis=alt.Axis(title=None)),\n",
    "            color=alt.Color('unknown_3_rel_area', title=\"rel. integral\", scale=alt.Scale(scheme='viridis', reverse=True))\n",
    "            )\n",
    "text = alt.Chart(results_rounded, title = 'Unknown_3').mark_text().encode(\n",
    "            x=alt.X('B/L', sort=row_order),\n",
    "            y=alt.Y('protected_cyanohydrin'),\n",
    "            text='unknown_3_rel_area'\n",
    "            )\n",
    "\n",
    "display(heatmap)\n"
   ]
  },
  {
   "cell_type": "code",
   "execution_count": null,
   "id": "a205a21f-5f6d-4c19-a80f-d2d4d3be11e9",
   "metadata": {},
   "outputs": [],
   "source": []
  }
 ],
 "metadata": {
  "kernelspec": {
   "display_name": "mocca_env",
   "language": "python",
   "name": "mocca_env"
  },
  "language_info": {
   "codemirror_mode": {
    "name": "ipython",
    "version": 3
   },
   "file_extension": ".py",
   "mimetype": "text/x-python",
   "name": "python",
   "nbconvert_exporter": "python",
   "pygments_lexer": "ipython3",
   "version": "3.10.2"
  }
 },
 "nbformat": 4,
 "nbformat_minor": 5
}
