{
 "cells": [
  {
   "cell_type": "markdown",
   "id": "c70bf775-82ac-4c3c-a1b5-23af5ec8fb3f",
   "metadata": {},
   "source": [
    "CPH 02/04/2022"
   ]
  },
  {
   "cell_type": "markdown",
   "id": "6a58324c-8e7a-44ca-9f39-dc6563ce81b0",
   "metadata": {
    "tags": []
   },
   "source": [
    "# MOCCA data analysis on cyanation wellplate screening\n",
    "\n",
    "MOCCA is a tool for the analysis of *High-Performance Liquid Chromatography–Diode Array Detection* (HPLC–DAD) datasets which are recorded in the context of reaction (process) controls. It only uses HPLC–DAD raw data and some basic user input for the data analysis."
   ]
  },
  {
   "cell_type": "markdown",
   "id": "c9d2a04c-52f8-4e3f-bd9e-8a80fcee0302",
   "metadata": {},
   "source": [
    "## Reaction and case study background\n",
    "\n",
    "This case study investigates a screening of discrete reaction parameters on a well plate. The chosen reaction is a palladium-catalyzed cyanation of 2-chlorotoluene yielding o-tolunitrile. We investigate the reaction with seven different cyanide precursors (protected cyanohydrines), four different bases and three different ligands."
   ]
  },
  {
   "cell_type": "markdown",
   "id": "14bcad8c-907f-45e8-b0a6-8bb1b4f61865",
   "metadata": {},
   "source": [
    "## Imports"
   ]
  },
  {
   "cell_type": "code",
   "execution_count": 1,
   "id": "ff1b1321-02b7-4ffa-9bfd-76556f076ad0",
   "metadata": {},
   "outputs": [],
   "source": [
    "# folders handling\n",
    "import os\n",
    "from glob import glob\n",
    "\n",
    "# user interaction\n",
    "from mocca.user_interaction.campaign import HplcDadCampaign\n",
    "from mocca.user_interaction.user_objects import Gradient\n",
    "from mocca.user_interaction.user_objects import Compound\n",
    "from mocca.user_interaction.user_objects import InternalStandard\n",
    "from mocca.user_interaction.user_objects import HplcInput\n",
    "from mocca.user_interaction.settings import Settings\n",
    "\n",
    "# reporting\n",
    "from mocca.report.hplc_input import report_hplc_input\n",
    "from mocca.report.chroms import report_chroms\n",
    "from mocca.report.results import report_runs\n",
    "from mocca.report.parafac import report_parafac\n",
    "from mocca.report.peaks import report_peaks\n",
    "from mocca.report.quali_comps import report_quali_comps\n",
    "from mocca.report.quant_comps import report_quant_comps\n",
    "\n",
    "# customized data analysis\n",
    "import datetime\n",
    "import time\n",
    "\n",
    "%load_ext autoreload\n",
    "%autoreload 2"
   ]
  },
  {
   "cell_type": "markdown",
   "id": "66d85391-6b55-4309-9bfa-ccb97e84b8f9",
   "metadata": {},
   "source": [
    "## Cyanation data folder handling\n",
    "\n",
    "The data corresponding to this notebook can be found in mocca -> notebooks -> cyanation_data. The data was recorded on an Shimadzu system with an automatic export of the raw data to a .txt file."
   ]
  },
  {
   "cell_type": "code",
   "execution_count": 2,
   "id": "aa9e56ae-7937-44cb-939e-ebec3bf4ccc7",
   "metadata": {},
   "outputs": [],
   "source": [
    "# get path of this notebook\n",
    "ipynb_path = os.path.dirname(os.path.realpath(\"__file__\"))\n",
    "\n",
    "# add the path to the test data folder\n",
    "cyan_data_path = os.path.join(ipynb_path, \"cyanation_data\")\n",
    "\n",
    "# find all folders containing Agilent HPLC data (.D file extension)\n",
    "folders = glob(cyan_data_path + '/*' + '.txt') \n",
    "folders = sorted(folders, key=lambda x: int(x.split('_')[-1][:-4]))"
   ]
  },
  {
   "cell_type": "code",
   "execution_count": 3,
   "id": "36a5d434-f4d2-46bb-acd1-4a7d484dbd8d",
   "metadata": {
    "tags": []
   },
   "outputs": [
    {
     "name": "stdout",
     "output_type": "stream",
     "text": [
      "09072021_sample_4.txt\n",
      "09072021_sample_5.txt\n",
      "09072021_sample_6.txt\n",
      "09072021_sample_7.txt\n",
      "09072021_sample_8.txt\n",
      "09072021_sample_9.txt\n",
      "09072021_sample_10.txt\n",
      "09072021_sample_11.txt\n",
      "09072021_sample_12.txt\n",
      "09072021_sample_13.txt\n",
      "09072021_sample_14.txt\n",
      "09072021_sample_15.txt\n",
      "09072021_sample_16.txt\n",
      "09072021_sample_17.txt\n",
      "09072021_sample_18.txt\n",
      "09072021_sample_19.txt\n",
      "09072021_sample_20.txt\n",
      "09072021_sample_21.txt\n",
      "09072021_sample_22.txt\n",
      "09072021_sample_23.txt\n",
      "09072021_sample_24.txt\n",
      "09072021_sample_25.txt\n",
      "09072021_sample_26.txt\n",
      "09072021_sample_27.txt\n",
      "09072021_sample_28.txt\n",
      "09072021_sample_29.txt\n",
      "09072021_sample_30.txt\n",
      "09072021_sample_31.txt\n",
      "09072021_sample_32.txt\n",
      "09072021_sample_33.txt\n",
      "09072021_sample_34.txt\n",
      "09072021_sample_35.txt\n",
      "09072021_sample_36.txt\n",
      "09072021_sample_37.txt\n",
      "09072021_sample_38.txt\n",
      "09072021_sample_39.txt\n",
      "09072021_sample_40.txt\n",
      "09072021_sample_41.txt\n",
      "09072021_sample_42.txt\n",
      "09072021_sample_43.txt\n",
      "09072021_sample_44.txt\n",
      "09072021_sample_45.txt\n",
      "09072021_sample_46.txt\n",
      "09072021_sample_47.txt\n",
      "09072021_sample_48.txt\n",
      "09072021_sample_49.txt\n",
      "09072021_sample_50.txt\n",
      "09072021_sample_51.txt\n",
      "09072021_sample_52.txt\n",
      "09072021_sample_53.txt\n",
      "09072021_sample_54.txt\n",
      "09072021_sample_55.txt\n",
      "09072021_sample_56.txt\n",
      "09072021_sample_57.txt\n",
      "09072021_sample_58.txt\n",
      "09072021_sample_59.txt\n",
      "09072021_sample_60.txt\n",
      "09072021_sample_61.txt\n",
      "09072021_sample_62.txt\n",
      "09072021_sample_63.txt\n",
      "09072021_sample_64.txt\n",
      "09072021_sample_65.txt\n",
      "09072021_sample_66.txt\n",
      "09072021_sample_67.txt\n",
      "09072021_sample_68.txt\n",
      "09072021_sample_69.txt\n",
      "09072021_sample_70.txt\n",
      "09072021_sample_71.txt\n",
      "09072021_sample_72.txt\n",
      "09072021_sample_73.txt\n",
      "09072021_sample_74.txt\n",
      "09072021_sample_75.txt\n",
      "09072021_sample_76.txt\n",
      "09072021_sample_77.txt\n",
      "09072021_sample_78.txt\n",
      "09072021_sample_79.txt\n",
      "09072021_sample_80.txt\n",
      "09072021_sample_81.txt\n",
      "09072021_sample_82.txt\n",
      "09072021_sample_83.txt\n",
      "09072021_sample_84.txt\n",
      "09072021_sample_85.txt\n",
      "09072021_sample_86.txt\n",
      "09072021_sample_87.txt\n",
      "09072021_educt_88.txt\n",
      "09072021_educt_89.txt\n",
      "09072021_product_92.txt\n",
      "09072021_product_93.txt\n",
      "09072021_istd_96.txt\n",
      "09072021_gradient_97.txt\n",
      "09072021_cnsource_a_98.txt\n",
      "09072021_cnsource_d_99.txt\n"
     ]
    }
   ],
   "source": [
    "for folder in folders:\n",
    "    print(os.path.basename(folder))"
   ]
  },
  {
   "cell_type": "markdown",
   "id": "6565c466-5b8e-4184-859c-3584e6e02be7",
   "metadata": {},
   "source": [
    "## Campaign initialization"
   ]
  },
  {
   "cell_type": "code",
   "execution_count": 4,
   "id": "7a483960-60d8-434a-bb79-13e74b5117c2",
   "metadata": {},
   "outputs": [],
   "source": [
    "cyan_campaign = HplcDadCampaign()"
   ]
  },
  {
   "cell_type": "markdown",
   "id": "e5297ebc-aaa7-4ed8-ac2c-37728cc14328",
   "metadata": {},
   "source": [
    "We create the first Gradient object for all runs."
   ]
  },
  {
   "cell_type": "code",
   "execution_count": 5,
   "id": "2527d2cb-25da-43d7-9f24-7a03dc5ec365",
   "metadata": {},
   "outputs": [],
   "source": [
    "gradient = Gradient(next(folder for folder in folders if \"gradient\" in folder))"
   ]
  },
  {
   "cell_type": "markdown",
   "id": "c8d66b7e-0da4-47d7-a1bf-67576d0bc31b",
   "metadata": {},
   "source": [
    "This campaign works in all runs (except the tetralin compound run) with an InternalStandard object of tetralin."
   ]
  },
  {
   "cell_type": "code",
   "execution_count": 6,
   "id": "ac449a8a-236b-4f53-8e2e-106f5bbe786f",
   "metadata": {},
   "outputs": [],
   "source": [
    "internal_standard = InternalStandard('tetralin', 0.06094)"
   ]
  },
  {
   "cell_type": "markdown",
   "id": "50e7d544-b812-48a5-8773-93d13c40aa02",
   "metadata": {
    "tags": []
   },
   "source": [
    "### User input for calibration runs"
   ]
  },
  {
   "cell_type": "markdown",
   "id": "0fd31d60-028d-49d9-bd2f-1f7df4134333",
   "metadata": {},
   "source": [
    "We transfer the concentration values of the calibration standards."
   ]
  },
  {
   "cell_type": "code",
   "execution_count": 7,
   "id": "4510a788-cdff-4ca1-900e-b1f9acfae57d",
   "metadata": {},
   "outputs": [],
   "source": [
    "ArCl_concs = [0.0603, 0.04422]\n",
    "ArCN_concs = [0.05955, 0.04367]"
   ]
  },
  {
   "cell_type": "markdown",
   "id": "f804c50d-c3d5-4a02-a661-56444dea86e5",
   "metadata": {},
   "source": [
    "First, we create a HplcInput object for the internal standard run and add it to the campaign."
   ]
  },
  {
   "cell_type": "code",
   "execution_count": 8,
   "id": "35b0dc6b-2db0-4415-bf18-d0f00325a310",
   "metadata": {},
   "outputs": [],
   "source": [
    "istd_run = HplcInput(next(folder for folder in folders if \"istd\" in folder),\n",
    "                     gradient, compound=Compound('tetralin', is_istd=True))\n",
    "cyan_campaign.add_hplc_input(istd_run)"
   ]
  },
  {
   "cell_type": "markdown",
   "id": "b8d9fa45-de83-4100-bc56-08c11b53b9f0",
   "metadata": {},
   "source": [
    "We create HplcInput objects for each calibration run and add it to the campaign"
   ]
  },
  {
   "cell_type": "code",
   "execution_count": 9,
   "id": "46cdc570-7118-4a4b-ab15-c29b2cdf6871",
   "metadata": {},
   "outputs": [],
   "source": [
    "ArCl_folders = [folder for folder in folders if \"educt\" in folder]\n",
    "for i, folder in enumerate(ArCl_folders):\n",
    "    compound = Compound('2-chlorotoluene', ArCl_concs[i])\n",
    "    exp = HplcInput(folder, gradient, compound=compound, istd=internal_standard)\n",
    "    cyan_campaign.add_hplc_input(exp)\n",
    "\n",
    "ArCN_folders = [folder for folder in folders if \"product\" in folder]\n",
    "for i, folder in enumerate(ArCN_folders):\n",
    "    compound = Compound('o-tolunitrile', ArCN_concs[i])\n",
    "    exp = HplcInput(folder, gradient, compound=compound, istd=internal_standard)\n",
    "    cyan_campaign.add_hplc_input(exp)\n",
    "\n",
    "cn_source_a_folder = next(folder for folder in folders if \"cnsource_a\" in folder)\n",
    "compound = Compound('cn_source_a')\n",
    "exp = HplcInput(cn_source_a_folder, gradient, compound=compound, istd=internal_standard)\n",
    "cyan_campaign.add_hplc_input(exp)\n",
    "\n",
    "cn_source_d_folder = next(folder for folder in folders if \"cnsource_d\" in folder)\n",
    "compound = Compound('cn_source_d')\n",
    "exp = HplcInput(cn_source_d_folder, gradient, compound=compound, istd=internal_standard)\n",
    "cyan_campaign.add_hplc_input(exp)"
   ]
  },
  {
   "cell_type": "markdown",
   "id": "68b9b038-7401-4e8d-8e46-252d1586c6a8",
   "metadata": {},
   "source": [
    "### User input for reaction runs"
   ]
  },
  {
   "cell_type": "code",
   "execution_count": 10,
   "id": "b9116a48-8575-435f-8d1c-6db568c059c0",
   "metadata": {},
   "outputs": [],
   "source": [
    "for folder in [folder for folder in folders if \"sample\" in folder]:\n",
    "    exp = HplcInput(folder, gradient, istd=internal_standard)\n",
    "    cyan_campaign.add_hplc_input(exp)"
   ]
  },
  {
   "cell_type": "markdown",
   "id": "87a70e0f-4b65-4f64-a2b2-051f1ae58247",
   "metadata": {},
   "source": [
    "### Settings for data processing"
   ]
  },
  {
   "cell_type": "code",
   "execution_count": 11,
   "id": "d3e8aea8-f5c8-45e4-bb75-e3d19d50befc",
   "metadata": {},
   "outputs": [],
   "source": [
    "settings = Settings('labsolutions',\n",
    "                    absorbance_threshold = 300, wl_high_pass = 215, \n",
    "                    peaks_high_pass = 1, peaks_low_pass = 5,\n",
    "                    spectrum_correl_thresh=0.99, relative_distance_thresh=0.01)"
   ]
  },
  {
   "cell_type": "markdown",
   "id": "926a0b31-e525-4574-8cea-38e39ca6b203",
   "metadata": {},
   "source": [
    "### Data processing"
   ]
  },
  {
   "cell_type": "code",
   "execution_count": 13,
   "id": "a7e53c99-166e-4fa6-a5ff-700216a1729c",
   "metadata": {
    "tags": []
   },
   "outputs": [],
   "source": [
    "cyan_campaign.process_all_hplc_input(settings)"
   ]
  },
  {
   "cell_type": "markdown",
   "id": "876d7ceb-7e66-4050-9569-ff4c97f25e40",
   "metadata": {},
   "source": [
    "## Reporting"
   ]
  },
  {
   "cell_type": "code",
   "execution_count": 14,
   "id": "edb947f0-278c-40ee-8347-b1efd5d9c35a",
   "metadata": {},
   "outputs": [],
   "source": [
    "cyan_report_path = os.path.join(ipynb_path, \"cyanation_reports\")"
   ]
  },
  {
   "cell_type": "code",
   "execution_count": 15,
   "id": "6fe1501d-f580-4ce6-bb64-3596de1374a1",
   "metadata": {},
   "outputs": [
    {
     "data": {
      "text/markdown": [
       "Report saved to .//Users/haascp/Documents/GitHub/mocca/notebooks/cyanation_reports/report_hplc_input.html. To upload and share your report, create a free Datapane account by running `!datapane signup`."
      ],
      "text/plain": [
       "<IPython.core.display.Markdown object>"
      ]
     },
     "metadata": {},
     "output_type": "display_data"
    },
    {
     "data": {
      "text/markdown": [
       "Report saved to .//Users/haascp/Documents/GitHub/mocca/notebooks/cyanation_reports/report_chroms.html. To upload and share your report, create a free Datapane account by running `!datapane signup`."
      ],
      "text/plain": [
       "<IPython.core.display.Markdown object>"
      ]
     },
     "metadata": {},
     "output_type": "display_data"
    },
    {
     "data": {
      "text/markdown": [
       "How is your experience of Datapane? Please take two minutes to answer our anonymous product survey <a href='https://bit.ly/3lWjRlr' target='_blank'>here</a>"
      ],
      "text/plain": [
       "<IPython.core.display.Markdown object>"
      ]
     },
     "metadata": {},
     "output_type": "display_data"
    },
    {
     "data": {
      "text/markdown": [
       "Report saved to .//Users/haascp/Documents/GitHub/mocca/notebooks/cyanation_reports/report_runs.html. To upload and share your report, create a free Datapane account by running `!datapane signup`."
      ],
      "text/plain": [
       "<IPython.core.display.Markdown object>"
      ]
     },
     "metadata": {},
     "output_type": "display_data"
    },
    {
     "data": {
      "text/markdown": [
       "Report saved to .//Users/haascp/Documents/GitHub/mocca/notebooks/cyanation_reports/report_parafac.html. To upload and share your report, create a free Datapane account by running `!datapane signup`."
      ],
      "text/plain": [
       "<IPython.core.display.Markdown object>"
      ]
     },
     "metadata": {},
     "output_type": "display_data"
    },
    {
     "data": {
      "text/markdown": [
       "Report saved to .//Users/haascp/Documents/GitHub/mocca/notebooks/cyanation_reports/report_peak_db.html. To upload and share your report, create a free Datapane account by running `!datapane signup`."
      ],
      "text/plain": [
       "<IPython.core.display.Markdown object>"
      ]
     },
     "metadata": {},
     "output_type": "display_data"
    },
    {
     "data": {
      "text/markdown": [
       "Report saved to .//Users/haascp/Documents/GitHub/mocca/notebooks/cyanation_reports/report_quali_comp_db.html. To upload and share your report, create a free Datapane account by running `!datapane signup`."
      ],
      "text/plain": [
       "<IPython.core.display.Markdown object>"
      ]
     },
     "metadata": {},
     "output_type": "display_data"
    },
    {
     "data": {
      "text/markdown": [
       "Report saved to .//Users/haascp/Documents/GitHub/mocca/notebooks/cyanation_reports/report_quant_comp_db.html. To upload and share your report, create a free Datapane account by running `!datapane signup`."
      ],
      "text/plain": [
       "<IPython.core.display.Markdown object>"
      ]
     },
     "metadata": {},
     "output_type": "display_data"
    }
   ],
   "source": [
    "report_hplc_input(cyan_campaign.hplc_runs, cyan_report_path)\n",
    "report_chroms(cyan_campaign.chroms, cyan_campaign.settings, cyan_report_path)\n",
    "report_runs(cyan_campaign.chroms, cyan_campaign.quali_comp_db, cyan_campaign.quant_comp_db, cyan_report_path)\n",
    "report_parafac(cyan_campaign.chroms, cyan_report_path)\n",
    "report_peaks(cyan_campaign.peak_db, cyan_report_path)\n",
    "report_quali_comps(cyan_campaign.quali_comp_db, cyan_report_path)\n",
    "report_quant_comps(cyan_campaign.quant_comp_db, cyan_report_path)"
   ]
  },
  {
   "cell_type": "markdown",
   "id": "736881b0-4eb3-498b-963f-5ad938408879",
   "metadata": {},
   "source": [
    "## Customized data analysis by the user\n",
    "\n",
    "This data analysis tool cannot include all possible data analysis needs of potential users. Therefore, we expect the user to do customized data analysis independently from the tool.\n",
    "\n",
    "We give an example here, how the yield over a 96-wellplate can be visualized."
   ]
  },
  {
   "cell_type": "code",
   "execution_count": 16,
   "id": "c03317a8-b6c8-4c1b-8da7-ad7bad406a9e",
   "metadata": {},
   "outputs": [],
   "source": [
    "import pandas as pd\n",
    "import altair as alt"
   ]
  },
  {
   "cell_type": "markdown",
   "id": "df464ed7-1915-4052-9f64-02fe4ed42e91",
   "metadata": {},
   "source": [
    "Extract results out of the campaign object"
   ]
  },
  {
   "cell_type": "code",
   "execution_count": 17,
   "id": "f6374075-cd86-4289-9397-8b0e860f01ed",
   "metadata": {},
   "outputs": [],
   "source": [
    "c0 = 0.06 #c0 refers to the molar amount of substrate that was used\n",
    "results = {\n",
    "    '2-chlorotoluene': [],\n",
    "    'o-tolunitrile': [],\n",
    "    'tetralin': [],\n",
    "    'column': [],\n",
    "    'row': [],\n",
    "    'path': [],\n",
    "    'conversion': [],\n",
    "    'yield': []\n",
    "}\n",
    "for i, chrom in enumerate(cyan_campaign.chroms):\n",
    "    if not chrom.experiment.compound:\n",
    "        results['2-chlorotoluene'].append(0)\n",
    "        results['o-tolunitrile'].append(0)\n",
    "        results['tetralin'].append(0)\n",
    "        results['conversion'].append(1)\n",
    "        results['yield'].append(0)\n",
    "        results['path'].append(chrom.experiment.path)\n",
    "        for peak in chrom.peaks:\n",
    "            if peak.compound_id == '2-chlorotoluene':\n",
    "                results['2-chlorotoluene'][-1] = peak.concentration\n",
    "                results['conversion'][-1] = (c0 - peak.concentration) / c0\n",
    "            if peak.compound_id == 'o-tolunitrile':\n",
    "                results['o-tolunitrile'][-1] = peak.concentration\n",
    "                results['yield'][-1] = peak.concentration / c0\n",
    "            if peak.compound_id == 'tetralin':\n",
    "                results['tetralin'][-1] = peak.integral"
   ]
  },
  {
   "cell_type": "code",
   "execution_count": 18,
   "id": "52219090-5122-42e2-82a8-748a9b10452a",
   "metadata": {},
   "outputs": [],
   "source": [
    "for path in results['path']:\n",
    "    num = int(path.split('_')[-1][:-4]) - 4\n",
    "    results['column'].append(str(num // 12 + 1))\n",
    "    results['row'].append(str(num - (num // 12 * 12) + 1))"
   ]
  },
  {
   "cell_type": "code",
   "execution_count": 19,
   "id": "0507acec-7017-4e92-8c0e-e97bf8cbaa77",
   "metadata": {},
   "outputs": [
    {
     "data": {
      "text/html": [
       "<div>\n",
       "<style scoped>\n",
       "    .dataframe tbody tr th:only-of-type {\n",
       "        vertical-align: middle;\n",
       "    }\n",
       "\n",
       "    .dataframe tbody tr th {\n",
       "        vertical-align: top;\n",
       "    }\n",
       "\n",
       "    .dataframe thead th {\n",
       "        text-align: right;\n",
       "    }\n",
       "</style>\n",
       "<table border=\"1\" class=\"dataframe\">\n",
       "  <thead>\n",
       "    <tr style=\"text-align: right;\">\n",
       "      <th></th>\n",
       "      <th>2-chlorotoluene</th>\n",
       "      <th>o-tolunitrile</th>\n",
       "      <th>tetralin</th>\n",
       "      <th>column</th>\n",
       "      <th>row</th>\n",
       "      <th>path</th>\n",
       "      <th>conversion</th>\n",
       "      <th>yield</th>\n",
       "    </tr>\n",
       "  </thead>\n",
       "  <tbody>\n",
       "    <tr>\n",
       "      <th>0</th>\n",
       "      <td>0.037655</td>\n",
       "      <td>0.025016</td>\n",
       "      <td>73386.879917</td>\n",
       "      <td>1</td>\n",
       "      <td>1</td>\n",
       "      <td>/Users/haascp/Documents/GitHub/mocca/notebooks...</td>\n",
       "      <td>0.372414</td>\n",
       "      <td>0.416931</td>\n",
       "    </tr>\n",
       "    <tr>\n",
       "      <th>1</th>\n",
       "      <td>0.056014</td>\n",
       "      <td>0.000000</td>\n",
       "      <td>69735.014594</td>\n",
       "      <td>1</td>\n",
       "      <td>2</td>\n",
       "      <td>/Users/haascp/Documents/GitHub/mocca/notebooks...</td>\n",
       "      <td>0.066437</td>\n",
       "      <td>0.000000</td>\n",
       "    </tr>\n",
       "    <tr>\n",
       "      <th>2</th>\n",
       "      <td>0.058738</td>\n",
       "      <td>0.000000</td>\n",
       "      <td>66978.078563</td>\n",
       "      <td>1</td>\n",
       "      <td>3</td>\n",
       "      <td>/Users/haascp/Documents/GitHub/mocca/notebooks...</td>\n",
       "      <td>0.021032</td>\n",
       "      <td>0.000000</td>\n",
       "    </tr>\n",
       "    <tr>\n",
       "      <th>3</th>\n",
       "      <td>0.000000</td>\n",
       "      <td>0.037276</td>\n",
       "      <td>73010.115973</td>\n",
       "      <td>1</td>\n",
       "      <td>4</td>\n",
       "      <td>/Users/haascp/Documents/GitHub/mocca/notebooks...</td>\n",
       "      <td>1.000000</td>\n",
       "      <td>0.621261</td>\n",
       "    </tr>\n",
       "    <tr>\n",
       "      <th>4</th>\n",
       "      <td>0.000000</td>\n",
       "      <td>0.026764</td>\n",
       "      <td>67002.078051</td>\n",
       "      <td>1</td>\n",
       "      <td>5</td>\n",
       "      <td>/Users/haascp/Documents/GitHub/mocca/notebooks...</td>\n",
       "      <td>1.000000</td>\n",
       "      <td>0.446059</td>\n",
       "    </tr>\n",
       "    <tr>\n",
       "      <th>...</th>\n",
       "      <td>...</td>\n",
       "      <td>...</td>\n",
       "      <td>...</td>\n",
       "      <td>...</td>\n",
       "      <td>...</td>\n",
       "      <td>...</td>\n",
       "      <td>...</td>\n",
       "      <td>...</td>\n",
       "    </tr>\n",
       "    <tr>\n",
       "      <th>79</th>\n",
       "      <td>0.063676</td>\n",
       "      <td>0.000000</td>\n",
       "      <td>68613.008256</td>\n",
       "      <td>7</td>\n",
       "      <td>8</td>\n",
       "      <td>/Users/haascp/Documents/GitHub/mocca/notebooks...</td>\n",
       "      <td>-0.061269</td>\n",
       "      <td>0.000000</td>\n",
       "    </tr>\n",
       "    <tr>\n",
       "      <th>80</th>\n",
       "      <td>0.065554</td>\n",
       "      <td>0.000000</td>\n",
       "      <td>74660.942725</td>\n",
       "      <td>7</td>\n",
       "      <td>9</td>\n",
       "      <td>/Users/haascp/Documents/GitHub/mocca/notebooks...</td>\n",
       "      <td>-0.092563</td>\n",
       "      <td>0.000000</td>\n",
       "    </tr>\n",
       "    <tr>\n",
       "      <th>81</th>\n",
       "      <td>0.044093</td>\n",
       "      <td>0.000474</td>\n",
       "      <td>163366.194557</td>\n",
       "      <td>7</td>\n",
       "      <td>10</td>\n",
       "      <td>/Users/haascp/Documents/GitHub/mocca/notebooks...</td>\n",
       "      <td>0.265125</td>\n",
       "      <td>0.007904</td>\n",
       "    </tr>\n",
       "    <tr>\n",
       "      <th>82</th>\n",
       "      <td>0.055976</td>\n",
       "      <td>0.000000</td>\n",
       "      <td>65320.567042</td>\n",
       "      <td>7</td>\n",
       "      <td>11</td>\n",
       "      <td>/Users/haascp/Documents/GitHub/mocca/notebooks...</td>\n",
       "      <td>0.067063</td>\n",
       "      <td>0.000000</td>\n",
       "    </tr>\n",
       "    <tr>\n",
       "      <th>83</th>\n",
       "      <td>0.023031</td>\n",
       "      <td>0.000000</td>\n",
       "      <td>77475.754438</td>\n",
       "      <td>7</td>\n",
       "      <td>12</td>\n",
       "      <td>/Users/haascp/Documents/GitHub/mocca/notebooks...</td>\n",
       "      <td>0.616143</td>\n",
       "      <td>0.000000</td>\n",
       "    </tr>\n",
       "  </tbody>\n",
       "</table>\n",
       "<p>84 rows × 8 columns</p>\n",
       "</div>"
      ],
      "text/plain": [
       "    2-chlorotoluene  o-tolunitrile       tetralin column row  \\\n",
       "0          0.037655       0.025016   73386.879917      1   1   \n",
       "1          0.056014       0.000000   69735.014594      1   2   \n",
       "2          0.058738       0.000000   66978.078563      1   3   \n",
       "3          0.000000       0.037276   73010.115973      1   4   \n",
       "4          0.000000       0.026764   67002.078051      1   5   \n",
       "..              ...            ...            ...    ...  ..   \n",
       "79         0.063676       0.000000   68613.008256      7   8   \n",
       "80         0.065554       0.000000   74660.942725      7   9   \n",
       "81         0.044093       0.000474  163366.194557      7  10   \n",
       "82         0.055976       0.000000   65320.567042      7  11   \n",
       "83         0.023031       0.000000   77475.754438      7  12   \n",
       "\n",
       "                                                 path  conversion     yield  \n",
       "0   /Users/haascp/Documents/GitHub/mocca/notebooks...    0.372414  0.416931  \n",
       "1   /Users/haascp/Documents/GitHub/mocca/notebooks...    0.066437  0.000000  \n",
       "2   /Users/haascp/Documents/GitHub/mocca/notebooks...    0.021032  0.000000  \n",
       "3   /Users/haascp/Documents/GitHub/mocca/notebooks...    1.000000  0.621261  \n",
       "4   /Users/haascp/Documents/GitHub/mocca/notebooks...    1.000000  0.446059  \n",
       "..                                                ...         ...       ...  \n",
       "79  /Users/haascp/Documents/GitHub/mocca/notebooks...   -0.061269  0.000000  \n",
       "80  /Users/haascp/Documents/GitHub/mocca/notebooks...   -0.092563  0.000000  \n",
       "81  /Users/haascp/Documents/GitHub/mocca/notebooks...    0.265125  0.007904  \n",
       "82  /Users/haascp/Documents/GitHub/mocca/notebooks...    0.067063  0.000000  \n",
       "83  /Users/haascp/Documents/GitHub/mocca/notebooks...    0.616143  0.000000  \n",
       "\n",
       "[84 rows x 8 columns]"
      ]
     },
     "execution_count": 19,
     "metadata": {},
     "output_type": "execute_result"
    }
   ],
   "source": [
    "results_df = pd.DataFrame(results)\n",
    "row_order = [str(val) for val in list(range(1, 13))]\n",
    "results_df"
   ]
  },
  {
   "cell_type": "code",
   "execution_count": 20,
   "id": "944771b5-708c-48c5-9f70-9ff43b417cc3",
   "metadata": {},
   "outputs": [
    {
     "data": {
      "text/html": [
       "\n",
       "<div id=\"altair-viz-74ed649e1ce14dacbf696440df0f1fb8\"></div>\n",
       "<script type=\"text/javascript\">\n",
       "  (function(spec, embedOpt){\n",
       "    let outputDiv = document.currentScript.previousElementSibling;\n",
       "    if (outputDiv.id !== \"altair-viz-74ed649e1ce14dacbf696440df0f1fb8\") {\n",
       "      outputDiv = document.getElementById(\"altair-viz-74ed649e1ce14dacbf696440df0f1fb8\");\n",
       "    }\n",
       "    const paths = {\n",
       "      \"vega\": \"https://cdn.jsdelivr.net/npm//vega@5?noext\",\n",
       "      \"vega-lib\": \"https://cdn.jsdelivr.net/npm//vega-lib?noext\",\n",
       "      \"vega-lite\": \"https://cdn.jsdelivr.net/npm//vega-lite@4.8.1?noext\",\n",
       "      \"vega-embed\": \"https://cdn.jsdelivr.net/npm//vega-embed@6?noext\",\n",
       "    };\n",
       "\n",
       "    function loadScript(lib) {\n",
       "      return new Promise(function(resolve, reject) {\n",
       "        var s = document.createElement('script');\n",
       "        s.src = paths[lib];\n",
       "        s.async = true;\n",
       "        s.onload = () => resolve(paths[lib]);\n",
       "        s.onerror = () => reject(`Error loading script: ${paths[lib]}`);\n",
       "        document.getElementsByTagName(\"head\")[0].appendChild(s);\n",
       "      });\n",
       "    }\n",
       "\n",
       "    function showError(err) {\n",
       "      outputDiv.innerHTML = `<div class=\"error\" style=\"color:red;\">${err}</div>`;\n",
       "      throw err;\n",
       "    }\n",
       "\n",
       "    function displayChart(vegaEmbed) {\n",
       "      vegaEmbed(outputDiv, spec, embedOpt)\n",
       "        .catch(err => showError(`Javascript Error: ${err.message}<br>This usually means there's a typo in your chart specification. See the javascript console for the full traceback.`));\n",
       "    }\n",
       "\n",
       "    if(typeof define === \"function\" && define.amd) {\n",
       "      requirejs.config({paths});\n",
       "      require([\"vega-embed\"], displayChart, err => showError(`Error loading script: ${err.message}`));\n",
       "    } else if (typeof vegaEmbed === \"function\") {\n",
       "      displayChart(vegaEmbed);\n",
       "    } else {\n",
       "      loadScript(\"vega\")\n",
       "        .then(() => loadScript(\"vega-lite\"))\n",
       "        .then(() => loadScript(\"vega-embed\"))\n",
       "        .catch(showError)\n",
       "        .then(() => displayChart(vegaEmbed));\n",
       "    }\n",
       "  })({\"config\": {\"view\": {\"continuousWidth\": 400, \"continuousHeight\": 300}}, \"layer\": [{\"mark\": \"rect\", \"encoding\": {\"color\": {\"type\": \"quantitative\", \"field\": \"yield\", \"title\": \"Yield\"}, \"x\": {\"type\": \"nominal\", \"field\": \"row\", \"sort\": [\"1\", \"2\", \"3\", \"4\", \"5\", \"6\", \"7\", \"8\", \"9\", \"10\", \"11\", \"12\"]}, \"y\": {\"type\": \"nominal\", \"field\": \"column\"}}, \"title\": \"Yield\"}, {\"mark\": \"text\", \"encoding\": {\"text\": {\"type\": \"quantitative\", \"field\": \"yield\"}, \"x\": {\"type\": \"nominal\", \"field\": \"row\", \"sort\": [\"1\", \"2\", \"3\", \"4\", \"5\", \"6\", \"7\", \"8\", \"9\", \"10\", \"11\", \"12\"]}, \"y\": {\"type\": \"nominal\", \"field\": \"column\"}}, \"title\": \"Yield\"}], \"data\": {\"name\": \"data-ec8a12312751a5a04079d29348fa1818\"}, \"$schema\": \"https://vega.github.io/schema/vega-lite/v4.8.1.json\", \"datasets\": {\"data-ec8a12312751a5a04079d29348fa1818\": [{\"2-chlorotoluene\": 0.037655181779069555, \"o-tolunitrile\": 0.025015848823829824, \"tetralin\": 73386.87991740889, \"column\": \"1\", \"row\": \"1\", \"path\": \"/Users/haascp/Documents/GitHub/mocca/notebooks/cyanation_data/09072021_sample_4.txt\", \"conversion\": 0.3724136370155074, \"yield\": 42.0}, {\"2-chlorotoluene\": 0.05601380960467016, \"o-tolunitrile\": 0.0, \"tetralin\": 69735.01459407007, \"column\": \"1\", \"row\": \"2\", \"path\": \"/Users/haascp/Documents/GitHub/mocca/notebooks/cyanation_data/09072021_sample_5.txt\", \"conversion\": 0.06643650658883066, \"yield\": 0.0}, {\"2-chlorotoluene\": 0.058738097176244355, \"o-tolunitrile\": 0.0, \"tetralin\": 66978.07856264607, \"column\": \"1\", \"row\": \"3\", \"path\": \"/Users/haascp/Documents/GitHub/mocca/notebooks/cyanation_data/09072021_sample_6.txt\", \"conversion\": 0.021031713729260708, \"yield\": 0.0}, {\"2-chlorotoluene\": 0.0, \"o-tolunitrile\": 0.037275652803544154, \"tetralin\": 73010.1159725872, \"column\": \"1\", \"row\": \"4\", \"path\": \"/Users/haascp/Documents/GitHub/mocca/notebooks/cyanation_data/09072021_sample_7.txt\", \"conversion\": 1.0, \"yield\": 62.0}, {\"2-chlorotoluene\": 0.0, \"o-tolunitrile\": 0.026763528113362307, \"tetralin\": 67002.07805142495, \"column\": \"1\", \"row\": \"5\", \"path\": \"/Users/haascp/Documents/GitHub/mocca/notebooks/cyanation_data/09072021_sample_8.txt\", \"conversion\": 1.0, \"yield\": 45.0}, {\"2-chlorotoluene\": 0.0, \"o-tolunitrile\": 0.057240705627312295, \"tetralin\": 61574.90309181073, \"column\": \"1\", \"row\": \"6\", \"path\": \"/Users/haascp/Documents/GitHub/mocca/notebooks/cyanation_data/09072021_sample_9.txt\", \"conversion\": 1.0, \"yield\": 95.0}, {\"2-chlorotoluene\": 0.04434243393367592, \"o-tolunitrile\": 0.010284283508344637, \"tetralin\": 93840.13069732246, \"column\": \"1\", \"row\": \"7\", \"path\": \"/Users/haascp/Documents/GitHub/mocca/notebooks/cyanation_data/09072021_sample_10.txt\", \"conversion\": 0.2609594344387346, \"yield\": 17.0}, {\"2-chlorotoluene\": 0.051503746709565056, \"o-tolunitrile\": 0.004927338071094112, \"tetralin\": 59452.44558723102, \"column\": \"1\", \"row\": \"8\", \"path\": \"/Users/haascp/Documents/GitHub/mocca/notebooks/cyanation_data/09072021_sample_11.txt\", \"conversion\": 0.14160422150724905, \"yield\": 8.0}, {\"2-chlorotoluene\": 0.04270001152579554, \"o-tolunitrile\": 0.008988345854013185, \"tetralin\": 65894.03509343207, \"column\": \"1\", \"row\": \"9\", \"path\": \"/Users/haascp/Documents/GitHub/mocca/notebooks/cyanation_data/09072021_sample_12.txt\", \"conversion\": 0.2883331412367409, \"yield\": 15.0}, {\"2-chlorotoluene\": 0.05146430937763543, \"o-tolunitrile\": 0.0, \"tetralin\": 64582.420209487485, \"column\": \"1\", \"row\": \"10\", \"path\": \"/Users/haascp/Documents/GitHub/mocca/notebooks/cyanation_data/09072021_sample_13.txt\", \"conversion\": 0.14226151037274282, \"yield\": 0.0}, {\"2-chlorotoluene\": 0.04951830216991197, \"o-tolunitrile\": 0.0, \"tetralin\": 62808.26003432067, \"column\": \"1\", \"row\": \"11\", \"path\": \"/Users/haascp/Documents/GitHub/mocca/notebooks/cyanation_data/09072021_sample_14.txt\", \"conversion\": 0.17469496383480052, \"yield\": 0.0}, {\"2-chlorotoluene\": 0.05188722768178249, \"o-tolunitrile\": 0.0, \"tetralin\": 60820.93147446117, \"column\": \"1\", \"row\": \"12\", \"path\": \"/Users/haascp/Documents/GitHub/mocca/notebooks/cyanation_data/09072021_sample_15.txt\", \"conversion\": 0.13521287197029175, \"yield\": 0.0}, {\"2-chlorotoluene\": 0.045348571966590964, \"o-tolunitrile\": 0.0, \"tetralin\": 70172.86050976894, \"column\": \"2\", \"row\": \"1\", \"path\": \"/Users/haascp/Documents/GitHub/mocca/notebooks/cyanation_data/09072021_sample_16.txt\", \"conversion\": 0.2441904672234839, \"yield\": 0.0}, {\"2-chlorotoluene\": 0.05762580118198132, \"o-tolunitrile\": 0.0016819556805131996, \"tetralin\": 63550.57607165245, \"column\": \"2\", \"row\": \"2\", \"path\": \"/Users/haascp/Documents/GitHub/mocca/notebooks/cyanation_data/09072021_sample_17.txt\", \"conversion\": 0.039569980300311246, \"yield\": 3.0}, {\"2-chlorotoluene\": 0.044300997464905345, \"o-tolunitrile\": 0.0, \"tetralin\": 67894.29486322058, \"column\": \"2\", \"row\": \"3\", \"path\": \"/Users/haascp/Documents/GitHub/mocca/notebooks/cyanation_data/09072021_sample_18.txt\", \"conversion\": 0.26165004225157756, \"yield\": 0.0}, {\"2-chlorotoluene\": 0.04054896610700309, \"o-tolunitrile\": 0.0016383207965059397, \"tetralin\": 69074.94853339095, \"column\": \"2\", \"row\": \"4\", \"path\": \"/Users/haascp/Documents/GitHub/mocca/notebooks/cyanation_data/09072021_sample_19.txt\", \"conversion\": 0.3241838982166151, \"yield\": 3.0}, {\"2-chlorotoluene\": 0.05905199425868096, \"o-tolunitrile\": 0.003415284911428135, \"tetralin\": 61370.62196578911, \"column\": \"2\", \"row\": \"5\", \"path\": \"/Users/haascp/Documents/GitHub/mocca/notebooks/cyanation_data/09072021_sample_20.txt\", \"conversion\": 0.015800095688650595, \"yield\": 6.0}, {\"2-chlorotoluene\": 0.04848671251353271, \"o-tolunitrile\": 0.0, \"tetralin\": 62538.21048606175, \"column\": \"2\", \"row\": \"6\", \"path\": \"/Users/haascp/Documents/GitHub/mocca/notebooks/cyanation_data/09072021_sample_21.txt\", \"conversion\": 0.1918881247744548, \"yield\": 0.0}, {\"2-chlorotoluene\": 0.051176667016423955, \"o-tolunitrile\": 0.014142125470363944, \"tetralin\": 65569.806333391, \"column\": \"2\", \"row\": \"7\", \"path\": \"/Users/haascp/Documents/GitHub/mocca/notebooks/cyanation_data/09072021_sample_22.txt\", \"conversion\": 0.1470555497262674, \"yield\": 24.0}, {\"2-chlorotoluene\": 0.051663047008476674, \"o-tolunitrile\": 0.00712554341893531, \"tetralin\": 60175.982598112416, \"column\": \"2\", \"row\": \"8\", \"path\": \"/Users/haascp/Documents/GitHub/mocca/notebooks/cyanation_data/09072021_sample_23.txt\", \"conversion\": 0.13894921652538872, \"yield\": 12.0}, {\"2-chlorotoluene\": 0.047666423428993215, \"o-tolunitrile\": 0.013578847362369919, \"tetralin\": 60842.76007955512, \"column\": \"2\", \"row\": \"9\", \"path\": \"/Users/haascp/Documents/GitHub/mocca/notebooks/cyanation_data/09072021_sample_24.txt\", \"conversion\": 0.2055596095167797, \"yield\": 23.0}, {\"2-chlorotoluene\": 0.04806537660020207, \"o-tolunitrile\": 0.003929825795456086, \"tetralin\": 64421.42579811241, \"column\": \"2\", \"row\": \"10\", \"path\": \"/Users/haascp/Documents/GitHub/mocca/notebooks/cyanation_data/09072021_sample_25.txt\", \"conversion\": 0.19891038999663216, \"yield\": 7.0}, {\"2-chlorotoluene\": 0.04294451211937743, \"o-tolunitrile\": 0.001399386465946103, \"tetralin\": 58279.59777956074, \"column\": \"2\", \"row\": \"11\", \"path\": \"/Users/haascp/Documents/GitHub/mocca/notebooks/cyanation_data/09072021_sample_26.txt\", \"conversion\": 0.2842581313437095, \"yield\": 2.0}, {\"2-chlorotoluene\": 0.05026326699075905, \"o-tolunitrile\": 0.003837730302009003, \"tetralin\": 94276.94589689914, \"column\": \"2\", \"row\": \"12\", \"path\": \"/Users/haascp/Documents/GitHub/mocca/notebooks/cyanation_data/09072021_sample_27.txt\", \"conversion\": 0.1622788834873491, \"yield\": 6.0}, {\"2-chlorotoluene\": 0.05762504295683155, \"o-tolunitrile\": 0.0, \"tetralin\": 67628.45917816297, \"column\": \"3\", \"row\": \"1\", \"path\": \"/Users/haascp/Documents/GitHub/mocca/notebooks/cyanation_data/09072021_sample_28.txt\", \"conversion\": 0.03958261738614075, \"yield\": 0.0}, {\"2-chlorotoluene\": 0.0453877847961217, \"o-tolunitrile\": 0.0011509152590779346, \"tetralin\": 62574.75076546216, \"column\": \"3\", \"row\": \"2\", \"path\": \"/Users/haascp/Documents/GitHub/mocca/notebooks/cyanation_data/09072021_sample_29.txt\", \"conversion\": 0.24353692006463837, \"yield\": 2.0}, {\"2-chlorotoluene\": 0.06281534087564196, \"o-tolunitrile\": 0.0, \"tetralin\": 63684.20051365836, \"column\": \"3\", \"row\": \"3\", \"path\": \"/Users/haascp/Documents/GitHub/mocca/notebooks/cyanation_data/09072021_sample_30.txt\", \"conversion\": -0.04692234792736602, \"yield\": 0.0}, {\"2-chlorotoluene\": 0.0, \"o-tolunitrile\": 0.05284211529906123, \"tetralin\": 66002.25191507771, \"column\": \"3\", \"row\": \"4\", \"path\": \"/Users/haascp/Documents/GitHub/mocca/notebooks/cyanation_data/09072021_sample_31.txt\", \"conversion\": 1.0, \"yield\": 88.0}, {\"2-chlorotoluene\": 0.0, \"o-tolunitrile\": 0.04576355326829054, \"tetralin\": 60522.447296107595, \"column\": \"3\", \"row\": \"5\", \"path\": \"/Users/haascp/Documents/GitHub/mocca/notebooks/cyanation_data/09072021_sample_32.txt\", \"conversion\": 1.0, \"yield\": 76.0}, {\"2-chlorotoluene\": 0.052728554309144735, \"o-tolunitrile\": 0.0, \"tetralin\": 60387.440348435994, \"column\": \"3\", \"row\": \"6\", \"path\": \"/Users/haascp/Documents/GitHub/mocca/notebooks/cyanation_data/09072021_sample_33.txt\", \"conversion\": 0.1211907615142544, \"yield\": 0.0}, {\"2-chlorotoluene\": 0.03783133621359515, \"o-tolunitrile\": 0.027725204689784733, \"tetralin\": 62612.598456453146, \"column\": \"3\", \"row\": \"7\", \"path\": \"/Users/haascp/Documents/GitHub/mocca/notebooks/cyanation_data/09072021_sample_34.txt\", \"conversion\": 0.36947772977341414, \"yield\": 46.0}, {\"2-chlorotoluene\": 0.041117867469381696, \"o-tolunitrile\": 0.014904550212730685, \"tetralin\": 58545.606657017626, \"column\": \"3\", \"row\": \"8\", \"path\": \"/Users/haascp/Documents/GitHub/mocca/notebooks/cyanation_data/09072021_sample_35.txt\", \"conversion\": 0.31470220884363836, \"yield\": 25.0}, {\"2-chlorotoluene\": 0.040362820339105106, \"o-tolunitrile\": 0.01580455731254064, \"tetralin\": 70326.53740544787, \"column\": \"3\", \"row\": \"9\", \"path\": \"/Users/haascp/Documents/GitHub/mocca/notebooks/cyanation_data/09072021_sample_36.txt\", \"conversion\": 0.32728632768158156, \"yield\": 26.0}, {\"2-chlorotoluene\": 0.0471833773647475, \"o-tolunitrile\": 0.0026470127777488413, \"tetralin\": 61775.228034896856, \"column\": \"3\", \"row\": \"10\", \"path\": \"/Users/haascp/Documents/GitHub/mocca/notebooks/cyanation_data/09072021_sample_37.txt\", \"conversion\": 0.21361037725420828, \"yield\": 4.0}, {\"2-chlorotoluene\": 0.04392365768206607, \"o-tolunitrile\": 0.0015039206656350746, \"tetralin\": 66811.21374371894, \"column\": \"3\", \"row\": \"11\", \"path\": \"/Users/haascp/Documents/GitHub/mocca/notebooks/cyanation_data/09072021_sample_38.txt\", \"conversion\": 0.2679390386322322, \"yield\": 3.0}, {\"2-chlorotoluene\": 0.04637472576489774, \"o-tolunitrile\": 0.0025057984842306764, \"tetralin\": 129948.35622312588, \"column\": \"3\", \"row\": \"12\", \"path\": \"/Users/haascp/Documents/GitHub/mocca/notebooks/cyanation_data/09072021_sample_39.txt\", \"conversion\": 0.22708790391837094, \"yield\": 4.0}, {\"2-chlorotoluene\": 0.10353870895436183, \"o-tolunitrile\": 0.0, \"tetralin\": 37557.37504494999, \"column\": \"4\", \"row\": \"1\", \"path\": \"/Users/haascp/Documents/GitHub/mocca/notebooks/cyanation_data/09072021_sample_40.txt\", \"conversion\": -0.725645149239364, \"yield\": 0.0}, {\"2-chlorotoluene\": 0.08297795181144933, \"o-tolunitrile\": 0.0, \"tetralin\": 39158.044618193686, \"column\": \"4\", \"row\": \"2\", \"path\": \"/Users/haascp/Documents/GitHub/mocca/notebooks/cyanation_data/09072021_sample_41.txt\", \"conversion\": -0.38296586352415557, \"yield\": 0.0}, {\"2-chlorotoluene\": 0.08143920629695674, \"o-tolunitrile\": 0.0, \"tetralin\": 44922.16622205035, \"column\": \"4\", \"row\": \"3\", \"path\": \"/Users/haascp/Documents/GitHub/mocca/notebooks/cyanation_data/09072021_sample_42.txt\", \"conversion\": -0.357320104949279, \"yield\": 0.0}, {\"2-chlorotoluene\": 0.09363866697257339, \"o-tolunitrile\": 0.0030520054375543725, \"tetralin\": 41936.87465620254, \"column\": \"4\", \"row\": \"4\", \"path\": \"/Users/haascp/Documents/GitHub/mocca/notebooks/cyanation_data/09072021_sample_43.txt\", \"conversion\": -0.5606444495428899, \"yield\": 5.0}, {\"2-chlorotoluene\": 0.0513225959510678, \"o-tolunitrile\": 0.03956466739866579, \"tetralin\": 39923.4750330738, \"column\": \"4\", \"row\": \"5\", \"path\": \"/Users/haascp/Documents/GitHub/mocca/notebooks/cyanation_data/09072021_sample_44.txt\", \"conversion\": 0.14462340081553665, \"yield\": 66.0}, {\"2-chlorotoluene\": 0.10963517459986201, \"o-tolunitrile\": 0.0, \"tetralin\": 33573.93207548307, \"column\": \"4\", \"row\": \"6\", \"path\": \"/Users/haascp/Documents/GitHub/mocca/notebooks/cyanation_data/09072021_sample_45.txt\", \"conversion\": -0.8272529099977002, \"yield\": 0.0}, {\"2-chlorotoluene\": 0.012305648068043348, \"o-tolunitrile\": 0.045159026511440194, \"tetralin\": 69246.98745608596, \"column\": \"4\", \"row\": \"7\", \"path\": \"/Users/haascp/Documents/GitHub/mocca/notebooks/cyanation_data/09072021_sample_46.txt\", \"conversion\": 0.7949058655326108, \"yield\": 75.0}, {\"2-chlorotoluene\": 0.031855653766429334, \"o-tolunitrile\": 0.021177630830391866, \"tetralin\": 64851.2145439764, \"column\": \"4\", \"row\": \"8\", \"path\": \"/Users/haascp/Documents/GitHub/mocca/notebooks/cyanation_data/09072021_sample_47.txt\", \"conversion\": 0.46907243722617775, \"yield\": 35.0}, {\"2-chlorotoluene\": 0.07533393200436465, \"o-tolunitrile\": 0.017259505014482434, \"tetralin\": 62117.782469806225, \"column\": \"4\", \"row\": \"9\", \"path\": \"/Users/haascp/Documents/GitHub/mocca/notebooks/cyanation_data/09072021_sample_48.txt\", \"conversion\": -0.2555655334060776, \"yield\": 29.0}, {\"2-chlorotoluene\": 0.050077066339188014, \"o-tolunitrile\": 0.003514312595817465, \"tetralin\": 63051.284905597044, \"column\": \"4\", \"row\": \"10\", \"path\": \"/Users/haascp/Documents/GitHub/mocca/notebooks/cyanation_data/09072021_sample_49.txt\", \"conversion\": 0.16538222768019972, \"yield\": 6.0}, {\"2-chlorotoluene\": 0.04487486892600406, \"o-tolunitrile\": 0.0015701630324119944, \"tetralin\": 89283.9053767191, \"column\": \"4\", \"row\": \"11\", \"path\": \"/Users/haascp/Documents/GitHub/mocca/notebooks/cyanation_data/09072021_sample_50.txt\", \"conversion\": 0.2520855178999323, \"yield\": 3.0}, {\"2-chlorotoluene\": 0.0, \"o-tolunitrile\": 0.016219225196531663, \"tetralin\": 68374.76913879064, \"column\": \"4\", \"row\": \"12\", \"path\": \"/Users/haascp/Documents/GitHub/mocca/notebooks/cyanation_data/09072021_sample_51.txt\", \"conversion\": 1.0, \"yield\": 27.0}, {\"2-chlorotoluene\": 0.06795716358448001, \"o-tolunitrile\": 0.0, \"tetralin\": 63343.47301534962, \"column\": \"5\", \"row\": \"1\", \"path\": \"/Users/haascp/Documents/GitHub/mocca/notebooks/cyanation_data/09072021_sample_52.txt\", \"conversion\": -0.13261939307466683, \"yield\": 0.0}, {\"2-chlorotoluene\": 0.07165831861923982, \"o-tolunitrile\": 0.0, \"tetralin\": 60782.44345336337, \"column\": \"5\", \"row\": \"2\", \"path\": \"/Users/haascp/Documents/GitHub/mocca/notebooks/cyanation_data/09072021_sample_53.txt\", \"conversion\": -0.19430531032066378, \"yield\": 0.0}, {\"2-chlorotoluene\": 0.06043646880612061, \"o-tolunitrile\": 0.0, \"tetralin\": 59212.457671062766, \"column\": \"5\", \"row\": \"3\", \"path\": \"/Users/haascp/Documents/GitHub/mocca/notebooks/cyanation_data/09072021_sample_54.txt\", \"conversion\": -0.007274480102010169, \"yield\": 0.0}, {\"2-chlorotoluene\": 0.0603441685588483, \"o-tolunitrile\": 0.0, \"tetralin\": 67172.55302324586, \"column\": \"5\", \"row\": \"4\", \"path\": \"/Users/haascp/Documents/GitHub/mocca/notebooks/cyanation_data/09072021_sample_55.txt\", \"conversion\": -0.0057361426474716645, \"yield\": 0.0}, {\"2-chlorotoluene\": 0.054459835743370696, \"o-tolunitrile\": 0.001150637831472393, \"tetralin\": 62007.7139949019, \"column\": \"5\", \"row\": \"5\", \"path\": \"/Users/haascp/Documents/GitHub/mocca/notebooks/cyanation_data/09072021_sample_56.txt\", \"conversion\": 0.0923360709438217, \"yield\": 2.0}, {\"2-chlorotoluene\": 0.060931980569400704, \"o-tolunitrile\": 0.0, \"tetralin\": 63105.18494546953, \"column\": \"5\", \"row\": \"6\", \"path\": \"/Users/haascp/Documents/GitHub/mocca/notebooks/cyanation_data/09072021_sample_57.txt\", \"conversion\": -0.015533009490011768, \"yield\": 0.0}, {\"2-chlorotoluene\": 0.006737064751579292, \"o-tolunitrile\": 0.05608245615314473, \"tetralin\": 67099.7222467391, \"column\": \"5\", \"row\": \"7\", \"path\": \"/Users/haascp/Documents/GitHub/mocca/notebooks/cyanation_data/09072021_sample_58.txt\", \"conversion\": 0.8877155874736784, \"yield\": 93.0}, {\"2-chlorotoluene\": 0.033278609862981826, \"o-tolunitrile\": 0.02732230306097923, \"tetralin\": 57234.308840932106, \"column\": \"5\", \"row\": \"8\", \"path\": \"/Users/haascp/Documents/GitHub/mocca/notebooks/cyanation_data/09072021_sample_59.txt\", \"conversion\": 0.4453565022836362, \"yield\": 46.0}, {\"2-chlorotoluene\": 0.058704385101602856, \"o-tolunitrile\": 0.002533331266645779, \"tetralin\": 71669.83161457162, \"column\": \"5\", \"row\": \"9\", \"path\": \"/Users/haascp/Documents/GitHub/mocca/notebooks/cyanation_data/09072021_sample_60.txt\", \"conversion\": 0.021593581639952366, \"yield\": 4.0}, {\"2-chlorotoluene\": 0.044265604804826886, \"o-tolunitrile\": 0.010418479174419213, \"tetralin\": 62761.75576853279, \"column\": \"5\", \"row\": \"10\", \"path\": \"/Users/haascp/Documents/GitHub/mocca/notebooks/cyanation_data/09072021_sample_61.txt\", \"conversion\": 0.26223991991955187, \"yield\": 17.0}, {\"2-chlorotoluene\": 0.04157161803279761, \"o-tolunitrile\": 0.0037676502382585986, \"tetralin\": 142853.79427131652, \"column\": \"5\", \"row\": \"11\", \"path\": \"/Users/haascp/Documents/GitHub/mocca/notebooks/cyanation_data/09072021_sample_62.txt\", \"conversion\": 0.30713969945337316, \"yield\": 6.0}, {\"2-chlorotoluene\": 0.057681078651019756, \"o-tolunitrile\": 0.013970462221901235, \"tetralin\": 99677.19966562923, \"column\": \"5\", \"row\": \"12\", \"path\": \"/Users/haascp/Documents/GitHub/mocca/notebooks/cyanation_data/09072021_sample_63.txt\", \"conversion\": 0.038648689149670706, \"yield\": 23.0}, {\"2-chlorotoluene\": 0.050579550796596505, \"o-tolunitrile\": 0.011368450579824132, \"tetralin\": 60176.668618165946, \"column\": \"6\", \"row\": \"1\", \"path\": \"/Users/haascp/Documents/GitHub/mocca/notebooks/cyanation_data/09072021_sample_64.txt\", \"conversion\": 0.15700748672339154, \"yield\": 19.0}, {\"2-chlorotoluene\": 0.05496468580444587, \"o-tolunitrile\": 0.004608515983971604, \"tetralin\": 58997.25802929908, \"column\": \"6\", \"row\": \"2\", \"path\": \"/Users/haascp/Documents/GitHub/mocca/notebooks/cyanation_data/09072021_sample_65.txt\", \"conversion\": 0.08392190325923546, \"yield\": 8.0}, {\"2-chlorotoluene\": 0.05703987746616257, \"o-tolunitrile\": 0.0, \"tetralin\": 74776.31263665283, \"column\": \"6\", \"row\": \"3\", \"path\": \"/Users/haascp/Documents/GitHub/mocca/notebooks/cyanation_data/09072021_sample_66.txt\", \"conversion\": 0.04933537556395714, \"yield\": 0.0}, {\"2-chlorotoluene\": 0.031437966542523725, \"o-tolunitrile\": 0.02876769115250908, \"tetralin\": 61369.382523433764, \"column\": \"6\", \"row\": \"4\", \"path\": \"/Users/haascp/Documents/GitHub/mocca/notebooks/cyanation_data/09072021_sample_67.txt\", \"conversion\": 0.4760338909579379, \"yield\": 48.0}, {\"2-chlorotoluene\": 0.03984570109464501, \"o-tolunitrile\": 0.017066965406189055, \"tetralin\": 58530.47050962721, \"column\": \"6\", \"row\": \"5\", \"path\": \"/Users/haascp/Documents/GitHub/mocca/notebooks/cyanation_data/09072021_sample_68.txt\", \"conversion\": 0.33590498175591643, \"yield\": 28.0}, {\"2-chlorotoluene\": 0.0, \"o-tolunitrile\": 0.0526390864500046, \"tetralin\": 59381.27361549333, \"column\": \"6\", \"row\": \"6\", \"path\": \"/Users/haascp/Documents/GitHub/mocca/notebooks/cyanation_data/09072021_sample_69.txt\", \"conversion\": 1.0, \"yield\": 88.0}, {\"2-chlorotoluene\": 0.00787810492821975, \"o-tolunitrile\": 0.05534632683960503, \"tetralin\": 76378.03383969203, \"column\": \"6\", \"row\": \"7\", \"path\": \"/Users/haascp/Documents/GitHub/mocca/notebooks/cyanation_data/09072021_sample_70.txt\", \"conversion\": 0.8686982511963375, \"yield\": 92.0}, {\"2-chlorotoluene\": 0.01802373475991051, \"o-tolunitrile\": 0.04081599849920496, \"tetralin\": 110348.6857222779, \"column\": \"6\", \"row\": \"8\", \"path\": \"/Users/haascp/Documents/GitHub/mocca/notebooks/cyanation_data/09072021_sample_71.txt\", \"conversion\": 0.6996044206681582, \"yield\": 68.0}, {\"2-chlorotoluene\": 0.05682245407887977, \"o-tolunitrile\": 0.004152269496746479, \"tetralin\": 72283.57048246934, \"column\": \"6\", \"row\": \"9\", \"path\": \"/Users/haascp/Documents/GitHub/mocca/notebooks/cyanation_data/09072021_sample_72.txt\", \"conversion\": 0.052959098685337096, \"yield\": 7.0}, {\"2-chlorotoluene\": 0.04516946059183887, \"o-tolunitrile\": 0.005414648593068091, \"tetralin\": 95186.7682615171, \"column\": \"6\", \"row\": \"10\", \"path\": \"/Users/haascp/Documents/GitHub/mocca/notebooks/cyanation_data/09072021_sample_73.txt\", \"conversion\": 0.24717565680268544, \"yield\": 9.0}, {\"2-chlorotoluene\": 0.04331544273909115, \"o-tolunitrile\": 0.00818825358515841, \"tetralin\": 157576.33957672678, \"column\": \"6\", \"row\": \"11\", \"path\": \"/Users/haascp/Documents/GitHub/mocca/notebooks/cyanation_data/09072021_sample_74.txt\", \"conversion\": 0.27807595434848076, \"yield\": 14.0}, {\"2-chlorotoluene\": 0.04388342338225627, \"o-tolunitrile\": 0.008696968593654458, \"tetralin\": 61229.1121734989, \"column\": \"6\", \"row\": \"12\", \"path\": \"/Users/haascp/Documents/GitHub/mocca/notebooks/cyanation_data/09072021_sample_75.txt\", \"conversion\": 0.2686096102957288, \"yield\": 14.0}, {\"2-chlorotoluene\": 0.07067793798352967, \"o-tolunitrile\": 0.0, \"tetralin\": 62589.61391499315, \"column\": \"7\", \"row\": \"1\", \"path\": \"/Users/haascp/Documents/GitHub/mocca/notebooks/cyanation_data/09072021_sample_76.txt\", \"conversion\": -0.1779656330588279, \"yield\": 0.0}, {\"2-chlorotoluene\": 0.05834062942694712, \"o-tolunitrile\": 0.0, \"tetralin\": 86603.68355429293, \"column\": \"7\", \"row\": \"2\", \"path\": \"/Users/haascp/Documents/GitHub/mocca/notebooks/cyanation_data/09072021_sample_77.txt\", \"conversion\": 0.02765617621754794, \"yield\": 0.0}, {\"2-chlorotoluene\": 0.060112374786724564, \"o-tolunitrile\": 0.0, \"tetralin\": 75569.32144422039, \"column\": \"7\", \"row\": \"3\", \"path\": \"/Users/haascp/Documents/GitHub/mocca/notebooks/cyanation_data/09072021_sample_78.txt\", \"conversion\": -0.0018729131120760977, \"yield\": 0.0}, {\"2-chlorotoluene\": 0.06070108919305824, \"o-tolunitrile\": 0.0, \"tetralin\": 61061.372145719244, \"column\": \"7\", \"row\": \"4\", \"path\": \"/Users/haascp/Documents/GitHub/mocca/notebooks/cyanation_data/09072021_sample_79.txt\", \"conversion\": -0.011684819884304084, \"yield\": 0.0}, {\"2-chlorotoluene\": 0.061551861428171706, \"o-tolunitrile\": 0.0, \"tetralin\": 56549.0652925112, \"column\": \"7\", \"row\": \"5\", \"path\": \"/Users/haascp/Documents/GitHub/mocca/notebooks/cyanation_data/09072021_sample_80.txt\", \"conversion\": -0.025864357136195136, \"yield\": 0.0}, {\"2-chlorotoluene\": 0.07325776988270435, \"o-tolunitrile\": 0.0, \"tetralin\": 63531.043040752964, \"column\": \"7\", \"row\": \"6\", \"path\": \"/Users/haascp/Documents/GitHub/mocca/notebooks/cyanation_data/09072021_sample_81.txt\", \"conversion\": -0.22096283137840594, \"yield\": 0.0}, {\"2-chlorotoluene\": 0.05043794777333267, \"o-tolunitrile\": 0.0, \"tetralin\": 138617.31812416352, \"column\": \"7\", \"row\": \"7\", \"path\": \"/Users/haascp/Documents/GitHub/mocca/notebooks/cyanation_data/09072021_sample_82.txt\", \"conversion\": 0.1593675371111221, \"yield\": 0.0}, {\"2-chlorotoluene\": 0.06367616747639529, \"o-tolunitrile\": 0.0, \"tetralin\": 68613.00825575044, \"column\": \"7\", \"row\": \"8\", \"path\": \"/Users/haascp/Documents/GitHub/mocca/notebooks/cyanation_data/09072021_sample_83.txt\", \"conversion\": -0.06126945793992154, \"yield\": 0.0}, {\"2-chlorotoluene\": 0.0655537940703482, \"o-tolunitrile\": 0.0, \"tetralin\": 74660.94272538488, \"column\": \"7\", \"row\": \"9\", \"path\": \"/Users/haascp/Documents/GitHub/mocca/notebooks/cyanation_data/09072021_sample_84.txt\", \"conversion\": -0.09256323450580334, \"yield\": 0.0}, {\"2-chlorotoluene\": 0.04409251349105557, \"o-tolunitrile\": 0.0004742489294274898, \"tetralin\": 163366.19455749638, \"column\": \"7\", \"row\": \"10\", \"path\": \"/Users/haascp/Documents/GitHub/mocca/notebooks/cyanation_data/09072021_sample_85.txt\", \"conversion\": 0.2651247751490738, \"yield\": 1.0}, {\"2-chlorotoluene\": 0.05597621579643441, \"o-tolunitrile\": 0.0, \"tetralin\": 65320.5670424904, \"column\": \"7\", \"row\": \"11\", \"path\": \"/Users/haascp/Documents/GitHub/mocca/notebooks/cyanation_data/09072021_sample_86.txt\", \"conversion\": 0.06706307005942651, \"yield\": 0.0}, {\"2-chlorotoluene\": 0.023031437475335263, \"o-tolunitrile\": 0.0, \"tetralin\": 77475.75443782537, \"column\": \"7\", \"row\": \"12\", \"path\": \"/Users/haascp/Documents/GitHub/mocca/notebooks/cyanation_data/09072021_sample_87.txt\", \"conversion\": 0.6161427087444123, \"yield\": 0.0}]}}, {\"mode\": \"vega-lite\"});\n",
       "</script>"
      ],
      "text/plain": [
       "alt.LayerChart(...)"
      ]
     },
     "metadata": {},
     "output_type": "display_data"
    }
   ],
   "source": [
    "results_rounded = results_df\n",
    "results_rounded['yield'] = results_rounded['yield'] * 100\n",
    "results_rounded = results_rounded.round({'yield': 0})\n",
    "#display(results_rounded['yield'])\n",
    "\n",
    "heatmap = alt.Chart(results_rounded, title = 'Yield').mark_rect().encode(\n",
    "            x=alt.X('row', sort=row_order),\n",
    "            y=alt.Y('column'),\n",
    "            color=alt.Color('yield', title=\"Yield\")\n",
    "            )\n",
    "text = alt.Chart(results_rounded, title = 'Yield').mark_text().encode(\n",
    "            x=alt.X('row', sort=row_order),\n",
    "            y=alt.Y('column'),\n",
    "            text='yield'\n",
    "            )\n",
    "\n",
    "display(heatmap + text)"
   ]
  },
  {
   "cell_type": "code",
   "execution_count": null,
   "id": "337a5023-f756-4047-8bc7-63489f69792c",
   "metadata": {},
   "outputs": [],
   "source": []
  }
 ],
 "metadata": {
  "kernelspec": {
   "display_name": "mocca-dev",
   "language": "python",
   "name": "mocca-dev"
  },
  "language_info": {
   "codemirror_mode": {
    "name": "ipython",
    "version": 3
   },
   "file_extension": ".py",
   "mimetype": "text/x-python",
   "name": "python",
   "nbconvert_exporter": "python",
   "pygments_lexer": "ipython3",
   "version": "3.9.7"
  }
 },
 "nbformat": 4,
 "nbformat_minor": 5
}
