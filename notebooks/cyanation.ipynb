{
 "cells": [
  {
   "cell_type": "markdown",
   "id": "c70bf775-82ac-4c3c-a1b5-23af5ec8fb3f",
   "metadata": {},
   "source": [
    "CPH 02/04/2022"
   ]
  },
  {
   "cell_type": "markdown",
   "id": "6a58324c-8e7a-44ca-9f39-dc6563ce81b0",
   "metadata": {
    "tags": []
   },
   "source": [
    "# MOCCA data analysis on cyanation wellplate screening\n",
    "\n",
    "MOCCA is a tool for the analysis of *High-Performance Liquid Chromatography–Diode Array Detection* (HPLC–DAD) datasets which are recorded in the context of reaction (process) controls. It only uses HPLC–DAD raw data and some basic user input for the data analysis."
   ]
  },
  {
   "cell_type": "markdown",
   "id": "c9d2a04c-52f8-4e3f-bd9e-8a80fcee0302",
   "metadata": {},
   "source": [
    "## Reaction and case study background\n",
    "\n",
    "This case study investigates a screening of discrete reaction parameters on a well plate. The chosen reaction is a palladium-catalyzed cyanation of 2-chlorotoluene yielding o-tolunitrile. We investigate the reaction with seven different cyanide precursors (protected cyanohydrines), four different bases and three different ligands."
   ]
  },
  {
   "cell_type": "markdown",
   "id": "14bcad8c-907f-45e8-b0a6-8bb1b4f61865",
   "metadata": {},
   "source": [
    "## Imports"
   ]
  },
  {
   "cell_type": "code",
   "execution_count": 1,
   "id": "ff1b1321-02b7-4ffa-9bfd-76556f076ad0",
   "metadata": {},
   "outputs": [],
   "source": [
    "# folders handling\n",
    "import os\n",
    "from glob import glob\n",
    "\n",
    "# user interaction\n",
    "from mocca.user_interaction.campaign import HplcDadCampaign\n",
    "from mocca.user_interaction.user_objects import Gradient\n",
    "from mocca.user_interaction.user_objects import Compound\n",
    "from mocca.user_interaction.user_objects import InternalStandard\n",
    "from mocca.user_interaction.user_objects import HplcInput\n",
    "from mocca.user_interaction.settings import Settings\n",
    "\n",
    "# reporting\n",
    "from mocca.report.hplc_input import report_hplc_input\n",
    "from mocca.report.gradient import report_gradients\n",
    "from mocca.report.chroms import report_chroms\n",
    "from mocca.report.results import report_runs\n",
    "from mocca.report.parafac import report_parafac\n",
    "from mocca.report.peaks import report_peaks\n",
    "from mocca.report.quali_comps import report_quali_comps\n",
    "from mocca.report.quant_comps import report_quant_comps\n",
    "\n",
    "# customized data analysis\n",
    "import datetime\n",
    "import time\n",
    "\n",
    "%load_ext autoreload\n",
    "%autoreload 2"
   ]
  },
  {
   "cell_type": "markdown",
   "id": "66d85391-6b55-4309-9bfa-ccb97e84b8f9",
   "metadata": {},
   "source": [
    "## Cyanation data folder handling\n",
    "\n",
    "The data corresponding to this notebook can be found in mocca -> notebooks -> cyanation_data. The data was recorded on an Shimadzu system with an automatic export of the raw data to a .txt file."
   ]
  },
  {
   "cell_type": "code",
   "execution_count": 2,
   "id": "aa9e56ae-7937-44cb-939e-ebec3bf4ccc7",
   "metadata": {},
   "outputs": [],
   "source": [
    "# get path of this notebook\n",
    "ipynb_path = os.path.dirname(os.path.realpath(\"__file__\"))\n",
    "\n",
    "# add the path to the test data folder\n",
    "cyan_data_path = os.path.join(ipynb_path, \"cyanation_data\")\n",
    "\n",
    "# find all folders containing Agilent HPLC data (.D file extension)\n",
    "folders = glob(cyan_data_path + '/*' + '.txt') \n",
    "folders = sorted(folders, key=lambda x: int(x.split('_')[-1][:-4]))"
   ]
  },
  {
   "cell_type": "code",
   "execution_count": 3,
   "id": "36a5d434-f4d2-46bb-acd1-4a7d484dbd8d",
   "metadata": {
    "tags": []
   },
   "outputs": [
    {
     "name": "stdout",
     "output_type": "stream",
     "text": [
      "09072021_sample_4.txt\n",
      "09072021_sample_5.txt\n",
      "09072021_sample_6.txt\n",
      "09072021_sample_7.txt\n",
      "09072021_sample_8.txt\n",
      "09072021_sample_9.txt\n",
      "09072021_sample_10.txt\n",
      "09072021_sample_11.txt\n",
      "09072021_sample_12.txt\n",
      "09072021_sample_13.txt\n",
      "09072021_sample_14.txt\n",
      "09072021_sample_15.txt\n",
      "09072021_sample_16.txt\n",
      "09072021_sample_17.txt\n",
      "09072021_sample_18.txt\n",
      "09072021_sample_19.txt\n",
      "09072021_sample_20.txt\n",
      "09072021_sample_21.txt\n",
      "09072021_sample_22.txt\n",
      "09072021_sample_23.txt\n",
      "09072021_sample_24.txt\n",
      "09072021_sample_25.txt\n",
      "09072021_sample_26.txt\n",
      "09072021_sample_27.txt\n",
      "09072021_sample_28.txt\n",
      "09072021_sample_29.txt\n",
      "09072021_sample_30.txt\n",
      "09072021_sample_31.txt\n",
      "09072021_sample_32.txt\n",
      "09072021_sample_33.txt\n",
      "09072021_sample_34.txt\n",
      "09072021_sample_35.txt\n",
      "09072021_sample_36.txt\n",
      "09072021_sample_37.txt\n",
      "09072021_sample_38.txt\n",
      "09072021_sample_39.txt\n",
      "09072021_sample_40.txt\n",
      "09072021_sample_41.txt\n",
      "09072021_sample_42.txt\n",
      "09072021_sample_43.txt\n",
      "09072021_sample_44.txt\n",
      "09072021_sample_45.txt\n",
      "09072021_sample_46.txt\n",
      "09072021_sample_47.txt\n",
      "09072021_sample_48.txt\n",
      "09072021_sample_49.txt\n",
      "09072021_sample_50.txt\n",
      "09072021_sample_51.txt\n",
      "09072021_sample_52.txt\n",
      "09072021_sample_53.txt\n",
      "09072021_sample_54.txt\n",
      "09072021_sample_55.txt\n",
      "09072021_sample_56.txt\n",
      "09072021_sample_57.txt\n",
      "09072021_sample_58.txt\n",
      "09072021_sample_59.txt\n",
      "09072021_sample_60.txt\n",
      "09072021_sample_61.txt\n",
      "09072021_sample_62.txt\n",
      "09072021_sample_63.txt\n",
      "09072021_sample_64.txt\n",
      "09072021_sample_65.txt\n",
      "09072021_sample_66.txt\n",
      "09072021_sample_67.txt\n",
      "09072021_sample_68.txt\n",
      "09072021_sample_69.txt\n",
      "09072021_sample_70.txt\n",
      "09072021_sample_71.txt\n",
      "09072021_sample_72.txt\n",
      "09072021_sample_73.txt\n",
      "09072021_sample_74.txt\n",
      "09072021_sample_75.txt\n",
      "09072021_sample_76.txt\n",
      "09072021_sample_77.txt\n",
      "09072021_sample_78.txt\n",
      "09072021_sample_79.txt\n",
      "09072021_sample_80.txt\n",
      "09072021_sample_81.txt\n",
      "09072021_sample_82.txt\n",
      "09072021_sample_83.txt\n",
      "09072021_sample_84.txt\n",
      "09072021_sample_85.txt\n",
      "09072021_sample_86.txt\n",
      "09072021_sample_87.txt\n",
      "09072021_educt_88.txt\n",
      "09072021_educt_89.txt\n",
      "09072021_product_92.txt\n",
      "09072021_product_93.txt\n",
      "09072021_istd_96.txt\n",
      "09072021_gradient_97.txt\n",
      "09072021_cnsource_a_98.txt\n",
      "09072021_cnsource_d_99.txt\n"
     ]
    }
   ],
   "source": [
    "for folder in folders:\n",
    "    print(os.path.basename(folder))"
   ]
  },
  {
   "cell_type": "markdown",
   "id": "6565c466-5b8e-4184-859c-3584e6e02be7",
   "metadata": {},
   "source": [
    "## Campaign initialization"
   ]
  },
  {
   "cell_type": "code",
   "execution_count": 4,
   "id": "7a483960-60d8-434a-bb79-13e74b5117c2",
   "metadata": {},
   "outputs": [],
   "source": [
    "cyan_campaign = HplcDadCampaign()"
   ]
  },
  {
   "cell_type": "markdown",
   "id": "e5297ebc-aaa7-4ed8-ac2c-37728cc14328",
   "metadata": {},
   "source": [
    "We create the first Gradient object for all runs."
   ]
  },
  {
   "cell_type": "code",
   "execution_count": 5,
   "id": "2527d2cb-25da-43d7-9f24-7a03dc5ec365",
   "metadata": {},
   "outputs": [],
   "source": [
    "gradient = Gradient(next(folder for folder in folders if \"gradient\" in folder))"
   ]
  },
  {
   "cell_type": "markdown",
   "id": "c8d66b7e-0da4-47d7-a1bf-67576d0bc31b",
   "metadata": {},
   "source": [
    "This campaign works in all runs (except the tetralin compound run) with an InternalStandard object of tetralin."
   ]
  },
  {
   "cell_type": "code",
   "execution_count": 6,
   "id": "ac449a8a-236b-4f53-8e2e-106f5bbe786f",
   "metadata": {},
   "outputs": [],
   "source": [
    "internal_standard = InternalStandard('tetralin', 0.06094)"
   ]
  },
  {
   "cell_type": "markdown",
   "id": "50e7d544-b812-48a5-8773-93d13c40aa02",
   "metadata": {
    "tags": []
   },
   "source": [
    "### User input for calibration runs"
   ]
  },
  {
   "cell_type": "markdown",
   "id": "0fd31d60-028d-49d9-bd2f-1f7df4134333",
   "metadata": {},
   "source": [
    "We transfer the concentration values of the calibration standards."
   ]
  },
  {
   "cell_type": "code",
   "execution_count": 7,
   "id": "4510a788-cdff-4ca1-900e-b1f9acfae57d",
   "metadata": {},
   "outputs": [],
   "source": [
    "ArCl_concs = [0.0603, 0.04422]\n",
    "ArCN_concs = [0.05955, 0.04367]"
   ]
  },
  {
   "cell_type": "markdown",
   "id": "f804c50d-c3d5-4a02-a661-56444dea86e5",
   "metadata": {},
   "source": [
    "First, we create a HplcInput object for the internal standard run and add it to the campaign."
   ]
  },
  {
   "cell_type": "code",
   "execution_count": 8,
   "id": "35b0dc6b-2db0-4415-bf18-d0f00325a310",
   "metadata": {},
   "outputs": [],
   "source": [
    "istd_run = HplcInput(next(folder for folder in folders if \"istd\" in folder),\n",
    "                     gradient, compound=Compound('tetralin', is_istd=True))\n",
    "cyan_campaign.add_hplc_input(istd_run)"
   ]
  },
  {
   "cell_type": "markdown",
   "id": "b8d9fa45-de83-4100-bc56-08c11b53b9f0",
   "metadata": {},
   "source": [
    "We create HplcInput objects for each calibration run and add it to the campaign"
   ]
  },
  {
   "cell_type": "code",
   "execution_count": 9,
   "id": "46cdc570-7118-4a4b-ab15-c29b2cdf6871",
   "metadata": {},
   "outputs": [],
   "source": [
    "ArCl_folders = [folder for folder in folders if \"educt\" in folder]\n",
    "for i, folder in enumerate(ArCl_folders):\n",
    "    compound = Compound('2-chlorotoluene', ArCl_concs[i])\n",
    "    exp = HplcInput(folder, gradient, compound=compound, istd=internal_standard)\n",
    "    cyan_campaign.add_hplc_input(exp)\n",
    "\n",
    "ArCN_folders = [folder for folder in folders if \"product\" in folder]\n",
    "for i, folder in enumerate(ArCN_folders):\n",
    "    compound = Compound('o-tolunitrile', ArCN_concs[i])\n",
    "    exp = HplcInput(folder, gradient, compound=compound, istd=internal_standard)\n",
    "    cyan_campaign.add_hplc_input(exp)\n",
    "\n",
    "cn_source_a_folder = next(folder for folder in folders if \"cnsource_a\" in folder)\n",
    "compound = Compound('cn_source_a')\n",
    "exp = HplcInput(cn_source_a_folder, gradient, compound=compound, istd=internal_standard)\n",
    "cyan_campaign.add_hplc_input(exp)\n",
    "\n",
    "cn_source_d_folder = next(folder for folder in folders if \"cnsource_d\" in folder)\n",
    "compound = Compound('cn_source_d')\n",
    "exp = HplcInput(cn_source_d_folder, gradient, compound=compound, istd=internal_standard)\n",
    "cyan_campaign.add_hplc_input(exp)"
   ]
  },
  {
   "cell_type": "markdown",
   "id": "68b9b038-7401-4e8d-8e46-252d1586c6a8",
   "metadata": {},
   "source": [
    "### User input for reaction runs"
   ]
  },
  {
   "cell_type": "code",
   "execution_count": 10,
   "id": "b9116a48-8575-435f-8d1c-6db568c059c0",
   "metadata": {},
   "outputs": [],
   "source": [
    "for folder in [folder for folder in folders if \"sample\" in folder]:\n",
    "    exp = HplcInput(folder, gradient, istd=internal_standard)\n",
    "    cyan_campaign.add_hplc_input(exp)"
   ]
  },
  {
   "cell_type": "markdown",
   "id": "87a70e0f-4b65-4f64-a2b2-051f1ae58247",
   "metadata": {},
   "source": [
    "### Settings for data processing"
   ]
  },
  {
   "cell_type": "code",
   "execution_count": 11,
   "id": "d3e8aea8-f5c8-45e4-bb75-e3d19d50befc",
   "metadata": {},
   "outputs": [],
   "source": [
    "settings = Settings('labsolutions',\n",
    "                    absorbance_threshold = 500, wl_high_pass = 215, \n",
    "                    peaks_high_pass = 1, peaks_low_pass = 5,\n",
    "                    spectrum_correl_thresh=0.99, relative_distance_thresh=0.0025)"
   ]
  },
  {
   "cell_type": "markdown",
   "id": "926a0b31-e525-4574-8cea-38e39ca6b203",
   "metadata": {},
   "source": [
    "### Data processing"
   ]
  },
  {
   "cell_type": "code",
   "execution_count": 12,
   "id": "a7e53c99-166e-4fa6-a5ff-700216a1729c",
   "metadata": {
    "tags": []
   },
   "outputs": [
    {
     "name": "stdout",
     "output_type": "stream",
     "text": [
      "CPU times: user 2h 55min 17s, sys: 4min 32s, total: 2h 59min 50s\n",
      "Wall time: 22min 10s\n"
     ]
    }
   ],
   "source": [
    "%%time\n",
    "cyan_campaign.process_all_hplc_input(settings)"
   ]
  },
  {
   "cell_type": "markdown",
   "id": "876d7ceb-7e66-4050-9569-ff4c97f25e40",
   "metadata": {
    "tags": []
   },
   "source": [
    "## Reporting"
   ]
  },
  {
   "cell_type": "code",
   "execution_count": 13,
   "id": "edb947f0-278c-40ee-8347-b1efd5d9c35a",
   "metadata": {},
   "outputs": [],
   "source": [
    "cyan_report_path = os.path.join(ipynb_path, \"cyanation_reports\")"
   ]
  },
  {
   "cell_type": "code",
   "execution_count": 22,
   "id": "6fe1501d-f580-4ce6-bb64-3596de1374a1",
   "metadata": {},
   "outputs": [
    {
     "data": {
      "text/markdown": [
       "Report saved to .//Users/haascp/Documents/GitHub/mocca/notebooks/cyanation_reports/report_hplc_input.html. To upload and share your report, create a free Datapane account by running `!datapane signup`."
      ],
      "text/plain": [
       "<IPython.core.display.Markdown object>"
      ]
     },
     "metadata": {},
     "output_type": "display_data"
    },
    {
     "data": {
      "text/markdown": [
       "Report saved to .//Users/haascp/Documents/GitHub/mocca/notebooks/cyanation_reports/report_gradient.html. To upload and share your report, create a free Datapane account by running `!datapane signup`."
      ],
      "text/plain": [
       "<IPython.core.display.Markdown object>"
      ]
     },
     "metadata": {},
     "output_type": "display_data"
    },
    {
     "data": {
      "text/markdown": [
       "Report saved to .//Users/haascp/Documents/GitHub/mocca/notebooks/cyanation_reports/report_chroms.html. To upload and share your report, create a free Datapane account by running `!datapane signup`."
      ],
      "text/plain": [
       "<IPython.core.display.Markdown object>"
      ]
     },
     "metadata": {},
     "output_type": "display_data"
    },
    {
     "data": {
      "text/markdown": [
       "How is your experience of Datapane? Please take two minutes to answer our anonymous product survey <a href='https://bit.ly/3lWjRlr' target='_blank'>here</a>"
      ],
      "text/plain": [
       "<IPython.core.display.Markdown object>"
      ]
     },
     "metadata": {},
     "output_type": "display_data"
    },
    {
     "data": {
      "text/markdown": [
       "Report saved to .//Users/haascp/Documents/GitHub/mocca/notebooks/cyanation_reports/report_runs.html. To upload and share your report, create a free Datapane account by running `!datapane signup`."
      ],
      "text/plain": [
       "<IPython.core.display.Markdown object>"
      ]
     },
     "metadata": {},
     "output_type": "display_data"
    },
    {
     "data": {
      "text/markdown": [
       "How is your experience of Datapane? Please take two minutes to answer our anonymous product survey <a href='https://bit.ly/3lWjRlr' target='_blank'>here</a>"
      ],
      "text/plain": [
       "<IPython.core.display.Markdown object>"
      ]
     },
     "metadata": {},
     "output_type": "display_data"
    },
    {
     "data": {
      "text/markdown": [
       "Report saved to .//Users/haascp/Documents/GitHub/mocca/notebooks/cyanation_reports/report_parafac.html. To upload and share your report, create a free Datapane account by running `!datapane signup`."
      ],
      "text/plain": [
       "<IPython.core.display.Markdown object>"
      ]
     },
     "metadata": {},
     "output_type": "display_data"
    },
    {
     "data": {
      "text/markdown": [
       "Report saved to .//Users/haascp/Documents/GitHub/mocca/notebooks/cyanation_reports/report_peak_db.html. To upload and share your report, create a free Datapane account by running `!datapane signup`."
      ],
      "text/plain": [
       "<IPython.core.display.Markdown object>"
      ]
     },
     "metadata": {},
     "output_type": "display_data"
    },
    {
     "data": {
      "text/markdown": [
       "Report saved to .//Users/haascp/Documents/GitHub/mocca/notebooks/cyanation_reports/report_quali_comp_db.html. To upload and share your report, create a free Datapane account by running `!datapane signup`."
      ],
      "text/plain": [
       "<IPython.core.display.Markdown object>"
      ]
     },
     "metadata": {},
     "output_type": "display_data"
    },
    {
     "data": {
      "text/markdown": [
       "Report saved to .//Users/haascp/Documents/GitHub/mocca/notebooks/cyanation_reports/report_quant_comp_db.html. To upload and share your report, create a free Datapane account by running `!datapane signup`."
      ],
      "text/plain": [
       "<IPython.core.display.Markdown object>"
      ]
     },
     "metadata": {},
     "output_type": "display_data"
    }
   ],
   "source": [
    "report_hplc_input(cyan_campaign.hplc_runs, cyan_report_path)\n",
    "report_gradients(cyan_campaign.hplc_runs, cyan_report_path)\n",
    "report_chroms(cyan_campaign.chroms, cyan_campaign.settings, cyan_report_path)\n",
    "report_runs(cyan_campaign.chroms, cyan_campaign.quali_comp_db, cyan_campaign.quant_comp_db, cyan_report_path)\n",
    "report_parafac(cyan_campaign.chroms, cyan_report_path)\n",
    "report_peaks(cyan_campaign.peak_db, cyan_report_path)\n",
    "report_quali_comps(cyan_campaign.quali_comp_db, cyan_report_path)\n",
    "report_quant_comps(cyan_campaign.quant_comp_db, cyan_report_path)"
   ]
  },
  {
   "cell_type": "markdown",
   "id": "736881b0-4eb3-498b-963f-5ad938408879",
   "metadata": {},
   "source": [
    "## Customized data analysis by the user\n",
    "\n",
    "This data analysis tool cannot include all possible data analysis needs of potential users. Therefore, we expect the user to do customized data analysis independently from the tool.\n",
    "\n",
    "We give an example here, how the yield over a 96-wellplate can be visualized."
   ]
  },
  {
   "cell_type": "code",
   "execution_count": 15,
   "id": "c03317a8-b6c8-4c1b-8da7-ad7bad406a9e",
   "metadata": {},
   "outputs": [],
   "source": [
    "import pandas as pd\n",
    "import altair as alt"
   ]
  },
  {
   "cell_type": "markdown",
   "id": "df464ed7-1915-4052-9f64-02fe4ed42e91",
   "metadata": {},
   "source": [
    "Extract results out of the campaign object"
   ]
  },
  {
   "cell_type": "code",
   "execution_count": 16,
   "id": "f6374075-cd86-4289-9397-8b0e860f01ed",
   "metadata": {},
   "outputs": [],
   "source": [
    "c0 = 0.06 #c0 refers to the molar amount of substrate that was used\n",
    "results = {\n",
    "    '2-chlorotoluene': [],\n",
    "    'o-tolunitrile': [],\n",
    "    'tetralin': [],\n",
    "    'column': [],\n",
    "    'row': [],\n",
    "    'path': [],\n",
    "    'conversion': [],\n",
    "    'yield': []\n",
    "}\n",
    "for i, chrom in enumerate(cyan_campaign.chroms):\n",
    "    if not chrom.experiment.compound:\n",
    "        results['2-chlorotoluene'].append(0)\n",
    "        results['o-tolunitrile'].append(0)\n",
    "        results['tetralin'].append(0)\n",
    "        results['conversion'].append(1)\n",
    "        results['yield'].append(0)\n",
    "        results['path'].append(chrom.experiment.path)\n",
    "        for peak in chrom.peaks:\n",
    "            if peak.compound_id == '2-chlorotoluene':\n",
    "                results['2-chlorotoluene'][-1] = peak.concentration\n",
    "                results['conversion'][-1] = (c0 - peak.concentration) / c0\n",
    "            if peak.compound_id == 'o-tolunitrile':\n",
    "                results['o-tolunitrile'][-1] = peak.concentration\n",
    "                results['yield'][-1] = peak.concentration / c0\n",
    "            if peak.compound_id == 'tetralin':\n",
    "                results['tetralin'][-1] = peak.integral"
   ]
  },
  {
   "cell_type": "code",
   "execution_count": 17,
   "id": "52219090-5122-42e2-82a8-748a9b10452a",
   "metadata": {},
   "outputs": [],
   "source": [
    "for path in results['path']:\n",
    "    num = int(path.split('_')[-1][:-4]) - 4\n",
    "    results['column'].append(str(num // 12 + 1))\n",
    "    results['row'].append(str(num - (num // 12 * 12) + 1))"
   ]
  },
  {
   "cell_type": "code",
   "execution_count": 18,
   "id": "0507acec-7017-4e92-8c0e-e97bf8cbaa77",
   "metadata": {},
   "outputs": [
    {
     "data": {
      "text/html": [
       "<div>\n",
       "<style scoped>\n",
       "    .dataframe tbody tr th:only-of-type {\n",
       "        vertical-align: middle;\n",
       "    }\n",
       "\n",
       "    .dataframe tbody tr th {\n",
       "        vertical-align: top;\n",
       "    }\n",
       "\n",
       "    .dataframe thead th {\n",
       "        text-align: right;\n",
       "    }\n",
       "</style>\n",
       "<table border=\"1\" class=\"dataframe\">\n",
       "  <thead>\n",
       "    <tr style=\"text-align: right;\">\n",
       "      <th></th>\n",
       "      <th>2-chlorotoluene</th>\n",
       "      <th>o-tolunitrile</th>\n",
       "      <th>tetralin</th>\n",
       "      <th>column</th>\n",
       "      <th>row</th>\n",
       "      <th>path</th>\n",
       "      <th>conversion</th>\n",
       "      <th>yield</th>\n",
       "    </tr>\n",
       "  </thead>\n",
       "  <tbody>\n",
       "    <tr>\n",
       "      <th>0</th>\n",
       "      <td>0.038001</td>\n",
       "      <td>0.025192</td>\n",
       "      <td>73248.554413</td>\n",
       "      <td>1</td>\n",
       "      <td>1</td>\n",
       "      <td>/Users/haascp/Documents/GitHub/mocca/notebooks...</td>\n",
       "      <td>0.366651</td>\n",
       "      <td>0.419865</td>\n",
       "    </tr>\n",
       "    <tr>\n",
       "      <th>1</th>\n",
       "      <td>0.056630</td>\n",
       "      <td>0.003131</td>\n",
       "      <td>69467.653145</td>\n",
       "      <td>1</td>\n",
       "      <td>2</td>\n",
       "      <td>/Users/haascp/Documents/GitHub/mocca/notebooks...</td>\n",
       "      <td>0.056166</td>\n",
       "      <td>0.052187</td>\n",
       "    </tr>\n",
       "    <tr>\n",
       "      <th>2</th>\n",
       "      <td>0.059109</td>\n",
       "      <td>0.000000</td>\n",
       "      <td>67040.661737</td>\n",
       "      <td>1</td>\n",
       "      <td>3</td>\n",
       "      <td>/Users/haascp/Documents/GitHub/mocca/notebooks...</td>\n",
       "      <td>0.014848</td>\n",
       "      <td>0.000000</td>\n",
       "    </tr>\n",
       "    <tr>\n",
       "      <th>3</th>\n",
       "      <td>0.000000</td>\n",
       "      <td>0.037509</td>\n",
       "      <td>73071.757413</td>\n",
       "      <td>1</td>\n",
       "      <td>4</td>\n",
       "      <td>/Users/haascp/Documents/GitHub/mocca/notebooks...</td>\n",
       "      <td>1.000000</td>\n",
       "      <td>0.625148</td>\n",
       "    </tr>\n",
       "    <tr>\n",
       "      <th>4</th>\n",
       "      <td>0.000000</td>\n",
       "      <td>0.026880</td>\n",
       "      <td>67102.296755</td>\n",
       "      <td>1</td>\n",
       "      <td>5</td>\n",
       "      <td>/Users/haascp/Documents/GitHub/mocca/notebooks...</td>\n",
       "      <td>1.000000</td>\n",
       "      <td>0.447994</td>\n",
       "    </tr>\n",
       "    <tr>\n",
       "      <th>...</th>\n",
       "      <td>...</td>\n",
       "      <td>...</td>\n",
       "      <td>...</td>\n",
       "      <td>...</td>\n",
       "      <td>...</td>\n",
       "      <td>...</td>\n",
       "      <td>...</td>\n",
       "      <td>...</td>\n",
       "    </tr>\n",
       "    <tr>\n",
       "      <th>79</th>\n",
       "      <td>0.057993</td>\n",
       "      <td>0.000000</td>\n",
       "      <td>68634.193610</td>\n",
       "      <td>7</td>\n",
       "      <td>8</td>\n",
       "      <td>/Users/haascp/Documents/GitHub/mocca/notebooks...</td>\n",
       "      <td>0.033445</td>\n",
       "      <td>0.000000</td>\n",
       "    </tr>\n",
       "    <tr>\n",
       "      <th>80</th>\n",
       "      <td>0.063270</td>\n",
       "      <td>0.000000</td>\n",
       "      <td>77854.308442</td>\n",
       "      <td>7</td>\n",
       "      <td>9</td>\n",
       "      <td>/Users/haascp/Documents/GitHub/mocca/notebooks...</td>\n",
       "      <td>-0.054492</td>\n",
       "      <td>0.000000</td>\n",
       "    </tr>\n",
       "    <tr>\n",
       "      <th>81</th>\n",
       "      <td>0.050142</td>\n",
       "      <td>0.000000</td>\n",
       "      <td>163417.838529</td>\n",
       "      <td>7</td>\n",
       "      <td>10</td>\n",
       "      <td>/Users/haascp/Documents/GitHub/mocca/notebooks...</td>\n",
       "      <td>0.164293</td>\n",
       "      <td>0.000000</td>\n",
       "    </tr>\n",
       "    <tr>\n",
       "      <th>82</th>\n",
       "      <td>0.056967</td>\n",
       "      <td>0.000000</td>\n",
       "      <td>64657.708988</td>\n",
       "      <td>7</td>\n",
       "      <td>11</td>\n",
       "      <td>/Users/haascp/Documents/GitHub/mocca/notebooks...</td>\n",
       "      <td>0.050553</td>\n",
       "      <td>0.000000</td>\n",
       "    </tr>\n",
       "    <tr>\n",
       "      <th>83</th>\n",
       "      <td>0.053701</td>\n",
       "      <td>0.000000</td>\n",
       "      <td>75710.391129</td>\n",
       "      <td>7</td>\n",
       "      <td>12</td>\n",
       "      <td>/Users/haascp/Documents/GitHub/mocca/notebooks...</td>\n",
       "      <td>0.104984</td>\n",
       "      <td>0.000000</td>\n",
       "    </tr>\n",
       "  </tbody>\n",
       "</table>\n",
       "<p>84 rows × 8 columns</p>\n",
       "</div>"
      ],
      "text/plain": [
       "    2-chlorotoluene  o-tolunitrile       tetralin column row  \\\n",
       "0          0.038001       0.025192   73248.554413      1   1   \n",
       "1          0.056630       0.003131   69467.653145      1   2   \n",
       "2          0.059109       0.000000   67040.661737      1   3   \n",
       "3          0.000000       0.037509   73071.757413      1   4   \n",
       "4          0.000000       0.026880   67102.296755      1   5   \n",
       "..              ...            ...            ...    ...  ..   \n",
       "79         0.057993       0.000000   68634.193610      7   8   \n",
       "80         0.063270       0.000000   77854.308442      7   9   \n",
       "81         0.050142       0.000000  163417.838529      7  10   \n",
       "82         0.056967       0.000000   64657.708988      7  11   \n",
       "83         0.053701       0.000000   75710.391129      7  12   \n",
       "\n",
       "                                                 path  conversion     yield  \n",
       "0   /Users/haascp/Documents/GitHub/mocca/notebooks...    0.366651  0.419865  \n",
       "1   /Users/haascp/Documents/GitHub/mocca/notebooks...    0.056166  0.052187  \n",
       "2   /Users/haascp/Documents/GitHub/mocca/notebooks...    0.014848  0.000000  \n",
       "3   /Users/haascp/Documents/GitHub/mocca/notebooks...    1.000000  0.625148  \n",
       "4   /Users/haascp/Documents/GitHub/mocca/notebooks...    1.000000  0.447994  \n",
       "..                                                ...         ...       ...  \n",
       "79  /Users/haascp/Documents/GitHub/mocca/notebooks...    0.033445  0.000000  \n",
       "80  /Users/haascp/Documents/GitHub/mocca/notebooks...   -0.054492  0.000000  \n",
       "81  /Users/haascp/Documents/GitHub/mocca/notebooks...    0.164293  0.000000  \n",
       "82  /Users/haascp/Documents/GitHub/mocca/notebooks...    0.050553  0.000000  \n",
       "83  /Users/haascp/Documents/GitHub/mocca/notebooks...    0.104984  0.000000  \n",
       "\n",
       "[84 rows x 8 columns]"
      ]
     },
     "execution_count": 18,
     "metadata": {},
     "output_type": "execute_result"
    }
   ],
   "source": [
    "results_df = pd.DataFrame(results)\n",
    "row_order = [str(val) for val in list(range(1, 13))]\n",
    "results_df"
   ]
  },
  {
   "cell_type": "code",
   "execution_count": 19,
   "id": "944771b5-708c-48c5-9f70-9ff43b417cc3",
   "metadata": {},
   "outputs": [
    {
     "data": {
      "text/html": [
       "\n",
       "<div id=\"altair-viz-aaf9da7efce54eb4a216707c179a2eb9\"></div>\n",
       "<script type=\"text/javascript\">\n",
       "  (function(spec, embedOpt){\n",
       "    let outputDiv = document.currentScript.previousElementSibling;\n",
       "    if (outputDiv.id !== \"altair-viz-aaf9da7efce54eb4a216707c179a2eb9\") {\n",
       "      outputDiv = document.getElementById(\"altair-viz-aaf9da7efce54eb4a216707c179a2eb9\");\n",
       "    }\n",
       "    const paths = {\n",
       "      \"vega\": \"https://cdn.jsdelivr.net/npm//vega@5?noext\",\n",
       "      \"vega-lib\": \"https://cdn.jsdelivr.net/npm//vega-lib?noext\",\n",
       "      \"vega-lite\": \"https://cdn.jsdelivr.net/npm//vega-lite@4.8.1?noext\",\n",
       "      \"vega-embed\": \"https://cdn.jsdelivr.net/npm//vega-embed@6?noext\",\n",
       "    };\n",
       "\n",
       "    function loadScript(lib) {\n",
       "      return new Promise(function(resolve, reject) {\n",
       "        var s = document.createElement('script');\n",
       "        s.src = paths[lib];\n",
       "        s.async = true;\n",
       "        s.onload = () => resolve(paths[lib]);\n",
       "        s.onerror = () => reject(`Error loading script: ${paths[lib]}`);\n",
       "        document.getElementsByTagName(\"head\")[0].appendChild(s);\n",
       "      });\n",
       "    }\n",
       "\n",
       "    function showError(err) {\n",
       "      outputDiv.innerHTML = `<div class=\"error\" style=\"color:red;\">${err}</div>`;\n",
       "      throw err;\n",
       "    }\n",
       "\n",
       "    function displayChart(vegaEmbed) {\n",
       "      vegaEmbed(outputDiv, spec, embedOpt)\n",
       "        .catch(err => showError(`Javascript Error: ${err.message}<br>This usually means there's a typo in your chart specification. See the javascript console for the full traceback.`));\n",
       "    }\n",
       "\n",
       "    if(typeof define === \"function\" && define.amd) {\n",
       "      requirejs.config({paths});\n",
       "      require([\"vega-embed\"], displayChart, err => showError(`Error loading script: ${err.message}`));\n",
       "    } else if (typeof vegaEmbed === \"function\") {\n",
       "      displayChart(vegaEmbed);\n",
       "    } else {\n",
       "      loadScript(\"vega\")\n",
       "        .then(() => loadScript(\"vega-lite\"))\n",
       "        .then(() => loadScript(\"vega-embed\"))\n",
       "        .catch(showError)\n",
       "        .then(() => displayChart(vegaEmbed));\n",
       "    }\n",
       "  })({\"config\": {\"view\": {\"continuousWidth\": 400, \"continuousHeight\": 300}}, \"layer\": [{\"mark\": \"rect\", \"encoding\": {\"color\": {\"type\": \"quantitative\", \"field\": \"yield\", \"title\": \"Yield\"}, \"x\": {\"type\": \"nominal\", \"field\": \"row\", \"sort\": [\"1\", \"2\", \"3\", \"4\", \"5\", \"6\", \"7\", \"8\", \"9\", \"10\", \"11\", \"12\"]}, \"y\": {\"type\": \"nominal\", \"field\": \"column\"}}, \"title\": \"Yield\"}, {\"mark\": \"text\", \"encoding\": {\"text\": {\"type\": \"quantitative\", \"field\": \"yield\"}, \"x\": {\"type\": \"nominal\", \"field\": \"row\", \"sort\": [\"1\", \"2\", \"3\", \"4\", \"5\", \"6\", \"7\", \"8\", \"9\", \"10\", \"11\", \"12\"]}, \"y\": {\"type\": \"nominal\", \"field\": \"column\"}}, \"title\": \"Yield\"}], \"data\": {\"name\": \"data-5986afaeb8e7dbad2cdcc57227150118\"}, \"$schema\": \"https://vega.github.io/schema/vega-lite/v4.8.1.json\", \"datasets\": {\"data-5986afaeb8e7dbad2cdcc57227150118\": [{\"2-chlorotoluene\": 0.03800094184248855, \"o-tolunitrile\": 0.025191875833956844, \"tetralin\": 73248.55441282666, \"column\": \"1\", \"row\": \"1\", \"path\": \"/Users/haascp/Documents/GitHub/mocca/notebooks/cyanation_data/09072021_sample_4.txt\", \"conversion\": 0.36665096929185753, \"yield\": 42.0}, {\"2-chlorotoluene\": 0.05663002196036536, \"o-tolunitrile\": 0.0031312035466456445, \"tetralin\": 69467.653144715, \"column\": \"1\", \"row\": \"2\", \"path\": \"/Users/haascp/Documents/GitHub/mocca/notebooks/cyanation_data/09072021_sample_5.txt\", \"conversion\": 0.05616630066057731, \"yield\": 5.0}, {\"2-chlorotoluene\": 0.059109144959505644, \"o-tolunitrile\": 0.0, \"tetralin\": 67040.66173669677, \"column\": \"1\", \"row\": \"3\", \"path\": \"/Users/haascp/Documents/GitHub/mocca/notebooks/cyanation_data/09072021_sample_6.txt\", \"conversion\": 0.014847584008239231, \"yield\": 0.0}, {\"2-chlorotoluene\": 0.0, \"o-tolunitrile\": 0.03750886607977773, \"tetralin\": 73071.75741310405, \"column\": \"1\", \"row\": \"4\", \"path\": \"/Users/haascp/Documents/GitHub/mocca/notebooks/cyanation_data/09072021_sample_7.txt\", \"conversion\": 1.0, \"yield\": 63.0}, {\"2-chlorotoluene\": 0.0, \"o-tolunitrile\": 0.026879643019480055, \"tetralin\": 67102.29675528845, \"column\": \"1\", \"row\": \"5\", \"path\": \"/Users/haascp/Documents/GitHub/mocca/notebooks/cyanation_data/09072021_sample_8.txt\", \"conversion\": 1.0, \"yield\": 45.0}, {\"2-chlorotoluene\": 0.0, \"o-tolunitrile\": 0.046877779782722596, \"tetralin\": 75697.70399491345, \"column\": \"1\", \"row\": \"6\", \"path\": \"/Users/haascp/Documents/GitHub/mocca/notebooks/cyanation_data/09072021_sample_9.txt\", \"conversion\": 1.0, \"yield\": 78.0}, {\"2-chlorotoluene\": 0.04459296470756773, \"o-tolunitrile\": 0.010279289204204891, \"tetralin\": 93870.78185201358, \"column\": \"1\", \"row\": \"7\", \"path\": \"/Users/haascp/Documents/GitHub/mocca/notebooks/cyanation_data/09072021_sample_10.txt\", \"conversion\": 0.25678392154053775, \"yield\": 17.0}, {\"2-chlorotoluene\": 0.05165631362032856, \"o-tolunitrile\": 0.004909330345645526, \"tetralin\": 59539.95698557142, \"column\": \"1\", \"row\": \"8\", \"path\": \"/Users/haascp/Documents/GitHub/mocca/notebooks/cyanation_data/09072021_sample_11.txt\", \"conversion\": 0.1390614396611906, \"yield\": 8.0}, {\"2-chlorotoluene\": 0.04797974402944156, \"o-tolunitrile\": 0.00902641344819345, \"tetralin\": 65948.7230678778, \"column\": \"1\", \"row\": \"9\", \"path\": \"/Users/haascp/Documents/GitHub/mocca/notebooks/cyanation_data/09072021_sample_12.txt\", \"conversion\": 0.20033759950930732, \"yield\": 15.0}, {\"2-chlorotoluene\": 0.051209001369538695, \"o-tolunitrile\": 0.0, \"tetralin\": 64664.689564366214, \"column\": \"1\", \"row\": \"10\", \"path\": \"/Users/haascp/Documents/GitHub/mocca/notebooks/cyanation_data/09072021_sample_13.txt\", \"conversion\": 0.14651664384102173, \"yield\": 0.0}, {\"2-chlorotoluene\": 0.0491055732419217, \"o-tolunitrile\": 0.0, \"tetralin\": 62900.06818355036, \"column\": \"1\", \"row\": \"11\", \"path\": \"/Users/haascp/Documents/GitHub/mocca/notebooks/cyanation_data/09072021_sample_14.txt\", \"conversion\": 0.181573779301305, \"yield\": 0.0}, {\"2-chlorotoluene\": 0.05225379584515048, \"o-tolunitrile\": 0.0, \"tetralin\": 60781.53920578859, \"column\": \"1\", \"row\": \"12\", \"path\": \"/Users/haascp/Documents/GitHub/mocca/notebooks/cyanation_data/09072021_sample_15.txt\", \"conversion\": 0.12910340258082525, \"yield\": 0.0}, {\"2-chlorotoluene\": 0.05962121579692071, \"o-tolunitrile\": 0.0, \"tetralin\": 69390.4568334688, \"column\": \"2\", \"row\": \"1\", \"path\": \"/Users/haascp/Documents/GitHub/mocca/notebooks/cyanation_data/09072021_sample_16.txt\", \"conversion\": 0.006313070051321493, \"yield\": 0.0}, {\"2-chlorotoluene\": 0.05845710930468177, \"o-tolunitrile\": 0.0016798518526474188, \"tetralin\": 63091.33583784013, \"column\": \"2\", \"row\": \"2\", \"path\": \"/Users/haascp/Documents/GitHub/mocca/notebooks/cyanation_data/09072021_sample_17.txt\", \"conversion\": 0.025714844921970414, \"yield\": 3.0}, {\"2-chlorotoluene\": 0.06038463721862589, \"o-tolunitrile\": 0.0, \"tetralin\": 67849.02739870036, \"column\": \"2\", \"row\": \"3\", \"path\": \"/Users/haascp/Documents/GitHub/mocca/notebooks/cyanation_data/09072021_sample_18.txt\", \"conversion\": -0.006410620310431589, \"yield\": 0.0}, {\"2-chlorotoluene\": 0.05677775379680397, \"o-tolunitrile\": 0.0016772783271234016, \"tetralin\": 68083.93781283766, \"column\": \"2\", \"row\": \"4\", \"path\": \"/Users/haascp/Documents/GitHub/mocca/notebooks/cyanation_data/09072021_sample_19.txt\", \"conversion\": 0.05370410338660046, \"yield\": 3.0}, {\"2-chlorotoluene\": 0.0599602707439219, \"o-tolunitrile\": 0.003456576305404223, \"tetralin\": 60871.04311847682, \"column\": \"2\", \"row\": \"5\", \"path\": \"/Users/haascp/Documents/GitHub/mocca/notebooks/cyanation_data/09072021_sample_20.txt\", \"conversion\": 0.0006621542679683078, \"yield\": 6.0}, {\"2-chlorotoluene\": 0.06295775941552383, \"o-tolunitrile\": 0.0, \"tetralin\": 62493.55837787199, \"column\": \"2\", \"row\": \"6\", \"path\": \"/Users/haascp/Documents/GitHub/mocca/notebooks/cyanation_data/09072021_sample_21.txt\", \"conversion\": -0.049295990258730465, \"yield\": 0.0}, {\"2-chlorotoluene\": 0.05261031988333462, \"o-tolunitrile\": 0.014524967128125269, \"tetralin\": 63952.37943784016, \"column\": \"2\", \"row\": \"7\", \"path\": \"/Users/haascp/Documents/GitHub/mocca/notebooks/cyanation_data/09072021_sample_22.txt\", \"conversion\": 0.12316133527775625, \"yield\": 24.0}, {\"2-chlorotoluene\": 0.05252659112442889, \"o-tolunitrile\": 0.007158637700513696, \"tetralin\": 59605.56863784016, \"column\": \"2\", \"row\": \"8\", \"path\": \"/Users/haascp/Documents/GitHub/mocca/notebooks/cyanation_data/09072021_sample_23.txt\", \"conversion\": 0.12455681459285182, \"yield\": 12.0}, {\"2-chlorotoluene\": 0.048039062888186754, \"o-tolunitrile\": 0.013565200225507031, \"tetralin\": 60795.541371859865, \"column\": \"2\", \"row\": \"9\", \"path\": \"/Users/haascp/Documents/GitHub/mocca/notebooks/cyanation_data/09072021_sample_24.txt\", \"conversion\": 0.19934895186355409, \"yield\": 23.0}, {\"2-chlorotoluene\": 0.048098616442672576, \"o-tolunitrile\": 0.003970951371312393, \"tetralin\": 64356.16081283767, \"column\": \"2\", \"row\": \"10\", \"path\": \"/Users/haascp/Documents/GitHub/mocca/notebooks/cyanation_data/09072021_sample_25.txt\", \"conversion\": 0.1983563926221237, \"yield\": 7.0}, {\"2-chlorotoluene\": 0.042960018289733365, \"o-tolunitrile\": 0.0, \"tetralin\": 58055.84358419337, \"column\": \"2\", \"row\": \"11\", \"path\": \"/Users/haascp/Documents/GitHub/mocca/notebooks/cyanation_data/09072021_sample_26.txt\", \"conversion\": 0.28399969517111057, \"yield\": 0.0}, {\"2-chlorotoluene\": 0.050543351204967876, \"o-tolunitrile\": 0.0038182381134947013, \"tetralin\": 94324.25725762126, \"column\": \"2\", \"row\": \"12\", \"path\": \"/Users/haascp/Documents/GitHub/mocca/notebooks/cyanation_data/09072021_sample_27.txt\", \"conversion\": 0.15761081325053536, \"yield\": 6.0}, {\"2-chlorotoluene\": 0.05810243275674151, \"o-tolunitrile\": 0.0, \"tetralin\": 67548.47839240528, \"column\": \"3\", \"row\": \"1\", \"path\": \"/Users/haascp/Documents/GitHub/mocca/notebooks/cyanation_data/09072021_sample_28.txt\", \"conversion\": 0.03162612072097476, \"yield\": 0.0}, {\"2-chlorotoluene\": 0.06044173094450898, \"o-tolunitrile\": 0.0, \"tetralin\": 62010.3847468122, \"column\": \"3\", \"row\": \"2\", \"path\": \"/Users/haascp/Documents/GitHub/mocca/notebooks/cyanation_data/09072021_sample_29.txt\", \"conversion\": -0.007362182408482988, \"yield\": 0.0}, {\"2-chlorotoluene\": 0.06329740893878995, \"o-tolunitrile\": 0.0, \"tetralin\": 63639.08283685608, \"column\": \"3\", \"row\": \"3\", \"path\": \"/Users/haascp/Documents/GitHub/mocca/notebooks/cyanation_data/09072021_sample_30.txt\", \"conversion\": -0.05495681564649917, \"yield\": 0.0}, {\"2-chlorotoluene\": 0.0, \"o-tolunitrile\": 0.05395283876337202, \"tetralin\": 65253.79474775201, \"column\": \"3\", \"row\": \"4\", \"path\": \"/Users/haascp/Documents/GitHub/mocca/notebooks/cyanation_data/09072021_sample_31.txt\", \"conversion\": 1.0, \"yield\": 90.0}, {\"2-chlorotoluene\": 0.0, \"o-tolunitrile\": 0.04634103264861073, \"tetralin\": 60329.37481892827, \"column\": \"3\", \"row\": \"5\", \"path\": \"/Users/haascp/Documents/GitHub/mocca/notebooks/cyanation_data/09072021_sample_32.txt\", \"conversion\": 1.0, \"yield\": 77.0}, {\"2-chlorotoluene\": 0.06534650192015398, \"o-tolunitrile\": 0.0, \"tetralin\": 60342.484919137794, \"column\": \"3\", \"row\": \"6\", \"path\": \"/Users/haascp/Documents/GitHub/mocca/notebooks/cyanation_data/09072021_sample_33.txt\", \"conversion\": -0.08910836533589975, \"yield\": 0.0}, {\"2-chlorotoluene\": 0.037795789145608674, \"o-tolunitrile\": 0.027858216806590275, \"tetralin\": 62546.49261876618, \"column\": \"3\", \"row\": \"7\", \"path\": \"/Users/haascp/Documents/GitHub/mocca/notebooks/cyanation_data/09072021_sample_34.txt\", \"conversion\": 0.37007018090652205, \"yield\": 46.0}, {\"2-chlorotoluene\": 0.04104765062999896, \"o-tolunitrile\": 0.014896146432392432, \"tetralin\": 58477.70117492973, \"column\": \"3\", \"row\": \"8\", \"path\": \"/Users/haascp/Documents/GitHub/mocca/notebooks/cyanation_data/09072021_sample_35.txt\", \"conversion\": 0.3158724895000173, \"yield\": 25.0}, {\"2-chlorotoluene\": 0.046905352036386995, \"o-tolunitrile\": 0.015894441824220625, \"tetralin\": 70278.04213041774, \"column\": \"3\", \"row\": \"9\", \"path\": \"/Users/haascp/Documents/GitHub/mocca/notebooks/cyanation_data/09072021_sample_36.txt\", \"conversion\": 0.2182441327268834, \"yield\": 26.0}, {\"2-chlorotoluene\": 0.046367694749793804, \"o-tolunitrile\": 0.0026391744956404018, \"tetralin\": 61697.77442947824, \"column\": \"3\", \"row\": \"10\", \"path\": \"/Users/haascp/Documents/GitHub/mocca/notebooks/cyanation_data/09072021_sample_37.txt\", \"conversion\": 0.22720508750343657, \"yield\": 4.0}, {\"2-chlorotoluene\": 0.04337794123407602, \"o-tolunitrile\": 0.0, \"tetralin\": 66807.1698253421, \"column\": \"3\", \"row\": \"11\", \"path\": \"/Users/haascp/Documents/GitHub/mocca/notebooks/cyanation_data/09072021_sample_38.txt\", \"conversion\": 0.27703431276539964, \"yield\": 0.0}, {\"2-chlorotoluene\": 0.04675582612307379, \"o-tolunitrile\": 0.002522656371227683, \"tetralin\": 129726.00508520076, \"column\": \"3\", \"row\": \"12\", \"path\": \"/Users/haascp/Documents/GitHub/mocca/notebooks/cyanation_data/09072021_sample_39.txt\", \"conversion\": 0.2207362312821035, \"yield\": 4.0}, {\"2-chlorotoluene\": 0.05471310542417063, \"o-tolunitrile\": 0.0, \"tetralin\": 71567.37524382309, \"column\": \"4\", \"row\": \"1\", \"path\": \"/Users/haascp/Documents/GitHub/mocca/notebooks/cyanation_data/09072021_sample_40.txt\", \"conversion\": 0.08811490959715618, \"yield\": 0.0}, {\"2-chlorotoluene\": 0.05237607135675213, \"o-tolunitrile\": 0.0, \"tetralin\": 70849.22350319877, \"column\": \"4\", \"row\": \"2\", \"path\": \"/Users/haascp/Documents/GitHub/mocca/notebooks/cyanation_data/09072021_sample_41.txt\", \"conversion\": 0.12706547738746446, \"yield\": 0.0}, {\"2-chlorotoluene\": 0.05787510250952141, \"o-tolunitrile\": 0.0, \"tetralin\": 72610.18366704839, \"column\": \"4\", \"row\": \"3\", \"path\": \"/Users/haascp/Documents/GitHub/mocca/notebooks/cyanation_data/09072021_sample_42.txt\", \"conversion\": 0.03541495817464315, \"yield\": 0.0}, {\"2-chlorotoluene\": 0.051676985990835665, \"o-tolunitrile\": 0.0016769085268543314, \"tetralin\": 76398.30784060608, \"column\": \"4\", \"row\": \"4\", \"path\": \"/Users/haascp/Documents/GitHub/mocca/notebooks/cyanation_data/09072021_sample_43.txt\", \"conversion\": 0.13871690015273888, \"yield\": 3.0}, {\"2-chlorotoluene\": 0.030923350657505514, \"o-tolunitrile\": 0.02388065730607888, \"tetralin\": 66671.24760800779, \"column\": \"4\", \"row\": \"5\", \"path\": \"/Users/haascp/Documents/GitHub/mocca/notebooks/cyanation_data/09072021_sample_44.txt\", \"conversion\": 0.4846108223749081, \"yield\": 40.0}, {\"2-chlorotoluene\": 0.05814488113458456, \"o-tolunitrile\": 0.0, \"tetralin\": 68296.8181904012, \"column\": \"4\", \"row\": \"6\", \"path\": \"/Users/haascp/Documents/GitHub/mocca/notebooks/cyanation_data/09072021_sample_45.txt\", \"conversion\": 0.030918647756923944, \"yield\": 0.0}, {\"2-chlorotoluene\": 0.012185067723378205, \"o-tolunitrile\": 0.04552699391917763, \"tetralin\": 69337.7815665966, \"column\": \"4\", \"row\": \"7\", \"path\": \"/Users/haascp/Documents/GitHub/mocca/notebooks/cyanation_data/09072021_sample_46.txt\", \"conversion\": 0.7969155379436965, \"yield\": 76.0}, {\"2-chlorotoluene\": 0.03196809484747321, \"o-tolunitrile\": 0.021232514077164862, \"tetralin\": 64919.23612426423, \"column\": \"4\", \"row\": \"8\", \"path\": \"/Users/haascp/Documents/GitHub/mocca/notebooks/cyanation_data/09072021_sample_47.txt\", \"conversion\": 0.4671984192087798, \"yield\": 35.0}, {\"2-chlorotoluene\": 0.04737476271576603, \"o-tolunitrile\": 0.010268673029939666, \"tetralin\": 104376.0567953444, \"column\": \"4\", \"row\": \"9\", \"path\": \"/Users/haascp/Documents/GitHub/mocca/notebooks/cyanation_data/09072021_sample_48.txt\", \"conversion\": 0.21042062140389947, \"yield\": 17.0}, {\"2-chlorotoluene\": 0.0504677162876478, \"o-tolunitrile\": 0.0035044882013183986, \"tetralin\": 62917.73466453317, \"column\": \"4\", \"row\": \"10\", \"path\": \"/Users/haascp/Documents/GitHub/mocca/notebooks/cyanation_data/09072021_sample_49.txt\", \"conversion\": 0.15887139520587001, \"yield\": 6.0}, {\"2-chlorotoluene\": 0.047631664722718514, \"o-tolunitrile\": 0.0016549145862678539, \"tetralin\": 84618.9660303258, \"column\": \"4\", \"row\": \"11\", \"path\": \"/Users/haascp/Documents/GitHub/mocca/notebooks/cyanation_data/09072021_sample_50.txt\", \"conversion\": 0.20613892128802475, \"yield\": 3.0}, {\"2-chlorotoluene\": 0.0395406088985109, \"o-tolunitrile\": 0.0057483774257561255, \"tetralin\": 194674.42453247233, \"column\": \"4\", \"row\": \"12\", \"path\": \"/Users/haascp/Documents/GitHub/mocca/notebooks/cyanation_data/09072021_sample_51.txt\", \"conversion\": 0.34098985169148494, \"yield\": 10.0}, {\"2-chlorotoluene\": 0.06012272471733296, \"o-tolunitrile\": 0.0, \"tetralin\": 63431.36436244472, \"column\": \"5\", \"row\": \"1\", \"path\": \"/Users/haascp/Documents/GitHub/mocca/notebooks/cyanation_data/09072021_sample_52.txt\", \"conversion\": -0.002045411955549359, \"yield\": 0.0}, {\"2-chlorotoluene\": 0.06079232938391671, \"o-tolunitrile\": 0.0, \"tetralin\": 60725.781557139766, \"column\": \"5\", \"row\": \"2\", \"path\": \"/Users/haascp/Documents/GitHub/mocca/notebooks/cyanation_data/09072021_sample_53.txt\", \"conversion\": -0.013205489731945205, \"yield\": 0.0}, {\"2-chlorotoluene\": 0.06498408705031182, \"o-tolunitrile\": 0.0, \"tetralin\": 59228.238392554325, \"column\": \"5\", \"row\": \"3\", \"path\": \"/Users/haascp/Documents/GitHub/mocca/notebooks/cyanation_data/09072021_sample_54.txt\", \"conversion\": -0.08306811750519705, \"yield\": 0.0}, {\"2-chlorotoluene\": 0.061084358212770834, \"o-tolunitrile\": 0.0, \"tetralin\": 66692.73839240526, \"column\": \"5\", \"row\": \"4\", \"path\": \"/Users/haascp/Documents/GitHub/mocca/notebooks/cyanation_data/09072021_sample_55.txt\", \"conversion\": -0.018072636879513937, \"yield\": 0.0}, {\"2-chlorotoluene\": 0.05933717004703307, \"o-tolunitrile\": 0.0, \"tetralin\": 62043.8710875665, \"column\": \"5\", \"row\": \"5\", \"path\": \"/Users/haascp/Documents/GitHub/mocca/notebooks/cyanation_data/09072021_sample_56.txt\", \"conversion\": 0.011047165882782073, \"yield\": 0.0}, {\"2-chlorotoluene\": 0.06425920026429273, \"o-tolunitrile\": 0.0, \"tetralin\": 63049.22296165089, \"column\": \"5\", \"row\": \"6\", \"path\": \"/Users/haascp/Documents/GitHub/mocca/notebooks/cyanation_data/09072021_sample_57.txt\", \"conversion\": -0.07098667107154552, \"yield\": 0.0}, {\"2-chlorotoluene\": 0.0, \"o-tolunitrile\": 0.056542582242856194, \"tetralin\": 67184.39148433255, \"column\": \"5\", \"row\": \"7\", \"path\": \"/Users/haascp/Documents/GitHub/mocca/notebooks/cyanation_data/09072021_sample_58.txt\", \"conversion\": 1.0, \"yield\": 94.0}, {\"2-chlorotoluene\": 0.0332919339838256, \"o-tolunitrile\": 0.027508359272814774, \"tetralin\": 57337.66362214491, \"column\": \"5\", \"row\": \"8\", \"path\": \"/Users/haascp/Documents/GitHub/mocca/notebooks/cyanation_data/09072021_sample_59.txt\", \"conversion\": 0.44513443360290667, \"yield\": 46.0}, {\"2-chlorotoluene\": 0.05786868786978697, \"o-tolunitrile\": 0.0022877334261042948, \"tetralin\": 79011.86066982256, \"column\": \"5\", \"row\": \"9\", \"path\": \"/Users/haascp/Documents/GitHub/mocca/notebooks/cyanation_data/09072021_sample_60.txt\", \"conversion\": 0.03552186883688385, \"yield\": 4.0}, {\"2-chlorotoluene\": 0.04408269357534595, \"o-tolunitrile\": 0.010463927028922515, \"tetralin\": 62811.502817041735, \"column\": \"5\", \"row\": \"10\", \"path\": \"/Users/haascp/Documents/GitHub/mocca/notebooks/cyanation_data/09072021_sample_61.txt\", \"conversion\": 0.26528844041090077, \"yield\": 17.0}, {\"2-chlorotoluene\": 0.04183172155509519, \"o-tolunitrile\": 0.0037945528385829644, \"tetralin\": 142860.810697645, \"column\": \"5\", \"row\": \"11\", \"path\": \"/Users/haascp/Documents/GitHub/mocca/notebooks/cyanation_data/09072021_sample_62.txt\", \"conversion\": 0.3028046407484135, \"yield\": 6.0}, {\"2-chlorotoluene\": 0.0519738024868003, \"o-tolunitrile\": 0.014200617020164738, \"tetralin\": 94163.35895521048, \"column\": \"5\", \"row\": \"12\", \"path\": \"/Users/haascp/Documents/GitHub/mocca/notebooks/cyanation_data/09072021_sample_63.txt\", \"conversion\": 0.1337699585533283, \"yield\": 24.0}, {\"2-chlorotoluene\": 0.0507992904082982, \"o-tolunitrile\": 0.011452785729721075, \"tetralin\": 60262.28277341951, \"column\": \"6\", \"row\": \"1\", \"path\": \"/Users/haascp/Documents/GitHub/mocca/notebooks/cyanation_data/09072021_sample_64.txt\", \"conversion\": 0.15334515986169667, \"yield\": 19.0}, {\"2-chlorotoluene\": 0.055046418708405584, \"o-tolunitrile\": 0.004634078721158648, \"tetralin\": 59104.624556408344, \"column\": \"6\", \"row\": \"2\", \"path\": \"/Users/haascp/Documents/GitHub/mocca/notebooks/cyanation_data/09072021_sample_65.txt\", \"conversion\": 0.08255968819324024, \"yield\": 8.0}, {\"2-chlorotoluene\": 0.0606959048795193, \"o-tolunitrile\": 0.0, \"tetralin\": 74630.25243837903, \"column\": \"6\", \"row\": \"3\", \"path\": \"/Users/haascp/Documents/GitHub/mocca/notebooks/cyanation_data/09072021_sample_66.txt\", \"conversion\": -0.011598414658655031, \"yield\": 0.0}, {\"2-chlorotoluene\": 0.031506304374199386, \"o-tolunitrile\": 0.02901264416987499, \"tetralin\": 61413.05073104916, \"column\": \"6\", \"row\": \"4\", \"path\": \"/Users/haascp/Documents/GitHub/mocca/notebooks/cyanation_data/09072021_sample_67.txt\", \"conversion\": 0.4748949270966769, \"yield\": 48.0}, {\"2-chlorotoluene\": 0.04010734416492792, \"o-tolunitrile\": 0.01720980238656352, \"tetralin\": 58513.20011343811, \"column\": \"6\", \"row\": \"5\", \"path\": \"/Users/haascp/Documents/GitHub/mocca/notebooks/cyanation_data/09072021_sample_68.txt\", \"conversion\": 0.33154426391786795, \"yield\": 29.0}, {\"2-chlorotoluene\": 0.0, \"o-tolunitrile\": 0.05136241868515934, \"tetralin\": 61405.30783046213, \"column\": \"6\", \"row\": \"6\", \"path\": \"/Users/haascp/Documents/GitHub/mocca/notebooks/cyanation_data/09072021_sample_69.txt\", \"conversion\": 1.0, \"yield\": 86.0}, {\"2-chlorotoluene\": 0.007908819988401202, \"o-tolunitrile\": 0.055869334941379925, \"tetralin\": 76382.97299510123, \"column\": \"6\", \"row\": \"7\", \"path\": \"/Users/haascp/Documents/GitHub/mocca/notebooks/cyanation_data/09072021_sample_70.txt\", \"conversion\": 0.8681863335266465, \"yield\": 93.0}, {\"2-chlorotoluene\": 0.018716706239992602, \"o-tolunitrile\": 0.041011856163784256, \"tetralin\": 110346.65693487352, \"column\": \"6\", \"row\": \"8\", \"path\": \"/Users/haascp/Documents/GitHub/mocca/notebooks/cyanation_data/09072021_sample_71.txt\", \"conversion\": 0.6880548960001233, \"yield\": 68.0}, {\"2-chlorotoluene\": 0.05610869376415526, \"o-tolunitrile\": 0.0041686949909799376, \"tetralin\": 72201.41478141687, \"column\": \"6\", \"row\": \"9\", \"path\": \"/Users/haascp/Documents/GitHub/mocca/notebooks/cyanation_data/09072021_sample_72.txt\", \"conversion\": 0.06485510393074562, \"yield\": 7.0}, {\"2-chlorotoluene\": 0.04539899202812969, \"o-tolunitrile\": 0.005342321396228706, \"tetralin\": 95296.56585963305, \"column\": \"6\", \"row\": \"10\", \"path\": \"/Users/haascp/Documents/GitHub/mocca/notebooks/cyanation_data/09072021_sample_73.txt\", \"conversion\": 0.2433501328645051, \"yield\": 9.0}, {\"2-chlorotoluene\": 0.0323630260370543, \"o-tolunitrile\": 0.006135193133086176, \"tetralin\": 212290.46141785712, \"column\": \"6\", \"row\": \"11\", \"path\": \"/Users/haascp/Documents/GitHub/mocca/notebooks/cyanation_data/09072021_sample_74.txt\", \"conversion\": 0.46061623271576163, \"yield\": 10.0}, {\"2-chlorotoluene\": 0.04430779664791032, \"o-tolunitrile\": 0.0069010404581235476, \"tetralin\": 61092.489679436854, \"column\": \"6\", \"row\": \"12\", \"path\": \"/Users/haascp/Documents/GitHub/mocca/notebooks/cyanation_data/09072021_sample_75.txt\", \"conversion\": 0.261536722534828, \"yield\": 12.0}, {\"2-chlorotoluene\": 0.06096969471337802, \"o-tolunitrile\": 0.0, \"tetralin\": 62673.54595238004, \"column\": \"7\", \"row\": \"1\", \"path\": \"/Users/haascp/Documents/GitHub/mocca/notebooks/cyanation_data/09072021_sample_76.txt\", \"conversion\": -0.01616157855630039, \"yield\": 0.0}, {\"2-chlorotoluene\": 0.05859035816664436, \"o-tolunitrile\": 0.0, \"tetralin\": 86691.6652865078, \"column\": \"7\", \"row\": \"2\", \"path\": \"/Users/haascp/Documents/GitHub/mocca/notebooks/cyanation_data/09072021_sample_77.txt\", \"conversion\": 0.023494030555927296, \"yield\": 0.0}, {\"2-chlorotoluene\": 0.06127528961373966, \"o-tolunitrile\": 0.0, \"tetralin\": 75628.74299705235, \"column\": \"7\", \"row\": \"3\", \"path\": \"/Users/haascp/Documents/GitHub/mocca/notebooks/cyanation_data/09072021_sample_78.txt\", \"conversion\": -0.021254826895661036, \"yield\": 0.0}, {\"2-chlorotoluene\": 0.06080616871375363, \"o-tolunitrile\": 0.0, \"tetralin\": 61116.611724321025, \"column\": \"7\", \"row\": \"4\", \"path\": \"/Users/haascp/Documents/GitHub/mocca/notebooks/cyanation_data/09072021_sample_79.txt\", \"conversion\": -0.013436145229227259, \"yield\": 0.0}, {\"2-chlorotoluene\": 0.06295647950774393, \"o-tolunitrile\": 0.0, \"tetralin\": 56555.24177702437, \"column\": \"7\", \"row\": \"5\", \"path\": \"/Users/haascp/Documents/GitHub/mocca/notebooks/cyanation_data/09072021_sample_80.txt\", \"conversion\": -0.049274658462398806, \"yield\": 0.0}, {\"2-chlorotoluene\": 0.06501324609448765, \"o-tolunitrile\": 0.0, \"tetralin\": 63510.21877200517, \"column\": \"7\", \"row\": \"6\", \"path\": \"/Users/haascp/Documents/GitHub/mocca/notebooks/cyanation_data/09072021_sample_81.txt\", \"conversion\": -0.08355410157479422, \"yield\": 0.0}, {\"2-chlorotoluene\": 0.05127456625212281, \"o-tolunitrile\": 0.0, \"tetralin\": 138724.8975034758, \"column\": \"7\", \"row\": \"7\", \"path\": \"/Users/haascp/Documents/GitHub/mocca/notebooks/cyanation_data/09072021_sample_82.txt\", \"conversion\": 0.14542389579795315, \"yield\": 0.0}, {\"2-chlorotoluene\": 0.05799331581179912, \"o-tolunitrile\": 0.0, \"tetralin\": 68634.19360962747, \"column\": \"7\", \"row\": \"8\", \"path\": \"/Users/haascp/Documents/GitHub/mocca/notebooks/cyanation_data/09072021_sample_83.txt\", \"conversion\": 0.03344473647001467, \"yield\": 0.0}, {\"2-chlorotoluene\": 0.06326954765599173, \"o-tolunitrile\": 0.0, \"tetralin\": 77854.30844179585, \"column\": \"7\", \"row\": \"9\", \"path\": \"/Users/haascp/Documents/GitHub/mocca/notebooks/cyanation_data/09072021_sample_84.txt\", \"conversion\": -0.05449246093319551, \"yield\": 0.0}, {\"2-chlorotoluene\": 0.0501424478621394, \"o-tolunitrile\": 0.0, \"tetralin\": 163417.838529351, \"column\": \"7\", \"row\": \"10\", \"path\": \"/Users/haascp/Documents/GitHub/mocca/notebooks/cyanation_data/09072021_sample_85.txt\", \"conversion\": 0.16429253563100996, \"yield\": 0.0}, {\"2-chlorotoluene\": 0.056966838088192064, \"o-tolunitrile\": 0.0, \"tetralin\": 64657.70898806185, \"column\": \"7\", \"row\": \"11\", \"path\": \"/Users/haascp/Documents/GitHub/mocca/notebooks/cyanation_data/09072021_sample_86.txt\", \"conversion\": 0.05055269853013224, \"yield\": 0.0}, {\"2-chlorotoluene\": 0.05370096989217386, \"o-tolunitrile\": 0.0, \"tetralin\": 75710.39112923415, \"column\": \"7\", \"row\": \"12\", \"path\": \"/Users/haascp/Documents/GitHub/mocca/notebooks/cyanation_data/09072021_sample_87.txt\", \"conversion\": 0.10498383513043569, \"yield\": 0.0}]}}, {\"mode\": \"vega-lite\"});\n",
       "</script>"
      ],
      "text/plain": [
       "alt.LayerChart(...)"
      ]
     },
     "metadata": {},
     "output_type": "display_data"
    }
   ],
   "source": [
    "results_rounded = results_df\n",
    "results_rounded['yield'] = results_rounded['yield'] * 100\n",
    "results_rounded = results_rounded.round({'yield': 0})\n",
    "#display(results_rounded['yield'])\n",
    "\n",
    "heatmap = alt.Chart(results_rounded, title = 'Yield').mark_rect().encode(\n",
    "            x=alt.X('row', sort=row_order),\n",
    "            y=alt.Y('column'),\n",
    "            color=alt.Color('yield', title=\"Yield\")\n",
    "            )\n",
    "text = alt.Chart(results_rounded, title = 'Yield').mark_text().encode(\n",
    "            x=alt.X('row', sort=row_order),\n",
    "            y=alt.Y('column'),\n",
    "            text='yield'\n",
    "            )\n",
    "\n",
    "display(heatmap + text)"
   ]
  },
  {
   "cell_type": "code",
   "execution_count": null,
   "id": "337a5023-f756-4047-8bc7-63489f69792c",
   "metadata": {},
   "outputs": [],
   "source": []
  }
 ],
 "metadata": {
  "kernelspec": {
   "display_name": "mocca-dev",
   "language": "python",
   "name": "mocca-dev"
  },
  "language_info": {
   "codemirror_mode": {
    "name": "ipython",
    "version": 3
   },
   "file_extension": ".py",
   "mimetype": "text/x-python",
   "name": "python",
   "nbconvert_exporter": "python",
   "pygments_lexer": "ipython3",
   "version": "3.9.7"
  }
 },
 "nbformat": 4,
 "nbformat_minor": 5
}
