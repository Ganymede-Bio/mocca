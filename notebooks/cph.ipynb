{
 "cells": [
  {
   "cell_type": "code",
   "execution_count": 1,
   "id": "d264e21f-afa3-4bb4-ac0a-9cc245c859f5",
   "metadata": {},
   "outputs": [],
   "source": [
    "%load_ext autoreload\n",
    "%autoreload 2\n",
    "\n",
    "from glob import glob\n",
    "import os\n",
    "import pandas as pd\n",
    "\n",
    "from mocca.campaign.model import HplcDadCampaign\n",
    "from mocca.campaign.process_funcs import process_compound_experiments\n",
    "from mocca.campaign.settings import Settings\n",
    "from mocca.campaign.experiment import Experiment\n",
    "from mocca.campaign.compound import Compound\n",
    "from mocca.campaign.istd import InternalStandard\n",
    "\n",
    "from mocca.dad_data.models import CompoundData, GradientData"
   ]
  },
  {
   "cell_type": "code",
   "execution_count": 2,
   "id": "330f6897-2ab1-4901-8806-d622cca7d680",
   "metadata": {},
   "outputs": [],
   "source": [
    "# get the folders matching flag in directory\n",
    "flag = '.txt'\n",
    "\n",
    "###\n",
    "# Add the path to the provided data folder\n",
    "test_data_path = '/Users/haascp/Documents/PostDoc/MIT/MIC-DROP/cora/cyanation/wellplate_data/full plate combined data' # directory of test data\n",
    "###\n",
    "\n",
    "folders = glob(test_data_path + '/*' + flag + '*') #find all matching flag\n",
    "folders = sorted(folders, key=lambda x: int(x.split('_')[-1][:-4]))"
   ]
  },
  {
   "cell_type": "code",
   "execution_count": 3,
   "id": "2f0f7186-319c-44c8-9a35-ee59d81b97db",
   "metadata": {},
   "outputs": [],
   "source": [
    "istd_folder = [folder for folder in folders if folder.split('_')[-1][:-4] == '96']\n",
    "\n",
    "product_indices =['92', '93', '94', '95']\n",
    "product_folders = [folder for folder in folders if folder.split('_')[-1][:-4] in product_indices]\n",
    "\n",
    "substrate_indices =['88', '89', '90', '91']\n",
    "substrate_folders = [folder for folder in folders if folder.split('_')[-1][:-4] in substrate_indices]\n",
    "\n",
    "# obviously, we used a blank injection as the gradient run\n",
    "gradient_folder = [folder for folder in folders if folder.split('_')[-1][:-4] == '97']"
   ]
  },
  {
   "cell_type": "code",
   "execution_count": 4,
   "id": "a1af7023-1766-477d-bb24-c998d4119a86",
   "metadata": {},
   "outputs": [],
   "source": [
    "# remove some data which was gathered due to repeated start of the campaigns\n",
    "bad_indices =['0', '1', '2', '3']\n",
    "bad_folders = [folder for folder in folders if folder.split('_')[-1][:-4] in bad_indices]\n",
    "\n",
    "cnsource_indices =['98', '99']\n",
    "cnsource_folders = [folder for folder in folders if folder.split('_')[-1][:-4] in cnsource_indices]\n",
    "\n",
    "remove_folders = bad_folders + istd_folder + product_folders + substrate_folders + gradient_folder + cnsource_folders\n",
    "\n",
    "reaction_folders = [folder for folder in folders if folder not in remove_folders]"
   ]
  },
  {
   "cell_type": "code",
   "execution_count": 5,
   "id": "34ca584e-1777-463b-ba62-e2b7b7ba3ad3",
   "metadata": {},
   "outputs": [],
   "source": [
    "gradient_experiment = Experiment(gradient_folder[0], gradient=True)"
   ]
  },
  {
   "cell_type": "code",
   "execution_count": 6,
   "id": "369c87a6-3fc1-48ce-82a8-fbbd8a93b3b4",
   "metadata": {},
   "outputs": [],
   "source": [
    "campaign = HplcDadCampaign('labsolutions')"
   ]
  },
  {
   "cell_type": "code",
   "execution_count": 7,
   "id": "830033f1-18bd-47bf-b3fd-d52b97fed401",
   "metadata": {},
   "outputs": [
    {
     "data": {
      "text/plain": [
       "Settings(hplc_system_tag='labsolutions', detector_limit=2000, absorbance_threshold=None, wl_high_pass=None, wl_low_pass=None, peaks_high_pass=None, peaks_low_pass=None, spectrum_correl_thresh=None, relative_distance_thresh=None)"
      ]
     },
     "execution_count": 7,
     "metadata": {},
     "output_type": "execute_result"
    }
   ],
   "source": [
    "campaign.settings"
   ]
  },
  {
   "cell_type": "code",
   "execution_count": 8,
   "id": "0d7dada7-763a-48f2-b964-611b005fe3f7",
   "metadata": {},
   "outputs": [],
   "source": [
    "ArCl_concs = [0.0603, 0.04422, 0.03015, 0.01407]\n",
    "ArCN_concs = [0.05955, 0.04367, 0.029775, 0.013895]\n",
    "istd_conc = 0.06094"
   ]
  },
  {
   "cell_type": "code",
   "execution_count": 9,
   "id": "e54fba04-1321-4248-ace5-867c8e07c321",
   "metadata": {},
   "outputs": [],
   "source": [
    "istd_experiment = Experiment(istd_folder[0], compound=Compound('tetralin', istd_conc, istd=True))"
   ]
  },
  {
   "cell_type": "code",
   "execution_count": 10,
   "id": "a81573fe-9583-47be-8cb2-1c53203ea49d",
   "metadata": {},
   "outputs": [],
   "source": [
    "substrate_experiments = []\n",
    "for i, conc in enumerate(ArCl_concs):\n",
    "    exp = Experiment(substrate_folders[i], compound=Compound('2-chlorotuluene', conc), istd=InternalStandard('tetralin', istd_conc))\n",
    "    substrate_experiments.append(exp)"
   ]
  },
  {
   "cell_type": "code",
   "execution_count": 11,
   "id": "f7e2bfe7-82bb-4e1e-a8ba-26b49b4204fd",
   "metadata": {},
   "outputs": [],
   "source": [
    "product_experiments = []\n",
    "for i, conc in enumerate(ArCN_concs):\n",
    "    exp = Experiment(product_folders[i], compound=Compound('o-tolunitrile', conc), istd=InternalStandard('tetralin', istd_conc))\n",
    "    product_experiments.append(exp)"
   ]
  },
  {
   "cell_type": "code",
   "execution_count": 12,
   "id": "df99c03d-bee4-4b3f-8cf4-c4d474aace02",
   "metadata": {},
   "outputs": [],
   "source": [
    "campaign.add_experiment(gradient_experiment)\n",
    "campaign.add_experiment(istd_experiment)\n",
    "for exp in product_experiments:\n",
    "    campaign.add_experiment(exp)\n",
    "for exp in substrate_experiments:\n",
    "    campaign.add_experiment(exp)\n",
    "campaign.add_experiment(Experiment(bad_folders[0], compound=Compound(\"a\")))"
   ]
  },
  {
   "cell_type": "code",
   "execution_count": 13,
   "id": "383d5f3d-84ad-4d2e-a51b-6036f90b5449",
   "metadata": {},
   "outputs": [
    {
     "data": {
      "text/plain": [
       "[Experiment(path='/Users/haascp/Documents/PostDoc/MIT/MIC-DROP/cora/cyanation/wellplate_data/full plate combined data/09072021_sample_97.txt', compound=None, istd=None, gradient=True, processed=False),\n",
       " Experiment(path='/Users/haascp/Documents/PostDoc/MIT/MIC-DROP/cora/cyanation/wellplate_data/full plate combined data/09072021_sample_96.txt', compound=Compound(key='tetralin', conc=0.06094, solvent=False, istd=True), istd=None, gradient=False, processed=False),\n",
       " Experiment(path='/Users/haascp/Documents/PostDoc/MIT/MIC-DROP/cora/cyanation/wellplate_data/full plate combined data/09072021_sample_92.txt', compound=Compound(key='o-tolunitrile', conc=0.05955, solvent=False, istd=False), istd=[InternalStandard(key='tetralin', conc=0.06094)], gradient=False, processed=False),\n",
       " Experiment(path='/Users/haascp/Documents/PostDoc/MIT/MIC-DROP/cora/cyanation/wellplate_data/full plate combined data/09072021_sample_93.txt', compound=Compound(key='o-tolunitrile', conc=0.04367, solvent=False, istd=False), istd=[InternalStandard(key='tetralin', conc=0.06094)], gradient=False, processed=False),\n",
       " Experiment(path='/Users/haascp/Documents/PostDoc/MIT/MIC-DROP/cora/cyanation/wellplate_data/full plate combined data/09072021_sample_94.txt', compound=Compound(key='o-tolunitrile', conc=0.029775, solvent=False, istd=False), istd=[InternalStandard(key='tetralin', conc=0.06094)], gradient=False, processed=False),\n",
       " Experiment(path='/Users/haascp/Documents/PostDoc/MIT/MIC-DROP/cora/cyanation/wellplate_data/full plate combined data/09072021_sample_95.txt', compound=Compound(key='o-tolunitrile', conc=0.013895, solvent=False, istd=False), istd=[InternalStandard(key='tetralin', conc=0.06094)], gradient=False, processed=False),\n",
       " Experiment(path='/Users/haascp/Documents/PostDoc/MIT/MIC-DROP/cora/cyanation/wellplate_data/full plate combined data/09072021_sample_88.txt', compound=Compound(key='2-chlorotuluene', conc=0.0603, solvent=False, istd=False), istd=[InternalStandard(key='tetralin', conc=0.06094)], gradient=False, processed=False),\n",
       " Experiment(path='/Users/haascp/Documents/PostDoc/MIT/MIC-DROP/cora/cyanation/wellplate_data/full plate combined data/09072021_sample_89.txt', compound=Compound(key='2-chlorotuluene', conc=0.04422, solvent=False, istd=False), istd=[InternalStandard(key='tetralin', conc=0.06094)], gradient=False, processed=False),\n",
       " Experiment(path='/Users/haascp/Documents/PostDoc/MIT/MIC-DROP/cora/cyanation/wellplate_data/full plate combined data/09072021_sample_90.txt', compound=Compound(key='2-chlorotuluene', conc=0.03015, solvent=False, istd=False), istd=[InternalStandard(key='tetralin', conc=0.06094)], gradient=False, processed=False),\n",
       " Experiment(path='/Users/haascp/Documents/PostDoc/MIT/MIC-DROP/cora/cyanation/wellplate_data/full plate combined data/09072021_sample_91.txt', compound=Compound(key='2-chlorotuluene', conc=0.01407, solvent=False, istd=False), istd=[InternalStandard(key='tetralin', conc=0.06094)], gradient=False, processed=False),\n",
       " Experiment(path='/Users/haascp/Documents/PostDoc/MIT/MIC-DROP/cora/cyanation/wellplate_data/full plate combined data/09072021_sample_0.txt', compound=Compound(key='a', conc=None, solvent=False, istd=False), istd=None, gradient=False, processed=False)]"
      ]
     },
     "execution_count": 13,
     "metadata": {},
     "output_type": "execute_result"
    }
   ],
   "source": [
    "campaign.experiments"
   ]
  },
  {
   "cell_type": "code",
   "execution_count": 17,
   "id": "baaaffe5-e875-4a29-a889-5f572b8e5c3f",
   "metadata": {
    "tags": []
   },
   "outputs": [
    {
     "name": "stderr",
     "output_type": "stream",
     "text": [
      "/Users/haascp/opt/anaconda3/envs/mocca-dev/lib/python3.9/site-packages/sklearn/metrics/_regression.py:781: UndefinedMetricWarning: R^2 score is not well-defined with less than two samples.\n",
      "  warnings.warn(msg, UndefinedMetricWarning)\n"
     ]
    }
   ],
   "source": [
    "compound_chroms, bad_chroms = campaign.process_all_experiments(detector_limit=campaign.settings.detector_limit, wl_low_pass=None,\n",
    "                                 spectrum_correl_thresh=0.95, relative_distance_thresh=0.01,\n",
    "                                 wl_high_pass = 215, peaks_high_pass = 1, \n",
    "                                 peaks_low_pass = 5, absorbance_threshold = 700)"
   ]
  },
  {
   "cell_type": "code",
   "execution_count": 21,
   "id": "ae16202d-2aec-4851-8ab1-5230337cf3a0",
   "metadata": {},
   "outputs": [
    {
     "data": {
      "text/plain": [
       "'/Users/haascp/Documents/PostDoc/MIT/MIC-DROP/cora/cyanation/wellplate_data/full plate combined data/09072021_sample_96.txt'"
      ]
     },
     "metadata": {},
     "output_type": "display_data"
    },
    {
     "data": {
      "text/plain": [
       "'2-chlorotuluene'"
      ]
     },
     "metadata": {},
     "output_type": "display_data"
    },
    {
     "data": {
      "text/plain": [
       "10618.060848096951"
      ]
     },
     "metadata": {},
     "output_type": "display_data"
    },
    {
     "data": {
      "text/plain": [
       "[]"
      ]
     },
     "metadata": {},
     "output_type": "display_data"
    },
    {
     "data": {
      "text/plain": [
       "'tetralin'"
      ]
     },
     "metadata": {},
     "output_type": "display_data"
    },
    {
     "data": {
      "text/plain": [
       "90765.2642286953"
      ]
     },
     "metadata": {},
     "output_type": "display_data"
    },
    {
     "data": {
      "text/plain": [
       "[]"
      ]
     },
     "metadata": {},
     "output_type": "display_data"
    },
    {
     "data": {
      "text/plain": [
       "'/Users/haascp/Documents/PostDoc/MIT/MIC-DROP/cora/cyanation/wellplate_data/full plate combined data/09072021_sample_88.txt'"
      ]
     },
     "metadata": {},
     "output_type": "display_data"
    },
    {
     "data": {
      "text/plain": [
       "'2-chlorotuluene'"
      ]
     },
     "metadata": {},
     "output_type": "display_data"
    },
    {
     "data": {
      "text/plain": [
       "29082.561621718694"
      ]
     },
     "metadata": {},
     "output_type": "display_data"
    },
    {
     "data": {
      "text/plain": [
       "[IstdPeak(maximum=1407, integral=37415.788129257555, offset=1, compound_id='tetralin', concentration=0.06094)]"
      ]
     },
     "metadata": {},
     "output_type": "display_data"
    },
    {
     "data": {
      "text/plain": [
       "'tetralin'"
      ]
     },
     "metadata": {},
     "output_type": "display_data"
    },
    {
     "data": {
      "text/plain": [
       "37415.788129257555"
      ]
     },
     "metadata": {},
     "output_type": "display_data"
    },
    {
     "data": {
      "text/plain": [
       "[IstdPeak(maximum=1407, integral=37415.788129257555, offset=1, compound_id='tetralin', concentration=0.06094)]"
      ]
     },
     "metadata": {},
     "output_type": "display_data"
    },
    {
     "data": {
      "text/plain": [
       "'/Users/haascp/Documents/PostDoc/MIT/MIC-DROP/cora/cyanation/wellplate_data/full plate combined data/09072021_sample_89.txt'"
      ]
     },
     "metadata": {},
     "output_type": "display_data"
    },
    {
     "data": {
      "text/plain": [
       "'2-chlorotuluene'"
      ]
     },
     "metadata": {},
     "output_type": "display_data"
    },
    {
     "data": {
      "text/plain": [
       "22403.533720771888"
      ]
     },
     "metadata": {},
     "output_type": "display_data"
    },
    {
     "data": {
      "text/plain": [
       "[IstdPeak(maximum=1406, integral=40018.91508806365, offset=0, compound_id='tetralin', concentration=0.06094)]"
      ]
     },
     "metadata": {},
     "output_type": "display_data"
    },
    {
     "data": {
      "text/plain": [
       "'tetralin'"
      ]
     },
     "metadata": {},
     "output_type": "display_data"
    },
    {
     "data": {
      "text/plain": [
       "40018.91508806365"
      ]
     },
     "metadata": {},
     "output_type": "display_data"
    },
    {
     "data": {
      "text/plain": [
       "[IstdPeak(maximum=1406, integral=40018.91508806365, offset=0, compound_id='tetralin', concentration=0.06094)]"
      ]
     },
     "metadata": {},
     "output_type": "display_data"
    },
    {
     "data": {
      "text/plain": [
       "'/Users/haascp/Documents/PostDoc/MIT/MIC-DROP/cora/cyanation/wellplate_data/full plate combined data/09072021_sample_92.txt'"
      ]
     },
     "metadata": {},
     "output_type": "display_data"
    },
    {
     "data": {
      "text/plain": [
       "'o-tolunitrile'"
      ]
     },
     "metadata": {},
     "output_type": "display_data"
    },
    {
     "data": {
      "text/plain": [
       "203579.565272476"
      ]
     },
     "metadata": {},
     "output_type": "display_data"
    },
    {
     "data": {
      "text/plain": [
       "[IstdPeak(maximum=1406, integral=39027.10437635546, offset=0, compound_id='tetralin', concentration=0.06094)]"
      ]
     },
     "metadata": {},
     "output_type": "display_data"
    },
    {
     "data": {
      "text/plain": [
       "'tetralin'"
      ]
     },
     "metadata": {},
     "output_type": "display_data"
    },
    {
     "data": {
      "text/plain": [
       "39027.10437635546"
      ]
     },
     "metadata": {},
     "output_type": "display_data"
    },
    {
     "data": {
      "text/plain": [
       "[IstdPeak(maximum=1406, integral=39027.10437635546, offset=0, compound_id='tetralin', concentration=0.06094)]"
      ]
     },
     "metadata": {},
     "output_type": "display_data"
    },
    {
     "data": {
      "text/plain": [
       "'/Users/haascp/Documents/PostDoc/MIT/MIC-DROP/cora/cyanation/wellplate_data/full plate combined data/09072021_sample_93.txt'"
      ]
     },
     "metadata": {},
     "output_type": "display_data"
    },
    {
     "data": {
      "text/plain": [
       "'o-tolunitrile'"
      ]
     },
     "metadata": {},
     "output_type": "display_data"
    },
    {
     "data": {
      "text/plain": [
       "123388.0305363853"
      ]
     },
     "metadata": {},
     "output_type": "display_data"
    },
    {
     "data": {
      "text/plain": [
       "[IstdPeak(maximum=1408, integral=32509.528803783243, offset=2, compound_id='tetralin', concentration=0.06094)]"
      ]
     },
     "metadata": {},
     "output_type": "display_data"
    },
    {
     "data": {
      "text/plain": [
       "'tetralin'"
      ]
     },
     "metadata": {},
     "output_type": "display_data"
    },
    {
     "data": {
      "text/plain": [
       "32509.528803783243"
      ]
     },
     "metadata": {},
     "output_type": "display_data"
    },
    {
     "data": {
      "text/plain": [
       "[IstdPeak(maximum=1408, integral=32509.528803783243, offset=2, compound_id='tetralin', concentration=0.06094)]"
      ]
     },
     "metadata": {},
     "output_type": "display_data"
    },
    {
     "data": {
      "text/plain": [
       "'/Users/haascp/Documents/PostDoc/MIT/MIC-DROP/cora/cyanation/wellplate_data/full plate combined data/09072021_sample_94.txt'"
      ]
     },
     "metadata": {},
     "output_type": "display_data"
    },
    {
     "data": {
      "text/plain": [
       "'o-tolunitrile'"
      ]
     },
     "metadata": {},
     "output_type": "display_data"
    },
    {
     "data": {
      "text/plain": [
       "101291.93802706029"
      ]
     },
     "metadata": {},
     "output_type": "display_data"
    },
    {
     "data": {
      "text/plain": [
       "[IstdPeak(maximum=1405, integral=39231.976970444244, offset=-1, compound_id='tetralin', concentration=0.06094)]"
      ]
     },
     "metadata": {},
     "output_type": "display_data"
    },
    {
     "data": {
      "text/plain": [
       "'tetralin'"
      ]
     },
     "metadata": {},
     "output_type": "display_data"
    },
    {
     "data": {
      "text/plain": [
       "39231.976970444244"
      ]
     },
     "metadata": {},
     "output_type": "display_data"
    },
    {
     "data": {
      "text/plain": [
       "[IstdPeak(maximum=1405, integral=39231.976970444244, offset=-1, compound_id='tetralin', concentration=0.06094)]"
      ]
     },
     "metadata": {},
     "output_type": "display_data"
    }
   ],
   "source": [
    "for chrom in compound_chroms:\n",
    "    display(chrom.dataset.path)\n",
    "    for peak in chrom.peaks:\n",
    "        display(peak.compound_id)\n",
    "        display(peak.integral)\n",
    "        #display(peak.concentration)\n",
    "        display(peak.istd)"
   ]
  },
  {
   "cell_type": "code",
   "execution_count": 18,
   "id": "5ef71a93-3280-4313-8137-edd5e5bf54b2",
   "metadata": {},
   "outputs": [
    {
     "data": {
      "text/plain": [
       "'tetralin'"
      ]
     },
     "metadata": {},
     "output_type": "display_data"
    },
    {
     "data": {
      "text/plain": [
       "6"
      ]
     },
     "metadata": {},
     "output_type": "display_data"
    },
    {
     "data": {
      "text/plain": [
       "'2-chlorotuluene'"
      ]
     },
     "metadata": {},
     "output_type": "display_data"
    },
    {
     "data": {
      "text/plain": [
       "3"
      ]
     },
     "metadata": {},
     "output_type": "display_data"
    },
    {
     "data": {
      "text/plain": [
       "'o-tolunitrile'"
      ]
     },
     "metadata": {},
     "output_type": "display_data"
    },
    {
     "data": {
      "text/plain": [
       "3"
      ]
     },
     "metadata": {},
     "output_type": "display_data"
    }
   ],
   "source": [
    "for comp in campaign.quali_comp_db.items:\n",
    "    display(comp.compound_id)\n",
    "    display(len(comp.created_from))\n"
   ]
  },
  {
   "cell_type": "code",
   "execution_count": 19,
   "id": "6dc108d0-3f66-49a7-b35d-357ea15541e3",
   "metadata": {},
   "outputs": [
    {
     "data": {
      "text/plain": [
       "'tetralin'"
      ]
     },
     "metadata": {},
     "output_type": "display_data"
    },
    {
     "data": {
      "text/plain": [
       "{'absolute': 1489420.15472096}"
      ]
     },
     "metadata": {},
     "output_type": "display_data"
    },
    {
     "data": {
      "text/plain": [
       "{'absolute': [(0.06094, 90765.2642286953)]}"
      ]
     },
     "metadata": {},
     "output_type": "display_data"
    },
    {
     "data": {
      "text/plain": [
       "1"
      ]
     },
     "metadata": {},
     "output_type": "display_data"
    },
    {
     "data": {
      "text/plain": [
       "'2-chlorotuluene'"
      ]
     },
     "metadata": {},
     "output_type": "display_data"
    },
    {
     "data": {
      "text/plain": [
       "{'absolute': 490809.8921967266, 'tetralin': 0.7806230737067894}"
      ]
     },
     "metadata": {},
     "output_type": "display_data"
    },
    {
     "data": {
      "text/plain": [
       "{'absolute': [(0.0603, 29082.561621718694), (0.04422, 22403.533720771888)],\n",
       " 'tetralin': [(0.0603, 0.04736747223137285), (0.04422, 0.03411565110996862)]}"
      ]
     },
     "metadata": {},
     "output_type": "display_data"
    },
    {
     "data": {
      "text/plain": [
       "2"
      ]
     },
     "metadata": {},
     "output_type": "display_data"
    },
    {
     "data": {
      "text/plain": [
       "'o-tolunitrile'"
      ]
     },
     "metadata": {},
     "output_type": "display_data"
    },
    {
     "data": {
      "text/plain": [
       "{'absolute': 3237864.687574665, 'tetralin': 5.318045099264461}"
      ]
     },
     "metadata": {},
     "output_type": "display_data"
    },
    {
     "data": {
      "text/plain": [
       "{'absolute': [(0.05955, 203579.565272476),\n",
       "  (0.04367, 123388.0305363853),\n",
       "  (0.029775, 101291.93802706029)],\n",
       " 'tetralin': [(0.05955, 0.3178851955827124),\n",
       "  (0.04367, 0.23129423456953574),\n",
       "  (0.029775, 0.15733927219674235)]}"
      ]
     },
     "metadata": {},
     "output_type": "display_data"
    },
    {
     "data": {
      "text/plain": [
       "3"
      ]
     },
     "metadata": {},
     "output_type": "display_data"
    }
   ],
   "source": [
    "for comp in campaign.quant_comp_db.items:\n",
    "    display(comp.compound_id)\n",
    "    display(comp.calib_factors)\n",
    "    display(comp.calib_data)    \n",
    "    display(len(comp.created_from))"
   ]
  },
  {
   "cell_type": "code",
   "execution_count": 141,
   "id": "0dbec5df-00ef-4d4e-b544-2b27e8bf9e3d",
   "metadata": {},
   "outputs": [
    {
     "data": {
      "text/plain": [
       "'/Users/haascp/Documents/PostDoc/MIT/MIC-DROP/cora/cyanation/wellplate_data/full plate combined data/09072021_sample_90.txt'"
      ]
     },
     "metadata": {},
     "output_type": "display_data"
    },
    {
     "data": {
      "text/plain": [
       "'tetralin'"
      ]
     },
     "metadata": {},
     "output_type": "display_data"
    },
    {
     "data": {
      "text/plain": [
       "16856.97919906799"
      ]
     },
     "metadata": {},
     "output_type": "display_data"
    },
    {
     "data": {
      "text/plain": [
       "'/Users/haascp/Documents/PostDoc/MIT/MIC-DROP/cora/cyanation/wellplate_data/full plate combined data/09072021_sample_91.txt'"
      ]
     },
     "metadata": {},
     "output_type": "display_data"
    },
    {
     "data": {
      "text/plain": [
       "'tetralin'"
      ]
     },
     "metadata": {},
     "output_type": "display_data"
    },
    {
     "data": {
      "text/plain": [
       "32323.18913020689"
      ]
     },
     "metadata": {},
     "output_type": "display_data"
    },
    {
     "data": {
      "text/plain": [
       "'/Users/haascp/Documents/PostDoc/MIT/MIC-DROP/cora/cyanation/wellplate_data/full plate combined data/09072021_sample_95.txt'"
      ]
     },
     "metadata": {},
     "output_type": "display_data"
    },
    {
     "data": {
      "text/plain": [
       "'o-tolunitrile'"
      ]
     },
     "metadata": {},
     "output_type": "display_data"
    },
    {
     "data": {
      "text/plain": [
       "16509.21486814634"
      ]
     },
     "metadata": {},
     "output_type": "display_data"
    },
    {
     "ename": "AttributeError",
     "evalue": "'NoneType' object has no attribute 'path'",
     "output_type": "error",
     "traceback": [
      "\u001b[0;31m---------------------------------------------------------------------------\u001b[0m",
      "\u001b[0;31mAttributeError\u001b[0m                            Traceback (most recent call last)",
      "\u001b[0;32m/var/folders/c_/gt8zcwrn18s1dhd756dg2srw0000gn/T/ipykernel_13840/529188047.py\u001b[0m in \u001b[0;36m<module>\u001b[0;34m\u001b[0m\n\u001b[1;32m      1\u001b[0m \u001b[0;32mfor\u001b[0m \u001b[0mchrom\u001b[0m \u001b[0;32min\u001b[0m \u001b[0mbad_chroms\u001b[0m\u001b[0;34m:\u001b[0m\u001b[0;34m\u001b[0m\u001b[0;34m\u001b[0m\u001b[0m\n\u001b[0;32m----> 2\u001b[0;31m     \u001b[0mdisplay\u001b[0m\u001b[0;34m(\u001b[0m\u001b[0mchrom\u001b[0m\u001b[0;34m.\u001b[0m\u001b[0mdataset\u001b[0m\u001b[0;34m.\u001b[0m\u001b[0mpath\u001b[0m\u001b[0;34m)\u001b[0m\u001b[0;34m\u001b[0m\u001b[0;34m\u001b[0m\u001b[0m\n\u001b[0m\u001b[1;32m      3\u001b[0m     \u001b[0;32mfor\u001b[0m \u001b[0mpeak\u001b[0m \u001b[0;32min\u001b[0m \u001b[0mchrom\u001b[0m\u001b[0;34m.\u001b[0m\u001b[0mpeaks\u001b[0m\u001b[0;34m:\u001b[0m\u001b[0;34m\u001b[0m\u001b[0;34m\u001b[0m\u001b[0m\n\u001b[1;32m      4\u001b[0m         \u001b[0mdisplay\u001b[0m\u001b[0;34m(\u001b[0m\u001b[0mpeak\u001b[0m\u001b[0;34m.\u001b[0m\u001b[0mcompound_id\u001b[0m\u001b[0;34m)\u001b[0m\u001b[0;34m\u001b[0m\u001b[0;34m\u001b[0m\u001b[0m\n\u001b[1;32m      5\u001b[0m         \u001b[0mdisplay\u001b[0m\u001b[0;34m(\u001b[0m\u001b[0mpeak\u001b[0m\u001b[0;34m.\u001b[0m\u001b[0mintegral\u001b[0m\u001b[0;34m)\u001b[0m\u001b[0;34m\u001b[0m\u001b[0;34m\u001b[0m\u001b[0m\n",
      "\u001b[0;31mAttributeError\u001b[0m: 'NoneType' object has no attribute 'path'"
     ]
    }
   ],
   "source": [
    "for chrom in bad_chroms:\n",
    "    display(chrom.dataset.path)\n",
    "    for peak in chrom.peaks:\n",
    "        display(peak.compound_id)\n",
    "        display(peak.integral)"
   ]
  },
  {
   "cell_type": "code",
   "execution_count": 114,
   "id": "688037ce-dabf-4443-942f-4e92957caa9b",
   "metadata": {},
   "outputs": [
    {
     "data": {
      "text/plain": [
       "None"
      ]
     },
     "metadata": {},
     "output_type": "display_data"
    }
   ],
   "source": [
    "display(bad_chroms[0].dataset)"
   ]
  },
  {
   "cell_type": "code",
   "execution_count": 96,
   "id": "ee97801a-eb7f-47b8-83e8-3d29c9a7a2a5",
   "metadata": {},
   "outputs": [],
   "source": [
    "compound_id = '2-chlorotuluene_impurity_1'"
   ]
  },
  {
   "cell_type": "code",
   "execution_count": 97,
   "id": "b4b66d4f-dc6e-4f81-864d-3fb866198e88",
   "metadata": {},
   "outputs": [
    {
     "data": {
      "text/plain": [
       "True"
      ]
     },
     "execution_count": 97,
     "metadata": {},
     "output_type": "execute_result"
    }
   ],
   "source": [
    "'impurity' in compound_id"
   ]
  },
  {
   "cell_type": "code",
   "execution_count": 32,
   "id": "5bce7c09-b89f-4ac6-90fa-989f4b17ea60",
   "metadata": {},
   "outputs": [],
   "source": [
    "campaign.gradient"
   ]
  },
  {
   "cell_type": "code",
   "execution_count": 18,
   "id": "c72dbc71-db98-4f88-8b7b-f3187b8a3f18",
   "metadata": {},
   "outputs": [],
   "source": [
    "test = CompoundData('labsolutions', istd_experiment, GradientData('labsolutions', gradient_experiment, wl_high_pass = 250), wl_high_pass = 250)"
   ]
  },
  {
   "cell_type": "code",
   "execution_count": 19,
   "id": "174958f3-a223-42c5-be2e-a3daa818b724",
   "metadata": {},
   "outputs": [
    {
     "data": {
      "text/plain": [
       "CompoundData(hplc_system_tag='labsolutions', experiment=Experiment(path='/Users/haascp/Documents/PostDoc/MIT/MIC-DROP/cora/cyanation/wellplate_data/full plate combined data/09072021_sample_96.txt', compound=Compound(key='tetralin', conc=0.06094, solvent=False, istd=True), istd=None, gradient=False, processed=True), path='/Users/haascp/Documents/PostDoc/MIT/MIC-DROP/cora/cyanation/wellplate_data/full plate combined data/09072021_sample_96.txt', data=array([[0.05222568, 0.05281713, 0.05320858, ..., 0.02930742, 0.03026063,\n",
       "        0.03101384],\n",
       "       [0.04542254, 0.04611323, 0.04600392, ..., 0.03151315, 0.03181611,\n",
       "        0.03191907],\n",
       "       [0.05019863, 0.05081775, 0.05243686, ..., 0.03352349, 0.03481353,\n",
       "        0.03610356],\n",
       "       ...,\n",
       "       [0.00985935, 0.00982639, 0.00959342, ..., 0.00976906, 0.00859204,\n",
       "        0.00661501],\n",
       "       [0.00773878, 0.00772346, 0.00830815, ..., 0.00939489, 0.00921391,\n",
       "        0.00863293],\n",
       "       [0.        , 0.        , 0.        , ..., 0.        , 0.        ,\n",
       "        0.        ]]), time=array([2.66577807e-03, 5.33155615e-03, 7.99733422e-03, ...,\n",
       "       7.99466844e+00, 7.99733422e+00, 8.00000000e+00]), wavelength=array([253.42, 254.72, 256.02, 257.33, 258.63, 259.93, 261.24, 262.54,\n",
       "       263.84, 265.14, 266.45, 267.75, 269.05, 270.35, 271.65, 272.95,\n",
       "       274.25, 275.55, 276.86, 278.16, 279.46, 280.76, 282.06, 283.35,\n",
       "       284.65, 285.95, 287.25, 288.55, 289.85, 291.15, 292.45, 293.74,\n",
       "       295.04, 296.34, 297.64, 298.93, 300.23, 301.53, 302.82, 304.12,\n",
       "       305.42, 306.71, 308.01, 309.3 , 310.6 , 311.89, 313.19, 314.48,\n",
       "       315.78, 317.07, 318.37, 319.66, 320.95, 322.25, 323.54, 324.83,\n",
       "       326.12, 327.42, 328.71, 330.  , 331.29, 332.58, 333.87, 335.16,\n",
       "       336.45, 337.74, 339.03, 340.32, 341.61, 342.9 , 344.19, 345.48,\n",
       "       346.77, 348.06, 349.35, 350.63, 351.92, 353.21, 354.5 , 355.78,\n",
       "       357.07, 358.36, 359.64, 360.93, 362.21, 363.5 , 364.78, 366.07,\n",
       "       367.35, 368.64, 369.92, 371.2 , 372.49, 373.77, 375.05, 376.33,\n",
       "       377.62, 378.9 , 380.18, 381.46, 382.74, 384.02, 385.3 , 386.58,\n",
       "       387.86, 389.14, 390.42, 391.7 , 392.98, 394.26, 395.54, 396.81,\n",
       "       398.09]), warnings=[])"
      ]
     },
     "execution_count": 19,
     "metadata": {},
     "output_type": "execute_result"
    }
   ],
   "source": [
    "test"
   ]
  },
  {
   "cell_type": "code",
   "execution_count": 146,
   "id": "902d9655-be7c-4f91-884a-357c41cfe325",
   "metadata": {},
   "outputs": [],
   "source": [
    "test = ((1, 2), (2, 4), (3, 6), (4, 8))"
   ]
  },
  {
   "cell_type": "code",
   "execution_count": 148,
   "id": "a8ef3ea0-d367-47ec-82f5-1b1a96989bd0",
   "metadata": {},
   "outputs": [
    {
     "name": "stdout",
     "output_type": "stream",
     "text": [
      "(1, 2, 3, 4)\n",
      "(2, 4, 6, 8)\n"
     ]
    }
   ],
   "source": [
    "for i in zip(*test):\n",
    "    print(i)"
   ]
  },
  {
   "cell_type": "code",
   "execution_count": null,
   "id": "3436210a-c13e-4e28-b2b8-e6b641a5205f",
   "metadata": {},
   "outputs": [],
   "source": []
  }
 ],
 "metadata": {
  "kernelspec": {
   "display_name": "mocca-dev",
   "language": "python",
   "name": "mocca-dev"
  },
  "language_info": {
   "codemirror_mode": {
    "name": "ipython",
    "version": 3
   },
   "file_extension": ".py",
   "mimetype": "text/x-python",
   "name": "python",
   "nbconvert_exporter": "python",
   "pygments_lexer": "ipython3",
   "version": "3.9.7"
  }
 },
 "nbformat": 4,
 "nbformat_minor": 5
}
