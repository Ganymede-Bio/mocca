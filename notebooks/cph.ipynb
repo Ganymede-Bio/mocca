{
 "cells": [
  {
   "cell_type": "code",
   "execution_count": 1,
   "id": "d264e21f-afa3-4bb4-ac0a-9cc245c859f5",
   "metadata": {},
   "outputs": [],
   "source": [
    "%load_ext autoreload\n",
    "%autoreload 2\n",
    "\n",
    "from glob import glob\n",
    "import matplotlib.pyplot as plt \n",
    "import os\n",
    "import pandas as pd\n",
    "\n",
    "from mocca.campaign.model import HplcDadCampaign\n",
    "from mocca.campaign.process_funcs import process_compound_experiments\n",
    "from mocca.campaign.settings import Settings\n",
    "from mocca.campaign.experiment import Experiment\n",
    "from mocca.campaign.compound import Compound\n",
    "from mocca.campaign.istd import InternalStandard\n",
    "\n",
    "from mocca.dad_data.models import CompoundData, GradientData\n",
    "\n",
    "from mocca.peak.models import CorrectedPeak\n",
    "from mocca.peak.resolve_impure import get_parafac_peaks\n",
    "\n",
    "from mocca.report.experiments import report_experiments\n",
    "from mocca.report.peaks import report_peaks\n",
    "from mocca.report.quali_comps import report_quali_comps\n",
    "from mocca.report.quant_comps import report_quant_comps\n",
    "from mocca.report.gradient import report_gradient\n",
    "from mocca.report.chroms import report_chroms\n",
    "from mocca.report.parafac import report_parafac\n",
    "from mocca.report.results import report_runs"
   ]
  },
  {
   "cell_type": "code",
   "execution_count": 79,
   "id": "e79313a4-8e80-43aa-8255-442f68c7d556",
   "metadata": {
    "tags": []
   },
   "outputs": [
    {
     "data": {
      "text/markdown": [
       "Report saved to .//Users/haascp/Documents/GitHub/mocca/src/mocca/report/example_reports/report_experiments.html. To upload and share your report, create a free Datapane account by running `!datapane signup`."
      ],
      "text/plain": [
       "<IPython.core.display.Markdown object>"
      ]
     },
     "metadata": {},
     "output_type": "display_data"
    },
    {
     "data": {
      "text/markdown": [
       "Report saved to .//Users/haascp/Documents/GitHub/mocca/src/mocca/report/example_reports/report_peak_db.html. To upload and share your report, create a free Datapane account by running `!datapane signup`."
      ],
      "text/plain": [
       "<IPython.core.display.Markdown object>"
      ]
     },
     "metadata": {},
     "output_type": "display_data"
    },
    {
     "data": {
      "text/markdown": [
       "Report saved to .//Users/haascp/Documents/GitHub/mocca/src/mocca/report/example_reports/report_quali_comp_db.html. To upload and share your report, create a free Datapane account by running `!datapane signup`."
      ],
      "text/plain": [
       "<IPython.core.display.Markdown object>"
      ]
     },
     "metadata": {},
     "output_type": "display_data"
    },
    {
     "data": {
      "text/markdown": [
       "Report saved to .//Users/haascp/Documents/GitHub/mocca/src/mocca/report/example_reports/report_quant_comp_db.html. To upload and share your report, create a free Datapane account by running `!datapane signup`."
      ],
      "text/plain": [
       "<IPython.core.display.Markdown object>"
      ]
     },
     "metadata": {},
     "output_type": "display_data"
    },
    {
     "data": {
      "text/markdown": [
       "Report saved to .//Users/haascp/Documents/GitHub/mocca/src/mocca/report/example_reports/report_gradient.html. To upload and share your report, create a free Datapane account by running `!datapane signup`."
      ],
      "text/plain": [
       "<IPython.core.display.Markdown object>"
      ]
     },
     "metadata": {},
     "output_type": "display_data"
    },
    {
     "data": {
      "text/markdown": [
       "Report saved to .//Users/haascp/Documents/GitHub/mocca/src/mocca/report/example_reports/report_chroms.html. To upload and share your report, create a free Datapane account by running `!datapane signup`."
      ],
      "text/plain": [
       "<IPython.core.display.Markdown object>"
      ]
     },
     "metadata": {},
     "output_type": "display_data"
    },
    {
     "data": {
      "text/markdown": [
       "Report saved to .//Users/haascp/Documents/GitHub/mocca/src/mocca/report/example_reports/report_parafac.html. To upload and share your report, create a free Datapane account by running `!datapane signup`."
      ],
      "text/plain": [
       "<IPython.core.display.Markdown object>"
      ]
     },
     "metadata": {},
     "output_type": "display_data"
    },
    {
     "data": {
      "text/markdown": [
       "Report saved to .//Users/haascp/Documents/GitHub/mocca/src/mocca/report/example_reports/report_runs.html. To upload and share your report, create a free Datapane account by running `!datapane signup`."
      ],
      "text/plain": [
       "<IPython.core.display.Markdown object>"
      ]
     },
     "metadata": {},
     "output_type": "display_data"
    }
   ],
   "source": [
    "report_path = r\"/Users/haascp/Documents/GitHub/mocca/src/mocca/report/example_reports\"\n",
    "report_experiments(campaign.experiments, report_path)\n",
    "report_peaks(campaign.peak_db, report_path)\n",
    "report_quali_comps(campaign.quali_comp_db, report_path)\n",
    "report_quant_comps(campaign.quant_comp_db, report_path)\n",
    "report_gradient(campaign.gradient, report_path)\n",
    "report_chroms(campaign.chroms, campaign.settings, report_path)\n",
    "report_parafac(campaign.chroms, report_path)\n",
    "report_runs(campaign.chroms, campaign.quali_comp_db, report_path)"
   ]
  },
  {
   "cell_type": "code",
   "execution_count": 63,
   "id": "069bd702-c12a-4bae-821d-e8487e43f843",
   "metadata": {},
   "outputs": [
    {
     "data": {
      "text/markdown": [
       "Report saved to .//Users/haascp/Documents/GitHub/mocca/src/mocca/report/example_reports/report_chroms.html. To upload and share your report, create a free Datapane account by running `!datapane signup`."
      ],
      "text/plain": [
       "<IPython.core.display.Markdown object>"
      ]
     },
     "metadata": {},
     "output_type": "display_data"
    }
   ],
   "source": [
    "report_path = r\"/Users/haascp/Documents/GitHub/mocca/src/mocca/report/example_reports\"\n",
    "report_chroms(campaign.chroms, campaign.settings, report_path)"
   ]
  },
  {
   "cell_type": "code",
   "execution_count": 24,
   "id": "b884a290-96e7-4122-b9d8-4c19991becf1",
   "metadata": {
    "tags": []
   },
   "outputs": [
    {
     "data": {
      "text/plain": [
       "54"
      ]
     },
     "execution_count": 24,
     "metadata": {},
     "output_type": "execute_result"
    }
   ],
   "source": [
    "campaign.quali_comp_db['o-tolunitrile'].right - campaign.quali_comp_db['o-tolunitrile'].left"
   ]
  },
  {
   "cell_type": "code",
   "execution_count": 64,
   "id": "330f6897-2ab1-4901-8806-d622cca7d680",
   "metadata": {},
   "outputs": [],
   "source": [
    "# get the folders matching flag in directory\n",
    "flag = '.txt'\n",
    "\n",
    "###\n",
    "# Add the path to the provided data folder\n",
    "test_data_path = '/Users/haascp/Documents/PostDoc/MIT/MIC-DROP/cora/cyanation/wellplate_data/full plate combined data' # directory of test data\n",
    "###\n",
    "\n",
    "folders = glob(test_data_path + '/*' + flag + '*') #find all matching flag\n",
    "folders = sorted(folders, key=lambda x: int(x.split('_')[-1][:-4]))"
   ]
  },
  {
   "cell_type": "code",
   "execution_count": 65,
   "id": "2f0f7186-319c-44c8-9a35-ee59d81b97db",
   "metadata": {},
   "outputs": [],
   "source": [
    "istd_folder = [folder for folder in folders if folder.split('_')[-1][:-4] == '96']\n",
    "\n",
    "product_indices =['92', '93', '94', '95']\n",
    "product_folders = [folder for folder in folders if folder.split('_')[-1][:-4] in product_indices]\n",
    "\n",
    "substrate_indices =['88', '89', '90', '91']\n",
    "substrate_folders = [folder for folder in folders if folder.split('_')[-1][:-4] in substrate_indices]\n",
    "\n",
    "# obviously, we used a blank injection as the gradient run\n",
    "gradient_folder = [folder for folder in folders if folder.split('_')[-1][:-4] == '97']"
   ]
  },
  {
   "cell_type": "code",
   "execution_count": 66,
   "id": "a1af7023-1766-477d-bb24-c998d4119a86",
   "metadata": {},
   "outputs": [],
   "source": [
    "# remove some data which was gathered due to repeated start of the campaigns\n",
    "bad_indices =['0', '1', '2', '3']\n",
    "bad_folders = [folder for folder in folders if folder.split('_')[-1][:-4] in bad_indices]\n",
    "\n",
    "cnsource_indices =['98', '99']\n",
    "cnsource_folders = [folder for folder in folders if folder.split('_')[-1][:-4] in cnsource_indices]\n",
    "\n",
    "remove_folders = bad_folders + istd_folder + product_folders + substrate_folders + gradient_folder + cnsource_folders\n",
    "\n",
    "reaction_folders = [folder for folder in folders if folder not in remove_folders]"
   ]
  },
  {
   "cell_type": "code",
   "execution_count": 67,
   "id": "34ca584e-1777-463b-ba62-e2b7b7ba3ad3",
   "metadata": {},
   "outputs": [],
   "source": [
    "gradient_experiment = Experiment(gradient_folder[0], gradient=True)"
   ]
  },
  {
   "cell_type": "code",
   "execution_count": 68,
   "id": "369c87a6-3fc1-48ce-82a8-fbbd8a93b3b4",
   "metadata": {},
   "outputs": [],
   "source": [
    "campaign = HplcDadCampaign('labsolutions')"
   ]
  },
  {
   "cell_type": "code",
   "execution_count": 69,
   "id": "830033f1-18bd-47bf-b3fd-d52b97fed401",
   "metadata": {},
   "outputs": [
    {
     "data": {
      "text/plain": [
       "Settings(hplc_system_tag='labsolutions', detector_limit=2000, absorbance_threshold=None, wl_high_pass=None, wl_low_pass=None, peaks_high_pass=None, peaks_low_pass=None, spectrum_correl_thresh=None, relative_distance_thresh=None)"
      ]
     },
     "execution_count": 69,
     "metadata": {},
     "output_type": "execute_result"
    }
   ],
   "source": [
    "campaign.settings"
   ]
  },
  {
   "cell_type": "code",
   "execution_count": 70,
   "id": "0d7dada7-763a-48f2-b964-611b005fe3f7",
   "metadata": {},
   "outputs": [],
   "source": [
    "ArCl_concs = [0.0603, 0.04422, 0.03015, 0.01407]\n",
    "ArCN_concs = [0.05955, 0.04367, 0.029775, 0.013895]\n",
    "istd_conc = 0.06094"
   ]
  },
  {
   "cell_type": "code",
   "execution_count": 71,
   "id": "e54fba04-1321-4248-ace5-867c8e07c321",
   "metadata": {},
   "outputs": [],
   "source": [
    "istd_experiment = Experiment(istd_folder[0], compound=Compound('tetralin', istd=True))"
   ]
  },
  {
   "cell_type": "code",
   "execution_count": 72,
   "id": "a81573fe-9583-47be-8cb2-1c53203ea49d",
   "metadata": {},
   "outputs": [],
   "source": [
    "substrate_experiments = []\n",
    "for i, conc in enumerate(ArCl_concs):\n",
    "    exp = Experiment(substrate_folders[i], compound=Compound('2-chlorotoluene', conc), istd=InternalStandard('tetralin', istd_conc))\n",
    "    substrate_experiments.append(exp)"
   ]
  },
  {
   "cell_type": "code",
   "execution_count": 73,
   "id": "f7e2bfe7-82bb-4e1e-a8ba-26b49b4204fd",
   "metadata": {},
   "outputs": [],
   "source": [
    "product_experiments = []\n",
    "for i, conc in enumerate(ArCN_concs):\n",
    "    exp = Experiment(product_folders[i], compound=Compound('o-tolunitrile', conc), istd=InternalStandard('tetralin', istd_conc))\n",
    "    product_experiments.append(exp)"
   ]
  },
  {
   "cell_type": "code",
   "execution_count": 74,
   "id": "ce4d3c7c-756c-4346-b6e2-0a264322f143",
   "metadata": {},
   "outputs": [],
   "source": [
    "parafac_dev_folder = reaction_folders[78]\n",
    "parafac_debug_folder = reaction_folders[70]"
   ]
  },
  {
   "cell_type": "code",
   "execution_count": 75,
   "id": "174c623a-e26a-4a1f-97fb-c02b053594f5",
   "metadata": {},
   "outputs": [
    {
     "data": {
      "text/plain": [
       "'/Users/haascp/Documents/PostDoc/MIT/MIC-DROP/cora/cyanation/wellplate_data/full plate combined data/09072021_sample_74.txt'"
      ]
     },
     "execution_count": 75,
     "metadata": {},
     "output_type": "execute_result"
    }
   ],
   "source": [
    "parafac_dev_folder\n",
    "parafac_debug_folder"
   ]
  },
  {
   "cell_type": "code",
   "execution_count": 76,
   "id": "4ad0b5ed-b233-4b21-83fd-6b8d516fc1cc",
   "metadata": {},
   "outputs": [],
   "source": [
    "reaction_experiments = [Experiment(folder, istd=InternalStandard('tetralin', istd_conc)) for folder in reaction_folders]\n",
    "#reaction_experiments = [Experiment(parafac_dev_folder, istd=InternalStandard('tetralin', istd_conc))]\n",
    "#reaction_experiments = [Experiment(parafac_debug_folder, istd=InternalStandard('tetralin', istd_conc))]"
   ]
  },
  {
   "cell_type": "code",
   "execution_count": 77,
   "id": "df99c03d-bee4-4b3f-8cf4-c4d474aace02",
   "metadata": {
    "tags": []
   },
   "outputs": [],
   "source": [
    "campaign.add_experiment(gradient_experiment)\n",
    "campaign.add_experiment(istd_experiment)\n",
    "for exp in product_experiments:\n",
    "    campaign.add_experiment(exp)\n",
    "for exp in substrate_experiments:\n",
    "    campaign.add_experiment(exp)\n",
    "for exp in reaction_experiments:\n",
    "    campaign.add_experiment(exp)"
   ]
  },
  {
   "cell_type": "code",
   "execution_count": null,
   "id": "baaaffe5-e875-4a29-a889-5f572b8e5c3f",
   "metadata": {
    "tags": []
   },
   "outputs": [],
   "source": [
    "campaign.process_all_experiments(detector_limit=campaign.settings.detector_limit, wl_low_pass=None,\n",
    "                                 spectrum_correl_thresh=0.9, relative_distance_thresh=0.01,\n",
    "                                 wl_high_pass = 215, peaks_high_pass = 1,\n",
    "                                 peaks_low_pass = 5, absorbance_threshold = 200)"
   ]
  },
  {
   "cell_type": "code",
   "execution_count": 17,
   "id": "33c8bfe7-6ae4-4223-bb5c-30c7eedbba00",
   "metadata": {},
   "outputs": [
    {
     "name": "stdout",
     "output_type": "stream",
     "text": [
      "1.0049983338887039\n",
      "True\n",
      "1\n",
      "2.004665111629457\n",
      "True\n",
      "2\n",
      "2.6871042985671445\n",
      "True\n",
      "-3\n",
      "2.6871042985671445\n",
      "False\n",
      "3\n",
      "3.4521826057980673\n",
      "True\n",
      "4\n",
      "3.604131956014662\n",
      "True\n",
      "5\n",
      "3.7507497500833056\n",
      "True\n",
      "6\n"
     ]
    }
   ],
   "source": [
    "for peak in campaign.chroms[0].peaks:\n",
    "    print(peak.dataset.time[peak.maximum])\n",
    "    print(peak.pure)\n",
    "    print(peak.idx)\n"
   ]
  },
  {
   "cell_type": "code",
   "execution_count": 16,
   "id": "d41df95d-6c15-4059-9d50-78eb3992e409",
   "metadata": {
    "tags": []
   },
   "outputs": [
    {
     "name": "stdout",
     "output_type": "stream",
     "text": [
      "unknown_22\n",
      "-1\n",
      "unknown_22\n",
      "-3\n",
      "tetralin\n",
      "-8\n",
      "tetralin\n",
      "-6\n",
      "2-chlorotuluene\n",
      "-1\n"
     ]
    }
   ],
   "source": [
    "for peak in campaign.peak_db:\n",
    "    if peak.idx < 0:\n",
    "        print(peak.compound_id)\n",
    "        print(peak.idx)"
   ]
  },
  {
   "cell_type": "code",
   "execution_count": 28,
   "id": "bb44db96-60e7-4dd3-be37-05463f035f1f",
   "metadata": {},
   "outputs": [],
   "source": [
    "import os\n",
    "\n",
    "def countlines(start, lines=0, header=True, begin_start=None):\n",
    "    if header:\n",
    "        print('{:>10} |{:>10} | {:<20}'.format('ADDED', 'TOTAL', 'FILE'))\n",
    "        print('{:->11}|{:->11}|{:->20}'.format('', '', ''))\n",
    "\n",
    "    for thing in os.listdir(start):\n",
    "        thing = os.path.join(start, thing)\n",
    "        if os.path.isfile(thing):\n",
    "            if thing.endswith('.py'):\n",
    "                with open(thing, 'r') as f:\n",
    "                    newlines = f.readlines()\n",
    "                    newlines = list(filter(lambda l : not l.startswith(\"#\"), newlines))\n",
    "                    newlines = list(filter(lambda l : l.replace(\" \", \"\")  not in ['\\n', '\\r\\n'], newlines))\n",
    "                    newlines = len(newlines)\n",
    "                    lines += newlines\n",
    "\n",
    "                    if begin_start is not None:\n",
    "                        reldir_of_thing = '.' + thing.replace(begin_start, '')\n",
    "                    else:\n",
    "                        reldir_of_thing = '.' + thing.replace(start, '')\n",
    "\n",
    "                    print('{:>10} |{:>10} | {:<20}'.format(\n",
    "                            newlines, lines, reldir_of_thing))\n",
    "\n",
    "\n",
    "    for thing in os.listdir(start):\n",
    "        thing = os.path.join(start, thing)\n",
    "        if os.path.isdir(thing):\n",
    "            lines = countlines(thing, lines, header=False, begin_start=start)\n",
    "\n",
    "    return lines"
   ]
  },
  {
   "cell_type": "code",
   "execution_count": 29,
   "id": "d3be6b9a-0f10-480a-b72a-c16114f90702",
   "metadata": {},
   "outputs": [
    {
     "name": "stdout",
     "output_type": "stream",
     "text": [
      "     ADDED |     TOTAL | FILE                \n",
      "-----------|-----------|--------------------\n",
      "        14 |        14 | ./__init__.py       \n",
      "        76 |        90 | ./visualization/parafac_plots.py\n",
      "         0 |        90 | ./visualization/__init__.py\n",
      "        91 |       181 | ./visualization/basic_plots.py\n",
      "        12 |       193 | ./visualization/utils.py\n",
      "        66 |       259 | ./visualization/results_plot.py\n",
      "        79 |       338 | ./visualization/calibration_plots.py\n",
      "       113 |       451 | ./dad_data/models.py\n",
      "         0 |       451 | ./dad_data/__init__.py\n",
      "        73 |       524 | ./dad_data/utils.py \n",
      "        64 |       588 | ./dad_data/process_gradientdata.py\n",
      "       115 |       703 | ./dad_data/process_funcs.py\n",
      "         0 |       703 | ./apis/__init__.py  \n",
      "        59 |       762 | ./apis/chemstation_api.py\n",
      "        51 |       813 | ./apis/labsolutions_api.py\n",
      "       122 |       935 | ./chromatogram/correct.py\n",
      "         0 |       935 | ./chromatogram/__init__.py\n",
      "        51 |       986 | ./chromatogram/preprocessor.py\n",
      "        42 |      1028 | ./chromatogram/model.py\n",
      "        23 |      1051 | ./chromatogram/utils.py\n",
      "       203 |      1254 | ./chromatogram/assign.py\n",
      "        12 |      1266 | ./chromatogram/quantify.py\n",
      "        94 |      1360 | ./components/databases.py\n",
      "        23 |      1383 | ./components/models.py\n",
      "         0 |      1383 | ./components/__init__.py\n",
      "        86 |      1469 | ./components/utils.py\n",
      "        27 |      1496 | ./components/quali_funcs.py\n",
      "        50 |      1546 | ./components/quant_funcs.py\n",
      "        75 |      1621 | ./peak/purity_funcs.py\n",
      "        88 |      1709 | ./peak/check.py     \n",
      "        16 |      1725 | ./peak/correct.py   \n",
      "        88 |      1813 | ./peak/models.py    \n",
      "        76 |      1889 | ./peak/database.py  \n",
      "         0 |      1889 | ./peak/__init__.py  \n",
      "        22 |      1911 | ./peak/integrate.py \n",
      "        56 |      1967 | ./peak/utils.py     \n",
      "        87 |      2054 | ./peak/resolve_impure.py\n",
      "        19 |      2073 | ./peak/process.py   \n",
      "        38 |      2111 | ./peak/expand.py    \n",
      "       100 |      2211 | ./peak/match.py     \n",
      "        42 |      2253 | ./peak/quantify.py  \n",
      "        13 |      2266 | ./campaign/istd.py  \n",
      "         0 |      2266 | ./campaign/__init__.py\n",
      "        88 |      2354 | ./campaign/model.py \n",
      "        43 |      2397 | ./campaign/experiment.py\n",
      "        16 |      2413 | ./campaign/compound.py\n",
      "        75 |      2488 | ./campaign/utils.py \n",
      "        40 |      2528 | ./campaign/settings.py\n",
      "       119 |      2647 | ./campaign/process_funcs.py\n",
      "        68 |      2715 | ./report/peaks.py   \n",
      "        82 |      2797 | ./report/results.py \n",
      "        50 |      2847 | ./report/gradient.py\n",
      "        62 |      2909 | ./report/experiments.py\n",
      "        19 |      2928 | ./report/utils.py   \n",
      "        90 |      3018 | ./report/chroms.py  \n",
      "        98 |      3116 | ./report/parafac.py \n",
      "        89 |      3205 | ./report/quali_comps.py\n",
      "        78 |      3283 | ./report/quant_comps.py\n",
      "       125 |      3408 | ./decomposition/parafac_funcs.py\n",
      "       119 |      3527 | ./decomposition/data_tensor.py\n",
      "        10 |      3537 | ./decomposition/utils.py\n"
     ]
    },
    {
     "data": {
      "text/plain": [
       "3537"
      ]
     },
     "execution_count": 29,
     "metadata": {},
     "output_type": "execute_result"
    }
   ],
   "source": [
    "countlines(r'/Users/haascp/Documents/GitHub/mocca/src/mocca')"
   ]
  },
  {
   "cell_type": "code",
   "execution_count": 38,
   "id": "5e2b9c03-1420-42a0-b5c0-659e2a18443d",
   "metadata": {},
   "outputs": [
    {
     "ename": "TypeError",
     "evalue": "'list' object cannot be interpreted as an integer",
     "output_type": "error",
     "traceback": [
      "\u001b[0;31m---------------------------------------------------------------------------\u001b[0m",
      "\u001b[0;31mTypeError\u001b[0m                                 Traceback (most recent call last)",
      "\u001b[0;32m/var/folders/c_/gt8zcwrn18s1dhd756dg2srw0000gn/T/ipykernel_89319/635590345.py\u001b[0m in \u001b[0;36m<module>\u001b[0;34m\u001b[0m\n\u001b[1;32m      1\u001b[0m \u001b[0;32mimport\u001b[0m \u001b[0mnumpy\u001b[0m \u001b[0;32mas\u001b[0m \u001b[0mnp\u001b[0m\u001b[0;34m\u001b[0m\u001b[0;34m\u001b[0m\u001b[0m\n\u001b[0;32m----> 2\u001b[0;31m \u001b[0ma\u001b[0m \u001b[0;34m=\u001b[0m \u001b[0mnp\u001b[0m\u001b[0;34m.\u001b[0m\u001b[0mndarray\u001b[0m\u001b[0;34m(\u001b[0m\u001b[0;34m[\u001b[0m\u001b[0;34m[\u001b[0m\u001b[0;34m[\u001b[0m\u001b[0;36m1\u001b[0m\u001b[0;34m,\u001b[0m\u001b[0;36m2\u001b[0m\u001b[0;34m,\u001b[0m\u001b[0;36m3\u001b[0m\u001b[0;34m,\u001b[0m\u001b[0;36m4\u001b[0m\u001b[0;34m,\u001b[0m\u001b[0;36m5\u001b[0m\u001b[0;34m]\u001b[0m\u001b[0;34m,\u001b[0m \u001b[0;34m[\u001b[0m\u001b[0;36m2\u001b[0m\u001b[0;34m,\u001b[0m\u001b[0;36m2\u001b[0m\u001b[0;34m,\u001b[0m\u001b[0;36m3\u001b[0m\u001b[0;34m,\u001b[0m\u001b[0;36m4\u001b[0m\u001b[0;34m,\u001b[0m\u001b[0;36m5\u001b[0m\u001b[0;34m]\u001b[0m\u001b[0;34m,\u001b[0m \u001b[0;34m[\u001b[0m\u001b[0;36m3\u001b[0m\u001b[0;34m,\u001b[0m\u001b[0;36m2\u001b[0m\u001b[0;34m,\u001b[0m\u001b[0;36m3\u001b[0m\u001b[0;34m,\u001b[0m\u001b[0;36m4\u001b[0m\u001b[0;34m,\u001b[0m\u001b[0;36m5\u001b[0m\u001b[0;34m]\u001b[0m\u001b[0;34m]\u001b[0m\u001b[0;34m,\u001b[0m \u001b[0;34m[\u001b[0m\u001b[0;34m[\u001b[0m\u001b[0;36m4\u001b[0m\u001b[0;34m,\u001b[0m\u001b[0;36m2\u001b[0m\u001b[0;34m,\u001b[0m\u001b[0;36m3\u001b[0m\u001b[0;34m,\u001b[0m\u001b[0;36m4\u001b[0m\u001b[0;34m,\u001b[0m\u001b[0;36m5\u001b[0m\u001b[0;34m]\u001b[0m\u001b[0;34m,\u001b[0m \u001b[0;34m[\u001b[0m\u001b[0;36m5\u001b[0m\u001b[0;34m,\u001b[0m\u001b[0;36m2\u001b[0m\u001b[0;34m,\u001b[0m\u001b[0;36m3\u001b[0m\u001b[0;34m,\u001b[0m\u001b[0;36m4\u001b[0m\u001b[0;34m,\u001b[0m\u001b[0;36m5\u001b[0m\u001b[0;34m]\u001b[0m\u001b[0;34m,\u001b[0m \u001b[0;34m[\u001b[0m\u001b[0;36m6\u001b[0m\u001b[0;34m,\u001b[0m\u001b[0;36m2\u001b[0m\u001b[0;34m,\u001b[0m\u001b[0;36m3\u001b[0m\u001b[0;34m,\u001b[0m\u001b[0;36m4\u001b[0m\u001b[0;34m,\u001b[0m\u001b[0;36m5\u001b[0m\u001b[0;34m]\u001b[0m\u001b[0;34m]\u001b[0m\u001b[0;34m]\u001b[0m\u001b[0;34m)\u001b[0m\u001b[0;34m\u001b[0m\u001b[0;34m\u001b[0m\u001b[0m\n\u001b[0m\u001b[1;32m      3\u001b[0m \u001b[0ma\u001b[0m\u001b[0;34m[\u001b[0m\u001b[0;34m:\u001b[0m\u001b[0;34m,\u001b[0m \u001b[0;36m2\u001b[0m\u001b[0;34m]\u001b[0m\u001b[0;34m\u001b[0m\u001b[0;34m\u001b[0m\u001b[0m\n",
      "\u001b[0;31mTypeError\u001b[0m: 'list' object cannot be interpreted as an integer"
     ]
    }
   ],
   "source": [
    "import numpy as np\n",
    "a = np.ndarray([[[1,2,3,4,5], [2,2,3,4,5], [3,2,3,4,5]], [[4,2,3,4,5], [5,2,3,4,5], [6,2,3,4,5]]])\n",
    "a[:, 2]"
   ]
  },
  {
   "cell_type": "code",
   "execution_count": 19,
   "id": "9cd47afd-44df-4e6e-a323-ced5d7e6d315",
   "metadata": {},
   "outputs": [],
   "source": [
    "template_peak = campaign.chroms[0].peaks[1]"
   ]
  },
  {
   "cell_type": "code",
   "execution_count": 20,
   "id": "fc6aa2e6-2810-4088-bbe3-fb8b41dbd931",
   "metadata": {},
   "outputs": [],
   "source": [
    "peak = CorrectedPeak(left=template_peak.left,\n",
    "                         right=template_peak.right,\n",
    "                         maximum=template_peak.maximum,\n",
    "                         dataset=template_peak.dataset,\n",
    "                         idx=template_peak.idx,\n",
    "                         saturation=template_peak.saturation,\n",
    "                         pure=template_peak.pure,\n",
    "                         integral=template_peak.integral,\n",
    "                         offset=template_peak.offset,\n",
    "                         istd=template_peak.istd)"
   ]
  },
  {
   "cell_type": "code",
   "execution_count": 21,
   "id": "e31b295d-dc6c-41ed-8799-f7053e2856b7",
   "metadata": {},
   "outputs": [
    {
     "data": {
      "text/plain": [
       "CorrectedPeak(left=737, right=780, maximum=751, dataset=CompoundData(hplc_system_tag='labsolutions', experiment=Experiment(path='/Users/haascp/Documents/PostDoc/MIT/MIC-DROP/cora/cyanation/wellplate_data/full plate combined data/09072021_sample_4.txt', compound=None, istd=[InternalStandard(key='tetralin', conc=0.06094)], gradient=False, processed=True), path='/Users/haascp/Documents/PostDoc/MIT/MIC-DROP/cora/cyanation/wellplate_data/full plate combined data/09072021_sample_4.txt', data=array([[0.60540834, 0.60062571, 0.56764307, ..., 0.11308614, 0.10714952,\n",
       "        0.0958129 ],\n",
       "       [0.53313182, 0.5290444 , 0.49815698, ..., 0.13909139, 0.13275872,\n",
       "        0.12262604],\n",
       "       [0.46866425, 0.46518778, 0.43811131, ..., 0.16722611, 0.15765711,\n",
       "        0.14848811],\n",
       "       ...,\n",
       "       [0.00985935, 0.00982639, 0.00819342, ..., 0.00556906, 0.00459204,\n",
       "        0.00421501],\n",
       "       [0.00773878, 0.00772346, 0.00750815, ..., 0.00479489, 0.00421391,\n",
       "        0.00543293],\n",
       "       [0.        , 0.        , 0.        , ..., 0.        , 0.        ,\n",
       "        0.        ]]), time=array([2.66577807e-03, 5.33155615e-03, 7.99733422e-03, ...,\n",
       "       7.99466844e+00, 7.99733422e+00, 8.00000000e+00]), wavelength=array([218.16, 219.47, 220.78, 222.09, 223.39, 224.7 , 226.01, 227.31,\n",
       "       228.62, 229.93, 231.23, 232.54, 233.84, 235.15, 236.46, 237.76,\n",
       "       239.07, 240.37, 241.68, 242.98, 244.29, 245.59, 246.9 , 248.2 ,\n",
       "       249.51, 250.81, 252.11, 253.42, 254.72, 256.02, 257.33, 258.63,\n",
       "       259.93, 261.24, 262.54, 263.84, 265.14, 266.45, 267.75, 269.05,\n",
       "       270.35, 271.65, 272.95, 274.25, 275.55, 276.86, 278.16, 279.46,\n",
       "       280.76, 282.06, 283.35, 284.65, 285.95, 287.25, 288.55, 289.85,\n",
       "       291.15, 292.45, 293.74, 295.04, 296.34, 297.64, 298.93, 300.23,\n",
       "       301.53, 302.82, 304.12, 305.42, 306.71, 308.01, 309.3 , 310.6 ,\n",
       "       311.89, 313.19, 314.48, 315.78, 317.07, 318.37, 319.66, 320.95,\n",
       "       322.25, 323.54, 324.83, 326.12, 327.42, 328.71, 330.  , 331.29,\n",
       "       332.58, 333.87, 335.16, 336.45, 337.74, 339.03, 340.32, 341.61,\n",
       "       342.9 , 344.19, 345.48, 346.77, 348.06, 349.35, 350.63, 351.92,\n",
       "       353.21, 354.5 , 355.78, 357.07, 358.36, 359.64, 360.93, 362.21,\n",
       "       363.5 , 364.78, 366.07, 367.35, 368.64, 369.92, 371.2 , 372.49,\n",
       "       373.77, 375.05, 376.33, 377.62, 378.9 , 380.18, 381.46, 382.74,\n",
       "       384.02, 385.3 , 386.58, 387.86, 389.14, 390.42, 391.7 , 392.98,\n",
       "       394.26, 395.54, 396.81, 398.09]), warnings=[]), idx=2, saturation=False, pure=True, integral=16187.308089379052, offset=0, istd=[IstdPeak(maximum=1406, integral=45524.56221006884, offset=0, compound_id='tetralin', concentration=0.06094)])"
      ]
     },
     "execution_count": 21,
     "metadata": {},
     "output_type": "execute_result"
    }
   ],
   "source": [
    "peak"
   ]
  },
  {
   "cell_type": "code",
   "execution_count": 19,
   "id": "d6614849-6b4f-435b-9f6f-9c3c02f1cbdd",
   "metadata": {},
   "outputs": [],
   "source": [
    "def overlap(peak, component):\n",
    "        return component.left <= peak.left <= component.right \\\n",
    "            or peak.left <= component.left <= peak.right"
   ]
  },
  {
   "cell_type": "code",
   "execution_count": 20,
   "id": "920cbcbe-910f-44bf-a029-fcb8ce61855a",
   "metadata": {},
   "outputs": [
    {
     "name": "stdout",
     "output_type": "stream",
     "text": [
      "tetralin 1394 1459\n",
      "False\n",
      "2-chlorotuluene 1283 1326\n",
      "True\n",
      "o-tolunitrile 994 1091\n",
      "False\n"
     ]
    }
   ],
   "source": [
    "for comp in campaign.quali_comp_db:\n",
    "    print(comp.compound_id, comp.left, comp.right)\n",
    "    print(overlap(peak, comp))"
   ]
  },
  {
   "cell_type": "code",
   "execution_count": 22,
   "id": "99ee2ba9-3687-4e16-b1ca-a8a4816d6d6b",
   "metadata": {},
   "outputs": [],
   "source": [
    "parafac_peaks = get_parafac_peaks(peak, campaign.quali_comp_db, show_parafac_analytics = True)"
   ]
  },
  {
   "cell_type": "code",
   "execution_count": 39,
   "id": "bcad63a0-aade-4d5b-829d-c2497748848b",
   "metadata": {},
   "outputs": [],
   "source": [
    "import numpy as np\n",
    "from mocca.peak.utils import get_peak_data"
   ]
  },
  {
   "cell_type": "code",
   "execution_count": 40,
   "id": "8de4e09e-4281-4eb8-bde9-b7594ef2390e",
   "metadata": {},
   "outputs": [],
   "source": [
    "left = parafac_peaks[0].left\n",
    "right = parafac_peaks[0].right"
   ]
  },
  {
   "cell_type": "code",
   "execution_count": 42,
   "id": "b7bb5e78-ccd1-4c33-8bc5-690439429638",
   "metadata": {},
   "outputs": [
    {
     "data": {
      "text/plain": [
       "57.22552730058658"
      ]
     },
     "execution_count": 42,
     "metadata": {},
     "output_type": "execute_result"
    }
   ],
   "source": [
    "np.max(get_peak_data(parafac_peaks[0]))"
   ]
  },
  {
   "cell_type": "code",
   "execution_count": 52,
   "id": "2413e637-2efe-4d52-9bd1-34328b6bcc5e",
   "metadata": {},
   "outputs": [
    {
     "data": {
      "text/plain": [
       "[<matplotlib.lines.Line2D at 0x7fb4856639a0>]"
      ]
     },
     "execution_count": 52,
     "metadata": {},
     "output_type": "execute_result"
    },
    {
     "data": {
      "image/png": "[encoded data removed]",
      "text/plain": [
       "<Figure size 432x288 with 1 Axes>"
      ]
     },
     "metadata": {
      "needs_background": "light"
     },
     "output_type": "display_data"
    }
   ],
   "source": [
    "plt.plot(get_peak_data(parafac_peaks[0])[:, 50])"
   ]
  },
  {
   "cell_type": "code",
   "execution_count": 23,
   "id": "c807e094-2e84-473d-9621-9adb86ad6ad8",
   "metadata": {},
   "outputs": [
    {
     "data": {
      "text/plain": [
       "2"
      ]
     },
     "execution_count": 23,
     "metadata": {},
     "output_type": "execute_result"
    }
   ],
   "source": [
    "peak.idx"
   ]
  },
  {
   "cell_type": "code",
   "execution_count": 24,
   "id": "de9db100-0b0d-4b64-bece-d1ef8bd05880",
   "metadata": {},
   "outputs": [
    {
     "data": {
      "text/plain": [
       "-2"
      ]
     },
     "execution_count": 24,
     "metadata": {},
     "output_type": "execute_result"
    }
   ],
   "source": [
    "parafac_peaks[0].idx"
   ]
  },
  {
   "cell_type": "code",
   "execution_count": 231,
   "id": "590d9ae4-f84d-44f9-a418-143e90fc2e60",
   "metadata": {},
   "outputs": [
    {
     "name": "stderr",
     "output_type": "stream",
     "text": [
      "[autoreload of mocca.peak.resolve_impure failed: Traceback (most recent call last):\n",
      "  File \"/Users/haascp/opt/anaconda3/envs/mocca-dev/lib/python3.9/site-packages/IPython/extensions/autoreload.py\", line 245, in check\n",
      "    superreload(m, reload, self.old_objects)\n",
      "  File \"/Users/haascp/opt/anaconda3/envs/mocca-dev/lib/python3.9/site-packages/IPython/extensions/autoreload.py\", line 394, in superreload\n",
      "    module = reload(module)\n",
      "  File \"/Users/haascp/opt/anaconda3/envs/mocca-dev/lib/python3.9/imp.py\", line 314, in reload\n",
      "    return importlib.reload(module)\n",
      "  File \"/Users/haascp/opt/anaconda3/envs/mocca-dev/lib/python3.9/importlib/__init__.py\", line 169, in reload\n",
      "    _bootstrap._exec(spec, module)\n",
      "  File \"<frozen importlib._bootstrap>\", line 613, in _exec\n",
      "  File \"<frozen importlib._bootstrap_external>\", line 846, in exec_module\n",
      "  File \"<frozen importlib._bootstrap_external>\", line 983, in get_code\n",
      "  File \"<frozen importlib._bootstrap_external>\", line 913, in source_to_code\n",
      "  File \"<frozen importlib._bootstrap>\", line 228, in _call_with_frames_removed\n",
      "  File \"/Users/haascp/Documents/GitHub/mocca/src/mocca/peak/resolve_impure.py\", line 197\n",
      "    return ProcessedPeak(left=old_peak.left,\n",
      "    ^\n",
      "SyntaxError: 'return' outside function\n",
      "]\n"
     ]
    }
   ],
   "source": [
    "parafac_tensor = (test[0], test[1], test[2])"
   ]
  },
  {
   "cell_type": "code",
   "execution_count": 233,
   "id": "ef44ef43-9e87-4570-a961-037c57d7c031",
   "metadata": {},
   "outputs": [],
   "source": [
    "parafac_comp_tensors = []\n",
    "for i in range(2):\n",
    "    parafac_comp_tensor = (parafac_tensor[0][:, i],\n",
    "                           parafac_tensor[1][:, i],\n",
    "                           parafac_tensor[2][:, i])\n",
    "    parafac_comp_tensors.append(parafac_comp_tensor)"
   ]
  },
  {
   "cell_type": "code",
   "execution_count": 248,
   "id": "18a37cba-4b9e-498e-a32b-3cccafbe1198",
   "metadata": {},
   "outputs": [
    {
     "data": {
      "text/plain": [
       "140"
      ]
     },
     "execution_count": 248,
     "metadata": {},
     "output_type": "execute_result"
    }
   ],
   "source": [
    "parafac_comp_tensors[0][0].size"
   ]
  },
  {
   "cell_type": "code",
   "execution_count": 80,
   "id": "3e9e51e9-7370-4835-8e36-24427381f157",
   "metadata": {},
   "outputs": [
    {
     "data": {
      "text/plain": [
       "376"
      ]
     },
     "metadata": {},
     "output_type": "display_data"
    },
    {
     "data": {
      "text/plain": [
       "'unknown_1'"
      ]
     },
     "metadata": {},
     "output_type": "display_data"
    },
    {
     "data": {
      "text/plain": [
       "206550.8402845089"
      ]
     },
     "metadata": {},
     "output_type": "display_data"
    },
    {
     "data": {
      "text/plain": [
       "None"
      ]
     },
     "metadata": {},
     "output_type": "display_data"
    },
    {
     "data": {
      "text/plain": [
       "751"
      ]
     },
     "metadata": {},
     "output_type": "display_data"
    },
    {
     "data": {
      "text/plain": [
       "'unknown_2'"
      ]
     },
     "metadata": {},
     "output_type": "display_data"
    },
    {
     "data": {
      "text/plain": [
       "16187.308089379052"
      ]
     },
     "metadata": {},
     "output_type": "display_data"
    },
    {
     "data": {
      "text/plain": [
       "None"
      ]
     },
     "metadata": {},
     "output_type": "display_data"
    },
    {
     "data": {
      "text/plain": [
       "1007"
      ]
     },
     "metadata": {},
     "output_type": "display_data"
    },
    {
     "data": {
      "text/plain": [
       "None"
      ]
     },
     "metadata": {},
     "output_type": "display_data"
    },
    {
     "data": {
      "text/plain": [
       "108227.6753674092"
      ]
     },
     "metadata": {},
     "output_type": "display_data"
    },
    {
     "data": {
      "text/plain": [
       "None"
      ]
     },
     "metadata": {},
     "output_type": "display_data"
    },
    {
     "data": {
      "text/plain": [
       "1294"
      ]
     },
     "metadata": {},
     "output_type": "display_data"
    },
    {
     "data": {
      "text/plain": [
       "'2-chlorotuluene'"
      ]
     },
     "metadata": {},
     "output_type": "display_data"
    },
    {
     "data": {
      "text/plain": [
       "15995.194547856316"
      ]
     },
     "metadata": {},
     "output_type": "display_data"
    },
    {
     "data": {
      "text/plain": [
       "0.03258938909374124"
      ]
     },
     "metadata": {},
     "output_type": "display_data"
    },
    {
     "data": {
      "text/plain": [
       "1351"
      ]
     },
     "metadata": {},
     "output_type": "display_data"
    },
    {
     "data": {
      "text/plain": [
       "'unknown_3'"
      ]
     },
     "metadata": {},
     "output_type": "display_data"
    },
    {
     "data": {
      "text/plain": [
       "310478.6081232501"
      ]
     },
     "metadata": {},
     "output_type": "display_data"
    },
    {
     "data": {
      "text/plain": [
       "None"
      ]
     },
     "metadata": {},
     "output_type": "display_data"
    },
    {
     "data": {
      "text/plain": [
       "1406"
      ]
     },
     "metadata": {},
     "output_type": "display_data"
    },
    {
     "data": {
      "text/plain": [
       "'tetralin'"
      ]
     },
     "metadata": {},
     "output_type": "display_data"
    },
    {
     "data": {
      "text/plain": [
       "45524.56221006884"
      ]
     },
     "metadata": {},
     "output_type": "display_data"
    },
    {
     "data": {
      "text/plain": [
       "0.030565292181505214"
      ]
     },
     "metadata": {},
     "output_type": "display_data"
    }
   ],
   "source": [
    "for peak in campaign.chroms[0].peaks:\n",
    "    display(peak.maximum)\n",
    "    display(peak.compound_id)\n",
    "    display(peak.integral)\n",
    "    display(peak.concentration)"
   ]
  },
  {
   "cell_type": "code",
   "execution_count": 35,
   "id": "ae16202d-2aec-4851-8ab1-5230337cf3a0",
   "metadata": {},
   "outputs": [
    {
     "data": {
      "text/plain": [
       "'/Users/haascp/Documents/PostDoc/MIT/MIC-DROP/cora/cyanation/wellplate_data/full plate combined data/09072021_sample_96.txt'"
      ]
     },
     "metadata": {},
     "output_type": "display_data"
    },
    {
     "data": {
      "text/plain": [
       "'2-chlorotuluene'"
      ]
     },
     "metadata": {},
     "output_type": "display_data"
    },
    {
     "data": {
      "text/plain": [
       "10618.060848096951"
      ]
     },
     "metadata": {},
     "output_type": "display_data"
    },
    {
     "data": {
      "text/plain": [
       "[]"
      ]
     },
     "metadata": {},
     "output_type": "display_data"
    },
    {
     "data": {
      "text/plain": [
       "'tetralin'"
      ]
     },
     "metadata": {},
     "output_type": "display_data"
    },
    {
     "data": {
      "text/plain": [
       "90765.2642286953"
      ]
     },
     "metadata": {},
     "output_type": "display_data"
    },
    {
     "data": {
      "text/plain": [
       "[]"
      ]
     },
     "metadata": {},
     "output_type": "display_data"
    },
    {
     "data": {
      "text/plain": [
       "'/Users/haascp/Documents/PostDoc/MIT/MIC-DROP/cora/cyanation/wellplate_data/full plate combined data/09072021_sample_88.txt'"
      ]
     },
     "metadata": {},
     "output_type": "display_data"
    },
    {
     "data": {
      "text/plain": [
       "'2-chlorotuluene'"
      ]
     },
     "metadata": {},
     "output_type": "display_data"
    },
    {
     "data": {
      "text/plain": [
       "29082.561621718694"
      ]
     },
     "metadata": {},
     "output_type": "display_data"
    },
    {
     "data": {
      "text/plain": [
       "[IstdPeak(maximum=1407, integral=37415.788129257555, offset=1, compound_id='tetralin', concentration=0.06094)]"
      ]
     },
     "metadata": {},
     "output_type": "display_data"
    },
    {
     "data": {
      "text/plain": [
       "'tetralin'"
      ]
     },
     "metadata": {},
     "output_type": "display_data"
    },
    {
     "data": {
      "text/plain": [
       "37415.788129257555"
      ]
     },
     "metadata": {},
     "output_type": "display_data"
    },
    {
     "data": {
      "text/plain": [
       "[IstdPeak(maximum=1407, integral=37415.788129257555, offset=1, compound_id='tetralin', concentration=0.06094)]"
      ]
     },
     "metadata": {},
     "output_type": "display_data"
    },
    {
     "data": {
      "text/plain": [
       "'/Users/haascp/Documents/PostDoc/MIT/MIC-DROP/cora/cyanation/wellplate_data/full plate combined data/09072021_sample_89.txt'"
      ]
     },
     "metadata": {},
     "output_type": "display_data"
    },
    {
     "data": {
      "text/plain": [
       "'2-chlorotuluene'"
      ]
     },
     "metadata": {},
     "output_type": "display_data"
    },
    {
     "data": {
      "text/plain": [
       "22403.533720771888"
      ]
     },
     "metadata": {},
     "output_type": "display_data"
    },
    {
     "data": {
      "text/plain": [
       "[IstdPeak(maximum=1406, integral=40018.91508806365, offset=0, compound_id='tetralin', concentration=0.06094)]"
      ]
     },
     "metadata": {},
     "output_type": "display_data"
    },
    {
     "data": {
      "text/plain": [
       "'tetralin'"
      ]
     },
     "metadata": {},
     "output_type": "display_data"
    },
    {
     "data": {
      "text/plain": [
       "40018.91508806365"
      ]
     },
     "metadata": {},
     "output_type": "display_data"
    },
    {
     "data": {
      "text/plain": [
       "[IstdPeak(maximum=1406, integral=40018.91508806365, offset=0, compound_id='tetralin', concentration=0.06094)]"
      ]
     },
     "metadata": {},
     "output_type": "display_data"
    },
    {
     "data": {
      "text/plain": [
       "'/Users/haascp/Documents/PostDoc/MIT/MIC-DROP/cora/cyanation/wellplate_data/full plate combined data/09072021_sample_92.txt'"
      ]
     },
     "metadata": {},
     "output_type": "display_data"
    },
    {
     "data": {
      "text/plain": [
       "'o-tolunitrile'"
      ]
     },
     "metadata": {},
     "output_type": "display_data"
    },
    {
     "data": {
      "text/plain": [
       "203579.565272476"
      ]
     },
     "metadata": {},
     "output_type": "display_data"
    },
    {
     "data": {
      "text/plain": [
       "[IstdPeak(maximum=1406, integral=39027.10437635546, offset=0, compound_id='tetralin', concentration=0.06094)]"
      ]
     },
     "metadata": {},
     "output_type": "display_data"
    },
    {
     "data": {
      "text/plain": [
       "'tetralin'"
      ]
     },
     "metadata": {},
     "output_type": "display_data"
    },
    {
     "data": {
      "text/plain": [
       "39027.10437635546"
      ]
     },
     "metadata": {},
     "output_type": "display_data"
    },
    {
     "data": {
      "text/plain": [
       "[IstdPeak(maximum=1406, integral=39027.10437635546, offset=0, compound_id='tetralin', concentration=0.06094)]"
      ]
     },
     "metadata": {},
     "output_type": "display_data"
    },
    {
     "data": {
      "text/plain": [
       "'/Users/haascp/Documents/PostDoc/MIT/MIC-DROP/cora/cyanation/wellplate_data/full plate combined data/09072021_sample_93.txt'"
      ]
     },
     "metadata": {},
     "output_type": "display_data"
    },
    {
     "data": {
      "text/plain": [
       "'o-tolunitrile'"
      ]
     },
     "metadata": {},
     "output_type": "display_data"
    },
    {
     "data": {
      "text/plain": [
       "123388.0305363853"
      ]
     },
     "metadata": {},
     "output_type": "display_data"
    },
    {
     "data": {
      "text/plain": [
       "[IstdPeak(maximum=1408, integral=32509.528803783243, offset=2, compound_id='tetralin', concentration=0.06094)]"
      ]
     },
     "metadata": {},
     "output_type": "display_data"
    },
    {
     "data": {
      "text/plain": [
       "'tetralin'"
      ]
     },
     "metadata": {},
     "output_type": "display_data"
    },
    {
     "data": {
      "text/plain": [
       "32509.528803783243"
      ]
     },
     "metadata": {},
     "output_type": "display_data"
    },
    {
     "data": {
      "text/plain": [
       "[IstdPeak(maximum=1408, integral=32509.528803783243, offset=2, compound_id='tetralin', concentration=0.06094)]"
      ]
     },
     "metadata": {},
     "output_type": "display_data"
    },
    {
     "data": {
      "text/plain": [
       "'/Users/haascp/Documents/PostDoc/MIT/MIC-DROP/cora/cyanation/wellplate_data/full plate combined data/09072021_sample_94.txt'"
      ]
     },
     "metadata": {},
     "output_type": "display_data"
    },
    {
     "data": {
      "text/plain": [
       "'o-tolunitrile'"
      ]
     },
     "metadata": {},
     "output_type": "display_data"
    },
    {
     "data": {
      "text/plain": [
       "101291.93802706029"
      ]
     },
     "metadata": {},
     "output_type": "display_data"
    },
    {
     "data": {
      "text/plain": [
       "[IstdPeak(maximum=1405, integral=39231.976970444244, offset=-1, compound_id='tetralin', concentration=0.06094)]"
      ]
     },
     "metadata": {},
     "output_type": "display_data"
    },
    {
     "data": {
      "text/plain": [
       "'tetralin'"
      ]
     },
     "metadata": {},
     "output_type": "display_data"
    },
    {
     "data": {
      "text/plain": [
       "39231.976970444244"
      ]
     },
     "metadata": {},
     "output_type": "display_data"
    },
    {
     "data": {
      "text/plain": [
       "[IstdPeak(maximum=1405, integral=39231.976970444244, offset=-1, compound_id='tetralin', concentration=0.06094)]"
      ]
     },
     "metadata": {},
     "output_type": "display_data"
    }
   ],
   "source": [
    "for chrom in campaign.compound_chroms:\n",
    "    display(chrom.dataset.path)\n",
    "    for peak in chrom.peaks:\n",
    "        display(peak.compound_id)\n",
    "        display(peak.integral)\n",
    "        #display(peak.concentration)\n",
    "        display(peak.istd)"
   ]
  },
  {
   "cell_type": "code",
   "execution_count": 177,
   "id": "5ef71a93-3280-4313-8137-edd5e5bf54b2",
   "metadata": {},
   "outputs": [
    {
     "data": {
      "text/plain": [
       "'tetralin'"
      ]
     },
     "metadata": {},
     "output_type": "display_data"
    },
    {
     "data": {
      "text/plain": [
       "1406"
      ]
     },
     "metadata": {},
     "output_type": "display_data"
    },
    {
     "data": {
      "text/plain": [
       "7"
      ]
     },
     "metadata": {},
     "output_type": "display_data"
    },
    {
     "data": {
      "text/plain": [
       "'2-chlorotuluene'"
      ]
     },
     "metadata": {},
     "output_type": "display_data"
    },
    {
     "data": {
      "text/plain": [
       "1295"
      ]
     },
     "metadata": {},
     "output_type": "display_data"
    },
    {
     "data": {
      "text/plain": [
       "3"
      ]
     },
     "metadata": {},
     "output_type": "display_data"
    },
    {
     "data": {
      "text/plain": [
       "'o-tolunitrile'"
      ]
     },
     "metadata": {},
     "output_type": "display_data"
    },
    {
     "data": {
      "text/plain": [
       "1007"
      ]
     },
     "metadata": {},
     "output_type": "display_data"
    },
    {
     "data": {
      "text/plain": [
       "3"
      ]
     },
     "metadata": {},
     "output_type": "display_data"
    }
   ],
   "source": [
    "for comp in campaign.quali_comp_db.items:\n",
    "    display(comp.compound_id)\n",
    "    display(comp.maximum)\n",
    "    display(len(comp.created_from))\n"
   ]
  },
  {
   "cell_type": "code",
   "execution_count": 48,
   "id": "6dc108d0-3f66-49a7-b35d-357ea15541e3",
   "metadata": {},
   "outputs": [
    {
     "data": {
      "text/plain": [
       "'tetralin'"
      ]
     },
     "metadata": {},
     "output_type": "display_data"
    },
    {
     "data": {
      "text/plain": [
       "{'absolute': 1489420.15472096}"
      ]
     },
     "metadata": {},
     "output_type": "display_data"
    },
    {
     "data": {
      "text/plain": [
       "{'absolute': [(0.06094, 90765.2642286953)]}"
      ]
     },
     "metadata": {},
     "output_type": "display_data"
    },
    {
     "data": {
      "text/plain": [
       "{'absolute': nan}"
      ]
     },
     "metadata": {},
     "output_type": "display_data"
    },
    {
     "data": {
      "text/plain": [
       "1"
      ]
     },
     "metadata": {},
     "output_type": "display_data"
    },
    {
     "data": {
      "text/plain": [
       "'2-chlorotuluene'"
      ]
     },
     "metadata": {},
     "output_type": "display_data"
    },
    {
     "data": {
      "text/plain": [
       "{'absolute': 490809.8921967266, 'tetralin': 0.7806230737067894}"
      ]
     },
     "metadata": {},
     "output_type": "display_data"
    },
    {
     "data": {
      "text/plain": [
       "{'absolute': [(0.0603, 29082.561621718694), (0.04422, 22403.533720771888)],\n",
       " 'tetralin': [(0.0603, 0.04736747223137285), (0.04422, 0.03411565110996862)]}"
      ]
     },
     "metadata": {},
     "output_type": "display_data"
    },
    {
     "data": {
      "text/plain": [
       "{'absolute': 0.9662250880730451, 'tetralin': 0.9971485738520937}"
      ]
     },
     "metadata": {},
     "output_type": "display_data"
    },
    {
     "data": {
      "text/plain": [
       "2"
      ]
     },
     "metadata": {},
     "output_type": "display_data"
    },
    {
     "data": {
      "text/plain": [
       "'o-tolunitrile'"
      ]
     },
     "metadata": {},
     "output_type": "display_data"
    },
    {
     "data": {
      "text/plain": [
       "{'absolute': 3237864.687574665, 'tetralin': 5.318045099264461}"
      ]
     },
     "metadata": {},
     "output_type": "display_data"
    },
    {
     "data": {
      "text/plain": [
       "{'absolute': [(0.05955, 203579.565272476),\n",
       "  (0.04367, 123388.0305363853),\n",
       "  (0.029775, 101291.93802706029)],\n",
       " 'tetralin': [(0.05955, 0.3178851955827124),\n",
       "  (0.04367, 0.23129423456953574),\n",
       "  (0.029775, 0.15733927219674235)]}"
      ]
     },
     "metadata": {},
     "output_type": "display_data"
    },
    {
     "data": {
      "text/plain": [
       "{'absolute': 0.9199017630682809, 'tetralin': 0.9997418952808681}"
      ]
     },
     "metadata": {},
     "output_type": "display_data"
    },
    {
     "data": {
      "text/plain": [
       "3"
      ]
     },
     "metadata": {},
     "output_type": "display_data"
    }
   ],
   "source": [
    "for comp in campaign.quant_comp_db.items:\n",
    "    display(comp.compound_id)\n",
    "    display(comp.calib_factors)\n",
    "    display(comp.calib_data)\n",
    "    display(comp.calib_scores)\n",
    "    display(len(comp.created_from))"
   ]
  },
  {
   "cell_type": "code",
   "execution_count": 65,
   "id": "744f219e-3b48-4cba-9ad6-92eb669a678d",
   "metadata": {},
   "outputs": [
    {
     "data": {
      "text/plain": [
       "'/Users/haascp/Documents/PostDoc/MIT/MIC-DROP/cora/cyanation/wellplate_data/full plate combined data/09072021_sample_90.txt'"
      ]
     },
     "metadata": {},
     "output_type": "display_data"
    },
    {
     "data": {
      "text/plain": [
       "'/Users/haascp/Documents/PostDoc/MIT/MIC-DROP/cora/cyanation/wellplate_data/full plate combined data/09072021_sample_91.txt'"
      ]
     },
     "metadata": {},
     "output_type": "display_data"
    },
    {
     "data": {
      "text/plain": [
       "'/Users/haascp/Documents/PostDoc/MIT/MIC-DROP/cora/cyanation/wellplate_data/full plate combined data/09072021_sample_95.txt'"
      ]
     },
     "metadata": {},
     "output_type": "display_data"
    }
   ],
   "source": [
    "for chrom in campaign.bad_chroms:\n",
    "    display(chrom.dataset.path)"
   ]
  },
  {
   "cell_type": "code",
   "execution_count": 25,
   "id": "902d9655-be7c-4f91-884a-357c41cfe325",
   "metadata": {},
   "outputs": [],
   "source": [
    "test = ((1, 2), (2, 4), (3, 6), (4, 8))"
   ]
  },
  {
   "cell_type": "code",
   "execution_count": 26,
   "id": "a8ef3ea0-d367-47ec-82f5-1b1a96989bd0",
   "metadata": {},
   "outputs": [
    {
     "name": "stdout",
     "output_type": "stream",
     "text": [
      "(1, 2, 3, 4)\n",
      "(2, 4, 6, 8)\n"
     ]
    }
   ],
   "source": [
    "for i in zip(*test):\n",
    "    print(i)"
   ]
  },
  {
   "cell_type": "code",
   "execution_count": 27,
   "id": "3436210a-c13e-4e28-b2b8-e6b641a5205f",
   "metadata": {},
   "outputs": [
    {
     "data": {
      "text/plain": [
       "'/Users/haascp/Documents/PostDoc/MIT/MIC-DROP/cora/cyanation/wellplate_data/full plate combined data/09072021_sample_85.txt'"
      ]
     },
     "execution_count": 27,
     "metadata": {},
     "output_type": "execute_result"
    }
   ],
   "source": [
    "reaction_folders[81]"
   ]
  },
  {
   "cell_type": "code",
   "execution_count": 22,
   "id": "7e150641-02aa-4053-a6f2-02e21e42441e",
   "metadata": {},
   "outputs": [
    {
     "data": {
      "text/plain": [
       "'tetralin'"
      ]
     },
     "execution_count": 22,
     "metadata": {},
     "output_type": "execute_result"
    }
   ],
   "source": [
    "stats = campaign.quant_comp_db.items[2].calib_scores\n",
    "max(stats, key=lambda key: stats[key])"
   ]
  },
  {
   "cell_type": "code",
   "execution_count": 24,
   "id": "9e41de5c-3d06-4e0a-ac01-26d317284a65",
   "metadata": {},
   "outputs": [
    {
     "name": "stderr",
     "output_type": "stream",
     "text": [
      "<>:1: SyntaxWarning: \"is\" with a literal. Did you mean \"==\"?\n",
      "<>:1: SyntaxWarning: \"is\" with a literal. Did you mean \"==\"?\n",
      "/var/folders/c_/gt8zcwrn18s1dhd756dg2srw0000gn/T/ipykernel_1926/4094855256.py:1: SyntaxWarning: \"is\" with a literal. Did you mean \"==\"?\n",
      "  \"a\" is 'a'\n"
     ]
    },
    {
     "data": {
      "text/plain": [
       "True"
      ]
     },
     "execution_count": 24,
     "metadata": {},
     "output_type": "execute_result"
    }
   ],
   "source": [
    "\"a\" is 'a'"
   ]
  },
  {
   "cell_type": "code",
   "execution_count": 64,
   "id": "b475532f-f950-4a49-af81-41714c877393",
   "metadata": {},
   "outputs": [
    {
     "data": {
      "text/plain": [
       "'/Users/haascp/Documents/PostDoc/MIT/MIC-DROP/cora/cyanation/wellplate_data/full plate combined data/09072021_sample_4.txt'"
      ]
     },
     "execution_count": 64,
     "metadata": {},
     "output_type": "execute_result"
    }
   ],
   "source": [
    "reaction_folders[0]"
   ]
  },
  {
   "cell_type": "code",
   "execution_count": 24,
   "id": "1ceb36be-1bf4-4763-860b-4158ec23ecc2",
   "metadata": {},
   "outputs": [],
   "source": [
    "class Vehicle:\n",
    "    pass\n",
    "\n",
    "class Truck(Vehicle):\n",
    "    pass"
   ]
  },
  {
   "cell_type": "code",
   "execution_count": 26,
   "id": "9924680e-3e39-4c2d-b621-c422cd2c9111",
   "metadata": {},
   "outputs": [
    {
     "data": {
      "text/plain": [
       "True"
      ]
     },
     "execution_count": 26,
     "metadata": {},
     "output_type": "execute_result"
    }
   ],
   "source": [
    "isinstance(Truck(), Vehicle)    # returns True"
   ]
  },
  {
   "cell_type": "code",
   "execution_count": null,
   "id": "650d43d4-4651-41bf-84d1-ac571b536f9c",
   "metadata": {},
   "outputs": [],
   "source": []
  }
 ],
 "metadata": {
  "kernelspec": {
   "display_name": "mocca-dev",
   "language": "python",
   "name": "mocca-dev"
  },
  "language_info": {
   "codemirror_mode": {
    "name": "ipython",
    "version": 3
   },
   "file_extension": ".py",
   "mimetype": "text/x-python",
   "name": "python",
   "nbconvert_exporter": "python",
   "pygments_lexer": "ipython3",
   "version": "3.9.7"
  }
 },
 "nbformat": 4,
 "nbformat_minor": 5
}
