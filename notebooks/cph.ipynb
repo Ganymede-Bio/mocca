{
 "cells": [
  {
   "cell_type": "code",
   "execution_count": 1,
   "id": "17204b15-7c3f-4518-b478-08617f1dc58e",
   "metadata": {},
   "outputs": [],
   "source": [
    "from mocca.peak import Peak"
   ]
  },
  {
   "cell_type": "code",
   "execution_count": 5,
   "id": "2354345c-dd77-4aea-976c-eec2193d15c8",
   "metadata": {},
   "outputs": [],
   "source": [
    "peak_1 = Peak(left=100, right=200, maximum=100, dataset='dwsÄ')\n"
   ]
  },
  {
   "cell_type": "code",
   "execution_count": 11,
   "id": "75467c50-ef29-4e27-8ea6-e7843102eb96",
   "metadata": {},
   "outputs": [
    {
     "data": {
      "text/plain": [
       "True"
      ]
     },
     "execution_count": 11,
     "metadata": {},
     "output_type": "execute_result"
    }
   ],
   "source": [
    "type(peak_1) == Peak"
   ]
  },
  {
   "cell_type": "code",
   "execution_count": null,
   "id": "8974af48-76d1-4a0b-a52e-a07f872f568d",
   "metadata": {},
   "outputs": [],
   "source": []
  }
 ],
 "metadata": {
  "kernelspec": {
   "display_name": "Python 3 (ipykernel)",
   "language": "python",
   "name": "python3"
  },
  "language_info": {
   "codemirror_mode": {
    "name": "ipython",
    "version": 3
   },
   "file_extension": ".py",
   "mimetype": "text/x-python",
   "name": "python",
   "nbconvert_exporter": "python",
   "pygments_lexer": "ipython3",
   "version": "3.9.7"
  }
 },
 "nbformat": 4,
 "nbformat_minor": 5
}
