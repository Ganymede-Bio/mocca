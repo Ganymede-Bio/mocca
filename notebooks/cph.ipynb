{
 "cells": [
  {
   "cell_type": "code",
   "execution_count": 1,
   "id": "d264e21f-afa3-4bb4-ac0a-9cc245c859f5",
   "metadata": {},
   "outputs": [],
   "source": [
    "%load_ext autoreload\n",
    "%autoreload 2\n",
    "\n",
    "from glob import glob\n",
    "import matplotlib.pyplot as plt \n",
    "import os\n",
    "import pandas as pd\n",
    "\n",
    "from mocca.campaign.model import HplcDadCampaign\n",
    "from mocca.campaign.process_funcs import process_compound_experiments\n",
    "from mocca.campaign.settings import Settings\n",
    "from mocca.campaign.experiment import Experiment\n",
    "from mocca.campaign.compound import Compound\n",
    "from mocca.campaign.istd import InternalStandard\n",
    "\n",
    "from mocca.dad_data.models import CompoundData, GradientData\n",
    "\n",
    "from mocca.peak.models import CorrectedPeak\n",
    "from mocca.peak.resolve_impure import parafac, get_parafac_peaks"
   ]
  },
  {
   "cell_type": "code",
   "execution_count": 2,
   "id": "330f6897-2ab1-4901-8806-d622cca7d680",
   "metadata": {},
   "outputs": [],
   "source": [
    "# get the folders matching flag in directory\n",
    "flag = '.txt'\n",
    "\n",
    "###\n",
    "# Add the path to the provided data folder\n",
    "test_data_path = '/Users/haascp/Documents/PostDoc/MIT/MIC-DROP/cora/cyanation/wellplate_data/full plate combined data' # directory of test data\n",
    "###\n",
    "\n",
    "folders = glob(test_data_path + '/*' + flag + '*') #find all matching flag\n",
    "folders = sorted(folders, key=lambda x: int(x.split('_')[-1][:-4]))"
   ]
  },
  {
   "cell_type": "code",
   "execution_count": 3,
   "id": "2f0f7186-319c-44c8-9a35-ee59d81b97db",
   "metadata": {},
   "outputs": [],
   "source": [
    "istd_folder = [folder for folder in folders if folder.split('_')[-1][:-4] == '96']\n",
    "\n",
    "product_indices =['92', '93', '94', '95']\n",
    "product_folders = [folder for folder in folders if folder.split('_')[-1][:-4] in product_indices]\n",
    "\n",
    "substrate_indices =['88', '89', '90', '91']\n",
    "substrate_folders = [folder for folder in folders if folder.split('_')[-1][:-4] in substrate_indices]\n",
    "\n",
    "# obviously, we used a blank injection as the gradient run\n",
    "gradient_folder = [folder for folder in folders if folder.split('_')[-1][:-4] == '97']"
   ]
  },
  {
   "cell_type": "code",
   "execution_count": 4,
   "id": "a1af7023-1766-477d-bb24-c998d4119a86",
   "metadata": {},
   "outputs": [],
   "source": [
    "# remove some data which was gathered due to repeated start of the campaigns\n",
    "bad_indices =['0', '1', '2', '3']\n",
    "bad_folders = [folder for folder in folders if folder.split('_')[-1][:-4] in bad_indices]\n",
    "\n",
    "cnsource_indices =['98', '99']\n",
    "cnsource_folders = [folder for folder in folders if folder.split('_')[-1][:-4] in cnsource_indices]\n",
    "\n",
    "remove_folders = bad_folders + istd_folder + product_folders + substrate_folders + gradient_folder + cnsource_folders\n",
    "\n",
    "reaction_folders = [folder for folder in folders if folder not in remove_folders]"
   ]
  },
  {
   "cell_type": "code",
   "execution_count": 5,
   "id": "34ca584e-1777-463b-ba62-e2b7b7ba3ad3",
   "metadata": {},
   "outputs": [],
   "source": [
    "gradient_experiment = Experiment(gradient_folder[0], gradient=True)"
   ]
  },
  {
   "cell_type": "code",
   "execution_count": 6,
   "id": "369c87a6-3fc1-48ce-82a8-fbbd8a93b3b4",
   "metadata": {},
   "outputs": [],
   "source": [
    "campaign = HplcDadCampaign('labsolutions')"
   ]
  },
  {
   "cell_type": "code",
   "execution_count": 7,
   "id": "830033f1-18bd-47bf-b3fd-d52b97fed401",
   "metadata": {},
   "outputs": [
    {
     "data": {
      "text/plain": [
       "Settings(hplc_system_tag='labsolutions', detector_limit=2000, absorbance_threshold=None, wl_high_pass=None, wl_low_pass=None, peaks_high_pass=None, peaks_low_pass=None, spectrum_correl_thresh=None, relative_distance_thresh=None)"
      ]
     },
     "execution_count": 7,
     "metadata": {},
     "output_type": "execute_result"
    }
   ],
   "source": [
    "campaign.settings"
   ]
  },
  {
   "cell_type": "code",
   "execution_count": 8,
   "id": "0d7dada7-763a-48f2-b964-611b005fe3f7",
   "metadata": {},
   "outputs": [],
   "source": [
    "ArCl_concs = [0.0603, 0.04422, 0.03015, 0.01407]\n",
    "ArCN_concs = [0.05955, 0.04367, 0.029775, 0.013895]\n",
    "istd_conc = 0.06094"
   ]
  },
  {
   "cell_type": "code",
   "execution_count": 9,
   "id": "e54fba04-1321-4248-ace5-867c8e07c321",
   "metadata": {},
   "outputs": [],
   "source": [
    "istd_experiment = Experiment(istd_folder[0], compound=Compound('tetralin', istd_conc, istd=True))"
   ]
  },
  {
   "cell_type": "code",
   "execution_count": 10,
   "id": "a81573fe-9583-47be-8cb2-1c53203ea49d",
   "metadata": {},
   "outputs": [],
   "source": [
    "substrate_experiments = []\n",
    "for i, conc in enumerate(ArCl_concs):\n",
    "    exp = Experiment(substrate_folders[i], compound=Compound('2-chlorotuluene', conc), istd=InternalStandard('tetralin', istd_conc))\n",
    "    substrate_experiments.append(exp)"
   ]
  },
  {
   "cell_type": "code",
   "execution_count": 11,
   "id": "f7e2bfe7-82bb-4e1e-a8ba-26b49b4204fd",
   "metadata": {},
   "outputs": [],
   "source": [
    "product_experiments = []\n",
    "for i, conc in enumerate(ArCN_concs):\n",
    "    exp = Experiment(product_folders[i], compound=Compound('o-tolunitrile', conc), istd=InternalStandard('tetralin', istd_conc))\n",
    "    product_experiments.append(exp)"
   ]
  },
  {
   "cell_type": "code",
   "execution_count": 12,
   "id": "df99c03d-bee4-4b3f-8cf4-c4d474aace02",
   "metadata": {},
   "outputs": [],
   "source": [
    "campaign.add_experiment(gradient_experiment)\n",
    "campaign.add_experiment(istd_experiment)\n",
    "for exp in product_experiments:\n",
    "    campaign.add_experiment(exp)\n",
    "for exp in substrate_experiments:\n",
    "    campaign.add_experiment(exp)\n",
    "campaign.add_experiment(Experiment(reaction_folders[81]))"
   ]
  },
  {
   "cell_type": "code",
   "execution_count": 13,
   "id": "383d5f3d-84ad-4d2e-a51b-6036f90b5449",
   "metadata": {},
   "outputs": [
    {
     "data": {
      "text/plain": [
       "[Experiment(path='/Users/haascp/Documents/PostDoc/MIT/MIC-DROP/cora/cyanation/wellplate_data/full plate combined data/09072021_sample_97.txt', compound=None, istd=None, gradient=True, processed=False),\n",
       " Experiment(path='/Users/haascp/Documents/PostDoc/MIT/MIC-DROP/cora/cyanation/wellplate_data/full plate combined data/09072021_sample_96.txt', compound=Compound(key='tetralin', conc=0.06094, solvent=False, istd=True), istd=None, gradient=False, processed=False),\n",
       " Experiment(path='/Users/haascp/Documents/PostDoc/MIT/MIC-DROP/cora/cyanation/wellplate_data/full plate combined data/09072021_sample_92.txt', compound=Compound(key='o-tolunitrile', conc=0.05955, solvent=False, istd=False), istd=[InternalStandard(key='tetralin', conc=0.06094)], gradient=False, processed=False),\n",
       " Experiment(path='/Users/haascp/Documents/PostDoc/MIT/MIC-DROP/cora/cyanation/wellplate_data/full plate combined data/09072021_sample_93.txt', compound=Compound(key='o-tolunitrile', conc=0.04367, solvent=False, istd=False), istd=[InternalStandard(key='tetralin', conc=0.06094)], gradient=False, processed=False),\n",
       " Experiment(path='/Users/haascp/Documents/PostDoc/MIT/MIC-DROP/cora/cyanation/wellplate_data/full plate combined data/09072021_sample_94.txt', compound=Compound(key='o-tolunitrile', conc=0.029775, solvent=False, istd=False), istd=[InternalStandard(key='tetralin', conc=0.06094)], gradient=False, processed=False),\n",
       " Experiment(path='/Users/haascp/Documents/PostDoc/MIT/MIC-DROP/cora/cyanation/wellplate_data/full plate combined data/09072021_sample_95.txt', compound=Compound(key='o-tolunitrile', conc=0.013895, solvent=False, istd=False), istd=[InternalStandard(key='tetralin', conc=0.06094)], gradient=False, processed=False),\n",
       " Experiment(path='/Users/haascp/Documents/PostDoc/MIT/MIC-DROP/cora/cyanation/wellplate_data/full plate combined data/09072021_sample_88.txt', compound=Compound(key='2-chlorotuluene', conc=0.0603, solvent=False, istd=False), istd=[InternalStandard(key='tetralin', conc=0.06094)], gradient=False, processed=False),\n",
       " Experiment(path='/Users/haascp/Documents/PostDoc/MIT/MIC-DROP/cora/cyanation/wellplate_data/full plate combined data/09072021_sample_89.txt', compound=Compound(key='2-chlorotuluene', conc=0.04422, solvent=False, istd=False), istd=[InternalStandard(key='tetralin', conc=0.06094)], gradient=False, processed=False),\n",
       " Experiment(path='/Users/haascp/Documents/PostDoc/MIT/MIC-DROP/cora/cyanation/wellplate_data/full plate combined data/09072021_sample_90.txt', compound=Compound(key='2-chlorotuluene', conc=0.03015, solvent=False, istd=False), istd=[InternalStandard(key='tetralin', conc=0.06094)], gradient=False, processed=False),\n",
       " Experiment(path='/Users/haascp/Documents/PostDoc/MIT/MIC-DROP/cora/cyanation/wellplate_data/full plate combined data/09072021_sample_91.txt', compound=Compound(key='2-chlorotuluene', conc=0.01407, solvent=False, istd=False), istd=[InternalStandard(key='tetralin', conc=0.06094)], gradient=False, processed=False),\n",
       " Experiment(path='/Users/haascp/Documents/PostDoc/MIT/MIC-DROP/cora/cyanation/wellplate_data/full plate combined data/09072021_sample_85.txt', compound=None, istd=None, gradient=False, processed=False)]"
      ]
     },
     "execution_count": 13,
     "metadata": {},
     "output_type": "execute_result"
    }
   ],
   "source": [
    "campaign.experiments"
   ]
  },
  {
   "cell_type": "code",
   "execution_count": 37,
   "id": "baaaffe5-e875-4a29-a889-5f572b8e5c3f",
   "metadata": {
    "tags": []
   },
   "outputs": [
    {
     "name": "stderr",
     "output_type": "stream",
     "text": [
      "/Users/haascp/opt/anaconda3/envs/mocca-dev/lib/python3.9/site-packages/sklearn/metrics/_regression.py:781: UndefinedMetricWarning: R^2 score is not well-defined with less than two samples.\n",
      "  warnings.warn(msg, UndefinedMetricWarning)\n"
     ]
    }
   ],
   "source": [
    "campaign.process_all_experiments(detector_limit=campaign.settings.detector_limit, wl_low_pass=None,\n",
    "                                 spectrum_correl_thresh=0.9, relative_distance_thresh=0.01,\n",
    "                                 wl_high_pass = 215, peaks_high_pass = 1, \n",
    "                                 peaks_low_pass = 5, absorbance_threshold = 700)"
   ]
  },
  {
   "cell_type": "code",
   "execution_count": 38,
   "id": "33c8bfe7-6ae4-4223-bb5c-30c7eedbba00",
   "metadata": {},
   "outputs": [
    {
     "name": "stdout",
     "output_type": "stream",
     "text": [
      "3.4548483838720427\n",
      "True\n",
      "-1\n",
      "3.4548483838720427\n",
      "False\n",
      "1\n",
      "3.5134955014995004\n",
      "True\n",
      "-1\n",
      "3.753415528157281\n",
      "True\n",
      "2\n"
     ]
    }
   ],
   "source": [
    "for peak in campaign.chroms[0].peaks:\n",
    "    print(peak.dataset.time[peak.maximum])\n",
    "    print(peak.pure)\n",
    "    print(peak.idx)\n"
   ]
  },
  {
   "cell_type": "code",
   "execution_count": 39,
   "id": "d41df95d-6c15-4059-9d50-78eb3992e409",
   "metadata": {},
   "outputs": [
    {
     "name": "stdout",
     "output_type": "stream",
     "text": [
      "tetralin\n",
      "2\n",
      "2-chlorotuluene\n",
      "1\n",
      "tetralin\n",
      "2\n",
      "2-chlorotuluene\n",
      "1\n",
      "tetralin\n",
      "2\n",
      "o-tolunitrile\n",
      "1\n",
      "tetralin\n",
      "2\n",
      "o-tolunitrile\n",
      "1\n",
      "tetralin\n",
      "2\n",
      "o-tolunitrile\n",
      "1\n",
      "tetralin\n",
      "2\n",
      "2-chlorotuluene\n",
      "1\n",
      "2-chlorotuluene\n",
      "-1\n",
      "None\n",
      "1\n",
      "unknown_1\n",
      "-1\n",
      "tetralin\n",
      "2\n"
     ]
    }
   ],
   "source": [
    "for peak in campaign.peak_db:\n",
    "    print(peak.compound_id)\n",
    "    print(peak.idx)"
   ]
  },
  {
   "cell_type": "code",
   "execution_count": 40,
   "id": "9cd47afd-44df-4e6e-a323-ced5d7e6d315",
   "metadata": {},
   "outputs": [],
   "source": [
    "template_peak = campaign.chroms[0].peaks[1]"
   ]
  },
  {
   "cell_type": "code",
   "execution_count": 41,
   "id": "fc6aa2e6-2810-4088-bbe3-fb8b41dbd931",
   "metadata": {},
   "outputs": [],
   "source": [
    "peak = CorrectedPeak(left=template_peak.left,\n",
    "                         right=template_peak.right,\n",
    "                         maximum=template_peak.maximum,\n",
    "                         dataset=template_peak.dataset,\n",
    "                         idx=template_peak.idx,\n",
    "                         saturation=template_peak.saturation,\n",
    "                         pure=template_peak.pure,\n",
    "                         integral=template_peak.integral,\n",
    "                         offset=template_peak.offset,\n",
    "                         istd=template_peak.istd)"
   ]
  },
  {
   "cell_type": "code",
   "execution_count": 42,
   "id": "e31b295d-dc6c-41ed-8799-f7053e2856b7",
   "metadata": {},
   "outputs": [
    {
     "data": {
      "text/plain": [
       "CorrectedPeak(left=1281, right=1378, maximum=1295, dataset=CompoundData(hplc_system_tag='labsolutions', experiment=Experiment(path='/Users/haascp/Documents/PostDoc/MIT/MIC-DROP/cora/cyanation/wellplate_data/full plate combined data/09072021_sample_85.txt', compound=None, istd=None, gradient=False, processed=True), path='/Users/haascp/Documents/PostDoc/MIT/MIC-DROP/cora/cyanation/wellplate_data/full plate combined data/09072021_sample_85.txt', data=array([[ 0.60540834,  0.60062571,  0.57864307, ..., -0.51211386,\n",
       "        -0.51445048, -0.5151871 ],\n",
       "       [ 0.53313182,  0.5290444 ,  0.51015698, ..., -0.43750861,\n",
       "        -0.44044128, -0.44277396],\n",
       "       [ 0.46866425,  0.46518778,  0.45011131, ..., -0.37197389,\n",
       "        -0.37554289, -0.37911189],\n",
       "       ...,\n",
       "       [ 0.00985935,  0.00982639,  0.01159342, ...,  0.00576906,\n",
       "         0.00699204,  0.00921501],\n",
       "       [ 0.00773878,  0.00772346,  0.00730815, ...,  0.00359489,\n",
       "         0.00421391,  0.00603293],\n",
       "       [ 0.        ,  0.        ,  0.        , ...,  0.        ,\n",
       "         0.        ,  0.        ]]), time=array([2.66577807e-03, 5.33155615e-03, 7.99733422e-03, ...,\n",
       "       7.99466844e+00, 7.99733422e+00, 8.00000000e+00]), wavelength=array([218.16, 219.47, 220.78, 222.09, 223.39, 224.7 , 226.01, 227.31,\n",
       "       228.62, 229.93, 231.23, 232.54, 233.84, 235.15, 236.46, 237.76,\n",
       "       239.07, 240.37, 241.68, 242.98, 244.29, 245.59, 246.9 , 248.2 ,\n",
       "       249.51, 250.81, 252.11, 253.42, 254.72, 256.02, 257.33, 258.63,\n",
       "       259.93, 261.24, 262.54, 263.84, 265.14, 266.45, 267.75, 269.05,\n",
       "       270.35, 271.65, 272.95, 274.25, 275.55, 276.86, 278.16, 279.46,\n",
       "       280.76, 282.06, 283.35, 284.65, 285.95, 287.25, 288.55, 289.85,\n",
       "       291.15, 292.45, 293.74, 295.04, 296.34, 297.64, 298.93, 300.23,\n",
       "       301.53, 302.82, 304.12, 305.42, 306.71, 308.01, 309.3 , 310.6 ,\n",
       "       311.89, 313.19, 314.48, 315.78, 317.07, 318.37, 319.66, 320.95,\n",
       "       322.25, 323.54, 324.83, 326.12, 327.42, 328.71, 330.  , 331.29,\n",
       "       332.58, 333.87, 335.16, 336.45, 337.74, 339.03, 340.32, 341.61,\n",
       "       342.9 , 344.19, 345.48, 346.77, 348.06, 349.35, 350.63, 351.92,\n",
       "       353.21, 354.5 , 355.78, 357.07, 358.36, 359.64, 360.93, 362.21,\n",
       "       363.5 , 364.78, 366.07, 367.35, 368.64, 369.92, 371.2 , 372.49,\n",
       "       373.77, 375.05, 376.33, 377.62, 378.9 , 380.18, 381.46, 382.74,\n",
       "       384.02, 385.3 , 386.58, 387.86, 389.14, 390.42, 391.7 , 392.98,\n",
       "       394.26, 395.54, 396.81, 398.09]), warnings=[]), idx=1, saturation=False, pure=False, integral=94584.32203527068, offset=0, istd=[])"
      ]
     },
     "execution_count": 42,
     "metadata": {},
     "output_type": "execute_result"
    }
   ],
   "source": [
    "peak"
   ]
  },
  {
   "cell_type": "code",
   "execution_count": 19,
   "id": "d6614849-6b4f-435b-9f6f-9c3c02f1cbdd",
   "metadata": {},
   "outputs": [],
   "source": [
    "def overlap(peak, component):\n",
    "        return component.left <= peak.left <= component.right \\\n",
    "            or peak.left <= component.left <= peak.right"
   ]
  },
  {
   "cell_type": "code",
   "execution_count": 20,
   "id": "920cbcbe-910f-44bf-a029-fcb8ce61855a",
   "metadata": {},
   "outputs": [
    {
     "name": "stdout",
     "output_type": "stream",
     "text": [
      "tetralin 1394 1459\n",
      "False\n",
      "2-chlorotuluene 1283 1326\n",
      "True\n",
      "o-tolunitrile 994 1091\n",
      "False\n"
     ]
    }
   ],
   "source": [
    "for comp in campaign.quali_comp_db:\n",
    "    print(comp.compound_id, comp.left, comp.right)\n",
    "    print(overlap(peak, comp))"
   ]
  },
  {
   "cell_type": "code",
   "execution_count": 21,
   "id": "99ee2ba9-3687-4e16-b1ca-a8a4816d6d6b",
   "metadata": {},
   "outputs": [],
   "source": [
    "parafac_peaks = get_parafac_peaks(peak, campaign.quali_comp_db, show_parafac_analytics = True)"
   ]
  },
  {
   "cell_type": "code",
   "execution_count": 22,
   "id": "c807e094-2e84-473d-9621-9adb86ad6ad8",
   "metadata": {},
   "outputs": [
    {
     "data": {
      "text/plain": [
       "1"
      ]
     },
     "execution_count": 22,
     "metadata": {},
     "output_type": "execute_result"
    }
   ],
   "source": [
    "peak.idx"
   ]
  },
  {
   "cell_type": "code",
   "execution_count": 23,
   "id": "de9db100-0b0d-4b64-bece-d1ef8bd05880",
   "metadata": {},
   "outputs": [
    {
     "data": {
      "text/plain": [
       "-1"
      ]
     },
     "execution_count": 23,
     "metadata": {},
     "output_type": "execute_result"
    }
   ],
   "source": [
    "parafac_peaks[0].idx"
   ]
  },
  {
   "cell_type": "code",
   "execution_count": 231,
   "id": "590d9ae4-f84d-44f9-a418-143e90fc2e60",
   "metadata": {},
   "outputs": [
    {
     "name": "stderr",
     "output_type": "stream",
     "text": [
      "[autoreload of mocca.peak.resolve_impure failed: Traceback (most recent call last):\n",
      "  File \"/Users/haascp/opt/anaconda3/envs/mocca-dev/lib/python3.9/site-packages/IPython/extensions/autoreload.py\", line 245, in check\n",
      "    superreload(m, reload, self.old_objects)\n",
      "  File \"/Users/haascp/opt/anaconda3/envs/mocca-dev/lib/python3.9/site-packages/IPython/extensions/autoreload.py\", line 394, in superreload\n",
      "    module = reload(module)\n",
      "  File \"/Users/haascp/opt/anaconda3/envs/mocca-dev/lib/python3.9/imp.py\", line 314, in reload\n",
      "    return importlib.reload(module)\n",
      "  File \"/Users/haascp/opt/anaconda3/envs/mocca-dev/lib/python3.9/importlib/__init__.py\", line 169, in reload\n",
      "    _bootstrap._exec(spec, module)\n",
      "  File \"<frozen importlib._bootstrap>\", line 613, in _exec\n",
      "  File \"<frozen importlib._bootstrap_external>\", line 846, in exec_module\n",
      "  File \"<frozen importlib._bootstrap_external>\", line 983, in get_code\n",
      "  File \"<frozen importlib._bootstrap_external>\", line 913, in source_to_code\n",
      "  File \"<frozen importlib._bootstrap>\", line 228, in _call_with_frames_removed\n",
      "  File \"/Users/haascp/Documents/GitHub/mocca/src/mocca/peak/resolve_impure.py\", line 197\n",
      "    return ProcessedPeak(left=old_peak.left,\n",
      "    ^\n",
      "SyntaxError: 'return' outside function\n",
      "]\n"
     ]
    }
   ],
   "source": [
    "parafac_tensor = (test[0], test[1], test[2])"
   ]
  },
  {
   "cell_type": "code",
   "execution_count": 233,
   "id": "ef44ef43-9e87-4570-a961-037c57d7c031",
   "metadata": {},
   "outputs": [],
   "source": [
    "parafac_comp_tensors = []\n",
    "for i in range(2):\n",
    "    parafac_comp_tensor = (parafac_tensor[0][:, i],\n",
    "                           parafac_tensor[1][:, i],\n",
    "                           parafac_tensor[2][:, i])\n",
    "    parafac_comp_tensors.append(parafac_comp_tensor)"
   ]
  },
  {
   "cell_type": "code",
   "execution_count": 248,
   "id": "18a37cba-4b9e-498e-a32b-3cccafbe1198",
   "metadata": {},
   "outputs": [
    {
     "data": {
      "text/plain": [
       "140"
      ]
     },
     "execution_count": 248,
     "metadata": {},
     "output_type": "execute_result"
    }
   ],
   "source": [
    "parafac_comp_tensors[0][0].size"
   ]
  },
  {
   "cell_type": "code",
   "execution_count": 80,
   "id": "3e9e51e9-7370-4835-8e36-24427381f157",
   "metadata": {},
   "outputs": [
    {
     "data": {
      "text/plain": [
       "376"
      ]
     },
     "metadata": {},
     "output_type": "display_data"
    },
    {
     "data": {
      "text/plain": [
       "'unknown_1'"
      ]
     },
     "metadata": {},
     "output_type": "display_data"
    },
    {
     "data": {
      "text/plain": [
       "206550.8402845089"
      ]
     },
     "metadata": {},
     "output_type": "display_data"
    },
    {
     "data": {
      "text/plain": [
       "None"
      ]
     },
     "metadata": {},
     "output_type": "display_data"
    },
    {
     "data": {
      "text/plain": [
       "751"
      ]
     },
     "metadata": {},
     "output_type": "display_data"
    },
    {
     "data": {
      "text/plain": [
       "'unknown_2'"
      ]
     },
     "metadata": {},
     "output_type": "display_data"
    },
    {
     "data": {
      "text/plain": [
       "16187.308089379052"
      ]
     },
     "metadata": {},
     "output_type": "display_data"
    },
    {
     "data": {
      "text/plain": [
       "None"
      ]
     },
     "metadata": {},
     "output_type": "display_data"
    },
    {
     "data": {
      "text/plain": [
       "1007"
      ]
     },
     "metadata": {},
     "output_type": "display_data"
    },
    {
     "data": {
      "text/plain": [
       "None"
      ]
     },
     "metadata": {},
     "output_type": "display_data"
    },
    {
     "data": {
      "text/plain": [
       "108227.6753674092"
      ]
     },
     "metadata": {},
     "output_type": "display_data"
    },
    {
     "data": {
      "text/plain": [
       "None"
      ]
     },
     "metadata": {},
     "output_type": "display_data"
    },
    {
     "data": {
      "text/plain": [
       "1294"
      ]
     },
     "metadata": {},
     "output_type": "display_data"
    },
    {
     "data": {
      "text/plain": [
       "'2-chlorotuluene'"
      ]
     },
     "metadata": {},
     "output_type": "display_data"
    },
    {
     "data": {
      "text/plain": [
       "15995.194547856316"
      ]
     },
     "metadata": {},
     "output_type": "display_data"
    },
    {
     "data": {
      "text/plain": [
       "0.03258938909374124"
      ]
     },
     "metadata": {},
     "output_type": "display_data"
    },
    {
     "data": {
      "text/plain": [
       "1351"
      ]
     },
     "metadata": {},
     "output_type": "display_data"
    },
    {
     "data": {
      "text/plain": [
       "'unknown_3'"
      ]
     },
     "metadata": {},
     "output_type": "display_data"
    },
    {
     "data": {
      "text/plain": [
       "310478.6081232501"
      ]
     },
     "metadata": {},
     "output_type": "display_data"
    },
    {
     "data": {
      "text/plain": [
       "None"
      ]
     },
     "metadata": {},
     "output_type": "display_data"
    },
    {
     "data": {
      "text/plain": [
       "1406"
      ]
     },
     "metadata": {},
     "output_type": "display_data"
    },
    {
     "data": {
      "text/plain": [
       "'tetralin'"
      ]
     },
     "metadata": {},
     "output_type": "display_data"
    },
    {
     "data": {
      "text/plain": [
       "45524.56221006884"
      ]
     },
     "metadata": {},
     "output_type": "display_data"
    },
    {
     "data": {
      "text/plain": [
       "0.030565292181505214"
      ]
     },
     "metadata": {},
     "output_type": "display_data"
    }
   ],
   "source": [
    "for peak in campaign.chroms[0].peaks:\n",
    "    display(peak.maximum)\n",
    "    display(peak.compound_id)\n",
    "    display(peak.integral)\n",
    "    display(peak.concentration)"
   ]
  },
  {
   "cell_type": "code",
   "execution_count": 35,
   "id": "ae16202d-2aec-4851-8ab1-5230337cf3a0",
   "metadata": {},
   "outputs": [
    {
     "data": {
      "text/plain": [
       "'/Users/haascp/Documents/PostDoc/MIT/MIC-DROP/cora/cyanation/wellplate_data/full plate combined data/09072021_sample_96.txt'"
      ]
     },
     "metadata": {},
     "output_type": "display_data"
    },
    {
     "data": {
      "text/plain": [
       "'2-chlorotuluene'"
      ]
     },
     "metadata": {},
     "output_type": "display_data"
    },
    {
     "data": {
      "text/plain": [
       "10618.060848096951"
      ]
     },
     "metadata": {},
     "output_type": "display_data"
    },
    {
     "data": {
      "text/plain": [
       "[]"
      ]
     },
     "metadata": {},
     "output_type": "display_data"
    },
    {
     "data": {
      "text/plain": [
       "'tetralin'"
      ]
     },
     "metadata": {},
     "output_type": "display_data"
    },
    {
     "data": {
      "text/plain": [
       "90765.2642286953"
      ]
     },
     "metadata": {},
     "output_type": "display_data"
    },
    {
     "data": {
      "text/plain": [
       "[]"
      ]
     },
     "metadata": {},
     "output_type": "display_data"
    },
    {
     "data": {
      "text/plain": [
       "'/Users/haascp/Documents/PostDoc/MIT/MIC-DROP/cora/cyanation/wellplate_data/full plate combined data/09072021_sample_88.txt'"
      ]
     },
     "metadata": {},
     "output_type": "display_data"
    },
    {
     "data": {
      "text/plain": [
       "'2-chlorotuluene'"
      ]
     },
     "metadata": {},
     "output_type": "display_data"
    },
    {
     "data": {
      "text/plain": [
       "29082.561621718694"
      ]
     },
     "metadata": {},
     "output_type": "display_data"
    },
    {
     "data": {
      "text/plain": [
       "[IstdPeak(maximum=1407, integral=37415.788129257555, offset=1, compound_id='tetralin', concentration=0.06094)]"
      ]
     },
     "metadata": {},
     "output_type": "display_data"
    },
    {
     "data": {
      "text/plain": [
       "'tetralin'"
      ]
     },
     "metadata": {},
     "output_type": "display_data"
    },
    {
     "data": {
      "text/plain": [
       "37415.788129257555"
      ]
     },
     "metadata": {},
     "output_type": "display_data"
    },
    {
     "data": {
      "text/plain": [
       "[IstdPeak(maximum=1407, integral=37415.788129257555, offset=1, compound_id='tetralin', concentration=0.06094)]"
      ]
     },
     "metadata": {},
     "output_type": "display_data"
    },
    {
     "data": {
      "text/plain": [
       "'/Users/haascp/Documents/PostDoc/MIT/MIC-DROP/cora/cyanation/wellplate_data/full plate combined data/09072021_sample_89.txt'"
      ]
     },
     "metadata": {},
     "output_type": "display_data"
    },
    {
     "data": {
      "text/plain": [
       "'2-chlorotuluene'"
      ]
     },
     "metadata": {},
     "output_type": "display_data"
    },
    {
     "data": {
      "text/plain": [
       "22403.533720771888"
      ]
     },
     "metadata": {},
     "output_type": "display_data"
    },
    {
     "data": {
      "text/plain": [
       "[IstdPeak(maximum=1406, integral=40018.91508806365, offset=0, compound_id='tetralin', concentration=0.06094)]"
      ]
     },
     "metadata": {},
     "output_type": "display_data"
    },
    {
     "data": {
      "text/plain": [
       "'tetralin'"
      ]
     },
     "metadata": {},
     "output_type": "display_data"
    },
    {
     "data": {
      "text/plain": [
       "40018.91508806365"
      ]
     },
     "metadata": {},
     "output_type": "display_data"
    },
    {
     "data": {
      "text/plain": [
       "[IstdPeak(maximum=1406, integral=40018.91508806365, offset=0, compound_id='tetralin', concentration=0.06094)]"
      ]
     },
     "metadata": {},
     "output_type": "display_data"
    },
    {
     "data": {
      "text/plain": [
       "'/Users/haascp/Documents/PostDoc/MIT/MIC-DROP/cora/cyanation/wellplate_data/full plate combined data/09072021_sample_92.txt'"
      ]
     },
     "metadata": {},
     "output_type": "display_data"
    },
    {
     "data": {
      "text/plain": [
       "'o-tolunitrile'"
      ]
     },
     "metadata": {},
     "output_type": "display_data"
    },
    {
     "data": {
      "text/plain": [
       "203579.565272476"
      ]
     },
     "metadata": {},
     "output_type": "display_data"
    },
    {
     "data": {
      "text/plain": [
       "[IstdPeak(maximum=1406, integral=39027.10437635546, offset=0, compound_id='tetralin', concentration=0.06094)]"
      ]
     },
     "metadata": {},
     "output_type": "display_data"
    },
    {
     "data": {
      "text/plain": [
       "'tetralin'"
      ]
     },
     "metadata": {},
     "output_type": "display_data"
    },
    {
     "data": {
      "text/plain": [
       "39027.10437635546"
      ]
     },
     "metadata": {},
     "output_type": "display_data"
    },
    {
     "data": {
      "text/plain": [
       "[IstdPeak(maximum=1406, integral=39027.10437635546, offset=0, compound_id='tetralin', concentration=0.06094)]"
      ]
     },
     "metadata": {},
     "output_type": "display_data"
    },
    {
     "data": {
      "text/plain": [
       "'/Users/haascp/Documents/PostDoc/MIT/MIC-DROP/cora/cyanation/wellplate_data/full plate combined data/09072021_sample_93.txt'"
      ]
     },
     "metadata": {},
     "output_type": "display_data"
    },
    {
     "data": {
      "text/plain": [
       "'o-tolunitrile'"
      ]
     },
     "metadata": {},
     "output_type": "display_data"
    },
    {
     "data": {
      "text/plain": [
       "123388.0305363853"
      ]
     },
     "metadata": {},
     "output_type": "display_data"
    },
    {
     "data": {
      "text/plain": [
       "[IstdPeak(maximum=1408, integral=32509.528803783243, offset=2, compound_id='tetralin', concentration=0.06094)]"
      ]
     },
     "metadata": {},
     "output_type": "display_data"
    },
    {
     "data": {
      "text/plain": [
       "'tetralin'"
      ]
     },
     "metadata": {},
     "output_type": "display_data"
    },
    {
     "data": {
      "text/plain": [
       "32509.528803783243"
      ]
     },
     "metadata": {},
     "output_type": "display_data"
    },
    {
     "data": {
      "text/plain": [
       "[IstdPeak(maximum=1408, integral=32509.528803783243, offset=2, compound_id='tetralin', concentration=0.06094)]"
      ]
     },
     "metadata": {},
     "output_type": "display_data"
    },
    {
     "data": {
      "text/plain": [
       "'/Users/haascp/Documents/PostDoc/MIT/MIC-DROP/cora/cyanation/wellplate_data/full plate combined data/09072021_sample_94.txt'"
      ]
     },
     "metadata": {},
     "output_type": "display_data"
    },
    {
     "data": {
      "text/plain": [
       "'o-tolunitrile'"
      ]
     },
     "metadata": {},
     "output_type": "display_data"
    },
    {
     "data": {
      "text/plain": [
       "101291.93802706029"
      ]
     },
     "metadata": {},
     "output_type": "display_data"
    },
    {
     "data": {
      "text/plain": [
       "[IstdPeak(maximum=1405, integral=39231.976970444244, offset=-1, compound_id='tetralin', concentration=0.06094)]"
      ]
     },
     "metadata": {},
     "output_type": "display_data"
    },
    {
     "data": {
      "text/plain": [
       "'tetralin'"
      ]
     },
     "metadata": {},
     "output_type": "display_data"
    },
    {
     "data": {
      "text/plain": [
       "39231.976970444244"
      ]
     },
     "metadata": {},
     "output_type": "display_data"
    },
    {
     "data": {
      "text/plain": [
       "[IstdPeak(maximum=1405, integral=39231.976970444244, offset=-1, compound_id='tetralin', concentration=0.06094)]"
      ]
     },
     "metadata": {},
     "output_type": "display_data"
    }
   ],
   "source": [
    "for chrom in campaign.compound_chroms:\n",
    "    display(chrom.dataset.path)\n",
    "    for peak in chrom.peaks:\n",
    "        display(peak.compound_id)\n",
    "        display(peak.integral)\n",
    "        #display(peak.concentration)\n",
    "        display(peak.istd)"
   ]
  },
  {
   "cell_type": "code",
   "execution_count": 177,
   "id": "5ef71a93-3280-4313-8137-edd5e5bf54b2",
   "metadata": {},
   "outputs": [
    {
     "data": {
      "text/plain": [
       "'tetralin'"
      ]
     },
     "metadata": {},
     "output_type": "display_data"
    },
    {
     "data": {
      "text/plain": [
       "1406"
      ]
     },
     "metadata": {},
     "output_type": "display_data"
    },
    {
     "data": {
      "text/plain": [
       "7"
      ]
     },
     "metadata": {},
     "output_type": "display_data"
    },
    {
     "data": {
      "text/plain": [
       "'2-chlorotuluene'"
      ]
     },
     "metadata": {},
     "output_type": "display_data"
    },
    {
     "data": {
      "text/plain": [
       "1295"
      ]
     },
     "metadata": {},
     "output_type": "display_data"
    },
    {
     "data": {
      "text/plain": [
       "3"
      ]
     },
     "metadata": {},
     "output_type": "display_data"
    },
    {
     "data": {
      "text/plain": [
       "'o-tolunitrile'"
      ]
     },
     "metadata": {},
     "output_type": "display_data"
    },
    {
     "data": {
      "text/plain": [
       "1007"
      ]
     },
     "metadata": {},
     "output_type": "display_data"
    },
    {
     "data": {
      "text/plain": [
       "3"
      ]
     },
     "metadata": {},
     "output_type": "display_data"
    }
   ],
   "source": [
    "for comp in campaign.quali_comp_db.items:\n",
    "    display(comp.compound_id)\n",
    "    display(comp.maximum)\n",
    "    display(len(comp.created_from))\n"
   ]
  },
  {
   "cell_type": "code",
   "execution_count": 19,
   "id": "6dc108d0-3f66-49a7-b35d-357ea15541e3",
   "metadata": {},
   "outputs": [
    {
     "data": {
      "text/plain": [
       "'tetralin'"
      ]
     },
     "metadata": {},
     "output_type": "display_data"
    },
    {
     "data": {
      "text/plain": [
       "{'absolute': 1489420.15472096}"
      ]
     },
     "metadata": {},
     "output_type": "display_data"
    },
    {
     "data": {
      "text/plain": [
       "{'absolute': [(0.06094, 90765.2642286953)]}"
      ]
     },
     "metadata": {},
     "output_type": "display_data"
    },
    {
     "data": {
      "text/plain": [
       "{'absolute': nan}"
      ]
     },
     "metadata": {},
     "output_type": "display_data"
    },
    {
     "data": {
      "text/plain": [
       "1"
      ]
     },
     "metadata": {},
     "output_type": "display_data"
    },
    {
     "data": {
      "text/plain": [
       "'2-chlorotuluene'"
      ]
     },
     "metadata": {},
     "output_type": "display_data"
    },
    {
     "data": {
      "text/plain": [
       "{'absolute': 490809.8921967266, 'tetralin': 0.7806230737067894}"
      ]
     },
     "metadata": {},
     "output_type": "display_data"
    },
    {
     "data": {
      "text/plain": [
       "{'absolute': [(0.0603, 29082.561621718694), (0.04422, 22403.533720771888)],\n",
       " 'tetralin': [(0.0603, 0.04736747223137285), (0.04422, 0.03411565110996862)]}"
      ]
     },
     "metadata": {},
     "output_type": "display_data"
    },
    {
     "data": {
      "text/plain": [
       "{'absolute': 0.9662250880730451, 'tetralin': 0.9971485738520937}"
      ]
     },
     "metadata": {},
     "output_type": "display_data"
    },
    {
     "data": {
      "text/plain": [
       "2"
      ]
     },
     "metadata": {},
     "output_type": "display_data"
    },
    {
     "data": {
      "text/plain": [
       "'o-tolunitrile'"
      ]
     },
     "metadata": {},
     "output_type": "display_data"
    },
    {
     "data": {
      "text/plain": [
       "{'absolute': 3237864.687574665, 'tetralin': 5.318045099264461}"
      ]
     },
     "metadata": {},
     "output_type": "display_data"
    },
    {
     "data": {
      "text/plain": [
       "{'absolute': [(0.05955, 203579.565272476),\n",
       "  (0.04367, 123388.0305363853),\n",
       "  (0.029775, 101291.93802706029)],\n",
       " 'tetralin': [(0.05955, 0.3178851955827124),\n",
       "  (0.04367, 0.23129423456953574),\n",
       "  (0.029775, 0.15733927219674235)]}"
      ]
     },
     "metadata": {},
     "output_type": "display_data"
    },
    {
     "data": {
      "text/plain": [
       "{'absolute': 0.9199017630682809, 'tetralin': 0.9997418952808681}"
      ]
     },
     "metadata": {},
     "output_type": "display_data"
    },
    {
     "data": {
      "text/plain": [
       "3"
      ]
     },
     "metadata": {},
     "output_type": "display_data"
    }
   ],
   "source": [
    "for comp in campaign.quant_comp_db.items:\n",
    "    display(comp.compound_id)\n",
    "    display(comp.calib_factors)\n",
    "    display(comp.calib_data)\n",
    "    display(comp.calib_scores)\n",
    "    display(len(comp.created_from))"
   ]
  },
  {
   "cell_type": "code",
   "execution_count": 65,
   "id": "744f219e-3b48-4cba-9ad6-92eb669a678d",
   "metadata": {},
   "outputs": [
    {
     "data": {
      "text/plain": [
       "'/Users/haascp/Documents/PostDoc/MIT/MIC-DROP/cora/cyanation/wellplate_data/full plate combined data/09072021_sample_90.txt'"
      ]
     },
     "metadata": {},
     "output_type": "display_data"
    },
    {
     "data": {
      "text/plain": [
       "'/Users/haascp/Documents/PostDoc/MIT/MIC-DROP/cora/cyanation/wellplate_data/full plate combined data/09072021_sample_91.txt'"
      ]
     },
     "metadata": {},
     "output_type": "display_data"
    },
    {
     "data": {
      "text/plain": [
       "'/Users/haascp/Documents/PostDoc/MIT/MIC-DROP/cora/cyanation/wellplate_data/full plate combined data/09072021_sample_95.txt'"
      ]
     },
     "metadata": {},
     "output_type": "display_data"
    }
   ],
   "source": [
    "for chrom in campaign.bad_chroms:\n",
    "    display(chrom.dataset.path)"
   ]
  },
  {
   "cell_type": "code",
   "execution_count": 25,
   "id": "902d9655-be7c-4f91-884a-357c41cfe325",
   "metadata": {},
   "outputs": [],
   "source": [
    "test = ((1, 2), (2, 4), (3, 6), (4, 8))"
   ]
  },
  {
   "cell_type": "code",
   "execution_count": 26,
   "id": "a8ef3ea0-d367-47ec-82f5-1b1a96989bd0",
   "metadata": {},
   "outputs": [
    {
     "name": "stdout",
     "output_type": "stream",
     "text": [
      "(1, 2, 3, 4)\n",
      "(2, 4, 6, 8)\n"
     ]
    }
   ],
   "source": [
    "for i in zip(*test):\n",
    "    print(i)"
   ]
  },
  {
   "cell_type": "code",
   "execution_count": 27,
   "id": "3436210a-c13e-4e28-b2b8-e6b641a5205f",
   "metadata": {},
   "outputs": [
    {
     "data": {
      "text/plain": [
       "'/Users/haascp/Documents/PostDoc/MIT/MIC-DROP/cora/cyanation/wellplate_data/full plate combined data/09072021_sample_85.txt'"
      ]
     },
     "execution_count": 27,
     "metadata": {},
     "output_type": "execute_result"
    }
   ],
   "source": [
    "reaction_folders[81]"
   ]
  },
  {
   "cell_type": "code",
   "execution_count": 22,
   "id": "7e150641-02aa-4053-a6f2-02e21e42441e",
   "metadata": {},
   "outputs": [
    {
     "data": {
      "text/plain": [
       "'tetralin'"
      ]
     },
     "execution_count": 22,
     "metadata": {},
     "output_type": "execute_result"
    }
   ],
   "source": [
    "stats = campaign.quant_comp_db.items[2].calib_scores\n",
    "max(stats, key=lambda key: stats[key])"
   ]
  },
  {
   "cell_type": "code",
   "execution_count": 24,
   "id": "9e41de5c-3d06-4e0a-ac01-26d317284a65",
   "metadata": {},
   "outputs": [
    {
     "name": "stderr",
     "output_type": "stream",
     "text": [
      "<>:1: SyntaxWarning: \"is\" with a literal. Did you mean \"==\"?\n",
      "<>:1: SyntaxWarning: \"is\" with a literal. Did you mean \"==\"?\n",
      "/var/folders/c_/gt8zcwrn18s1dhd756dg2srw0000gn/T/ipykernel_1926/4094855256.py:1: SyntaxWarning: \"is\" with a literal. Did you mean \"==\"?\n",
      "  \"a\" is 'a'\n"
     ]
    },
    {
     "data": {
      "text/plain": [
       "True"
      ]
     },
     "execution_count": 24,
     "metadata": {},
     "output_type": "execute_result"
    }
   ],
   "source": [
    "\"a\" is 'a'"
   ]
  },
  {
   "cell_type": "code",
   "execution_count": 64,
   "id": "b475532f-f950-4a49-af81-41714c877393",
   "metadata": {},
   "outputs": [
    {
     "data": {
      "text/plain": [
       "'/Users/haascp/Documents/PostDoc/MIT/MIC-DROP/cora/cyanation/wellplate_data/full plate combined data/09072021_sample_4.txt'"
      ]
     },
     "execution_count": 64,
     "metadata": {},
     "output_type": "execute_result"
    }
   ],
   "source": [
    "reaction_folders[0]"
   ]
  },
  {
   "cell_type": "code",
   "execution_count": 24,
   "id": "1ceb36be-1bf4-4763-860b-4158ec23ecc2",
   "metadata": {},
   "outputs": [],
   "source": [
    "class Vehicle:\n",
    "    pass\n",
    "\n",
    "class Truck(Vehicle):\n",
    "    pass"
   ]
  },
  {
   "cell_type": "code",
   "execution_count": 26,
   "id": "9924680e-3e39-4c2d-b621-c422cd2c9111",
   "metadata": {},
   "outputs": [
    {
     "data": {
      "text/plain": [
       "True"
      ]
     },
     "execution_count": 26,
     "metadata": {},
     "output_type": "execute_result"
    }
   ],
   "source": [
    "isinstance(Truck(), Vehicle)    # returns True"
   ]
  },
  {
   "cell_type": "code",
   "execution_count": null,
   "id": "650d43d4-4651-41bf-84d1-ac571b536f9c",
   "metadata": {},
   "outputs": [],
   "source": []
  }
 ],
 "metadata": {
  "kernelspec": {
   "display_name": "mocca-dev",
   "language": "python",
   "name": "mocca-dev"
  },
  "language_info": {
   "codemirror_mode": {
    "name": "ipython",
    "version": 3
   },
   "file_extension": ".py",
   "mimetype": "text/x-python",
   "name": "python",
   "nbconvert_exporter": "python",
   "pygments_lexer": "ipython3",
   "version": "3.9.7"
  }
 },
 "nbformat": 4,
 "nbformat_minor": 5
}
