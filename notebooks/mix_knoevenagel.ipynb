{
 "cells": [
  {
   "cell_type": "markdown",
   "id": "c70bf775-82ac-4c3c-a1b5-23af5ec8fb3f",
   "metadata": {},
   "source": [
    "CPH 02/11/2022"
   ]
  },
  {
   "cell_type": "markdown",
   "id": "6a58324c-8e7a-44ca-9f39-dc6563ce81b0",
   "metadata": {
    "tags": []
   },
   "source": [
    "# MOCCA data analysis on Knoevenagel case study\n",
    "\n",
    "MOCCA is a tool for the analysis of *High-Performance Liquid Chromatography–Diode Array Detection* (HPLC–DAD) datasets which are recorded in the context of reaction (process) controls. It only uses HPLC–DAD raw data and some basic user input for the data analysis."
   ]
  },
  {
   "cell_type": "markdown",
   "id": "c9d2a04c-52f8-4e3f-bd9e-8a80fcee0302",
   "metadata": {},
   "source": [
    "## Reaction and case study background\n",
    "\n",
    "This case study was designed to verify that we get the same results when we are analyzing non-overlapping data manually compared to when we are using MOCCA. We perform four different Knoevenagel condensations in four HPLC vials directly in the autosampler of an Agilent LC system. For that, we use four different benzaldehydes (benzaldehyde, 4-chlorobenzaldehyde, 4-methoxybenzaldehyde, 4-dimethylaminobenzaldehyde) and malononitrile as substrates and piperidine as basic catalyst.\n",
    "\n",
    "To highlight MOCCA's decomposition capabilities of impure peaks, we compare the obtained results of the single reactions with results we recorded for a reaction mixture of all four single reactions (1:1:1:1)."
   ]
  },
  {
   "cell_type": "markdown",
   "id": "14bcad8c-907f-45e8-b0a6-8bb1b4f61865",
   "metadata": {},
   "source": [
    "## Imports"
   ]
  },
  {
   "cell_type": "code",
   "execution_count": 1,
   "id": "ff1b1321-02b7-4ffa-9bfd-76556f076ad0",
   "metadata": {},
   "outputs": [],
   "source": [
    "# folders handling\n",
    "import os\n",
    "from glob import glob\n",
    "\n",
    "# user interaction\n",
    "from mocca.user_interaction.campaign import HplcDadCampaign\n",
    "from mocca.user_interaction.user_objects import Gradient\n",
    "from mocca.user_interaction.user_objects import Compound\n",
    "from mocca.user_interaction.user_objects import InternalStandard\n",
    "from mocca.user_interaction.user_objects import HplcInput\n",
    "from mocca.user_interaction.settings import Settings\n",
    "\n",
    "# reporting\n",
    "from mocca.report.hplc_input import report_hplc_input\n",
    "from mocca.report.chroms import report_chroms\n",
    "from mocca.report.results import report_runs\n",
    "from mocca.report.parafac import report_parafac\n",
    "from mocca.report.peaks import report_peaks\n",
    "from mocca.report.quali_comps import report_quali_comps\n",
    "from mocca.report.quant_comps import report_quant_comps\n",
    "\n",
    "# customized data analysis\n",
    "import datetime\n",
    "import time\n",
    "\n",
    "%load_ext autoreload\n",
    "%autoreload 2"
   ]
  },
  {
   "cell_type": "markdown",
   "id": "66d85391-6b55-4309-9bfa-ccb97e84b8f9",
   "metadata": {},
   "source": [
    "## Knoevenagel data folder handling\n",
    "\n",
    "The data corresponding to this notebook can be found in mocca -> notebooks -> knoevenagel_data. The data was recorded on an Agilent system on two different days. Therefore, we have two different gradient runs."
   ]
  },
  {
   "cell_type": "code",
   "execution_count": 2,
   "id": "aa9e56ae-7937-44cb-939e-ebec3bf4ccc7",
   "metadata": {},
   "outputs": [],
   "source": [
    "# get path of this notebook\n",
    "ipynb_path = os.path.dirname(os.path.realpath(\"__file__\"))\n",
    "\n",
    "# add the path to the test data folder\n",
    "knoev_data_path = os.path.join(ipynb_path, \"mix_knoevenagel_data\")\n",
    "\n",
    "# find all folders containing Agilent HPLC data (.D file extension)\n",
    "folders = glob(knoev_data_path + '/*' + '.D') \n",
    "folders = sorted(folders)"
   ]
  },
  {
   "cell_type": "code",
   "execution_count": 3,
   "id": "36a5d434-f4d2-46bb-acd1-4a7d484dbd8d",
   "metadata": {
    "tags": []
   },
   "outputs": [
    {
     "name": "stdout",
     "output_type": "stream",
     "text": [
      "2022-01-26_17-13-23_gradient.D\n",
      "2022-01-26_17-21-29_ba_1.D\n",
      "2022-01-26_17-30-02_ba_0.75.D\n",
      "2022-01-26_17-38-33_ba_0.5.D\n",
      "2022-01-26_17-47-02_ba_0,25.D\n",
      "2022-01-26_17-55-37_cl_1.D\n",
      "2022-01-26_18-04-10_cl_0.75.D\n",
      "2022-01-26_18-12-42_cl_0.5.D\n",
      "2022-01-26_18-21-11_cl_0,25.D\n",
      "2022-01-26_18-29-43_ome_1.D\n",
      "2022-01-26_18-38-15_ome_0.75.D\n",
      "2022-01-26_18-46-45_ome_0.5.D\n",
      "2022-01-26_18-55-17_ome_0,25.D\n",
      "2022-01-26_19-03-52_nme2_1.D\n",
      "2022-01-26_19-12-24_nme2_0.75.D\n",
      "2022-01-26_19-20-54_nme2_0.5.D\n",
      "2022-01-26_19-29-25_nme2_0,25.D\n",
      "2022-01-26_19-43-27_gradient.D\n",
      "2022-01-26_19-48-52_ba_1.D\n",
      "2022-01-26_19-54-51_ba_0.75.D\n",
      "2022-01-26_20-00-51_ba_0.5.D\n",
      "2022-01-26_20-06-51_ba_0,25.D\n",
      "2022-01-26_20-12-55_cl_1.D\n",
      "2022-01-26_20-18-55_cl_0.75.D\n",
      "2022-01-26_20-24-53_cl_0.5.D\n",
      "2022-01-26_20-30-51_cl_0,25.D\n",
      "2022-01-26_20-36-52_ome_1.D\n",
      "2022-01-26_20-43-08_ome_0.75.D\n",
      "2022-01-26_20-49-05_ome_0.5.D\n",
      "2022-01-26_20-55-06_ome_0,25.D\n",
      "2022-01-26_21-01-10_nme2_1.D\n",
      "2022-01-26_21-07-11_nme2_0.75.D\n",
      "2022-01-26_21-13-09_nme2_0.5.D\n",
      "2022-01-26_21-19-09_nme2_0,25.D\n",
      "2022-01-28_12-00-35_mix.D\n",
      "2022-01-28_12-06-47_mix.D\n",
      "2022-01-28_12-40-25_mix.D\n",
      "2022-01-28_12-46-39_mix.D\n",
      "2022-01-28_13-20-16_mix.D\n",
      "2022-01-28_13-26-31_mix.D\n",
      "2022-01-28_14-00-11_mix.D\n",
      "2022-01-28_14-06-24_mix.D\n",
      "2022-01-28_14-39-58_mix.D\n",
      "2022-01-28_14-46-10_mix.D\n",
      "2022-01-28_15-19-49_mix.D\n",
      "2022-01-28_15-26-02_mix.D\n",
      "2022-01-28_15-59-43_mix.D\n",
      "2022-01-28_16-05-56_mix.D\n",
      "2022-01-28_16-39-32_mix.D\n",
      "2022-01-28_16-45-44_mix.D\n",
      "2022-01-28_16-54-36_gradient.D\n",
      "2022-01-28_17-00-16_gradient.D\n"
     ]
    }
   ],
   "source": [
    "for folder in folders:\n",
    "    print(os.path.basename(folder))"
   ]
  },
  {
   "cell_type": "markdown",
   "id": "6565c466-5b8e-4184-859c-3584e6e02be7",
   "metadata": {},
   "source": [
    "## Campaign initialization 5 min runs"
   ]
  },
  {
   "cell_type": "code",
   "execution_count": 4,
   "id": "7a483960-60d8-434a-bb79-13e74b5117c2",
   "metadata": {},
   "outputs": [],
   "source": [
    "knoev_campaign_5 = HplcDadCampaign()"
   ]
  },
  {
   "cell_type": "markdown",
   "id": "50e7d544-b812-48a5-8773-93d13c40aa02",
   "metadata": {
    "tags": []
   },
   "source": [
    "### User input for calibration runs"
   ]
  },
  {
   "cell_type": "markdown",
   "id": "0fd31d60-028d-49d9-bd2f-1f7df4134333",
   "metadata": {},
   "source": [
    "We transfer the concentration values of the calibration standards."
   ]
  },
  {
   "cell_type": "code",
   "execution_count": 5,
   "id": "4510a788-cdff-4ca1-900e-b1f9acfae57d",
   "metadata": {},
   "outputs": [],
   "source": [
    "ba_concs = [0.965, 0.761, 0.482, 0.231]\n",
    "cl_concs = [1.01, 0.744, 0.478, 0.234]\n",
    "ome_concs = [0.990, 0.723, 0.455, 0.231]\n",
    "nme2_concs = [0.982, 0.719, 0.468, 0.229]"
   ]
  },
  {
   "cell_type": "markdown",
   "id": "f1945f4b-d9b9-42c0-9288-ee4c23181124",
   "metadata": {},
   "source": [
    "We create the first Gradient object for all calibration runs."
   ]
  },
  {
   "cell_type": "code",
   "execution_count": 6,
   "id": "2527d2cb-25da-43d7-9f24-7a03dc5ec365",
   "metadata": {},
   "outputs": [],
   "source": [
    "gradient_calib_5 = Gradient(folders[0])"
   ]
  },
  {
   "cell_type": "markdown",
   "id": "b8d9fa45-de83-4100-bc56-08c11b53b9f0",
   "metadata": {},
   "source": [
    "We create HplcInput objects for each calibration run and add it to the campaign"
   ]
  },
  {
   "cell_type": "code",
   "execution_count": 7,
   "id": "46cdc570-7118-4a4b-ab15-c29b2cdf6871",
   "metadata": {},
   "outputs": [],
   "source": [
    "for i, folder in enumerate(folders[1:5]):\n",
    "    compound = Compound('benzaldehyde', ba_concs[i])\n",
    "    exp = HplcInput(folder, gradient_calib_5, compound=compound)\n",
    "    knoev_campaign_5.add_hplc_input(exp)\n",
    "\n",
    "for i, folder in enumerate(folders[5:9]):\n",
    "    compound = Compound('4-chlorobenzaldehyde', cl_concs[i])\n",
    "    exp = HplcInput(folder, gradient_calib_5, compound=compound)\n",
    "    knoev_campaign_5.add_hplc_input(exp)\n",
    "\n",
    "for i, folder in enumerate(folders[9:13]):\n",
    "    compound = Compound('4-methoxybenzaldehyde', ome_concs[i])\n",
    "    exp = HplcInput(folder, gradient_calib_5, compound=compound)\n",
    "    knoev_campaign_5.add_hplc_input(exp)\n",
    "\n",
    "for i, folder in enumerate(folders[13:17]):\n",
    "    compound = Compound('4-dimethylaminobenzaldehyde', nme2_concs[i])\n",
    "    exp = HplcInput(folder, gradient_calib_5, compound=compound)\n",
    "    knoev_campaign_5.add_hplc_input(exp)"
   ]
  },
  {
   "cell_type": "markdown",
   "id": "68b9b038-7401-4e8d-8e46-252d1586c6a8",
   "metadata": {},
   "source": [
    "### User input for 5 minute gradient mix reaction runs\n",
    "\n",
    "First, we generate the Gradient object of the second day."
   ]
  },
  {
   "cell_type": "code",
   "execution_count": 8,
   "id": "ac01c134-579e-4bde-b79a-624d31bfd929",
   "metadata": {},
   "outputs": [],
   "source": [
    "gradient_react_5 = Gradient(folders[-1])"
   ]
  },
  {
   "cell_type": "markdown",
   "id": "37693b6f-b74c-42a1-bd80-094c41f06c72",
   "metadata": {},
   "source": [
    "Then, we generate HplcInput objects for all reaction runs and add them to the campaign."
   ]
  },
  {
   "cell_type": "code",
   "execution_count": 9,
   "id": "5f2a8d4c-dd99-48a6-a3ad-fb77e029a8b5",
   "metadata": {},
   "outputs": [],
   "source": [
    "react_folders_5 = folders[35:-2][::2]"
   ]
  },
  {
   "cell_type": "code",
   "execution_count": 10,
   "id": "75aadd27-3317-4c43-ab6d-dcd0b25cc506",
   "metadata": {},
   "outputs": [
    {
     "data": {
      "text/plain": [
       "['/Users/haascp/Documents/GitHub/mocca/notebooks/mix_knoevenagel_data/2022-01-28_12-06-47_mix.D',\n",
       " '/Users/haascp/Documents/GitHub/mocca/notebooks/mix_knoevenagel_data/2022-01-28_12-46-39_mix.D',\n",
       " '/Users/haascp/Documents/GitHub/mocca/notebooks/mix_knoevenagel_data/2022-01-28_13-26-31_mix.D',\n",
       " '/Users/haascp/Documents/GitHub/mocca/notebooks/mix_knoevenagel_data/2022-01-28_14-06-24_mix.D',\n",
       " '/Users/haascp/Documents/GitHub/mocca/notebooks/mix_knoevenagel_data/2022-01-28_14-46-10_mix.D',\n",
       " '/Users/haascp/Documents/GitHub/mocca/notebooks/mix_knoevenagel_data/2022-01-28_15-26-02_mix.D',\n",
       " '/Users/haascp/Documents/GitHub/mocca/notebooks/mix_knoevenagel_data/2022-01-28_16-05-56_mix.D',\n",
       " '/Users/haascp/Documents/GitHub/mocca/notebooks/mix_knoevenagel_data/2022-01-28_16-45-44_mix.D']"
      ]
     },
     "execution_count": 10,
     "metadata": {},
     "output_type": "execute_result"
    }
   ],
   "source": [
    "react_folders_5"
   ]
  },
  {
   "cell_type": "code",
   "execution_count": 11,
   "id": "b9116a48-8575-435f-8d1c-6db568c059c0",
   "metadata": {},
   "outputs": [],
   "source": [
    "for folder in react_folders_5:\n",
    "    exp = HplcInput(folder, gradient_react_5)\n",
    "    knoev_campaign_5.add_hplc_input(exp)"
   ]
  },
  {
   "cell_type": "markdown",
   "id": "87a70e0f-4b65-4f64-a2b2-051f1ae58247",
   "metadata": {},
   "source": [
    "### Settings for data processing"
   ]
  },
  {
   "cell_type": "code",
   "execution_count": 12,
   "id": "d3e8aea8-f5c8-45e4-bb75-e3d19d50befc",
   "metadata": {},
   "outputs": [],
   "source": [
    "settings_5 = Settings('chemstation',\n",
    "                    absorbance_threshold = 500, wl_high_pass = 215, \n",
    "                    peaks_high_pass = 1, peaks_low_pass = 4.5,\n",
    "                    spectrum_correl_thresh=0.99, relative_distance_thresh=0.01)"
   ]
  },
  {
   "cell_type": "markdown",
   "id": "926a0b31-e525-4574-8cea-38e39ca6b203",
   "metadata": {},
   "source": [
    "### Data processing"
   ]
  },
  {
   "cell_type": "code",
   "execution_count": 13,
   "id": "a7e53c99-166e-4fa6-a5ff-700216a1729c",
   "metadata": {
    "tags": []
   },
   "outputs": [],
   "source": [
    "knoev_campaign_5.process_all_hplc_input(settings_5)"
   ]
  },
  {
   "cell_type": "markdown",
   "id": "876d7ceb-7e66-4050-9569-ff4c97f25e40",
   "metadata": {},
   "source": [
    "## Reporting"
   ]
  },
  {
   "cell_type": "code",
   "execution_count": 14,
   "id": "edb947f0-278c-40ee-8347-b1efd5d9c35a",
   "metadata": {},
   "outputs": [],
   "source": [
    "knoev_report_path_5 = os.path.join(ipynb_path, \"mix_knoevenagel_reports\", \"5_min\")"
   ]
  },
  {
   "cell_type": "code",
   "execution_count": 15,
   "id": "6fe1501d-f580-4ce6-bb64-3596de1374a1",
   "metadata": {},
   "outputs": [
    {
     "data": {
      "text/markdown": [
       "Report saved to .//Users/haascp/Documents/GitHub/mocca/notebooks/mix_knoevenagel_reports/5_min/report_hplc_input.html. To upload and share your report, create a free Datapane account by running `!datapane signup`."
      ],
      "text/plain": [
       "<IPython.core.display.Markdown object>"
      ]
     },
     "metadata": {},
     "output_type": "display_data"
    },
    {
     "data": {
      "text/markdown": [
       "Report saved to .//Users/haascp/Documents/GitHub/mocca/notebooks/mix_knoevenagel_reports/5_min/report_chroms.html. To upload and share your report, create a free Datapane account by running `!datapane signup`."
      ],
      "text/plain": [
       "<IPython.core.display.Markdown object>"
      ]
     },
     "metadata": {},
     "output_type": "display_data"
    },
    {
     "data": {
      "text/markdown": [
       "Report saved to .//Users/haascp/Documents/GitHub/mocca/notebooks/mix_knoevenagel_reports/5_min/report_runs.html. To upload and share your report, create a free Datapane account by running `!datapane signup`."
      ],
      "text/plain": [
       "<IPython.core.display.Markdown object>"
      ]
     },
     "metadata": {},
     "output_type": "display_data"
    },
    {
     "data": {
      "text/markdown": [
       "How is your experience of Datapane? Please take two minutes to answer our anonymous product survey <a href='https://bit.ly/3lWjRlr' target='_blank'>here</a>"
      ],
      "text/plain": [
       "<IPython.core.display.Markdown object>"
      ]
     },
     "metadata": {},
     "output_type": "display_data"
    },
    {
     "data": {
      "text/markdown": [
       "Report saved to .//Users/haascp/Documents/GitHub/mocca/notebooks/mix_knoevenagel_reports/5_min/report_peak_db.html. To upload and share your report, create a free Datapane account by running `!datapane signup`."
      ],
      "text/plain": [
       "<IPython.core.display.Markdown object>"
      ]
     },
     "metadata": {},
     "output_type": "display_data"
    },
    {
     "data": {
      "text/markdown": [
       "Report saved to .//Users/haascp/Documents/GitHub/mocca/notebooks/mix_knoevenagel_reports/5_min/report_quali_comp_db.html. To upload and share your report, create a free Datapane account by running `!datapane signup`."
      ],
      "text/plain": [
       "<IPython.core.display.Markdown object>"
      ]
     },
     "metadata": {},
     "output_type": "display_data"
    },
    {
     "data": {
      "text/markdown": [
       "How is your experience of Datapane? Please take two minutes to answer our anonymous product survey <a href='https://bit.ly/3lWjRlr' target='_blank'>here</a>"
      ],
      "text/plain": [
       "<IPython.core.display.Markdown object>"
      ]
     },
     "metadata": {},
     "output_type": "display_data"
    },
    {
     "data": {
      "text/markdown": [
       "Report saved to .//Users/haascp/Documents/GitHub/mocca/notebooks/mix_knoevenagel_reports/5_min/report_quant_comp_db.html. To upload and share your report, create a free Datapane account by running `!datapane signup`."
      ],
      "text/plain": [
       "<IPython.core.display.Markdown object>"
      ]
     },
     "metadata": {},
     "output_type": "display_data"
    }
   ],
   "source": [
    "report_hplc_input(knoev_campaign_5.hplc_runs, knoev_report_path_5)\n",
    "report_chroms(knoev_campaign_5.chroms, knoev_campaign_5.settings, knoev_report_path_5)\n",
    "report_runs(knoev_campaign_5.chroms, knoev_campaign_5.quali_comp_db, knoev_campaign_5.quant_comp_db, knoev_report_path_5)\n",
    "report_parafac(knoev_campaign_5.chroms, knoev_report_path_5)\n",
    "report_peaks(knoev_campaign_5.peak_db, knoev_report_path_5)\n",
    "report_quali_comps(knoev_campaign_5.quali_comp_db, knoev_report_path_5)\n",
    "report_quant_comps(knoev_campaign_5.quant_comp_db, knoev_report_path_5)"
   ]
  },
  {
   "cell_type": "markdown",
   "id": "09ddc2f3-dec6-41c2-9809-978a4f110225",
   "metadata": {},
   "source": [
    "## Campaign initialization 2 min runs"
   ]
  },
  {
   "cell_type": "code",
   "execution_count": 16,
   "id": "fdc2a24b-94fd-4518-b9b1-ff68896d7c4a",
   "metadata": {},
   "outputs": [],
   "source": [
    "knoev_campaign_2 = HplcDadCampaign()"
   ]
  },
  {
   "cell_type": "markdown",
   "id": "ad1ea9be-ff67-4457-a315-961720b2e564",
   "metadata": {
    "tags": []
   },
   "source": [
    "### User input for calibration runs"
   ]
  },
  {
   "cell_type": "markdown",
   "id": "78f6ad2f-d2a7-4dd0-8956-779a6bcfa0d2",
   "metadata": {},
   "source": [
    "We transfer the concentration values of the calibration standards."
   ]
  },
  {
   "cell_type": "code",
   "execution_count": 17,
   "id": "5b46a19f-7025-43a2-a9ea-6372ab8ce4c1",
   "metadata": {},
   "outputs": [],
   "source": [
    "ba_concs = [0.965, 0.761, 0.482, 0.231]\n",
    "cl_concs = [1.01, 0.744, 0.478, 0.234]\n",
    "ome_concs = [0.990, 0.723, 0.455, 0.231]\n",
    "nme2_concs = [0.982, 0.719, 0.468, 0.229]"
   ]
  },
  {
   "cell_type": "markdown",
   "id": "22ba3204-6ab4-48f8-9f36-0f285ddd0fa2",
   "metadata": {},
   "source": [
    "We create the first Gradient object for all calibration runs."
   ]
  },
  {
   "cell_type": "code",
   "execution_count": 18,
   "id": "0a9e4b1d-d2db-4387-8483-48a29d4c8105",
   "metadata": {},
   "outputs": [],
   "source": [
    "gradient_calib_2 = Gradient(folders[17])"
   ]
  },
  {
   "cell_type": "markdown",
   "id": "011e0146-e1ce-40c0-a38b-ed5235af7dd7",
   "metadata": {},
   "source": [
    "We create HplcInput objects for each calibration run and add it to the campaign"
   ]
  },
  {
   "cell_type": "code",
   "execution_count": 19,
   "id": "5c309eb0-08fe-473d-8795-d885d1e74771",
   "metadata": {},
   "outputs": [],
   "source": [
    "for i, folder in enumerate(folders[18:22]):\n",
    "    compound = Compound('benzaldehyde', ba_concs[i])\n",
    "    exp = HplcInput(folder, gradient_calib_2, compound=compound)\n",
    "    knoev_campaign_2.add_hplc_input(exp)\n",
    "\n",
    "for i, folder in enumerate(folders[22:26]):\n",
    "    compound = Compound('4-chlorobenzaldehyde', cl_concs[i])\n",
    "    exp = HplcInput(folder, gradient_calib_2, compound=compound)\n",
    "    knoev_campaign_2.add_hplc_input(exp)\n",
    "\n",
    "for i, folder in enumerate(folders[26:30]):\n",
    "    compound = Compound('4-methoxybenzaldehyde', ome_concs[i])\n",
    "    exp = HplcInput(folder, gradient_calib_2, compound=compound)\n",
    "    knoev_campaign_2.add_hplc_input(exp)\n",
    "\n",
    "for i, folder in enumerate(folders[30:34]):\n",
    "    compound = Compound('4-dimethylaminobenzaldehyde', nme2_concs[i])\n",
    "    exp = HplcInput(folder, gradient_calib_2, compound=compound)\n",
    "    knoev_campaign_2.add_hplc_input(exp)"
   ]
  },
  {
   "cell_type": "markdown",
   "id": "afa126cc-8b77-46b3-a31d-da4c04f25525",
   "metadata": {},
   "source": [
    "### User input for 5 minute gradient mix reaction runs\n",
    "\n",
    "First, we generate the Gradient object of the second day."
   ]
  },
  {
   "cell_type": "code",
   "execution_count": 20,
   "id": "c8955af4-0fb0-4489-a27d-1594134b56bc",
   "metadata": {},
   "outputs": [],
   "source": [
    "gradient_react_2 = Gradient(folders[-2])"
   ]
  },
  {
   "cell_type": "markdown",
   "id": "9027c5ad-ad27-4721-acd2-3dc4becbe62d",
   "metadata": {},
   "source": [
    "Then, we generate HplcInput objects for all reaction runs and add them to the campaign."
   ]
  },
  {
   "cell_type": "code",
   "execution_count": 21,
   "id": "309e4488-5e37-49a6-9915-c2d33eb85de2",
   "metadata": {},
   "outputs": [],
   "source": [
    "react_folders_2 = folders[34:-2][::2]"
   ]
  },
  {
   "cell_type": "code",
   "execution_count": 22,
   "id": "11cb9edf-9425-4430-bf52-c91fffc7952e",
   "metadata": {},
   "outputs": [
    {
     "data": {
      "text/plain": [
       "['/Users/haascp/Documents/GitHub/mocca/notebooks/mix_knoevenagel_data/2022-01-28_12-00-35_mix.D',\n",
       " '/Users/haascp/Documents/GitHub/mocca/notebooks/mix_knoevenagel_data/2022-01-28_12-40-25_mix.D',\n",
       " '/Users/haascp/Documents/GitHub/mocca/notebooks/mix_knoevenagel_data/2022-01-28_13-20-16_mix.D',\n",
       " '/Users/haascp/Documents/GitHub/mocca/notebooks/mix_knoevenagel_data/2022-01-28_14-00-11_mix.D',\n",
       " '/Users/haascp/Documents/GitHub/mocca/notebooks/mix_knoevenagel_data/2022-01-28_14-39-58_mix.D',\n",
       " '/Users/haascp/Documents/GitHub/mocca/notebooks/mix_knoevenagel_data/2022-01-28_15-19-49_mix.D',\n",
       " '/Users/haascp/Documents/GitHub/mocca/notebooks/mix_knoevenagel_data/2022-01-28_15-59-43_mix.D',\n",
       " '/Users/haascp/Documents/GitHub/mocca/notebooks/mix_knoevenagel_data/2022-01-28_16-39-32_mix.D']"
      ]
     },
     "execution_count": 22,
     "metadata": {},
     "output_type": "execute_result"
    }
   ],
   "source": [
    "react_folders_2"
   ]
  },
  {
   "cell_type": "code",
   "execution_count": 23,
   "id": "18d271bb-ce98-4595-b12a-8a106f4686ac",
   "metadata": {},
   "outputs": [],
   "source": [
    "for folder in react_folders_2:\n",
    "    exp = HplcInput(folder, gradient_react_2)\n",
    "    knoev_campaign_2.add_hplc_input(exp)"
   ]
  },
  {
   "cell_type": "markdown",
   "id": "d8350b07-eb60-4ef4-bf94-5d87846edaad",
   "metadata": {},
   "source": [
    "### Settings for data processing"
   ]
  },
  {
   "cell_type": "code",
   "execution_count": 24,
   "id": "48da1f73-1cd2-43b6-92c0-cf255d745376",
   "metadata": {},
   "outputs": [],
   "source": [
    "settings_2 = Settings('chemstation',\n",
    "                      absorbance_threshold = 500, wl_high_pass = 215, \n",
    "                      peaks_high_pass = 1, peaks_low_pass = 3.2,\n",
    "                      spectrum_correl_thresh=0.99, relative_distance_thresh=0.01)"
   ]
  },
  {
   "cell_type": "markdown",
   "id": "4550c67b-a191-4859-8f44-8ea4e9d4f0e4",
   "metadata": {},
   "source": [
    "### Data processing"
   ]
  },
  {
   "cell_type": "code",
   "execution_count": 25,
   "id": "1493636a-ea33-4989-a6ac-9ab695ccf309",
   "metadata": {
    "tags": []
   },
   "outputs": [],
   "source": [
    "knoev_campaign_2.process_all_hplc_input(settings_2)"
   ]
  },
  {
   "cell_type": "markdown",
   "id": "15f72e5b-0d43-4dc0-a5bb-9cb4c6f3ebc9",
   "metadata": {},
   "source": [
    "## Reporting"
   ]
  },
  {
   "cell_type": "code",
   "execution_count": 26,
   "id": "433fcca9-298c-4a94-89f2-797b2a4b67c2",
   "metadata": {},
   "outputs": [],
   "source": [
    "knoev_report_path_2 = os.path.join(ipynb_path, \"mix_knoevenagel_reports\", \"2_min\")"
   ]
  },
  {
   "cell_type": "code",
   "execution_count": 27,
   "id": "a927b1fb-3b21-421d-9c0b-88092f90e5a1",
   "metadata": {},
   "outputs": [
    {
     "data": {
      "text/markdown": [
       "Report saved to .//Users/haascp/Documents/GitHub/mocca/notebooks/mix_knoevenagel_reports/2_min/report_hplc_input.html. To upload and share your report, create a free Datapane account by running `!datapane signup`."
      ],
      "text/plain": [
       "<IPython.core.display.Markdown object>"
      ]
     },
     "metadata": {},
     "output_type": "display_data"
    },
    {
     "data": {
      "text/markdown": [
       "How is your experience of Datapane? Please take two minutes to answer our anonymous product survey <a href='https://bit.ly/3lWjRlr' target='_blank'>here</a>"
      ],
      "text/plain": [
       "<IPython.core.display.Markdown object>"
      ]
     },
     "metadata": {},
     "output_type": "display_data"
    },
    {
     "data": {
      "text/markdown": [
       "Report saved to .//Users/haascp/Documents/GitHub/mocca/notebooks/mix_knoevenagel_reports/2_min/report_chroms.html. To upload and share your report, create a free Datapane account by running `!datapane signup`."
      ],
      "text/plain": [
       "<IPython.core.display.Markdown object>"
      ]
     },
     "metadata": {},
     "output_type": "display_data"
    },
    {
     "data": {
      "text/markdown": [
       "How is your experience of Datapane? Please take two minutes to answer our anonymous product survey <a href='https://bit.ly/3lWjRlr' target='_blank'>here</a>"
      ],
      "text/plain": [
       "<IPython.core.display.Markdown object>"
      ]
     },
     "metadata": {},
     "output_type": "display_data"
    },
    {
     "data": {
      "text/markdown": [
       "Report saved to .//Users/haascp/Documents/GitHub/mocca/notebooks/mix_knoevenagel_reports/2_min/report_runs.html. To upload and share your report, create a free Datapane account by running `!datapane signup`."
      ],
      "text/plain": [
       "<IPython.core.display.Markdown object>"
      ]
     },
     "metadata": {},
     "output_type": "display_data"
    },
    {
     "data": {
      "text/markdown": [
       "How is your experience of Datapane? Please take two minutes to answer our anonymous product survey <a href='https://bit.ly/3lWjRlr' target='_blank'>here</a>"
      ],
      "text/plain": [
       "<IPython.core.display.Markdown object>"
      ]
     },
     "metadata": {},
     "output_type": "display_data"
    },
    {
     "data": {
      "text/markdown": [
       "Report saved to .//Users/haascp/Documents/GitHub/mocca/notebooks/mix_knoevenagel_reports/2_min/report_parafac.html. To upload and share your report, create a free Datapane account by running `!datapane signup`."
      ],
      "text/plain": [
       "<IPython.core.display.Markdown object>"
      ]
     },
     "metadata": {},
     "output_type": "display_data"
    },
    {
     "data": {
      "text/markdown": [
       "Report saved to .//Users/haascp/Documents/GitHub/mocca/notebooks/mix_knoevenagel_reports/2_min/report_peak_db.html. To upload and share your report, create a free Datapane account by running `!datapane signup`."
      ],
      "text/plain": [
       "<IPython.core.display.Markdown object>"
      ]
     },
     "metadata": {},
     "output_type": "display_data"
    },
    {
     "data": {
      "text/markdown": [
       "Report saved to .//Users/haascp/Documents/GitHub/mocca/notebooks/mix_knoevenagel_reports/2_min/report_quali_comp_db.html. To upload and share your report, create a free Datapane account by running `!datapane signup`."
      ],
      "text/plain": [
       "<IPython.core.display.Markdown object>"
      ]
     },
     "metadata": {},
     "output_type": "display_data"
    },
    {
     "data": {
      "text/markdown": [
       "Report saved to .//Users/haascp/Documents/GitHub/mocca/notebooks/mix_knoevenagel_reports/2_min/report_quant_comp_db.html. To upload and share your report, create a free Datapane account by running `!datapane signup`."
      ],
      "text/plain": [
       "<IPython.core.display.Markdown object>"
      ]
     },
     "metadata": {},
     "output_type": "display_data"
    }
   ],
   "source": [
    "report_hplc_input(knoev_campaign_2.hplc_runs, knoev_report_path_2)\n",
    "report_chroms(knoev_campaign_2.chroms, knoev_campaign_2.settings, knoev_report_path_2)\n",
    "report_runs(knoev_campaign_2.chroms, knoev_campaign_2.quali_comp_db, knoev_campaign_2.quant_comp_db, knoev_report_path_2)\n",
    "report_parafac(knoev_campaign_2.chroms, knoev_report_path_2)\n",
    "report_peaks(knoev_campaign_2.peak_db, knoev_report_path_2)\n",
    "report_quali_comps(knoev_campaign_2.quali_comp_db, knoev_report_path_2)\n",
    "report_quant_comps(knoev_campaign_2.quant_comp_db, knoev_report_path_2)"
   ]
  },
  {
   "cell_type": "markdown",
   "id": "736881b0-4eb3-498b-963f-5ad938408879",
   "metadata": {
    "tags": []
   },
   "source": [
    "## Customized data analysis by the user\n",
    "\n",
    "This data analysis tool cannot include all possible data analysis needs of potential users. Therefore, we expect the user to do customized data analysis independently from the tool.\n",
    "\n",
    "We give an example here, how a reaction kinetics data analysis could look like. First, we have to determine reaction times. For that, we noted the times, when we added all components together in the HPLC vial and use the time stamps in the folder names to calculate the reaction times."
   ]
  },
  {
   "cell_type": "code",
   "execution_count": 28,
   "id": "9ffa3eb3-dc76-4d88-9e11-c1018343c3b1",
   "metadata": {},
   "outputs": [],
   "source": [
    "def timestamp(path):\n",
    "    x = os.path.basename(path)\n",
    "    date, times = x[:x.rfind('_')].split('_')\n",
    "    date = list(map(int, date.split('-')))\n",
    "    times = list(map(int, times.split('-')))\n",
    "    return time.mktime(datetime.datetime(date[0], date[1], date[2], times[0], times[1], times[2]).timetuple())"
   ]
  },
  {
   "cell_type": "code",
   "execution_count": 29,
   "id": "63985dfd-3879-4ddb-bccf-f56148655c68",
   "metadata": {},
   "outputs": [],
   "source": [
    "# start times\n",
    "mix_time = time.mktime(datetime.datetime(2022, 1, 28, 11, 33, 30).timetuple())"
   ]
  },
  {
   "cell_type": "code",
   "execution_count": 30,
   "id": "f77fd0dd-53f9-45b7-a0bb-acc53edafbca",
   "metadata": {},
   "outputs": [],
   "source": [
    "ba_5 = []  # list of time, conc tuples\n",
    "cl_5 = []  # list of time, conc tuples\n",
    "ome_5 = []  # list of time, conc tuples\n",
    "nme2_5 = []  # list of time, conc tuples\n",
    "ba_2 = []  # list of time, conc tuples\n",
    "cl_2 = []  # list of time, conc tuples\n",
    "ome_2 = []  # list of time, conc tuples\n",
    "nme2_2 = []  # list of time, conc tuples\n",
    "\n",
    "chroms_5 = [chrom for chrom in knoev_campaign_5.chroms if not chrom.experiment.compound]\n",
    "chroms_2 = [chrom for chrom in knoev_campaign_2.chroms if not chrom.experiment.compound]\n",
    "for chrom in chroms_5:\n",
    "    t = timestamp(chrom.experiment.path) - mix_time\n",
    "    if \"benzaldehyde\" in chrom:\n",
    "        ba_5.append((t, chrom[\"benzaldehyde\"].concentration))\n",
    "    else:\n",
    "        ba_5.append((t, 0))\n",
    "    if \"4-chlorobenzaldehyde\" in chrom:\n",
    "        cl_5.append((t, chrom[\"4-chlorobenzaldehyde\"].concentration))\n",
    "    else:\n",
    "        cl_5.append((t, 0))\n",
    "    if \"4-methoxybenzaldehyde\" in chrom:\n",
    "        ome_5.append((t, chrom[\"4-methoxybenzaldehyde\"].concentration))\n",
    "    else:\n",
    "        ome_5.append((t, 0))\n",
    "    if \"4-dimethylaminobenzaldehyde\" in chrom:\n",
    "        nme2_5.append((t, chrom[\"4-dimethylaminobenzaldehyde\"].concentration))\n",
    "    else:\n",
    "        nme2_5.append((t, 0))\n",
    "\n",
    "for chrom in chroms_2:\n",
    "    t = timestamp(chrom.experiment.path) - mix_time\n",
    "    if \"benzaldehyde\" in chrom:\n",
    "        ba_2.append((t, chrom[\"benzaldehyde\"].concentration))\n",
    "    else:\n",
    "        ba_2.append((t, 0))\n",
    "    if \"4-chlorobenzaldehyde\" in chrom:\n",
    "        cl_2.append((t, chrom[\"4-chlorobenzaldehyde\"].concentration))\n",
    "    else:\n",
    "        cl_2.append((t, 0))\n",
    "    if \"4-methoxybenzaldehyde\" in chrom:\n",
    "        ome_2.append((t, chrom[\"4-methoxybenzaldehyde\"].concentration))\n",
    "    else:\n",
    "        ome_2.append((t, 0))\n",
    "    if \"4-dimethylaminobenzaldehyde\" in chrom:\n",
    "        nme2_2.append((t, chrom[\"4-dimethylaminobenzaldehyde\"].concentration))\n",
    "    else:\n",
    "        nme2_2.append((t, 0))\n",
    "\n",
    "\n",
    "    "
   ]
  },
  {
   "cell_type": "code",
   "execution_count": 31,
   "id": "6d21b79e-76ad-4897-a12e-e7ec8f816491",
   "metadata": {},
   "outputs": [],
   "source": [
    "import altair as alt\n",
    "import numpy as np\n",
    "import pandas as pd\n",
    "from mocca.visualization.utils import round_to_n\n",
    "from sklearn.linear_model import LinearRegression"
   ]
  },
  {
   "cell_type": "code",
   "execution_count": 32,
   "id": "61ab5b08-f0d9-4fd4-bdd3-8ec5fe3b99fc",
   "metadata": {},
   "outputs": [],
   "source": [
    "def plot_reaction_data(reaction_data, title=\"\"):\n",
    "    x, y = zip(*reaction_data)\n",
    "    x = list(x)\n",
    "    y = [1 / val for val in y]\n",
    "\n",
    "    linear_model = LinearRegression()\n",
    "    x_fit = np.array(x).reshape((-1,1))\n",
    "    linear_model.fit(x_fit, y)\n",
    "    score = linear_model.score(x_fit, y)\n",
    "\n",
    "    slope = linear_model.coef_[0]\n",
    "    y_intercept = linear_model.intercept_\n",
    "\n",
    "    # visualization\n",
    "    curve_annotation_formula = f\"y = {round_to_n(slope, 6)} x + {round_to_n(y_intercept, 3)}\"\n",
    "    curve_annotation_accuracy = f\"R\\u00B2 = {round(score, 4)}\"\n",
    "\n",
    "    xlabel='Reaction time (min)'\n",
    "    ylabel='Inverse Concentration (1/mM)'\n",
    "\n",
    "    df_scatter = pd.DataFrame({\n",
    "        'x': x,\n",
    "        'y': y\n",
    "    })\n",
    "\n",
    "    df_line = pd.DataFrame({\n",
    "        'x': x,\n",
    "        'y': [item * slope + y_intercept for item in x]\n",
    "    })\n",
    "\n",
    "    scatter = alt.Chart(df_scatter, title=title).mark_circle(size=80, opacity=1).encode(\n",
    "        x=alt.X(df_scatter.columns[0], axis=alt.Axis(title=xlabel)),\n",
    "        y=alt.Y(df_scatter.columns[1], axis=alt.Axis(title=ylabel)),\n",
    "        tooltip=[alt.Tooltip(df_scatter.columns[0], title=xlabel), \n",
    "                 alt.Tooltip(df_scatter.columns[1], title=ylabel)]\n",
    "    ).interactive()\n",
    "\n",
    "    chart = alt.Chart(df_line).mark_line(color='black').encode(\n",
    "            x=alt.X(df_line.columns[0], scale = alt.Scale(domain = (0.9 * np.min(x), np.max(x) * 1.1))),\n",
    "            y=alt.Y(df_line.columns[1], scale = alt.Scale(domain = (y[0] - 0.01 * x[0] * slope, \n",
    "                                                                    y[-1] + 0.01 * x[-1] * slope)))\n",
    "        )\n",
    "\n",
    "    if len(df_scatter[df_scatter.columns[0]]) > 1:\n",
    "        annotation_x_loc = (min(df_scatter[df_scatter.columns[0]]) +\n",
    "                            (max(df_scatter[df_scatter.columns[0]] -\n",
    "                                 min(df_scatter[df_scatter.columns[0]]))\n",
    "                             * 0.1))\n",
    "        annotation_y_loc_1 = (min(df_scatter[df_scatter.columns[1]]) +\n",
    "                              (max(df_scatter[df_scatter.columns[1]] -\n",
    "                                   min(df_scatter[df_scatter.columns[1]]))\n",
    "                               * 0.95))\n",
    "        annotation_y_loc_2 = (min(df_scatter[df_scatter.columns[1]]) +\n",
    "                              (max(df_scatter[df_scatter.columns[1]] -\n",
    "                                   min(df_scatter[df_scatter.columns[1]]))\n",
    "                               * 0.75))\n",
    "    else:\n",
    "        annotation_x_loc = df_scatter[df_scatter.columns[0]][0] * 0.98\n",
    "        annotation_y_loc_1 = df_scatter[df_scatter.columns[1]][0] * 0.95\n",
    "        annotation_y_loc_2 = df_scatter[df_scatter.columns[1]][0] * 0.9\n",
    "\n",
    "    annotation_formula = alt.Chart({'values':[{'x': annotation_x_loc,\n",
    "                                               'y': annotation_y_loc_1}]}).mark_text(\n",
    "        text=curve_annotation_formula, align='left'\n",
    "    ).encode(\n",
    "        x='x:Q', y='y:Q'\n",
    "    )\n",
    "\n",
    "    annotation_accuracy = alt.Chart({'values':[{'x': annotation_x_loc,\n",
    "                                               'y': annotation_y_loc_2}]}).mark_text(\n",
    "        text=curve_annotation_accuracy, align='left'\n",
    "    ).encode(\n",
    "        x='x:Q', y='y:Q'\n",
    "    )\n",
    "\n",
    "    fig = chart + scatter + annotation_formula + annotation_accuracy\n",
    "    fig = fig.configure_axis(\n",
    "            grid=False,\n",
    "            titleFontSize = 16,\n",
    "            titleFontWeight='normal'\n",
    "        ).configure_view(\n",
    "            strokeWidth=0\n",
    "        )\n",
    "    return fig"
   ]
  },
  {
   "cell_type": "code",
   "execution_count": 33,
   "id": "18cba59a-60ef-478f-8213-d94c8b7be14f",
   "metadata": {},
   "outputs": [
    {
     "data": {
      "text/html": [
       "\n",
       "<div id=\"altair-viz-5c73c3114eb94e92a2b763dab6a11255\"></div>\n",
       "<script type=\"text/javascript\">\n",
       "  (function(spec, embedOpt){\n",
       "    let outputDiv = document.currentScript.previousElementSibling;\n",
       "    if (outputDiv.id !== \"altair-viz-5c73c3114eb94e92a2b763dab6a11255\") {\n",
       "      outputDiv = document.getElementById(\"altair-viz-5c73c3114eb94e92a2b763dab6a11255\");\n",
       "    }\n",
       "    const paths = {\n",
       "      \"vega\": \"https://cdn.jsdelivr.net/npm//vega@5?noext\",\n",
       "      \"vega-lib\": \"https://cdn.jsdelivr.net/npm//vega-lib?noext\",\n",
       "      \"vega-lite\": \"https://cdn.jsdelivr.net/npm//vega-lite@4.8.1?noext\",\n",
       "      \"vega-embed\": \"https://cdn.jsdelivr.net/npm//vega-embed@6?noext\",\n",
       "    };\n",
       "\n",
       "    function loadScript(lib) {\n",
       "      return new Promise(function(resolve, reject) {\n",
       "        var s = document.createElement('script');\n",
       "        s.src = paths[lib];\n",
       "        s.async = true;\n",
       "        s.onload = () => resolve(paths[lib]);\n",
       "        s.onerror = () => reject(`Error loading script: ${paths[lib]}`);\n",
       "        document.getElementsByTagName(\"head\")[0].appendChild(s);\n",
       "      });\n",
       "    }\n",
       "\n",
       "    function showError(err) {\n",
       "      outputDiv.innerHTML = `<div class=\"error\" style=\"color:red;\">${err}</div>`;\n",
       "      throw err;\n",
       "    }\n",
       "\n",
       "    function displayChart(vegaEmbed) {\n",
       "      vegaEmbed(outputDiv, spec, embedOpt)\n",
       "        .catch(err => showError(`Javascript Error: ${err.message}<br>This usually means there's a typo in your chart specification. See the javascript console for the full traceback.`));\n",
       "    }\n",
       "\n",
       "    if(typeof define === \"function\" && define.amd) {\n",
       "      requirejs.config({paths});\n",
       "      require([\"vega-embed\"], displayChart, err => showError(`Error loading script: ${err.message}`));\n",
       "    } else if (typeof vegaEmbed === \"function\") {\n",
       "      displayChart(vegaEmbed);\n",
       "    } else {\n",
       "      loadScript(\"vega\")\n",
       "        .then(() => loadScript(\"vega-lite\"))\n",
       "        .then(() => loadScript(\"vega-embed\"))\n",
       "        .catch(showError)\n",
       "        .then(() => displayChart(vegaEmbed));\n",
       "    }\n",
       "  })({\"config\": {\"view\": {\"continuousWidth\": 400, \"continuousHeight\": 300, \"strokeWidth\": 0}, \"axis\": {\"grid\": false, \"titleFontSize\": 16, \"titleFontWeight\": \"normal\"}}, \"layer\": [{\"data\": {\"name\": \"data-ffb3f613bb919a479af11a75f5fa206f\"}, \"mark\": {\"type\": \"line\", \"color\": \"black\"}, \"encoding\": {\"x\": {\"type\": \"quantitative\", \"field\": \"x\", \"scale\": {\"domain\": [1797.3, 20607.4]}}, \"y\": {\"type\": \"quantitative\", \"field\": \"y\", \"scale\": {\"domain\": [4.616854739956323, 6.012708493354123]}}}}, {\"data\": {\"name\": \"data-20f6fc3fe95daf85a893e1e455beda4d\"}, \"mark\": {\"type\": \"circle\", \"opacity\": 1, \"size\": 80}, \"encoding\": {\"tooltip\": [{\"type\": \"quantitative\", \"field\": \"x\", \"title\": \"Reaction time (min)\"}, {\"type\": \"quantitative\", \"field\": \"y\", \"title\": \"Inverse Concentration (1/mM)\"}], \"x\": {\"type\": \"quantitative\", \"axis\": {\"title\": \"Reaction time (min)\"}, \"field\": \"x\"}, \"y\": {\"type\": \"quantitative\", \"axis\": {\"title\": \"Inverse Concentration (1/mM)\"}, \"field\": \"y\"}}, \"selection\": {\"selector321\": {\"type\": \"interval\", \"bind\": \"scales\", \"encodings\": [\"x\", \"y\"]}}, \"title\": \"Kinetics benzaldehyde 5 minutes gradient\"}, {\"data\": {\"name\": \"data-732c8b76a60b11cf29c500b4226cb706\"}, \"mark\": {\"type\": \"text\", \"align\": \"left\", \"text\": \"y = 7.414040e-05 x + 4.698\"}, \"encoding\": {\"x\": {\"type\": \"quantitative\", \"field\": \"x\"}, \"y\": {\"type\": \"quantitative\", \"field\": \"y\"}}}, {\"data\": {\"name\": \"data-cbc043198be945b817c2fbd1db044fca\"}, \"mark\": {\"type\": \"text\", \"align\": \"left\", \"text\": \"R\\u00b2 = 0.8462\"}, \"encoding\": {\"x\": {\"type\": \"quantitative\", \"field\": \"x\"}, \"y\": {\"type\": \"quantitative\", \"field\": \"y\"}}}], \"$schema\": \"https://vega.github.io/schema/vega-lite/v4.8.1.json\", \"datasets\": {\"data-ffb3f613bb919a479af11a75f5fa206f\": [{\"x\": 1997.0, \"y\": 4.8457822516862645}, {\"x\": 4389.0, \"y\": 5.023126088325993}, {\"x\": 6781.0, \"y\": 5.200469924965722}, {\"x\": 9174.0, \"y\": 5.377887902005384}, {\"x\": 11560.0, \"y\": 5.554786896245514}, {\"x\": 13952.0, \"y\": 5.732130732885243}, {\"x\": 16346.0, \"y\": 5.909622850324838}, {\"x\": 18734.0, \"y\": 6.086670125364835}], \"data-20f6fc3fe95daf85a893e1e455beda4d\": [{\"x\": 1997.0, \"y\": 4.6183353237429845}, {\"x\": 4389.0, \"y\": 4.9913243676386285}, {\"x\": 6781.0, \"y\": 5.3968879430963534}, {\"x\": 9174.0, \"y\": 5.377788460386144}, {\"x\": 11560.0, \"y\": 5.816843589938567}, {\"x\": 13952.0, \"y\": 5.858226073498485}, {\"x\": 16346.0, \"y\": 5.672251982671953}, {\"x\": 18734.0, \"y\": 5.998819030830675}], \"data-732c8b76a60b11cf29c500b4226cb706\": [{\"x\": 3670.7, \"y\": 5.929794845476291}], \"data-cbc043198be945b817c2fbd1db044fca\": [{\"x\": 3670.7, \"y\": 5.653698104058752}]}}, {\"mode\": \"vega-lite\"});\n",
       "</script>"
      ],
      "text/plain": [
       "alt.LayerChart(...)"
      ]
     },
     "execution_count": 33,
     "metadata": {},
     "output_type": "execute_result"
    }
   ],
   "source": [
    "plot_reaction_data(ba_5, \"Kinetics benzaldehyde 5 minutes gradient\")"
   ]
  },
  {
   "cell_type": "code",
   "execution_count": 34,
   "id": "61685c22-04ab-4fc3-8886-9d915158d6b2",
   "metadata": {},
   "outputs": [
    {
     "data": {
      "text/html": [
       "\n",
       "<div id=\"altair-viz-510db5fe5843404e9d65d5fc254e0c42\"></div>\n",
       "<script type=\"text/javascript\">\n",
       "  (function(spec, embedOpt){\n",
       "    let outputDiv = document.currentScript.previousElementSibling;\n",
       "    if (outputDiv.id !== \"altair-viz-510db5fe5843404e9d65d5fc254e0c42\") {\n",
       "      outputDiv = document.getElementById(\"altair-viz-510db5fe5843404e9d65d5fc254e0c42\");\n",
       "    }\n",
       "    const paths = {\n",
       "      \"vega\": \"https://cdn.jsdelivr.net/npm//vega@5?noext\",\n",
       "      \"vega-lib\": \"https://cdn.jsdelivr.net/npm//vega-lib?noext\",\n",
       "      \"vega-lite\": \"https://cdn.jsdelivr.net/npm//vega-lite@4.8.1?noext\",\n",
       "      \"vega-embed\": \"https://cdn.jsdelivr.net/npm//vega-embed@6?noext\",\n",
       "    };\n",
       "\n",
       "    function loadScript(lib) {\n",
       "      return new Promise(function(resolve, reject) {\n",
       "        var s = document.createElement('script');\n",
       "        s.src = paths[lib];\n",
       "        s.async = true;\n",
       "        s.onload = () => resolve(paths[lib]);\n",
       "        s.onerror = () => reject(`Error loading script: ${paths[lib]}`);\n",
       "        document.getElementsByTagName(\"head\")[0].appendChild(s);\n",
       "      });\n",
       "    }\n",
       "\n",
       "    function showError(err) {\n",
       "      outputDiv.innerHTML = `<div class=\"error\" style=\"color:red;\">${err}</div>`;\n",
       "      throw err;\n",
       "    }\n",
       "\n",
       "    function displayChart(vegaEmbed) {\n",
       "      vegaEmbed(outputDiv, spec, embedOpt)\n",
       "        .catch(err => showError(`Javascript Error: ${err.message}<br>This usually means there's a typo in your chart specification. See the javascript console for the full traceback.`));\n",
       "    }\n",
       "\n",
       "    if(typeof define === \"function\" && define.amd) {\n",
       "      requirejs.config({paths});\n",
       "      require([\"vega-embed\"], displayChart, err => showError(`Error loading script: ${err.message}`));\n",
       "    } else if (typeof vegaEmbed === \"function\") {\n",
       "      displayChart(vegaEmbed);\n",
       "    } else {\n",
       "      loadScript(\"vega\")\n",
       "        .then(() => loadScript(\"vega-lite\"))\n",
       "        .then(() => loadScript(\"vega-embed\"))\n",
       "        .catch(showError)\n",
       "        .then(() => displayChart(vegaEmbed));\n",
       "    }\n",
       "  })({\"config\": {\"view\": {\"continuousWidth\": 400, \"continuousHeight\": 300, \"strokeWidth\": 0}, \"axis\": {\"grid\": false, \"titleFontSize\": 16, \"titleFontWeight\": \"normal\"}}, \"layer\": [{\"data\": {\"name\": \"data-f50583f97fb9ccd1cbf611458a1279f2\"}, \"mark\": {\"type\": \"line\", \"color\": \"black\"}, \"encoding\": {\"x\": {\"type\": \"quantitative\", \"field\": \"x\", \"scale\": {\"domain\": [1797.3, 20607.4]}}, \"y\": {\"type\": \"quantitative\", \"field\": \"y\", \"scale\": {\"domain\": [4.97474788432339, 12.005774591385915]}}}}, {\"data\": {\"name\": \"data-6f88d941734dfcaeb0a95474759ccc8b\"}, \"mark\": {\"type\": \"circle\", \"opacity\": 1, \"size\": 80}, \"encoding\": {\"tooltip\": [{\"type\": \"quantitative\", \"field\": \"x\", \"title\": \"Reaction time (min)\"}, {\"type\": \"quantitative\", \"field\": \"y\", \"title\": \"Inverse Concentration (1/mM)\"}], \"x\": {\"type\": \"quantitative\", \"axis\": {\"title\": \"Reaction time (min)\"}, \"field\": \"x\"}, \"y\": {\"type\": \"quantitative\", \"axis\": {\"title\": \"Inverse Concentration (1/mM)\"}, \"field\": \"y\"}}, \"selection\": {\"selector322\": {\"type\": \"interval\", \"bind\": \"scales\", \"encodings\": [\"x\", \"y\"]}}, \"title\": \"Kinetics 4-chlorobenzaldehyde 5 minutes gradient\"}, {\"data\": {\"name\": \"data-eaecd414a1d282b184c298d38ee391cd\"}, \"mark\": {\"type\": \"text\", \"align\": \"left\", \"text\": \"y = 4.079579e-04 x + 3.993\"}, \"encoding\": {\"x\": {\"type\": \"quantitative\", \"field\": \"x\"}, \"y\": {\"type\": \"quantitative\", \"field\": \"y\"}}}, {\"data\": {\"name\": \"data-c807a6380de6c299921340c6f5bcdd74\"}, \"mark\": {\"type\": \"text\", \"align\": \"left\", \"text\": \"R\\u00b2 = 0.9937\"}, \"encoding\": {\"x\": {\"type\": \"quantitative\", \"field\": \"x\"}, \"y\": {\"type\": \"quantitative\", \"field\": \"y\"}}}], \"$schema\": \"https://vega.github.io/schema/vega-lite/v4.8.1.json\", \"datasets\": {\"data-f50583f97fb9ccd1cbf611458a1279f2\": [{\"x\": 1997.0, \"y\": 4.8074921337402605}, {\"x\": 4389.0, \"y\": 5.783327452002126}, {\"x\": 6781.0, \"y\": 6.759162770263993}, {\"x\": 9174.0, \"y\": 7.73540604643483}, {\"x\": 11560.0, \"y\": 8.708793617242863}, {\"x\": 13952.0, \"y\": 9.68462893550473}, {\"x\": 16346.0, \"y\": 10.66128016958454}, {\"x\": 18734.0, \"y\": 11.635483656210518}], \"data-6f88d941734dfcaeb0a95474759ccc8b\": [{\"x\": 1997.0, \"y\": 4.982894803765568}, {\"x\": 4389.0, \"y\": 5.815809156009425}, {\"x\": 6781.0, \"y\": 6.8324556499056035}, {\"x\": 9174.0, \"y\": 7.4170027777682614}, {\"x\": 11560.0, \"y\": 8.590981518241641}, {\"x\": 13952.0, \"y\": 9.66077821701284}, {\"x\": 16346.0, \"y\": 10.54630490156149}, {\"x\": 18734.0, \"y\": 11.929347756719034}], \"data-eaecd414a1d282b184c298d38ee391cd\": [{\"x\": 3670.7, \"y\": 11.58202510907136}], \"data-c807a6380de6c299921340c6f5bcdd74\": [{\"x\": 3670.7, \"y\": 10.192734518480668}]}}, {\"mode\": \"vega-lite\"});\n",
       "</script>"
      ],
      "text/plain": [
       "alt.LayerChart(...)"
      ]
     },
     "execution_count": 34,
     "metadata": {},
     "output_type": "execute_result"
    }
   ],
   "source": [
    "plot_reaction_data(cl_5, \"Kinetics 4-chlorobenzaldehyde 5 minutes gradient\")"
   ]
  },
  {
   "cell_type": "code",
   "execution_count": 35,
   "id": "d62d9e82-086f-4ed5-a9a2-23b6d0a1c233",
   "metadata": {},
   "outputs": [
    {
     "data": {
      "text/html": [
       "\n",
       "<div id=\"altair-viz-4ea1196c0aaa41e1bb932e350b900e3c\"></div>\n",
       "<script type=\"text/javascript\">\n",
       "  (function(spec, embedOpt){\n",
       "    let outputDiv = document.currentScript.previousElementSibling;\n",
       "    if (outputDiv.id !== \"altair-viz-4ea1196c0aaa41e1bb932e350b900e3c\") {\n",
       "      outputDiv = document.getElementById(\"altair-viz-4ea1196c0aaa41e1bb932e350b900e3c\");\n",
       "    }\n",
       "    const paths = {\n",
       "      \"vega\": \"https://cdn.jsdelivr.net/npm//vega@5?noext\",\n",
       "      \"vega-lib\": \"https://cdn.jsdelivr.net/npm//vega-lib?noext\",\n",
       "      \"vega-lite\": \"https://cdn.jsdelivr.net/npm//vega-lite@4.8.1?noext\",\n",
       "      \"vega-embed\": \"https://cdn.jsdelivr.net/npm//vega-embed@6?noext\",\n",
       "    };\n",
       "\n",
       "    function loadScript(lib) {\n",
       "      return new Promise(function(resolve, reject) {\n",
       "        var s = document.createElement('script');\n",
       "        s.src = paths[lib];\n",
       "        s.async = true;\n",
       "        s.onload = () => resolve(paths[lib]);\n",
       "        s.onerror = () => reject(`Error loading script: ${paths[lib]}`);\n",
       "        document.getElementsByTagName(\"head\")[0].appendChild(s);\n",
       "      });\n",
       "    }\n",
       "\n",
       "    function showError(err) {\n",
       "      outputDiv.innerHTML = `<div class=\"error\" style=\"color:red;\">${err}</div>`;\n",
       "      throw err;\n",
       "    }\n",
       "\n",
       "    function displayChart(vegaEmbed) {\n",
       "      vegaEmbed(outputDiv, spec, embedOpt)\n",
       "        .catch(err => showError(`Javascript Error: ${err.message}<br>This usually means there's a typo in your chart specification. See the javascript console for the full traceback.`));\n",
       "    }\n",
       "\n",
       "    if(typeof define === \"function\" && define.amd) {\n",
       "      requirejs.config({paths});\n",
       "      require([\"vega-embed\"], displayChart, err => showError(`Error loading script: ${err.message}`));\n",
       "    } else if (typeof vegaEmbed === \"function\") {\n",
       "      displayChart(vegaEmbed);\n",
       "    } else {\n",
       "      loadScript(\"vega\")\n",
       "        .then(() => loadScript(\"vega-lite\"))\n",
       "        .then(() => loadScript(\"vega-embed\"))\n",
       "        .catch(showError)\n",
       "        .then(() => displayChart(vegaEmbed));\n",
       "    }\n",
       "  })({\"config\": {\"view\": {\"continuousWidth\": 400, \"continuousHeight\": 300, \"strokeWidth\": 0}, \"axis\": {\"grid\": false, \"titleFontSize\": 16, \"titleFontWeight\": \"normal\"}}, \"layer\": [{\"data\": {\"name\": \"data-8adf12d9844293ef0d4a526b9dde7686\"}, \"mark\": {\"type\": \"line\", \"color\": \"black\"}, \"encoding\": {\"x\": {\"type\": \"quantitative\", \"field\": \"x\", \"scale\": {\"domain\": [1797.3, 20607.4]}}, \"y\": {\"type\": \"quantitative\", \"field\": \"y\", \"scale\": {\"domain\": [3.986581868179051, 4.463955976126052]}}}}, {\"data\": {\"name\": \"data-670801ffc0ba211810fbcb99fe385943\"}, \"mark\": {\"type\": \"circle\", \"opacity\": 1, \"size\": 80}, \"encoding\": {\"tooltip\": [{\"type\": \"quantitative\", \"field\": \"x\", \"title\": \"Reaction time (min)\"}, {\"type\": \"quantitative\", \"field\": \"y\", \"title\": \"Inverse Concentration (1/mM)\"}], \"x\": {\"type\": \"quantitative\", \"axis\": {\"title\": \"Reaction time (min)\"}, \"field\": \"x\"}, \"y\": {\"type\": \"quantitative\", \"axis\": {\"title\": \"Inverse Concentration (1/mM)\"}, \"field\": \"y\"}}, \"selection\": {\"selector323\": {\"type\": \"interval\", \"bind\": \"scales\", \"encodings\": [\"x\", \"y\"]}}, \"title\": \"Kinetics 4-Methoxybenzaldehyde 5 minutes gradient\"}, {\"data\": {\"name\": \"data-2e089119e39b11d6a932d166b9d72872\"}, \"mark\": {\"type\": \"text\", \"align\": \"left\", \"text\": \"y = 2.625637e-05 x + 3.936\"}, \"encoding\": {\"x\": {\"type\": \"quantitative\", \"field\": \"x\"}, \"y\": {\"type\": \"quantitative\", \"field\": \"y\"}}}, {\"data\": {\"name\": \"data-7024c6155f7b00cc24d4ce16983a94ca\"}, \"mark\": {\"type\": \"text\", \"align\": \"left\", \"text\": \"R\\u00b2 = 0.9805\"}, \"encoding\": {\"x\": {\"type\": \"quantitative\", \"field\": \"x\"}, \"y\": {\"type\": \"quantitative\", \"field\": \"y\"}}}], \"$schema\": \"https://vega.github.io/schema/vega-lite/v4.8.1.json\", \"datasets\": {\"data-8adf12d9844293ef0d4a526b9dde7686\": [{\"x\": 1997.0, \"y\": 3.9884464385522054}, {\"x\": 4389.0, \"y\": 4.0512516640411755}, {\"x\": 6781.0, \"y\": 4.114056889530146}, {\"x\": 9174.0, \"y\": 4.176888371384289}, {\"x\": 11560.0, \"y\": 4.2395360586822335}, {\"x\": 13952.0, \"y\": 4.302341284171204}, {\"x\": 16346.0, \"y\": 4.365199022390517}, {\"x\": 18734.0, \"y\": 4.427899222418803}], \"data-670801ffc0ba211810fbcb99fe385943\": [{\"x\": 1997.0, \"y\": 3.9871062077915154}, {\"x\": 4389.0, \"y\": 4.077330581541569}, {\"x\": 6781.0, \"y\": 4.126140660669449}, {\"x\": 9174.0, \"y\": 4.148947596421247}, {\"x\": 11560.0, \"y\": 4.215288542464068}, {\"x\": 13952.0, \"y\": 4.295081972024252}, {\"x\": 16346.0, \"y\": 4.356686281583551}, {\"x\": 18734.0, \"y\": 4.459037108674922}], \"data-2e089119e39b11d6a932d166b9d72872\": [{\"x\": 3670.7, \"y\": 4.435440563630752}], \"data-7024c6155f7b00cc24d4ce16983a94ca\": [{\"x\": 3670.7, \"y\": 4.34105438345407}]}}, {\"mode\": \"vega-lite\"});\n",
       "</script>"
      ],
      "text/plain": [
       "alt.LayerChart(...)"
      ]
     },
     "execution_count": 35,
     "metadata": {},
     "output_type": "execute_result"
    }
   ],
   "source": [
    "plot_reaction_data(ome_5, \"Kinetics 4-Methoxybenzaldehyde 5 minutes gradient\")"
   ]
  },
  {
   "cell_type": "code",
   "execution_count": 36,
   "id": "112c9429-9f0c-458d-821c-75fd91be0ca3",
   "metadata": {},
   "outputs": [
    {
     "data": {
      "text/html": [
       "\n",
       "<div id=\"altair-viz-a5480c64c54d4186b0d6fe2d67c8d42b\"></div>\n",
       "<script type=\"text/javascript\">\n",
       "  (function(spec, embedOpt){\n",
       "    let outputDiv = document.currentScript.previousElementSibling;\n",
       "    if (outputDiv.id !== \"altair-viz-a5480c64c54d4186b0d6fe2d67c8d42b\") {\n",
       "      outputDiv = document.getElementById(\"altair-viz-a5480c64c54d4186b0d6fe2d67c8d42b\");\n",
       "    }\n",
       "    const paths = {\n",
       "      \"vega\": \"https://cdn.jsdelivr.net/npm//vega@5?noext\",\n",
       "      \"vega-lib\": \"https://cdn.jsdelivr.net/npm//vega-lib?noext\",\n",
       "      \"vega-lite\": \"https://cdn.jsdelivr.net/npm//vega-lite@4.8.1?noext\",\n",
       "      \"vega-embed\": \"https://cdn.jsdelivr.net/npm//vega-embed@6?noext\",\n",
       "    };\n",
       "\n",
       "    function loadScript(lib) {\n",
       "      return new Promise(function(resolve, reject) {\n",
       "        var s = document.createElement('script');\n",
       "        s.src = paths[lib];\n",
       "        s.async = true;\n",
       "        s.onload = () => resolve(paths[lib]);\n",
       "        s.onerror = () => reject(`Error loading script: ${paths[lib]}`);\n",
       "        document.getElementsByTagName(\"head\")[0].appendChild(s);\n",
       "      });\n",
       "    }\n",
       "\n",
       "    function showError(err) {\n",
       "      outputDiv.innerHTML = `<div class=\"error\" style=\"color:red;\">${err}</div>`;\n",
       "      throw err;\n",
       "    }\n",
       "\n",
       "    function displayChart(vegaEmbed) {\n",
       "      vegaEmbed(outputDiv, spec, embedOpt)\n",
       "        .catch(err => showError(`Javascript Error: ${err.message}<br>This usually means there's a typo in your chart specification. See the javascript console for the full traceback.`));\n",
       "    }\n",
       "\n",
       "    if(typeof define === \"function\" && define.amd) {\n",
       "      requirejs.config({paths});\n",
       "      require([\"vega-embed\"], displayChart, err => showError(`Error loading script: ${err.message}`));\n",
       "    } else if (typeof vegaEmbed === \"function\") {\n",
       "      displayChart(vegaEmbed);\n",
       "    } else {\n",
       "      loadScript(\"vega\")\n",
       "        .then(() => loadScript(\"vega-lite\"))\n",
       "        .then(() => loadScript(\"vega-embed\"))\n",
       "        .catch(showError)\n",
       "        .then(() => displayChart(vegaEmbed));\n",
       "    }\n",
       "  })({\"config\": {\"view\": {\"continuousWidth\": 400, \"continuousHeight\": 300, \"strokeWidth\": 0}, \"axis\": {\"grid\": false, \"titleFontSize\": 16, \"titleFontWeight\": \"normal\"}}, \"layer\": [{\"data\": {\"name\": \"data-e4ca08a150864739261acfe466e8f046\"}, \"mark\": {\"type\": \"line\", \"color\": \"black\"}, \"encoding\": {\"x\": {\"type\": \"quantitative\", \"field\": \"x\", \"scale\": {\"domain\": [1797.3, 20607.4]}}, \"y\": {\"type\": \"quantitative\", \"field\": \"y\", \"scale\": {\"domain\": [4.072984502202487, 4.113155543261357]}}}}, {\"data\": {\"name\": \"data-30740368cd6e8bb427c1a1d7fb043d7e\"}, \"mark\": {\"type\": \"circle\", \"opacity\": 1, \"size\": 80}, \"encoding\": {\"tooltip\": [{\"type\": \"quantitative\", \"field\": \"x\", \"title\": \"Reaction time (min)\"}, {\"type\": \"quantitative\", \"field\": \"y\", \"title\": \"Inverse Concentration (1/mM)\"}], \"x\": {\"type\": \"quantitative\", \"axis\": {\"title\": \"Reaction time (min)\"}, \"field\": \"x\"}, \"y\": {\"type\": \"quantitative\", \"axis\": {\"title\": \"Inverse Concentration (1/mM)\"}, \"field\": \"y\"}}, \"selection\": {\"selector324\": {\"type\": \"interval\", \"bind\": \"scales\", \"encodings\": [\"x\", \"y\"]}}, \"title\": \"Kinetics 4-dimethylaminobenzaldehyde 5 minutes gradient\"}, {\"data\": {\"name\": \"data-ecc9bf2bc1a4cac829cbbd47d5dd7a4d\"}, \"mark\": {\"type\": \"text\", \"align\": \"left\", \"text\": \"y = 2.252676e-06 x + 4.056\"}, \"encoding\": {\"x\": {\"type\": \"quantitative\", \"field\": \"x\"}, \"y\": {\"type\": \"quantitative\", \"field\": \"y\"}}}, {\"data\": {\"name\": \"data-21ecc00ea0d0d0784b51968f1118f0f4\"}, \"mark\": {\"type\": \"text\", \"align\": \"left\", \"text\": \"R\\u00b2 = 0.4495\"}, \"encoding\": {\"x\": {\"type\": \"quantitative\", \"field\": \"x\"}, \"y\": {\"type\": \"quantitative\", \"field\": \"y\"}}}], \"$schema\": \"https://vega.github.io/schema/vega-lite/v4.8.1.json\", \"datasets\": {\"data-e4ca08a150864739261acfe466e8f046\": [{\"x\": 1997.0, \"y\": 4.0603669028366545}, {\"x\": 4389.0, \"y\": 4.065755304155596}, {\"x\": 6781.0, \"y\": 4.071143705474538}, {\"x\": 9174.0, \"y\": 4.076534359469616}, {\"x\": 11560.0, \"y\": 4.0819092447317376}, {\"x\": 13952.0, \"y\": 4.087297646050679}, {\"x\": 16346.0, \"y\": 4.092690552721894}, {\"x\": 18734.0, \"y\": 4.09806994333629}], \"data-30740368cd6e8bb427c1a1d7fb043d7e\": [{\"x\": 1997.0, \"y\": 4.073029488144936}, {\"x\": 4389.0, \"y\": 4.0748941670170895}, {\"x\": 6781.0, \"y\": 4.067026422224851}, {\"x\": 9174.0, \"y\": 4.044865239744733}, {\"x\": 11560.0, \"y\": 4.083946490140841}, {\"x\": 13952.0, \"y\": 4.087636118140099}, {\"x\": 16346.0, \"y\": 4.08963620645054}, {\"x\": 18734.0, \"y\": 4.112733526913911}], \"data-ecc9bf2bc1a4cac829cbbd47d5dd7a4d\": [{\"x\": 3670.7, \"y\": 4.1093401125554525}], \"data-21ecc00ea0d0d0784b51968f1118f0f4\": [{\"x\": 3670.7, \"y\": 4.095766455121616}]}}, {\"mode\": \"vega-lite\"});\n",
       "</script>"
      ],
      "text/plain": [
       "alt.LayerChart(...)"
      ]
     },
     "execution_count": 36,
     "metadata": {},
     "output_type": "execute_result"
    }
   ],
   "source": [
    "plot_reaction_data(nme2_5, \"Kinetics 4-dimethylaminobenzaldehyde 5 minutes gradient\")"
   ]
  },
  {
   "cell_type": "code",
   "execution_count": 37,
   "id": "981a634d-be8e-40b5-be29-22d727605f8a",
   "metadata": {},
   "outputs": [
    {
     "data": {
      "text/html": [
       "\n",
       "<div id=\"altair-viz-b56ded569c4845d8962415bc77d97aff\"></div>\n",
       "<script type=\"text/javascript\">\n",
       "  (function(spec, embedOpt){\n",
       "    let outputDiv = document.currentScript.previousElementSibling;\n",
       "    if (outputDiv.id !== \"altair-viz-b56ded569c4845d8962415bc77d97aff\") {\n",
       "      outputDiv = document.getElementById(\"altair-viz-b56ded569c4845d8962415bc77d97aff\");\n",
       "    }\n",
       "    const paths = {\n",
       "      \"vega\": \"https://cdn.jsdelivr.net/npm//vega@5?noext\",\n",
       "      \"vega-lib\": \"https://cdn.jsdelivr.net/npm//vega-lib?noext\",\n",
       "      \"vega-lite\": \"https://cdn.jsdelivr.net/npm//vega-lite@4.8.1?noext\",\n",
       "      \"vega-embed\": \"https://cdn.jsdelivr.net/npm//vega-embed@6?noext\",\n",
       "    };\n",
       "\n",
       "    function loadScript(lib) {\n",
       "      return new Promise(function(resolve, reject) {\n",
       "        var s = document.createElement('script');\n",
       "        s.src = paths[lib];\n",
       "        s.async = true;\n",
       "        s.onload = () => resolve(paths[lib]);\n",
       "        s.onerror = () => reject(`Error loading script: ${paths[lib]}`);\n",
       "        document.getElementsByTagName(\"head\")[0].appendChild(s);\n",
       "      });\n",
       "    }\n",
       "\n",
       "    function showError(err) {\n",
       "      outputDiv.innerHTML = `<div class=\"error\" style=\"color:red;\">${err}</div>`;\n",
       "      throw err;\n",
       "    }\n",
       "\n",
       "    function displayChart(vegaEmbed) {\n",
       "      vegaEmbed(outputDiv, spec, embedOpt)\n",
       "        .catch(err => showError(`Javascript Error: ${err.message}<br>This usually means there's a typo in your chart specification. See the javascript console for the full traceback.`));\n",
       "    }\n",
       "\n",
       "    if(typeof define === \"function\" && define.amd) {\n",
       "      requirejs.config({paths});\n",
       "      require([\"vega-embed\"], displayChart, err => showError(`Error loading script: ${err.message}`));\n",
       "    } else if (typeof vegaEmbed === \"function\") {\n",
       "      displayChart(vegaEmbed);\n",
       "    } else {\n",
       "      loadScript(\"vega\")\n",
       "        .then(() => loadScript(\"vega-lite\"))\n",
       "        .then(() => loadScript(\"vega-embed\"))\n",
       "        .catch(showError)\n",
       "        .then(() => displayChart(vegaEmbed));\n",
       "    }\n",
       "  })({\"config\": {\"view\": {\"continuousWidth\": 400, \"continuousHeight\": 300, \"strokeWidth\": 0}, \"axis\": {\"grid\": false, \"titleFontSize\": 16, \"titleFontWeight\": \"normal\"}}, \"layer\": [{\"data\": {\"name\": \"data-431d69b7c826b3c7a932752f009afd41\"}, \"mark\": {\"type\": \"line\", \"color\": \"black\"}, \"encoding\": {\"x\": {\"type\": \"quantitative\", \"field\": \"x\", \"scale\": {\"domain\": [1462.5, 20198.2]}}, \"y\": {\"type\": \"quantitative\", \"field\": \"y\", \"scale\": {\"domain\": [8.653631567393443, 15.279604834058473]}}}}, {\"data\": {\"name\": \"data-2b9422d76bb736946adf482af1a3e1b2\"}, \"mark\": {\"type\": \"circle\", \"opacity\": 1, \"size\": 80}, \"encoding\": {\"tooltip\": [{\"type\": \"quantitative\", \"field\": \"x\", \"title\": \"Reaction time (min)\"}, {\"type\": \"quantitative\", \"field\": \"y\", \"title\": \"Inverse Concentration (1/mM)\"}], \"x\": {\"type\": \"quantitative\", \"axis\": {\"title\": \"Reaction time (min)\"}, \"field\": \"x\"}, \"y\": {\"type\": \"quantitative\", \"axis\": {\"title\": \"Inverse Concentration (1/mM)\"}, \"field\": \"y\"}}, \"selection\": {\"selector325\": {\"type\": \"interval\", \"bind\": \"scales\", \"encodings\": [\"x\", \"y\"]}}, \"title\": \"Kinetics benzaldehyde 2 minutes gradient\"}, {\"data\": {\"name\": \"data-df62bb270839f0b74e25a1315f892b6c\"}, \"mark\": {\"type\": \"text\", \"align\": \"left\", \"text\": \"y = 4.349292e-04 x + 8.176\"}, \"encoding\": {\"x\": {\"type\": \"quantitative\", \"field\": \"x\"}, \"y\": {\"type\": \"quantitative\", \"field\": \"y\"}}}, {\"data\": {\"name\": \"data-ff2c75f5e45d2b178d89166d372b2886\"}, \"mark\": {\"type\": \"text\", \"align\": \"left\", \"text\": \"R\\u00b2 = 0.7666\"}, \"encoding\": {\"x\": {\"type\": \"quantitative\", \"field\": \"x\"}, \"y\": {\"type\": \"quantitative\", \"field\": \"y\"}}}], \"$schema\": \"https://vega.github.io/schema/vega-lite/v4.8.1.json\", \"datasets\": {\"data-431d69b7c826b3c7a932752f009afd41\": [{\"x\": 1625.0, \"y\": 8.88240250803668}, {\"x\": 4015.0, \"y\": 9.921883296926662}, {\"x\": 6406.0, \"y\": 10.961799015017014}, {\"x\": 8801.0, \"y\": 12.003454449908858}, {\"x\": 11188.0, \"y\": 13.041630451197722}, {\"x\": 13579.0, \"y\": 14.081546169288075}, {\"x\": 15973.0, \"y\": 15.122766674979545}, {\"x\": 18362.0, \"y\": 16.161812534669153}], \"data-2b9422d76bb736946adf482af1a3e1b2\": [{\"x\": 1625.0, \"y\": 8.660699166899494}, {\"x\": 4015.0, \"y\": 8.123372926095458}, {\"x\": 6406.0, \"y\": 10.614771887624137}, {\"x\": 8801.0, \"y\": 14.734007004735298}, {\"x\": 11188.0, \"y\": 14.221175143351713}, {\"x\": 13579.0, \"y\": 14.282701978860485}, {\"x\": 15973.0, \"y\": 14.340823858171035}, {\"x\": 18362.0, \"y\": 15.199743134286097}], \"data-df62bb270839f0b74e25a1315f892b6c\": [{\"x\": 3298.7, \"y\": 14.845924623876565}], \"data-ff2c75f5e45d2b178d89166d372b2886\": [{\"x\": 3298.7, \"y\": 13.430650582238437}]}}, {\"mode\": \"vega-lite\"});\n",
       "</script>"
      ],
      "text/plain": [
       "alt.LayerChart(...)"
      ]
     },
     "execution_count": 37,
     "metadata": {},
     "output_type": "execute_result"
    }
   ],
   "source": [
    "plot_reaction_data(ba_2, \"Kinetics benzaldehyde 2 minutes gradient\")"
   ]
  },
  {
   "cell_type": "code",
   "execution_count": 38,
   "id": "64e1e2ee-5420-4b02-9944-003f65567dcd",
   "metadata": {},
   "outputs": [
    {
     "data": {
      "text/html": [
       "\n",
       "<div id=\"altair-viz-55b3a0d0bf11431da7f856dd9b1ee324\"></div>\n",
       "<script type=\"text/javascript\">\n",
       "  (function(spec, embedOpt){\n",
       "    let outputDiv = document.currentScript.previousElementSibling;\n",
       "    if (outputDiv.id !== \"altair-viz-55b3a0d0bf11431da7f856dd9b1ee324\") {\n",
       "      outputDiv = document.getElementById(\"altair-viz-55b3a0d0bf11431da7f856dd9b1ee324\");\n",
       "    }\n",
       "    const paths = {\n",
       "      \"vega\": \"https://cdn.jsdelivr.net/npm//vega@5?noext\",\n",
       "      \"vega-lib\": \"https://cdn.jsdelivr.net/npm//vega-lib?noext\",\n",
       "      \"vega-lite\": \"https://cdn.jsdelivr.net/npm//vega-lite@4.8.1?noext\",\n",
       "      \"vega-embed\": \"https://cdn.jsdelivr.net/npm//vega-embed@6?noext\",\n",
       "    };\n",
       "\n",
       "    function loadScript(lib) {\n",
       "      return new Promise(function(resolve, reject) {\n",
       "        var s = document.createElement('script');\n",
       "        s.src = paths[lib];\n",
       "        s.async = true;\n",
       "        s.onload = () => resolve(paths[lib]);\n",
       "        s.onerror = () => reject(`Error loading script: ${paths[lib]}`);\n",
       "        document.getElementsByTagName(\"head\")[0].appendChild(s);\n",
       "      });\n",
       "    }\n",
       "\n",
       "    function showError(err) {\n",
       "      outputDiv.innerHTML = `<div class=\"error\" style=\"color:red;\">${err}</div>`;\n",
       "      throw err;\n",
       "    }\n",
       "\n",
       "    function displayChart(vegaEmbed) {\n",
       "      vegaEmbed(outputDiv, spec, embedOpt)\n",
       "        .catch(err => showError(`Javascript Error: ${err.message}<br>This usually means there's a typo in your chart specification. See the javascript console for the full traceback.`));\n",
       "    }\n",
       "\n",
       "    if(typeof define === \"function\" && define.amd) {\n",
       "      requirejs.config({paths});\n",
       "      require([\"vega-embed\"], displayChart, err => showError(`Error loading script: ${err.message}`));\n",
       "    } else if (typeof vegaEmbed === \"function\") {\n",
       "      displayChart(vegaEmbed);\n",
       "    } else {\n",
       "      loadScript(\"vega\")\n",
       "        .then(() => loadScript(\"vega-lite\"))\n",
       "        .then(() => loadScript(\"vega-embed\"))\n",
       "        .catch(showError)\n",
       "        .then(() => displayChart(vegaEmbed));\n",
       "    }\n",
       "  })({\"config\": {\"view\": {\"continuousWidth\": 400, \"continuousHeight\": 300, \"strokeWidth\": 0}, \"axis\": {\"grid\": false, \"titleFontSize\": 16, \"titleFontWeight\": \"normal\"}}, \"layer\": [{\"data\": {\"name\": \"data-b0deeff74d174e31c94ce5ade0ef9075\"}, \"mark\": {\"type\": \"line\", \"color\": \"black\"}, \"encoding\": {\"x\": {\"type\": \"quantitative\", \"field\": \"x\", \"scale\": {\"domain\": [1462.5, 20198.2]}}, \"y\": {\"type\": \"quantitative\", \"field\": \"y\", \"scale\": {\"domain\": [4.752407630459673, 11.282053832937413]}}}}, {\"data\": {\"name\": \"data-4aa3df21e5103a0374201dbccc014fb4\"}, \"mark\": {\"type\": \"circle\", \"opacity\": 1, \"size\": 80}, \"encoding\": {\"tooltip\": [{\"type\": \"quantitative\", \"field\": \"x\", \"title\": \"Reaction time (min)\"}, {\"type\": \"quantitative\", \"field\": \"y\", \"title\": \"Inverse Concentration (1/mM)\"}], \"x\": {\"type\": \"quantitative\", \"axis\": {\"title\": \"Reaction time (min)\"}, \"field\": \"x\"}, \"y\": {\"type\": \"quantitative\", \"axis\": {\"title\": \"Inverse Concentration (1/mM)\"}, \"field\": \"y\"}}, \"selection\": {\"selector326\": {\"type\": \"interval\", \"bind\": \"scales\", \"encodings\": [\"x\", \"y\"]}}, \"title\": \"Kinetics 4-chlorobenzaldehyde 2 minutes gradient\"}, {\"data\": {\"name\": \"data-59100819971a7d63a1d9bf2ca780a833\"}, \"mark\": {\"type\": \"text\", \"align\": \"left\", \"text\": \"y = 3.886160e-04 x + 3.852\"}, \"encoding\": {\"x\": {\"type\": \"quantitative\", \"field\": \"x\"}, \"y\": {\"type\": \"quantitative\", \"field\": \"y\"}}}, {\"data\": {\"name\": \"data-fcbe952dc2d6f338b1a321d00f957b50\"}, \"mark\": {\"type\": \"text\", \"align\": \"left\", \"text\": \"R\\u00b2 = 0.9802\"}, \"encoding\": {\"x\": {\"type\": \"quantitative\", \"field\": \"x\"}, \"y\": {\"type\": \"quantitative\", \"field\": \"y\"}}}], \"$schema\": \"https://vega.github.io/schema/vega-lite/v4.8.1.json\", \"datasets\": {\"data-b0deeff74d174e31c94ce5ade0ef9075\": [{\"x\": 1625.0, \"y\": 4.483136092507358}, {\"x\": 4015.0, \"y\": 5.411928256812477}, {\"x\": 6406.0, \"y\": 6.341109037085925}, {\"x\": 8801.0, \"y\": 7.271844281232686}, {\"x\": 11188.0, \"y\": 8.19947059763282}, {\"x\": 13579.0, \"y\": 9.128651377906266}, {\"x\": 15973.0, \"y\": 10.0589980060847}, {\"x\": 18362.0, \"y\": 10.98740155442149}], \"data-4aa3df21e5103a0374201dbccc014fb4\": [{\"x\": 1625.0, \"y\": 4.758722639945011}, {\"x\": 4015.0, \"y\": 5.666154677520209}, {\"x\": 6406.0, \"y\": 6.156322462294051}, {\"x\": 8801.0, \"y\": 6.925248598553413}, {\"x\": 11188.0, \"y\": 7.629473577625955}, {\"x\": 13579.0, \"y\": 9.346015058070359}, {\"x\": 15973.0, \"y\": 10.189906020841784}, {\"x\": 18362.0, \"y\": 11.210696168832934}], \"data-59100819971a7d63a1d9bf2ca780a833\": [{\"x\": 3298.7, \"y\": 10.888097492388537}], \"data-fcbe952dc2d6f338b1a321d00f957b50\": [{\"x\": 3298.7, \"y\": 9.597702786610952}]}}, {\"mode\": \"vega-lite\"});\n",
       "</script>"
      ],
      "text/plain": [
       "alt.LayerChart(...)"
      ]
     },
     "execution_count": 38,
     "metadata": {},
     "output_type": "execute_result"
    }
   ],
   "source": [
    "plot_reaction_data(cl_2, \"Kinetics 4-chlorobenzaldehyde 2 minutes gradient\")"
   ]
  },
  {
   "cell_type": "code",
   "execution_count": 39,
   "id": "c84fbc8e-41b1-43aa-85a1-856ec1c0a3ea",
   "metadata": {},
   "outputs": [
    {
     "data": {
      "text/html": [
       "\n",
       "<div id=\"altair-viz-b3acd4f0234148f7b779d8bd0ea22786\"></div>\n",
       "<script type=\"text/javascript\">\n",
       "  (function(spec, embedOpt){\n",
       "    let outputDiv = document.currentScript.previousElementSibling;\n",
       "    if (outputDiv.id !== \"altair-viz-b3acd4f0234148f7b779d8bd0ea22786\") {\n",
       "      outputDiv = document.getElementById(\"altair-viz-b3acd4f0234148f7b779d8bd0ea22786\");\n",
       "    }\n",
       "    const paths = {\n",
       "      \"vega\": \"https://cdn.jsdelivr.net/npm//vega@5?noext\",\n",
       "      \"vega-lib\": \"https://cdn.jsdelivr.net/npm//vega-lib?noext\",\n",
       "      \"vega-lite\": \"https://cdn.jsdelivr.net/npm//vega-lite@4.8.1?noext\",\n",
       "      \"vega-embed\": \"https://cdn.jsdelivr.net/npm//vega-embed@6?noext\",\n",
       "    };\n",
       "\n",
       "    function loadScript(lib) {\n",
       "      return new Promise(function(resolve, reject) {\n",
       "        var s = document.createElement('script');\n",
       "        s.src = paths[lib];\n",
       "        s.async = true;\n",
       "        s.onload = () => resolve(paths[lib]);\n",
       "        s.onerror = () => reject(`Error loading script: ${paths[lib]}`);\n",
       "        document.getElementsByTagName(\"head\")[0].appendChild(s);\n",
       "      });\n",
       "    }\n",
       "\n",
       "    function showError(err) {\n",
       "      outputDiv.innerHTML = `<div class=\"error\" style=\"color:red;\">${err}</div>`;\n",
       "      throw err;\n",
       "    }\n",
       "\n",
       "    function displayChart(vegaEmbed) {\n",
       "      vegaEmbed(outputDiv, spec, embedOpt)\n",
       "        .catch(err => showError(`Javascript Error: ${err.message}<br>This usually means there's a typo in your chart specification. See the javascript console for the full traceback.`));\n",
       "    }\n",
       "\n",
       "    if(typeof define === \"function\" && define.amd) {\n",
       "      requirejs.config({paths});\n",
       "      require([\"vega-embed\"], displayChart, err => showError(`Error loading script: ${err.message}`));\n",
       "    } else if (typeof vegaEmbed === \"function\") {\n",
       "      displayChart(vegaEmbed);\n",
       "    } else {\n",
       "      loadScript(\"vega\")\n",
       "        .then(() => loadScript(\"vega-lite\"))\n",
       "        .then(() => loadScript(\"vega-embed\"))\n",
       "        .catch(showError)\n",
       "        .then(() => displayChart(vegaEmbed));\n",
       "    }\n",
       "  })({\"config\": {\"view\": {\"continuousWidth\": 400, \"continuousHeight\": 300, \"strokeWidth\": 0}, \"axis\": {\"grid\": false, \"titleFontSize\": 16, \"titleFontWeight\": \"normal\"}}, \"layer\": [{\"data\": {\"name\": \"data-4a4821471d9367b750e038b2da455239\"}, \"mark\": {\"type\": \"line\", \"color\": \"black\"}, \"encoding\": {\"x\": {\"type\": \"quantitative\", \"field\": \"x\", \"scale\": {\"domain\": [1462.5, 20198.2]}}, \"y\": {\"type\": \"quantitative\", \"field\": \"y\", \"scale\": {\"domain\": [4.286253764325417, 4.748933519542222]}}}}, {\"data\": {\"name\": \"data-9b3d1371f941ea5251f73ad0f65c7825\"}, \"mark\": {\"type\": \"circle\", \"opacity\": 1, \"size\": 80}, \"encoding\": {\"tooltip\": [{\"type\": \"quantitative\", \"field\": \"x\", \"title\": \"Reaction time (min)\"}, {\"type\": \"quantitative\", \"field\": \"y\", \"title\": \"Inverse Concentration (1/mM)\"}], \"x\": {\"type\": \"quantitative\", \"axis\": {\"title\": \"Reaction time (min)\"}, \"field\": \"x\"}, \"y\": {\"type\": \"quantitative\", \"axis\": {\"title\": \"Inverse Concentration (1/mM)\"}, \"field\": \"y\"}}, \"selection\": {\"selector327\": {\"type\": \"interval\", \"bind\": \"scales\", \"encodings\": [\"x\", \"y\"]}}, \"title\": \"Kinetics 4-Methoxybenzaldehyde 2 minutes gradient\"}, {\"data\": {\"name\": \"data-dec0f3240779c2e31a25853085d5fba2\"}, \"mark\": {\"type\": \"text\", \"align\": \"left\", \"text\": \"y = 2.974785e-05 x + 4.263\"}, \"encoding\": {\"x\": {\"type\": \"quantitative\", \"field\": \"x\"}, \"y\": {\"type\": \"quantitative\", \"field\": \"y\"}}}, {\"data\": {\"name\": \"data-94d2211dddeed254485836f8c9be0ce3\"}, \"mark\": {\"type\": \"text\", \"align\": \"left\", \"text\": \"R\\u00b2 = 0.8282\"}, \"encoding\": {\"x\": {\"type\": \"quantitative\", \"field\": \"x\"}, \"y\": {\"type\": \"quantitative\", \"field\": \"y\"}}}], \"$schema\": \"https://vega.github.io/schema/vega-lite/v4.8.1.json\", \"datasets\": {\"data-4a4821471d9367b750e038b2da455239\": [{\"x\": 1625.0, \"y\": 4.311545915827637}, {\"x\": 4015.0, \"y\": 4.382643280034464}, {\"x\": 6406.0, \"y\": 4.453770392092425}, {\"x\": 8801.0, \"y\": 4.525016495554915}, {\"x\": 11188.0, \"y\": 4.596024616208345}, {\"x\": 13579.0, \"y\": 4.667151728266305}, {\"x\": 15973.0, \"y\": 4.7383680838776625}, {\"x\": 18362.0, \"y\": 4.809435700233358}], \"data-9b3d1371f941ea5251f73ad0f65c7825\": [{\"x\": 1625.0, \"y\": 4.28673716690632}, {\"x\": 4015.0, \"y\": 4.302883141805184}, {\"x\": 6406.0, \"y\": 4.416097649577459}, {\"x\": 8801.0, \"y\": 4.6738327887416045}, {\"x\": 11188.0, \"y\": 4.679392730216289}, {\"x\": 13579.0, \"y\": 4.686502924782663}, {\"x\": 15973.0, \"y\": 4.695038590948332}, {\"x\": 18362.0, \"y\": 4.743471219117261}], \"data-dec0f3240779c2e31a25853085d5fba2\": [{\"x\": 3298.7, \"y\": 4.720634516506713}], \"data-94d2211dddeed254485836f8c9be0ce3\": [{\"x\": 3298.7, \"y\": 4.629287706064526}]}}, {\"mode\": \"vega-lite\"});\n",
       "</script>"
      ],
      "text/plain": [
       "alt.LayerChart(...)"
      ]
     },
     "execution_count": 39,
     "metadata": {},
     "output_type": "execute_result"
    }
   ],
   "source": [
    "plot_reaction_data(ome_2, \"Kinetics 4-Methoxybenzaldehyde 2 minutes gradient\")"
   ]
  },
  {
   "cell_type": "code",
   "execution_count": 40,
   "id": "12ffb43a-155f-4310-9860-b4f292078624",
   "metadata": {},
   "outputs": [
    {
     "data": {
      "text/html": [
       "\n",
       "<div id=\"altair-viz-6bde4e6f933245d5a0a88fe98c73e33e\"></div>\n",
       "<script type=\"text/javascript\">\n",
       "  (function(spec, embedOpt){\n",
       "    let outputDiv = document.currentScript.previousElementSibling;\n",
       "    if (outputDiv.id !== \"altair-viz-6bde4e6f933245d5a0a88fe98c73e33e\") {\n",
       "      outputDiv = document.getElementById(\"altair-viz-6bde4e6f933245d5a0a88fe98c73e33e\");\n",
       "    }\n",
       "    const paths = {\n",
       "      \"vega\": \"https://cdn.jsdelivr.net/npm//vega@5?noext\",\n",
       "      \"vega-lib\": \"https://cdn.jsdelivr.net/npm//vega-lib?noext\",\n",
       "      \"vega-lite\": \"https://cdn.jsdelivr.net/npm//vega-lite@4.8.1?noext\",\n",
       "      \"vega-embed\": \"https://cdn.jsdelivr.net/npm//vega-embed@6?noext\",\n",
       "    };\n",
       "\n",
       "    function loadScript(lib) {\n",
       "      return new Promise(function(resolve, reject) {\n",
       "        var s = document.createElement('script');\n",
       "        s.src = paths[lib];\n",
       "        s.async = true;\n",
       "        s.onload = () => resolve(paths[lib]);\n",
       "        s.onerror = () => reject(`Error loading script: ${paths[lib]}`);\n",
       "        document.getElementsByTagName(\"head\")[0].appendChild(s);\n",
       "      });\n",
       "    }\n",
       "\n",
       "    function showError(err) {\n",
       "      outputDiv.innerHTML = `<div class=\"error\" style=\"color:red;\">${err}</div>`;\n",
       "      throw err;\n",
       "    }\n",
       "\n",
       "    function displayChart(vegaEmbed) {\n",
       "      vegaEmbed(outputDiv, spec, embedOpt)\n",
       "        .catch(err => showError(`Javascript Error: ${err.message}<br>This usually means there's a typo in your chart specification. See the javascript console for the full traceback.`));\n",
       "    }\n",
       "\n",
       "    if(typeof define === \"function\" && define.amd) {\n",
       "      requirejs.config({paths});\n",
       "      require([\"vega-embed\"], displayChart, err => showError(`Error loading script: ${err.message}`));\n",
       "    } else if (typeof vegaEmbed === \"function\") {\n",
       "      displayChart(vegaEmbed);\n",
       "    } else {\n",
       "      loadScript(\"vega\")\n",
       "        .then(() => loadScript(\"vega-lite\"))\n",
       "        .then(() => loadScript(\"vega-embed\"))\n",
       "        .catch(showError)\n",
       "        .then(() => displayChart(vegaEmbed));\n",
       "    }\n",
       "  })({\"config\": {\"view\": {\"continuousWidth\": 400, \"continuousHeight\": 300, \"strokeWidth\": 0}, \"axis\": {\"grid\": false, \"titleFontSize\": 16, \"titleFontWeight\": \"normal\"}}, \"layer\": [{\"data\": {\"name\": \"data-fe764d6ca4735feaaffc6072a47efcfa\"}, \"mark\": {\"type\": \"line\", \"color\": \"black\"}, \"encoding\": {\"x\": {\"type\": \"quantitative\", \"field\": \"x\", \"scale\": {\"domain\": [1462.5, 20198.2]}}, \"y\": {\"type\": \"quantitative\", \"field\": \"y\", \"scale\": {\"domain\": [4.1867136267237735, 4.204048327180929]}}}}, {\"data\": {\"name\": \"data-211d40feff00ec70857965da3b25c44c\"}, \"mark\": {\"type\": \"circle\", \"opacity\": 1, \"size\": 80}, \"encoding\": {\"tooltip\": [{\"type\": \"quantitative\", \"field\": \"x\", \"title\": \"Reaction time (min)\"}, {\"type\": \"quantitative\", \"field\": \"y\", \"title\": \"Inverse Concentration (1/mM)\"}], \"x\": {\"type\": \"quantitative\", \"axis\": {\"title\": \"Reaction time (min)\"}, \"field\": \"x\"}, \"y\": {\"type\": \"quantitative\", \"axis\": {\"title\": \"Inverse Concentration (1/mM)\"}, \"field\": \"y\"}}, \"selection\": {\"selector328\": {\"type\": \"interval\", \"bind\": \"scales\", \"encodings\": [\"x\", \"y\"]}}, \"title\": \"Kinetics 4-dimethylaminobenzaldehyde 2 minutes gradient\"}, {\"data\": {\"name\": \"data-aeb3eedcbb49c7b5ad6cb7706a9a8ee7\"}, \"mark\": {\"type\": \"text\", \"align\": \"left\", \"text\": \"y = 3.894949e-06 x + 4.161\"}, \"encoding\": {\"x\": {\"type\": \"quantitative\", \"field\": \"x\"}, \"y\": {\"type\": \"quantitative\", \"field\": \"y\"}}}, {\"data\": {\"name\": \"data-ed8186997466bc4dc92e41eb78535b1c\"}, \"mark\": {\"type\": \"text\", \"align\": \"left\", \"text\": \"R\\u00b2 = 0.1975\"}, \"encoding\": {\"x\": {\"type\": \"quantitative\", \"field\": \"x\"}, \"y\": {\"type\": \"quantitative\", \"field\": \"y\"}}}], \"$schema\": \"https://vega.github.io/schema/vega-lite/v4.8.1.json\", \"datasets\": {\"data-fe764d6ca4735feaaffc6072a47efcfa\": [{\"x\": 1625.0, \"y\": 4.167733513432947}, {\"x\": 4015.0, \"y\": 4.177042440369538}, {\"x\": 6406.0, \"y\": 4.18635526225464}, {\"x\": 8801.0, \"y\": 4.195683663933777}, {\"x\": 11188.0, \"y\": 4.204980906024842}, {\"x\": 13579.0, \"y\": 4.214293727909943}, {\"x\": 15973.0, \"y\": 4.223618234640571}, {\"x\": 18362.0, \"y\": 4.232923266628654}], \"data-211d40feff00ec70857965da3b25c44c\": [{\"x\": 1625.0, \"y\": 4.186776919637046}, {\"x\": 4015.0, \"y\": 4.092820673607582}, {\"x\": 6406.0, \"y\": 4.183392906677031}, {\"x\": 8801.0, \"y\": 4.262956306007203}, {\"x\": 11188.0, \"y\": 4.244442943653183}, {\"x\": 13579.0, \"y\": 4.222745645711766}, {\"x\": 15973.0, \"y\": 4.206162483165402}, {\"x\": 18362.0, \"y\": 4.2033331367357}], \"data-aeb3eedcbb49c7b5ad6cb7706a9a8ee7\": [{\"x\": 3298.7, \"y\": 4.254449524387222}], \"data-ed8186997466bc4dc92e41eb78535b1c\": [{\"x\": 3298.7, \"y\": 4.2204223979072975}]}}, {\"mode\": \"vega-lite\"});\n",
       "</script>"
      ],
      "text/plain": [
       "alt.LayerChart(...)"
      ]
     },
     "execution_count": 40,
     "metadata": {},
     "output_type": "execute_result"
    }
   ],
   "source": [
    "plot_reaction_data(nme2_2, \"Kinetics 4-dimethylaminobenzaldehyde 2 minutes gradient\")"
   ]
  },
  {
   "cell_type": "code",
   "execution_count": null,
   "id": "1b4699fd-2fbe-477d-a2d8-f3b7f2badce4",
   "metadata": {},
   "outputs": [],
   "source": []
  }
 ],
 "metadata": {
  "kernelspec": {
   "display_name": "mocca-dev",
   "language": "python",
   "name": "mocca-dev"
  },
  "language_info": {
   "codemirror_mode": {
    "name": "ipython",
    "version": 3
   },
   "file_extension": ".py",
   "mimetype": "text/x-python",
   "name": "python",
   "nbconvert_exporter": "python",
   "pygments_lexer": "ipython3",
   "version": "3.9.7"
  }
 },
 "nbformat": 4,
 "nbformat_minor": 5
}
